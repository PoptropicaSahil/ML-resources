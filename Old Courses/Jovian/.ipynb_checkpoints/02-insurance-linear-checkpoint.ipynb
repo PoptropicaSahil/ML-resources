{
 "cells": [
  {
   "cell_type": "markdown",
   "metadata": {
    "_cell_guid": "b1076dfc-b9ad-4769-8c92-a6c4dae69d19",
    "_uuid": "8f2839f25d086af736a60e9eeb907d3b93b6e0e5",
    "id": "-JiWE8RZj4Nd"
   },
   "source": [
    "# Insurance cost prediction using linear regression\n",
    "\n",
    "Make a submisson here: https://jovian.ai/learn/deep-learning-with-pytorch-zero-to-gans/assignment/assignment-2-train-your-first-model\n",
    "\n",
    "In this assignment we're going to use information like a person's age, sex, BMI, no. of children and smoking habit to predict the price of yearly medical bills. This kind of model is useful for insurance companies to determine the yearly insurance premium for a person. The dataset for this problem is taken from [Kaggle](https://www.kaggle.com/mirichoi0218/insurance).\n",
    "\n",
    "\n",
    "We will create a model with the following steps:\n",
    "1. Download and explore the dataset\n",
    "2. Prepare the dataset for training\n",
    "3. Create a linear regression model\n",
    "4. Train the model to fit the data\n",
    "5. Make predictions using the trained model\n",
    "\n",
    "\n",
    "This assignment builds upon the concepts from the first 2 lessons. It will help to review these Jupyter notebooks:\n",
    "- PyTorch basics: https://jovian.ai/aakashns/01-pytorch-basics\n",
    "- Linear Regression: https://jovian.ai/aakashns/02-linear-regression\n",
    "- Logistic Regression: https://jovian.ai/aakashns/03-logistic-regression\n",
    "- Linear regression (minimal): https://jovian.ai/aakashns/housing-linear-minimal\n",
    "- Logistic regression (minimal): https://jovian.ai/aakashns/mnist-logistic-minimal\n",
    "\n",
    "As you go through this notebook, you will find a **???** in certain places. Your job is to replace the **???** with appropriate code or values, to ensure that the notebook runs properly end-to-end . In some cases, you'll be required to choose some hyperparameters (learning rate, batch size etc.). Try to experiment with the hypeparameters to get the lowest loss.\n"
   ]
  },
  {
   "cell_type": "code",
   "execution_count": 2,
   "metadata": {
    "executionInfo": {
     "elapsed": 26,
     "status": "ok",
     "timestamp": 1641978802336,
     "user": {
      "displayName": "ed19b048 Girhepuje Sahil Satishkumar",
      "photoUrl": "https://lh3.googleusercontent.com/a-/AOh14Gi9XO_3baMGuFfNAyfnSMgM68EWrgj0bkqJXu5rIw=s64",
      "userId": "09412542214202402728"
     },
     "user_tz": -330
    },
    "id": "a27N7vdMj4Nq"
   },
   "outputs": [],
   "source": [
    "# Uncomment and run the appropriate command for your operating system, if required\n",
    "\n",
    "# Linux / Binder\n",
    "# !pip install numpy matplotlib pandas torch==1.7.0+cpu torchvision==0.8.1+cpu torchaudio==0.7.0 -f https://download.pytorch.org/whl/torch_stable.html\n",
    "\n",
    "# Windows\n",
    "# !pip install numpy matplotlib pandas torch==1.7.0+cpu torchvision==0.8.1+cpu torchaudio==0.7.0 -f https://download.pytorch.org/whl/torch_stable.html\n",
    "\n",
    "# MacOS\n",
    "# !pip install numpy matplotlib pandas torch torchvision torchaudio"
   ]
  },
  {
   "cell_type": "code",
   "execution_count": 3,
   "metadata": {
    "executionInfo": {
     "elapsed": 5276,
     "status": "ok",
     "timestamp": 1641978807590,
     "user": {
      "displayName": "ed19b048 Girhepuje Sahil Satishkumar",
      "photoUrl": "https://lh3.googleusercontent.com/a-/AOh14Gi9XO_3baMGuFfNAyfnSMgM68EWrgj0bkqJXu5rIw=s64",
      "userId": "09412542214202402728"
     },
     "user_tz": -330
    },
    "id": "Ms98t2Wjj4Nw"
   },
   "outputs": [],
   "source": [
    "import torch\n",
    "import jovian\n",
    "import torchvision\n",
    "import torch.nn as nn\n",
    "import pandas as pd\n",
    "import matplotlib.pyplot as plt\n",
    "import torch.nn.functional as F\n",
    "from torchvision.datasets.utils import download_url\n",
    "from torch.utils.data import DataLoader, TensorDataset, random_split"
   ]
  },
  {
   "cell_type": "code",
   "execution_count": 18,
   "metadata": {
    "executionInfo": {
     "elapsed": 956,
     "status": "ok",
     "timestamp": 1641978896476,
     "user": {
      "displayName": "ed19b048 Girhepuje Sahil Satishkumar",
      "photoUrl": "https://lh3.googleusercontent.com/a-/AOh14Gi9XO_3baMGuFfNAyfnSMgM68EWrgj0bkqJXu5rIw=s64",
      "userId": "09412542214202402728"
     },
     "user_tz": -330
    },
    "id": "JoMyp1TXkYd2"
   },
   "outputs": [],
   "source": [
    "import numpy as np"
   ]
  },
  {
   "cell_type": "code",
   "execution_count": 4,
   "metadata": {
    "executionInfo": {
     "elapsed": 16,
     "status": "ok",
     "timestamp": 1641978807591,
     "user": {
      "displayName": "ed19b048 Girhepuje Sahil Satishkumar",
      "photoUrl": "https://lh3.googleusercontent.com/a-/AOh14Gi9XO_3baMGuFfNAyfnSMgM68EWrgj0bkqJXu5rIw=s64",
      "userId": "09412542214202402728"
     },
     "user_tz": -330
    },
    "id": "lWGw4YGTj4N1"
   },
   "outputs": [],
   "source": [
    "project_name='02-insurance-linear-regression' # will be used by jovian.commit"
   ]
  },
  {
   "cell_type": "markdown",
   "metadata": {
    "id": "_FX599glj4N5"
   },
   "source": [
    "## Step 1: Download and explore the data\n",
    "\n",
    "Let us begin by downloading the data. We'll use the `download_url` function from PyTorch to get the data as a CSV (comma-separated values) file. "
   ]
  },
  {
   "cell_type": "code",
   "execution_count": 5,
   "metadata": {
    "_cell_guid": "79c7e3d0-c299-4dcb-8224-4455121ee9b0",
    "_uuid": "d629ff2d2480ee46fbb7e2d37f6b5fab8052498a",
    "colab": {
     "base_uri": "https://localhost:8080/",
     "height": 88,
     "referenced_widgets": [
      "776c15beedbd4b7b9ed6d2cd2eb9f5a6",
      "07ea047a359a4507bb831e34ad1e78a3",
      "be86be84b10541ee81c5e3b0137fcb5d",
      "5d25653f706c4ee997dd26ad098f95f5",
      "498bad3dd0944ab4a1234690155ae79c",
      "158ea3ef3b494a94a1f82c33c6ec4f90",
      "c5e2454ac05d44f987571322207156fd",
      "59dbad68405c4c52bad8678bde192ce2",
      "61e75673254e49edb610be183cb130ca",
      "4f100fe450c64744a09963b4ee199f81",
      "37d6358e18674db5a5fa01efbd38e077"
     ]
    },
    "executionInfo": {
     "elapsed": 804,
     "status": "ok",
     "timestamp": 1641978808381,
     "user": {
      "displayName": "ed19b048 Girhepuje Sahil Satishkumar",
      "photoUrl": "https://lh3.googleusercontent.com/a-/AOh14Gi9XO_3baMGuFfNAyfnSMgM68EWrgj0bkqJXu5rIw=s64",
      "userId": "09412542214202402728"
     },
     "user_tz": -330
    },
    "id": "uBFQ9KAwj4N-",
    "outputId": "48e12434-28eb-4be7-a345-5ed7f52fd963"
   },
   "outputs": [
    {
     "name": "stdout",
     "output_type": "stream",
     "text": [
      "Downloading https://gist.githubusercontent.com/BirajCoder/5f068dfe759c1ea6bdfce9535acdb72d/raw/c84d84e3c80f93be67f6c069cbdc0195ec36acbd/insurance.csv to ./insurance.csv\n"
     ]
    },
    {
     "data": {
      "application/vnd.jupyter.widget-view+json": {
       "model_id": "776c15beedbd4b7b9ed6d2cd2eb9f5a6",
       "version_major": 2,
       "version_minor": 0
      },
      "text/plain": [
       "  0%|          | 0/54288 [00:00<?, ?it/s]"
      ]
     },
     "metadata": {},
     "output_type": "display_data"
    }
   ],
   "source": [
    "DATASET_URL = \"https://gist.github.com/BirajCoder/5f068dfe759c1ea6bdfce9535acdb72d/raw/c84d84e3c80f93be67f6c069cbdc0195ec36acbd/insurance.csv\"\n",
    "DATA_FILENAME = \"insurance.csv\"\n",
    "download_url(DATASET_URL, '.')"
   ]
  },
  {
   "cell_type": "markdown",
   "metadata": {
    "id": "Tkp5DIfXj4OI"
   },
   "source": [
    "To load the dataset into memory, we'll use the `read_csv` function from the `pandas` library. The data will be loaded as a Pandas dataframe. See this short tutorial to learn more: https://data36.com/pandas-tutorial-1-basics-reading-data-files-dataframes-data-selection/"
   ]
  },
  {
   "cell_type": "code",
   "execution_count": 6,
   "metadata": {
    "colab": {
     "base_uri": "https://localhost:8080/",
     "height": 206
    },
    "executionInfo": {
     "elapsed": 68,
     "status": "ok",
     "timestamp": 1641978808384,
     "user": {
      "displayName": "ed19b048 Girhepuje Sahil Satishkumar",
      "photoUrl": "https://lh3.googleusercontent.com/a-/AOh14Gi9XO_3baMGuFfNAyfnSMgM68EWrgj0bkqJXu5rIw=s64",
      "userId": "09412542214202402728"
     },
     "user_tz": -330
    },
    "id": "i5YrOtmTj4OL",
    "outputId": "0347d29d-d83a-4580-efba-510f45888970"
   },
   "outputs": [
    {
     "data": {
      "text/html": [
       "\n",
       "  <div id=\"df-81656cca-686c-415b-86c3-611b43ae4233\">\n",
       "    <div class=\"colab-df-container\">\n",
       "      <div>\n",
       "<style scoped>\n",
       "    .dataframe tbody tr th:only-of-type {\n",
       "        vertical-align: middle;\n",
       "    }\n",
       "\n",
       "    .dataframe tbody tr th {\n",
       "        vertical-align: top;\n",
       "    }\n",
       "\n",
       "    .dataframe thead th {\n",
       "        text-align: right;\n",
       "    }\n",
       "</style>\n",
       "<table border=\"1\" class=\"dataframe\">\n",
       "  <thead>\n",
       "    <tr style=\"text-align: right;\">\n",
       "      <th></th>\n",
       "      <th>age</th>\n",
       "      <th>sex</th>\n",
       "      <th>bmi</th>\n",
       "      <th>children</th>\n",
       "      <th>smoker</th>\n",
       "      <th>region</th>\n",
       "      <th>charges</th>\n",
       "    </tr>\n",
       "  </thead>\n",
       "  <tbody>\n",
       "    <tr>\n",
       "      <th>0</th>\n",
       "      <td>19</td>\n",
       "      <td>female</td>\n",
       "      <td>27.900</td>\n",
       "      <td>0</td>\n",
       "      <td>yes</td>\n",
       "      <td>southwest</td>\n",
       "      <td>16884.92400</td>\n",
       "    </tr>\n",
       "    <tr>\n",
       "      <th>1</th>\n",
       "      <td>18</td>\n",
       "      <td>male</td>\n",
       "      <td>33.770</td>\n",
       "      <td>1</td>\n",
       "      <td>no</td>\n",
       "      <td>southeast</td>\n",
       "      <td>1725.55230</td>\n",
       "    </tr>\n",
       "    <tr>\n",
       "      <th>2</th>\n",
       "      <td>28</td>\n",
       "      <td>male</td>\n",
       "      <td>33.000</td>\n",
       "      <td>3</td>\n",
       "      <td>no</td>\n",
       "      <td>southeast</td>\n",
       "      <td>4449.46200</td>\n",
       "    </tr>\n",
       "    <tr>\n",
       "      <th>3</th>\n",
       "      <td>33</td>\n",
       "      <td>male</td>\n",
       "      <td>22.705</td>\n",
       "      <td>0</td>\n",
       "      <td>no</td>\n",
       "      <td>northwest</td>\n",
       "      <td>21984.47061</td>\n",
       "    </tr>\n",
       "    <tr>\n",
       "      <th>4</th>\n",
       "      <td>32</td>\n",
       "      <td>male</td>\n",
       "      <td>28.880</td>\n",
       "      <td>0</td>\n",
       "      <td>no</td>\n",
       "      <td>northwest</td>\n",
       "      <td>3866.85520</td>\n",
       "    </tr>\n",
       "  </tbody>\n",
       "</table>\n",
       "</div>\n",
       "      <button class=\"colab-df-convert\" onclick=\"convertToInteractive('df-81656cca-686c-415b-86c3-611b43ae4233')\"\n",
       "              title=\"Convert this dataframe to an interactive table.\"\n",
       "              style=\"display:none;\">\n",
       "        \n",
       "  <svg xmlns=\"http://www.w3.org/2000/svg\" height=\"24px\"viewBox=\"0 0 24 24\"\n",
       "       width=\"24px\">\n",
       "    <path d=\"M0 0h24v24H0V0z\" fill=\"none\"/>\n",
       "    <path d=\"M18.56 5.44l.94 2.06.94-2.06 2.06-.94-2.06-.94-.94-2.06-.94 2.06-2.06.94zm-11 1L8.5 8.5l.94-2.06 2.06-.94-2.06-.94L8.5 2.5l-.94 2.06-2.06.94zm10 10l.94 2.06.94-2.06 2.06-.94-2.06-.94-.94-2.06-.94 2.06-2.06.94z\"/><path d=\"M17.41 7.96l-1.37-1.37c-.4-.4-.92-.59-1.43-.59-.52 0-1.04.2-1.43.59L10.3 9.45l-7.72 7.72c-.78.78-.78 2.05 0 2.83L4 21.41c.39.39.9.59 1.41.59.51 0 1.02-.2 1.41-.59l7.78-7.78 2.81-2.81c.8-.78.8-2.07 0-2.86zM5.41 20L4 18.59l7.72-7.72 1.47 1.35L5.41 20z\"/>\n",
       "  </svg>\n",
       "      </button>\n",
       "      \n",
       "  <style>\n",
       "    .colab-df-container {\n",
       "      display:flex;\n",
       "      flex-wrap:wrap;\n",
       "      gap: 12px;\n",
       "    }\n",
       "\n",
       "    .colab-df-convert {\n",
       "      background-color: #E8F0FE;\n",
       "      border: none;\n",
       "      border-radius: 50%;\n",
       "      cursor: pointer;\n",
       "      display: none;\n",
       "      fill: #1967D2;\n",
       "      height: 32px;\n",
       "      padding: 0 0 0 0;\n",
       "      width: 32px;\n",
       "    }\n",
       "\n",
       "    .colab-df-convert:hover {\n",
       "      background-color: #E2EBFA;\n",
       "      box-shadow: 0px 1px 2px rgba(60, 64, 67, 0.3), 0px 1px 3px 1px rgba(60, 64, 67, 0.15);\n",
       "      fill: #174EA6;\n",
       "    }\n",
       "\n",
       "    [theme=dark] .colab-df-convert {\n",
       "      background-color: #3B4455;\n",
       "      fill: #D2E3FC;\n",
       "    }\n",
       "\n",
       "    [theme=dark] .colab-df-convert:hover {\n",
       "      background-color: #434B5C;\n",
       "      box-shadow: 0px 1px 3px 1px rgba(0, 0, 0, 0.15);\n",
       "      filter: drop-shadow(0px 1px 2px rgba(0, 0, 0, 0.3));\n",
       "      fill: #FFFFFF;\n",
       "    }\n",
       "  </style>\n",
       "\n",
       "      <script>\n",
       "        const buttonEl =\n",
       "          document.querySelector('#df-81656cca-686c-415b-86c3-611b43ae4233 button.colab-df-convert');\n",
       "        buttonEl.style.display =\n",
       "          google.colab.kernel.accessAllowed ? 'block' : 'none';\n",
       "\n",
       "        async function convertToInteractive(key) {\n",
       "          const element = document.querySelector('#df-81656cca-686c-415b-86c3-611b43ae4233');\n",
       "          const dataTable =\n",
       "            await google.colab.kernel.invokeFunction('convertToInteractive',\n",
       "                                                     [key], {});\n",
       "          if (!dataTable) return;\n",
       "\n",
       "          const docLinkHtml = 'Like what you see? Visit the ' +\n",
       "            '<a target=\"_blank\" href=https://colab.research.google.com/notebooks/data_table.ipynb>data table notebook</a>'\n",
       "            + ' to learn more about interactive tables.';\n",
       "          element.innerHTML = '';\n",
       "          dataTable['output_type'] = 'display_data';\n",
       "          await google.colab.output.renderOutput(dataTable, element);\n",
       "          const docLink = document.createElement('div');\n",
       "          docLink.innerHTML = docLinkHtml;\n",
       "          element.appendChild(docLink);\n",
       "        }\n",
       "      </script>\n",
       "    </div>\n",
       "  </div>\n",
       "  "
      ],
      "text/plain": [
       "   age     sex     bmi  children smoker     region      charges\n",
       "0   19  female  27.900         0    yes  southwest  16884.92400\n",
       "1   18    male  33.770         1     no  southeast   1725.55230\n",
       "2   28    male  33.000         3     no  southeast   4449.46200\n",
       "3   33    male  22.705         0     no  northwest  21984.47061\n",
       "4   32    male  28.880         0     no  northwest   3866.85520"
      ]
     },
     "execution_count": 6,
     "metadata": {},
     "output_type": "execute_result"
    }
   ],
   "source": [
    "dataframe_raw = pd.read_csv(DATA_FILENAME)\n",
    "dataframe_raw.head()"
   ]
  },
  {
   "cell_type": "markdown",
   "metadata": {
    "id": "CZxjHymvj4OO"
   },
   "source": [
    "We're going to do a slight customization of the data, so that you every participant receives a slightly different version of the dataset. Fill in your name below as a string (enter at least 5 characters)"
   ]
  },
  {
   "cell_type": "code",
   "execution_count": 7,
   "metadata": {
    "executionInfo": {
     "elapsed": 65,
     "status": "ok",
     "timestamp": 1641978808386,
     "user": {
      "displayName": "ed19b048 Girhepuje Sahil Satishkumar",
      "photoUrl": "https://lh3.googleusercontent.com/a-/AOh14Gi9XO_3baMGuFfNAyfnSMgM68EWrgj0bkqJXu5rIw=s64",
      "userId": "09412542214202402728"
     },
     "user_tz": -330
    },
    "id": "yng845v-j4OQ"
   },
   "outputs": [],
   "source": [
    "your_name = 'sahilg' # at least 5 characters"
   ]
  },
  {
   "cell_type": "markdown",
   "metadata": {
    "id": "8_t2C07ej4OS"
   },
   "source": [
    "The `customize_dataset` function will customize the dataset slightly using your name as a source of random numbers."
   ]
  },
  {
   "cell_type": "code",
   "execution_count": 8,
   "metadata": {
    "executionInfo": {
     "elapsed": 64,
     "status": "ok",
     "timestamp": 1641978808388,
     "user": {
      "displayName": "ed19b048 Girhepuje Sahil Satishkumar",
      "photoUrl": "https://lh3.googleusercontent.com/a-/AOh14Gi9XO_3baMGuFfNAyfnSMgM68EWrgj0bkqJXu5rIw=s64",
      "userId": "09412542214202402728"
     },
     "user_tz": -330
    },
    "id": "1PZAYL10j4OT"
   },
   "outputs": [],
   "source": [
    "def customize_dataset(dataframe_raw, rand_str):\n",
    "    dataframe = dataframe_raw.copy(deep=True)\n",
    "    # drop some rows\n",
    "    dataframe = dataframe.sample(int(0.95*len(dataframe)), random_state=int(ord(rand_str[0])))\n",
    "    # scale input\n",
    "    dataframe.bmi = dataframe.bmi * ord(rand_str[1])/100.\n",
    "    # scale target\n",
    "    dataframe.charges = dataframe.charges * ord(rand_str[2])/100.\n",
    "    # drop column\n",
    "    if ord(rand_str[3]) % 2 == 1:\n",
    "        dataframe = dataframe.drop(['region'], axis=1)\n",
    "    return dataframe"
   ]
  },
  {
   "cell_type": "code",
   "execution_count": 9,
   "metadata": {
    "colab": {
     "base_uri": "https://localhost:8080/",
     "height": 206
    },
    "executionInfo": {
     "elapsed": 64,
     "status": "ok",
     "timestamp": 1641978808390,
     "user": {
      "displayName": "ed19b048 Girhepuje Sahil Satishkumar",
      "photoUrl": "https://lh3.googleusercontent.com/a-/AOh14Gi9XO_3baMGuFfNAyfnSMgM68EWrgj0bkqJXu5rIw=s64",
      "userId": "09412542214202402728"
     },
     "user_tz": -330
    },
    "id": "VciVX9x3j4OV",
    "outputId": "4fb1cc24-1235-4ad4-dd2c-94f6913e70c8"
   },
   "outputs": [
    {
     "data": {
      "text/html": [
       "\n",
       "  <div id=\"df-076f6dac-7240-406a-aa30-eff2b7991cd8\">\n",
       "    <div class=\"colab-df-container\">\n",
       "      <div>\n",
       "<style scoped>\n",
       "    .dataframe tbody tr th:only-of-type {\n",
       "        vertical-align: middle;\n",
       "    }\n",
       "\n",
       "    .dataframe tbody tr th {\n",
       "        vertical-align: top;\n",
       "    }\n",
       "\n",
       "    .dataframe thead th {\n",
       "        text-align: right;\n",
       "    }\n",
       "</style>\n",
       "<table border=\"1\" class=\"dataframe\">\n",
       "  <thead>\n",
       "    <tr style=\"text-align: right;\">\n",
       "      <th></th>\n",
       "      <th>age</th>\n",
       "      <th>sex</th>\n",
       "      <th>bmi</th>\n",
       "      <th>children</th>\n",
       "      <th>smoker</th>\n",
       "      <th>charges</th>\n",
       "    </tr>\n",
       "  </thead>\n",
       "  <tbody>\n",
       "    <tr>\n",
       "      <th>1178</th>\n",
       "      <td>23</td>\n",
       "      <td>female</td>\n",
       "      <td>33.81905</td>\n",
       "      <td>0</td>\n",
       "      <td>no</td>\n",
       "      <td>3015.468924</td>\n",
       "    </tr>\n",
       "    <tr>\n",
       "      <th>1295</th>\n",
       "      <td>20</td>\n",
       "      <td>male</td>\n",
       "      <td>21.34000</td>\n",
       "      <td>1</td>\n",
       "      <td>no</td>\n",
       "      <td>2043.371200</td>\n",
       "    </tr>\n",
       "    <tr>\n",
       "      <th>205</th>\n",
       "      <td>28</td>\n",
       "      <td>female</td>\n",
       "      <td>28.01360</td>\n",
       "      <td>1</td>\n",
       "      <td>no</td>\n",
       "      <td>4511.244608</td>\n",
       "    </tr>\n",
       "    <tr>\n",
       "      <th>1067</th>\n",
       "      <td>39</td>\n",
       "      <td>male</td>\n",
       "      <td>41.37535</td>\n",
       "      <td>0</td>\n",
       "      <td>no</td>\n",
       "      <td>5987.709988</td>\n",
       "    </tr>\n",
       "    <tr>\n",
       "      <th>523</th>\n",
       "      <td>38</td>\n",
       "      <td>female</td>\n",
       "      <td>36.59810</td>\n",
       "      <td>0</td>\n",
       "      <td>no</td>\n",
       "      <td>5613.521368</td>\n",
       "    </tr>\n",
       "  </tbody>\n",
       "</table>\n",
       "</div>\n",
       "      <button class=\"colab-df-convert\" onclick=\"convertToInteractive('df-076f6dac-7240-406a-aa30-eff2b7991cd8')\"\n",
       "              title=\"Convert this dataframe to an interactive table.\"\n",
       "              style=\"display:none;\">\n",
       "        \n",
       "  <svg xmlns=\"http://www.w3.org/2000/svg\" height=\"24px\"viewBox=\"0 0 24 24\"\n",
       "       width=\"24px\">\n",
       "    <path d=\"M0 0h24v24H0V0z\" fill=\"none\"/>\n",
       "    <path d=\"M18.56 5.44l.94 2.06.94-2.06 2.06-.94-2.06-.94-.94-2.06-.94 2.06-2.06.94zm-11 1L8.5 8.5l.94-2.06 2.06-.94-2.06-.94L8.5 2.5l-.94 2.06-2.06.94zm10 10l.94 2.06.94-2.06 2.06-.94-2.06-.94-.94-2.06-.94 2.06-2.06.94z\"/><path d=\"M17.41 7.96l-1.37-1.37c-.4-.4-.92-.59-1.43-.59-.52 0-1.04.2-1.43.59L10.3 9.45l-7.72 7.72c-.78.78-.78 2.05 0 2.83L4 21.41c.39.39.9.59 1.41.59.51 0 1.02-.2 1.41-.59l7.78-7.78 2.81-2.81c.8-.78.8-2.07 0-2.86zM5.41 20L4 18.59l7.72-7.72 1.47 1.35L5.41 20z\"/>\n",
       "  </svg>\n",
       "      </button>\n",
       "      \n",
       "  <style>\n",
       "    .colab-df-container {\n",
       "      display:flex;\n",
       "      flex-wrap:wrap;\n",
       "      gap: 12px;\n",
       "    }\n",
       "\n",
       "    .colab-df-convert {\n",
       "      background-color: #E8F0FE;\n",
       "      border: none;\n",
       "      border-radius: 50%;\n",
       "      cursor: pointer;\n",
       "      display: none;\n",
       "      fill: #1967D2;\n",
       "      height: 32px;\n",
       "      padding: 0 0 0 0;\n",
       "      width: 32px;\n",
       "    }\n",
       "\n",
       "    .colab-df-convert:hover {\n",
       "      background-color: #E2EBFA;\n",
       "      box-shadow: 0px 1px 2px rgba(60, 64, 67, 0.3), 0px 1px 3px 1px rgba(60, 64, 67, 0.15);\n",
       "      fill: #174EA6;\n",
       "    }\n",
       "\n",
       "    [theme=dark] .colab-df-convert {\n",
       "      background-color: #3B4455;\n",
       "      fill: #D2E3FC;\n",
       "    }\n",
       "\n",
       "    [theme=dark] .colab-df-convert:hover {\n",
       "      background-color: #434B5C;\n",
       "      box-shadow: 0px 1px 3px 1px rgba(0, 0, 0, 0.15);\n",
       "      filter: drop-shadow(0px 1px 2px rgba(0, 0, 0, 0.3));\n",
       "      fill: #FFFFFF;\n",
       "    }\n",
       "  </style>\n",
       "\n",
       "      <script>\n",
       "        const buttonEl =\n",
       "          document.querySelector('#df-076f6dac-7240-406a-aa30-eff2b7991cd8 button.colab-df-convert');\n",
       "        buttonEl.style.display =\n",
       "          google.colab.kernel.accessAllowed ? 'block' : 'none';\n",
       "\n",
       "        async function convertToInteractive(key) {\n",
       "          const element = document.querySelector('#df-076f6dac-7240-406a-aa30-eff2b7991cd8');\n",
       "          const dataTable =\n",
       "            await google.colab.kernel.invokeFunction('convertToInteractive',\n",
       "                                                     [key], {});\n",
       "          if (!dataTable) return;\n",
       "\n",
       "          const docLinkHtml = 'Like what you see? Visit the ' +\n",
       "            '<a target=\"_blank\" href=https://colab.research.google.com/notebooks/data_table.ipynb>data table notebook</a>'\n",
       "            + ' to learn more about interactive tables.';\n",
       "          element.innerHTML = '';\n",
       "          dataTable['output_type'] = 'display_data';\n",
       "          await google.colab.output.renderOutput(dataTable, element);\n",
       "          const docLink = document.createElement('div');\n",
       "          docLink.innerHTML = docLinkHtml;\n",
       "          element.appendChild(docLink);\n",
       "        }\n",
       "      </script>\n",
       "    </div>\n",
       "  </div>\n",
       "  "
      ],
      "text/plain": [
       "      age     sex       bmi  children smoker      charges\n",
       "1178   23  female  33.81905         0     no  3015.468924\n",
       "1295   20    male  21.34000         1     no  2043.371200\n",
       "205    28  female  28.01360         1     no  4511.244608\n",
       "1067   39    male  41.37535         0     no  5987.709988\n",
       "523    38  female  36.59810         0     no  5613.521368"
      ]
     },
     "execution_count": 9,
     "metadata": {},
     "output_type": "execute_result"
    }
   ],
   "source": [
    "dataframe = customize_dataset(dataframe_raw, your_name)\n",
    "dataframe.head()"
   ]
  },
  {
   "cell_type": "code",
   "execution_count": 10,
   "metadata": {
    "executionInfo": {
     "elapsed": 10,
     "status": "ok",
     "timestamp": 1641978815669,
     "user": {
      "displayName": "ed19b048 Girhepuje Sahil Satishkumar",
      "photoUrl": "https://lh3.googleusercontent.com/a-/AOh14Gi9XO_3baMGuFfNAyfnSMgM68EWrgj0bkqJXu5rIw=s64",
      "userId": "09412542214202402728"
     },
     "user_tz": -330
    },
    "id": "gipHjTPnkDy-"
   },
   "outputs": [],
   "source": [
    "df = dataframe.copy()"
   ]
  },
  {
   "cell_type": "markdown",
   "metadata": {
    "id": "QGP_W1Pnj4OX"
   },
   "source": [
    "Let us answer some basic questions about the dataset. \n",
    "\n",
    "\n",
    "**Q1: How many rows does the dataset have?**"
   ]
  },
  {
   "cell_type": "code",
   "execution_count": 11,
   "metadata": {
    "colab": {
     "base_uri": "https://localhost:8080/"
    },
    "executionInfo": {
     "elapsed": 516,
     "status": "ok",
     "timestamp": 1641978822619,
     "user": {
      "displayName": "ed19b048 Girhepuje Sahil Satishkumar",
      "photoUrl": "https://lh3.googleusercontent.com/a-/AOh14Gi9XO_3baMGuFfNAyfnSMgM68EWrgj0bkqJXu5rIw=s64",
      "userId": "09412542214202402728"
     },
     "user_tz": -330
    },
    "id": "Sm9jNiF-j4OY",
    "outputId": "b28b8d36-7a4b-4124-ea67-c359d6c4a55b"
   },
   "outputs": [
    {
     "name": "stdout",
     "output_type": "stream",
     "text": [
      "1271\n"
     ]
    }
   ],
   "source": [
    "num_rows = df.shape[0]\n",
    "print(num_rows)"
   ]
  },
  {
   "cell_type": "markdown",
   "metadata": {
    "id": "kr4MISoLj4Oa"
   },
   "source": [
    "**Q2: How many columns doe the dataset have**"
   ]
  },
  {
   "cell_type": "code",
   "execution_count": 12,
   "metadata": {
    "colab": {
     "base_uri": "https://localhost:8080/"
    },
    "executionInfo": {
     "elapsed": 1045,
     "status": "ok",
     "timestamp": 1641978833391,
     "user": {
      "displayName": "ed19b048 Girhepuje Sahil Satishkumar",
      "photoUrl": "https://lh3.googleusercontent.com/a-/AOh14Gi9XO_3baMGuFfNAyfnSMgM68EWrgj0bkqJXu5rIw=s64",
      "userId": "09412542214202402728"
     },
     "user_tz": -330
    },
    "id": "Eh77pfB5j4Ob",
    "outputId": "544b2076-7129-4a5b-9a07-dedbbfc82e35"
   },
   "outputs": [
    {
     "name": "stdout",
     "output_type": "stream",
     "text": [
      "6\n"
     ]
    }
   ],
   "source": [
    "num_cols =df.shape[1]\n",
    "print(num_cols)"
   ]
  },
  {
   "cell_type": "markdown",
   "metadata": {
    "id": "IZj_8zeCj4Od"
   },
   "source": [
    "**Q3: What are the column titles of the input variables?**"
   ]
  },
  {
   "cell_type": "code",
   "execution_count": 13,
   "metadata": {
    "executionInfo": {
     "elapsed": 9,
     "status": "ok",
     "timestamp": 1641978853738,
     "user": {
      "displayName": "ed19b048 Girhepuje Sahil Satishkumar",
      "photoUrl": "https://lh3.googleusercontent.com/a-/AOh14Gi9XO_3baMGuFfNAyfnSMgM68EWrgj0bkqJXu5rIw=s64",
      "userId": "09412542214202402728"
     },
     "user_tz": -330
    },
    "id": "IATdcNTlj4Oe"
   },
   "outputs": [],
   "source": [
    "input_cols = ['age', 'sex', 'bmi', 'children', 'smoker']"
   ]
  },
  {
   "cell_type": "markdown",
   "metadata": {
    "id": "ITBvbXgqj4Og"
   },
   "source": [
    "**Q4: Which of the input columns are non-numeric or categorial variables ?**\n",
    "\n",
    "Hint: `sex` is one of them. List the columns that are not numbers."
   ]
  },
  {
   "cell_type": "code",
   "execution_count": 14,
   "metadata": {
    "executionInfo": {
     "elapsed": 11,
     "status": "ok",
     "timestamp": 1641978858091,
     "user": {
      "displayName": "ed19b048 Girhepuje Sahil Satishkumar",
      "photoUrl": "https://lh3.googleusercontent.com/a-/AOh14Gi9XO_3baMGuFfNAyfnSMgM68EWrgj0bkqJXu5rIw=s64",
      "userId": "09412542214202402728"
     },
     "user_tz": -330
    },
    "id": "QPn98MECj4Oh"
   },
   "outputs": [],
   "source": [
    "categorical_cols = ['sex', 'smoker']"
   ]
  },
  {
   "cell_type": "markdown",
   "metadata": {
    "id": "q0RfrOv8j4Oh"
   },
   "source": [
    "**Q5: What are the column titles of output/target variable(s)?**"
   ]
  },
  {
   "cell_type": "code",
   "execution_count": 15,
   "metadata": {
    "executionInfo": {
     "elapsed": 524,
     "status": "ok",
     "timestamp": 1641978863981,
     "user": {
      "displayName": "ed19b048 Girhepuje Sahil Satishkumar",
      "photoUrl": "https://lh3.googleusercontent.com/a-/AOh14Gi9XO_3baMGuFfNAyfnSMgM68EWrgj0bkqJXu5rIw=s64",
      "userId": "09412542214202402728"
     },
     "user_tz": -330
    },
    "id": "19IEl0hTj4Oj"
   },
   "outputs": [],
   "source": [
    "output_cols = ['charges']"
   ]
  },
  {
   "cell_type": "markdown",
   "metadata": {
    "id": "LOL6CFt9j4Ok"
   },
   "source": [
    "**Q: (Optional) What is the minimum, maximum and average value of the `charges` column? Can you show the distribution of values in a graph?**\n",
    "Use this data visualization cheatsheet for referece: https://jovian.ai/aakashns/dataviz-cheatsheet"
   ]
  },
  {
   "cell_type": "code",
   "execution_count": 19,
   "metadata": {
    "colab": {
     "base_uri": "https://localhost:8080/"
    },
    "executionInfo": {
     "elapsed": 523,
     "status": "ok",
     "timestamp": 1641978901592,
     "user": {
      "displayName": "ed19b048 Girhepuje Sahil Satishkumar",
      "photoUrl": "https://lh3.googleusercontent.com/a-/AOh14Gi9XO_3baMGuFfNAyfnSMgM68EWrgj0bkqJXu5rIw=s64",
      "userId": "09412542214202402728"
     },
     "user_tz": -330
    },
    "id": "MInGNMIkj4Ol",
    "outputId": "c4936e25-af35-458d-cfdb-e6d8a33c58aa"
   },
   "outputs": [
    {
     "data": {
      "text/plain": [
       "(66321.2451304, 1166.7488560000002)"
      ]
     },
     "execution_count": 19,
     "metadata": {},
     "output_type": "execute_result"
    }
   ],
   "source": [
    "np.max(df['charges'].values), np.min(df['charges'].values)"
   ]
  },
  {
   "cell_type": "code",
   "execution_count": 20,
   "metadata": {
    "colab": {
     "base_uri": "https://localhost:8080/"
    },
    "executionInfo": {
     "elapsed": 7,
     "status": "ok",
     "timestamp": 1641978902174,
     "user": {
      "displayName": "ed19b048 Girhepuje Sahil Satishkumar",
      "photoUrl": "https://lh3.googleusercontent.com/a-/AOh14Gi9XO_3baMGuFfNAyfnSMgM68EWrgj0bkqJXu5rIw=s64",
      "userId": "09412542214202402728"
     },
     "user_tz": -330
    },
    "id": "4lRkD5ivkU2E",
    "outputId": "2a48a60e-9ea9-47f3-e8ce-573ac8e8f6d9"
   },
   "outputs": [
    {
     "data": {
      "text/plain": [
       "13848.387205685414"
      ]
     },
     "execution_count": 20,
     "metadata": {},
     "output_type": "execute_result"
    }
   ],
   "source": [
    "np.mean(df.charges.values)"
   ]
  },
  {
   "cell_type": "markdown",
   "metadata": {
    "id": "B2ydBbTyj4Om"
   },
   "source": [
    "Remember to commit your notebook to Jovian after every step, so that you don't lose your work."
   ]
  },
  {
   "cell_type": "code",
   "execution_count": 21,
   "metadata": {
    "executionInfo": {
     "elapsed": 3750,
     "status": "ok",
     "timestamp": 1641978908988,
     "user": {
      "displayName": "ed19b048 Girhepuje Sahil Satishkumar",
      "photoUrl": "https://lh3.googleusercontent.com/a-/AOh14Gi9XO_3baMGuFfNAyfnSMgM68EWrgj0bkqJXu5rIw=s64",
      "userId": "09412542214202402728"
     },
     "user_tz": -330
    },
    "id": "L4nvIu1Aj4Om"
   },
   "outputs": [],
   "source": [
    "!pip install jovian --upgrade -q"
   ]
  },
  {
   "cell_type": "code",
   "execution_count": 22,
   "metadata": {
    "executionInfo": {
     "elapsed": 57,
     "status": "ok",
     "timestamp": 1641978908989,
     "user": {
      "displayName": "ed19b048 Girhepuje Sahil Satishkumar",
      "photoUrl": "https://lh3.googleusercontent.com/a-/AOh14Gi9XO_3baMGuFfNAyfnSMgM68EWrgj0bkqJXu5rIw=s64",
      "userId": "09412542214202402728"
     },
     "user_tz": -330
    },
    "id": "6DI8ODC-j4Oo"
   },
   "outputs": [],
   "source": [
    "import jovian"
   ]
  },
  {
   "cell_type": "code",
   "execution_count": 23,
   "metadata": {
    "colab": {
     "base_uri": "https://localhost:8080/",
     "height": 127
    },
    "executionInfo": {
     "elapsed": 10260,
     "status": "ok",
     "timestamp": 1641978919194,
     "user": {
      "displayName": "ed19b048 Girhepuje Sahil Satishkumar",
      "photoUrl": "https://lh3.googleusercontent.com/a-/AOh14Gi9XO_3baMGuFfNAyfnSMgM68EWrgj0bkqJXu5rIw=s64",
      "userId": "09412542214202402728"
     },
     "user_tz": -330
    },
    "id": "a07U2wqEj4Op",
    "outputId": "398eabb5-f340-4390-c507-12121ebda9e7"
   },
   "outputs": [
    {
     "name": "stdout",
     "output_type": "stream",
     "text": [
      "[jovian] Detected Colab notebook...\u001b[0m\n",
      "[jovian] Please enter your API key ( from https://jovian.ai/ ):\u001b[0m\n",
      "API KEY: ··········\n",
      "[jovian] Uploading colab notebook to Jovian...\u001b[0m\n",
      "Committed successfully! https://jovian.ai/ed19b048/02-insurance-linear-regression-73555\n"
     ]
    },
    {
     "data": {
      "application/vnd.google.colaboratory.intrinsic+json": {
       "type": "string"
      },
      "text/plain": [
       "'https://jovian.ai/ed19b048/02-insurance-linear-regression-73555'"
      ]
     },
     "execution_count": 23,
     "metadata": {},
     "output_type": "execute_result"
    }
   ],
   "source": [
    "jovian.commit()"
   ]
  },
  {
   "cell_type": "markdown",
   "metadata": {
    "id": "Lr5sLWEXj4Oq"
   },
   "source": [
    "## Step 2: Prepare the dataset for training\n",
    "\n",
    "We need to convert the data from the Pandas dataframe into a PyTorch tensors for training. To do this, the first step is to convert it numpy arrays. If you've filled out `input_cols`, `categorial_cols` and `output_cols` correctly, this following function will perform the conversion to numpy arrays."
   ]
  },
  {
   "cell_type": "code",
   "execution_count": 24,
   "metadata": {
    "executionInfo": {
     "elapsed": 564,
     "status": "ok",
     "timestamp": 1641978953832,
     "user": {
      "displayName": "ed19b048 Girhepuje Sahil Satishkumar",
      "photoUrl": "https://lh3.googleusercontent.com/a-/AOh14Gi9XO_3baMGuFfNAyfnSMgM68EWrgj0bkqJXu5rIw=s64",
      "userId": "09412542214202402728"
     },
     "user_tz": -330
    },
    "id": "bB0ybmd2j4Or"
   },
   "outputs": [],
   "source": [
    "def dataframe_to_arrays(dataframe):\n",
    "    # Make a copy of the original dataframe\n",
    "    dataframe1 = dataframe.copy(deep=True)\n",
    "    # Convert non-numeric categorical columns to numbers\n",
    "    for col in categorical_cols:\n",
    "        dataframe1[col] = dataframe1[col].astype('category').cat.codes\n",
    "    # Extract input & outupts as numpy arrays\n",
    "    inputs_array = dataframe1[input_cols].to_numpy()\n",
    "    targets_array = dataframe1[output_cols].to_numpy()\n",
    "    return inputs_array, targets_array"
   ]
  },
  {
   "cell_type": "markdown",
   "metadata": {
    "id": "dKgBjLl4j4Os"
   },
   "source": [
    "Read through the [Pandas documentation](https://pandas.pydata.org/pandas-docs/stable/user_guide/categorical.html) to understand how we're converting categorical variables into numbers."
   ]
  },
  {
   "cell_type": "code",
   "execution_count": 25,
   "metadata": {
    "colab": {
     "base_uri": "https://localhost:8080/"
    },
    "executionInfo": {
     "elapsed": 518,
     "status": "ok",
     "timestamp": 1641978965460,
     "user": {
      "displayName": "ed19b048 Girhepuje Sahil Satishkumar",
      "photoUrl": "https://lh3.googleusercontent.com/a-/AOh14Gi9XO_3baMGuFfNAyfnSMgM68EWrgj0bkqJXu5rIw=s64",
      "userId": "09412542214202402728"
     },
     "user_tz": -330
    },
    "id": "OcQzzwMLj4Ot",
    "outputId": "52cd968b-9c32-48b8-95ce-63a71c626e72"
   },
   "outputs": [
    {
     "data": {
      "text/plain": [
       "(array([[23.     ,  0.     , 33.81905,  0.     ,  0.     ],\n",
       "        [20.     ,  1.     , 21.34   ,  1.     ,  0.     ],\n",
       "        [28.     ,  0.     , 28.0136 ,  1.     ,  0.     ],\n",
       "        ...,\n",
       "        [53.     ,  0.     , 25.899  ,  2.     ,  0.     ],\n",
       "        [26.     ,  1.     , 26.2482 ,  0.     ,  1.     ],\n",
       "        [19.     ,  0.     , 27.4607 ,  0.     ,  1.     ]]),\n",
       " array([[ 3015.468924],\n",
       "        [ 2043.3712  ],\n",
       "        [ 4511.244608],\n",
       "        ...,\n",
       "        [11596.8112  ],\n",
       "        [17725.075056],\n",
       "        [18167.743256]]))"
      ]
     },
     "execution_count": 25,
     "metadata": {},
     "output_type": "execute_result"
    }
   ],
   "source": [
    "inputs_array, targets_array = dataframe_to_arrays(dataframe)\n",
    "inputs_array, targets_array"
   ]
  },
  {
   "cell_type": "markdown",
   "metadata": {
    "id": "VgCkDx3Cj4Ou"
   },
   "source": [
    "**Q6: Convert the numpy arrays `inputs_array` and `targets_array` into PyTorch tensors. Make sure that the data type is `torch.float32`.**"
   ]
  },
  {
   "cell_type": "code",
   "execution_count": 32,
   "metadata": {
    "executionInfo": {
     "elapsed": 523,
     "status": "ok",
     "timestamp": 1641979679920,
     "user": {
      "displayName": "ed19b048 Girhepuje Sahil Satishkumar",
      "photoUrl": "https://lh3.googleusercontent.com/a-/AOh14Gi9XO_3baMGuFfNAyfnSMgM68EWrgj0bkqJXu5rIw=s64",
      "userId": "09412542214202402728"
     },
     "user_tz": -330
    },
    "id": "-dRBqkKBnSg5"
   },
   "outputs": [],
   "source": [
    "torch.from_numpy??"
   ]
  },
  {
   "cell_type": "code",
   "execution_count": 35,
   "metadata": {
    "colab": {
     "base_uri": "https://localhost:8080/"
    },
    "executionInfo": {
     "elapsed": 825,
     "status": "ok",
     "timestamp": 1641979792280,
     "user": {
      "displayName": "ed19b048 Girhepuje Sahil Satishkumar",
      "photoUrl": "https://lh3.googleusercontent.com/a-/AOh14Gi9XO_3baMGuFfNAyfnSMgM68EWrgj0bkqJXu5rIw=s64",
      "userId": "09412542214202402728"
     },
     "user_tz": -330
    },
    "id": "VWFMNrCelU4I",
    "outputId": "dca28cbb-7b5c-4845-f2e9-9967654dab79"
   },
   "outputs": [
    {
     "data": {
      "text/plain": [
       "tensor([[23.0000,  0.0000, 33.8190,  0.0000,  0.0000],\n",
       "        [20.0000,  1.0000, 21.3400,  1.0000,  0.0000],\n",
       "        [28.0000,  0.0000, 28.0136,  1.0000,  0.0000],\n",
       "        ...,\n",
       "        [53.0000,  0.0000, 25.8990,  2.0000,  0.0000],\n",
       "        [26.0000,  1.0000, 26.2482,  0.0000,  1.0000],\n",
       "        [19.0000,  0.0000, 27.4607,  0.0000,  1.0000]])"
      ]
     },
     "execution_count": 35,
     "metadata": {},
     "output_type": "execute_result"
    }
   ],
   "source": [
    "torch.from_numpy(inputs_array).type(torch.float32)\n",
    "# aa.type(torch.float32)"
   ]
  },
  {
   "cell_type": "code",
   "execution_count": 36,
   "metadata": {
    "executionInfo": {
     "elapsed": 775,
     "status": "ok",
     "timestamp": 1641979827947,
     "user": {
      "displayName": "ed19b048 Girhepuje Sahil Satishkumar",
      "photoUrl": "https://lh3.googleusercontent.com/a-/AOh14Gi9XO_3baMGuFfNAyfnSMgM68EWrgj0bkqJXu5rIw=s64",
      "userId": "09412542214202402728"
     },
     "user_tz": -330
    },
    "id": "B3ueDbidj4Ov"
   },
   "outputs": [],
   "source": [
    "inputs = torch.from_numpy(inputs_array).type(torch.float32)\n",
    "targets = torch.from_numpy(targets_array).type(torch.float32)"
   ]
  },
  {
   "cell_type": "code",
   "execution_count": 37,
   "metadata": {
    "colab": {
     "base_uri": "https://localhost:8080/"
    },
    "executionInfo": {
     "elapsed": 13,
     "status": "ok",
     "timestamp": 1641979827950,
     "user": {
      "displayName": "ed19b048 Girhepuje Sahil Satishkumar",
      "photoUrl": "https://lh3.googleusercontent.com/a-/AOh14Gi9XO_3baMGuFfNAyfnSMgM68EWrgj0bkqJXu5rIw=s64",
      "userId": "09412542214202402728"
     },
     "user_tz": -330
    },
    "id": "v2ORaoamj4Ow",
    "outputId": "495d0e0d-bbd4-46f5-c4b9-9857a5a13f4f"
   },
   "outputs": [
    {
     "data": {
      "text/plain": [
       "(torch.float32, torch.float32)"
      ]
     },
     "execution_count": 37,
     "metadata": {},
     "output_type": "execute_result"
    }
   ],
   "source": [
    "inputs.dtype, targets.dtype"
   ]
  },
  {
   "cell_type": "markdown",
   "metadata": {
    "id": "afTerj-hj4Ox"
   },
   "source": [
    "Next, we need to create PyTorch datasets & data loaders for training & validation. We'll start by creating a `TensorDataset`."
   ]
  },
  {
   "cell_type": "code",
   "execution_count": 38,
   "metadata": {
    "executionInfo": {
     "elapsed": 720,
     "status": "ok",
     "timestamp": 1641979844579,
     "user": {
      "displayName": "ed19b048 Girhepuje Sahil Satishkumar",
      "photoUrl": "https://lh3.googleusercontent.com/a-/AOh14Gi9XO_3baMGuFfNAyfnSMgM68EWrgj0bkqJXu5rIw=s64",
      "userId": "09412542214202402728"
     },
     "user_tz": -330
    },
    "id": "bFHVcfOpj4Oy"
   },
   "outputs": [],
   "source": [
    "dataset = TensorDataset(inputs, targets)"
   ]
  },
  {
   "cell_type": "markdown",
   "metadata": {
    "id": "RxEIYRuwj4Oz"
   },
   "source": [
    "**Q7: Pick a number between `0.1` and `0.2` to determine the fraction of data that will be used for creating the validation set. Then use `random_split` to create training & validation datasets.**"
   ]
  },
  {
   "cell_type": "code",
   "execution_count": 39,
   "metadata": {
    "executionInfo": {
     "elapsed": 673,
     "status": "ok",
     "timestamp": 1641979914724,
     "user": {
      "displayName": "ed19b048 Girhepuje Sahil Satishkumar",
      "photoUrl": "https://lh3.googleusercontent.com/a-/AOh14Gi9XO_3baMGuFfNAyfnSMgM68EWrgj0bkqJXu5rIw=s64",
      "userId": "09412542214202402728"
     },
     "user_tz": -330
    },
    "id": "QLXYbflmj4O0"
   },
   "outputs": [],
   "source": [
    "val_percent = 0.18 # between 0.1 and 0.2\n",
    "val_size = int(num_rows * val_percent)\n",
    "train_size = num_rows - val_size\n",
    "\n",
    "\n",
    "train_ds, val_ds = random_split(dataset, [train_size, val_size])\n",
    " # Use the random_split function to split dataset into 2 parts of the desired length"
   ]
  },
  {
   "cell_type": "markdown",
   "metadata": {
    "id": "iA1jxGJWj4O0"
   },
   "source": [
    "Finally, we can create data loaders for training & validation.\n",
    "\n",
    "**Q8: Pick a batch size for the data loader.**"
   ]
  },
  {
   "cell_type": "code",
   "execution_count": 100,
   "metadata": {
    "executionInfo": {
     "elapsed": 1314,
     "status": "ok",
     "timestamp": 1641980966858,
     "user": {
      "displayName": "ed19b048 Girhepuje Sahil Satishkumar",
      "photoUrl": "https://lh3.googleusercontent.com/a-/AOh14Gi9XO_3baMGuFfNAyfnSMgM68EWrgj0bkqJXu5rIw=s64",
      "userId": "09412542214202402728"
     },
     "user_tz": -330
    },
    "id": "xqGlYUVnj4O1"
   },
   "outputs": [],
   "source": [
    "batch_size = 64"
   ]
  },
  {
   "cell_type": "code",
   "execution_count": 101,
   "metadata": {
    "executionInfo": {
     "elapsed": 6,
     "status": "ok",
     "timestamp": 1641980968462,
     "user": {
      "displayName": "ed19b048 Girhepuje Sahil Satishkumar",
      "photoUrl": "https://lh3.googleusercontent.com/a-/AOh14Gi9XO_3baMGuFfNAyfnSMgM68EWrgj0bkqJXu5rIw=s64",
      "userId": "09412542214202402728"
     },
     "user_tz": -330
    },
    "id": "8sWd-vZcj4O2"
   },
   "outputs": [],
   "source": [
    "train_loader = DataLoader(train_ds, batch_size, shuffle=True)\n",
    "val_loader = DataLoader(val_ds, batch_size)"
   ]
  },
  {
   "cell_type": "markdown",
   "metadata": {
    "id": "NW6TaCNCj4O4"
   },
   "source": [
    "Let's look at a batch of data to verify everything is working fine so far."
   ]
  },
  {
   "cell_type": "code",
   "execution_count": 102,
   "metadata": {
    "colab": {
     "base_uri": "https://localhost:8080/"
    },
    "executionInfo": {
     "elapsed": 46,
     "status": "ok",
     "timestamp": 1641980969279,
     "user": {
      "displayName": "ed19b048 Girhepuje Sahil Satishkumar",
      "photoUrl": "https://lh3.googleusercontent.com/a-/AOh14Gi9XO_3baMGuFfNAyfnSMgM68EWrgj0bkqJXu5rIw=s64",
      "userId": "09412542214202402728"
     },
     "user_tz": -330
    },
    "id": "rXbrxjecpmAw",
    "outputId": "05ac69ce-41be-4ab5-ed1e-d671ab07940b"
   },
   "outputs": [
    {
     "data": {
      "text/plain": [
       "<torch.utils.data.dataloader.DataLoader at 0x7f6f60a9af90>"
      ]
     },
     "execution_count": 102,
     "metadata": {},
     "output_type": "execute_result"
    }
   ],
   "source": [
    "train_loader"
   ]
  },
  {
   "cell_type": "code",
   "execution_count": 103,
   "metadata": {
    "colab": {
     "base_uri": "https://localhost:8080/"
    },
    "executionInfo": {
     "elapsed": 43,
     "status": "ok",
     "timestamp": 1641980969281,
     "user": {
      "displayName": "ed19b048 Girhepuje Sahil Satishkumar",
      "photoUrl": "https://lh3.googleusercontent.com/a-/AOh14Gi9XO_3baMGuFfNAyfnSMgM68EWrgj0bkqJXu5rIw=s64",
      "userId": "09412542214202402728"
     },
     "user_tz": -330
    },
    "id": "ZWKxVD0Zj4O5",
    "outputId": "0ca63be5-bf41-4c50-a300-c644be9c2acf"
   },
   "outputs": [
    {
     "name": "stdout",
     "output_type": "stream",
     "text": [
      "inputs: tensor([[50.0000,  1.0000, 30.0409,  3.0000,  0.0000],\n",
      "        [28.0000,  0.0000, 16.7713,  0.0000,  0.0000],\n",
      "        [19.0000,  1.0000, 24.7883,  0.0000,  0.0000],\n",
      "        [18.0000,  1.0000, 34.1440,  1.0000,  0.0000],\n",
      "        [56.0000,  1.0000, 39.0910,  0.0000,  0.0000],\n",
      "        [20.0000,  1.0000, 21.3400,  1.0000,  0.0000],\n",
      "        [54.0000,  0.0000, 31.3310,  1.0000,  0.0000],\n",
      "        [39.0000,  0.0000, 31.8160,  0.0000,  0.0000],\n",
      "        [33.0000,  1.0000, 28.5180,  4.0000,  0.0000],\n",
      "        [51.0000,  0.0000, 33.9112,  2.0000,  1.0000],\n",
      "        [19.0000,  1.0000, 20.0790,  0.0000,  0.0000],\n",
      "        [43.0000,  1.0000, 24.7544,  5.0000,  0.0000],\n",
      "        [64.0000,  1.0000, 23.9590,  1.0000,  0.0000],\n",
      "        [30.0000,  1.0000, 30.6229,  3.0000,  0.0000],\n",
      "        [42.0000,  1.0000, 24.1142,  0.0000,  0.0000],\n",
      "        [18.0000,  1.0000, 36.1713,  0.0000,  0.0000],\n",
      "        [51.0000,  1.0000, 34.8909,  1.0000,  0.0000],\n",
      "        [37.0000,  0.0000, 28.6150,  2.0000,  0.0000],\n",
      "        [56.0000,  0.0000, 27.7372,  0.0000,  0.0000],\n",
      "        [45.0000,  0.0000, 32.1070,  0.0000,  0.0000],\n",
      "        [34.0000,  1.0000, 41.6130,  1.0000,  0.0000],\n",
      "        [35.0000,  0.0000, 34.7842,  2.0000,  0.0000],\n",
      "        [35.0000,  1.0000, 28.0330,  3.0000,  0.0000],\n",
      "        [61.0000,  1.0000, 35.0170,  3.0000,  0.0000],\n",
      "        [49.0000,  1.0000, 31.3310,  3.0000,  0.0000],\n",
      "        [27.0000,  0.0000, 19.4436,  3.0000,  1.0000],\n",
      "        [50.0000,  0.0000, 22.8338,  2.0000,  0.0000],\n",
      "        [57.0000,  1.0000, 17.7850,  0.0000,  0.0000],\n",
      "        [29.0000,  0.0000, 37.6651,  3.0000,  0.0000],\n",
      "        [63.0000,  0.0000, 26.9078,  0.0000,  1.0000],\n",
      "        [34.0000,  0.0000, 18.4300,  3.0000,  0.0000],\n",
      "        [42.0000,  0.0000, 40.0853,  1.0000,  0.0000],\n",
      "        [18.0000,  1.0000, 23.0375,  0.0000,  0.0000],\n",
      "        [20.0000,  0.0000, 30.9624,  0.0000,  0.0000],\n",
      "        [45.0000,  1.0000, 32.6890,  1.0000,  0.0000],\n",
      "        [34.0000,  0.0000, 30.9624,  1.0000,  1.0000],\n",
      "        [18.0000,  0.0000, 37.1316,  0.0000,  0.0000],\n",
      "        [50.0000,  1.0000, 26.6313,  1.0000,  0.0000],\n",
      "        [41.0000,  0.0000, 35.9870,  2.0000,  0.0000],\n",
      "        [37.0000,  1.0000, 28.9060,  0.0000,  0.0000],\n",
      "        [55.0000,  1.0000, 37.1316,  0.0000,  0.0000],\n",
      "        [22.0000,  1.0000, 35.9579,  2.0000,  1.0000],\n",
      "        [56.0000,  0.0000, 26.3840,  0.0000,  0.0000],\n",
      "        [26.0000,  1.0000, 26.2482,  0.0000,  1.0000],\n",
      "        [26.0000,  1.0000, 30.1331,  0.0000,  0.0000],\n",
      "        [43.0000,  0.0000, 31.5832,  3.0000,  1.0000],\n",
      "        [24.0000,  1.0000, 25.0260,  0.0000,  0.0000],\n",
      "        [31.0000,  1.0000, 35.2110,  2.0000,  1.0000],\n",
      "        [38.0000,  1.0000, 18.7210,  0.0000,  1.0000],\n",
      "        [51.0000,  1.0000, 31.3310,  1.0000,  0.0000],\n",
      "        [18.0000,  1.0000, 25.3946,  2.0000,  0.0000],\n",
      "        [57.0000,  0.0000, 22.4846,  0.0000,  0.0000],\n",
      "        [42.0000,  0.0000, 24.5410,  1.0000,  0.0000],\n",
      "        [62.0000,  1.0000, 31.0546,  0.0000,  1.0000],\n",
      "        [61.0000,  1.0000, 35.2110,  1.0000,  1.0000],\n",
      "        [30.0000,  1.0000, 26.8157,  1.0000,  0.0000],\n",
      "        [37.0000,  0.0000, 29.8566,  0.0000,  1.0000],\n",
      "        [61.0000,  1.0000, 31.3310,  2.0000,  0.0000],\n",
      "        [39.0000,  0.0000, 40.5460,  0.0000,  0.0000],\n",
      "        [54.0000,  0.0000, 45.2990,  2.0000,  0.0000],\n",
      "        [44.0000,  0.0000, 31.3698,  1.0000,  0.0000],\n",
      "        [45.0000,  0.0000, 26.8157,  1.0000,  0.0000],\n",
      "        [64.0000,  0.0000, 38.1501,  0.0000,  0.0000],\n",
      "        [47.0000,  0.0000, 31.0400,  1.0000,  0.0000]])\n",
      "targets: tensor([[11024.5703],\n",
      "        [ 3881.9302],\n",
      "        [ 1697.8671],\n",
      "        [ 1796.6416],\n",
      "        [11026.4805],\n",
      "        [ 2043.3712],\n",
      "        [11972.9014],\n",
      "        [ 5875.7036],\n",
      "        [ 6301.5400],\n",
      "        [46426.8438],\n",
      "        [ 1292.5287],\n",
      "        [15057.4629],\n",
      "        [31373.2832],\n",
      "        [ 5031.0854],\n",
      "        [ 6205.5630],\n",
      "        [ 1187.1029],\n",
      "        [ 9761.6074],\n",
      "        [ 6564.4302],\n",
      "        [12124.4395],\n",
      "        [ 7638.8872],\n",
      "        [ 4717.7095],\n",
      "        [ 6069.9814],\n",
      "        [ 6163.9199],\n",
      "        [29058.9395],\n",
      "        [10680.2383],\n",
      "        [17077.3145],\n",
      "        [10511.5098],\n",
      "        [11996.2676],\n",
      "        [ 5343.7871],\n",
      "        [30704.0918],\n",
      "        [ 7023.1597],\n",
      "        [ 7956.8047],\n",
      "        [ 1773.8495],\n",
      "        [ 2352.0315],\n",
      "        [ 7743.7549],\n",
      "        [39209.9531],\n",
      "        [14698.3594],\n",
      "        [10002.3691],\n",
      "        [ 7666.6431],\n",
      "        [21237.4297],\n",
      "        [10635.3359],\n",
      "        [38983.8281],\n",
      "        [11516.1035],\n",
      "        [17725.0742],\n",
      "        [ 2807.5510],\n",
      "        [42578.9375],\n",
      "        [ 2051.8679],\n",
      "        [40259.4414],\n",
      "        [16453.5273],\n",
      "        [10362.6221],\n",
      "        [ 2396.1624],\n",
      "        [12303.8311],\n",
      "        [ 7327.3188],\n",
      "        [47538.6172],\n",
      "        [49300.0352],\n",
      "        [ 4406.6118],\n",
      "        [38760.9570],\n",
      "        [14684.4053],\n",
      "        [ 5888.7139],\n",
      "        [11999.9580],\n",
      "        [ 7939.0693],\n",
      "        [29473.7969],\n",
      "        [15497.5771],\n",
      "        [ 8893.4014]])\n"
     ]
    }
   ],
   "source": [
    "for xb, yb in train_loader:\n",
    "    print(\"inputs:\", xb)\n",
    "    print(\"targets:\", yb)\n",
    "    break"
   ]
  },
  {
   "cell_type": "markdown",
   "metadata": {
    "id": "l-yMuPE0j4O7"
   },
   "source": [
    "Let's save our work by committing to Jovian."
   ]
  },
  {
   "cell_type": "code",
   "execution_count": 104,
   "metadata": {
    "colab": {
     "base_uri": "https://localhost:8080/",
     "height": 108
    },
    "executionInfo": {
     "elapsed": 2817,
     "status": "ok",
     "timestamp": 1641980972063,
     "user": {
      "displayName": "ed19b048 Girhepuje Sahil Satishkumar",
      "photoUrl": "https://lh3.googleusercontent.com/a-/AOh14Gi9XO_3baMGuFfNAyfnSMgM68EWrgj0bkqJXu5rIw=s64",
      "userId": "09412542214202402728"
     },
     "user_tz": -330
    },
    "id": "uBQp8w0Fj4O8",
    "outputId": "054498a2-b75d-4722-cdd2-c653a1022571"
   },
   "outputs": [
    {
     "name": "stdout",
     "output_type": "stream",
     "text": [
      "[jovian] Detected Colab notebook...\u001b[0m\n",
      "[jovian] Uploading colab notebook to Jovian...\u001b[0m\n",
      "[jovian] Attaching records (metrics, hyperparameters, dataset etc.)\u001b[0m\n",
      "Committed successfully! https://jovian.ai/ed19b048/02-insurance-linear-regression\n"
     ]
    },
    {
     "data": {
      "application/vnd.google.colaboratory.intrinsic+json": {
       "type": "string"
      },
      "text/plain": [
       "'https://jovian.ai/ed19b048/02-insurance-linear-regression'"
      ]
     },
     "execution_count": 104,
     "metadata": {},
     "output_type": "execute_result"
    }
   ],
   "source": [
    "jovian.commit(project=project_name, environment=None)"
   ]
  },
  {
   "cell_type": "markdown",
   "metadata": {
    "id": "ahfmlLpmj4O9"
   },
   "source": [
    "## Step 3: Create a Linear Regression Model\n",
    "\n",
    "Our model itself is a fairly straightforward linear regression (we'll build more complex models in the next assignment). \n"
   ]
  },
  {
   "cell_type": "code",
   "execution_count": 105,
   "metadata": {
    "executionInfo": {
     "elapsed": 50,
     "status": "ok",
     "timestamp": 1641980972066,
     "user": {
      "displayName": "ed19b048 Girhepuje Sahil Satishkumar",
      "photoUrl": "https://lh3.googleusercontent.com/a-/AOh14Gi9XO_3baMGuFfNAyfnSMgM68EWrgj0bkqJXu5rIw=s64",
      "userId": "09412542214202402728"
     },
     "user_tz": -330
    },
    "id": "N4L3_Sbxj4O9"
   },
   "outputs": [],
   "source": [
    "input_size = len(input_cols)\n",
    "output_size = len(output_cols)"
   ]
  },
  {
   "cell_type": "markdown",
   "metadata": {
    "id": "Tf8FMlXVj4O-"
   },
   "source": [
    "**Q9: Complete the class definition below by filling out the constructor (`__init__`), `forward`, `training_step` and `validation_step` methods.**\n",
    "\n",
    "Hint: Think carefully about picking a good loss fuction (it's not cross entropy). Maybe try 2-3 of them and see which one works best. See https://pytorch.org/docs/stable/nn.functional.html#loss-functions"
   ]
  },
  {
   "cell_type": "code",
   "execution_count": 106,
   "metadata": {
    "executionInfo": {
     "elapsed": 51,
     "status": "ok",
     "timestamp": 1641980972068,
     "user": {
      "displayName": "ed19b048 Girhepuje Sahil Satishkumar",
      "photoUrl": "https://lh3.googleusercontent.com/a-/AOh14Gi9XO_3baMGuFfNAyfnSMgM68EWrgj0bkqJXu5rIw=s64",
      "userId": "09412542214202402728"
     },
     "user_tz": -330
    },
    "id": "qAqpYd1sqaTJ"
   },
   "outputs": [],
   "source": [
    "# rmse is not available directly\n",
    "# mse gives nan below\n",
    "# np.aqrt does not work obv\n",
    "def my_loss (a,b):\n",
    "    return torch.sqrt(F.mse_loss(a,b))"
   ]
  },
  {
   "cell_type": "code",
   "execution_count": 107,
   "metadata": {
    "executionInfo": {
     "elapsed": 52,
     "status": "ok",
     "timestamp": 1641980972071,
     "user": {
      "displayName": "ed19b048 Girhepuje Sahil Satishkumar",
      "photoUrl": "https://lh3.googleusercontent.com/a-/AOh14Gi9XO_3baMGuFfNAyfnSMgM68EWrgj0bkqJXu5rIw=s64",
      "userId": "09412542214202402728"
     },
     "user_tz": -330
    },
    "id": "YwJN4wauj4O_"
   },
   "outputs": [],
   "source": [
    "class InsuranceModel(nn.Module):\n",
    "    def __init__(self):\n",
    "        super().__init__()\n",
    "        self.linear = nn.Linear(input_size, output_size)                  # fill this (hint: use input_size & output_size defined above)\n",
    "        \n",
    "    def forward(self, xb):\n",
    "        out = self.linear(xb)                          # fill this\n",
    "        return out\n",
    "    \n",
    "    def training_step(self, batch):\n",
    "        inputs, targets = batch \n",
    "        out = self(inputs)                            # Generate predictions \n",
    "        loss = my_loss(out, targets)                 # Calcuate loss         # fill this\n",
    "        return loss\n",
    "    \n",
    "    def validation_step(self, batch):\n",
    "        inputs, targets = batch\n",
    "        out = self(inputs)                           # Generate predictions\n",
    "        loss = my_loss(out, targets)              # fill this    \n",
    "        return {'val_loss': loss.detach()}\n",
    "        \n",
    "    def validation_epoch_end(self, outputs):\n",
    "        batch_losses = [x['val_loss'] for x in outputs]\n",
    "        epoch_loss = torch.stack(batch_losses).mean()   # Combine losses\n",
    "        return {'val_loss': epoch_loss.item()}\n",
    "    \n",
    "    def epoch_end(self, epoch, result, num_epochs):\n",
    "        # Print result every 20th epoch\n",
    "        if (epoch+1) % 20 == 0 or epoch == num_epochs-1:\n",
    "            print(\"Epoch [{}], val_loss: {:.4f}\".format(epoch+1, result['val_loss']))"
   ]
  },
  {
   "cell_type": "markdown",
   "metadata": {
    "id": "okHkrZphj4PB"
   },
   "source": [
    "Let us create a model using the `InsuranceModel` class. You may need to come back later and re-run the next cell to reinitialize the model, in case the loss becomes `nan` or `infinity`."
   ]
  },
  {
   "cell_type": "code",
   "execution_count": 108,
   "metadata": {
    "executionInfo": {
     "elapsed": 54,
     "status": "ok",
     "timestamp": 1641980972074,
     "user": {
      "displayName": "ed19b048 Girhepuje Sahil Satishkumar",
      "photoUrl": "https://lh3.googleusercontent.com/a-/AOh14Gi9XO_3baMGuFfNAyfnSMgM68EWrgj0bkqJXu5rIw=s64",
      "userId": "09412542214202402728"
     },
     "user_tz": -330
    },
    "id": "VaslCkhlj4PC"
   },
   "outputs": [],
   "source": [
    "model = InsuranceModel()"
   ]
  },
  {
   "cell_type": "markdown",
   "metadata": {
    "id": "bP1M3q3vj4PC"
   },
   "source": [
    "Let's check out the weights and biases of the model using `model.parameters`."
   ]
  },
  {
   "cell_type": "code",
   "execution_count": 109,
   "metadata": {
    "colab": {
     "base_uri": "https://localhost:8080/"
    },
    "executionInfo": {
     "elapsed": 54,
     "status": "ok",
     "timestamp": 1641980972076,
     "user": {
      "displayName": "ed19b048 Girhepuje Sahil Satishkumar",
      "photoUrl": "https://lh3.googleusercontent.com/a-/AOh14Gi9XO_3baMGuFfNAyfnSMgM68EWrgj0bkqJXu5rIw=s64",
      "userId": "09412542214202402728"
     },
     "user_tz": -330
    },
    "id": "P9bkNO7Lj4PD",
    "outputId": "ddc151fb-8c9f-4674-e576-5f8af7b8523d"
   },
   "outputs": [
    {
     "data": {
      "text/plain": [
       "[Parameter containing:\n",
       " tensor([[ 0.2579,  0.4081,  0.3704, -0.0985, -0.2774]], requires_grad=True),\n",
       " Parameter containing:\n",
       " tensor([-0.1602], requires_grad=True)]"
      ]
     },
     "execution_count": 109,
     "metadata": {},
     "output_type": "execute_result"
    }
   ],
   "source": [
    "list(model.parameters())"
   ]
  },
  {
   "cell_type": "markdown",
   "metadata": {
    "id": "Lv9Lxkpej4PE"
   },
   "source": [
    "One final commit before we train the model."
   ]
  },
  {
   "cell_type": "code",
   "execution_count": 110,
   "metadata": {
    "colab": {
     "base_uri": "https://localhost:8080/",
     "height": 108
    },
    "executionInfo": {
     "elapsed": 2784,
     "status": "ok",
     "timestamp": 1641980974817,
     "user": {
      "displayName": "ed19b048 Girhepuje Sahil Satishkumar",
      "photoUrl": "https://lh3.googleusercontent.com/a-/AOh14Gi9XO_3baMGuFfNAyfnSMgM68EWrgj0bkqJXu5rIw=s64",
      "userId": "09412542214202402728"
     },
     "user_tz": -330
    },
    "id": "9WKK4cNfj4PF",
    "outputId": "2e60bc2f-891a-44d2-c867-277d2f767e00"
   },
   "outputs": [
    {
     "name": "stdout",
     "output_type": "stream",
     "text": [
      "[jovian] Detected Colab notebook...\u001b[0m\n",
      "[jovian] Uploading colab notebook to Jovian...\u001b[0m\n",
      "[jovian] Attaching records (metrics, hyperparameters, dataset etc.)\u001b[0m\n",
      "Committed successfully! https://jovian.ai/ed19b048/02-insurance-linear-regression\n"
     ]
    },
    {
     "data": {
      "application/vnd.google.colaboratory.intrinsic+json": {
       "type": "string"
      },
      "text/plain": [
       "'https://jovian.ai/ed19b048/02-insurance-linear-regression'"
      ]
     },
     "execution_count": 110,
     "metadata": {},
     "output_type": "execute_result"
    }
   ],
   "source": [
    "jovian.commit(project=project_name, environment=None)"
   ]
  },
  {
   "cell_type": "markdown",
   "metadata": {
    "id": "8FPPm9Tjj4PG"
   },
   "source": [
    "## Step 4: Train the model to fit the data\n",
    "\n",
    "To train our model, we'll use the same `fit` function explained in the lecture. That's the benefit of defining a generic training loop - you can use it for any problem."
   ]
  },
  {
   "cell_type": "code",
   "execution_count": 111,
   "metadata": {
    "executionInfo": {
     "elapsed": 59,
     "status": "ok",
     "timestamp": 1641980974819,
     "user": {
      "displayName": "ed19b048 Girhepuje Sahil Satishkumar",
      "photoUrl": "https://lh3.googleusercontent.com/a-/AOh14Gi9XO_3baMGuFfNAyfnSMgM68EWrgj0bkqJXu5rIw=s64",
      "userId": "09412542214202402728"
     },
     "user_tz": -330
    },
    "id": "gz8oBzLRj4PH"
   },
   "outputs": [],
   "source": [
    "def evaluate(model, val_loader):\n",
    "    outputs = [model.validation_step(batch) for batch in val_loader]\n",
    "    return model.validation_epoch_end(outputs)"
   ]
  },
  {
   "cell_type": "code",
   "execution_count": 112,
   "metadata": {
    "executionInfo": {
     "elapsed": 58,
     "status": "ok",
     "timestamp": 1641980974820,
     "user": {
      "displayName": "ed19b048 Girhepuje Sahil Satishkumar",
      "photoUrl": "https://lh3.googleusercontent.com/a-/AOh14Gi9XO_3baMGuFfNAyfnSMgM68EWrgj0bkqJXu5rIw=s64",
      "userId": "09412542214202402728"
     },
     "user_tz": -330
    },
    "id": "gpG_65_bpe6N"
   },
   "outputs": [],
   "source": [
    "def fit(epochs, lr, model, train_loader, val_loader, opt_func=torch.optim.SGD):\n",
    "    history = []\n",
    "    optimizer = opt_func(model.parameters(), lr)\n",
    "    \n",
    "    for epoch in range(epochs):\n",
    "        # Training Phase \n",
    "        for batch in train_loader:\n",
    "            loss = model.training_step(batch)\n",
    "            loss.backward()\n",
    "            optimizer.step()\n",
    "            optimizer.zero_grad()\n",
    "        # Validation phase\n",
    "        result = evaluate(model, val_loader)\n",
    "        model.epoch_end(epoch, result, epochs)\n",
    "        history.append(result)\n",
    "    return history"
   ]
  },
  {
   "cell_type": "markdown",
   "metadata": {
    "id": "SvmK0opcj4PI"
   },
   "source": [
    "**Q10: Use the `evaluate` function to calculate the loss on the validation set before training.**"
   ]
  },
  {
   "cell_type": "code",
   "execution_count": 113,
   "metadata": {
    "colab": {
     "base_uri": "https://localhost:8080/"
    },
    "executionInfo": {
     "elapsed": 58,
     "status": "ok",
     "timestamp": 1641980974824,
     "user": {
      "displayName": "ed19b048 Girhepuje Sahil Satishkumar",
      "photoUrl": "https://lh3.googleusercontent.com/a-/AOh14Gi9XO_3baMGuFfNAyfnSMgM68EWrgj0bkqJXu5rIw=s64",
      "userId": "09412542214202402728"
     },
     "user_tz": -330
    },
    "id": "Jarhksgsj4PJ",
    "outputId": "0668d029-dd27-4fbe-ee48-18473342142a"
   },
   "outputs": [
    {
     "name": "stdout",
     "output_type": "stream",
     "text": [
      "{'val_loss': 19898.8046875}\n"
     ]
    }
   ],
   "source": [
    "result =  evaluate(model, val_loader) # Use the the evaluate function\n",
    "print(result)"
   ]
  },
  {
   "cell_type": "markdown",
   "metadata": {
    "id": "qvgK1Vzrj4PK"
   },
   "source": [
    "\n",
    "We are now ready to train the model. You may need to run the training loop many times, for different number of epochs and with different learning rates, to get a good result. Also, if your loss becomes too large (or `nan`), you may have to re-initialize the model by running the cell `model = InsuranceModel()`. Experiment with this for a while, and try to get to as low a loss as possible."
   ]
  },
  {
   "cell_type": "markdown",
   "metadata": {
    "id": "bkuvxa7xj4PL"
   },
   "source": [
    "**Q11: Train the model 4-5 times with different learning rates & for different number of epochs.**\n",
    "\n",
    "Hint: Vary learning rates by orders of 10 (e.g. `1e-2`, `1e-3`, `1e-4`, `1e-5`, `1e-6`) to figure out what works."
   ]
  },
  {
   "cell_type": "code",
   "execution_count": 114,
   "metadata": {
    "colab": {
     "base_uri": "https://localhost:8080/"
    },
    "executionInfo": {
     "elapsed": 8,
     "status": "ok",
     "timestamp": 1641980978304,
     "user": {
      "displayName": "ed19b048 Girhepuje Sahil Satishkumar",
      "photoUrl": "https://lh3.googleusercontent.com/a-/AOh14Gi9XO_3baMGuFfNAyfnSMgM68EWrgj0bkqJXu5rIw=s64",
      "userId": "09412542214202402728"
     },
     "user_tz": -330
    },
    "id": "y_qC3Y_Rj4PM",
    "outputId": "7bf574be-3389-4723-9c1b-3e3e366688b5"
   },
   "outputs": [
    {
     "name": "stdout",
     "output_type": "stream",
     "text": [
      "Epoch [10], val_loss: 12379.5693\n"
     ]
    }
   ],
   "source": [
    "epochs = 10\n",
    "lr = 1\n",
    "history1 = fit(epochs, lr, model, train_loader, val_loader)"
   ]
  },
  {
   "cell_type": "code",
   "execution_count": 115,
   "metadata": {
    "colab": {
     "base_uri": "https://localhost:8080/"
    },
    "executionInfo": {
     "elapsed": 6,
     "status": "ok",
     "timestamp": 1641980978819,
     "user": {
      "displayName": "ed19b048 Girhepuje Sahil Satishkumar",
      "photoUrl": "https://lh3.googleusercontent.com/a-/AOh14Gi9XO_3baMGuFfNAyfnSMgM68EWrgj0bkqJXu5rIw=s64",
      "userId": "09412542214202402728"
     },
     "user_tz": -330
    },
    "id": "XXfQxDLHj4PN",
    "outputId": "a335e2c2-0934-47cd-89fe-45a887d6c8e5"
   },
   "outputs": [
    {
     "name": "stdout",
     "output_type": "stream",
     "text": [
      "Epoch [10], val_loss: 12404.5859\n"
     ]
    }
   ],
   "source": [
    "epochs = 10\n",
    "lr = 1e-1\n",
    "history2 = fit(epochs, lr, model, train_loader, val_loader)"
   ]
  },
  {
   "cell_type": "code",
   "execution_count": 116,
   "metadata": {
    "colab": {
     "base_uri": "https://localhost:8080/"
    },
    "executionInfo": {
     "elapsed": 8,
     "status": "ok",
     "timestamp": 1641980981088,
     "user": {
      "displayName": "ed19b048 Girhepuje Sahil Satishkumar",
      "photoUrl": "https://lh3.googleusercontent.com/a-/AOh14Gi9XO_3baMGuFfNAyfnSMgM68EWrgj0bkqJXu5rIw=s64",
      "userId": "09412542214202402728"
     },
     "user_tz": -330
    },
    "id": "it71Rxqaj4PP",
    "outputId": "4d1d5683-d0d7-4df9-a26f-12dc010222b5"
   },
   "outputs": [
    {
     "name": "stdout",
     "output_type": "stream",
     "text": [
      "Epoch [10], val_loss: 12403.8965\n"
     ]
    }
   ],
   "source": [
    "epochs = 10\n",
    "lr = 1e-2\n",
    "history3 = fit(epochs, lr, model, train_loader, val_loader)"
   ]
  },
  {
   "cell_type": "code",
   "execution_count": 117,
   "metadata": {
    "colab": {
     "base_uri": "https://localhost:8080/"
    },
    "executionInfo": {
     "elapsed": 7,
     "status": "ok",
     "timestamp": 1641980982418,
     "user": {
      "displayName": "ed19b048 Girhepuje Sahil Satishkumar",
      "photoUrl": "https://lh3.googleusercontent.com/a-/AOh14Gi9XO_3baMGuFfNAyfnSMgM68EWrgj0bkqJXu5rIw=s64",
      "userId": "09412542214202402728"
     },
     "user_tz": -330
    },
    "id": "m9vFlVD2j4PQ",
    "outputId": "99fee8ce-02fb-4e90-9d55-e8e58a4318d8"
   },
   "outputs": [
    {
     "name": "stdout",
     "output_type": "stream",
     "text": [
      "Epoch [10], val_loss: 12403.8887\n"
     ]
    }
   ],
   "source": [
    "epochs = 10\n",
    "lr = 1e-3\n",
    "history4 = fit(epochs, lr, model, train_loader, val_loader)"
   ]
  },
  {
   "cell_type": "code",
   "execution_count": 118,
   "metadata": {
    "colab": {
     "base_uri": "https://localhost:8080/"
    },
    "executionInfo": {
     "elapsed": 903,
     "status": "ok",
     "timestamp": 1641980984415,
     "user": {
      "displayName": "ed19b048 Girhepuje Sahil Satishkumar",
      "photoUrl": "https://lh3.googleusercontent.com/a-/AOh14Gi9XO_3baMGuFfNAyfnSMgM68EWrgj0bkqJXu5rIw=s64",
      "userId": "09412542214202402728"
     },
     "user_tz": -330
    },
    "id": "1D1fpfKij4PQ",
    "outputId": "5000b9cc-a74a-44d3-fc87-7b75fc220e2b"
   },
   "outputs": [
    {
     "name": "stdout",
     "output_type": "stream",
     "text": [
      "Epoch [20], val_loss: 12403.8818\n"
     ]
    }
   ],
   "source": [
    "epochs = 20\n",
    "lr = 1e-4\n",
    "history5 = fit(epochs, lr, model, train_loader, val_loader)"
   ]
  },
  {
   "cell_type": "markdown",
   "metadata": {
    "id": "E8Ftp6WPj4PR"
   },
   "source": [
    "**Q12: What is the final validation loss of your model?**"
   ]
  },
  {
   "cell_type": "code",
   "execution_count": 119,
   "metadata": {
    "executionInfo": {
     "elapsed": 655,
     "status": "ok",
     "timestamp": 1641981008294,
     "user": {
      "displayName": "ed19b048 Girhepuje Sahil Satishkumar",
      "photoUrl": "https://lh3.googleusercontent.com/a-/AOh14Gi9XO_3baMGuFfNAyfnSMgM68EWrgj0bkqJXu5rIw=s64",
      "userId": "09412542214202402728"
     },
     "user_tz": -330
    },
    "id": "QU28S83Yj4PR"
   },
   "outputs": [],
   "source": [
    "val_loss = 12403.8818"
   ]
  },
  {
   "cell_type": "markdown",
   "metadata": {
    "id": "HBGiBCpjj4PS"
   },
   "source": [
    "Let's log the final validation loss to Jovian and commit the notebook"
   ]
  },
  {
   "cell_type": "code",
   "execution_count": 120,
   "metadata": {
    "colab": {
     "base_uri": "https://localhost:8080/"
    },
    "executionInfo": {
     "elapsed": 21,
     "status": "ok",
     "timestamp": 1641981009118,
     "user": {
      "displayName": "ed19b048 Girhepuje Sahil Satishkumar",
      "photoUrl": "https://lh3.googleusercontent.com/a-/AOh14Gi9XO_3baMGuFfNAyfnSMgM68EWrgj0bkqJXu5rIw=s64",
      "userId": "09412542214202402728"
     },
     "user_tz": -330
    },
    "id": "qPJA3sIrj4PT",
    "outputId": "3a7df753-c100-4037-ca8e-e261487d67c6"
   },
   "outputs": [
    {
     "name": "stdout",
     "output_type": "stream",
     "text": [
      "[jovian] Metrics logged.\u001b[0m\n"
     ]
    }
   ],
   "source": [
    "jovian.log_metrics(val_loss=val_loss)"
   ]
  },
  {
   "cell_type": "code",
   "execution_count": 121,
   "metadata": {
    "colab": {
     "base_uri": "https://localhost:8080/",
     "height": 108
    },
    "executionInfo": {
     "elapsed": 2526,
     "status": "ok",
     "timestamp": 1641981012624,
     "user": {
      "displayName": "ed19b048 Girhepuje Sahil Satishkumar",
      "photoUrl": "https://lh3.googleusercontent.com/a-/AOh14Gi9XO_3baMGuFfNAyfnSMgM68EWrgj0bkqJXu5rIw=s64",
      "userId": "09412542214202402728"
     },
     "user_tz": -330
    },
    "id": "ppYoRsWJj4PT",
    "outputId": "4846e339-7d0a-42b1-8f9d-de6ac875154d"
   },
   "outputs": [
    {
     "name": "stdout",
     "output_type": "stream",
     "text": [
      "[jovian] Detected Colab notebook...\u001b[0m\n",
      "[jovian] Uploading colab notebook to Jovian...\u001b[0m\n",
      "[jovian] Attaching records (metrics, hyperparameters, dataset etc.)\u001b[0m\n",
      "Committed successfully! https://jovian.ai/ed19b048/02-insurance-linear-regression\n"
     ]
    },
    {
     "data": {
      "application/vnd.google.colaboratory.intrinsic+json": {
       "type": "string"
      },
      "text/plain": [
       "'https://jovian.ai/ed19b048/02-insurance-linear-regression'"
      ]
     },
     "execution_count": 121,
     "metadata": {},
     "output_type": "execute_result"
    }
   ],
   "source": [
    "jovian.commit(project=project_name, environment=None)"
   ]
  },
  {
   "cell_type": "markdown",
   "metadata": {
    "id": "ip-rFQ_Nj4PU"
   },
   "source": [
    "Now scroll back up, re-initialize the model, and try different set of values for batch size, number of epochs, learning rate etc. Commit each experiment and use the \"Compare\" and \"View Diff\" options on Jovian to compare the different results."
   ]
  },
  {
   "cell_type": "markdown",
   "metadata": {
    "id": "Rxxt2T69j4PU"
   },
   "source": [
    "## Step 5: Make predictions using the trained model\n",
    "\n",
    "**Q13: Complete the following function definition to make predictions on a single input**"
   ]
  },
  {
   "cell_type": "code",
   "execution_count": 133,
   "metadata": {
    "executionInfo": {
     "elapsed": 517,
     "status": "ok",
     "timestamp": 1641981458219,
     "user": {
      "displayName": "ed19b048 Girhepuje Sahil Satishkumar",
      "photoUrl": "https://lh3.googleusercontent.com/a-/AOh14Gi9XO_3baMGuFfNAyfnSMgM68EWrgj0bkqJXu5rIw=s64",
      "userId": "09412542214202402728"
     },
     "user_tz": -330
    },
    "id": "hQC9gTclj4PV"
   },
   "outputs": [],
   "source": [
    "def predict_single(input, target, model):\n",
    "    inputs = input.unsqueeze(0)\n",
    "    # predictions = model(input).item()                # fill this\n",
    "    predictions = model(input)\n",
    "    prediction = predictions[0].detach()\n",
    "    print(\"Input:\", input)\n",
    "    print(\"Target:\", target)\n",
    "    print(\"Prediction:\", prediction)"
   ]
  },
  {
   "cell_type": "code",
   "execution_count": 124,
   "metadata": {
    "colab": {
     "base_uri": "https://localhost:8080/"
    },
    "executionInfo": {
     "elapsed": 786,
     "status": "ok",
     "timestamp": 1641981121486,
     "user": {
      "displayName": "ed19b048 Girhepuje Sahil Satishkumar",
      "photoUrl": "https://lh3.googleusercontent.com/a-/AOh14Gi9XO_3baMGuFfNAyfnSMgM68EWrgj0bkqJXu5rIw=s64",
      "userId": "09412542214202402728"
     },
     "user_tz": -330
    },
    "id": "VTBIeUBfs3Bm",
    "outputId": "8a2c2fed-c78c-4a37-d5ea-3fe66a1a2582"
   },
   "outputs": [
    {
     "data": {
      "text/plain": [
       "InsuranceModel(\n",
       "  (linear): Linear(in_features=5, out_features=1, bias=True)\n",
       ")"
      ]
     },
     "execution_count": 124,
     "metadata": {},
     "output_type": "execute_result"
    }
   ],
   "source": [
    "model"
   ]
  },
  {
   "cell_type": "code",
   "execution_count": 125,
   "metadata": {
    "colab": {
     "base_uri": "https://localhost:8080/"
    },
    "executionInfo": {
     "elapsed": 602,
     "status": "ok",
     "timestamp": 1641981137292,
     "user": {
      "displayName": "ed19b048 Girhepuje Sahil Satishkumar",
      "photoUrl": "https://lh3.googleusercontent.com/a-/AOh14Gi9XO_3baMGuFfNAyfnSMgM68EWrgj0bkqJXu5rIw=s64",
      "userId": "09412542214202402728"
     },
     "user_tz": -330
    },
    "id": "M8JSZktTs7Ra",
    "outputId": "a376a480-5da2-4653-adc0-c534b04d7df9"
   },
   "outputs": [
    {
     "data": {
      "text/plain": [
       "(tensor([20.0000,  0.0000, 21.1460,  0.0000,  1.0000]), tensor([20974.0293]))"
      ]
     },
     "execution_count": 125,
     "metadata": {},
     "output_type": "execute_result"
    }
   ],
   "source": [
    "input, target = val_ds[0]\n",
    "input, target"
   ]
  },
  {
   "cell_type": "code",
   "execution_count": 128,
   "metadata": {
    "colab": {
     "base_uri": "https://localhost:8080/"
    },
    "executionInfo": {
     "elapsed": 556,
     "status": "ok",
     "timestamp": 1641981179729,
     "user": {
      "displayName": "ed19b048 Girhepuje Sahil Satishkumar",
      "photoUrl": "https://lh3.googleusercontent.com/a-/AOh14Gi9XO_3baMGuFfNAyfnSMgM68EWrgj0bkqJXu5rIw=s64",
      "userId": "09412542214202402728"
     },
     "user_tz": -330
    },
    "id": "v2I-dFn-s_i4",
    "outputId": "b58dc6b1-4a9d-4832-b5d1-7d7a4f30218e"
   },
   "outputs": [
    {
     "data": {
      "text/plain": [
       "(<function Tensor.unsqueeze>,\n",
       " tensor([[20.0000,  0.0000, 21.1460,  0.0000,  1.0000]]))"
      ]
     },
     "execution_count": 128,
     "metadata": {},
     "output_type": "execute_result"
    }
   ],
   "source": [
    "input.unsqueeze, input.unsqueeze(0)"
   ]
  },
  {
   "cell_type": "code",
   "execution_count": 131,
   "metadata": {
    "colab": {
     "base_uri": "https://localhost:8080/"
    },
    "executionInfo": {
     "elapsed": 522,
     "status": "ok",
     "timestamp": 1641981238674,
     "user": {
      "displayName": "ed19b048 Girhepuje Sahil Satishkumar",
      "photoUrl": "https://lh3.googleusercontent.com/a-/AOh14Gi9XO_3baMGuFfNAyfnSMgM68EWrgj0bkqJXu5rIw=s64",
      "userId": "09412542214202402728"
     },
     "user_tz": -330
    },
    "id": "oFUG9ti3tLUk",
    "outputId": "256d2357-8022-4864-9e6a-35becc528cdd"
   },
   "outputs": [
    {
     "data": {
      "text/plain": [
       "(tensor([[8080.5435]], grad_fn=<AddmmBackward0>),\n",
       " tensor([8080.5435], grad_fn=<SelectBackward0>),\n",
       " tensor(8080.5435, grad_fn=<SelectBackward0>))"
      ]
     },
     "execution_count": 131,
     "metadata": {},
     "output_type": "execute_result"
    }
   ],
   "source": [
    "model(input.unsqueeze(0)), model(input.unsqueeze(0))[0], model(input.unsqueeze(0))[0][0]"
   ]
  },
  {
   "cell_type": "code",
   "execution_count": 132,
   "metadata": {
    "colab": {
     "base_uri": "https://localhost:8080/"
    },
    "executionInfo": {
     "elapsed": 530,
     "status": "ok",
     "timestamp": 1641981376212,
     "user": {
      "displayName": "ed19b048 Girhepuje Sahil Satishkumar",
      "photoUrl": "https://lh3.googleusercontent.com/a-/AOh14Gi9XO_3baMGuFfNAyfnSMgM68EWrgj0bkqJXu5rIw=s64",
      "userId": "09412542214202402728"
     },
     "user_tz": -330
    },
    "id": "F1WrN39BtwZx",
    "outputId": "acb6847a-c253-4038-fafa-99021319898b"
   },
   "outputs": [
    {
     "data": {
      "text/plain": [
       "8080.54345703125"
      ]
     },
     "execution_count": 132,
     "metadata": {},
     "output_type": "execute_result"
    }
   ],
   "source": [
    "model(input.unsqueeze(0)).item()"
   ]
  },
  {
   "cell_type": "markdown",
   "metadata": {
    "id": "CcPbhk1Ft-dZ"
   },
   "source": [
    "<hr>"
   ]
  },
  {
   "cell_type": "code",
   "execution_count": 123,
   "metadata": {
    "colab": {
     "base_uri": "https://localhost:8080/",
     "height": 317
    },
    "executionInfo": {
     "elapsed": 12,
     "status": "error",
     "timestamp": 1641981096993,
     "user": {
      "displayName": "ed19b048 Girhepuje Sahil Satishkumar",
      "photoUrl": "https://lh3.googleusercontent.com/a-/AOh14Gi9XO_3baMGuFfNAyfnSMgM68EWrgj0bkqJXu5rIw=s64",
      "userId": "09412542214202402728"
     },
     "user_tz": -330
    },
    "id": "_cxjBC7Tj4PV",
    "outputId": "96856c24-db1b-4b5d-e234-48d9b6729b7e"
   },
   "outputs": [
    {
     "ename": "TypeError",
     "evalue": "ignored",
     "output_type": "error",
     "traceback": [
      "\u001b[0;31m---------------------------------------------------------------------------\u001b[0m",
      "\u001b[0;31mTypeError\u001b[0m                                 Traceback (most recent call last)",
      "\u001b[0;32m<ipython-input-123-18c301bcb29b>\u001b[0m in \u001b[0;36m<module>\u001b[0;34m()\u001b[0m\n\u001b[1;32m      1\u001b[0m \u001b[0minput\u001b[0m\u001b[0;34m,\u001b[0m \u001b[0mtarget\u001b[0m \u001b[0;34m=\u001b[0m \u001b[0mval_ds\u001b[0m\u001b[0;34m[\u001b[0m\u001b[0;36m0\u001b[0m\u001b[0;34m]\u001b[0m\u001b[0;34m\u001b[0m\u001b[0;34m\u001b[0m\u001b[0m\n\u001b[0;32m----> 2\u001b[0;31m \u001b[0mpredict_single\u001b[0m\u001b[0;34m(\u001b[0m\u001b[0minput\u001b[0m\u001b[0;34m,\u001b[0m \u001b[0mtarget\u001b[0m\u001b[0;34m,\u001b[0m \u001b[0mmodel\u001b[0m\u001b[0;34m)\u001b[0m\u001b[0;34m\u001b[0m\u001b[0;34m\u001b[0m\u001b[0m\n\u001b[0m",
      "\u001b[0;32m<ipython-input-122-4a0386319a2b>\u001b[0m in \u001b[0;36mpredict_single\u001b[0;34m(input, target, model)\u001b[0m\n\u001b[1;32m      2\u001b[0m     \u001b[0minputs\u001b[0m \u001b[0;34m=\u001b[0m \u001b[0minput\u001b[0m\u001b[0;34m.\u001b[0m\u001b[0munsqueeze\u001b[0m\u001b[0;34m(\u001b[0m\u001b[0;36m0\u001b[0m\u001b[0;34m)\u001b[0m\u001b[0;34m\u001b[0m\u001b[0;34m\u001b[0m\u001b[0m\n\u001b[1;32m      3\u001b[0m     \u001b[0mpredictions\u001b[0m \u001b[0;34m=\u001b[0m \u001b[0mmodel\u001b[0m\u001b[0;34m(\u001b[0m\u001b[0minput\u001b[0m\u001b[0;34m)\u001b[0m\u001b[0;34m.\u001b[0m\u001b[0mitem\u001b[0m\u001b[0;34m(\u001b[0m\u001b[0;34m)\u001b[0m                \u001b[0;31m# fill this\u001b[0m\u001b[0;34m\u001b[0m\u001b[0;34m\u001b[0m\u001b[0m\n\u001b[0;32m----> 4\u001b[0;31m     \u001b[0mprediction\u001b[0m \u001b[0;34m=\u001b[0m \u001b[0mpredictions\u001b[0m\u001b[0;34m[\u001b[0m\u001b[0;36m0\u001b[0m\u001b[0;34m]\u001b[0m\u001b[0;34m.\u001b[0m\u001b[0mdetach\u001b[0m\u001b[0;34m(\u001b[0m\u001b[0;34m)\u001b[0m\u001b[0;34m\u001b[0m\u001b[0;34m\u001b[0m\u001b[0m\n\u001b[0m\u001b[1;32m      5\u001b[0m     \u001b[0mprint\u001b[0m\u001b[0;34m(\u001b[0m\u001b[0;34m\"Input:\"\u001b[0m\u001b[0;34m,\u001b[0m \u001b[0minput\u001b[0m\u001b[0;34m)\u001b[0m\u001b[0;34m\u001b[0m\u001b[0;34m\u001b[0m\u001b[0m\n\u001b[1;32m      6\u001b[0m     \u001b[0mprint\u001b[0m\u001b[0;34m(\u001b[0m\u001b[0;34m\"Target:\"\u001b[0m\u001b[0;34m,\u001b[0m \u001b[0mtarget\u001b[0m\u001b[0;34m)\u001b[0m\u001b[0;34m\u001b[0m\u001b[0;34m\u001b[0m\u001b[0m\n",
      "\u001b[0;31mTypeError\u001b[0m: 'float' object is not subscriptable"
     ]
    }
   ],
   "source": [
    "input, target = val_ds[0]\n",
    "predict_single(input, target, model)"
   ]
  },
  {
   "cell_type": "code",
   "execution_count": null,
   "metadata": {
    "id": "S5O60JWJj4PW"
   },
   "outputs": [],
   "source": [
    "input, target = val_ds[10]\n",
    "predict_single(input, target, model)"
   ]
  },
  {
   "cell_type": "code",
   "execution_count": null,
   "metadata": {
    "id": "u48kW6UBj4PX"
   },
   "outputs": [],
   "source": [
    "input, target = val_ds[23]\n",
    "predict_single(input, target, model)"
   ]
  },
  {
   "cell_type": "markdown",
   "metadata": {
    "id": "m3vi2lKRj4PY"
   },
   "source": [
    "Are you happy with your model's predictions? Try to improve them further."
   ]
  },
  {
   "cell_type": "markdown",
   "metadata": {
    "id": "cCDcKzqXj4PZ"
   },
   "source": [
    "## (Optional) Step 6: Try another dataset & blog about it\n",
    "\n",
    "While this last step is optional for the submission of your assignment, we highly recommend that you do it. Try to replicate this notebook for a different linear regression or logistic regression problem. This will help solidify your understanding, and give you a chance to differentiate the generic patterns in machine learning from problem-specific details.You can use one of these starer notebooks (just change the dataset):\n",
    "\n",
    "- Linear regression (minimal): https://jovian.ai/aakashns/housing-linear-minimal\n",
    "- Logistic regression (minimal): https://jovian.ai/aakashns/mnist-logistic-minimal\n",
    "\n",
    "Here are some sources to find good datasets:\n",
    "\n",
    "- https://lionbridge.ai/datasets/10-open-datasets-for-linear-regression/\n",
    "- https://www.kaggle.com/rtatman/datasets-for-regression-analysis\n",
    "- https://archive.ics.uci.edu/ml/datasets.php?format=&task=reg&att=&area=&numAtt=&numIns=&type=&sort=nameUp&view=table\n",
    "- https://people.sc.fsu.edu/~jburkardt/datasets/regression/regression.html\n",
    "- https://archive.ics.uci.edu/ml/datasets/wine+quality\n",
    "- https://pytorch.org/docs/stable/torchvision/datasets.html\n",
    "\n",
    "We also recommend that you write a blog about your approach to the problem. Here is a suggested structure for your post (feel free to experiment with it):\n",
    "\n",
    "- Interesting title & subtitle\n",
    "- Overview of what the blog covers (which dataset, linear regression or logistic regression, intro to PyTorch)\n",
    "- Downloading & exploring the data\n",
    "- Preparing the data for training\n",
    "- Creating a model using PyTorch\n",
    "- Training the model to fit the data\n",
    "- Your thoughts on how to experiment with different hyperparmeters to reduce loss\n",
    "- Making predictions using the model\n",
    "\n",
    "As with the previous assignment, you can [embed Juptyer notebook cells & outputs from Jovian](https://medium.com/jovianml/share-and-embed-jupyter-notebooks-online-with-jovian-ml-df709a03064e) into your blog. \n",
    "\n",
    "Don't forget to share your work on the forum: https://jovian.ai/forum/t/linear-regression-and-logistic-regression-notebooks-and-blog-posts/14039"
   ]
  },
  {
   "cell_type": "code",
   "execution_count": null,
   "metadata": {
    "id": "xK_pjvUJj4Pa",
    "outputId": "62f23ad9-9f8b-47d0-faf8-3089a551e904"
   },
   "outputs": [
    {
     "data": {
      "application/javascript": [
       "window.require && require([\"base/js/namespace\"],function(Jupyter){Jupyter.notebook.save_checkpoint()})"
      ],
      "text/plain": [
       "<IPython.core.display.Javascript object>"
      ]
     },
     "metadata": {},
     "output_type": "display_data"
    },
    {
     "name": "stdout",
     "output_type": "stream",
     "text": [
      "[jovian] Attempting to save notebook..\u001b[0m\n",
      "[jovian] Updating notebook \"aakashns/02-insurance-linear-regression\" on https://jovian.ai/\u001b[0m\n",
      "[jovian] Uploading notebook..\u001b[0m\n",
      "[jovian] Committed successfully! https://jovian.ai/aakashns/02-insurance-linear-regression\u001b[0m\n"
     ]
    },
    {
     "data": {
      "application/javascript": [
       "window.require && require([\"base/js/namespace\"],function(Jupyter){Jupyter.notebook.save_checkpoint()})"
      ],
      "text/plain": [
       "<IPython.core.display.Javascript object>"
      ]
     },
     "metadata": {},
     "output_type": "display_data"
    },
    {
     "name": "stdout",
     "output_type": "stream",
     "text": [
      "[jovian] Attempting to save notebook..\u001b[0m\n"
     ]
    }
   ],
   "source": [
    "jovian.commit(project=project_name, environment=None)\n",
    "jovian.commit(project=project_name, environment=None) # try again, kaggle fails sometimes"
   ]
  },
  {
   "cell_type": "code",
   "execution_count": null,
   "metadata": {
    "id": "ms_ae1Jyj4Pb"
   },
   "outputs": [],
   "source": []
  }
 ],
 "metadata": {
  "colab": {
   "name": "02-insurance-linear.ipynb",
   "provenance": []
  },
  "kernelspec": {
   "display_name": "Python 3 (ipykernel)",
   "language": "python",
   "name": "python3"
  },
  "language_info": {
   "codemirror_mode": {
    "name": "ipython",
    "version": 3
   },
   "file_extension": ".py",
   "mimetype": "text/x-python",
   "name": "python",
   "nbconvert_exporter": "python",
   "pygments_lexer": "ipython3",
   "version": "3.8.12"
  },
  "widgets": {
   "application/vnd.jupyter.widget-state+json": {
    "07ea047a359a4507bb831e34ad1e78a3": {
     "model_module": "@jupyter-widgets/base",
     "model_module_version": "1.2.0",
     "model_name": "LayoutModel",
     "state": {
      "_model_module": "@jupyter-widgets/base",
      "_model_module_version": "1.2.0",
      "_model_name": "LayoutModel",
      "_view_count": null,
      "_view_module": "@jupyter-widgets/base",
      "_view_module_version": "1.2.0",
      "_view_name": "LayoutView",
      "align_content": null,
      "align_items": null,
      "align_self": null,
      "border": null,
      "bottom": null,
      "display": null,
      "flex": null,
      "flex_flow": null,
      "grid_area": null,
      "grid_auto_columns": null,
      "grid_auto_flow": null,
      "grid_auto_rows": null,
      "grid_column": null,
      "grid_gap": null,
      "grid_row": null,
      "grid_template_areas": null,
      "grid_template_columns": null,
      "grid_template_rows": null,
      "height": null,
      "justify_content": null,
      "justify_items": null,
      "left": null,
      "margin": null,
      "max_height": null,
      "max_width": null,
      "min_height": null,
      "min_width": null,
      "object_fit": null,
      "object_position": null,
      "order": null,
      "overflow": null,
      "overflow_x": null,
      "overflow_y": null,
      "padding": null,
      "right": null,
      "top": null,
      "visibility": null,
      "width": null
     }
    },
    "158ea3ef3b494a94a1f82c33c6ec4f90": {
     "model_module": "@jupyter-widgets/controls",
     "model_module_version": "1.5.0",
     "model_name": "DescriptionStyleModel",
     "state": {
      "_model_module": "@jupyter-widgets/controls",
      "_model_module_version": "1.5.0",
      "_model_name": "DescriptionStyleModel",
      "_view_count": null,
      "_view_module": "@jupyter-widgets/base",
      "_view_module_version": "1.2.0",
      "_view_name": "StyleView",
      "description_width": ""
     }
    },
    "37d6358e18674db5a5fa01efbd38e077": {
     "model_module": "@jupyter-widgets/base",
     "model_module_version": "1.2.0",
     "model_name": "LayoutModel",
     "state": {
      "_model_module": "@jupyter-widgets/base",
      "_model_module_version": "1.2.0",
      "_model_name": "LayoutModel",
      "_view_count": null,
      "_view_module": "@jupyter-widgets/base",
      "_view_module_version": "1.2.0",
      "_view_name": "LayoutView",
      "align_content": null,
      "align_items": null,
      "align_self": null,
      "border": null,
      "bottom": null,
      "display": null,
      "flex": null,
      "flex_flow": null,
      "grid_area": null,
      "grid_auto_columns": null,
      "grid_auto_flow": null,
      "grid_auto_rows": null,
      "grid_column": null,
      "grid_gap": null,
      "grid_row": null,
      "grid_template_areas": null,
      "grid_template_columns": null,
      "grid_template_rows": null,
      "height": null,
      "justify_content": null,
      "justify_items": null,
      "left": null,
      "margin": null,
      "max_height": null,
      "max_width": null,
      "min_height": null,
      "min_width": null,
      "object_fit": null,
      "object_position": null,
      "order": null,
      "overflow": null,
      "overflow_x": null,
      "overflow_y": null,
      "padding": null,
      "right": null,
      "top": null,
      "visibility": null,
      "width": null
     }
    },
    "498bad3dd0944ab4a1234690155ae79c": {
     "model_module": "@jupyter-widgets/controls",
     "model_module_version": "1.5.0",
     "model_name": "HTMLModel",
     "state": {
      "_dom_classes": [],
      "_model_module": "@jupyter-widgets/controls",
      "_model_module_version": "1.5.0",
      "_model_name": "HTMLModel",
      "_view_count": null,
      "_view_module": "@jupyter-widgets/controls",
      "_view_module_version": "1.5.0",
      "_view_name": "HTMLView",
      "description": "",
      "description_tooltip": null,
      "layout": "IPY_MODEL_37d6358e18674db5a5fa01efbd38e077",
      "placeholder": "​",
      "style": "IPY_MODEL_4f100fe450c64744a09963b4ee199f81",
      "value": " 55296/? [00:00&lt;00:00, 1407963.73it/s]"
     }
    },
    "4f100fe450c64744a09963b4ee199f81": {
     "model_module": "@jupyter-widgets/controls",
     "model_module_version": "1.5.0",
     "model_name": "DescriptionStyleModel",
     "state": {
      "_model_module": "@jupyter-widgets/controls",
      "_model_module_version": "1.5.0",
      "_model_name": "DescriptionStyleModel",
      "_view_count": null,
      "_view_module": "@jupyter-widgets/base",
      "_view_module_version": "1.2.0",
      "_view_name": "StyleView",
      "description_width": ""
     }
    },
    "59dbad68405c4c52bad8678bde192ce2": {
     "model_module": "@jupyter-widgets/controls",
     "model_module_version": "1.5.0",
     "model_name": "ProgressStyleModel",
     "state": {
      "_model_module": "@jupyter-widgets/controls",
      "_model_module_version": "1.5.0",
      "_model_name": "ProgressStyleModel",
      "_view_count": null,
      "_view_module": "@jupyter-widgets/base",
      "_view_module_version": "1.2.0",
      "_view_name": "StyleView",
      "bar_color": null,
      "description_width": ""
     }
    },
    "5d25653f706c4ee997dd26ad098f95f5": {
     "model_module": "@jupyter-widgets/controls",
     "model_module_version": "1.5.0",
     "model_name": "FloatProgressModel",
     "state": {
      "_dom_classes": [],
      "_model_module": "@jupyter-widgets/controls",
      "_model_module_version": "1.5.0",
      "_model_name": "FloatProgressModel",
      "_view_count": null,
      "_view_module": "@jupyter-widgets/controls",
      "_view_module_version": "1.5.0",
      "_view_name": "ProgressView",
      "bar_style": "success",
      "description": "",
      "description_tooltip": null,
      "layout": "IPY_MODEL_61e75673254e49edb610be183cb130ca",
      "max": 54288,
      "min": 0,
      "orientation": "horizontal",
      "style": "IPY_MODEL_59dbad68405c4c52bad8678bde192ce2",
      "value": 54288
     }
    },
    "61e75673254e49edb610be183cb130ca": {
     "model_module": "@jupyter-widgets/base",
     "model_module_version": "1.2.0",
     "model_name": "LayoutModel",
     "state": {
      "_model_module": "@jupyter-widgets/base",
      "_model_module_version": "1.2.0",
      "_model_name": "LayoutModel",
      "_view_count": null,
      "_view_module": "@jupyter-widgets/base",
      "_view_module_version": "1.2.0",
      "_view_name": "LayoutView",
      "align_content": null,
      "align_items": null,
      "align_self": null,
      "border": null,
      "bottom": null,
      "display": null,
      "flex": null,
      "flex_flow": null,
      "grid_area": null,
      "grid_auto_columns": null,
      "grid_auto_flow": null,
      "grid_auto_rows": null,
      "grid_column": null,
      "grid_gap": null,
      "grid_row": null,
      "grid_template_areas": null,
      "grid_template_columns": null,
      "grid_template_rows": null,
      "height": null,
      "justify_content": null,
      "justify_items": null,
      "left": null,
      "margin": null,
      "max_height": null,
      "max_width": null,
      "min_height": null,
      "min_width": null,
      "object_fit": null,
      "object_position": null,
      "order": null,
      "overflow": null,
      "overflow_x": null,
      "overflow_y": null,
      "padding": null,
      "right": null,
      "top": null,
      "visibility": null,
      "width": null
     }
    },
    "776c15beedbd4b7b9ed6d2cd2eb9f5a6": {
     "model_module": "@jupyter-widgets/controls",
     "model_module_version": "1.5.0",
     "model_name": "HBoxModel",
     "state": {
      "_dom_classes": [],
      "_model_module": "@jupyter-widgets/controls",
      "_model_module_version": "1.5.0",
      "_model_name": "HBoxModel",
      "_view_count": null,
      "_view_module": "@jupyter-widgets/controls",
      "_view_module_version": "1.5.0",
      "_view_name": "HBoxView",
      "box_style": "",
      "children": [
       "IPY_MODEL_be86be84b10541ee81c5e3b0137fcb5d",
       "IPY_MODEL_5d25653f706c4ee997dd26ad098f95f5",
       "IPY_MODEL_498bad3dd0944ab4a1234690155ae79c"
      ],
      "layout": "IPY_MODEL_07ea047a359a4507bb831e34ad1e78a3"
     }
    },
    "be86be84b10541ee81c5e3b0137fcb5d": {
     "model_module": "@jupyter-widgets/controls",
     "model_module_version": "1.5.0",
     "model_name": "HTMLModel",
     "state": {
      "_dom_classes": [],
      "_model_module": "@jupyter-widgets/controls",
      "_model_module_version": "1.5.0",
      "_model_name": "HTMLModel",
      "_view_count": null,
      "_view_module": "@jupyter-widgets/controls",
      "_view_module_version": "1.5.0",
      "_view_name": "HTMLView",
      "description": "",
      "description_tooltip": null,
      "layout": "IPY_MODEL_c5e2454ac05d44f987571322207156fd",
      "placeholder": "​",
      "style": "IPY_MODEL_158ea3ef3b494a94a1f82c33c6ec4f90",
      "value": ""
     }
    },
    "c5e2454ac05d44f987571322207156fd": {
     "model_module": "@jupyter-widgets/base",
     "model_module_version": "1.2.0",
     "model_name": "LayoutModel",
     "state": {
      "_model_module": "@jupyter-widgets/base",
      "_model_module_version": "1.2.0",
      "_model_name": "LayoutModel",
      "_view_count": null,
      "_view_module": "@jupyter-widgets/base",
      "_view_module_version": "1.2.0",
      "_view_name": "LayoutView",
      "align_content": null,
      "align_items": null,
      "align_self": null,
      "border": null,
      "bottom": null,
      "display": null,
      "flex": null,
      "flex_flow": null,
      "grid_area": null,
      "grid_auto_columns": null,
      "grid_auto_flow": null,
      "grid_auto_rows": null,
      "grid_column": null,
      "grid_gap": null,
      "grid_row": null,
      "grid_template_areas": null,
      "grid_template_columns": null,
      "grid_template_rows": null,
      "height": null,
      "justify_content": null,
      "justify_items": null,
      "left": null,
      "margin": null,
      "max_height": null,
      "max_width": null,
      "min_height": null,
      "min_width": null,
      "object_fit": null,
      "object_position": null,
      "order": null,
      "overflow": null,
      "overflow_x": null,
      "overflow_y": null,
      "padding": null,
      "right": null,
      "top": null,
      "visibility": null,
      "width": null
     }
    }
   }
  }
 },
 "nbformat": 4,
 "nbformat_minor": 1
}
