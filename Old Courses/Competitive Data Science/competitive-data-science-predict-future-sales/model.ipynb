{
 "cells": [
  {
   "cell_type": "code",
   "execution_count": 1,
   "id": "59d84981",
   "metadata": {},
   "outputs": [],
   "source": [
    "import numpy as np\n",
    "import pandas as pd\n",
    "import datetime\n",
    "import matplotlib\n",
    "import matplotlib.pyplot as plt\n",
    "import seaborn as sns"
   ]
  },
  {
   "cell_type": "code",
   "execution_count": 2,
   "id": "01b86f40",
   "metadata": {},
   "outputs": [],
   "source": [
    "# from itertools import product"
   ]
  },
  {
   "cell_type": "code",
   "execution_count": 3,
   "id": "a653c725",
   "metadata": {},
   "outputs": [],
   "source": [
    "df =  pd.read_pickle('./mypkl/clean_with_datetime_lag_en.pkl')"
   ]
  },
  {
   "cell_type": "code",
   "execution_count": 4,
   "id": "97a3404a",
   "metadata": {},
   "outputs": [
    {
     "data": {
      "text/html": [
       "<div>\n",
       "<style scoped>\n",
       "    .dataframe tbody tr th:only-of-type {\n",
       "        vertical-align: middle;\n",
       "    }\n",
       "\n",
       "    .dataframe tbody tr th {\n",
       "        vertical-align: top;\n",
       "    }\n",
       "\n",
       "    .dataframe thead th {\n",
       "        text-align: right;\n",
       "    }\n",
       "</style>\n",
       "<table border=\"1\" class=\"dataframe\">\n",
       "  <thead>\n",
       "    <tr style=\"text-align: right;\">\n",
       "      <th></th>\n",
       "      <th>date</th>\n",
       "      <th>date_block_num</th>\n",
       "      <th>shop_id</th>\n",
       "      <th>item_id</th>\n",
       "      <th>item_price</th>\n",
       "      <th>item_cnt_day</th>\n",
       "      <th>item_name</th>\n",
       "      <th>item_category_id</th>\n",
       "      <th>item_category_name</th>\n",
       "      <th>shop_name</th>\n",
       "      <th>...</th>\n",
       "      <th>item_cnt_day_lag_6</th>\n",
       "      <th>item_price_lag_6</th>\n",
       "      <th>item_cnt_day_lag_7</th>\n",
       "      <th>item_price_lag_7</th>\n",
       "      <th>item_cnt_day_lag_10</th>\n",
       "      <th>item_price_lag_10</th>\n",
       "      <th>item_cnt_day_lag_15</th>\n",
       "      <th>item_price_lag_15</th>\n",
       "      <th>item_cnt_day_lag_20</th>\n",
       "      <th>item_price_lag_20</th>\n",
       "    </tr>\n",
       "  </thead>\n",
       "  <tbody>\n",
       "    <tr>\n",
       "      <th>0</th>\n",
       "      <td>2013-01-01</td>\n",
       "      <td>0</td>\n",
       "      <td>27</td>\n",
       "      <td>8665</td>\n",
       "      <td>299.0</td>\n",
       "      <td>1.0</td>\n",
       "      <td>BARBOSKINY ISSUE 5: The Sorcerer's Apprentice</td>\n",
       "      <td>40</td>\n",
       "      <td>Movie - DVD</td>\n",
       "      <td>Moscow shopping center \"MEGA Belaya Dacha II\"</td>\n",
       "      <td>...</td>\n",
       "      <td>99999.0</td>\n",
       "      <td>99999.0</td>\n",
       "      <td>99999.0</td>\n",
       "      <td>99999.0</td>\n",
       "      <td>99999.0</td>\n",
       "      <td>99999.0</td>\n",
       "      <td>99999.0</td>\n",
       "      <td>99999.0</td>\n",
       "      <td>99999.0</td>\n",
       "      <td>99999.0</td>\n",
       "    </tr>\n",
       "    <tr>\n",
       "      <th>1</th>\n",
       "      <td>2013-01-01</td>\n",
       "      <td>0</td>\n",
       "      <td>27</td>\n",
       "      <td>10324</td>\n",
       "      <td>1199.0</td>\n",
       "      <td>1.0</td>\n",
       "      <td>HARRY POTTER AND THE DEATHLY HALLOWS. PART 1 (...</td>\n",
       "      <td>38</td>\n",
       "      <td>Movies - Blu-Ray 3D</td>\n",
       "      <td>Moscow shopping center \"MEGA Belaya Dacha II\"</td>\n",
       "      <td>...</td>\n",
       "      <td>99999.0</td>\n",
       "      <td>99999.0</td>\n",
       "      <td>99999.0</td>\n",
       "      <td>99999.0</td>\n",
       "      <td>99999.0</td>\n",
       "      <td>99999.0</td>\n",
       "      <td>99999.0</td>\n",
       "      <td>99999.0</td>\n",
       "      <td>99999.0</td>\n",
       "      <td>99999.0</td>\n",
       "    </tr>\n",
       "  </tbody>\n",
       "</table>\n",
       "<p>2 rows × 49 columns</p>\n",
       "</div>"
      ],
      "text/plain": [
       "        date  date_block_num  shop_id  item_id  item_price  item_cnt_day  \\\n",
       "0 2013-01-01               0       27     8665       299.0           1.0   \n",
       "1 2013-01-01               0       27    10324      1199.0           1.0   \n",
       "\n",
       "                                           item_name  item_category_id  \\\n",
       "0      BARBOSKINY ISSUE 5: The Sorcerer's Apprentice                40   \n",
       "1  HARRY POTTER AND THE DEATHLY HALLOWS. PART 1 (...                38   \n",
       "\n",
       "    item_category_name                                      shop_name  ...  \\\n",
       "0          Movie - DVD  Moscow shopping center \"MEGA Belaya Dacha II\"  ...   \n",
       "1  Movies - Blu-Ray 3D  Moscow shopping center \"MEGA Belaya Dacha II\"  ...   \n",
       "\n",
       "   item_cnt_day_lag_6  item_price_lag_6  item_cnt_day_lag_7  item_price_lag_7  \\\n",
       "0             99999.0           99999.0             99999.0           99999.0   \n",
       "1             99999.0           99999.0             99999.0           99999.0   \n",
       "\n",
       "   item_cnt_day_lag_10  item_price_lag_10  item_cnt_day_lag_15  \\\n",
       "0              99999.0            99999.0              99999.0   \n",
       "1              99999.0            99999.0              99999.0   \n",
       "\n",
       "   item_price_lag_15  item_cnt_day_lag_20  item_price_lag_20  \n",
       "0            99999.0              99999.0            99999.0  \n",
       "1            99999.0              99999.0            99999.0  \n",
       "\n",
       "[2 rows x 49 columns]"
      ]
     },
     "execution_count": 4,
     "metadata": {},
     "output_type": "execute_result"
    }
   ],
   "source": [
    "df.head(2)"
   ]
  },
  {
   "cell_type": "markdown",
   "id": "c026f6ea",
   "metadata": {},
   "source": [
    "#### get top 10 names and make column if they are present"
   ]
  },
  {
   "cell_type": "code",
   "execution_count": 5,
   "id": "79a79d6a",
   "metadata": {},
   "outputs": [],
   "source": [
    "top_words_item_name = ['russion', 'version', 'pc', 'jewel', 'ps3', 'edition', 'xbox', 'region', '360', 'subtitles', 'ps4', 'game', 'black', 'ps', '3d', 'assassin', 'sims', 'collection']\n",
    "top_words_item_category = ['games', 'movie', 'dvd', 'pc', 'music', 'gifts', 'edition', 'standard', 'cd', 'production', 'local', 'movies', 'bluray', 'ps3', 'xbox', '360', 'additional', 'publications', 'ps4', 'accessories', 'books', 'programs', 'souvenirs', 'soft', 'toys', 'compact', 'figures', 'home', 'office', 'collector']\n",
    "top_words_shop_name = ['moscow', 'tc', 'center', 'shopping', 'mega', 'sec', 'trc', 'ii', 'mall', 'semyonov', 'tk', 'yakutsk', 'atrium', 'sc', 'st', 'petersburg', 'voronezh', 'khimki']\n",
    "\n",
    "top_words_big_list = top_words_item_name + top_words_item_category + top_words_shop_name"
   ]
  },
  {
   "cell_type": "code",
   "execution_count": 6,
   "id": "7d981ab4",
   "metadata": {},
   "outputs": [],
   "source": [
    "cols_to_lower = ['item_name', 'item_category_name', 'shop_name']\n",
    "for col in cols_to_lower:\n",
    "    df[col] = df[col].str.lower()\n",
    "# direct nahi jamta hai"
   ]
  },
  {
   "cell_type": "code",
   "execution_count": 7,
   "id": "8126b9c3",
   "metadata": {},
   "outputs": [],
   "source": [
    "# for x,y,z in zip(top_words_item_name, top_words_item_category, top_words_shop_name): \n",
    "#     print(x,y,z)\n",
    "# wo sab nahi iterate hote phir zip kar diya to"
   ]
  },
  {
   "cell_type": "code",
   "execution_count": 8,
   "id": "71f86c36",
   "metadata": {},
   "outputs": [
    {
     "data": {
      "text/plain": [
       "0    0\n",
       "1    0\n",
       "2    0\n",
       "3    0\n",
       "4    0\n",
       "Name: item_name, dtype: int64"
      ]
     },
     "execution_count": 8,
     "metadata": {},
     "output_type": "execute_result"
    }
   ],
   "source": [
    "df['item_name'].map(lambda x: 1 if 'ISSUE' in x else 0)[:5]\n",
    "# would have been 1 in first row if upper case rehta"
   ]
  },
  {
   "cell_type": "code",
   "execution_count": 9,
   "id": "307cb0a4",
   "metadata": {},
   "outputs": [],
   "source": [
    "for word in top_words_item_name: \n",
    "    df['top_item_name'] = df['item_name'].map(lambda x: 1 if word in x else 0)\n",
    "    \n",
    "for word in top_words_item_category: \n",
    "    df['top_category_name'] = df['item_category_name'].map(lambda x: 1 if word in x else 0)\n",
    "    \n",
    "for word in top_words_shop_name: \n",
    "    df['top_shop_name'] = df['shop_name'].map(lambda x: 1 if word in x else 0)"
   ]
  },
  {
   "cell_type": "code",
   "execution_count": 10,
   "id": "aa5467c0",
   "metadata": {},
   "outputs": [
    {
     "data": {
      "text/plain": [
       "0    2870667\n",
       "1      55519\n",
       "Name: top_item_name, dtype: int64"
      ]
     },
     "execution_count": 10,
     "metadata": {},
     "output_type": "execute_result"
    }
   ],
   "source": [
    "df['top_item_name'].value_counts()"
   ]
  },
  {
   "cell_type": "code",
   "execution_count": 11,
   "id": "336e8a5a",
   "metadata": {},
   "outputs": [
    {
     "data": {
      "text/plain": [
       "0    2783254\n",
       "1     142932\n",
       "Name: top_shop_name, dtype: int64"
      ]
     },
     "execution_count": 11,
     "metadata": {},
     "output_type": "execute_result"
    }
   ],
   "source": [
    "df['top_shop_name'].value_counts()"
   ]
  },
  {
   "cell_type": "code",
   "execution_count": 12,
   "id": "f2610127",
   "metadata": {},
   "outputs": [
    {
     "data": {
      "text/plain": [
       "0    2881445\n",
       "1      44741\n",
       "Name: top_category_name, dtype: int64"
      ]
     },
     "execution_count": 12,
     "metadata": {},
     "output_type": "execute_result"
    }
   ],
   "source": [
    "df['top_category_name'].value_counts()"
   ]
  },
  {
   "cell_type": "code",
   "execution_count": 13,
   "id": "fb591d8f",
   "metadata": {},
   "outputs": [
    {
     "data": {
      "text/plain": [
       "0    2692395\n",
       "1     224689\n",
       "2       8803\n",
       "3        299\n",
       "Name: top_words_total, dtype: int64"
      ]
     },
     "execution_count": 13,
     "metadata": {},
     "output_type": "execute_result"
    }
   ],
   "source": [
    "df['top_words_total'] = df['top_item_name']+ df['top_category_name']+df['top_shop_name']\n",
    "df['top_words_total'].value_counts()"
   ]
  },
  {
   "cell_type": "markdown",
   "id": "84c5645b",
   "metadata": {},
   "source": [
    "### my try"
   ]
  },
  {
   "cell_type": "code",
   "execution_count": 14,
   "id": "987f2f91",
   "metadata": {},
   "outputs": [],
   "source": [
    "groups_try = df.iloc[:3000].groupby(['shop_id','item_id', 'date_block_num'])"
   ]
  },
  {
   "cell_type": "code",
   "execution_count": 15,
   "id": "26ed96ab",
   "metadata": {},
   "outputs": [
    {
     "data": {
      "text/plain": [
       "Index(['date', 'date_block_num', 'shop_id', 'item_id', 'item_price',\n",
       "       'item_cnt_day', 'item_name', 'item_category_id', 'item_category_name',\n",
       "       'shop_name', 'date_year', 'date_quarter', 'date_month', 'date_day',\n",
       "       'date_day_of_week', 'date_day_of_year', 'date_weekofyear',\n",
       "       'date_is_month_end', 'date_is_month_start', 'date_is_quarter_end',\n",
       "       'date_is_quarter_start', 'date_is_year_end', 'date_is_year_start',\n",
       "       'date_is_weekend', 'date_day_part', 'is_Holiday', 'is_near_Holiday',\n",
       "       'until_holiday', 'since_holiday', 'item_cnt_day_lag_1',\n",
       "       'item_price_lag_1', 'item_cnt_day_lag_2', 'item_price_lag_2',\n",
       "       'item_cnt_day_lag_3', 'item_price_lag_3', 'item_cnt_day_lag_4',\n",
       "       'item_price_lag_4', 'item_cnt_day_lag_5', 'item_price_lag_5',\n",
       "       'item_cnt_day_lag_6', 'item_price_lag_6', 'item_cnt_day_lag_7',\n",
       "       'item_price_lag_7', 'item_cnt_day_lag_10', 'item_price_lag_10',\n",
       "       'item_cnt_day_lag_15', 'item_price_lag_15', 'item_cnt_day_lag_20',\n",
       "       'item_price_lag_20', 'top_item_name', 'top_category_name',\n",
       "       'top_shop_name', 'top_words_total'],\n",
       "      dtype='object')"
      ]
     },
     "execution_count": 15,
     "metadata": {},
     "output_type": "execute_result"
    }
   ],
   "source": [
    "df.columns"
   ]
  },
  {
   "cell_type": "code",
   "execution_count": 16,
   "id": "a6b4067d",
   "metadata": {},
   "outputs": [],
   "source": [
    "# trainset = groups_try.agg({'item_cnt_day':'sum', 'item_price':'mean'}).reset_index()"
   ]
  },
  {
   "cell_type": "code",
   "execution_count": 17,
   "id": "0b809bd5",
   "metadata": {},
   "outputs": [],
   "source": [
    "# groups_try.agg??"
   ]
  },
  {
   "cell_type": "code",
   "execution_count": 18,
   "id": "1e93ebe2",
   "metadata": {},
   "outputs": [],
   "source": [
    "lag_cols = [col for col in df.columns if 'lag' in col]\n",
    "top_cols = [col for col in df.columns if 'top' in col]\n",
    "date_cols = [col for col in df.columns if 'date' in col]\n",
    "# holiday miss ho gaya, so making it manually"
   ]
  },
  {
   "cell_type": "code",
   "execution_count": 19,
   "id": "01ec508b",
   "metadata": {},
   "outputs": [],
   "source": [
    "big_list_cols = ['date_year', 'date_quarter', 'date_month', 'date_day',\n",
    "       'date_day_of_week', 'date_day_of_year', 'date_weekofyear',\n",
    "       'date_is_month_end', 'date_is_month_start', 'date_is_quarter_end',\n",
    "       'date_is_quarter_start', 'date_is_year_end', 'date_is_year_start',\n",
    "       'date_is_weekend', 'date_day_part', 'is_Holiday', 'is_near_Holiday',\n",
    "       'until_holiday', 'since_holiday', 'item_cnt_day_lag_1',\n",
    "       'item_price_lag_1', 'item_cnt_day_lag_2', 'item_price_lag_2',\n",
    "       'item_cnt_day_lag_3', 'item_price_lag_3', 'item_cnt_day_lag_4',\n",
    "       'item_price_lag_4', 'item_cnt_day_lag_5', 'item_price_lag_5',\n",
    "       'item_cnt_day_lag_6', 'item_price_lag_6', 'item_cnt_day_lag_7',\n",
    "       'item_price_lag_7', 'item_cnt_day_lag_10', 'item_price_lag_10',\n",
    "       'item_cnt_day_lag_15', 'item_price_lag_15', 'item_cnt_day_lag_20',\n",
    "       'item_price_lag_20','top_item_name', 'top_category_name',\n",
    "       'top_shop_name', 'top_words_total']"
   ]
  },
  {
   "cell_type": "code",
   "execution_count": 20,
   "id": "9674f56e",
   "metadata": {},
   "outputs": [],
   "source": [
    "old_cols = ['item_price', 'item_cnt_day', 'item_name', \n",
    "            'item_category_id', 'item_category_name', 'shop_name']"
   ]
  },
  {
   "cell_type": "code",
   "execution_count": 21,
   "id": "b5d716ca",
   "metadata": {},
   "outputs": [],
   "source": [
    "df.replace(99999, np.int8(0), inplace=True)"
   ]
  },
  {
   "cell_type": "code",
   "execution_count": 22,
   "id": "aab93a29",
   "metadata": {},
   "outputs": [],
   "source": [
    "new_df = df.groupby(['shop_id','item_id', 'date_block_num'])[big_list_cols].agg(['mean', 'min', 'max']).reset_index()\n",
    "# new_df = df.groupby(['shop_id','item_id', 'date_block_num'])[big_list_cols].agg(['mean']).reset_index()"
   ]
  },
  {
   "cell_type": "code",
   "execution_count": 23,
   "id": "68911a88",
   "metadata": {},
   "outputs": [
    {
     "data": {
      "text/html": [
       "<div>\n",
       "<style scoped>\n",
       "    .dataframe tbody tr th:only-of-type {\n",
       "        vertical-align: middle;\n",
       "    }\n",
       "\n",
       "    .dataframe tbody tr th {\n",
       "        vertical-align: top;\n",
       "    }\n",
       "\n",
       "    .dataframe thead tr th {\n",
       "        text-align: left;\n",
       "    }\n",
       "</style>\n",
       "<table border=\"1\" class=\"dataframe\">\n",
       "  <thead>\n",
       "    <tr>\n",
       "      <th></th>\n",
       "      <th>shop_id</th>\n",
       "      <th>item_id</th>\n",
       "      <th>date_block_num</th>\n",
       "      <th colspan=\"3\" halign=\"left\">date_year</th>\n",
       "      <th colspan=\"3\" halign=\"left\">date_quarter</th>\n",
       "      <th>date_month</th>\n",
       "      <th>...</th>\n",
       "      <th>top_item_name</th>\n",
       "      <th colspan=\"3\" halign=\"left\">top_category_name</th>\n",
       "      <th colspan=\"3\" halign=\"left\">top_shop_name</th>\n",
       "      <th colspan=\"3\" halign=\"left\">top_words_total</th>\n",
       "    </tr>\n",
       "    <tr>\n",
       "      <th></th>\n",
       "      <th></th>\n",
       "      <th></th>\n",
       "      <th></th>\n",
       "      <th>mean</th>\n",
       "      <th>min</th>\n",
       "      <th>max</th>\n",
       "      <th>mean</th>\n",
       "      <th>min</th>\n",
       "      <th>max</th>\n",
       "      <th>mean</th>\n",
       "      <th>...</th>\n",
       "      <th>max</th>\n",
       "      <th>mean</th>\n",
       "      <th>min</th>\n",
       "      <th>max</th>\n",
       "      <th>mean</th>\n",
       "      <th>min</th>\n",
       "      <th>max</th>\n",
       "      <th>mean</th>\n",
       "      <th>min</th>\n",
       "      <th>max</th>\n",
       "    </tr>\n",
       "  </thead>\n",
       "  <tbody>\n",
       "    <tr>\n",
       "      <th>0</th>\n",
       "      <td>0</td>\n",
       "      <td>30</td>\n",
       "      <td>1</td>\n",
       "      <td>2013.0</td>\n",
       "      <td>2013</td>\n",
       "      <td>2013</td>\n",
       "      <td>1.0</td>\n",
       "      <td>1</td>\n",
       "      <td>1</td>\n",
       "      <td>2.0</td>\n",
       "      <td>...</td>\n",
       "      <td>0</td>\n",
       "      <td>0.0</td>\n",
       "      <td>0</td>\n",
       "      <td>0</td>\n",
       "      <td>0.0</td>\n",
       "      <td>0</td>\n",
       "      <td>0</td>\n",
       "      <td>0.0</td>\n",
       "      <td>0</td>\n",
       "      <td>0</td>\n",
       "    </tr>\n",
       "    <tr>\n",
       "      <th>1</th>\n",
       "      <td>0</td>\n",
       "      <td>31</td>\n",
       "      <td>1</td>\n",
       "      <td>2013.0</td>\n",
       "      <td>2013</td>\n",
       "      <td>2013</td>\n",
       "      <td>1.0</td>\n",
       "      <td>1</td>\n",
       "      <td>1</td>\n",
       "      <td>2.0</td>\n",
       "      <td>...</td>\n",
       "      <td>0</td>\n",
       "      <td>0.0</td>\n",
       "      <td>0</td>\n",
       "      <td>0</td>\n",
       "      <td>0.0</td>\n",
       "      <td>0</td>\n",
       "      <td>0</td>\n",
       "      <td>0.0</td>\n",
       "      <td>0</td>\n",
       "      <td>0</td>\n",
       "    </tr>\n",
       "  </tbody>\n",
       "</table>\n",
       "<p>2 rows × 129 columns</p>\n",
       "</div>"
      ],
      "text/plain": [
       "  shop_id item_id date_block_num date_year             date_quarter          \\\n",
       "                                      mean   min   max         mean min max   \n",
       "0       0      30              1    2013.0  2013  2013          1.0   1   1   \n",
       "1       0      31              1    2013.0  2013  2013          1.0   1   1   \n",
       "\n",
       "  date_month  ... top_item_name top_category_name         top_shop_name      \\\n",
       "        mean  ...           max              mean min max          mean min   \n",
       "0        2.0  ...             0               0.0   0   0           0.0   0   \n",
       "1        2.0  ...             0               0.0   0   0           0.0   0   \n",
       "\n",
       "      top_words_total          \n",
       "  max            mean min max  \n",
       "0   0             0.0   0   0  \n",
       "1   0             0.0   0   0  \n",
       "\n",
       "[2 rows x 129 columns]"
      ]
     },
     "execution_count": 23,
     "metadata": {},
     "output_type": "execute_result"
    }
   ],
   "source": [
    "new_df.head(2)"
   ]
  },
  {
   "cell_type": "code",
   "execution_count": 24,
   "id": "00075bcd",
   "metadata": {},
   "outputs": [
    {
     "data": {
      "text/plain": [
       "MultiIndex([(          'shop_id',     ''),\n",
       "            (          'item_id',     ''),\n",
       "            (   'date_block_num',     ''),\n",
       "            (        'date_year', 'mean'),\n",
       "            (        'date_year',  'min'),\n",
       "            (        'date_year',  'max'),\n",
       "            (     'date_quarter', 'mean'),\n",
       "            (     'date_quarter',  'min'),\n",
       "            (     'date_quarter',  'max'),\n",
       "            (       'date_month', 'mean'),\n",
       "            ...\n",
       "            (    'top_item_name',  'max'),\n",
       "            ('top_category_name', 'mean'),\n",
       "            ('top_category_name',  'min'),\n",
       "            ('top_category_name',  'max'),\n",
       "            (    'top_shop_name', 'mean'),\n",
       "            (    'top_shop_name',  'min'),\n",
       "            (    'top_shop_name',  'max'),\n",
       "            (  'top_words_total', 'mean'),\n",
       "            (  'top_words_total',  'min'),\n",
       "            (  'top_words_total',  'max')],\n",
       "           length=129)"
      ]
     },
     "execution_count": 24,
     "metadata": {},
     "output_type": "execute_result"
    }
   ],
   "source": [
    "new_df.columns"
   ]
  },
  {
   "cell_type": "code",
   "execution_count": 25,
   "id": "0ac68c80",
   "metadata": {},
   "outputs": [],
   "source": [
    "new_df.columns = [' '.join(col).strip() for col in new_df.columns.values]"
   ]
  },
  {
   "cell_type": "code",
   "execution_count": 26,
   "id": "46417f71",
   "metadata": {},
   "outputs": [
    {
     "data": {
      "text/plain": [
       "Index(['shop_id', 'item_id', 'date_block_num', 'date_year mean',\n",
       "       'date_year min', 'date_year max', 'date_quarter mean',\n",
       "       'date_quarter min', 'date_quarter max', 'date_month mean',\n",
       "       ...\n",
       "       'top_item_name max', 'top_category_name mean', 'top_category_name min',\n",
       "       'top_category_name max', 'top_shop_name mean', 'top_shop_name min',\n",
       "       'top_shop_name max', 'top_words_total mean', 'top_words_total min',\n",
       "       'top_words_total max'],\n",
       "      dtype='object', length=129)"
      ]
     },
     "execution_count": 26,
     "metadata": {},
     "output_type": "execute_result"
    }
   ],
   "source": [
    "new_df.columns"
   ]
  },
  {
   "cell_type": "code",
   "execution_count": 27,
   "id": "26e09954",
   "metadata": {},
   "outputs": [
    {
     "data": {
      "text/html": [
       "<div>\n",
       "<style scoped>\n",
       "    .dataframe tbody tr th:only-of-type {\n",
       "        vertical-align: middle;\n",
       "    }\n",
       "\n",
       "    .dataframe tbody tr th {\n",
       "        vertical-align: top;\n",
       "    }\n",
       "\n",
       "    .dataframe thead th {\n",
       "        text-align: right;\n",
       "    }\n",
       "</style>\n",
       "<table border=\"1\" class=\"dataframe\">\n",
       "  <thead>\n",
       "    <tr style=\"text-align: right;\">\n",
       "      <th></th>\n",
       "      <th>shop_id</th>\n",
       "      <th>item_id</th>\n",
       "      <th>date_block_num</th>\n",
       "      <th>date_year mean</th>\n",
       "      <th>date_year min</th>\n",
       "      <th>date_year max</th>\n",
       "      <th>date_quarter mean</th>\n",
       "      <th>date_quarter min</th>\n",
       "      <th>date_quarter max</th>\n",
       "      <th>date_month mean</th>\n",
       "      <th>...</th>\n",
       "      <th>top_item_name max</th>\n",
       "      <th>top_category_name mean</th>\n",
       "      <th>top_category_name min</th>\n",
       "      <th>top_category_name max</th>\n",
       "      <th>top_shop_name mean</th>\n",
       "      <th>top_shop_name min</th>\n",
       "      <th>top_shop_name max</th>\n",
       "      <th>top_words_total mean</th>\n",
       "      <th>top_words_total min</th>\n",
       "      <th>top_words_total max</th>\n",
       "    </tr>\n",
       "  </thead>\n",
       "  <tbody>\n",
       "    <tr>\n",
       "      <th>0</th>\n",
       "      <td>0</td>\n",
       "      <td>30</td>\n",
       "      <td>1</td>\n",
       "      <td>2013.0</td>\n",
       "      <td>2013</td>\n",
       "      <td>2013</td>\n",
       "      <td>1.0</td>\n",
       "      <td>1</td>\n",
       "      <td>1</td>\n",
       "      <td>2.0</td>\n",
       "      <td>...</td>\n",
       "      <td>0</td>\n",
       "      <td>0.0</td>\n",
       "      <td>0</td>\n",
       "      <td>0</td>\n",
       "      <td>0.0</td>\n",
       "      <td>0</td>\n",
       "      <td>0</td>\n",
       "      <td>0.0</td>\n",
       "      <td>0</td>\n",
       "      <td>0</td>\n",
       "    </tr>\n",
       "    <tr>\n",
       "      <th>1</th>\n",
       "      <td>0</td>\n",
       "      <td>31</td>\n",
       "      <td>1</td>\n",
       "      <td>2013.0</td>\n",
       "      <td>2013</td>\n",
       "      <td>2013</td>\n",
       "      <td>1.0</td>\n",
       "      <td>1</td>\n",
       "      <td>1</td>\n",
       "      <td>2.0</td>\n",
       "      <td>...</td>\n",
       "      <td>0</td>\n",
       "      <td>0.0</td>\n",
       "      <td>0</td>\n",
       "      <td>0</td>\n",
       "      <td>0.0</td>\n",
       "      <td>0</td>\n",
       "      <td>0</td>\n",
       "      <td>0.0</td>\n",
       "      <td>0</td>\n",
       "      <td>0</td>\n",
       "    </tr>\n",
       "  </tbody>\n",
       "</table>\n",
       "<p>2 rows × 129 columns</p>\n",
       "</div>"
      ],
      "text/plain": [
       "   shop_id  item_id  date_block_num  date_year mean  date_year min  \\\n",
       "0        0       30               1          2013.0           2013   \n",
       "1        0       31               1          2013.0           2013   \n",
       "\n",
       "   date_year max  date_quarter mean  date_quarter min  date_quarter max  \\\n",
       "0           2013                1.0                 1                 1   \n",
       "1           2013                1.0                 1                 1   \n",
       "\n",
       "   date_month mean  ...  top_item_name max  top_category_name mean  \\\n",
       "0              2.0  ...                  0                     0.0   \n",
       "1              2.0  ...                  0                     0.0   \n",
       "\n",
       "   top_category_name min  top_category_name max  top_shop_name mean  \\\n",
       "0                      0                      0                 0.0   \n",
       "1                      0                      0                 0.0   \n",
       "\n",
       "   top_shop_name min  top_shop_name max  top_words_total mean  \\\n",
       "0                  0                  0                   0.0   \n",
       "1                  0                  0                   0.0   \n",
       "\n",
       "   top_words_total min  top_words_total max  \n",
       "0                    0                    0  \n",
       "1                    0                    0  \n",
       "\n",
       "[2 rows x 129 columns]"
      ]
     },
     "execution_count": 27,
     "metadata": {},
     "output_type": "execute_result"
    }
   ],
   "source": [
    "new_df.head(2)"
   ]
  },
  {
   "cell_type": "code",
   "execution_count": 28,
   "id": "d2d33329",
   "metadata": {},
   "outputs": [],
   "source": [
    "new_df_2 = df.groupby(['shop_id','item_id', 'date_block_num']).agg({'item_cnt_day':'sum', 'item_price':'mean'}).reset_index()\n",
    "new_df_2.rename(columns = {'item_cnt_day' : 'item_cnt_month'}, inplace=True)"
   ]
  },
  {
   "cell_type": "code",
   "execution_count": 29,
   "id": "fbf55221",
   "metadata": {},
   "outputs": [
    {
     "data": {
      "text/html": [
       "<div>\n",
       "<style scoped>\n",
       "    .dataframe tbody tr th:only-of-type {\n",
       "        vertical-align: middle;\n",
       "    }\n",
       "\n",
       "    .dataframe tbody tr th {\n",
       "        vertical-align: top;\n",
       "    }\n",
       "\n",
       "    .dataframe thead th {\n",
       "        text-align: right;\n",
       "    }\n",
       "</style>\n",
       "<table border=\"1\" class=\"dataframe\">\n",
       "  <thead>\n",
       "    <tr style=\"text-align: right;\">\n",
       "      <th></th>\n",
       "      <th>shop_id</th>\n",
       "      <th>item_id</th>\n",
       "      <th>date_block_num</th>\n",
       "      <th>item_cnt_month</th>\n",
       "      <th>item_price</th>\n",
       "    </tr>\n",
       "  </thead>\n",
       "  <tbody>\n",
       "    <tr>\n",
       "      <th>0</th>\n",
       "      <td>0</td>\n",
       "      <td>30</td>\n",
       "      <td>1</td>\n",
       "      <td>31.0</td>\n",
       "      <td>265.0</td>\n",
       "    </tr>\n",
       "    <tr>\n",
       "      <th>1</th>\n",
       "      <td>0</td>\n",
       "      <td>31</td>\n",
       "      <td>1</td>\n",
       "      <td>11.0</td>\n",
       "      <td>434.0</td>\n",
       "    </tr>\n",
       "  </tbody>\n",
       "</table>\n",
       "</div>"
      ],
      "text/plain": [
       "   shop_id  item_id  date_block_num  item_cnt_month  item_price\n",
       "0        0       30               1            31.0       265.0\n",
       "1        0       31               1            11.0       434.0"
      ]
     },
     "execution_count": 29,
     "metadata": {},
     "output_type": "execute_result"
    }
   ],
   "source": [
    "new_df_2.head(2)"
   ]
  },
  {
   "cell_type": "code",
   "execution_count": 30,
   "id": "095fd858",
   "metadata": {},
   "outputs": [
    {
     "data": {
      "text/plain": [
       "(1608187, 1608187)"
      ]
     },
     "execution_count": 30,
     "metadata": {},
     "output_type": "execute_result"
    }
   ],
   "source": [
    "new_df.shape[0], new_df_2.shape[0]"
   ]
  },
  {
   "cell_type": "code",
   "execution_count": 31,
   "id": "3fcc9b00",
   "metadata": {},
   "outputs": [],
   "source": [
    "# pd.merge??"
   ]
  },
  {
   "cell_type": "code",
   "execution_count": 32,
   "id": "9ef727e6",
   "metadata": {},
   "outputs": [],
   "source": [
    "merge_cols = ['shop_id','item_id','date_block_num']"
   ]
  },
  {
   "cell_type": "code",
   "execution_count": 33,
   "id": "5a5ffabb",
   "metadata": {},
   "outputs": [],
   "source": [
    "merged_df = pd.merge(left=new_df, right=new_df_2, how='outer', on=merge_cols)"
   ]
  },
  {
   "cell_type": "code",
   "execution_count": 34,
   "id": "dd530770",
   "metadata": {},
   "outputs": [
    {
     "data": {
      "text/html": [
       "<div>\n",
       "<style scoped>\n",
       "    .dataframe tbody tr th:only-of-type {\n",
       "        vertical-align: middle;\n",
       "    }\n",
       "\n",
       "    .dataframe tbody tr th {\n",
       "        vertical-align: top;\n",
       "    }\n",
       "\n",
       "    .dataframe thead th {\n",
       "        text-align: right;\n",
       "    }\n",
       "</style>\n",
       "<table border=\"1\" class=\"dataframe\">\n",
       "  <thead>\n",
       "    <tr style=\"text-align: right;\">\n",
       "      <th></th>\n",
       "      <th>shop_id</th>\n",
       "      <th>item_id</th>\n",
       "      <th>date_block_num</th>\n",
       "      <th>date_year mean</th>\n",
       "      <th>date_year min</th>\n",
       "      <th>date_year max</th>\n",
       "      <th>date_quarter mean</th>\n",
       "      <th>date_quarter min</th>\n",
       "      <th>date_quarter max</th>\n",
       "      <th>date_month mean</th>\n",
       "      <th>...</th>\n",
       "      <th>top_category_name min</th>\n",
       "      <th>top_category_name max</th>\n",
       "      <th>top_shop_name mean</th>\n",
       "      <th>top_shop_name min</th>\n",
       "      <th>top_shop_name max</th>\n",
       "      <th>top_words_total mean</th>\n",
       "      <th>top_words_total min</th>\n",
       "      <th>top_words_total max</th>\n",
       "      <th>item_cnt_month</th>\n",
       "      <th>item_price</th>\n",
       "    </tr>\n",
       "  </thead>\n",
       "  <tbody>\n",
       "    <tr>\n",
       "      <th>0</th>\n",
       "      <td>0</td>\n",
       "      <td>30</td>\n",
       "      <td>1</td>\n",
       "      <td>2013.0</td>\n",
       "      <td>2013</td>\n",
       "      <td>2013</td>\n",
       "      <td>1.0</td>\n",
       "      <td>1</td>\n",
       "      <td>1</td>\n",
       "      <td>2.0</td>\n",
       "      <td>...</td>\n",
       "      <td>0</td>\n",
       "      <td>0</td>\n",
       "      <td>0.0</td>\n",
       "      <td>0</td>\n",
       "      <td>0</td>\n",
       "      <td>0.0</td>\n",
       "      <td>0</td>\n",
       "      <td>0</td>\n",
       "      <td>31.0</td>\n",
       "      <td>265.0</td>\n",
       "    </tr>\n",
       "    <tr>\n",
       "      <th>1</th>\n",
       "      <td>0</td>\n",
       "      <td>31</td>\n",
       "      <td>1</td>\n",
       "      <td>2013.0</td>\n",
       "      <td>2013</td>\n",
       "      <td>2013</td>\n",
       "      <td>1.0</td>\n",
       "      <td>1</td>\n",
       "      <td>1</td>\n",
       "      <td>2.0</td>\n",
       "      <td>...</td>\n",
       "      <td>0</td>\n",
       "      <td>0</td>\n",
       "      <td>0.0</td>\n",
       "      <td>0</td>\n",
       "      <td>0</td>\n",
       "      <td>0.0</td>\n",
       "      <td>0</td>\n",
       "      <td>0</td>\n",
       "      <td>11.0</td>\n",
       "      <td>434.0</td>\n",
       "    </tr>\n",
       "    <tr>\n",
       "      <th>2</th>\n",
       "      <td>0</td>\n",
       "      <td>32</td>\n",
       "      <td>0</td>\n",
       "      <td>2013.0</td>\n",
       "      <td>2013</td>\n",
       "      <td>2013</td>\n",
       "      <td>1.0</td>\n",
       "      <td>1</td>\n",
       "      <td>1</td>\n",
       "      <td>1.0</td>\n",
       "      <td>...</td>\n",
       "      <td>0</td>\n",
       "      <td>0</td>\n",
       "      <td>0.0</td>\n",
       "      <td>0</td>\n",
       "      <td>0</td>\n",
       "      <td>0.0</td>\n",
       "      <td>0</td>\n",
       "      <td>0</td>\n",
       "      <td>6.0</td>\n",
       "      <td>221.0</td>\n",
       "    </tr>\n",
       "    <tr>\n",
       "      <th>3</th>\n",
       "      <td>0</td>\n",
       "      <td>32</td>\n",
       "      <td>1</td>\n",
       "      <td>2013.0</td>\n",
       "      <td>2013</td>\n",
       "      <td>2013</td>\n",
       "      <td>1.0</td>\n",
       "      <td>1</td>\n",
       "      <td>1</td>\n",
       "      <td>2.0</td>\n",
       "      <td>...</td>\n",
       "      <td>0</td>\n",
       "      <td>0</td>\n",
       "      <td>0.0</td>\n",
       "      <td>0</td>\n",
       "      <td>0</td>\n",
       "      <td>0.0</td>\n",
       "      <td>0</td>\n",
       "      <td>0</td>\n",
       "      <td>10.0</td>\n",
       "      <td>221.0</td>\n",
       "    </tr>\n",
       "    <tr>\n",
       "      <th>4</th>\n",
       "      <td>0</td>\n",
       "      <td>33</td>\n",
       "      <td>0</td>\n",
       "      <td>2013.0</td>\n",
       "      <td>2013</td>\n",
       "      <td>2013</td>\n",
       "      <td>1.0</td>\n",
       "      <td>1</td>\n",
       "      <td>1</td>\n",
       "      <td>1.0</td>\n",
       "      <td>...</td>\n",
       "      <td>0</td>\n",
       "      <td>0</td>\n",
       "      <td>0.0</td>\n",
       "      <td>0</td>\n",
       "      <td>0</td>\n",
       "      <td>0.0</td>\n",
       "      <td>0</td>\n",
       "      <td>0</td>\n",
       "      <td>3.0</td>\n",
       "      <td>347.0</td>\n",
       "    </tr>\n",
       "  </tbody>\n",
       "</table>\n",
       "<p>5 rows × 131 columns</p>\n",
       "</div>"
      ],
      "text/plain": [
       "   shop_id  item_id  date_block_num  date_year mean  date_year min  \\\n",
       "0        0       30               1          2013.0           2013   \n",
       "1        0       31               1          2013.0           2013   \n",
       "2        0       32               0          2013.0           2013   \n",
       "3        0       32               1          2013.0           2013   \n",
       "4        0       33               0          2013.0           2013   \n",
       "\n",
       "   date_year max  date_quarter mean  date_quarter min  date_quarter max  \\\n",
       "0           2013                1.0                 1                 1   \n",
       "1           2013                1.0                 1                 1   \n",
       "2           2013                1.0                 1                 1   \n",
       "3           2013                1.0                 1                 1   \n",
       "4           2013                1.0                 1                 1   \n",
       "\n",
       "   date_month mean  ...  top_category_name min  top_category_name max  \\\n",
       "0              2.0  ...                      0                      0   \n",
       "1              2.0  ...                      0                      0   \n",
       "2              1.0  ...                      0                      0   \n",
       "3              2.0  ...                      0                      0   \n",
       "4              1.0  ...                      0                      0   \n",
       "\n",
       "   top_shop_name mean  top_shop_name min  top_shop_name max  \\\n",
       "0                 0.0                  0                  0   \n",
       "1                 0.0                  0                  0   \n",
       "2                 0.0                  0                  0   \n",
       "3                 0.0                  0                  0   \n",
       "4                 0.0                  0                  0   \n",
       "\n",
       "   top_words_total mean  top_words_total min  top_words_total max  \\\n",
       "0                   0.0                    0                    0   \n",
       "1                   0.0                    0                    0   \n",
       "2                   0.0                    0                    0   \n",
       "3                   0.0                    0                    0   \n",
       "4                   0.0                    0                    0   \n",
       "\n",
       "   item_cnt_month  item_price  \n",
       "0            31.0       265.0  \n",
       "1            11.0       434.0  \n",
       "2             6.0       221.0  \n",
       "3            10.0       221.0  \n",
       "4             3.0       347.0  \n",
       "\n",
       "[5 rows x 131 columns]"
      ]
     },
     "execution_count": 34,
     "metadata": {},
     "output_type": "execute_result"
    }
   ],
   "source": [
    "merged_df.head()"
   ]
  },
  {
   "cell_type": "code",
   "execution_count": 35,
   "id": "4c037742",
   "metadata": {},
   "outputs": [
    {
     "data": {
      "text/plain": [
       "Index(['shop_id', 'item_id', 'date_block_num', 'date_year mean',\n",
       "       'date_year min', 'date_year max', 'date_quarter mean',\n",
       "       'date_quarter min', 'date_quarter max', 'date_month mean',\n",
       "       ...\n",
       "       'top_category_name min', 'top_category_name max', 'top_shop_name mean',\n",
       "       'top_shop_name min', 'top_shop_name max', 'top_words_total mean',\n",
       "       'top_words_total min', 'top_words_total max', 'item_cnt_month',\n",
       "       'item_price'],\n",
       "      dtype='object', length=131)"
      ]
     },
     "execution_count": 35,
     "metadata": {},
     "output_type": "execute_result"
    }
   ],
   "source": [
    "merged_df.columns"
   ]
  },
  {
   "cell_type": "code",
   "execution_count": 38,
   "id": "5cf1fe06",
   "metadata": {},
   "outputs": [
    {
     "name": "stdout",
     "output_type": "stream",
     "text": [
      "<class 'pandas.core.frame.DataFrame'>\n",
      "Int64Index: 1608187 entries, 0 to 1608186\n",
      "Columns: 131 entries, shop_id to item_price\n",
      "dtypes: Float64(18), Int16(4), Int8(32), float32(62), float64(4), int64(11)\n",
      "memory usage: 941.7 MB\n"
     ]
    }
   ],
   "source": [
    "merged_df.info()"
   ]
  },
  {
   "cell_type": "code",
   "execution_count": 42,
   "id": "76f020b8",
   "metadata": {},
   "outputs": [],
   "source": [
    "import gc\n",
    "def downcast_df_int_columns(df):\n",
    "    list_of_columns = list(df.select_dtypes(include=[\"int32\", \"int64\"]).columns)\n",
    "        \n",
    "    if len(list_of_columns)>=1:\n",
    "        max_string_length = max([len(col) for col in list_of_columns]) # finds max string length for better status printing\n",
    "        \n",
    "        for col in list_of_columns:\n",
    "            df[col] = pd.to_numeric(df[col], downcast=\"integer\")\n",
    "\n",
    "    gc.collect()\n",
    "    print(\"done\")\n",
    "    \n",
    "def downcast_df_float_columns(df):\n",
    "    list_of_columns = list(df.select_dtypes(include=[\"float64\",\"float32\" ]).columns)\n",
    "        \n",
    "    if len(list_of_columns)>=1:\n",
    "        max_string_length = max([len(col) for col in list_of_columns]) # finds max string length for better status printing\n",
    "        \n",
    "        for col in list_of_columns:\n",
    "            df[col] = pd.to_numeric(df[col], downcast=\"float\")\n",
    "\n",
    "    gc.collect()\n",
    "    print(\"done\")"
   ]
  },
  {
   "cell_type": "code",
   "execution_count": 43,
   "id": "19285ff3",
   "metadata": {},
   "outputs": [
    {
     "name": "stdout",
     "output_type": "stream",
     "text": [
      "done\n",
      "done\n"
     ]
    }
   ],
   "source": [
    "downcast_df_int_columns(merged_df)\n",
    "downcast_df_float_columns(merged_df)"
   ]
  },
  {
   "cell_type": "code",
   "execution_count": 44,
   "id": "2252454f",
   "metadata": {},
   "outputs": [
    {
     "name": "stdout",
     "output_type": "stream",
     "text": [
      "<class 'pandas.core.frame.DataFrame'>\n",
      "Int64Index: 1608187 entries, 0 to 1608186\n",
      "Columns: 131 entries, shop_id to item_price\n",
      "dtypes: Float32(18), Int16(4), Int8(32), float32(66), int16(1), int8(10)\n",
      "memory usage: 690.2 MB\n"
     ]
    }
   ],
   "source": [
    "merged_df.info()"
   ]
  },
  {
   "cell_type": "code",
   "execution_count": 47,
   "id": "837d779d",
   "metadata": {},
   "outputs": [],
   "source": [
    "# %%time\n",
    "# inferred_dtypes, cleaned_df = clean_df(merged_df, remove_duplicate_entries = True, downcast_memory = True, \n",
    "#                                        clean_header=False, standardize_missing_values= 'ignore')\n",
    "# Downcast Memory Report:\n",
    "# \tMemory reducted from 723684150 to 741374207. New size: (102.44%)\n",
    "# lol"
   ]
  },
  {
   "cell_type": "code",
   "execution_count": 48,
   "id": "17cfeba5",
   "metadata": {},
   "outputs": [],
   "source": [
    "merged_df.to_pickle('./mypkl/clean_with_datetime_lag__groupby_en.pkl')"
   ]
  },
  {
   "cell_type": "code",
   "execution_count": 49,
   "id": "a1774d00",
   "metadata": {},
   "outputs": [],
   "source": [
    "df =  pd.read_pickle('./mypkl/clean_with_datetime_lag__groupby_en.pkl')"
   ]
  },
  {
   "cell_type": "code",
   "execution_count": null,
   "id": "fbcc3e1c",
   "metadata": {},
   "outputs": [],
   "source": []
  },
  {
   "cell_type": "code",
   "execution_count": 107,
   "id": "89d83cb3",
   "metadata": {},
   "outputs": [
    {
     "data": {
      "text/html": [
       "<div>\n",
       "<style scoped>\n",
       "    .dataframe tbody tr th:only-of-type {\n",
       "        vertical-align: middle;\n",
       "    }\n",
       "\n",
       "    .dataframe tbody tr th {\n",
       "        vertical-align: top;\n",
       "    }\n",
       "\n",
       "    .dataframe thead th {\n",
       "        text-align: right;\n",
       "    }\n",
       "</style>\n",
       "<table border=\"1\" class=\"dataframe\">\n",
       "  <thead>\n",
       "    <tr style=\"text-align: right;\">\n",
       "      <th></th>\n",
       "      <th>shop_id</th>\n",
       "      <th>item_id</th>\n",
       "      <th>date_block_num</th>\n",
       "      <th>date_year mean</th>\n",
       "      <th>date_year min</th>\n",
       "      <th>date_year max</th>\n",
       "      <th>date_quarter mean</th>\n",
       "      <th>date_quarter min</th>\n",
       "      <th>date_quarter max</th>\n",
       "      <th>date_month mean</th>\n",
       "      <th>...</th>\n",
       "      <th>top_category_name min</th>\n",
       "      <th>top_category_name max</th>\n",
       "      <th>top_shop_name mean</th>\n",
       "      <th>top_shop_name min</th>\n",
       "      <th>top_shop_name max</th>\n",
       "      <th>top_words_total mean</th>\n",
       "      <th>top_words_total min</th>\n",
       "      <th>top_words_total max</th>\n",
       "      <th>item_cnt_month</th>\n",
       "      <th>item_price</th>\n",
       "    </tr>\n",
       "  </thead>\n",
       "  <tbody>\n",
       "    <tr>\n",
       "      <th>0</th>\n",
       "      <td>0</td>\n",
       "      <td>30</td>\n",
       "      <td>1</td>\n",
       "      <td>2013.0</td>\n",
       "      <td>2013</td>\n",
       "      <td>2013</td>\n",
       "      <td>1.0</td>\n",
       "      <td>1</td>\n",
       "      <td>1</td>\n",
       "      <td>2.0</td>\n",
       "      <td>...</td>\n",
       "      <td>0</td>\n",
       "      <td>0</td>\n",
       "      <td>0.0</td>\n",
       "      <td>0</td>\n",
       "      <td>0</td>\n",
       "      <td>0.0</td>\n",
       "      <td>0</td>\n",
       "      <td>0</td>\n",
       "      <td>20.0</td>\n",
       "      <td>265.0</td>\n",
       "    </tr>\n",
       "    <tr>\n",
       "      <th>1</th>\n",
       "      <td>0</td>\n",
       "      <td>31</td>\n",
       "      <td>1</td>\n",
       "      <td>2013.0</td>\n",
       "      <td>2013</td>\n",
       "      <td>2013</td>\n",
       "      <td>1.0</td>\n",
       "      <td>1</td>\n",
       "      <td>1</td>\n",
       "      <td>2.0</td>\n",
       "      <td>...</td>\n",
       "      <td>0</td>\n",
       "      <td>0</td>\n",
       "      <td>0.0</td>\n",
       "      <td>0</td>\n",
       "      <td>0</td>\n",
       "      <td>0.0</td>\n",
       "      <td>0</td>\n",
       "      <td>0</td>\n",
       "      <td>11.0</td>\n",
       "      <td>434.0</td>\n",
       "    </tr>\n",
       "    <tr>\n",
       "      <th>2</th>\n",
       "      <td>0</td>\n",
       "      <td>32</td>\n",
       "      <td>0</td>\n",
       "      <td>2013.0</td>\n",
       "      <td>2013</td>\n",
       "      <td>2013</td>\n",
       "      <td>1.0</td>\n",
       "      <td>1</td>\n",
       "      <td>1</td>\n",
       "      <td>1.0</td>\n",
       "      <td>...</td>\n",
       "      <td>0</td>\n",
       "      <td>0</td>\n",
       "      <td>0.0</td>\n",
       "      <td>0</td>\n",
       "      <td>0</td>\n",
       "      <td>0.0</td>\n",
       "      <td>0</td>\n",
       "      <td>0</td>\n",
       "      <td>6.0</td>\n",
       "      <td>221.0</td>\n",
       "    </tr>\n",
       "    <tr>\n",
       "      <th>3</th>\n",
       "      <td>0</td>\n",
       "      <td>32</td>\n",
       "      <td>1</td>\n",
       "      <td>2013.0</td>\n",
       "      <td>2013</td>\n",
       "      <td>2013</td>\n",
       "      <td>1.0</td>\n",
       "      <td>1</td>\n",
       "      <td>1</td>\n",
       "      <td>2.0</td>\n",
       "      <td>...</td>\n",
       "      <td>0</td>\n",
       "      <td>0</td>\n",
       "      <td>0.0</td>\n",
       "      <td>0</td>\n",
       "      <td>0</td>\n",
       "      <td>0.0</td>\n",
       "      <td>0</td>\n",
       "      <td>0</td>\n",
       "      <td>10.0</td>\n",
       "      <td>221.0</td>\n",
       "    </tr>\n",
       "    <tr>\n",
       "      <th>4</th>\n",
       "      <td>0</td>\n",
       "      <td>33</td>\n",
       "      <td>0</td>\n",
       "      <td>2013.0</td>\n",
       "      <td>2013</td>\n",
       "      <td>2013</td>\n",
       "      <td>1.0</td>\n",
       "      <td>1</td>\n",
       "      <td>1</td>\n",
       "      <td>1.0</td>\n",
       "      <td>...</td>\n",
       "      <td>0</td>\n",
       "      <td>0</td>\n",
       "      <td>0.0</td>\n",
       "      <td>0</td>\n",
       "      <td>0</td>\n",
       "      <td>0.0</td>\n",
       "      <td>0</td>\n",
       "      <td>0</td>\n",
       "      <td>3.0</td>\n",
       "      <td>347.0</td>\n",
       "    </tr>\n",
       "  </tbody>\n",
       "</table>\n",
       "<p>5 rows × 131 columns</p>\n",
       "</div>"
      ],
      "text/plain": [
       "   shop_id  item_id  date_block_num  date_year mean  date_year min  \\\n",
       "0        0       30               1          2013.0           2013   \n",
       "1        0       31               1          2013.0           2013   \n",
       "2        0       32               0          2013.0           2013   \n",
       "3        0       32               1          2013.0           2013   \n",
       "4        0       33               0          2013.0           2013   \n",
       "\n",
       "   date_year max  date_quarter mean  date_quarter min  date_quarter max  \\\n",
       "0           2013                1.0                 1                 1   \n",
       "1           2013                1.0                 1                 1   \n",
       "2           2013                1.0                 1                 1   \n",
       "3           2013                1.0                 1                 1   \n",
       "4           2013                1.0                 1                 1   \n",
       "\n",
       "   date_month mean  ...  top_category_name min  top_category_name max  \\\n",
       "0              2.0  ...                      0                      0   \n",
       "1              2.0  ...                      0                      0   \n",
       "2              1.0  ...                      0                      0   \n",
       "3              2.0  ...                      0                      0   \n",
       "4              1.0  ...                      0                      0   \n",
       "\n",
       "   top_shop_name mean  top_shop_name min  top_shop_name max  \\\n",
       "0                 0.0                  0                  0   \n",
       "1                 0.0                  0                  0   \n",
       "2                 0.0                  0                  0   \n",
       "3                 0.0                  0                  0   \n",
       "4                 0.0                  0                  0   \n",
       "\n",
       "   top_words_total mean  top_words_total min  top_words_total max  \\\n",
       "0                   0.0                    0                    0   \n",
       "1                   0.0                    0                    0   \n",
       "2                   0.0                    0                    0   \n",
       "3                   0.0                    0                    0   \n",
       "4                   0.0                    0                    0   \n",
       "\n",
       "   item_cnt_month  item_price  \n",
       "0            20.0       265.0  \n",
       "1            11.0       434.0  \n",
       "2             6.0       221.0  \n",
       "3            10.0       221.0  \n",
       "4             3.0       347.0  \n",
       "\n",
       "[5 rows x 131 columns]"
      ]
     },
     "execution_count": 107,
     "metadata": {},
     "output_type": "execute_result"
    }
   ],
   "source": [
    "df.head()"
   ]
  },
  {
   "cell_type": "code",
   "execution_count": 103,
   "id": "4a1e996b",
   "metadata": {},
   "outputs": [
    {
     "data": {
      "text/plain": [
       "11    66257\n",
       "2     63951\n",
       "0     63169\n",
       "1     59911\n",
       "23    59252\n",
       "6     58004\n",
       "7     57986\n",
       "5     56168\n",
       "3     54589\n",
       "4     53276\n",
       "12    53270\n",
       "8     51543\n",
       "10    51430\n",
       "9     51055\n",
       "14    49258\n",
       "13    47655\n",
       "24    46736\n",
       "17    46456\n",
       "19    46417\n",
       "16    45743\n",
       "22    45740\n",
       "18    45729\n",
       "15    44717\n",
       "21    42575\n",
       "25    41360\n",
       "26    40441\n",
       "20    40391\n",
       "30    33515\n",
       "31    33472\n",
       "27    32849\n",
       "28    32206\n",
       "29    31895\n",
       "33    31519\n",
       "32    29652\n",
       "Name: date_block_num, dtype: int64"
      ]
     },
     "execution_count": 103,
     "metadata": {},
     "output_type": "execute_result"
    }
   ],
   "source": [
    "df['date_block_num'].value_counts()"
   ]
  },
  {
   "cell_type": "code",
   "execution_count": 106,
   "id": "084661ee",
   "metadata": {},
   "outputs": [
    {
     "data": {
      "text/html": [
       "<div>\n",
       "<style scoped>\n",
       "    .dataframe tbody tr th:only-of-type {\n",
       "        vertical-align: middle;\n",
       "    }\n",
       "\n",
       "    .dataframe tbody tr th {\n",
       "        vertical-align: top;\n",
       "    }\n",
       "\n",
       "    .dataframe thead th {\n",
       "        text-align: right;\n",
       "    }\n",
       "</style>\n",
       "<table border=\"1\" class=\"dataframe\">\n",
       "  <thead>\n",
       "    <tr style=\"text-align: right;\">\n",
       "      <th></th>\n",
       "      <th>shop_id</th>\n",
       "      <th>item_id</th>\n",
       "      <th>date_block_num</th>\n",
       "      <th>date_year mean</th>\n",
       "      <th>date_year min</th>\n",
       "      <th>date_year max</th>\n",
       "      <th>date_quarter mean</th>\n",
       "      <th>date_quarter min</th>\n",
       "      <th>date_quarter max</th>\n",
       "      <th>date_month mean</th>\n",
       "      <th>...</th>\n",
       "      <th>top_category_name min</th>\n",
       "      <th>top_category_name max</th>\n",
       "      <th>top_shop_name mean</th>\n",
       "      <th>top_shop_name min</th>\n",
       "      <th>top_shop_name max</th>\n",
       "      <th>top_words_total mean</th>\n",
       "      <th>top_words_total min</th>\n",
       "      <th>top_words_total max</th>\n",
       "      <th>item_cnt_month</th>\n",
       "      <th>item_price</th>\n",
       "    </tr>\n",
       "  </thead>\n",
       "  <tbody>\n",
       "  </tbody>\n",
       "</table>\n",
       "<p>0 rows × 131 columns</p>\n",
       "</div>"
      ],
      "text/plain": [
       "Empty DataFrame\n",
       "Columns: [shop_id, item_id, date_block_num, date_year mean, date_year min, date_year max, date_quarter mean, date_quarter min, date_quarter max, date_month mean, date_month min, date_month max, date_day mean, date_day min, date_day max, date_day_of_week mean, date_day_of_week min, date_day_of_week max, date_day_of_year mean, date_day_of_year min, date_day_of_year max, date_weekofyear mean, date_weekofyear min, date_weekofyear max, date_is_month_end mean, date_is_month_end min, date_is_month_end max, date_is_month_start mean, date_is_month_start min, date_is_month_start max, date_is_quarter_end mean, date_is_quarter_end min, date_is_quarter_end max, date_is_quarter_start mean, date_is_quarter_start min, date_is_quarter_start max, date_is_year_end mean, date_is_year_end min, date_is_year_end max, date_is_year_start mean, date_is_year_start min, date_is_year_start max, date_is_weekend mean, date_is_weekend min, date_is_weekend max, is_Holiday mean, is_Holiday min, is_Holiday max, is_near_Holiday mean, is_near_Holiday min, is_near_Holiday max, until_holiday mean, until_holiday min, until_holiday max, since_holiday mean, since_holiday min, since_holiday max, item_cnt_day_lag_1 mean, item_cnt_day_lag_1 min, item_cnt_day_lag_1 max, item_price_lag_1 mean, item_price_lag_1 min, item_price_lag_1 max, item_cnt_day_lag_2 mean, item_cnt_day_lag_2 min, item_cnt_day_lag_2 max, item_price_lag_2 mean, item_price_lag_2 min, item_price_lag_2 max, item_cnt_day_lag_3 mean, item_cnt_day_lag_3 min, item_cnt_day_lag_3 max, item_price_lag_3 mean, item_price_lag_3 min, item_price_lag_3 max, item_cnt_day_lag_4 mean, item_cnt_day_lag_4 min, item_cnt_day_lag_4 max, item_price_lag_4 mean, item_price_lag_4 min, item_price_lag_4 max, item_cnt_day_lag_5 mean, item_cnt_day_lag_5 min, item_cnt_day_lag_5 max, item_price_lag_5 mean, item_price_lag_5 min, item_price_lag_5 max, item_cnt_day_lag_6 mean, item_cnt_day_lag_6 min, item_cnt_day_lag_6 max, item_price_lag_6 mean, item_price_lag_6 min, item_price_lag_6 max, item_cnt_day_lag_7 mean, item_cnt_day_lag_7 min, item_cnt_day_lag_7 max, item_price_lag_7 mean, item_price_lag_7 min, item_price_lag_7 max, item_cnt_day_lag_10 mean, ...]\n",
       "Index: []\n",
       "\n",
       "[0 rows x 131 columns]"
      ]
     },
     "execution_count": 106,
     "metadata": {},
     "output_type": "execute_result"
    }
   ],
   "source": [
    "df[df['date_block_num']==34]"
   ]
  },
  {
   "cell_type": "code",
   "execution_count": null,
   "id": "5eaf76b4",
   "metadata": {},
   "outputs": [],
   "source": []
  },
  {
   "cell_type": "code",
   "execution_count": null,
   "id": "6f08ee64",
   "metadata": {},
   "outputs": [],
   "source": []
  },
  {
   "cell_type": "markdown",
   "id": "c0beaadb",
   "metadata": {},
   "source": [
    "### split"
   ]
  },
  {
   "cell_type": "code",
   "execution_count": 50,
   "id": "666e5a3e",
   "metadata": {},
   "outputs": [],
   "source": [
    "df['item_cnt_month'] = df['item_cnt_month'].clip(0,20)"
   ]
  },
  {
   "cell_type": "code",
   "execution_count": 51,
   "id": "975943f7",
   "metadata": {},
   "outputs": [],
   "source": [
    "start_month = 0\n",
    "end_month = 33"
   ]
  },
  {
   "cell_type": "code",
   "execution_count": 52,
   "id": "d2d5dc78",
   "metadata": {},
   "outputs": [],
   "source": [
    "trainset = df[(df['date_block_num'] >= start_month) & (df['date_block_num'] <= end_month)]\n",
    "testset = df[df['date_block_num']==34]\n",
    "train_test_set = pd.concat([trainset, testset], axis = 0) "
   ]
  },
  {
   "cell_type": "code",
   "execution_count": 53,
   "id": "2115d17a",
   "metadata": {},
   "outputs": [],
   "source": [
    "cv_trainset = trainset[(train_test_set['date_block_num'] >= 0) & (train_test_set['date_block_num'] <= 32)]\n",
    "cv_valset = train_test_set[train_test_set['date_block_num'] == 33]"
   ]
  },
  {
   "cell_type": "code",
   "execution_count": 63,
   "id": "a319d7ba",
   "metadata": {},
   "outputs": [],
   "source": [
    "train_x = cv_trainset.loc[:, cv_trainset.columns != 'item_cnt_month']\n",
    "train_x = train_x.values\n",
    "\n",
    "train_y = cv_trainset.loc[:, 'item_cnt_month']\n",
    "train_y = train_y.values"
   ]
  },
  {
   "cell_type": "code",
   "execution_count": 64,
   "id": "59b75798",
   "metadata": {},
   "outputs": [],
   "source": [
    "val_x = cv_valset.loc[:, cv_valset.columns != 'item_cnt_month']\n",
    "val_x = val_x.values\n",
    "\n",
    "val_y = cv_valset.loc[:, 'item_cnt_month']\n",
    "val_y = val_y.values"
   ]
  },
  {
   "cell_type": "code",
   "execution_count": 100,
   "id": "c02c1b0a",
   "metadata": {},
   "outputs": [
    {
     "data": {
      "text/html": [
       "<div>\n",
       "<style scoped>\n",
       "    .dataframe tbody tr th:only-of-type {\n",
       "        vertical-align: middle;\n",
       "    }\n",
       "\n",
       "    .dataframe tbody tr th {\n",
       "        vertical-align: top;\n",
       "    }\n",
       "\n",
       "    .dataframe thead th {\n",
       "        text-align: right;\n",
       "    }\n",
       "</style>\n",
       "<table border=\"1\" class=\"dataframe\">\n",
       "  <thead>\n",
       "    <tr style=\"text-align: right;\">\n",
       "      <th></th>\n",
       "      <th>shop_id</th>\n",
       "      <th>item_id</th>\n",
       "      <th>date_block_num</th>\n",
       "      <th>date_year mean</th>\n",
       "      <th>date_year min</th>\n",
       "      <th>date_year max</th>\n",
       "      <th>date_quarter mean</th>\n",
       "      <th>date_quarter min</th>\n",
       "      <th>date_quarter max</th>\n",
       "      <th>date_month mean</th>\n",
       "      <th>...</th>\n",
       "      <th>top_category_name min</th>\n",
       "      <th>top_category_name max</th>\n",
       "      <th>top_shop_name mean</th>\n",
       "      <th>top_shop_name min</th>\n",
       "      <th>top_shop_name max</th>\n",
       "      <th>top_words_total mean</th>\n",
       "      <th>top_words_total min</th>\n",
       "      <th>top_words_total max</th>\n",
       "      <th>item_cnt_month</th>\n",
       "      <th>item_price</th>\n",
       "    </tr>\n",
       "  </thead>\n",
       "  <tbody>\n",
       "  </tbody>\n",
       "</table>\n",
       "<p>0 rows × 131 columns</p>\n",
       "</div>"
      ],
      "text/plain": [
       "Empty DataFrame\n",
       "Columns: [shop_id, item_id, date_block_num, date_year mean, date_year min, date_year max, date_quarter mean, date_quarter min, date_quarter max, date_month mean, date_month min, date_month max, date_day mean, date_day min, date_day max, date_day_of_week mean, date_day_of_week min, date_day_of_week max, date_day_of_year mean, date_day_of_year min, date_day_of_year max, date_weekofyear mean, date_weekofyear min, date_weekofyear max, date_is_month_end mean, date_is_month_end min, date_is_month_end max, date_is_month_start mean, date_is_month_start min, date_is_month_start max, date_is_quarter_end mean, date_is_quarter_end min, date_is_quarter_end max, date_is_quarter_start mean, date_is_quarter_start min, date_is_quarter_start max, date_is_year_end mean, date_is_year_end min, date_is_year_end max, date_is_year_start mean, date_is_year_start min, date_is_year_start max, date_is_weekend mean, date_is_weekend min, date_is_weekend max, is_Holiday mean, is_Holiday min, is_Holiday max, is_near_Holiday mean, is_near_Holiday min, is_near_Holiday max, until_holiday mean, until_holiday min, until_holiday max, since_holiday mean, since_holiday min, since_holiday max, item_cnt_day_lag_1 mean, item_cnt_day_lag_1 min, item_cnt_day_lag_1 max, item_price_lag_1 mean, item_price_lag_1 min, item_price_lag_1 max, item_cnt_day_lag_2 mean, item_cnt_day_lag_2 min, item_cnt_day_lag_2 max, item_price_lag_2 mean, item_price_lag_2 min, item_price_lag_2 max, item_cnt_day_lag_3 mean, item_cnt_day_lag_3 min, item_cnt_day_lag_3 max, item_price_lag_3 mean, item_price_lag_3 min, item_price_lag_3 max, item_cnt_day_lag_4 mean, item_cnt_day_lag_4 min, item_cnt_day_lag_4 max, item_price_lag_4 mean, item_price_lag_4 min, item_price_lag_4 max, item_cnt_day_lag_5 mean, item_cnt_day_lag_5 min, item_cnt_day_lag_5 max, item_price_lag_5 mean, item_price_lag_5 min, item_price_lag_5 max, item_cnt_day_lag_6 mean, item_cnt_day_lag_6 min, item_cnt_day_lag_6 max, item_price_lag_6 mean, item_price_lag_6 min, item_price_lag_6 max, item_cnt_day_lag_7 mean, item_cnt_day_lag_7 min, item_cnt_day_lag_7 max, item_price_lag_7 mean, item_price_lag_7 min, item_price_lag_7 max, item_cnt_day_lag_10 mean, ...]\n",
       "Index: []\n",
       "\n",
       "[0 rows x 131 columns]"
      ]
     },
     "execution_count": 100,
     "metadata": {},
     "output_type": "execute_result"
    }
   ],
   "source": [
    "testset"
   ]
  },
  {
   "cell_type": "code",
   "execution_count": 99,
   "id": "cb53b172",
   "metadata": {},
   "outputs": [
    {
     "data": {
      "text/plain": [
       "array([], dtype=float32)"
      ]
     },
     "execution_count": 99,
     "metadata": {},
     "output_type": "execute_result"
    }
   ],
   "source": [
    "test_x = testset.loc[:, testset.columns != 'item_cnt_month']\n",
    "test_x.values\n",
    "\n",
    "test_y = testset.loc[:, 'item_cnt_month']\n",
    "test_y.values"
   ]
  },
  {
   "cell_type": "markdown",
   "id": "f976e9d7",
   "metadata": {},
   "source": [
    "## lazypredict (DEPRECIATED!)"
   ]
  },
  {
   "cell_type": "code",
   "execution_count": 74,
   "id": "3e57f235",
   "metadata": {},
   "outputs": [],
   "source": [
    "# import lazypredict\n",
    "# from lazypredict.Supervised import LazyRegressor"
   ]
  },
  {
   "cell_type": "markdown",
   "id": "b60412b4",
   "metadata": {},
   "source": [
    "## lightgbm baseline"
   ]
  },
  {
   "cell_type": "code",
   "execution_count": 75,
   "id": "241f2259",
   "metadata": {},
   "outputs": [
    {
     "data": {
      "text/html": [
       "<style type='text/css'>\n",
       ".datatable table.frame { margin-bottom: 0; }\n",
       ".datatable table.frame thead { border-bottom: none; }\n",
       ".datatable table.frame tr.coltypes td {  color: #FFFFFF;  line-height: 6px;  padding: 0 0.5em;}\n",
       ".datatable .bool    { background: #DDDD99; }\n",
       ".datatable .object  { background: #565656; }\n",
       ".datatable .int     { background: #5D9E5D; }\n",
       ".datatable .float   { background: #4040CC; }\n",
       ".datatable .str     { background: #CC4040; }\n",
       ".datatable .time    { background: #40CC40; }\n",
       ".datatable .row_index {  background: var(--jp-border-color3);  border-right: 1px solid var(--jp-border-color0);  color: var(--jp-ui-font-color3);  font-size: 9px;}\n",
       ".datatable .frame tbody td { text-align: left; }\n",
       ".datatable .frame tr.coltypes .row_index {  background: var(--jp-border-color0);}\n",
       ".datatable th:nth-child(2) { padding-left: 12px; }\n",
       ".datatable .hellipsis {  color: var(--jp-cell-editor-border-color);}\n",
       ".datatable .vellipsis {  background: var(--jp-layout-color0);  color: var(--jp-cell-editor-border-color);}\n",
       ".datatable .na {  color: var(--jp-cell-editor-border-color);  font-size: 80%;}\n",
       ".datatable .sp {  opacity: 0.25;}\n",
       ".datatable .footer { font-size: 9px; }\n",
       ".datatable .frame_dimensions {  background: var(--jp-border-color3);  border-top: 1px solid var(--jp-border-color0);  color: var(--jp-ui-font-color3);  display: inline-block;  opacity: 0.6;  padding: 1px 10px 1px 5px;}\n",
       "</style>\n"
      ],
      "text/plain": [
       "<IPython.core.display.HTML object>"
      ]
     },
     "metadata": {},
     "output_type": "display_data"
    }
   ],
   "source": [
    "import lightgbm as lgb"
   ]
  },
  {
   "cell_type": "code",
   "execution_count": 76,
   "id": "2eb1a8bf",
   "metadata": {},
   "outputs": [
    {
     "data": {
      "text/plain": [
       "LGBMRegressor(metric='rmse')"
      ]
     },
     "execution_count": 76,
     "metadata": {},
     "output_type": "execute_result"
    }
   ],
   "source": [
    "LGB = lgb.LGBMRegressor(metric='rmse')\n",
    "LGB.fit(train_x, train_y)"
   ]
  },
  {
   "cell_type": "code",
   "execution_count": 87,
   "id": "b1d4fb2d",
   "metadata": {},
   "outputs": [
    {
     "data": {
      "text/plain": [
       "Index(['shop_id', 'item_id', 'date_block_num', 'date_year mean',\n",
       "       'date_year min', 'date_year max', 'date_quarter mean',\n",
       "       'date_quarter min', 'date_quarter max', 'date_month mean',\n",
       "       ...\n",
       "       'top_category_name mean', 'top_category_name min',\n",
       "       'top_category_name max', 'top_shop_name mean', 'top_shop_name min',\n",
       "       'top_shop_name max', 'top_words_total mean', 'top_words_total min',\n",
       "       'top_words_total max', 'item_price'],\n",
       "      dtype='object', length=130)"
      ]
     },
     "execution_count": 87,
     "metadata": {},
     "output_type": "execute_result"
    }
   ],
   "source": [
    "cv_trainset.loc[:, cv_trainset.columns != 'item_cnt_month'].columns"
   ]
  },
  {
   "cell_type": "code",
   "execution_count": 88,
   "id": "197e14f7",
   "metadata": {},
   "outputs": [
    {
     "data": {
      "text/plain": [
       "array([  0,   1,   8,   0,   0,   0,   0,   0,   0,   0,   0,   0,   9,\n",
       "       109, 100,  63,  75,  60,   0,   0,   2,   8,   4,   3, 156,   0,\n",
       "         0, 126,   0,   0,   1,   0,   0,   3,   0,   0,   0,   0,   0,\n",
       "         0,   0,   0, 124,   1,   1,  61,   0,   0,  31,   0,   0,   3,\n",
       "        23,  19,   3,  21,  24, 355,  66, 258,   0,  48,   5,  80,   7,\n",
       "        43,   0,   3,   7,  85,   4,  62,   2,   5,   4,  89,   6,  58,\n",
       "         1,   4,   0,  56,  14,  51,   1,   1,   9,  56,   5,  54,   0,\n",
       "         2,   3,  71,   7,  66,   0,   3,   7,  79,   7,  61,   3,   5,\n",
       "        11,  49,   7,  44,   5,   2,   9,  27,   4,  31,   1,   0,   8,\n",
       "         0,   0,   0,   0,   0,   0,   0,   0,   0,   0,   0,   0,  10])"
      ]
     },
     "execution_count": 88,
     "metadata": {},
     "output_type": "execute_result"
    }
   ],
   "source": [
    "LGB.feature_importances_"
   ]
  },
  {
   "cell_type": "code",
   "execution_count": 115,
   "id": "d8176f54",
   "metadata": {},
   "outputs": [
    {
     "data": {
      "text/plain": [
       "defaultdict(collections.OrderedDict, {})"
      ]
     },
     "execution_count": 115,
     "metadata": {},
     "output_type": "execute_result"
    }
   ],
   "source": [
    "LGB.best_score_"
   ]
  },
  {
   "cell_type": "code",
   "execution_count": 116,
   "id": "94371b08",
   "metadata": {},
   "outputs": [],
   "source": [
    "pred_validation_lgb = LGB.predict(val_x)"
   ]
  },
  {
   "cell_type": "code",
   "execution_count": 97,
   "id": "abbbd7aa",
   "metadata": {},
   "outputs": [
    {
     "data": {
      "text/plain": [
       "0.6566009050169911"
      ]
     },
     "execution_count": 97,
     "metadata": {},
     "output_type": "execute_result"
    }
   ],
   "source": [
    "from sklearn.metrics import mean_squared_error\n",
    "rmse_LGB = np.sqrt(mean_squared_error(val_y, pred_validation_lgb))\n",
    "rmse_LGB"
   ]
  },
  {
   "cell_type": "code",
   "execution_count": 123,
   "id": "a9b0a98a",
   "metadata": {},
   "outputs": [
    {
     "data": {
      "text/plain": [
       "(0.14803544848194358, 21.444084298607276)"
      ]
     },
     "execution_count": 123,
     "metadata": {},
     "output_type": "execute_result"
    }
   ],
   "source": [
    "pred_validation_lgb.min(), pred_validation_lgb.max()"
   ]
  },
  {
   "cell_type": "code",
   "execution_count": 98,
   "id": "e86e0d79",
   "metadata": {},
   "outputs": [
    {
     "ename": "ValueError",
     "evalue": "Input data must be 2 dimensional and non empty.",
     "output_type": "error",
     "traceback": [
      "\u001b[1;31m---------------------------------------------------------------------------\u001b[0m",
      "\u001b[1;31mValueError\u001b[0m                                Traceback (most recent call last)",
      "\u001b[1;32mC:\\Users\\SAHILG~1\\AppData\\Local\\Temp/ipykernel_17332/4275383912.py\u001b[0m in \u001b[0;36m<module>\u001b[1;34m\u001b[0m\n\u001b[1;32m----> 1\u001b[1;33m \u001b[0mpred_test_lgb\u001b[0m \u001b[1;33m=\u001b[0m \u001b[0mLGB\u001b[0m\u001b[1;33m.\u001b[0m\u001b[0mpredict\u001b[0m\u001b[1;33m(\u001b[0m\u001b[0mtest_x\u001b[0m\u001b[1;33m)\u001b[0m\u001b[1;33m\u001b[0m\u001b[1;33m\u001b[0m\u001b[0m\n\u001b[0m",
      "\u001b[1;32m~\\anaconda3\\lib\\site-packages\\lightgbm\\sklearn.py\u001b[0m in \u001b[0;36mpredict\u001b[1;34m(self, X, raw_score, num_iteration, pred_leaf, pred_contrib, **kwargs)\u001b[0m\n\u001b[0;32m    662\u001b[0m                              \u001b[1;34m\"input n_features is %s \"\u001b[0m\u001b[1;33m\u001b[0m\u001b[1;33m\u001b[0m\u001b[0m\n\u001b[0;32m    663\u001b[0m                              % (self._n_features, n_features))\n\u001b[1;32m--> 664\u001b[1;33m         return self.booster_.predict(X, raw_score=raw_score, num_iteration=num_iteration,\n\u001b[0m\u001b[0;32m    665\u001b[0m                                      pred_leaf=pred_leaf, pred_contrib=pred_contrib, **kwargs)\n\u001b[0;32m    666\u001b[0m \u001b[1;33m\u001b[0m\u001b[0m\n",
      "\u001b[1;32m~\\anaconda3\\lib\\site-packages\\lightgbm\\basic.py\u001b[0m in \u001b[0;36mpredict\u001b[1;34m(self, data, num_iteration, raw_score, pred_leaf, pred_contrib, data_has_header, is_reshape, **kwargs)\u001b[0m\n\u001b[0;32m   2411\u001b[0m         \u001b[1;32mif\u001b[0m \u001b[0mnum_iteration\u001b[0m \u001b[1;32mis\u001b[0m \u001b[1;32mNone\u001b[0m\u001b[1;33m:\u001b[0m\u001b[1;33m\u001b[0m\u001b[1;33m\u001b[0m\u001b[0m\n\u001b[0;32m   2412\u001b[0m             \u001b[0mnum_iteration\u001b[0m \u001b[1;33m=\u001b[0m \u001b[0mself\u001b[0m\u001b[1;33m.\u001b[0m\u001b[0mbest_iteration\u001b[0m\u001b[1;33m\u001b[0m\u001b[1;33m\u001b[0m\u001b[0m\n\u001b[1;32m-> 2413\u001b[1;33m         return predictor.predict(data, num_iteration,\n\u001b[0m\u001b[0;32m   2414\u001b[0m                                  \u001b[0mraw_score\u001b[0m\u001b[1;33m,\u001b[0m \u001b[0mpred_leaf\u001b[0m\u001b[1;33m,\u001b[0m \u001b[0mpred_contrib\u001b[0m\u001b[1;33m,\u001b[0m\u001b[1;33m\u001b[0m\u001b[1;33m\u001b[0m\u001b[0m\n\u001b[0;32m   2415\u001b[0m                                  data_has_header, is_reshape)\n",
      "\u001b[1;32m~\\anaconda3\\lib\\site-packages\\lightgbm\\basic.py\u001b[0m in \u001b[0;36mpredict\u001b[1;34m(self, data, num_iteration, raw_score, pred_leaf, pred_contrib, data_has_header, is_reshape)\u001b[0m\n\u001b[0;32m    502\u001b[0m         \u001b[1;32mif\u001b[0m \u001b[0misinstance\u001b[0m\u001b[1;33m(\u001b[0m\u001b[0mdata\u001b[0m\u001b[1;33m,\u001b[0m \u001b[0mDataset\u001b[0m\u001b[1;33m)\u001b[0m\u001b[1;33m:\u001b[0m\u001b[1;33m\u001b[0m\u001b[1;33m\u001b[0m\u001b[0m\n\u001b[0;32m    503\u001b[0m             \u001b[1;32mraise\u001b[0m \u001b[0mTypeError\u001b[0m\u001b[1;33m(\u001b[0m\u001b[1;34m\"Cannot use Dataset instance for prediction, please use raw data instead\"\u001b[0m\u001b[1;33m)\u001b[0m\u001b[1;33m\u001b[0m\u001b[1;33m\u001b[0m\u001b[0m\n\u001b[1;32m--> 504\u001b[1;33m         \u001b[0mdata\u001b[0m \u001b[1;33m=\u001b[0m \u001b[0m_data_from_pandas\u001b[0m\u001b[1;33m(\u001b[0m\u001b[0mdata\u001b[0m\u001b[1;33m,\u001b[0m \u001b[1;32mNone\u001b[0m\u001b[1;33m,\u001b[0m \u001b[1;32mNone\u001b[0m\u001b[1;33m,\u001b[0m \u001b[0mself\u001b[0m\u001b[1;33m.\u001b[0m\u001b[0mpandas_categorical\u001b[0m\u001b[1;33m)\u001b[0m\u001b[1;33m[\u001b[0m\u001b[1;36m0\u001b[0m\u001b[1;33m]\u001b[0m\u001b[1;33m\u001b[0m\u001b[1;33m\u001b[0m\u001b[0m\n\u001b[0m\u001b[0;32m    505\u001b[0m         \u001b[0mpredict_type\u001b[0m \u001b[1;33m=\u001b[0m \u001b[0mC_API_PREDICT_NORMAL\u001b[0m\u001b[1;33m\u001b[0m\u001b[1;33m\u001b[0m\u001b[0m\n\u001b[0;32m    506\u001b[0m         \u001b[1;32mif\u001b[0m \u001b[0mraw_score\u001b[0m\u001b[1;33m:\u001b[0m\u001b[1;33m\u001b[0m\u001b[1;33m\u001b[0m\u001b[0m\n",
      "\u001b[1;32m~\\anaconda3\\lib\\site-packages\\lightgbm\\basic.py\u001b[0m in \u001b[0;36m_data_from_pandas\u001b[1;34m(data, feature_name, categorical_feature, pandas_categorical)\u001b[0m\n\u001b[0;32m    313\u001b[0m     \u001b[1;32mif\u001b[0m \u001b[0misinstance\u001b[0m\u001b[1;33m(\u001b[0m\u001b[0mdata\u001b[0m\u001b[1;33m,\u001b[0m \u001b[0mDataFrame\u001b[0m\u001b[1;33m)\u001b[0m\u001b[1;33m:\u001b[0m\u001b[1;33m\u001b[0m\u001b[1;33m\u001b[0m\u001b[0m\n\u001b[0;32m    314\u001b[0m         \u001b[1;32mif\u001b[0m \u001b[0mlen\u001b[0m\u001b[1;33m(\u001b[0m\u001b[0mdata\u001b[0m\u001b[1;33m.\u001b[0m\u001b[0mshape\u001b[0m\u001b[1;33m)\u001b[0m \u001b[1;33m!=\u001b[0m \u001b[1;36m2\u001b[0m \u001b[1;32mor\u001b[0m \u001b[0mdata\u001b[0m\u001b[1;33m.\u001b[0m\u001b[0mshape\u001b[0m\u001b[1;33m[\u001b[0m\u001b[1;36m0\u001b[0m\u001b[1;33m]\u001b[0m \u001b[1;33m<\u001b[0m \u001b[1;36m1\u001b[0m\u001b[1;33m:\u001b[0m\u001b[1;33m\u001b[0m\u001b[1;33m\u001b[0m\u001b[0m\n\u001b[1;32m--> 315\u001b[1;33m             \u001b[1;32mraise\u001b[0m \u001b[0mValueError\u001b[0m\u001b[1;33m(\u001b[0m\u001b[1;34m'Input data must be 2 dimensional and non empty.'\u001b[0m\u001b[1;33m)\u001b[0m\u001b[1;33m\u001b[0m\u001b[1;33m\u001b[0m\u001b[0m\n\u001b[0m\u001b[0;32m    316\u001b[0m         \u001b[1;32mif\u001b[0m \u001b[0mfeature_name\u001b[0m \u001b[1;33m==\u001b[0m \u001b[1;34m'auto'\u001b[0m \u001b[1;32mor\u001b[0m \u001b[0mfeature_name\u001b[0m \u001b[1;32mis\u001b[0m \u001b[1;32mNone\u001b[0m\u001b[1;33m:\u001b[0m\u001b[1;33m\u001b[0m\u001b[1;33m\u001b[0m\u001b[0m\n\u001b[0;32m    317\u001b[0m             \u001b[0mdata\u001b[0m \u001b[1;33m=\u001b[0m \u001b[0mdata\u001b[0m\u001b[1;33m.\u001b[0m\u001b[0mrename\u001b[0m\u001b[1;33m(\u001b[0m\u001b[0mcolumns\u001b[0m\u001b[1;33m=\u001b[0m\u001b[0mstr\u001b[0m\u001b[1;33m)\u001b[0m\u001b[1;33m\u001b[0m\u001b[1;33m\u001b[0m\u001b[0m\n",
      "\u001b[1;31mValueError\u001b[0m: Input data must be 2 dimensional and non empty."
     ]
    }
   ],
   "source": [
    "pred_test_lgb = LGB.predict(test_x)"
   ]
  },
  {
   "cell_type": "code",
   "execution_count": null,
   "id": "708dc463",
   "metadata": {},
   "outputs": [],
   "source": []
  },
  {
   "cell_type": "code",
   "execution_count": null,
   "id": "139f53d7",
   "metadata": {},
   "outputs": [],
   "source": []
  },
  {
   "cell_type": "code",
   "execution_count": null,
   "id": "1115bb42",
   "metadata": {},
   "outputs": [],
   "source": [
    "baseline_features = ['shop_id', 'item_id', 'item_category_id', 'date_block_num'] +  new_features + ['item_cnt_month']\n",
    "\n",
    "    # Clipping to range 0-20\n",
    "    train_test_set['item_cnt_month'] = train_test_set.item_cnt_month.fillna(0).clip(0,20)\n",
    "\n",
    "    # train: want rows with date_block_num from 0 to 31\n",
    "    train_time_range_lo = (train_test_set['date_block_num'] >= 0)\n",
    "    train_time_range_hi =  (train_test_set['date_block_num'] <= 32)\n",
    "\n",
    "    # val: want rows with date_block_num from 22\n",
    "    validation_time =  (train_test_set['date_block_num'] == 33)\n",
    "\n",
    "    # test: want rows with date_block_num from 34\n",
    "    test_time =  (train_test_set['date_block_num'] == 34)\n",
    "\n",
    "\n",
    "    # Retrieve rows for train set, val set, test set\n",
    "    cv_trainset = train_test_set[train_time_range_lo & train_time_range_hi]\n",
    "    cv_valset = train_test_set[validation_time]\n",
    "    cv_trainset = cv_trainset[baseline_features]\n",
    "    cv_valset = cv_valset[baseline_features]\n",
    "    testset = train_test_set[test_time]\n",
    "    testset = testset[baseline_features]\n",
    "\n",
    "    # Prepare numpy arrays for training/val/test\n",
    "    cv_trainset_vals = cv_trainset.values.astype(int)\n",
    "    trainx = cv_trainset_vals[:, 0:len(baseline_features) - 1]\n",
    "    trainy = cv_trainset_vals[:, len(baseline_features) - 1]\n",
    "\n",
    "    cv_valset_vals = cv_valset.values.astype(int)\n",
    "    valx = cv_valset_vals[:, 0:len(baseline_features) - 1]\n",
    "    valy = cv_valset_vals[:, len(baseline_features) - 1]\n",
    "\n",
    "    testset_vals = testset.values.astype(int)\n",
    "    testx = testset_vals[:, 0:len(baseline_features) - 1]\n",
    "\n",
    "    print('Fitting...')\n",
    "    model = xgb.XGBRegressor(max_depth = 11, min_child_weight=0.5, subsample = 1, eta = 0.3, num_round = 1000, seed = 1, nthread = 16)\n",
    "    model.fit(trainx, trainy, eval_metric='rmse')\n",
    "\n",
    "\n",
    "    preds = model.predict(valx)\n",
    "    # Clipping to range 0-20\n",
    "    preds = np.clip(preds, 0,20)\n",
    "    print('val set rmse: ', sqrt(mean_squared_error(valy, preds)))\n",
    "\n",
    "    preds = model.predict(testx)\n",
    "    # Clipping to range 0-20\n",
    "    preds = np.clip(preds, 0,20)\n",
    "    df = pd.DataFrame(preds, columns = ['item_cnt_month'])\n",
    "    df['ID'] = df.index\n",
    "    df = df.set_index('ID')\n",
    "    df.to_csv('test_preds.csv')\n",
    "    print('test predictions written to file')\n",
    "\n",
    "    end = time.time()\n",
    "    diff = end - current\n",
    "    print('Took ' + str(int(diff)) + ' seconds to train and predict val, test set')"
   ]
  },
  {
   "cell_type": "code",
   "execution_count": null,
   "id": "a58a23b8",
   "metadata": {},
   "outputs": [],
   "source": []
  },
  {
   "cell_type": "code",
   "execution_count": null,
   "id": "176974b7",
   "metadata": {},
   "outputs": [],
   "source": []
  },
  {
   "cell_type": "code",
   "execution_count": null,
   "id": "139e6833",
   "metadata": {},
   "outputs": [],
   "source": []
  },
  {
   "cell_type": "code",
   "execution_count": 13,
   "id": "b8c54184",
   "metadata": {},
   "outputs": [
    {
     "data": {
      "text/html": [
       "<div>\n",
       "<style scoped>\n",
       "    .dataframe tbody tr th:only-of-type {\n",
       "        vertical-align: middle;\n",
       "    }\n",
       "\n",
       "    .dataframe tbody tr th {\n",
       "        vertical-align: top;\n",
       "    }\n",
       "\n",
       "    .dataframe thead th {\n",
       "        text-align: right;\n",
       "    }\n",
       "</style>\n",
       "<table border=\"1\" class=\"dataframe\">\n",
       "  <thead>\n",
       "    <tr style=\"text-align: right;\">\n",
       "      <th></th>\n",
       "      <th>shop_id</th>\n",
       "      <th>item_id</th>\n",
       "      <th>date_block_num</th>\n",
       "      <th>item_cnt_day</th>\n",
       "      <th>item_price</th>\n",
       "    </tr>\n",
       "  </thead>\n",
       "  <tbody>\n",
       "    <tr>\n",
       "      <th>0</th>\n",
       "      <td>2</td>\n",
       "      <td>991</td>\n",
       "      <td>0</td>\n",
       "      <td>1.0</td>\n",
       "      <td>99.0</td>\n",
       "    </tr>\n",
       "    <tr>\n",
       "      <th>1</th>\n",
       "      <td>2</td>\n",
       "      <td>1472</td>\n",
       "      <td>0</td>\n",
       "      <td>1.0</td>\n",
       "      <td>2599.0</td>\n",
       "    </tr>\n",
       "    <tr>\n",
       "      <th>2</th>\n",
       "      <td>2</td>\n",
       "      <td>1905</td>\n",
       "      <td>0</td>\n",
       "      <td>1.0</td>\n",
       "      <td>249.0</td>\n",
       "    </tr>\n",
       "    <tr>\n",
       "      <th>3</th>\n",
       "      <td>2</td>\n",
       "      <td>2920</td>\n",
       "      <td>0</td>\n",
       "      <td>2.0</td>\n",
       "      <td>599.0</td>\n",
       "    </tr>\n",
       "    <tr>\n",
       "      <th>4</th>\n",
       "      <td>2</td>\n",
       "      <td>3320</td>\n",
       "      <td>0</td>\n",
       "      <td>1.0</td>\n",
       "      <td>1999.0</td>\n",
       "    </tr>\n",
       "    <tr>\n",
       "      <th>...</th>\n",
       "      <td>...</td>\n",
       "      <td>...</td>\n",
       "      <td>...</td>\n",
       "      <td>...</td>\n",
       "      <td>...</td>\n",
       "    </tr>\n",
       "    <tr>\n",
       "      <th>2917</th>\n",
       "      <td>59</td>\n",
       "      <td>13417</td>\n",
       "      <td>0</td>\n",
       "      <td>1.0</td>\n",
       "      <td>699.0</td>\n",
       "    </tr>\n",
       "    <tr>\n",
       "      <th>2918</th>\n",
       "      <td>59</td>\n",
       "      <td>13418</td>\n",
       "      <td>0</td>\n",
       "      <td>1.0</td>\n",
       "      <td>699.0</td>\n",
       "    </tr>\n",
       "    <tr>\n",
       "      <th>2919</th>\n",
       "      <td>59</td>\n",
       "      <td>13569</td>\n",
       "      <td>0</td>\n",
       "      <td>1.0</td>\n",
       "      <td>499.0</td>\n",
       "    </tr>\n",
       "    <tr>\n",
       "      <th>2920</th>\n",
       "      <td>59</td>\n",
       "      <td>15005</td>\n",
       "      <td>0</td>\n",
       "      <td>1.0</td>\n",
       "      <td>249.0</td>\n",
       "    </tr>\n",
       "    <tr>\n",
       "      <th>2921</th>\n",
       "      <td>59</td>\n",
       "      <td>16337</td>\n",
       "      <td>0</td>\n",
       "      <td>1.0</td>\n",
       "      <td>2499.0</td>\n",
       "    </tr>\n",
       "  </tbody>\n",
       "</table>\n",
       "<p>2922 rows × 5 columns</p>\n",
       "</div>"
      ],
      "text/plain": [
       "      shop_id  item_id  date_block_num  item_cnt_day  item_price\n",
       "0           2      991               0           1.0        99.0\n",
       "1           2     1472               0           1.0      2599.0\n",
       "2           2     1905               0           1.0       249.0\n",
       "3           2     2920               0           2.0       599.0\n",
       "4           2     3320               0           1.0      1999.0\n",
       "...       ...      ...             ...           ...         ...\n",
       "2917       59    13417               0           1.0       699.0\n",
       "2918       59    13418               0           1.0       699.0\n",
       "2919       59    13569               0           1.0       499.0\n",
       "2920       59    15005               0           1.0       249.0\n",
       "2921       59    16337               0           1.0      2499.0\n",
       "\n",
       "[2922 rows x 5 columns]"
      ]
     },
     "execution_count": 13,
     "metadata": {},
     "output_type": "execute_result"
    }
   ],
   "source": [
    "trainset"
   ]
  },
  {
   "cell_type": "code",
   "execution_count": null,
   "id": "921f0d62",
   "metadata": {},
   "outputs": [],
   "source": []
  },
  {
   "cell_type": "code",
   "execution_count": null,
   "id": "714b99e0",
   "metadata": {},
   "outputs": [],
   "source": []
  },
  {
   "cell_type": "code",
   "execution_count": null,
   "id": "81e2529b",
   "metadata": {},
   "outputs": [],
   "source": []
  },
  {
   "cell_type": "code",
   "execution_count": null,
   "id": "61063b56",
   "metadata": {},
   "outputs": [],
   "source": []
  },
  {
   "cell_type": "code",
   "execution_count": null,
   "id": "29d633dd",
   "metadata": {},
   "outputs": [],
   "source": []
  },
  {
   "cell_type": "code",
   "execution_count": null,
   "id": "094b27b4",
   "metadata": {},
   "outputs": [],
   "source": []
  },
  {
   "cell_type": "code",
   "execution_count": null,
   "id": "c986607b",
   "metadata": {},
   "outputs": [],
   "source": []
  },
  {
   "cell_type": "markdown",
   "id": "2345bf06",
   "metadata": {},
   "source": [
    "### convert to month (from notebook)"
   ]
  },
  {
   "cell_type": "code",
   "execution_count": 21,
   "id": "ffa93348",
   "metadata": {},
   "outputs": [],
   "source": [
    "# For every month we create a grid from all shops/items combinations from that month\n",
    "grid = []\n",
    "for block_num in df['date_block_num'].unique():\n",
    "    cur_shops = df[df['date_block_num']==block_num]['shop_id'].unique()\n",
    "    cur_items = df[df['date_block_num']==block_num]['item_id'].unique()\n",
    "    grid.append(np.array(list(product(*[cur_shops, cur_items, [block_num]])),dtype='int32'))"
   ]
  },
  {
   "cell_type": "code",
   "execution_count": 16,
   "id": "3cbb3789",
   "metadata": {},
   "outputs": [
    {
     "data": {
      "text/plain": [
       "array([[   27,  8665,     0],\n",
       "       [   27, 10324,     0],\n",
       "       [   27, 11222,     0],\n",
       "       ...,\n",
       "       [   12,  9807,     0],\n",
       "       [   12, 20181,     0],\n",
       "       [   12, 21461,     0]])"
      ]
     },
     "execution_count": 16,
     "metadata": {},
     "output_type": "execute_result"
    }
   ],
   "source": [
    "grid[0]\n",
    "# this is making pairs"
   ]
  },
  {
   "cell_type": "code",
   "execution_count": 22,
   "id": "ac95ee20",
   "metadata": {},
   "outputs": [
    {
     "data": {
      "text/html": [
       "<div>\n",
       "<style scoped>\n",
       "    .dataframe tbody tr th:only-of-type {\n",
       "        vertical-align: middle;\n",
       "    }\n",
       "\n",
       "    .dataframe tbody tr th {\n",
       "        vertical-align: top;\n",
       "    }\n",
       "\n",
       "    .dataframe thead th {\n",
       "        text-align: right;\n",
       "    }\n",
       "</style>\n",
       "<table border=\"1\" class=\"dataframe\">\n",
       "  <thead>\n",
       "    <tr style=\"text-align: right;\">\n",
       "      <th></th>\n",
       "      <th>shop_id</th>\n",
       "      <th>item_id</th>\n",
       "      <th>date_block_num</th>\n",
       "    </tr>\n",
       "  </thead>\n",
       "  <tbody>\n",
       "    <tr>\n",
       "      <th>0</th>\n",
       "      <td>27</td>\n",
       "      <td>8665</td>\n",
       "      <td>0</td>\n",
       "    </tr>\n",
       "    <tr>\n",
       "      <th>1</th>\n",
       "      <td>27</td>\n",
       "      <td>10324</td>\n",
       "      <td>0</td>\n",
       "    </tr>\n",
       "    <tr>\n",
       "      <th>2</th>\n",
       "      <td>27</td>\n",
       "      <td>11222</td>\n",
       "      <td>0</td>\n",
       "    </tr>\n",
       "    <tr>\n",
       "      <th>3</th>\n",
       "      <td>27</td>\n",
       "      <td>11076</td>\n",
       "      <td>0</td>\n",
       "    </tr>\n",
       "    <tr>\n",
       "      <th>4</th>\n",
       "      <td>27</td>\n",
       "      <td>15115</td>\n",
       "      <td>0</td>\n",
       "    </tr>\n",
       "  </tbody>\n",
       "</table>\n",
       "</div>"
      ],
      "text/plain": [
       "   shop_id  item_id  date_block_num\n",
       "0       27     8665               0\n",
       "1       27    10324               0\n",
       "2       27    11222               0\n",
       "3       27    11076               0\n",
       "4       27    15115               0"
      ]
     },
     "execution_count": 22,
     "metadata": {},
     "output_type": "execute_result"
    }
   ],
   "source": [
    "index_cols = ['shop_id', 'item_id', 'date_block_num']\n",
    "grid_df = pd.DataFrame(np.vstack(grid), columns = index_cols, dtype=np.int16)\n",
    "grid_df.head()"
   ]
  },
  {
   "cell_type": "code",
   "execution_count": 23,
   "id": "a85388d2",
   "metadata": {},
   "outputs": [],
   "source": [
    "# Aggregations\n",
    "df['item_cnt_day'] = df['item_cnt_day'].clip(0,20)\n",
    "groups = df.groupby(['shop_id', 'item_id', 'date_block_num'])\n",
    "trainset = groups.agg({'item_cnt_day':'sum', 'item_price':'mean'}).reset_index()\n",
    "trainset = trainset.rename(columns = {'item_cnt_day' : 'item_cnt_month'})"
   ]
  },
  {
   "cell_type": "code",
   "execution_count": 25,
   "id": "735fd417",
   "metadata": {},
   "outputs": [
    {
     "data": {
      "text/html": [
       "<div>\n",
       "<style scoped>\n",
       "    .dataframe tbody tr th:only-of-type {\n",
       "        vertical-align: middle;\n",
       "    }\n",
       "\n",
       "    .dataframe tbody tr th {\n",
       "        vertical-align: top;\n",
       "    }\n",
       "\n",
       "    .dataframe thead th {\n",
       "        text-align: right;\n",
       "    }\n",
       "</style>\n",
       "<table border=\"1\" class=\"dataframe\">\n",
       "  <thead>\n",
       "    <tr style=\"text-align: right;\">\n",
       "      <th></th>\n",
       "      <th>shop_id</th>\n",
       "      <th>item_id</th>\n",
       "      <th>date_block_num</th>\n",
       "      <th>item_cnt_month</th>\n",
       "      <th>item_price</th>\n",
       "    </tr>\n",
       "  </thead>\n",
       "  <tbody>\n",
       "    <tr>\n",
       "      <th>0</th>\n",
       "      <td>0</td>\n",
       "      <td>30</td>\n",
       "      <td>1</td>\n",
       "      <td>31.0</td>\n",
       "      <td>265.0</td>\n",
       "    </tr>\n",
       "    <tr>\n",
       "      <th>1</th>\n",
       "      <td>0</td>\n",
       "      <td>31</td>\n",
       "      <td>1</td>\n",
       "      <td>11.0</td>\n",
       "      <td>434.0</td>\n",
       "    </tr>\n",
       "    <tr>\n",
       "      <th>2</th>\n",
       "      <td>0</td>\n",
       "      <td>32</td>\n",
       "      <td>0</td>\n",
       "      <td>6.0</td>\n",
       "      <td>221.0</td>\n",
       "    </tr>\n",
       "    <tr>\n",
       "      <th>3</th>\n",
       "      <td>0</td>\n",
       "      <td>32</td>\n",
       "      <td>1</td>\n",
       "      <td>10.0</td>\n",
       "      <td>221.0</td>\n",
       "    </tr>\n",
       "    <tr>\n",
       "      <th>4</th>\n",
       "      <td>0</td>\n",
       "      <td>33</td>\n",
       "      <td>0</td>\n",
       "      <td>3.0</td>\n",
       "      <td>347.0</td>\n",
       "    </tr>\n",
       "  </tbody>\n",
       "</table>\n",
       "</div>"
      ],
      "text/plain": [
       "   shop_id  item_id  date_block_num  item_cnt_month  item_price\n",
       "0        0       30               1            31.0       265.0\n",
       "1        0       31               1            11.0       434.0\n",
       "2        0       32               0             6.0       221.0\n",
       "3        0       32               1            10.0       221.0\n",
       "4        0       33               0             3.0       347.0"
      ]
     },
     "execution_count": 25,
     "metadata": {},
     "output_type": "execute_result"
    }
   ],
   "source": [
    "trainset.head()"
   ]
  },
  {
   "cell_type": "code",
   "execution_count": 28,
   "id": "d04ee6aa",
   "metadata": {},
   "outputs": [],
   "source": [
    "trainset['item_cnt_month'] = trainset['item_cnt_month'].clip(0,20)\n",
    "trainset = pd.merge(grid_df,trainset,how='left',on=index_cols)\n",
    "trainset['item_cnt_month'] = trainset['item_cnt_month'].fillna(0)"
   ]
  },
  {
   "cell_type": "code",
   "execution_count": 32,
   "id": "0cf5af11",
   "metadata": {},
   "outputs": [
    {
     "name": "stdout",
     "output_type": "stream",
     "text": [
      "<class 'pandas.core.frame.DataFrame'>\n",
      "Int64Index: 10884364 entries, 0 to 10884363\n",
      "Data columns (total 5 columns):\n",
      " #   Column          Dtype  \n",
      "---  ------          -----  \n",
      " 0   shop_id         int16  \n",
      " 1   item_id         int16  \n",
      " 2   date_block_num  int16  \n",
      " 3   item_cnt_month  float32\n",
      " 4   item_price      float32\n",
      "dtypes: float32(2), int16(3)\n",
      "memory usage: 228.4 MB\n"
     ]
    }
   ],
   "source": [
    "trainset.info()"
   ]
  },
  {
   "cell_type": "code",
   "execution_count": 30,
   "id": "f3306f3f",
   "metadata": {},
   "outputs": [
    {
     "data": {
      "text/html": [
       "<div>\n",
       "<style scoped>\n",
       "    .dataframe tbody tr th:only-of-type {\n",
       "        vertical-align: middle;\n",
       "    }\n",
       "\n",
       "    .dataframe tbody tr th {\n",
       "        vertical-align: top;\n",
       "    }\n",
       "\n",
       "    .dataframe thead th {\n",
       "        text-align: right;\n",
       "    }\n",
       "</style>\n",
       "<table border=\"1\" class=\"dataframe\">\n",
       "  <thead>\n",
       "    <tr style=\"text-align: right;\">\n",
       "      <th></th>\n",
       "      <th>date</th>\n",
       "      <th>date_block_num</th>\n",
       "      <th>shop_id</th>\n",
       "      <th>item_id</th>\n",
       "      <th>item_price</th>\n",
       "      <th>item_cnt_day</th>\n",
       "      <th>item_name</th>\n",
       "      <th>item_category_id</th>\n",
       "      <th>item_category_name</th>\n",
       "      <th>shop_name</th>\n",
       "      <th>...</th>\n",
       "      <th>item_price_lag_6</th>\n",
       "      <th>item_cnt_day_lag_7</th>\n",
       "      <th>item_price_lag_7</th>\n",
       "      <th>item_cnt_day_lag_10</th>\n",
       "      <th>item_price_lag_10</th>\n",
       "      <th>item_cnt_day_lag_15</th>\n",
       "      <th>item_price_lag_15</th>\n",
       "      <th>item_cnt_day_lag_20</th>\n",
       "      <th>item_price_lag_20</th>\n",
       "      <th>0</th>\n",
       "    </tr>\n",
       "  </thead>\n",
       "  <tbody>\n",
       "    <tr>\n",
       "      <th>0</th>\n",
       "      <td>2013-01-01</td>\n",
       "      <td>0</td>\n",
       "      <td>27</td>\n",
       "      <td>8665</td>\n",
       "      <td>299.0</td>\n",
       "      <td>1.0</td>\n",
       "      <td>BARBOSKINY ISSUE 5: The Sorcerer's Apprentice</td>\n",
       "      <td>40</td>\n",
       "      <td>Movie - DVD</td>\n",
       "      <td>Moscow shopping center \"MEGA Belaya Dacha II\"</td>\n",
       "      <td>...</td>\n",
       "      <td>99999.0</td>\n",
       "      <td>99999.0</td>\n",
       "      <td>99999.0</td>\n",
       "      <td>99999.0</td>\n",
       "      <td>99999.0</td>\n",
       "      <td>99999.0</td>\n",
       "      <td>99999.0</td>\n",
       "      <td>99999.0</td>\n",
       "      <td>99999.0</td>\n",
       "      <td>34</td>\n",
       "    </tr>\n",
       "  </tbody>\n",
       "</table>\n",
       "<p>1 rows × 50 columns</p>\n",
       "</div>"
      ],
      "text/plain": [
       "        date  date_block_num  shop_id  item_id  item_price  item_cnt_day  \\\n",
       "0 2013-01-01               0       27     8665       299.0           1.0   \n",
       "\n",
       "                                       item_name  item_category_id  \\\n",
       "0  BARBOSKINY ISSUE 5: The Sorcerer's Apprentice                40   \n",
       "\n",
       "  item_category_name                                      shop_name  ...  \\\n",
       "0        Movie - DVD  Moscow shopping center \"MEGA Belaya Dacha II\"  ...   \n",
       "\n",
       "   item_price_lag_6  item_cnt_day_lag_7  item_price_lag_7  \\\n",
       "0           99999.0             99999.0           99999.0   \n",
       "\n",
       "   item_cnt_day_lag_10  item_price_lag_10  item_cnt_day_lag_15  \\\n",
       "0              99999.0            99999.0              99999.0   \n",
       "\n",
       "   item_price_lag_15  item_cnt_day_lag_20  item_price_lag_20   0  \n",
       "0            99999.0              99999.0            99999.0  34  \n",
       "\n",
       "[1 rows x 50 columns]"
      ]
     },
     "execution_count": 30,
     "metadata": {},
     "output_type": "execute_result"
    }
   ],
   "source": [
    "df.head(1)"
   ]
  },
  {
   "cell_type": "code",
   "execution_count": 33,
   "id": "486f1a4c",
   "metadata": {},
   "outputs": [
    {
     "name": "stdout",
     "output_type": "stream",
     "text": [
      "<class 'pandas.core.frame.DataFrame'>\n",
      "RangeIndex: 2926186 entries, 0 to 2926185\n",
      "Data columns (total 2 columns):\n",
      " #   Column            Dtype\n",
      "---  ------            -----\n",
      " 0   item_id           Int16\n",
      " 1   item_category_id  Int8 \n",
      "dtypes: Int16(1), Int8(1)\n",
      "memory usage: 14.0 MB\n"
     ]
    }
   ],
   "source": [
    "df[['item_id', 'item_category_id']].info()"
   ]
  },
  {
   "cell_type": "code",
   "execution_count": 34,
   "id": "ac6ab5d1",
   "metadata": {},
   "outputs": [],
   "source": [
    "items = pd.read_csv('./translated_2/items_en.csv')"
   ]
  },
  {
   "cell_type": "code",
   "execution_count": 35,
   "id": "093d58ff",
   "metadata": {},
   "outputs": [
    {
     "data": {
      "text/html": [
       "<div>\n",
       "<style scoped>\n",
       "    .dataframe tbody tr th:only-of-type {\n",
       "        vertical-align: middle;\n",
       "    }\n",
       "\n",
       "    .dataframe tbody tr th {\n",
       "        vertical-align: top;\n",
       "    }\n",
       "\n",
       "    .dataframe thead th {\n",
       "        text-align: right;\n",
       "    }\n",
       "</style>\n",
       "<table border=\"1\" class=\"dataframe\">\n",
       "  <thead>\n",
       "    <tr style=\"text-align: right;\">\n",
       "      <th></th>\n",
       "      <th>shop_id</th>\n",
       "      <th>item_id</th>\n",
       "      <th>date_block_num</th>\n",
       "      <th>item_cnt_month</th>\n",
       "      <th>item_price</th>\n",
       "      <th>item_category_id</th>\n",
       "    </tr>\n",
       "  </thead>\n",
       "  <tbody>\n",
       "    <tr>\n",
       "      <th>0</th>\n",
       "      <td>27</td>\n",
       "      <td>8665</td>\n",
       "      <td>0</td>\n",
       "      <td>3.0</td>\n",
       "      <td>299.0</td>\n",
       "      <td>40</td>\n",
       "    </tr>\n",
       "    <tr>\n",
       "      <th>1</th>\n",
       "      <td>54</td>\n",
       "      <td>8665</td>\n",
       "      <td>0</td>\n",
       "      <td>7.0</td>\n",
       "      <td>299.0</td>\n",
       "      <td>40</td>\n",
       "    </tr>\n",
       "    <tr>\n",
       "      <th>2</th>\n",
       "      <td>7</td>\n",
       "      <td>8665</td>\n",
       "      <td>0</td>\n",
       "      <td>0.0</td>\n",
       "      <td>NaN</td>\n",
       "      <td>40</td>\n",
       "    </tr>\n",
       "    <tr>\n",
       "      <th>3</th>\n",
       "      <td>46</td>\n",
       "      <td>8665</td>\n",
       "      <td>0</td>\n",
       "      <td>0.0</td>\n",
       "      <td>NaN</td>\n",
       "      <td>40</td>\n",
       "    </tr>\n",
       "    <tr>\n",
       "      <th>4</th>\n",
       "      <td>14</td>\n",
       "      <td>8665</td>\n",
       "      <td>0</td>\n",
       "      <td>0.0</td>\n",
       "      <td>NaN</td>\n",
       "      <td>40</td>\n",
       "    </tr>\n",
       "  </tbody>\n",
       "</table>\n",
       "</div>"
      ],
      "text/plain": [
       "   shop_id  item_id  date_block_num  item_cnt_month  item_price  \\\n",
       "0       27     8665               0             3.0       299.0   \n",
       "1       54     8665               0             7.0       299.0   \n",
       "2        7     8665               0             0.0         NaN   \n",
       "3       46     8665               0             0.0         NaN   \n",
       "4       14     8665               0             0.0         NaN   \n",
       "\n",
       "   item_category_id  \n",
       "0                40  \n",
       "1                40  \n",
       "2                40  \n",
       "3                40  \n",
       "4                40  "
      ]
     },
     "execution_count": 35,
     "metadata": {},
     "output_type": "execute_result"
    }
   ],
   "source": [
    "# Get category id\n",
    "trainset = pd.merge(trainset, items[['item_id', 'item_category_id']], on = 'item_id')\n",
    "trainset.head()"
   ]
  },
  {
   "cell_type": "code",
   "execution_count": null,
   "id": "bef7eeef",
   "metadata": {},
   "outputs": [],
   "source": []
  },
  {
   "cell_type": "code",
   "execution_count": null,
   "id": "63885d90",
   "metadata": {},
   "outputs": [],
   "source": []
  },
  {
   "cell_type": "code",
   "execution_count": 3,
   "id": "61cbdb67",
   "metadata": {},
   "outputs": [],
   "source": [
    "start_month = 0\n",
    "end_month = 33"
   ]
  },
  {
   "cell_type": "code",
   "execution_count": 36,
   "id": "26adae61",
   "metadata": {},
   "outputs": [],
   "source": [
    "trainset = trainset[(trainset['date_block_num'] >= start_month) & (trainset['date_block_num'] <= end_month)]\n",
    "testset = trainset[trainset['date_block_num']==34]"
   ]
  },
  {
   "cell_type": "code",
   "execution_count": 37,
   "id": "e161eead",
   "metadata": {},
   "outputs": [],
   "source": [
    " train_test_set = pd.concat([trainset, testset], axis = 0) "
   ]
  },
  {
   "cell_type": "markdown",
   "id": "4ed89e15",
   "metadata": {},
   "source": [
    "### some model"
   ]
  },
  {
   "cell_type": "code",
   "execution_count": 38,
   "id": "7645c3f2",
   "metadata": {},
   "outputs": [
    {
     "data": {
      "text/plain": [
       "Index(['shop_id', 'item_id', 'date_block_num', 'item_cnt_month', 'item_price',\n",
       "       'item_category_id'],\n",
       "      dtype='object')"
      ]
     },
     "execution_count": 38,
     "metadata": {},
     "output_type": "execute_result"
    }
   ],
   "source": [
    "train_test_set.columns"
   ]
  },
  {
   "cell_type": "code",
   "execution_count": 39,
   "id": "40be589f",
   "metadata": {},
   "outputs": [],
   "source": [
    "# Clipping to range 0-20\n",
    "train_test_set['item_cnt_month'] = train_test_set['item_cnt_month'].fillna(0).clip(0,20)"
   ]
  },
  {
   "cell_type": "code",
   "execution_count": 40,
   "id": "b8fc1364",
   "metadata": {},
   "outputs": [],
   "source": [
    "# train: want rows with date_block_num from 0 to 31\n",
    "train_time_range_lo = (train_test_set['date_block_num'] >= 0)\n",
    "train_time_range_hi =  (train_test_set['date_block_num'] <= 32)"
   ]
  },
  {
   "cell_type": "code",
   "execution_count": 43,
   "id": "5221c0d5",
   "metadata": {},
   "outputs": [],
   "source": [
    "# train_time_range_hi, train_time_range_lo"
   ]
  },
  {
   "cell_type": "code",
   "execution_count": 44,
   "id": "0c520428",
   "metadata": {},
   "outputs": [],
   "source": [
    "# val: want rows with date_block_num from 22\n",
    "validation_time =  (train_test_set['date_block_num'] == 33)\n",
    "\n",
    "# test: want rows with date_block_num from 34\n",
    "test_time =  (train_test_set['date_block_num'] == 34)"
   ]
  },
  {
   "cell_type": "code",
   "execution_count": 46,
   "id": "6130b3f7",
   "metadata": {},
   "outputs": [],
   "source": [
    "# Retrieve rows for train set, val set, test set\n",
    "cv_trainset = train_test_set[train_time_range_lo & train_time_range_hi]\n",
    "cv_valset = train_test_set[validation_time]\n",
    "testset = train_test_set[test_time]"
   ]
  },
  {
   "cell_type": "code",
   "execution_count": null,
   "id": "f7d62817",
   "metadata": {},
   "outputs": [],
   "source": []
  },
  {
   "cell_type": "code",
   "execution_count": 48,
   "id": "06aa5237",
   "metadata": {},
   "outputs": [
    {
     "data": {
      "text/html": [
       "<div>\n",
       "<style scoped>\n",
       "    .dataframe tbody tr th:only-of-type {\n",
       "        vertical-align: middle;\n",
       "    }\n",
       "\n",
       "    .dataframe tbody tr th {\n",
       "        vertical-align: top;\n",
       "    }\n",
       "\n",
       "    .dataframe thead th {\n",
       "        text-align: right;\n",
       "    }\n",
       "</style>\n",
       "<table border=\"1\" class=\"dataframe\">\n",
       "  <thead>\n",
       "    <tr style=\"text-align: right;\">\n",
       "      <th></th>\n",
       "      <th>shop_id</th>\n",
       "      <th>item_id</th>\n",
       "      <th>date_block_num</th>\n",
       "      <th>item_cnt_month</th>\n",
       "      <th>item_price</th>\n",
       "      <th>item_category_id</th>\n",
       "    </tr>\n",
       "  </thead>\n",
       "  <tbody>\n",
       "    <tr>\n",
       "      <th>0</th>\n",
       "      <td>27</td>\n",
       "      <td>8665</td>\n",
       "      <td>0</td>\n",
       "      <td>3.0</td>\n",
       "      <td>299.0</td>\n",
       "      <td>40</td>\n",
       "    </tr>\n",
       "    <tr>\n",
       "      <th>1</th>\n",
       "      <td>54</td>\n",
       "      <td>8665</td>\n",
       "      <td>0</td>\n",
       "      <td>7.0</td>\n",
       "      <td>299.0</td>\n",
       "      <td>40</td>\n",
       "    </tr>\n",
       "  </tbody>\n",
       "</table>\n",
       "</div>"
      ],
      "text/plain": [
       "   shop_id  item_id  date_block_num  item_cnt_month  item_price  \\\n",
       "0       27     8665               0             3.0       299.0   \n",
       "1       54     8665               0             7.0       299.0   \n",
       "\n",
       "   item_category_id  \n",
       "0                40  \n",
       "1                40  "
      ]
     },
     "execution_count": 48,
     "metadata": {},
     "output_type": "execute_result"
    }
   ],
   "source": [
    "cv_trainset.head(2)"
   ]
  },
  {
   "cell_type": "code",
   "execution_count": 49,
   "id": "6e150a94",
   "metadata": {},
   "outputs": [
    {
     "data": {
      "text/plain": [
       "array([[2.7000e+01, 8.6650e+03, 0.0000e+00, 3.0000e+00, 2.9900e+02,\n",
       "        4.0000e+01],\n",
       "       [5.4000e+01, 8.6650e+03, 0.0000e+00, 7.0000e+00, 2.9900e+02,\n",
       "        4.0000e+01],\n",
       "       [7.0000e+00, 8.6650e+03, 0.0000e+00, 0.0000e+00,        nan,\n",
       "        4.0000e+01],\n",
       "       ...,\n",
       "       [4.5000e+01, 1.3219e+04, 3.2000e+01, 0.0000e+00,        nan,\n",
       "        4.7000e+01],\n",
       "       [4.4000e+01, 1.3219e+04, 3.2000e+01, 0.0000e+00,        nan,\n",
       "        4.7000e+01],\n",
       "       [4.1000e+01, 1.3219e+04, 3.2000e+01, 0.0000e+00,        nan,\n",
       "        4.7000e+01]])"
      ]
     },
     "execution_count": 49,
     "metadata": {},
     "output_type": "execute_result"
    }
   ],
   "source": [
    "cv_trainset.values"
   ]
  },
  {
   "cell_type": "code",
   "execution_count": null,
   "id": "9cd53638",
   "metadata": {},
   "outputs": [],
   "source": [
    "# Prepare numpy arrays for training/val/test\n",
    "cv_trainset_vals = cv_trainset.values.astype(int)\n",
    "trainx = cv_trainset_vals[:, 0:len(baseline_features) - 1]\n",
    "trainy = cv_trainset_vals[:, len(baseline_features) - 1]\n",
    "\n",
    "cv_valset_vals = cv_valset.values.astype(int)\n",
    "valx = cv_valset_vals[:, 0:len(baseline_features) - 1]\n",
    "valy = cv_valset_vals[:, len(baseline_features) - 1]\n",
    "\n",
    "testset_vals = testset.values.astype(int)\n",
    "testx = testset_vals[:, 0:len(baseline_features) - 1]\n",
    "\n",
    "print('Fitting...')\n",
    "model = xgb.XGBRegressor(max_depth = 11, min_child_weight=0.5, subsample = 1, eta = 0.3, num_round = 1000, seed = 1, nthread = 16)\n",
    "model.fit(trainx, trainy, eval_metric='rmse')\n",
    "\n",
    "\n",
    "preds = model.predict(valx)\n",
    "# Clipping to range 0-20\n",
    "preds = np.clip(preds, 0,20)\n",
    "print('val set rmse: ', sqrt(mean_squared_error(valy, preds)))\n",
    "\n",
    "preds = model.predict(testx)\n",
    "# Clipping to range 0-20\n",
    "preds = np.clip(preds, 0,20)\n",
    "df = pd.DataFrame(preds, columns = ['item_cnt_month'])\n",
    "df['ID'] = df.index\n",
    "df = df.set_index('ID')\n",
    "df.to_csv('test_preds.csv')\n",
    "print('test predictions written to file')\n",
    "\n",
    "end = time.time()\n",
    "diff = end - current\n",
    "print('Took ' + str(int(diff)) + ' seconds to train and predict val, test set')"
   ]
  }
 ],
 "metadata": {
  "kernelspec": {
   "display_name": "Python 3 (ipykernel)",
   "language": "python",
   "name": "python3"
  },
  "language_info": {
   "codemirror_mode": {
    "name": "ipython",
    "version": 3
   },
   "file_extension": ".py",
   "mimetype": "text/x-python",
   "name": "python",
   "nbconvert_exporter": "python",
   "pygments_lexer": "ipython3",
   "version": "3.8.12"
  }
 },
 "nbformat": 4,
 "nbformat_minor": 5
}
