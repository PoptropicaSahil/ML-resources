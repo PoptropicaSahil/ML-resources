{
 "cells": [
  {
   "cell_type": "markdown",
   "metadata": {},
   "source": [
    "---\n",
    "\n",
    "_You are currently looking at **version 1.1** of this notebook. To download notebooks and datafiles, as well as get help on Jupyter notebooks in the Coursera platform, visit the [Jupyter Notebook FAQ](https://www.coursera.org/learn/python-machine-learning/resources/bANLa) course resource._\n",
    "\n",
    "---"
   ]
  },
  {
   "cell_type": "markdown",
   "metadata": {},
   "source": [
    "## Assignment 4 - Understanding and Predicting Property Maintenance Fines\n",
    "\n",
    "This assignment is based on a data challenge from the Michigan Data Science Team ([MDST](http://midas.umich.edu/mdst/)). \n",
    "\n",
    "The Michigan Data Science Team ([MDST](http://midas.umich.edu/mdst/)) and the Michigan Student Symposium for Interdisciplinary Statistical Sciences ([MSSISS](https://sites.lsa.umich.edu/mssiss/)) have partnered with the City of Detroit to help solve one of the most pressing problems facing Detroit - blight. [Blight violations](http://www.detroitmi.gov/How-Do-I/Report/Blight-Complaint-FAQs) are issued by the city to individuals who allow their properties to remain in a deteriorated condition. Every year, the city of Detroit issues millions of dollars in fines to residents and every year, many of these fines remain unpaid. Enforcing unpaid blight fines is a costly and tedious process, so the city wants to know: how can we increase blight ticket compliance?\n",
    "\n",
    "The first step in answering this question is understanding when and why a resident might fail to comply with a blight ticket. This is where predictive modeling comes in. For this assignment, your task is to predict whether a given blight ticket will be paid on time.\n",
    "\n",
    "All data for this assignment has been provided to us through the [Detroit Open Data Portal](https://data.detroitmi.gov/). **Only the data already included in your Coursera directory can be used for training the model for this assignment.** Nonetheless, we encourage you to look into data from other Detroit datasets to help inform feature creation and model selection. We recommend taking a look at the following related datasets:\n",
    "\n",
    "* [Building Permits](https://data.detroitmi.gov/Property-Parcels/Building-Permits/xw2a-a7tf)\n",
    "* [Trades Permits](https://data.detroitmi.gov/Property-Parcels/Trades-Permits/635b-dsgv)\n",
    "* [Improve Detroit: Submitted Issues](https://data.detroitmi.gov/Government/Improve-Detroit-Submitted-Issues/fwz3-w3yn)\n",
    "* [DPD: Citizen Complaints](https://data.detroitmi.gov/Public-Safety/DPD-Citizen-Complaints-2016/kahe-efs3)\n",
    "* [Parcel Map](https://data.detroitmi.gov/Property-Parcels/Parcel-Map/fxkw-udwf)\n",
    "\n",
    "___\n",
    "\n",
    "We provide you with two data files for use in training and validating your models: train.csv and test.csv. Each row in these two files corresponds to a single blight ticket, and includes information about when, why, and to whom each ticket was issued. The target variable is compliance, which is True if the ticket was paid early, on time, or within one month of the hearing data, False if the ticket was paid after the hearing date or not at all, and Null if the violator was found not responsible. Compliance, as well as a handful of other variables that will not be available at test-time, are only included in train.csv.\n",
    "\n",
    "Note: All tickets where the violators were found not responsible are not considered during evaluation. They are included in the training set as an additional source of data for visualization, and to enable unsupervised and semi-supervised approaches. However, they are not included in the test set.\n",
    "\n",
    "<br>\n",
    "\n",
    "**File descriptions** (Use only this data for training your model!)\n",
    "\n",
    "    readonly/train.csv - the training set (all tickets issued 2004-2011)\n",
    "    readonly/test.csv - the test set (all tickets issued 2012-2016)\n",
    "    readonly/addresses.csv & readonly/latlons.csv - mapping from ticket id to addresses, and from addresses to lat/lon coordinates. \n",
    "     Note: misspelled addresses may be incorrectly geolocated.\n",
    "\n",
    "<br>\n",
    "\n",
    "**Data fields**\n",
    "\n",
    "train.csv & test.csv\n",
    "\n",
    "    ticket_id - unique identifier for tickets\n",
    "    agency_name - Agency that issued the ticket\n",
    "    inspector_name - Name of inspector that issued the ticket\n",
    "    violator_name - Name of the person/organization that the ticket was issued to\n",
    "    violation_street_number, violation_street_name, violation_zip_code - Address where the violation occurred\n",
    "    mailing_address_str_number, mailing_address_str_name, city, state, zip_code, non_us_str_code, country - Mailing address of the violator\n",
    "    ticket_issued_date - Date and time the ticket was issued\n",
    "    hearing_date - Date and time the violator's hearing was scheduled\n",
    "    violation_code, violation_description - Type of violation\n",
    "    disposition - Judgment and judgement type\n",
    "    fine_amount - Violation fine amount, excluding fees\n",
    "    admin_fee - $20 fee assigned to responsible judgments\n",
    "state_fee - $10 fee assigned to responsible judgments\n",
    "    late_fee - 10% fee assigned to responsible judgments\n",
    "    discount_amount - discount applied, if any\n",
    "    clean_up_cost - DPW clean-up or graffiti removal cost\n",
    "    judgment_amount - Sum of all fines and fees\n",
    "    grafitti_status - Flag for graffiti violations\n",
    "    \n",
    "train.csv only\n",
    "\n",
    "    payment_amount - Amount paid, if any\n",
    "    payment_date - Date payment was made, if it was received\n",
    "    payment_status - Current payment status as of Feb 1 2017\n",
    "    balance_due - Fines and fees still owed\n",
    "    collection_status - Flag for payments in collections\n",
    "    compliance [target variable for prediction] \n",
    "     Null = Not responsible\n",
    "     0 = Responsible, non-compliant\n",
    "     1 = Responsible, compliant\n",
    "    compliance_detail - More information on why each ticket was marked compliant or non-compliant\n",
    "\n",
    "\n",
    "___\n",
    "\n",
    "## Evaluation\n",
    "\n",
    "Your predictions will be given as the probability that the corresponding blight ticket will be paid on time.\n",
    "\n",
    "The evaluation metric for this assignment is the Area Under the ROC Curve (AUC). \n",
    "\n",
    "Your grade will be based on the AUC score computed for your classifier. A model which with an AUROC of 0.7 passes this assignment, over 0.75 will recieve full points.\n",
    "___\n",
    "\n",
    "For this assignment, create a function that trains a model to predict blight ticket compliance in Detroit using `readonly/train.csv`. Using this model, return a series of length 61001 with the data being the probability that each corresponding ticket from `readonly/test.csv` will be paid, and the index being the ticket_id.\n",
    "\n",
    "Example:\n",
    "\n",
    "    ticket_id\n",
    "       284932    0.531842\n",
    "       285362    0.401958\n",
    "       285361    0.105928\n",
    "       285338    0.018572\n",
    "                 ...\n",
    "       376499    0.208567\n",
    "       376500    0.818759\n",
    "       369851    0.018528\n",
    "       Name: compliance, dtype: float32\n",
    "       \n",
    "### Hints\n",
    "\n",
    "* Make sure your code is working before submitting it to the autograder.\n",
    "\n",
    "* Print out your result to see whether there is anything weird (e.g., all probabilities are the same).\n",
    "\n",
    "* Generally the total runtime should be less than 10 mins. You should NOT use Neural Network related classifiers (e.g., MLPClassifier) in this question. \n",
    "\n",
    "* Try to avoid global variables. If you have other functions besides blight_model, you should move those functions inside the scope of blight_model.\n",
    "\n",
    "* Refer to the pinned threads in Week 4's discussion forum when there is something you could not figure it out."
   ]
  },
  {
   "cell_type": "markdown",
   "metadata": {},
   "source": [
    "TRAIN \n",
    "Index(['ticket_id', 'agency_name', 'inspector_name', 'violator_name',\n",
    "       'violation_street_number', 'violation_street_name',\n",
    "       'violation_zip_code', 'mailing_address_str_number',\n",
    "       'mailing_address_str_name', 'city', 'state', 'zip_code',\n",
    "       'non_us_str_code', 'country', 'ticket_issued_date', 'hearing_date',\n",
    "       'violation_code', 'violation_description', 'disposition', 'fine_amount',\n",
    "       'admin_fee', 'state_fee', 'late_fee', 'discount_amount',\n",
    "       'clean_up_cost', 'judgment_amount', 'payment_amount', 'balance_due',\n",
    "       'payment_date', 'payment_status', 'collection_status',\n",
    "       'grafitti_status', 'compliance_detail', 'compliance'],\n",
    "      dtype='object')\n",
    "TEST\n",
    "Index(['ticket_id', 'agency_name', 'inspector_name', 'violator_name',\n",
    "       'violation_street_number', 'violation_street_name',\n",
    "       'violation_zip_code', 'mailing_address_str_number',\n",
    "       'mailing_address_str_name', 'city', 'state', 'zip_code',\n",
    "       'non_us_str_code', 'country', 'ticket_issued_date', 'hearing_date',\n",
    "       'violation_code', 'violation_description', 'disposition', 'fine_amount',\n",
    "       'admin_fee', 'state_fee', 'late_fee', 'discount_amount',\n",
    "       'clean_up_cost', 'judgment_amount', 'grafitti_status'],\n",
    "      dtype='object')\n",
    "      \n",
    "COMMON Index which are numbers\n",
    "[violation_street_number, mailing_address_str_number, 'violation_zip_code','city', 'state', 'zip_code'\n",
    "'non_us_str_code','fine_amount', 'admin_fee', 'state_fee', 'late_fee', 'discount_amount','clean_up_cost', 'judgment_amount']"
   ]
  },
  {
   "cell_type": "markdown",
   "metadata": {},
   "source": [
    "# NOTE: THIS ASSIGNMENT CAN BE DONE IN MANY WAYS, i PICKED OUT SEEMINGLY 'GOOD' FEATURES AND USED IT DIRECTLY. WHAT SHOULD ALSO BE DONE IS GRIDSEARCH CV, FEATURE NORMALISATION, USING SOME CATEGORICAL VARIABLES\n",
    "\n",
    "### to use categoricak varuuables, the reading here are important"
   ]
  },
  {
   "cell_type": "markdown",
   "metadata": {},
   "source": [
    "Hi, while working on the assignment I realised that many of the columns contain string values for the train dataset. However, all datasets like cancer dataset or others used in course lectures contain only numerical entries for ML tasks. Thus, I decided to build my classifier on only numerical columns and was able to get full points for the assignment. Then, to optimise my classifier and increase my AUC score, I decided to use some of the categorical columns in my classifier.\n",
    "\n",
    "I used the LabelEncoder() method to convert categorical data into class values corresponding to [0, 1, 2, and so on] based on number of classes or categories in that particular column. This helped me further improve my AUC score to 0.805. I am wondering if there are any other ways to handle categorical data when performing supervised learning?\n",
    "\n",
    "Furthermore, I want to further optimise my classifier by first using unsupervised learning followed by supervised learning. I am planning on using PCA or a manifold learning technique like MDS or TSNE to get two new features and use a classifier on the new dataset to make predictions. Thus, I wanted to know that if I decided to use PCA or any manifold learning technique like MDS or TSNE, would LabelEncoder() still work for categorising data? That is, would I need to use LabelEncoder() to convert categorical data into class values like 0,1,2,etc. and then normalise using StandardScaler() and then perform unsupervised learning followed by supervised classifier learning? In short, how can I perform an unsupervised (transformation) learning on categorical data?\n",
    "\n",
    "1 Reply\n",
    "user profile avatar\n",
    "Uwe F Mayer\n",
    "Mentor\n",
    "a year ago\n",
    "\n",
    "There are many ways of handling categorical data. LabelEncoder is generally not a good choice because many models think that there's an intrinsic implied value comparison if they encounter values like 2, 3, 4. The models expect 2 < 3 < 4 to have some meaning. That's decidedly not the case if you encoded black=2, white=3, red=4.\n",
    "\n",
    "Here's some reading:\n",
    "\n",
    "  **https://pbpython.com/categorical-encoding.html**\n",
    "\n",
    "  **https://towardsdatascience.com/understanding-feature-engineering-part-2-categorical-data-f54324193e63**\n",
    "\n",
    "RB\n",
    "Raunak Bhutoria\n",
    "a year ago\n",
    "\n",
    "Thank you for the information Uwe. I realised LabelEncoder might not be the best since it creates an order in data. Maybe it is the right method for Ordinal data. However going through the articles you posted, I found some other ways like **OneHotEncoder** or **FeatureHasher**. The problem with these methods is still that it adds new columns to the dataframe which then needs to be added into the classifier and this increases computational complexity. Although with FeatureHasher we can specify the number of new input features we want, it can still be an issue if we decide to use multiple categorical columns as input features for our classifier. We would then have to use FeatureHasher on all of them and create many more new columns or features that our classifier would have to use as input for making predictions. Wondering if there is any other technique that can limit the number of new features (binary or FeatureHasher) created when working with categorical data for ML tasks. Also, wondering if as a general rule we should first try to build models using numerical data and see if that matches the needed accuracy, recall, precision (or any other score as specified) and then move on to categorical data if we need further improvements?\n",
    "\n",
    "user profile avatar\n",
    "Uwe F Mayer\n",
    "Mentor\n",
    "a year ago\n",
    "\n",
    "There are many ways to pre-processes categorical features, in particular if there's an understanding on what the features actually are.\n",
    "\n",
    "One generic approach is implemented in http://contrib.scikit-learn.org/category_encoders/targetencoder.html. I've used that approach repeatedly (though not this implementation, I wrote my own one literally more than a decade ago). It works exceedingly well (if you set the right parameters) to transform categorical features for (logistic) regressions or neural networks. And yes, this transforms 1 categorical variable to 1 numerical variable.\n",
    "\n",
    "**Finally, no, you cannot always start with the numerical features only, you might not even have any. Feature selection, either automatic or by knowledge (meaning humans make choices), is essential for many if not most classic modeling projects.**\n",
    "\n",
    "Deep Neural Networks are a different beast where the huge volume of data lets one throw everything at a model, but that's a different discussion.\n",
    "\n",
    "RB\n",
    "Raunak Bhutoria\n",
    "a year ago\n",
    "\n",
    "Thank you for your inputs and for the resource links. Really appreciate it!"
   ]
  },
  {
   "cell_type": "code",
   "execution_count": 108,
   "metadata": {
    "collapsed": false
   },
   "outputs": [
    {
     "name": "stdout",
     "output_type": "stream",
     "text": [
      "   ticket_id                                     agency_name  \\\n",
      "0      22056  Buildings, Safety Engineering & Env Department   \n",
      "1      27586  Buildings, Safety Engineering & Env Department   \n",
      "2      22062  Buildings, Safety Engineering & Env Department   \n",
      "3      22084  Buildings, Safety Engineering & Env Department   \n",
      "4      22093  Buildings, Safety Engineering & Env Department   \n",
      "\n",
      "     inspector_name                      violator_name  \\\n",
      "0   Sims, Martinzie  INVESTMENT INC., MIDWEST MORTGAGE   \n",
      "1  Williams, Darrin           Michigan, Covenant House   \n",
      "2   Sims, Martinzie                    SANDERS, DERRON   \n",
      "3   Sims, Martinzie                       MOROSI, MIKE   \n",
      "4   Sims, Martinzie                    NATHANIEL, NEAL   \n",
      "\n",
      "   violation_street_number violation_street_name  violation_zip_code  \\\n",
      "0                   2900.0                 TYLER                 NaN   \n",
      "1                   4311.0               CENTRAL                 NaN   \n",
      "2                   1449.0            LONGFELLOW                 NaN   \n",
      "3                   1441.0            LONGFELLOW                 NaN   \n",
      "4                   2449.0             CHURCHILL                 NaN   \n",
      "\n",
      "   mailing_address_str_number mailing_address_str_name     city state  \\\n",
      "0                         3.0                S. WICKER  CHICAGO    IL   \n",
      "1                      2959.0       Martin Luther King  Detroit    MI   \n",
      "2                     23658.0                 P.O. BOX  DETROIT    MI   \n",
      "3                         5.0                ST. CLAIR  DETROIT    MI   \n",
      "4                      7449.0                CHURCHILL  DETROIT    MI   \n",
      "\n",
      "  zip_code non_us_str_code country   ticket_issued_date         hearing_date  \\\n",
      "0    60606             NaN     USA  2004-03-16 11:40:00  2005-03-21 10:30:00   \n",
      "1    48208             NaN     USA  2004-04-23 12:30:00  2005-05-06 13:30:00   \n",
      "2    48223             NaN     USA  2004-04-26 13:40:00  2005-03-29 10:30:00   \n",
      "3    48214             NaN     USA  2004-04-26 13:30:00                  NaN   \n",
      "4    48206             NaN     USA  2004-04-26 13:00:00  2005-03-29 10:30:00   \n",
      "\n",
      "  violation_code                              violation_description  \\\n",
      "0      9-1-36(a)  Failure of owner to obtain certificate of comp...   \n",
      "1     61-63.0600  Failed To Secure Permit For Lawful Use Of Buil...   \n",
      "2      9-1-36(a)  Failure of owner to obtain certificate of comp...   \n",
      "3      9-1-36(a)  Failure of owner to obtain certificate of comp...   \n",
      "4      9-1-36(a)  Failure of owner to obtain certificate of comp...   \n",
      "\n",
      "                         disposition  fine_amount  admin_fee  state_fee  \\\n",
      "0             Responsible by Default        250.0       20.0       10.0   \n",
      "1       Responsible by Determination        750.0       20.0       10.0   \n",
      "2       Not responsible by Dismissal        250.0        0.0        0.0   \n",
      "3  Not responsible by City Dismissal        250.0        0.0        0.0   \n",
      "4       Not responsible by Dismissal        250.0        0.0        0.0   \n",
      "\n",
      "   late_fee  discount_amount  clean_up_cost  judgment_amount  payment_amount  \\\n",
      "0      25.0              0.0            0.0            305.0             0.0   \n",
      "1      75.0              0.0            0.0            855.0           780.0   \n",
      "2       0.0              0.0            0.0              0.0             0.0   \n",
      "3       0.0              0.0            0.0              0.0             0.0   \n",
      "4       0.0              0.0            0.0              0.0             0.0   \n",
      "\n",
      "   balance_due         payment_date      payment_status collection_status  \\\n",
      "0        305.0                  NaN  NO PAYMENT APPLIED               NaN   \n",
      "1         75.0  2005-06-02 00:00:00        PAID IN FULL               NaN   \n",
      "2          0.0                  NaN  NO PAYMENT APPLIED               NaN   \n",
      "3          0.0                  NaN  NO PAYMENT APPLIED               NaN   \n",
      "4          0.0                  NaN  NO PAYMENT APPLIED               NaN   \n",
      "\n",
      "  grafitti_status                         compliance_detail  compliance  \n",
      "0             NaN               non-compliant by no payment         0.0  \n",
      "1             NaN  compliant by late payment within 1 month         1.0  \n",
      "2             NaN            not responsible by disposition         NaN  \n",
      "3             NaN            not responsible by disposition         NaN  \n",
      "4             NaN            not responsible by disposition         NaN   Index(['ticket_id', 'agency_name', 'inspector_name', 'violator_name',\n",
      "       'violation_street_number', 'violation_street_name',\n",
      "       'violation_zip_code', 'mailing_address_str_number',\n",
      "       'mailing_address_str_name', 'city', 'state', 'zip_code',\n",
      "       'non_us_str_code', 'country', 'ticket_issued_date', 'hearing_date',\n",
      "       'violation_code', 'violation_description', 'disposition', 'fine_amount',\n",
      "       'admin_fee', 'state_fee', 'late_fee', 'discount_amount',\n",
      "       'clean_up_cost', 'judgment_amount', 'payment_amount', 'balance_due',\n",
      "       'payment_date', 'payment_status', 'collection_status',\n",
      "       'grafitti_status', 'compliance_detail', 'compliance'],\n",
      "      dtype='object')\n",
      "   ticket_id                 agency_name      inspector_name  \\\n",
      "0     284932  Department of Public Works  Granberry, Aisha B   \n",
      "1     285362  Department of Public Works      Lusk, Gertrina   \n",
      "2     285361  Department of Public Works      Lusk, Gertrina   \n",
      "3     285338  Department of Public Works   Talbert, Reginald   \n",
      "4     285346  Department of Public Works   Talbert, Reginald   \n",
      "\n",
      "        violator_name  violation_street_number violation_street_name  \\\n",
      "0    FLUELLEN, JOHN A                  10041.0             ROSEBERRY   \n",
      "1     WHIGHAM, THELMA                  18520.0             EVERGREEN   \n",
      "2     WHIGHAM, THELMA                  18520.0             EVERGREEN   \n",
      "3  HARABEDIEN, POPKIN                   1835.0               CENTRAL   \n",
      "4    CORBELL, STANLEY                   1700.0               CENTRAL   \n",
      "\n",
      "  violation_zip_code mailing_address_str_number mailing_address_str_name  \\\n",
      "0                NaN                        141                ROSEBERRY   \n",
      "1                NaN                      19136              GLASTONBURY   \n",
      "2                NaN                      19136              GLASTONBURY   \n",
      "3                NaN                       2246                   NELSON   \n",
      "4                NaN                       3435                   MUNGER   \n",
      "\n",
      "        city state zip_code  non_us_str_code country   ticket_issued_date  \\\n",
      "0    DETROIT    MI    48213              NaN     USA  2012-01-04 14:00:00   \n",
      "1    DETROIT    MI    48219              NaN     USA  2012-01-05 09:50:00   \n",
      "2    DETROIT    MI    48219              NaN     USA  2012-01-05 09:50:00   \n",
      "3  WOODHAVEN    MI    48183              NaN     USA  2012-01-05 10:25:00   \n",
      "4    LIVONIA    MI    48154              NaN     USA  2012-01-05 10:20:00   \n",
      "\n",
      "          hearing_date violation_code  \\\n",
      "0  2012-01-19 09:00:00        22-2-61   \n",
      "1  2012-02-06 09:00:00     22-2-88(b)   \n",
      "2  2012-02-06 09:00:00        22-2-43   \n",
      "3  2012-02-07 09:00:00     22-2-88(b)   \n",
      "4  2012-02-14 09:00:00        22-2-45   \n",
      "\n",
      "                               violation_description             disposition  \\\n",
      "0  Failure to secure City or Private solid waste ...  Responsible by Default   \n",
      "1  Allowing bulk solid waste to lie or accumulate...  Responsible by Default   \n",
      "2  Improper placement of Courville container betw...  Responsible by Default   \n",
      "3  Allowing bulk solid waste to lie or accumulate...  Responsible by Default   \n",
      "4  Violation of time limit for approved container...  Responsible by Default   \n",
      "\n",
      "   fine_amount  admin_fee  state_fee  late_fee  discount_amount  \\\n",
      "0        200.0       20.0       10.0      20.0              0.0   \n",
      "1       1000.0       20.0       10.0     100.0              0.0   \n",
      "2        100.0       20.0       10.0      10.0              0.0   \n",
      "3        200.0       20.0       10.0      20.0              0.0   \n",
      "4        100.0       20.0       10.0      10.0              0.0   \n",
      "\n",
      "   clean_up_cost  judgment_amount grafitti_status  \n",
      "0            0.0            250.0             NaN  \n",
      "1            0.0           1130.0             NaN  \n",
      "2            0.0            140.0             NaN  \n",
      "3            0.0            250.0             NaN  \n",
      "4            0.0            140.0             NaN   Index(['ticket_id', 'agency_name', 'inspector_name', 'violator_name',\n",
      "       'violation_street_number', 'violation_street_name',\n",
      "       'violation_zip_code', 'mailing_address_str_number',\n",
      "       'mailing_address_str_name', 'city', 'state', 'zip_code',\n",
      "       'non_us_str_code', 'country', 'ticket_issued_date', 'hearing_date',\n",
      "       'violation_code', 'violation_description', 'disposition', 'fine_amount',\n",
      "       'admin_fee', 'state_fee', 'late_fee', 'discount_amount',\n",
      "       'clean_up_cost', 'judgment_amount', 'grafitti_status'],\n",
      "      dtype='object')\n"
     ]
    }
   ],
   "source": [
    "import pandas as pd\n",
    "import numpy as np\n",
    "from sklearn.ensemble import GradientBoostingClassifier\n",
    "from sklearn.model_selection import train_test_split, cross_val_score, GridSearchCV\n",
    "from adspy_shared_utilities import plot_class_regions_for_classifier_subplot\n",
    "from sklearn.metrics import roc_curve, auc, roc_auc_score\n",
    "\n",
    "pd.set_option('display.max_columns', None)  # or 1000\n",
    "\n",
    "#def blight_model():\n",
    "    \n",
    "    \n",
    "train_df = pd.read_csv('readonly/train.csv', engine='python')\n",
    "print(train_df.head(), train_df.columns)\n",
    "#print(train_df.columns)\n",
    "test_df = pd.read_csv('readonly/test.csv', engine='python')\n",
    "#print(test_df.columns)\n",
    "print(test_df.head(), test_df.columns)\n",
    "\n",
    "\n",
    "add_df = pd.read_csv('readonly/addresses.csv', engine='python')\n",
    "#print(add_df.head(), add_df.columns)\n",
    "latlons_df = pd.read_csv('readonly/latlons.csv', engine='python')\n",
    "#print(latlons_df.head(), latlons_df.columns)\n",
    "\n",
    "\n",
    "    #return\n",
    "\n",
    "#blight_model()"
   ]
  },
  {
   "cell_type": "code",
   "execution_count": 109,
   "metadata": {
    "collapsed": false
   },
   "outputs": [],
   "source": [
    "df_1 = pd.merge(train_df, add_df, how='outer')#sab jagah ticket_id ka naam same ha, so just outer works\n",
    "df = pd.merge(df_1, latlons_df, how='outer')\n",
    "df = df.dropna(subset=['compliance'])  #dropping the NAN people from complance column\n",
    "\n",
    "df = df[['violation_street_number', 'mailing_address_str_number','fine_amount', 'admin_fee', 'state_fee', 'late_fee', 'discount_amount','clean_up_cost', 'judgment_amount', 'compliance']]\n",
    "df = df.fillna(0)\n",
    "#df= df.astype('category')\n"
   ]
  },
  {
   "cell_type": "markdown",
   "metadata": {},
   "source": [
    "## poora memory kha jayega"
   ]
  },
  {
   "cell_type": "code",
   "execution_count": 110,
   "metadata": {
    "collapsed": true
   },
   "outputs": [],
   "source": [
    "\n",
    "#df = pd.get_dummies(df)  #convert to categorical data\n",
    "\n",
    "\n",
    "#Again you cannot do so. \n",
    "#This will create VERY large dataframe and it could not be held in 8 or 16 GB memory. \n",
    "#You need to select the features you want to get dummies, \n",
    "#and you also need to make sure it is reasonable to map those features into binary features."
   ]
  },
  {
   "cell_type": "code",
   "execution_count": 111,
   "metadata": {
    "collapsed": true
   },
   "outputs": [],
   "source": [
    "#lst = [train_df, add_df, latlons_df,  df_1]\n",
    "del train_df    # memory is released\n",
    "del add_df\n",
    "del latlons_df \n",
    "del df_1\n"
   ]
  },
  {
   "cell_type": "code",
   "execution_count": 112,
   "metadata": {
    "collapsed": false
   },
   "outputs": [
    {
     "name": "stdout",
     "output_type": "stream",
     "text": [
      "   violation_street_number  mailing_address_str_number  fine_amount  \\\n",
      "0                   2900.0                         3.0        250.0   \n",
      "1                   2900.0                         3.0        500.0   \n",
      "2                   2900.0                         3.0        250.0   \n",
      "4                   2900.0                         3.0        100.0   \n",
      "5                   2900.0                         3.0        300.0   \n",
      "\n",
      "   admin_fee  state_fee  late_fee  discount_amount  clean_up_cost  \\\n",
      "0       20.0       10.0      25.0              0.0            0.0   \n",
      "1       20.0       10.0      50.0              0.0            0.0   \n",
      "2       20.0       10.0      25.0              0.0            0.0   \n",
      "4       20.0       10.0      10.0              0.0            0.0   \n",
      "5       20.0       10.0      30.0              0.0            0.0   \n",
      "\n",
      "   judgment_amount  \n",
      "0            305.0  \n",
      "1            580.0  \n",
      "2            305.0  \n",
      "4            140.0  \n",
      "5            360.0   \n",
      "\n",
      " 0    0.0\n",
      "1    0.0\n",
      "2    0.0\n",
      "4    0.0\n",
      "5    0.0\n",
      "Name: compliance, dtype: float64\n"
     ]
    },
    {
     "data": {
      "text/plain": [
       "<function print>"
      ]
     },
     "execution_count": 112,
     "metadata": {},
     "output_type": "execute_result"
    }
   ],
   "source": [
    "\n",
    "X_data = df.drop('compliance', axis=1)    #df.drop('b', axis=1)\n",
    "y_data = df['compliance']\n",
    "\n",
    "X_data = pd.get_dummies(X_data)\n",
    "#print(X_data.columns, y_data)\n",
    "print(X_data.head(), '\\n\\n', y_data.head())\n"
   ]
  },
  {
   "cell_type": "code",
   "execution_count": 113,
   "metadata": {
    "collapsed": false
   },
   "outputs": [
    {
     "name": "stdout",
     "output_type": "stream",
     "text": [
      "GBDT default settings using accuracy as test\n",
      "Accuracy of GBDT classifier on training set: 0.94\n",
      "Accuracy of GBDT classifier on test set: 0.93\n",
      "Cross-validation (AUC) Train 0.769503250239\n",
      "Cross-validation (AUC) Test 0.762225576183\n"
     ]
    }
   ],
   "source": [
    "from sklearn.tree import DecisionTreeClassifier\n",
    "from adspy_shared_utilities import plot_decision_tree\n",
    "\n",
    "\n",
    "X_train, X_test, y_train, y_test = train_test_split(X_data, y_data, random_state = 1)\n",
    "\n",
    "clf = GradientBoostingClassifier().fit(X_train, y_train)\n",
    "print('GBDT default settings using accuracy as test')\n",
    "print('Accuracy of GBDT classifier on training set: {:.2f}'.format(clf.score(X_train, y_train)))\n",
    "print('Accuracy of GBDT classifier on test set: {:.2f}'.format(clf.score(X_test, y_test)))\n",
    "\n",
    "\n",
    "clf = GradientBoostingClassifier()\n",
    "\n",
    "print('Cross-validation (AUC) Train', cross_val_score(clf, X_train, y_train, cv=5, scoring = 'roc_auc').mean())\n",
    "print('Cross-validation (AUC) Test', cross_val_score(clf, X_test, y_test, cv=5, scoring = 'roc_auc').mean())"
   ]
  },
  {
   "cell_type": "code",
   "execution_count": 126,
   "metadata": {
    "collapsed": false
   },
   "outputs": [
    {
     "name": "stdout",
     "output_type": "stream",
     "text": [
      "Test set AUC:  0.777591556643\n",
      "Grid best parameter (max. AUC):  {'max_depth': 7}\n",
      "Grid best score (AUC):  0.778094932597\n"
     ]
    }
   ],
   "source": [
    "clf = GradientBoostingClassifier()\n",
    "grid_values = {'max_depth': [3,4,5,6,7]} #as I increase this, get better results\n",
    "\n",
    "grid_clf_auc = GridSearchCV(clf, param_grid = grid_values, scoring = 'roc_auc').fit(X_train, y_train)\n",
    "\n",
    "y_decision_fn_scores_auc = grid_clf_auc.decision_function(X_test) \n",
    "\n",
    "\n",
    "print('Test set AUC: ', roc_auc_score(y_test, y_decision_fn_scores_auc))\n",
    "print('Grid best parameter (max. AUC): ', grid_clf_auc.best_params_)\n",
    "print('Grid best score (AUC): ', grid_clf_auc.best_score_)\n"
   ]
  },
  {
   "cell_type": "code",
   "execution_count": 130,
   "metadata": {
    "collapsed": false
   },
   "outputs": [
    {
     "data": {
      "text/plain": [
       "<matplotlib.figure.Figure at 0x7fe405bfb9e8>"
      ]
     },
     "metadata": {},
     "output_type": "display_data"
    },
    {
     "data": {
      "text/plain": [
       "<matplotlib.figure.Figure at 0x7fe3fa02a908>"
      ]
     },
     "metadata": {},
     "output_type": "display_data"
    },
    {
     "data": {
      "text/plain": [
       "<matplotlib.figure.Figure at 0x7fe3f336f438>"
      ]
     },
     "metadata": {},
     "output_type": "display_data"
    },
    {
     "data": {
      "image/png": "[encoded data removed]",
      "text/plain": [
       "<matplotlib.figure.Figure at 0x7fe3fd450d30>"
      ]
     },
     "metadata": {},
     "output_type": "display_data"
    },
    {
     "name": "stdout",
     "output_type": "stream",
     "text": [
      "Feature importances: [ 0.2527141   0.21742074  0.05101539  0.          0.          0.23285209\n",
      "  0.093108    0.          0.15288968]\n"
     ]
    }
   ],
   "source": [
    "from adspy_shared_utilities import plot_feature_importances\n",
    "import matplotlib.pyplot as plt\n",
    "\n",
    "clf = GradientBoostingClassifier().fit(X_train, y_train)\n",
    "#grid_clf_auc = GridSearchCV(clf, param_grid = {'max_depth': [7]}, scoring = 'roc_auc').fit(X_train, y_train)\n",
    "\n",
    "plt.figure(figsize=(10,4), dpi=80)\n",
    "plot_feature_importances(clf, X_train.columns)\n",
    "plt.show()\n",
    "\n",
    "print('Feature importances: {}'.format(clf.feature_importances_))"
   ]
  },
  {
   "cell_type": "code",
   "execution_count": null,
   "metadata": {
    "collapsed": true
   },
   "outputs": [],
   "source": [
    "#blight_model()"
   ]
  },
  {
   "cell_type": "code",
   "execution_count": null,
   "metadata": {
    "collapsed": false
   },
   "outputs": [],
   "source": [
    "GradientBoostingClassifier().get_params().keys()"
   ]
  },
  {
   "cell_type": "markdown",
   "metadata": {},
   "source": [
    "## ye feature importances lekar mai final model le raha hu\n",
    "# takes 7-10 minutes to run"
   ]
  },
  {
   "cell_type": "code",
   "execution_count": 132,
   "metadata": {
    "collapsed": false
   },
   "outputs": [
    {
     "name": "stdout",
     "output_type": "stream",
     "text": [
      "   ticket_id                                     agency_name  \\\n",
      "0      22056  Buildings, Safety Engineering & Env Department   \n",
      "1      27586  Buildings, Safety Engineering & Env Department   \n",
      "2      22062  Buildings, Safety Engineering & Env Department   \n",
      "3      22084  Buildings, Safety Engineering & Env Department   \n",
      "4      22093  Buildings, Safety Engineering & Env Department   \n",
      "\n",
      "     inspector_name                      violator_name  \\\n",
      "0   Sims, Martinzie  INVESTMENT INC., MIDWEST MORTGAGE   \n",
      "1  Williams, Darrin           Michigan, Covenant House   \n",
      "2   Sims, Martinzie                    SANDERS, DERRON   \n",
      "3   Sims, Martinzie                       MOROSI, MIKE   \n",
      "4   Sims, Martinzie                    NATHANIEL, NEAL   \n",
      "\n",
      "   violation_street_number violation_street_name  violation_zip_code  \\\n",
      "0                   2900.0                 TYLER                 NaN   \n",
      "1                   4311.0               CENTRAL                 NaN   \n",
      "2                   1449.0            LONGFELLOW                 NaN   \n",
      "3                   1441.0            LONGFELLOW                 NaN   \n",
      "4                   2449.0             CHURCHILL                 NaN   \n",
      "\n",
      "   mailing_address_str_number mailing_address_str_name     city state  \\\n",
      "0                         3.0                S. WICKER  CHICAGO    IL   \n",
      "1                      2959.0       Martin Luther King  Detroit    MI   \n",
      "2                     23658.0                 P.O. BOX  DETROIT    MI   \n",
      "3                         5.0                ST. CLAIR  DETROIT    MI   \n",
      "4                      7449.0                CHURCHILL  DETROIT    MI   \n",
      "\n",
      "  zip_code non_us_str_code country   ticket_issued_date         hearing_date  \\\n",
      "0    60606             NaN     USA  2004-03-16 11:40:00  2005-03-21 10:30:00   \n",
      "1    48208             NaN     USA  2004-04-23 12:30:00  2005-05-06 13:30:00   \n",
      "2    48223             NaN     USA  2004-04-26 13:40:00  2005-03-29 10:30:00   \n",
      "3    48214             NaN     USA  2004-04-26 13:30:00                  NaN   \n",
      "4    48206             NaN     USA  2004-04-26 13:00:00  2005-03-29 10:30:00   \n",
      "\n",
      "  violation_code                              violation_description  \\\n",
      "0      9-1-36(a)  Failure of owner to obtain certificate of comp...   \n",
      "1     61-63.0600  Failed To Secure Permit For Lawful Use Of Buil...   \n",
      "2      9-1-36(a)  Failure of owner to obtain certificate of comp...   \n",
      "3      9-1-36(a)  Failure of owner to obtain certificate of comp...   \n",
      "4      9-1-36(a)  Failure of owner to obtain certificate of comp...   \n",
      "\n",
      "                         disposition  fine_amount  admin_fee  state_fee  \\\n",
      "0             Responsible by Default        250.0       20.0       10.0   \n",
      "1       Responsible by Determination        750.0       20.0       10.0   \n",
      "2       Not responsible by Dismissal        250.0        0.0        0.0   \n",
      "3  Not responsible by City Dismissal        250.0        0.0        0.0   \n",
      "4       Not responsible by Dismissal        250.0        0.0        0.0   \n",
      "\n",
      "   late_fee  discount_amount  clean_up_cost  judgment_amount  payment_amount  \\\n",
      "0      25.0              0.0            0.0            305.0             0.0   \n",
      "1      75.0              0.0            0.0            855.0           780.0   \n",
      "2       0.0              0.0            0.0              0.0             0.0   \n",
      "3       0.0              0.0            0.0              0.0             0.0   \n",
      "4       0.0              0.0            0.0              0.0             0.0   \n",
      "\n",
      "   balance_due         payment_date      payment_status collection_status  \\\n",
      "0        305.0                  NaN  NO PAYMENT APPLIED               NaN   \n",
      "1         75.0  2005-06-02 00:00:00        PAID IN FULL               NaN   \n",
      "2          0.0                  NaN  NO PAYMENT APPLIED               NaN   \n",
      "3          0.0                  NaN  NO PAYMENT APPLIED               NaN   \n",
      "4          0.0                  NaN  NO PAYMENT APPLIED               NaN   \n",
      "\n",
      "  grafitti_status                         compliance_detail  compliance  \n",
      "0             NaN               non-compliant by no payment         0.0  \n",
      "1             NaN  compliant by late payment within 1 month         1.0  \n",
      "2             NaN            not responsible by disposition         NaN  \n",
      "3             NaN            not responsible by disposition         NaN  \n",
      "4             NaN            not responsible by disposition         NaN   Index(['ticket_id', 'agency_name', 'inspector_name', 'violator_name',\n",
      "       'violation_street_number', 'violation_street_name',\n",
      "       'violation_zip_code', 'mailing_address_str_number',\n",
      "       'mailing_address_str_name', 'city', 'state', 'zip_code',\n",
      "       'non_us_str_code', 'country', 'ticket_issued_date', 'hearing_date',\n",
      "       'violation_code', 'violation_description', 'disposition', 'fine_amount',\n",
      "       'admin_fee', 'state_fee', 'late_fee', 'discount_amount',\n",
      "       'clean_up_cost', 'judgment_amount', 'payment_amount', 'balance_due',\n",
      "       'payment_date', 'payment_status', 'collection_status',\n",
      "       'grafitti_status', 'compliance_detail', 'compliance'],\n",
      "      dtype='object')\n",
      "FINAL ANSWER Test set AUC:  0.788918221139\n",
      "Grid best parameter (max. AUC):  {'max_depth': 11}\n",
      "Grid best score (AUC):  0.784976816453\n"
     ]
    },
    {
     "data": {
      "text/plain": [
       "<matplotlib.figure.Figure at 0x7fe3e6dd0240>"
      ]
     },
     "metadata": {},
     "output_type": "display_data"
    },
    {
     "data": {
      "image/png": "[encoded data removed]",
      "text/plain": [
       "<matplotlib.figure.Figure at 0x7fe40a0ceba8>"
      ]
     },
     "metadata": {},
     "output_type": "display_data"
    }
   ],
   "source": [
    "import pandas as pd\n",
    "import numpy as np\n",
    "from sklearn.ensemble import GradientBoostingClassifier\n",
    "from sklearn.model_selection import train_test_split, cross_val_score, GridSearchCV\n",
    "from adspy_shared_utilities import plot_class_regions_for_classifier_subplot, plot_decision_tree\n",
    "from sklearn.metrics import roc_curve, auc, roc_auc_score\n",
    "from sklearn.tree import DecisionTreeClassifier\n",
    "\n",
    "\n",
    "pd.set_option('display.max_columns', None)\n",
    "\n",
    "def blight_model():\n",
    "\n",
    "\n",
    "    train_df = pd.read_csv('readonly/train.csv', engine='python')\n",
    "    print(train_df.head(), train_df.columns)\n",
    "    #print(train_df.columns)\n",
    "    test_df = pd.read_csv('readonly/test.csv', engine='python')\n",
    "    #print(test_df.columns)\n",
    "    #print(test_df.head(), test_df.columns)\n",
    "\n",
    "\n",
    "    add_df = pd.read_csv('readonly/addresses.csv', engine='python')\n",
    "    #print(add_df.head(), add_df.columns)\n",
    "    latlons_df = pd.read_csv('readonly/latlons.csv', engine='python')\n",
    "    #print(latlons_df.head(), latlons_df.columns)\n",
    "\n",
    "\n",
    "    \n",
    "    df_1 = pd.merge(train_df, add_df, how='outer')#sab jagah ticket_id ka naam same ha, so just outer works\n",
    "    df = pd.merge(df_1, latlons_df, how='outer')\n",
    "    df = df.dropna(subset=['compliance'])  #dropping the NAN people from complance column\n",
    "\n",
    "    df = df[['violation_street_number', 'mailing_address_str_number', 'late_fee',  'judgment_amount', 'compliance']]\n",
    "    df = df.fillna(0)\n",
    "\n",
    "    \n",
    "    \n",
    "    lst = [train_df, add_df, latlons_df,  df_1]\n",
    "    del lst    # memory is released\n",
    "\n",
    "\n",
    "\n",
    "\n",
    "    X_data = df.drop('compliance', axis=1)    #df.drop('b', axis=1)\n",
    "    y_data = df['compliance']\n",
    "\n",
    "    X_data = pd.get_dummies(X_data)\n",
    "    #print(X_data.columns, y_data)\n",
    "    #print(X_data.head(), '\\n\\n', y_data.head())\n",
    "    \n",
    "    \n",
    "    X_train, X_test, y_train, y_test = train_test_split(X_data, y_data, random_state = 1)\n",
    "\n",
    "    clf = GradientBoostingClassifier()\n",
    "    \n",
    "    grid_values = {'max_depth': [5, 7, 9, 11]} #as I increase this, get better results\n",
    "    grid_clf_auc = GridSearchCV(clf, param_grid = grid_values, scoring = 'roc_auc').fit(X_train, y_train)\n",
    "    y_decision_fn_scores_auc = grid_clf_auc.decision_function(X_test) \n",
    "\n",
    "\n",
    "    print('FINAL ANSWER Test set AUC: ', roc_auc_score(y_test, y_decision_fn_scores_auc))\n",
    "    print('Grid best parameter (max. AUC): ', grid_clf_auc.best_params_)\n",
    "    print('Grid best score (AUC): ', grid_clf_auc.best_score_)\n",
    "    \n",
    "    clf = GradientBoostingClassifier().fit(X_train, y_train)\n",
    "    plt.figure(figsize=(10,4), dpi=80)\n",
    "    plot_feature_importances(clf, X_train.columns)\n",
    "    plt.show()\n",
    "    \n",
    "    \n",
    "    return\n",
    "\n",
    "blight_model()"
   ]
  },
  {
   "cell_type": "code",
   "execution_count": null,
   "metadata": {
    "collapsed": true
   },
   "outputs": [],
   "source": []
  }
 ],
 "metadata": {
  "coursera": {
   "course_slug": "python-machine-learning",
   "graded_item_id": "nNS8l",
   "launcher_item_id": "yWWk7",
   "part_id": "w8BSS"
  },
  "kernelspec": {
   "display_name": "Python 3",
   "language": "python",
   "name": "python3"
  },
  "language_info": {
   "codemirror_mode": {
    "name": "ipython",
    "version": 3
   },
   "file_extension": ".py",
   "mimetype": "text/x-python",
   "name": "python",
   "nbconvert_exporter": "python",
   "pygments_lexer": "ipython3",
   "version": "3.6.2"
  }
 },
 "nbformat": 4,
 "nbformat_minor": 2
}
