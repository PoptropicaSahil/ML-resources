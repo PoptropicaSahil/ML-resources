{
 "cells": [
  {
   "cell_type": "markdown",
   "metadata": {
    "id": "GJ-4B_akCH4x"
   },
   "source": [
    "__ML Pipeline__: Prepare data -> __build model__ -> train model -> analyze model's results"
   ]
  },
  {
   "cell_type": "markdown",
   "metadata": {
    "id": "sHXCtZ4qCH5A"
   },
   "source": [
    "### OOP review"
   ]
  },
  {
   "cell_type": "markdown",
   "metadata": {
    "id": "LvjzcdyVCH5D"
   },
   "source": [
    "When we’re writing programs or building software, there are two key components, __code__ and __data__. With object oriented programming, we orient our program design and structure around objects.\n",
    "\n",
    "Objects are defined in code using classes. A class defines the object's specification or spec, which specifies what data and code each object of the class should have. When we create an object of a class, we call the object an instance of the class, and all instances of a given class have two core components:\n",
    "\n",
    "* Methods (code)\n",
    "* Attributes (data)\n",
    "\n",
    "The methods represent the code, while the attributes represent the data, and so the methods and attributes are defined by the class.\n",
    "\n",
    "In a given program, many objects, a.k.a instances of a given class, can exist simultaneously, and all of the instances will have the same available attributes and the same available methods. They are uniform from this perspective. The difference between objects of the same class is the values contained within the object for each attribute. Each object has its own attribute values. These values determine the internal state of the object. The code and data of each object is said to be encapsulated within the object."
   ]
  },
  {
   "cell_type": "markdown",
   "metadata": {
    "id": "b7-hPciRCH5I"
   },
   "source": [
    "### `nn.Module`"
   ]
  },
  {
   "cell_type": "markdown",
   "metadata": {
    "id": "DQoGOp9pCH5K"
   },
   "source": [
    "As we know, deep neural networks are built using multiple layers. This is what makes the network deep. Each layer in a neural network has two primary components:\n",
    "\n",
    "* A transformation (code)\n",
    "* A collection of weights (data)\n",
    "\n",
    "Within the `nn` package, there is a class called `Module`, and it is the __base class__ for all of neural network modules which includes layers. This means that all of the layers in PyTorch extend the `nn.Module` class and inherit all of PyTorch’s built-in functionality within the `nn.Module` class. In OOP this concept is known as __inheritance__.\n",
    "\n",
    "\n",
    "#### `forward()` method\n",
    "When we pass a tensor to our network as input, the __tensor flows__ forward though each layer transformation until the tensor reaches the output layer. This process of a tensor flowing forward though the network is known as a __forward pass__.\n",
    "\n",
    "Each layer has its own transformation (code) and the tensor passes forward through each layer. The composition of all the individual layer forward passes defines the overall forward pass transformation for the network. The goal of the overall transformation is to transform or map the input to the correct prediction output class, and during the training process, the layer weights (data) are updated in such a way that cause the mapping to adjust to make the output closer to the correct prediction. This is achieved efficiently by __backpropagation__.\n",
    "\n",
    "What this all means is that, every PyTorch `nn.Module` has a `forward()` method, and so when we are building layers and networks, we must provide an implementation of the `forward()` method. The forward method is the actual transformation.\n",
    "\n",
    "\n",
    "#### PyTorch’s `nn.functional` package\n",
    "\n",
    "The `nn.functional` package contains methods that subclasses of `nn.Module` use for implementing their `forward()` functions. One reason for this is that during backpropagation, the network must perform a __symbolic differentiation__ of the operations involved in the layers to calculate the gradient of the loss with respect to the weights.\n",
    "\n"
   ]
  },
  {
   "cell_type": "markdown",
   "metadata": {
    "id": "7TsbNozjCH5N"
   },
   "source": [
    "### Building a neural network in PyTorch\n",
    "\n",
    "To build a neural net in PyTorch one must extend the nn.Module base class. This is done in two steps:\n",
    "2. In the class constructor, define the network’s layers as class attributes using pre-built layers from `torch.nn`.\n",
    "3. Use the network’s layer attributes as well as operations from the `nn.functional` API to implement the `forward()`.\n",
    "\n"
   ]
  },
  {
   "cell_type": "code",
   "execution_count": 41,
   "metadata": {
    "id": "Nxng73ghCH5Q"
   },
   "outputs": [],
   "source": [
    "import torch.nn as nn\n",
    "\n",
    "# a trivial neural net (zero layers)\n",
    "class Network(nn.Module): \n",
    "    def __init__(self):\n",
    "        super().__init__()\n",
    "        self.layer = None\n",
    "\n",
    "    def forward(self, t):\n",
    "        t = self.layer(t)\n",
    "        return t"
   ]
  },
  {
   "cell_type": "code",
   "execution_count": 42,
   "metadata": {
    "id": "uLa8cbElCH5Y"
   },
   "outputs": [],
   "source": [
    "# a convolutional neural net\n",
    "class Network(nn.Module):\n",
    "    def __init__(self):\n",
    "        super().__init__()\n",
    "        # convolutional layers\n",
    "        self.conv1 = nn.Conv2d(in_channels=1, out_channels=6,  kernel_size=5)\n",
    "        self.conv2 = nn.Conv2d(in_channels=6, out_channels=12, kernel_size=5)\n",
    "        \n",
    "        # dense layers / fully connected layers with bias\n",
    "        self.fc1 = nn.Linear(in_features=12*4*4, out_features=120) # the 4*4 is the size of the image \n",
    "        self.fc2 = nn.Linear(in_features=120, out_features=60)     # after two convolutions and maxpoolings\n",
    "        self.out = nn.Linear(in_features=60,  out_features=10)  \n",
    "        \n",
    "    def forward(self, t):\n",
    "        # implement the forward pass\n",
    "        return t"
   ]
  },
  {
   "cell_type": "markdown",
   "metadata": {
    "id": "OtH2rb5JCH5b"
   },
   "source": [
    "The above neural net has three hyperparameters that need to be manually specified:\n",
    "* `kernel_size.`  size of each convolutional filter\n",
    "* `out_channels` number of filters in the convolutional layer \n",
    "* `out_features` size of output tensor, i.e. the number of neurons in the dense layer\n",
    "\n",
    "Having `out_features=10` on the final output layer is a data dependent hyperparameter, i.e. fixed due to the nature of the problem.\n",
    "\n"
   ]
  },
  {
   "cell_type": "markdown",
   "metadata": {
    "id": "hHCjBNWGCH5e"
   },
   "source": [
    "### Exploring weights inside layers\n",
    "\n",
    "Note that weights are hidden inside each layer object. \n"
   ]
  },
  {
   "cell_type": "code",
   "execution_count": 43,
   "metadata": {
    "colab": {
     "base_uri": "https://localhost:8080/"
    },
    "id": "MniiJfAECH5g",
    "outputId": "098d40dd-d399-4f51-fcee-a65b99f56d70",
    "scrolled": true
   },
   "outputs": [
    {
     "data": {
      "text/plain": [
       "Network(\n",
       "  (conv1): Conv2d(1, 6, kernel_size=(5, 5), stride=(1, 1))\n",
       "  (conv2): Conv2d(6, 12, kernel_size=(5, 5), stride=(1, 1))\n",
       "  (fc1): Linear(in_features=192, out_features=120, bias=True)\n",
       "  (fc2): Linear(in_features=120, out_features=60, bias=True)\n",
       "  (out): Linear(in_features=60, out_features=10, bias=True)\n",
       ")"
      ]
     },
     "execution_count": 43,
     "metadata": {},
     "output_type": "execute_result"
    }
   ],
   "source": [
    "network = Network()\n",
    "network # __repr__ is inherited from nn.Module, compiles all __repr__ of each layer"
   ]
  },
  {
   "cell_type": "code",
   "execution_count": 44,
   "metadata": {
    "colab": {
     "base_uri": "https://localhost:8080/"
    },
    "id": "HRMXFk8QCH5k",
    "outputId": "8d61d481-09bb-44f8-c1e9-33bee7018d0b"
   },
   "outputs": [
    {
     "data": {
      "text/plain": [
       "Conv2d(1, 6, kernel_size=(5, 5), stride=(1, 1))"
      ]
     },
     "execution_count": 44,
     "metadata": {},
     "output_type": "execute_result"
    }
   ],
   "source": [
    "network.conv1"
   ]
  },
  {
   "cell_type": "code",
   "execution_count": 45,
   "metadata": {
    "colab": {
     "base_uri": "https://localhost:8080/"
    },
    "id": "mMti8e-fCH5m",
    "outputId": "40f68b29-7efc-4c5c-f6a5-3cd74885fd77",
    "scrolled": true
   },
   "outputs": [
    {
     "data": {
      "text/plain": [
       "Linear(in_features=192, out_features=120, bias=True)"
      ]
     },
     "execution_count": 45,
     "metadata": {},
     "output_type": "execute_result"
    }
   ],
   "source": [
    "network.fc1"
   ]
  },
  {
   "cell_type": "code",
   "execution_count": 46,
   "metadata": {
    "colab": {
     "base_uri": "https://localhost:8080/"
    },
    "id": "gjf6HiJgCH5o",
    "outputId": "48504b68-61ab-41b1-ae2e-9837fd0cd20f"
   },
   "outputs": [
    {
     "data": {
      "text/plain": [
       "Linear(in_features=60, out_features=10, bias=True)"
      ]
     },
     "execution_count": 46,
     "metadata": {},
     "output_type": "execute_result"
    }
   ],
   "source": [
    "network.out"
   ]
  },
  {
   "cell_type": "code",
   "execution_count": 47,
   "metadata": {
    "colab": {
     "base_uri": "https://localhost:8080/"
    },
    "id": "ezOABHvFCH5p",
    "outputId": "78e97b50-fe13-4885-8d9d-515532870150",
    "scrolled": true
   },
   "outputs": [
    {
     "data": {
      "text/plain": [
       "Parameter containing:\n",
       "tensor([[[[ 0.0013, -0.1838,  0.1159, -0.1213,  0.1073],\n",
       "          [ 0.0813, -0.1533, -0.1679, -0.0610,  0.0434],\n",
       "          [ 0.0689,  0.1258,  0.1087, -0.1445,  0.1506],\n",
       "          [-0.1013,  0.1895, -0.0684, -0.0585, -0.0479],\n",
       "          [-0.1094, -0.0446, -0.0669, -0.0158, -0.1679]]],\n",
       "\n",
       "\n",
       "        [[[ 0.0144,  0.0503, -0.1071, -0.1968,  0.0056],\n",
       "          [-0.1864,  0.0531, -0.1407, -0.0759,  0.1446],\n",
       "          [ 0.0465,  0.1655, -0.0279,  0.1257,  0.0792],\n",
       "          [-0.0685,  0.1852,  0.1849, -0.0329, -0.1272],\n",
       "          [ 0.0141,  0.0478, -0.0752,  0.0727, -0.1708]]],\n",
       "\n",
       "\n",
       "        [[[-0.0593, -0.0309,  0.0029,  0.1636, -0.0524],\n",
       "          [-0.0896,  0.0097, -0.1559,  0.0658, -0.0041],\n",
       "          [ 0.1181, -0.1552, -0.1549,  0.0432,  0.1126],\n",
       "          [-0.1574, -0.1752, -0.1341, -0.1234,  0.1389],\n",
       "          [ 0.1101, -0.0588,  0.0723, -0.0442,  0.0714]]],\n",
       "\n",
       "\n",
       "        [[[ 0.1571, -0.1044,  0.0675,  0.0594,  0.0167],\n",
       "          [ 0.1895,  0.1502, -0.1481,  0.1079, -0.1997],\n",
       "          [ 0.1533, -0.1854,  0.0742,  0.0716, -0.1918],\n",
       "          [ 0.0701,  0.1383, -0.0591,  0.0978,  0.1868],\n",
       "          [-0.0212,  0.0653, -0.0770, -0.0270,  0.1936]]],\n",
       "\n",
       "\n",
       "        [[[ 0.1277,  0.0552,  0.1795,  0.1619, -0.1651],\n",
       "          [ 0.1797, -0.0268, -0.0586,  0.0935, -0.0990],\n",
       "          [ 0.1464,  0.0638, -0.1799,  0.0061, -0.0811],\n",
       "          [ 0.1418, -0.0094,  0.0586, -0.0167, -0.1844],\n",
       "          [ 0.0843,  0.1523, -0.0765,  0.1479, -0.1708]]],\n",
       "\n",
       "\n",
       "        [[[-0.0178, -0.0513,  0.0799,  0.0364, -0.0160],\n",
       "          [-0.0352, -0.0331,  0.1149, -0.1388,  0.1999],\n",
       "          [ 0.1914, -0.0683,  0.0220,  0.0188, -0.1088],\n",
       "          [ 0.0857, -0.0866,  0.1407,  0.0642,  0.1300],\n",
       "          [-0.0717,  0.1904, -0.1394,  0.1506,  0.1557]]]], requires_grad=True)"
      ]
     },
     "execution_count": 47,
     "metadata": {},
     "output_type": "execute_result"
    }
   ],
   "source": [
    "network.conv1.weight # weights of the convolutional layer; these are actually the six  5x5 convolutional filters."
   ]
  },
  {
   "cell_type": "code",
   "execution_count": 48,
   "metadata": {
    "colab": {
     "base_uri": "https://localhost:8080/",
     "height": 432
    },
    "id": "9H8rGcosCH5q",
    "outputId": "73f20990-32c5-418e-e320-a56461cd81e2"
   },
   "outputs": [
    {
     "data": {
      "image/png": "[encoded data removed]",
      "text/plain": [
       "<Figure size 576x576 with 6 Axes>"
      ]
     },
     "metadata": {
      "needs_background": "light"
     },
     "output_type": "display_data"
    }
   ],
   "source": [
    "# filters as images (untrained, randomized)\n",
    "import matplotlib.pyplot as plt \n",
    "\n",
    "plt.figure(figsize=(8,8))\n",
    "for i in range(1,7):\n",
    "    plt.subplot(2, 3, i)\n",
    "    plt.imshow(network.conv1.weight[0].squeeze().detach().numpy(), cmap='gray')\n",
    "    plt.title(f'Filter {i-1}')"
   ]
  },
  {
   "cell_type": "code",
   "execution_count": 49,
   "metadata": {
    "colab": {
     "base_uri": "https://localhost:8080/"
    },
    "id": "BgCNI_dVCH5s",
    "outputId": "e8ba1320-3b31-4815-f199-ef94875e1bce"
   },
   "outputs": [
    {
     "data": {
      "text/plain": [
       "torch.Size([6, 1, 5, 5])"
      ]
     },
     "execution_count": 49,
     "metadata": {},
     "output_type": "execute_result"
    }
   ],
   "source": [
    "network.conv1.weight.shape"
   ]
  },
  {
   "cell_type": "code",
   "execution_count": 50,
   "metadata": {
    "colab": {
     "base_uri": "https://localhost:8080/"
    },
    "id": "z6WhkkHnCH5t",
    "outputId": "527c853c-401e-4571-fb83-c02436f0ca3a"
   },
   "outputs": [
    {
     "data": {
      "text/plain": [
       "torch.Size([12, 6, 5, 5])"
      ]
     },
     "execution_count": 50,
     "metadata": {},
     "output_type": "execute_result"
    }
   ],
   "source": [
    "network.conv2.weight.shape"
   ]
  },
  {
   "cell_type": "markdown",
   "metadata": {
    "id": "jBTLnPCXCH5v"
   },
   "source": [
    "Here the twelve 5$\\times$5 stacked filters convolve above six stacked input images which are the output of the first convolution. "
   ]
  },
  {
   "cell_type": "code",
   "execution_count": 51,
   "metadata": {
    "colab": {
     "base_uri": "https://localhost:8080/"
    },
    "id": "HUxgXCbSCH5w",
    "outputId": "7cebf86c-f9dd-4723-ff35-caf89d1ea27a"
   },
   "outputs": [
    {
     "data": {
      "text/plain": [
       "torch.Size([120, 192])"
      ]
     },
     "execution_count": 51,
     "metadata": {},
     "output_type": "execute_result"
    }
   ],
   "source": [
    "network.fc1.weight.shape"
   ]
  },
  {
   "cell_type": "code",
   "execution_count": 52,
   "metadata": {
    "colab": {
     "base_uri": "https://localhost:8080/"
    },
    "id": "HZdmjhnoCH5y",
    "outputId": "9e20f493-9bec-470f-cd6c-c65329dcbd6c"
   },
   "outputs": [
    {
     "data": {
      "text/plain": [
       "(192,)"
      ]
     },
     "execution_count": 52,
     "metadata": {},
     "output_type": "execute_result"
    }
   ],
   "source": [
    "import torch\n",
    "import numpy as np\n",
    "x = np.random.random(192)\n",
    "x.shape"
   ]
  },
  {
   "cell_type": "code",
   "execution_count": 53,
   "metadata": {
    "colab": {
     "base_uri": "https://localhost:8080/"
    },
    "id": "bmYg33OdCH50",
    "outputId": "3dbe9d0e-bbbe-4087-b93f-4f1b387725c0"
   },
   "outputs": [
    {
     "data": {
      "text/plain": [
       "torch.Size([120])"
      ]
     },
     "execution_count": 53,
     "metadata": {},
     "output_type": "execute_result"
    }
   ],
   "source": [
    "network.fc1.weight.matmul(torch.as_tensor(x).float()).shape"
   ]
  },
  {
   "cell_type": "markdown",
   "metadata": {
    "id": "bZ2surwXCH51"
   },
   "source": [
    "The operation `A.matmul(x)` infers due to incompatibility in shape that it must perform $x A^T$ instead of the default $Ax$."
   ]
  },
  {
   "cell_type": "code",
   "execution_count": 54,
   "metadata": {
    "id": "bKoP-N3jCH52"
   },
   "outputs": [],
   "source": [
    "A = np.array([[1, 2],\n",
    "              [3, 4],\n",
    "              [0, 0]])\n",
    "\n",
    "x = np.array([1, 1])"
   ]
  },
  {
   "cell_type": "code",
   "execution_count": 55,
   "metadata": {
    "colab": {
     "base_uri": "https://localhost:8080/"
    },
    "id": "I_pF7f8hCH53",
    "outputId": "ac351056-eec4-4452-87c5-89a274b15d94"
   },
   "outputs": [
    {
     "data": {
      "text/plain": [
       "tensor([3, 7, 0])"
      ]
     },
     "execution_count": 55,
     "metadata": {},
     "output_type": "execute_result"
    }
   ],
   "source": [
    "torch.tensor(A).matmul(torch.tensor(x))"
   ]
  },
  {
   "cell_type": "code",
   "execution_count": 56,
   "metadata": {
    "colab": {
     "base_uri": "https://localhost:8080/"
    },
    "id": "KG_hveL0CH54",
    "outputId": "483f0327-af81-4351-d244-7132210fbee4"
   },
   "outputs": [
    {
     "data": {
      "text/plain": [
       "array([3, 7, 0])"
      ]
     },
     "execution_count": 56,
     "metadata": {},
     "output_type": "execute_result"
    }
   ],
   "source": [
    "np.matmul(x, A.T)"
   ]
  },
  {
   "cell_type": "code",
   "execution_count": 57,
   "metadata": {
    "colab": {
     "base_uri": "https://localhost:8080/"
    },
    "id": "OeurhX8oCH55",
    "outputId": "fd76b26a-3dc8-469f-d582-3b8c391fae9c",
    "scrolled": true
   },
   "outputs": [
    {
     "name": "stdout",
     "output_type": "stream",
     "text": [
      "conv1.weight \t torch.Size([6, 1, 5, 5])\n",
      "conv1.bias \t torch.Size([6])\n",
      "conv2.weight \t torch.Size([12, 6, 5, 5])\n",
      "conv2.bias \t torch.Size([12])\n",
      "fc1.weight \t torch.Size([120, 192])\n",
      "fc1.bias \t torch.Size([120])\n",
      "fc2.weight \t torch.Size([60, 120])\n",
      "fc2.bias \t torch.Size([60])\n",
      "out.weight \t torch.Size([10, 60])\n",
      "out.bias \t torch.Size([10])\n"
     ]
    }
   ],
   "source": [
    "for name, weight in network.named_parameters():\n",
    "    print(name, '\\t', weight.shape)"
   ]
  },
  {
   "cell_type": "code",
   "execution_count": 58,
   "metadata": {
    "colab": {
     "base_uri": "https://localhost:8080/"
    },
    "id": "S5yvxBSICH56",
    "outputId": "f98f3f98-a943-4530-8dfb-1bb1deb106d3",
    "scrolled": true
   },
   "outputs": [
    {
     "data": {
      "text/plain": [
       "Parameter containing:\n",
       "tensor([[ 0.0257, -0.0659, -0.0050,  ..., -0.0175, -0.0640,  0.0102],\n",
       "        [ 0.0154, -0.0377,  0.0422,  ...,  0.0024,  0.0190,  0.0314],\n",
       "        [-0.0636, -0.0628,  0.0540,  ..., -0.0513,  0.0422,  0.0587],\n",
       "        ...,\n",
       "        [-0.0212, -0.0468,  0.0386,  ..., -0.0329, -0.0143,  0.0330],\n",
       "        [ 0.0678,  0.0550,  0.0334,  ..., -0.0323,  0.0023,  0.0497],\n",
       "        [ 0.0557,  0.0211,  0.0108,  ..., -0.0319, -0.0466, -0.0350]],\n",
       "       requires_grad=True)"
      ]
     },
     "execution_count": 58,
     "metadata": {},
     "output_type": "execute_result"
    }
   ],
   "source": [
    "network.fc1.weight # 192 weights for each of the 120 output neurons +1 for bias, the bias tensor of size 120."
   ]
  },
  {
   "cell_type": "markdown",
   "metadata": {
    "id": "rvQ_z3gSCH57"
   },
   "source": [
    "For the convolutional layer, we have one scalar value for each filter.  "
   ]
  },
  {
   "cell_type": "markdown",
   "metadata": {
    "id": "hA61fmCmCH58"
   },
   "source": [
    "### Forward method implementation"
   ]
  },
  {
   "cell_type": "markdown",
   "metadata": {
    "id": "vycwrekbCH58"
   },
   "source": [
    "Forward pass describes how an input tensor is processed as it flows across the layers.\n",
    "\n",
    "__tensor flow__: \n",
    "tensor -> input layer -> hiden layers -> output layer -> tensor"
   ]
  },
  {
   "cell_type": "code",
   "execution_count": 59,
   "metadata": {
    "deletable": false,
    "editable": false,
    "id": "rv_Tf5HcCH59"
   },
   "outputs": [],
   "source": [
    "import torch\n",
    "import torch.nn as nn\n",
    "import torch.nn.functional as F\n",
    "\n",
    "class Network(nn.Module):\n",
    "    def __init__(self, channels=1): # default grayscale\n",
    "        super().__init__()\n",
    "        self.conv1 = nn.Conv2d(in_channels=channels, out_channels=6, kernel_size=5) \n",
    "        self.conv2 = nn.Conv2d(in_channels=6, out_channels=12, kernel_size=5)\n",
    "        \n",
    "        self.fc1 = nn.Linear(in_features=12*4*4, out_features=120) # ((28-5+1)/2 -5 +1)/2 = 4\n",
    "        self.fc2 = nn.Linear(in_features=120, out_features=60)\n",
    "        self.out = nn.Linear(in_features=60, out_features=10)\n",
    "        \n",
    "    def forward(self, t):\n",
    "        # (1) input layer\n",
    "        t = t\n",
    "        print('initial shape is ', t.shape)\n",
    "\n",
    "        # (2) hidden conv layer\n",
    "        t = self.conv1(t)\n",
    "        print('shape after conv1 is ', t.shape)\n",
    "        t = F.relu(t) # activation_function='relu' in tf.keras  \n",
    "        print('shape after relu is ', t.shape)    \n",
    "        t = F.max_pool2d(t, kernel_size=2, stride=2)\n",
    "        print('shape after maxpool2d 1 is ', t.shape)    \n",
    "        \n",
    "        # (3) hidden conv layer\n",
    "        t = self.conv2(t)\n",
    "        print('shape after conv2 is ', t.shape)    \n",
    "        t = F.relu(t)\n",
    "        print('shape after relu is ', t.shape)    \n",
    "        t = F.max_pool2d(t, kernel_size=2, stride=2)\n",
    "        print('shape after maxpool is ', t.shape)    \n",
    "\n",
    "        # (4) hidden linear layer\n",
    "        t = t.reshape(-1, 12*4*4)\n",
    "        print('shape after reshape is ', t.shape)    \n",
    "        t = self.fc1(t)\n",
    "        print('shape after fc1 is ', t.shape)    \n",
    "        t = F.relu(t) # activation_funcion='relu' in tf.keras\n",
    "        print('shape after relu is ', t.shape)    \n",
    "        \n",
    "        # (5) hidden linear layer\n",
    "        t = self.fc2(t)\n",
    "        print('shape after fc2 is ', t.shape)    \n",
    "        t = F.relu(t)\n",
    "        print('shape after relu is ', t.shape)    \n",
    "        \n",
    "        # (6) output layer\n",
    "        t = self.out(t)\n",
    "        print('shape after out is ', t.shape)    \n",
    "        t = F.softmax(t, dim=1) # first index is batch\n",
    "        print('shape after softmax is ', t.shape)    \n",
    "        return t"
   ]
  },
  {
   "cell_type": "markdown",
   "metadata": {
    "id": "VsaLTkJHCH5-"
   },
   "source": [
    "The `.forward()` method expects an image of shape $[b, c, 28, 28]$ i.e. $b$ is batch size of 28$\\times$28 grayscale images of shape $[c,28,28]$."
   ]
  },
  {
   "cell_type": "code",
   "execution_count": 60,
   "metadata": {
    "colab": {
     "base_uri": "https://localhost:8080/"
    },
    "id": "iH8sF_HXCH5_",
    "outputId": "017e7a44-3221-41b9-ead7-404c7bd6a159"
   },
   "outputs": [
    {
     "name": "stdout",
     "output_type": "stream",
     "text": [
      "initial shape is  torch.Size([7, 3, 28, 28])\n",
      "shape after conv1 is  torch.Size([7, 6, 24, 24])\n",
      "shape after relu is  torch.Size([7, 6, 24, 24])\n",
      "shape after maxpool2d 1 is  torch.Size([7, 6, 12, 12])\n",
      "shape after conv2 is  torch.Size([7, 12, 8, 8])\n",
      "shape after relu is  torch.Size([7, 12, 8, 8])\n",
      "shape after maxpool is  torch.Size([7, 12, 4, 4])\n",
      "shape after reshape is  torch.Size([7, 192])\n",
      "shape after fc1 is  torch.Size([7, 120])\n",
      "shape after relu is  torch.Size([7, 120])\n",
      "shape after fc2 is  torch.Size([7, 60])\n",
      "shape after relu is  torch.Size([7, 60])\n",
      "shape after out is  torch.Size([7, 10])\n",
      "shape after softmax is  torch.Size([7, 10])\n"
     ]
    },
    {
     "data": {
      "text/plain": [
       "torch.Size([7, 10])"
      ]
     },
     "execution_count": 60,
     "metadata": {},
     "output_type": "execute_result"
    }
   ],
   "source": [
    "net = Network(3)\n",
    "t = torch.as_tensor(np.random.random((7,3,28,28))).float() # batch of size 7\n",
    "\n",
    "net.forward(t).shape # 10 label classes for each image"
   ]
  },
  {
   "cell_type": "code",
   "execution_count": 61,
   "metadata": {
    "colab": {
     "base_uri": "https://localhost:8080/"
    },
    "id": "_3Zf9eVXCH6A",
    "outputId": "73060e08-02bf-44ff-acab-0624c613a1d2"
   },
   "outputs": [
    {
     "name": "stdout",
     "output_type": "stream",
     "text": [
      "initial shape is  torch.Size([7, 3, 28, 28])\n",
      "shape after conv1 is  torch.Size([7, 6, 24, 24])\n",
      "shape after relu is  torch.Size([7, 6, 24, 24])\n",
      "shape after maxpool2d 1 is  torch.Size([7, 6, 12, 12])\n",
      "shape after conv2 is  torch.Size([7, 12, 8, 8])\n",
      "shape after relu is  torch.Size([7, 12, 8, 8])\n",
      "shape after maxpool is  torch.Size([7, 12, 4, 4])\n",
      "shape after reshape is  torch.Size([7, 192])\n",
      "shape after fc1 is  torch.Size([7, 120])\n",
      "shape after relu is  torch.Size([7, 120])\n",
      "shape after fc2 is  torch.Size([7, 60])\n",
      "shape after relu is  torch.Size([7, 60])\n",
      "shape after out is  torch.Size([7, 10])\n",
      "shape after softmax is  torch.Size([7, 10])\n",
      "initial shape is  torch.Size([7, 3, 28, 28])\n",
      "shape after conv1 is  torch.Size([7, 6, 24, 24])\n",
      "shape after relu is  torch.Size([7, 6, 24, 24])\n",
      "shape after maxpool2d 1 is  torch.Size([7, 6, 12, 12])\n",
      "shape after conv2 is  torch.Size([7, 12, 8, 8])\n",
      "shape after relu is  torch.Size([7, 12, 8, 8])\n",
      "shape after maxpool is  torch.Size([7, 12, 4, 4])\n",
      "shape after reshape is  torch.Size([7, 192])\n",
      "shape after fc1 is  torch.Size([7, 120])\n",
      "shape after relu is  torch.Size([7, 120])\n",
      "shape after fc2 is  torch.Size([7, 60])\n",
      "shape after relu is  torch.Size([7, 60])\n",
      "shape after out is  torch.Size([7, 10])\n",
      "shape after softmax is  torch.Size([7, 10])\n"
     ]
    },
    {
     "data": {
      "text/plain": [
       "tensor(True)"
      ]
     },
     "execution_count": 61,
     "metadata": {},
     "output_type": "execute_result"
    }
   ],
   "source": [
    "(net(t) == net.forward(t)).all()"
   ]
  },
  {
   "cell_type": "code",
   "execution_count": 62,
   "metadata": {
    "colab": {
     "base_uri": "https://localhost:8080/"
    },
    "id": "KzMQ_pUzCH6B",
    "outputId": "5aee0cb2-f017-404d-fb46-641832232d77"
   },
   "outputs": [
    {
     "name": "stdout",
     "output_type": "stream",
     "text": [
      "torch.Size([6, 3, 5, 5])\n"
     ]
    },
    {
     "data": {
      "text/plain": [
       "tensor([[[ 0.0685, -0.0194, -0.0345,  0.0304,  0.0971],\n",
       "         [ 0.1128,  0.0178, -0.0512, -0.0345,  0.0363],\n",
       "         [-0.0933, -0.0103, -0.0920, -0.0476, -0.0067],\n",
       "         [-0.0632,  0.0690,  0.1125, -0.0010,  0.0961],\n",
       "         [ 0.0802, -0.0862,  0.0113,  0.0773,  0.0650]],\n",
       "\n",
       "        [[ 0.0490, -0.1000,  0.0010, -0.1133,  0.0722],\n",
       "         [-0.0042,  0.0874,  0.0875, -0.0009,  0.0876],\n",
       "         [ 0.0405, -0.0131, -0.0021,  0.0934,  0.0134],\n",
       "         [-0.1108, -0.1152, -0.0856, -0.0551,  0.0049],\n",
       "         [ 0.0429,  0.0345,  0.0499, -0.0655,  0.0809]],\n",
       "\n",
       "        [[-0.0961, -0.0727,  0.0223, -0.0416, -0.0549],\n",
       "         [ 0.0764, -0.0050, -0.0268,  0.0622, -0.0890],\n",
       "         [ 0.0749, -0.0779,  0.0142, -0.0284, -0.0741],\n",
       "         [-0.0515,  0.0303,  0.0672, -0.0440, -0.0955],\n",
       "         [ 0.0306,  0.0835,  0.0658,  0.0705, -0.0167]]],\n",
       "       grad_fn=<SelectBackward0>)"
      ]
     },
     "execution_count": 62,
     "metadata": {},
     "output_type": "execute_result"
    }
   ],
   "source": [
    "# the 6 filters in the first conv layer are 3x5x5 matrices in this case, threefold\n",
    "print(net.conv1.weight.shape)\n",
    "net.conv1.weight[0] # weights of the first filter"
   ]
  },
  {
   "cell_type": "markdown",
   "metadata": {
    "id": "oFqvFD24CH6D"
   },
   "source": [
    "### Tensor shape transformations during forward pass"
   ]
  },
  {
   "cell_type": "markdown",
   "metadata": {
    "id": "oqrZx_KsCH6D"
   },
   "source": [
    "Here we inspect the transformation of a tensor $t$ as it is passed end-to-end into the network."
   ]
  },
  {
   "cell_type": "code",
   "execution_count": 63,
   "metadata": {
    "id": "hPCd6QFLCH6E"
   },
   "outputs": [],
   "source": [
    "net = Network(3)\n",
    "t = torch.as_tensor(np.random.random((7,3,28,28))).float() # batch of size 7 rgb 28x28 images"
   ]
  },
  {
   "cell_type": "code",
   "execution_count": 64,
   "metadata": {
    "colab": {
     "base_uri": "https://localhost:8080/"
    },
    "id": "EYlnvsbJCH6F",
    "outputId": "28ca1d95-963b-4252-9aca-4a34ee711b68"
   },
   "outputs": [
    {
     "data": {
      "text/plain": [
       "torch.Size([7, 3, 28, 28])"
      ]
     },
     "execution_count": 64,
     "metadata": {},
     "output_type": "execute_result"
    }
   ],
   "source": [
    "t.shape # input layer"
   ]
  },
  {
   "cell_type": "code",
   "execution_count": 65,
   "metadata": {
    "colab": {
     "base_uri": "https://localhost:8080/"
    },
    "id": "Jf5qAEbUCH6F",
    "outputId": "a15d7920-9263-43cc-afe7-f6a792ec59a7"
   },
   "outputs": [
    {
     "data": {
      "text/plain": [
       "torch.Size([7, 6, 24, 24])"
      ]
     },
     "execution_count": 65,
     "metadata": {},
     "output_type": "execute_result"
    }
   ],
   "source": [
    "t = net.conv1(t)\n",
    "t.shape"
   ]
  },
  {
   "cell_type": "code",
   "execution_count": 66,
   "metadata": {
    "colab": {
     "base_uri": "https://localhost:8080/"
    },
    "id": "PAYrIgxzCH6H",
    "outputId": "55b20cd7-2f73-40e9-f070-bfb48870cac1"
   },
   "outputs": [
    {
     "data": {
      "text/plain": [
       "torch.Size([7, 6, 24, 24])"
      ]
     },
     "execution_count": 66,
     "metadata": {},
     "output_type": "execute_result"
    }
   ],
   "source": [
    "t = F.relu(t) # applied element-wise\n",
    "t.shape"
   ]
  },
  {
   "cell_type": "code",
   "execution_count": 67,
   "metadata": {
    "colab": {
     "base_uri": "https://localhost:8080/"
    },
    "id": "2hn7fAT7CH6I",
    "outputId": "085594ee-3509-4edf-ffbd-d3fd429f3f31"
   },
   "outputs": [
    {
     "data": {
      "text/plain": [
       "tensor([[[2, 0]],\n",
       "\n",
       "        [[1, 5]],\n",
       "\n",
       "        [[0, 6]]])"
      ]
     },
     "execution_count": 67,
     "metadata": {},
     "output_type": "execute_result"
    }
   ],
   "source": [
    "F.relu(torch.tensor([[[2,-3]], [[1,5]], [[-1,6]]]))"
   ]
  },
  {
   "cell_type": "code",
   "execution_count": 68,
   "metadata": {
    "colab": {
     "base_uri": "https://localhost:8080/"
    },
    "id": "j_a9w_HLCH6J",
    "outputId": "ec2e5667-e2ff-4421-f996-5d92d90164b0",
    "scrolled": true
   },
   "outputs": [
    {
     "data": {
      "text/plain": [
       "torch.Size([7, 6, 12, 12])"
      ]
     },
     "execution_count": 68,
     "metadata": {},
     "output_type": "execute_result"
    }
   ],
   "source": [
    "t = F.max_pool2d(t, kernel_size=2, stride=2)\n",
    "t.shape"
   ]
  },
  {
   "cell_type": "markdown",
   "metadata": {
    "id": "TPoEJjTzCH6J"
   },
   "source": [
    "Let's demonstrate how `F.max_pool2d` works."
   ]
  },
  {
   "cell_type": "code",
   "execution_count": 69,
   "metadata": {
    "id": "-KHcXAYqCH6K"
   },
   "outputs": [],
   "source": [
    "x = torch.tensor([[[[1,2],[3,4]],[[1,2],[-9,0]]]]).float()"
   ]
  },
  {
   "cell_type": "code",
   "execution_count": 70,
   "metadata": {
    "colab": {
     "base_uri": "https://localhost:8080/"
    },
    "id": "3sOchSn0CH6L",
    "outputId": "bd91861c-c574-4a83-ada5-fac31193cbd2"
   },
   "outputs": [
    {
     "data": {
      "text/plain": [
       "tensor([[[[ 1.,  2.],\n",
       "          [ 3.,  4.]],\n",
       "\n",
       "         [[ 1.,  2.],\n",
       "          [-9.,  0.]]]])"
      ]
     },
     "execution_count": 70,
     "metadata": {},
     "output_type": "execute_result"
    }
   ],
   "source": [
    "x"
   ]
  },
  {
   "cell_type": "code",
   "execution_count": 71,
   "metadata": {
    "colab": {
     "base_uri": "https://localhost:8080/"
    },
    "id": "CtS934TeCH6L",
    "outputId": "2a6e12f9-52de-400c-cac4-ebfb2c1bc734"
   },
   "outputs": [
    {
     "data": {
      "text/plain": [
       "torch.Size([1, 2, 2, 2])"
      ]
     },
     "execution_count": 71,
     "metadata": {},
     "output_type": "execute_result"
    }
   ],
   "source": [
    "x.shape"
   ]
  },
  {
   "cell_type": "code",
   "execution_count": 72,
   "metadata": {
    "colab": {
     "base_uri": "https://localhost:8080/"
    },
    "id": "A3H1vB0ICH6M",
    "outputId": "9ee7c782-1baa-4e83-fe1d-c0ae7147e4e5"
   },
   "outputs": [
    {
     "data": {
      "text/plain": [
       "tensor([[[[4.]],\n",
       "\n",
       "         [[2.]]]])"
      ]
     },
     "execution_count": 72,
     "metadata": {},
     "output_type": "execute_result"
    }
   ],
   "source": [
    "F.max_pool2d(x, kernel_size=2, stride=2)"
   ]
  },
  {
   "cell_type": "code",
   "execution_count": 73,
   "metadata": {
    "colab": {
     "base_uri": "https://localhost:8080/"
    },
    "id": "Gi3fBe93CH6N",
    "outputId": "cfad18f1-dea4-4aaa-c984-5129c53936a9"
   },
   "outputs": [
    {
     "data": {
      "text/plain": [
       "torch.Size([1, 2, 1, 1])"
      ]
     },
     "execution_count": 73,
     "metadata": {},
     "output_type": "execute_result"
    }
   ],
   "source": [
    "F.max_pool2d(x, kernel_size=2, stride=2).shape"
   ]
  },
  {
   "cell_type": "code",
   "execution_count": 74,
   "metadata": {
    "colab": {
     "base_uri": "https://localhost:8080/"
    },
    "id": "L3dzBQ3MCH6O",
    "outputId": "cfd3ca31-a539-4862-a7ea-0381d8a30af1"
   },
   "outputs": [
    {
     "data": {
      "text/plain": [
       "torch.Size([7, 12, 8, 8])"
      ]
     },
     "execution_count": 74,
     "metadata": {},
     "output_type": "execute_result"
    }
   ],
   "source": [
    "t = net.conv2(t)\n",
    "t.shape"
   ]
  },
  {
   "cell_type": "code",
   "execution_count": 75,
   "metadata": {
    "colab": {
     "base_uri": "https://localhost:8080/"
    },
    "id": "X8skadXBCH6O",
    "outputId": "ed68a193-a67c-461b-bad1-965d135eec76",
    "scrolled": true
   },
   "outputs": [
    {
     "data": {
      "text/plain": [
       "torch.Size([7, 12, 4, 4])"
      ]
     },
     "execution_count": 75,
     "metadata": {},
     "output_type": "execute_result"
    }
   ],
   "source": [
    "t = F.max_pool2d(t, kernel_size=2, stride=2)\n",
    "t.shape"
   ]
  },
  {
   "cell_type": "code",
   "execution_count": 76,
   "metadata": {
    "colab": {
     "base_uri": "https://localhost:8080/"
    },
    "id": "vZVx5nWJCH6P",
    "outputId": "6b7ed5e3-157a-4664-a205-33b569d31909"
   },
   "outputs": [
    {
     "data": {
      "text/plain": [
       "torch.Size([7, 192])"
      ]
     },
     "execution_count": 76,
     "metadata": {},
     "output_type": "execute_result"
    }
   ],
   "source": [
    "t = t.reshape(-1, 12*4*4)\n",
    "t.shape"
   ]
  },
  {
   "cell_type": "code",
   "execution_count": 77,
   "metadata": {
    "colab": {
     "base_uri": "https://localhost:8080/"
    },
    "id": "tUsxMWZkCH6Q",
    "outputId": "e0a37e2b-a8b5-4037-811f-5efb994a4b5d"
   },
   "outputs": [
    {
     "data": {
      "text/plain": [
       "torch.Size([7, 120])"
      ]
     },
     "execution_count": 77,
     "metadata": {},
     "output_type": "execute_result"
    }
   ],
   "source": [
    "t = net.fc1(t)\n",
    "t.shape"
   ]
  },
  {
   "cell_type": "code",
   "execution_count": 78,
   "metadata": {
    "colab": {
     "base_uri": "https://localhost:8080/"
    },
    "id": "6LzgcrGKCH6R",
    "outputId": "a940cd86-9671-4f2c-db8f-bf5a95b67494"
   },
   "outputs": [
    {
     "data": {
      "text/plain": [
       "torch.Size([7, 60])"
      ]
     },
     "execution_count": 78,
     "metadata": {},
     "output_type": "execute_result"
    }
   ],
   "source": [
    "t = net.fc2(t)\n",
    "t.shape"
   ]
  },
  {
   "cell_type": "code",
   "execution_count": 79,
   "metadata": {
    "id": "DXNJ8yHqCH6S"
   },
   "outputs": [],
   "source": [
    "t = net.out(t)\n",
    "t = F.softmax(t, dim=1)"
   ]
  },
  {
   "cell_type": "code",
   "execution_count": 80,
   "metadata": {
    "colab": {
     "base_uri": "https://localhost:8080/"
    },
    "id": "hMUe9in0CH6T",
    "outputId": "ed02708c-906a-42ae-87b8-03d44172bfc7"
   },
   "outputs": [
    {
     "data": {
      "text/plain": [
       "torch.Size([7, 10])"
      ]
     },
     "execution_count": 80,
     "metadata": {},
     "output_type": "execute_result"
    }
   ],
   "source": [
    "t.shape"
   ]
  },
  {
   "cell_type": "markdown",
   "metadata": {
    "id": "5B03KU9WCH6U"
   },
   "source": [
    "#### Convolutional layer output formula\n",
    "$$ O = \\dfrac{f-n+2p}{s}+1$$\n",
    "\n",
    "where $f$ is the image size, $n$ is the size of the filter, $p$ is the size of zero padding. To see this, note that the formula is equal to $\\dfrac{f-n+s+2p}{s}$ which can be interpreted as ignoring the last stride which covers $n$ pixels, and replacing that with $s$ pixels, dividing everything by $s$ we get the total number of strides, i.e. the size of the resulting image.\n",
    "$$$$\n",
    "\n",
    "__Example__. $f = 28$, $n = 5$, $p = 0$ and $s = 1$ in the first convolutional layer, so that $O = 24$."
   ]
  },
  {
   "cell_type": "markdown",
   "metadata": {
    "id": "qJ4MOF6ECH6V"
   },
   "source": [
    "### Appendix: Basic Theory of Convolutional Neural Networks\n",
    "\n",
    "Deep Lizard series on CNN:\n",
    "\n",
    "https://deeplizard.com/learn/video/YRhxdVk_sIs\n",
    "\n",
    "https://deeplizard.com/learn/video/cNBBNAxC8l4\n",
    "\n",
    "https://deeplizard.com/learn/video/qSTv_m-KFk0\n",
    "\n",
    "https://deeplizard.com/learn/video/ZjM_XQa5s6s\n",
    "\n",
    "https://deeplizard.com/learn/video/gmBfb6LNnZs\n",
    "\n",
    "\n",
    "\n",
    "F. Chollet's blog: __How convolutional neural networks see the world__\n",
    "\n",
    "https://blog.keras.io/how-convolutional-neural-networks-see-the-world.html\n",
    "\n"
   ]
  },
  {
   "cell_type": "code",
   "execution_count": 80,
   "metadata": {
    "id": "v0HLfAhZCH6W"
   },
   "outputs": [],
   "source": []
  }
 ],
 "metadata": {
  "accelerator": "GPU",
  "colab": {
   "name": "4-Object-Oriented-Neural-Networks-CNN.ipynb",
   "provenance": []
  },
  "kernelspec": {
   "display_name": "Python 3 (ipykernel)",
   "language": "python",
   "name": "python3"
  },
  "language_info": {
   "codemirror_mode": {
    "name": "ipython",
    "version": 3
   },
   "file_extension": ".py",
   "mimetype": "text/x-python",
   "name": "python",
   "nbconvert_exporter": "python",
   "pygments_lexer": "ipython3",
   "version": "3.8.12"
  },
  "toc": {
   "base_numbering": 1,
   "nav_menu": {},
   "number_sections": true,
   "sideBar": true,
   "skip_h1_title": false,
   "title_cell": "Table of Contents",
   "title_sidebar": "Contents",
   "toc_cell": false,
   "toc_position": {
    "height": "calc(100% - 180px)",
    "left": "10px",
    "top": "150px",
    "width": "165px"
   },
   "toc_section_display": true,
   "toc_window_display": true
  }
 },
 "nbformat": 4,
 "nbformat_minor": 4
}
