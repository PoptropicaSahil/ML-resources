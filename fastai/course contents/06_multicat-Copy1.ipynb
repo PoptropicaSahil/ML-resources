{
 "cells": [
  {
   "cell_type": "code",
   "execution_count": 1,
   "metadata": {},
   "outputs": [],
   "source": [
    "#hide\n",
    "# !pip install -Uqq fastbook\n",
    "import fastbook\n",
    "fastbook.setup_book()"
   ]
  },
  {
   "cell_type": "code",
   "execution_count": 2,
   "metadata": {},
   "outputs": [],
   "source": [
    "#hide\n",
    "from fastbook import *"
   ]
  },
  {
   "cell_type": "raw",
   "metadata": {},
   "source": [
    "[[chapter_multicat]]"
   ]
  },
  {
   "cell_type": "markdown",
   "metadata": {},
   "source": [
    "# Other Computer Vision Problems"
   ]
  },
  {
   "cell_type": "markdown",
   "metadata": {},
   "source": [
    "In the previous chapter you learned some important practical techniques for training models in practice. **Considerations like selecting learning rates and the number of epochs are very important to getting good results.**\n",
    "\n",
    "In this chapter we are going to look at two other types of computer vision problems: multi-label classification and regression. The first one is when you want to \n",
    "#### predict more than one label per image (or sometimes none at all), and the second is when your labels are one or several numbers—a quantity instead of a category.\n",
    "\n",
    "In the process will study more deeply the output activations, targets, and loss functions in deep learning models."
   ]
  },
  {
   "cell_type": "markdown",
   "metadata": {},
   "source": [
    "## Multi-Label Classification"
   ]
  },
  {
   "cell_type": "markdown",
   "metadata": {},
   "source": [
    "Multi-label classification refers to the problem of identifying the categories of objects in images that may not contain exactly one type of object. **There may be more than one kind of object, or there may be no objects at all in the classes that you are looking for.**\n",
    "\n",
    "For instance, this would have been a great approach for our bear classifier. **One problem with the bear classifier that we rolled out in <<chapter_production>> was that if a user uploaded something that wasn't any kind of bear, the model would still say it was either a grizzly, black, or teddy bear—it had no ability to predict \"not a bear at all.\" In fact, after we have completed this chapter, it would be a great exercise for you to go back to your image classifier application, and try to retrain it using the multi-label technique, then test it by passing in an image that is not of any of your recognized classes.**\n",
    "\n",
    "## Looks nicely important\n",
    "**In practice, we have not seen many examples of people training multi-label classifiers for this purpose—but we very often see both users and developers complaining about this problem. It appears that this simple solution is not at all widely understood or appreciated! Because in practice it is probably more common to have some images with zero matches or more than one match, we should probably expect in practice that multi-label classifiers are more widely applicable than single-label classifiers.**\n",
    "\n",
    "First, let's see what a multi-label dataset looks like, then we'll explain how to get it ready for our model. You'll see that the architecture of the model does not change from the last chapter; only the loss function does. Let's start with the data."
   ]
  },
  {
   "cell_type": "markdown",
   "metadata": {},
   "source": [
    "### The Data"
   ]
  },
  {
   "cell_type": "markdown",
   "metadata": {},
   "source": [
    "For our example we are going to use the PASCAL dataset, which can have more than one kind of classified object per image.\n",
    "\n",
    "We begin by downloading and extracting the dataset as per usual:"
   ]
  },
  {
   "cell_type": "code",
   "execution_count": 3,
   "metadata": {},
   "outputs": [],
   "source": [
    "from fastai.vision.all import *\n",
    "# path = untar_data(URLs.PASCAL_2007)\n",
    "# path"
   ]
  },
  {
   "cell_type": "markdown",
   "metadata": {},
   "source": [
    "This dataset is different from the ones we have seen before, in that it is not structured by filename or folder but instead **comes with a CSV (comma-separated values) file telling us what labels to use for each image. We can inspect the CSV file by reading it into a Pandas DataFrame:**"
   ]
  },
  {
   "cell_type": "code",
   "execution_count": 4,
   "metadata": {},
   "outputs": [
    {
     "data": {
      "text/plain": [
       "(#8) [Path('Multicat_Data/train'),Path('Multicat_Data/test.json'),Path('Multicat_Data/segmentation'),Path('Multicat_Data/train.json'),Path('Multicat_Data/valid.json'),Path('Multicat_Data/test.csv'),Path('Multicat_Data/train.csv'),Path('Multicat_Data/test')]"
      ]
     },
     "execution_count": 4,
     "metadata": {},
     "output_type": "execute_result"
    }
   ],
   "source": [
    "path = Path('Multicat_Data/Pascal/')\n",
    "path.ls()"
   ]
  },
  {
   "cell_type": "code",
   "execution_count": 5,
   "metadata": {},
   "outputs": [
    {
     "data": {
      "text/html": [
       "<div>\n",
       "<style scoped>\n",
       "    .dataframe tbody tr th:only-of-type {\n",
       "        vertical-align: middle;\n",
       "    }\n",
       "\n",
       "    .dataframe tbody tr th {\n",
       "        vertical-align: top;\n",
       "    }\n",
       "\n",
       "    .dataframe thead th {\n",
       "        text-align: right;\n",
       "    }\n",
       "</style>\n",
       "<table border=\"1\" class=\"dataframe\">\n",
       "  <thead>\n",
       "    <tr style=\"text-align: right;\">\n",
       "      <th></th>\n",
       "      <th>fname</th>\n",
       "      <th>labels</th>\n",
       "      <th>is_valid</th>\n",
       "    </tr>\n",
       "  </thead>\n",
       "  <tbody>\n",
       "    <tr>\n",
       "      <th>0</th>\n",
       "      <td>000005.jpg</td>\n",
       "      <td>chair</td>\n",
       "      <td>True</td>\n",
       "    </tr>\n",
       "    <tr>\n",
       "      <th>1</th>\n",
       "      <td>000007.jpg</td>\n",
       "      <td>car</td>\n",
       "      <td>True</td>\n",
       "    </tr>\n",
       "    <tr>\n",
       "      <th>2</th>\n",
       "      <td>000009.jpg</td>\n",
       "      <td>horse person</td>\n",
       "      <td>True</td>\n",
       "    </tr>\n",
       "    <tr>\n",
       "      <th>3</th>\n",
       "      <td>000012.jpg</td>\n",
       "      <td>car</td>\n",
       "      <td>False</td>\n",
       "    </tr>\n",
       "    <tr>\n",
       "      <th>4</th>\n",
       "      <td>000016.jpg</td>\n",
       "      <td>bicycle</td>\n",
       "      <td>True</td>\n",
       "    </tr>\n",
       "  </tbody>\n",
       "</table>\n",
       "</div>"
      ],
      "text/plain": [
       "        fname        labels  is_valid\n",
       "0  000005.jpg         chair      True\n",
       "1  000007.jpg           car      True\n",
       "2  000009.jpg  horse person      True\n",
       "3  000012.jpg           car     False\n",
       "4  000016.jpg       bicycle      True"
      ]
     },
     "execution_count": 5,
     "metadata": {},
     "output_type": "execute_result"
    }
   ],
   "source": [
    "df = pd.read_csv(path/'train.csv')\n",
    "df.head()"
   ]
  },
  {
   "cell_type": "markdown",
   "metadata": {},
   "source": [
    "As you can see, the list of categories in each image is shown as a space-delimited string."
   ]
  },
  {
   "cell_type": "markdown",
   "metadata": {},
   "source": [
    "### Sidebar: Pandas and DataFrames"
   ]
  },
  {
   "cell_type": "markdown",
   "metadata": {},
   "source": [
    "No, it’s not actually a panda! *Pandas* is a Python library that is used to manipulate and analyze tabular and time series data. The main class is `DataFrame`, which represents a table of rows and columns. You can get a DataFrame from a CSV file, a database table, Python dictionaries, and many other sources. In Jupyter, a DataFrame is output as a formatted table, as shown here.\n",
    "\n",
    "You can access rows and columns of a DataFrame with the `iloc` property, as if it were a matrix:"
   ]
  },
  {
   "cell_type": "code",
   "execution_count": 6,
   "metadata": {},
   "outputs": [
    {
     "data": {
      "text/plain": [
       "0       000005.jpg\n",
       "1       000007.jpg\n",
       "2       000009.jpg\n",
       "3       000012.jpg\n",
       "4       000016.jpg\n",
       "           ...    \n",
       "5006    009954.jpg\n",
       "5007    009955.jpg\n",
       "5008    009958.jpg\n",
       "5009    009959.jpg\n",
       "5010    009961.jpg\n",
       "Name: fname, Length: 5011, dtype: object"
      ]
     },
     "execution_count": 6,
     "metadata": {},
     "output_type": "execute_result"
    }
   ],
   "source": [
    "df.iloc[:,0]"
   ]
  },
  {
   "cell_type": "code",
   "execution_count": 7,
   "metadata": {},
   "outputs": [
    {
     "data": {
      "text/plain": [
       "fname       000005.jpg\n",
       "labels           chair\n",
       "is_valid          True\n",
       "Name: 0, dtype: object"
      ]
     },
     "execution_count": 7,
     "metadata": {},
     "output_type": "execute_result"
    }
   ],
   "source": [
    "df.iloc[0,:] #, df.iloc[0]\n",
    "# Trailing :s are always optional (in numpy, pytorch, pandas, etc.),\n",
    "# both are same"
   ]
  },
  {
   "cell_type": "markdown",
   "metadata": {},
   "source": [
    "You can also grab a column by name by indexing into a DataFrame directly:"
   ]
  },
  {
   "cell_type": "code",
   "execution_count": 8,
   "metadata": {},
   "outputs": [
    {
     "data": {
      "text/plain": [
       "0       000005.jpg\n",
       "1       000007.jpg\n",
       "2       000009.jpg\n",
       "3       000012.jpg\n",
       "4       000016.jpg\n",
       "           ...    \n",
       "5006    009954.jpg\n",
       "5007    009955.jpg\n",
       "5008    009958.jpg\n",
       "5009    009959.jpg\n",
       "5010    009961.jpg\n",
       "Name: fname, Length: 5011, dtype: object"
      ]
     },
     "execution_count": 8,
     "metadata": {},
     "output_type": "execute_result"
    }
   ],
   "source": [
    "df['fname']"
   ]
  },
  {
   "cell_type": "markdown",
   "metadata": {},
   "source": [
    "You can create new columns and do calculations using columns:"
   ]
  },
  {
   "cell_type": "code",
   "execution_count": 9,
   "metadata": {},
   "outputs": [
    {
     "data": {
      "text/html": [
       "<div>\n",
       "<style scoped>\n",
       "    .dataframe tbody tr th:only-of-type {\n",
       "        vertical-align: middle;\n",
       "    }\n",
       "\n",
       "    .dataframe tbody tr th {\n",
       "        vertical-align: top;\n",
       "    }\n",
       "\n",
       "    .dataframe thead th {\n",
       "        text-align: right;\n",
       "    }\n",
       "</style>\n",
       "<table border=\"1\" class=\"dataframe\">\n",
       "  <thead>\n",
       "    <tr style=\"text-align: right;\">\n",
       "      <th></th>\n",
       "      <th>a</th>\n",
       "      <th>b</th>\n",
       "    </tr>\n",
       "  </thead>\n",
       "  <tbody>\n",
       "    <tr>\n",
       "      <th>0</th>\n",
       "      <td>1</td>\n",
       "      <td>3</td>\n",
       "    </tr>\n",
       "    <tr>\n",
       "      <th>1</th>\n",
       "      <td>2</td>\n",
       "      <td>4</td>\n",
       "    </tr>\n",
       "  </tbody>\n",
       "</table>\n",
       "</div>"
      ],
      "text/plain": [
       "   a  b\n",
       "0  1  3\n",
       "1  2  4"
      ]
     },
     "execution_count": 9,
     "metadata": {},
     "output_type": "execute_result"
    }
   ],
   "source": [
    "tmp_df = pd.DataFrame({'a':[1,2], 'b':[3,4]})\n",
    "tmp_df"
   ]
  },
  {
   "cell_type": "code",
   "execution_count": 10,
   "metadata": {},
   "outputs": [
    {
     "data": {
      "text/html": [
       "<div>\n",
       "<style scoped>\n",
       "    .dataframe tbody tr th:only-of-type {\n",
       "        vertical-align: middle;\n",
       "    }\n",
       "\n",
       "    .dataframe tbody tr th {\n",
       "        vertical-align: top;\n",
       "    }\n",
       "\n",
       "    .dataframe thead th {\n",
       "        text-align: right;\n",
       "    }\n",
       "</style>\n",
       "<table border=\"1\" class=\"dataframe\">\n",
       "  <thead>\n",
       "    <tr style=\"text-align: right;\">\n",
       "      <th></th>\n",
       "      <th>a</th>\n",
       "      <th>b</th>\n",
       "      <th>c</th>\n",
       "    </tr>\n",
       "  </thead>\n",
       "  <tbody>\n",
       "    <tr>\n",
       "      <th>0</th>\n",
       "      <td>1</td>\n",
       "      <td>3</td>\n",
       "      <td>4</td>\n",
       "    </tr>\n",
       "    <tr>\n",
       "      <th>1</th>\n",
       "      <td>2</td>\n",
       "      <td>4</td>\n",
       "      <td>6</td>\n",
       "    </tr>\n",
       "  </tbody>\n",
       "</table>\n",
       "</div>"
      ],
      "text/plain": [
       "   a  b  c\n",
       "0  1  3  4\n",
       "1  2  4  6"
      ]
     },
     "execution_count": 10,
     "metadata": {},
     "output_type": "execute_result"
    }
   ],
   "source": [
    "tmp_df['c'] = tmp_df['a']+tmp_df['b']\n",
    "tmp_df"
   ]
  },
  {
   "cell_type": "markdown",
   "metadata": {},
   "source": [
    "Pandas is a fast and flexible library, and an important part of every data scientist’s Python toolbox. Unfortunately, its API can be rather confusing and surprising, so it takes a while to get familiar with it. **If you haven’t used Pandas before, we’d suggest going through a tutorial; we are particularly fond of the book [*Python for Data Analysis*](http://shop.oreilly.com/product/0636920023784.do) by Wes McKinney, the creator of Pandas (O'Reilly). It also covers other important libraries like `matplotlib` and `numpy`. We will try to briefly describe Pandas functionality we use as we come across it, but will not go into the level of detail of McKinney’s book.**"
   ]
  },
  {
   "cell_type": "markdown",
   "metadata": {},
   "source": [
    "### End sidebar"
   ]
  },
  {
   "cell_type": "markdown",
   "metadata": {},
   "source": [
    "Now that we have seen what the data looks like, let's make it ready for model training."
   ]
  },
  {
   "cell_type": "markdown",
   "metadata": {},
   "source": [
    "### Constructing a DataBlock"
   ]
  },
  {
   "cell_type": "markdown",
   "metadata": {},
   "source": [
    "**How do we convert from a `DataFrame` object to a `DataLoaders` object?** We generally **suggest using the data block API for creating a `DataLoaders` object**, where possible, since it provides a good mix of flexibility and simplicity. Here we will show you the steps that we take to use the data blocks API to construct a `DataLoaders` object in practice, using this dataset as an example.\n",
    "\n",
    "**As we have seen, PyTorch and fastai have two main classes for representing and accessing a training set or validation set:**\n",
    "\n",
    "- *`Dataset`:: A collection that **returns a tuple** of your independent and dependent variable for a **single item**.*\n",
    "- *`DataLoader`:: An **iterator that provides a stream of mini-batches,** where **each mini-batch is a tuple of a batch of independent variables and a batch of dependent variables**.*"
   ]
  },
  {
   "cell_type": "markdown",
   "metadata": {},
   "source": [
    "**On top of these, fastai provides two classes for bringing your training and validation sets together:**\n",
    "\n",
    "- **`Datasets`**:: An object that **contains a training `Dataset` and a validation `Dataset`**\n",
    "- **`DataLoaders`**:: An object that **contains a training `DataLoader` and a validation `DataLoader`**\n",
    "\n",
    "**Since a `DataLoader` builds on top of a `Dataset` and adds additional functionality to it (collating multiple items into a mini-batch), it’s often easiest to start by creating and testing `Datasets`, and then look at `DataLoaders` after that’s working.**"
   ]
  },
  {
   "cell_type": "markdown",
   "metadata": {},
   "source": [
    "When we create a `DataBlock`, we build up gradually, step by step, and use the notebook to check our data along the way. This is a great way to make sure that you maintain momentum as you are coding, and that you keep an eye out for any problems. It’s easy to debug, because you know that if a problem arises, it is in the line of code you just typed!\n",
    "\n",
    "Let’s start with the simplest case, which is a data block created with no parameters:"
   ]
  },
  {
   "cell_type": "markdown",
   "metadata": {},
   "source": [
    "#### datablock is at same level of dataloaders or datasets? --> datablock is made to build dataloaders (and also datasets?"
   ]
  },
  {
   "cell_type": "code",
   "execution_count": 11,
   "metadata": {},
   "outputs": [],
   "source": [
    "dblock = DataBlock()\n",
    "# nothing is passed extra kyuki default parameters hote hi honge"
   ]
  },
  {
   "cell_type": "markdown",
   "metadata": {},
   "source": [
    "We can create a `Datasets` object from this. The only thing needed is a source—in this case, our DataFrame:"
   ]
  },
  {
   "cell_type": "code",
   "execution_count": 12,
   "metadata": {},
   "outputs": [],
   "source": [
    "dsets = dblock.datasets(df)"
   ]
  },
  {
   "cell_type": "markdown",
   "metadata": {},
   "source": [
    "This contains a `train` and a `valid` dataset, which we can index into:"
   ]
  },
  {
   "cell_type": "code",
   "execution_count": 13,
   "metadata": {},
   "outputs": [
    {
     "data": {
      "text/plain": [
       "(4009, 1002)"
      ]
     },
     "execution_count": 13,
     "metadata": {},
     "output_type": "execute_result"
    }
   ],
   "source": [
    "len(dsets.train),len(dsets.valid)"
   ]
  },
  {
   "cell_type": "code",
   "execution_count": 14,
   "metadata": {},
   "outputs": [
    {
     "data": {
      "text/plain": [
       "(fastai.data.core.Datasets, tuple)"
      ]
     },
     "execution_count": 14,
     "metadata": {},
     "output_type": "execute_result"
    }
   ],
   "source": [
    "type(dsets), type(dsets[0])\n",
    "# remember datasets returns a tuple"
   ]
  },
  {
   "cell_type": "code",
   "execution_count": 15,
   "metadata": {},
   "outputs": [
    {
     "data": {
      "text/plain": [
       "(fname       000005.jpg\n",
       " labels           chair\n",
       " is_valid          True\n",
       " Name: 0, dtype: object,\n",
       " fname       000005.jpg\n",
       " labels           chair\n",
       " is_valid          True\n",
       " Name: 0, dtype: object)"
      ]
     },
     "execution_count": 15,
     "metadata": {},
     "output_type": "execute_result"
    }
   ],
   "source": [
    "dsets[0]"
   ]
  },
  {
   "cell_type": "code",
   "execution_count": 16,
   "metadata": {
    "scrolled": true
   },
   "outputs": [
    {
     "data": {
      "text/plain": [
       "(fname       008663.jpg\n",
       " labels      car person\n",
       " is_valid         False\n",
       " Name: 4346, dtype: object,\n",
       " '\\n',\n",
       " fname       008663.jpg\n",
       " labels      car person\n",
       " is_valid         False\n",
       " Name: 4346, dtype: object)"
      ]
     },
     "execution_count": 16,
     "metadata": {},
     "output_type": "execute_result"
    }
   ],
   "source": [
    "# training data ka pehla item hai, \n",
    "# training nahi kar rahe!\n",
    "x,y = dsets.train[0]\n",
    "x,'\\n',y"
   ]
  },
  {
   "cell_type": "markdown",
   "metadata": {},
   "source": [
    "**As you can see, this simply returns a row of the DataFrame, twice. This is because by default, the data block assumes we have two things: input and target. We are going to need to grab the appropriate fields from the DataFrame, which we can do by passing `get_x` and `get_y` functions:**"
   ]
  },
  {
   "cell_type": "code",
   "execution_count": 17,
   "metadata": {},
   "outputs": [
    {
     "data": {
      "text/plain": [
       "'008663.jpg'"
      ]
     },
     "execution_count": 17,
     "metadata": {},
     "output_type": "execute_result"
    }
   ],
   "source": [
    "x['fname']"
   ]
  },
  {
   "cell_type": "markdown",
   "metadata": {},
   "source": [
    "### now it is nice!"
   ]
  },
  {
   "cell_type": "code",
   "execution_count": 18,
   "metadata": {},
   "outputs": [
    {
     "data": {
      "text/plain": [
       "('005620.jpg', 'aeroplane')"
      ]
     },
     "execution_count": 18,
     "metadata": {},
     "output_type": "execute_result"
    }
   ],
   "source": [
    "dblock = DataBlock(get_x = lambda r: r['fname'], get_y = lambda r: r['labels'])\n",
    "dsets = dblock.datasets(df)\n",
    "dsets.train[0]"
   ]
  },
  {
   "cell_type": "markdown",
   "metadata": {},
   "source": [
    "As you can see, rather than defining a function in the usual way, we are using Python’s `lambda` keyword. This is just a shortcut for defining and then referring to a function. The following more verbose approach is identical:"
   ]
  },
  {
   "cell_type": "code",
   "execution_count": 19,
   "metadata": {},
   "outputs": [
    {
     "data": {
      "text/plain": [
       "('002549.jpg', 'tvmonitor')"
      ]
     },
     "execution_count": 19,
     "metadata": {},
     "output_type": "execute_result"
    }
   ],
   "source": [
    "def fun_get_x(r): return r['fname']\n",
    "def fun_get_y(r): return r['labels']\n",
    "dblock = DataBlock(get_x = fun_get_x, get_y = fun_get_y)\n",
    "dsets = dblock.datasets(df)\n",
    "dsets.train[0]"
   ]
  },
  {
   "cell_type": "markdown",
   "metadata": {},
   "source": [
    "**Lambda functions are great for quickly iterating, but they are not compatible with serialization, so we advise you to use the more verbose approach if you want to export your `Learner` after training** (lambdas are fine if you are just experimenting)."
   ]
  },
  {
   "cell_type": "markdown",
   "metadata": {},
   "source": [
    "**We can see that the independent variable will need to be converted into a complete path, so that we can open it as an image,** and **the dependent variable will need to be split on the space character (which is the default for Python’s `split` function) so that it becomes a list:**"
   ]
  },
  {
   "cell_type": "markdown",
   "metadata": {},
   "source": [
    "### dependent label should become a list!"
   ]
  },
  {
   "cell_type": "code",
   "execution_count": 20,
   "metadata": {},
   "outputs": [
    {
     "data": {
      "text/plain": [
       "(Path('Multicat_Data/train/002868.jpg'), ['cow', 'bird'])"
      ]
     },
     "execution_count": 20,
     "metadata": {},
     "output_type": "execute_result"
    }
   ],
   "source": [
    "def get_x(r): return path/'train'/r['fname']\n",
    "def get_y(r): return r['labels'].split(' ')\n",
    "dblock = DataBlock(get_x = get_x, get_y = get_y)\n",
    "dsets = dblock.datasets(df)\n",
    "dsets.train[5]"
   ]
  },
  {
   "cell_type": "markdown",
   "metadata": {},
   "source": [
    "### oh yesss... convert category to tensor and also open the img"
   ]
  },
  {
   "cell_type": "markdown",
   "metadata": {},
   "source": [
    "**To actually open the image and do the conversion to tensors, we will need to use a set of transforms; block types will provide us with those.** We can use the same block types that we have used previously, with one exception: the **`ImageBlock` will work fine again, because we have a path that points to a valid image,** but the **`CategoryBlock` is not going to work. The problem is that block returns a single integer, but we need to be able to have multiple labels for each item. To solve this, we use a `MultiCategoryBlock`.** This type of block expects to receive a list of strings, as we have in this case, so let’s test it out:"
   ]
  },
  {
   "cell_type": "markdown",
   "metadata": {},
   "source": [
    "#### image ki path ke jagah bataya hai wo rgb and size\n",
    "#### yaha dog likhne ki jagah tensor diya hai, jo apne place pe category wale pe 1 deta hai\n",
    "#### note that even this result is a tuple as x,y\n",
    "### blocks are always input- output"
   ]
  },
  {
   "cell_type": "code",
   "execution_count": 21,
   "metadata": {},
   "outputs": [
    {
     "data": {
      "text/plain": [
       "(['aeroplane', 'bicycle', 'bird', 'boat', 'bottle', 'bus', 'car', 'cat', 'chair', 'cow', 'diningtable', 'dog', 'horse', 'motorbike', 'person', 'pottedplant', 'sheep', 'sofa', 'train', 'tvmonitor'],\n",
       " ['aeroplane', 'bicycle', 'bird', 'boat', 'bottle', 'bus', 'car', 'cat', 'chair', 'cow', 'diningtable', 'dog', 'horse', 'motorbike', 'person', 'pottedplant', 'sheep', 'sofa', 'train', 'tvmonitor'],\n",
       " (PILImage mode=RGB size=500x375,\n",
       "  TensorMultiCategory([0., 0., 0., 0., 0., 0., 0., 0., 0., 0., 0., 1., 0., 0., 0., 0., 0., 0., 0., 0.])))"
      ]
     },
     "execution_count": 21,
     "metadata": {},
     "output_type": "execute_result"
    }
   ],
   "source": [
    "dblock = DataBlock(blocks=(ImageBlock, MultiCategoryBlock),\n",
    "                   get_x = get_x, get_y = get_y)\n",
    "dsets = dblock.datasets(df)\n",
    "dsets.vocab, dsets.train.vocab, dsets.train[0]"
   ]
  },
  {
   "cell_type": "markdown",
   "metadata": {},
   "source": [
    "As you can see, our list of categories is not encoded in the same way that it was for the regular `CategoryBlock`. In that case, we had a single integer representing which category was present, based on its location in our vocab. **In this case, however, we instead have a list of zeros, with a one in any position where that category is present. For example, if there is a one in the second and fourth positions, then that means that vocab items two and four are present in this image. This is known as *one-hot encoding*. The reason we can’t easily just use a list of category indices is that each list would be a different length, and PyTorch requires tensors, where everything has to be the same length.**"
   ]
  },
  {
   "cell_type": "markdown",
   "metadata": {},
   "source": [
    "> jargon: **One-hot encoding: Using a vector of zeros, with a one in each location that is represented in the data, to encode a list of integers.**"
   ]
  },
  {
   "cell_type": "markdown",
   "metadata": {},
   "source": [
    "Let’s check what the categories represent for this example (we are using the convenient `torch.where` function, which tells us all of the indices where our condition is true or false):"
   ]
  },
  {
   "cell_type": "markdown",
   "metadata": {},
   "source": [
    "#### remember ki dsets.train[0] returns at tuple with 2 things. second item has tensor of multicategories"
   ]
  },
  {
   "cell_type": "code",
   "execution_count": 22,
   "metadata": {},
   "outputs": [
    {
     "data": {
      "text/plain": [
       "(['aeroplane', 'bicycle', 'bird', 'boat', 'bottle', 'bus', 'car', 'cat', 'chair', 'cow', 'diningtable', 'dog', 'horse', 'motorbike', 'person', 'pottedplant', 'sheep', 'sofa', 'train', 'tvmonitor'],\n",
       " (TensorMultiCategory([11]),),\n",
       " (#1) ['dog'])"
      ]
     },
     "execution_count": 22,
     "metadata": {},
     "output_type": "execute_result"
    }
   ],
   "source": [
    "aa = torch.where(dsets.train[0][1] ==1.) #jo bhi catego ries match hote hai\n",
    "idxs = torch.where(dsets.train[0][1]==1.)[0]\n",
    "\n",
    "dsets.train.vocab, aa, dsets.train.vocab[idxs]"
   ]
  },
  {
   "cell_type": "markdown",
   "metadata": {},
   "source": [
    "With NumPy arrays, PyTorch tensors, and fastai’s `L` class, we can index directly using a list or vector, which makes a lot of code (such as this example) much clearer and more concise.\n",
    "\n",
    "We have ignored the column `is_valid` up until now, which means that `DataBlock` has been using a random split by default. **To explicitly choose the elements of our validation set, we need to write a function and pass it to `splitter` (or use one of fastai's predefined functions or classes). It will take the items (here our whole DataFrame) and must return two (or more) lists of integers:**"
   ]
  },
  {
   "cell_type": "code",
   "execution_count": 23,
   "metadata": {},
   "outputs": [
    {
     "data": {
      "text/plain": [
       "0        True\n",
       "1        True\n",
       "2        True\n",
       "3       False\n",
       "4        True\n",
       "        ...  \n",
       "5006     True\n",
       "5007     True\n",
       "5008     True\n",
       "5009    False\n",
       "5010    False\n",
       "Name: is_valid, Length: 5011, dtype: bool"
      ]
     },
     "execution_count": 23,
     "metadata": {},
     "output_type": "execute_result"
    }
   ],
   "source": [
    "df['is_valid']"
   ]
  },
  {
   "cell_type": "code",
   "execution_count": 24,
   "metadata": {},
   "outputs": [
    {
     "data": {
      "text/plain": [
       "(Int64Index([   0,    1,    2,    4,    6,    7,    8,   10,   12,   18,\n",
       "             ...\n",
       "             4992, 4994, 4995, 4997, 5002, 5003, 5005, 5006, 5007, 5008],\n",
       "            dtype='int64', length=2510),\n",
       " 2510,\n",
       " 5011)"
      ]
     },
     "execution_count": 24,
     "metadata": {},
     "output_type": "execute_result"
    }
   ],
   "source": [
    "df.index[df['is_valid']],len(df.index[df['is_valid']] ), len(df)"
   ]
  },
  {
   "cell_type": "markdown",
   "metadata": {},
   "source": [
    "### means 2510 have is_valid as true,  5011-2510 = 2501 have it as false\n",
    "### apparently is_valid ka yahi kaam tha!"
   ]
  },
  {
   "cell_type": "code",
   "execution_count": 25,
   "metadata": {},
   "outputs": [
    {
     "data": {
      "text/plain": [
       "(<bound method IndexOpsMixin.tolist of Int64Index([   0,    1,    2,    4,    6,    7,    8,   10,   12,   18,\n",
       "             ...\n",
       "             4992, 4994, 4995, 4997, 5002, 5003, 5005, 5006, 5007, 5008],\n",
       "            dtype='int64', length=2510)>,\n",
       " [0,\n",
       "  1,\n",
       "  2,\n",
       "  4,\n",
       "  6,\n",
       "  7,\n",
       "  8,\n",
       "  10,\n",
       "  12,\n",
       "  18,\n",
       "  19,\n",
       "  22,\n",
       "  25,\n",
       "  26,\n",
       "  27,\n",
       "  28,\n",
       "  30,\n",
       "  32,\n",
       "  34,\n",
       "  38,\n",
       "  42,\n",
       "  43,\n",
       "  44,\n",
       "  45,\n",
       "  46,\n",
       "  48,\n",
       "  49,\n",
       "  50,\n",
       "  52,\n",
       "  53,\n",
       "  54,\n",
       "  55,\n",
       "  56,\n",
       "  58,\n",
       "  59,\n",
       "  61,\n",
       "  62,\n",
       "  63,\n",
       "  69,\n",
       "  70,\n",
       "  71,\n",
       "  73,\n",
       "  76,\n",
       "  77,\n",
       "  83,\n",
       "  84,\n",
       "  85,\n",
       "  89,\n",
       "  90,\n",
       "  91,\n",
       "  94,\n",
       "  100,\n",
       "  102,\n",
       "  104,\n",
       "  105,\n",
       "  106,\n",
       "  107,\n",
       "  108,\n",
       "  111,\n",
       "  113,\n",
       "  116,\n",
       "  117,\n",
       "  118,\n",
       "  120,\n",
       "  121,\n",
       "  123,\n",
       "  124,\n",
       "  125,\n",
       "  126,\n",
       "  128,\n",
       "  130,\n",
       "  134,\n",
       "  135,\n",
       "  136,\n",
       "  137,\n",
       "  138,\n",
       "  142,\n",
       "  144,\n",
       "  147,\n",
       "  148,\n",
       "  149,\n",
       "  150,\n",
       "  151,\n",
       "  154,\n",
       "  158,\n",
       "  160,\n",
       "  161,\n",
       "  162,\n",
       "  164,\n",
       "  165,\n",
       "  167,\n",
       "  169,\n",
       "  171,\n",
       "  172,\n",
       "  173,\n",
       "  177,\n",
       "  178,\n",
       "  181,\n",
       "  185,\n",
       "  186,\n",
       "  188,\n",
       "  189,\n",
       "  195,\n",
       "  197,\n",
       "  201,\n",
       "  204,\n",
       "  205,\n",
       "  206,\n",
       "  207,\n",
       "  208,\n",
       "  209,\n",
       "  212,\n",
       "  213,\n",
       "  215,\n",
       "  216,\n",
       "  218,\n",
       "  221,\n",
       "  222,\n",
       "  223,\n",
       "  224,\n",
       "  226,\n",
       "  233,\n",
       "  234,\n",
       "  235,\n",
       "  237,\n",
       "  239,\n",
       "  240,\n",
       "  241,\n",
       "  243,\n",
       "  244,\n",
       "  245,\n",
       "  246,\n",
       "  249,\n",
       "  250,\n",
       "  251,\n",
       "  252,\n",
       "  256,\n",
       "  258,\n",
       "  263,\n",
       "  264,\n",
       "  267,\n",
       "  269,\n",
       "  271,\n",
       "  278,\n",
       "  279,\n",
       "  282,\n",
       "  283,\n",
       "  284,\n",
       "  286,\n",
       "  289,\n",
       "  292,\n",
       "  293,\n",
       "  294,\n",
       "  296,\n",
       "  298,\n",
       "  300,\n",
       "  301,\n",
       "  305,\n",
       "  306,\n",
       "  310,\n",
       "  311,\n",
       "  312,\n",
       "  314,\n",
       "  316,\n",
       "  318,\n",
       "  319,\n",
       "  320,\n",
       "  321,\n",
       "  324,\n",
       "  325,\n",
       "  326,\n",
       "  328,\n",
       "  329,\n",
       "  331,\n",
       "  334,\n",
       "  335,\n",
       "  339,\n",
       "  340,\n",
       "  341,\n",
       "  345,\n",
       "  346,\n",
       "  347,\n",
       "  348,\n",
       "  349,\n",
       "  351,\n",
       "  353,\n",
       "  356,\n",
       "  359,\n",
       "  360,\n",
       "  361,\n",
       "  362,\n",
       "  363,\n",
       "  366,\n",
       "  367,\n",
       "  368,\n",
       "  370,\n",
       "  375,\n",
       "  376,\n",
       "  378,\n",
       "  379,\n",
       "  380,\n",
       "  381,\n",
       "  382,\n",
       "  383,\n",
       "  384,\n",
       "  386,\n",
       "  388,\n",
       "  389,\n",
       "  390,\n",
       "  391,\n",
       "  394,\n",
       "  395,\n",
       "  398,\n",
       "  399,\n",
       "  400,\n",
       "  405,\n",
       "  410,\n",
       "  411,\n",
       "  412,\n",
       "  413,\n",
       "  414,\n",
       "  416,\n",
       "  417,\n",
       "  421,\n",
       "  422,\n",
       "  423,\n",
       "  426,\n",
       "  427,\n",
       "  430,\n",
       "  432,\n",
       "  433,\n",
       "  434,\n",
       "  435,\n",
       "  436,\n",
       "  437,\n",
       "  438,\n",
       "  439,\n",
       "  444,\n",
       "  445,\n",
       "  450,\n",
       "  454,\n",
       "  457,\n",
       "  458,\n",
       "  460,\n",
       "  461,\n",
       "  462,\n",
       "  463,\n",
       "  465,\n",
       "  466,\n",
       "  467,\n",
       "  469,\n",
       "  471,\n",
       "  472,\n",
       "  473,\n",
       "  474,\n",
       "  484,\n",
       "  485,\n",
       "  486,\n",
       "  489,\n",
       "  499,\n",
       "  501,\n",
       "  504,\n",
       "  507,\n",
       "  508,\n",
       "  510,\n",
       "  511,\n",
       "  513,\n",
       "  514,\n",
       "  516,\n",
       "  518,\n",
       "  519,\n",
       "  520,\n",
       "  523,\n",
       "  524,\n",
       "  526,\n",
       "  528,\n",
       "  530,\n",
       "  532,\n",
       "  537,\n",
       "  538,\n",
       "  539,\n",
       "  540,\n",
       "  541,\n",
       "  542,\n",
       "  544,\n",
       "  545,\n",
       "  547,\n",
       "  548,\n",
       "  549,\n",
       "  553,\n",
       "  554,\n",
       "  555,\n",
       "  559,\n",
       "  560,\n",
       "  562,\n",
       "  563,\n",
       "  564,\n",
       "  565,\n",
       "  567,\n",
       "  568,\n",
       "  571,\n",
       "  574,\n",
       "  575,\n",
       "  576,\n",
       "  577,\n",
       "  579,\n",
       "  583,\n",
       "  584,\n",
       "  586,\n",
       "  587,\n",
       "  588,\n",
       "  589,\n",
       "  591,\n",
       "  593,\n",
       "  594,\n",
       "  595,\n",
       "  596,\n",
       "  599,\n",
       "  602,\n",
       "  605,\n",
       "  606,\n",
       "  607,\n",
       "  608,\n",
       "  612,\n",
       "  613,\n",
       "  615,\n",
       "  619,\n",
       "  620,\n",
       "  622,\n",
       "  623,\n",
       "  625,\n",
       "  626,\n",
       "  628,\n",
       "  629,\n",
       "  633,\n",
       "  635,\n",
       "  636,\n",
       "  638,\n",
       "  639,\n",
       "  640,\n",
       "  642,\n",
       "  643,\n",
       "  644,\n",
       "  645,\n",
       "  646,\n",
       "  648,\n",
       "  652,\n",
       "  653,\n",
       "  657,\n",
       "  659,\n",
       "  663,\n",
       "  667,\n",
       "  668,\n",
       "  669,\n",
       "  673,\n",
       "  674,\n",
       "  675,\n",
       "  676,\n",
       "  677,\n",
       "  680,\n",
       "  681,\n",
       "  683,\n",
       "  686,\n",
       "  687,\n",
       "  692,\n",
       "  693,\n",
       "  700,\n",
       "  707,\n",
       "  708,\n",
       "  711,\n",
       "  712,\n",
       "  714,\n",
       "  715,\n",
       "  716,\n",
       "  722,\n",
       "  723,\n",
       "  724,\n",
       "  725,\n",
       "  726,\n",
       "  727,\n",
       "  730,\n",
       "  731,\n",
       "  734,\n",
       "  736,\n",
       "  740,\n",
       "  742,\n",
       "  744,\n",
       "  749,\n",
       "  750,\n",
       "  752,\n",
       "  756,\n",
       "  757,\n",
       "  762,\n",
       "  764,\n",
       "  765,\n",
       "  767,\n",
       "  768,\n",
       "  769,\n",
       "  770,\n",
       "  772,\n",
       "  773,\n",
       "  778,\n",
       "  780,\n",
       "  781,\n",
       "  783,\n",
       "  786,\n",
       "  788,\n",
       "  792,\n",
       "  794,\n",
       "  795,\n",
       "  798,\n",
       "  802,\n",
       "  803,\n",
       "  804,\n",
       "  807,\n",
       "  809,\n",
       "  812,\n",
       "  813,\n",
       "  814,\n",
       "  816,\n",
       "  820,\n",
       "  826,\n",
       "  828,\n",
       "  829,\n",
       "  831,\n",
       "  834,\n",
       "  835,\n",
       "  837,\n",
       "  839,\n",
       "  840,\n",
       "  848,\n",
       "  851,\n",
       "  852,\n",
       "  853,\n",
       "  854,\n",
       "  856,\n",
       "  863,\n",
       "  864,\n",
       "  865,\n",
       "  869,\n",
       "  870,\n",
       "  877,\n",
       "  878,\n",
       "  879,\n",
       "  881,\n",
       "  883,\n",
       "  884,\n",
       "  885,\n",
       "  888,\n",
       "  889,\n",
       "  890,\n",
       "  891,\n",
       "  893,\n",
       "  895,\n",
       "  898,\n",
       "  899,\n",
       "  902,\n",
       "  904,\n",
       "  906,\n",
       "  909,\n",
       "  912,\n",
       "  915,\n",
       "  916,\n",
       "  919,\n",
       "  921,\n",
       "  923,\n",
       "  926,\n",
       "  927,\n",
       "  928,\n",
       "  929,\n",
       "  931,\n",
       "  932,\n",
       "  933,\n",
       "  938,\n",
       "  939,\n",
       "  944,\n",
       "  945,\n",
       "  947,\n",
       "  948,\n",
       "  950,\n",
       "  953,\n",
       "  954,\n",
       "  955,\n",
       "  956,\n",
       "  957,\n",
       "  960,\n",
       "  962,\n",
       "  964,\n",
       "  968,\n",
       "  970,\n",
       "  972,\n",
       "  973,\n",
       "  975,\n",
       "  976,\n",
       "  981,\n",
       "  986,\n",
       "  991,\n",
       "  994,\n",
       "  996,\n",
       "  997,\n",
       "  998,\n",
       "  999,\n",
       "  1002,\n",
       "  1004,\n",
       "  1009,\n",
       "  1013,\n",
       "  1016,\n",
       "  1018,\n",
       "  1019,\n",
       "  1020,\n",
       "  1023,\n",
       "  1024,\n",
       "  1025,\n",
       "  1026,\n",
       "  1027,\n",
       "  1028,\n",
       "  1029,\n",
       "  1030,\n",
       "  1033,\n",
       "  1034,\n",
       "  1035,\n",
       "  1036,\n",
       "  1039,\n",
       "  1040,\n",
       "  1041,\n",
       "  1045,\n",
       "  1046,\n",
       "  1048,\n",
       "  1051,\n",
       "  1052,\n",
       "  1054,\n",
       "  1055,\n",
       "  1056,\n",
       "  1057,\n",
       "  1059,\n",
       "  1064,\n",
       "  1065,\n",
       "  1067,\n",
       "  1069,\n",
       "  1071,\n",
       "  1076,\n",
       "  1078,\n",
       "  1079,\n",
       "  1082,\n",
       "  1090,\n",
       "  1091,\n",
       "  1093,\n",
       "  1095,\n",
       "  1096,\n",
       "  1098,\n",
       "  1100,\n",
       "  1103,\n",
       "  1104,\n",
       "  1105,\n",
       "  1110,\n",
       "  1112,\n",
       "  1114,\n",
       "  1118,\n",
       "  1119,\n",
       "  1121,\n",
       "  1122,\n",
       "  1124,\n",
       "  1125,\n",
       "  1126,\n",
       "  1127,\n",
       "  1128,\n",
       "  1129,\n",
       "  1130,\n",
       "  1132,\n",
       "  1135,\n",
       "  1137,\n",
       "  1139,\n",
       "  1140,\n",
       "  1143,\n",
       "  1144,\n",
       "  1145,\n",
       "  1148,\n",
       "  1156,\n",
       "  1157,\n",
       "  1158,\n",
       "  1159,\n",
       "  1160,\n",
       "  1161,\n",
       "  1164,\n",
       "  1165,\n",
       "  1167,\n",
       "  1168,\n",
       "  1170,\n",
       "  1172,\n",
       "  1176,\n",
       "  1178,\n",
       "  1179,\n",
       "  1180,\n",
       "  1182,\n",
       "  1183,\n",
       "  1184,\n",
       "  1186,\n",
       "  1187,\n",
       "  1188,\n",
       "  1189,\n",
       "  1190,\n",
       "  1191,\n",
       "  1193,\n",
       "  1194,\n",
       "  1195,\n",
       "  1197,\n",
       "  1200,\n",
       "  1202,\n",
       "  1206,\n",
       "  1207,\n",
       "  1211,\n",
       "  1212,\n",
       "  1214,\n",
       "  1216,\n",
       "  1218,\n",
       "  1221,\n",
       "  1224,\n",
       "  1225,\n",
       "  1226,\n",
       "  1227,\n",
       "  1229,\n",
       "  1230,\n",
       "  1232,\n",
       "  1236,\n",
       "  1239,\n",
       "  1240,\n",
       "  1242,\n",
       "  1247,\n",
       "  1248,\n",
       "  1249,\n",
       "  1252,\n",
       "  1256,\n",
       "  1257,\n",
       "  1258,\n",
       "  1260,\n",
       "  1264,\n",
       "  1265,\n",
       "  1266,\n",
       "  1267,\n",
       "  1268,\n",
       "  1271,\n",
       "  1273,\n",
       "  1274,\n",
       "  1277,\n",
       "  1279,\n",
       "  1284,\n",
       "  1285,\n",
       "  1287,\n",
       "  1288,\n",
       "  1289,\n",
       "  1293,\n",
       "  1295,\n",
       "  1296,\n",
       "  1297,\n",
       "  1298,\n",
       "  1300,\n",
       "  1303,\n",
       "  1305,\n",
       "  1307,\n",
       "  1308,\n",
       "  1311,\n",
       "  1312,\n",
       "  1313,\n",
       "  1314,\n",
       "  1317,\n",
       "  1318,\n",
       "  1321,\n",
       "  1322,\n",
       "  1323,\n",
       "  1324,\n",
       "  1326,\n",
       "  1329,\n",
       "  1331,\n",
       "  1332,\n",
       "  1333,\n",
       "  1337,\n",
       "  1338,\n",
       "  1340,\n",
       "  1341,\n",
       "  1342,\n",
       "  1343,\n",
       "  1348,\n",
       "  1349,\n",
       "  1351,\n",
       "  1352,\n",
       "  1353,\n",
       "  1355,\n",
       "  1358,\n",
       "  1359,\n",
       "  1362,\n",
       "  1364,\n",
       "  1365,\n",
       "  1366,\n",
       "  1368,\n",
       "  1369,\n",
       "  1371,\n",
       "  1372,\n",
       "  1376,\n",
       "  1379,\n",
       "  1381,\n",
       "  1385,\n",
       "  1386,\n",
       "  1390,\n",
       "  1391,\n",
       "  1393,\n",
       "  1394,\n",
       "  1399,\n",
       "  1400,\n",
       "  1401,\n",
       "  1403,\n",
       "  1406,\n",
       "  1407,\n",
       "  1409,\n",
       "  1412,\n",
       "  1413,\n",
       "  1414,\n",
       "  1419,\n",
       "  1420,\n",
       "  1422,\n",
       "  1423,\n",
       "  1424,\n",
       "  1426,\n",
       "  1429,\n",
       "  1431,\n",
       "  1434,\n",
       "  1442,\n",
       "  1443,\n",
       "  1444,\n",
       "  1446,\n",
       "  1447,\n",
       "  1448,\n",
       "  1449,\n",
       "  1450,\n",
       "  1451,\n",
       "  1453,\n",
       "  1455,\n",
       "  1456,\n",
       "  1457,\n",
       "  1459,\n",
       "  1460,\n",
       "  1461,\n",
       "  1463,\n",
       "  1465,\n",
       "  1466,\n",
       "  1468,\n",
       "  1470,\n",
       "  1472,\n",
       "  1473,\n",
       "  1474,\n",
       "  1475,\n",
       "  1476,\n",
       "  1477,\n",
       "  1478,\n",
       "  1479,\n",
       "  1481,\n",
       "  1485,\n",
       "  1487,\n",
       "  1488,\n",
       "  1489,\n",
       "  1490,\n",
       "  1494,\n",
       "  1495,\n",
       "  1496,\n",
       "  1497,\n",
       "  1503,\n",
       "  1505,\n",
       "  1508,\n",
       "  1509,\n",
       "  1511,\n",
       "  1512,\n",
       "  1515,\n",
       "  1516,\n",
       "  1517,\n",
       "  1518,\n",
       "  1521,\n",
       "  1522,\n",
       "  1523,\n",
       "  1525,\n",
       "  1526,\n",
       "  1528,\n",
       "  1529,\n",
       "  1533,\n",
       "  1534,\n",
       "  1535,\n",
       "  1536,\n",
       "  1539,\n",
       "  1540,\n",
       "  1542,\n",
       "  1545,\n",
       "  1546,\n",
       "  1549,\n",
       "  1551,\n",
       "  1552,\n",
       "  1554,\n",
       "  1555,\n",
       "  1556,\n",
       "  1558,\n",
       "  1565,\n",
       "  1567,\n",
       "  1568,\n",
       "  1569,\n",
       "  1570,\n",
       "  1573,\n",
       "  1574,\n",
       "  1575,\n",
       "  1579,\n",
       "  1582,\n",
       "  1588,\n",
       "  1593,\n",
       "  1595,\n",
       "  1598,\n",
       "  1600,\n",
       "  1601,\n",
       "  1602,\n",
       "  1607,\n",
       "  1609,\n",
       "  1610,\n",
       "  1611,\n",
       "  1612,\n",
       "  1613,\n",
       "  1617,\n",
       "  1618,\n",
       "  1620,\n",
       "  1622,\n",
       "  1623,\n",
       "  1624,\n",
       "  1625,\n",
       "  1626,\n",
       "  1631,\n",
       "  1634,\n",
       "  1637,\n",
       "  1640,\n",
       "  1641,\n",
       "  1642,\n",
       "  1646,\n",
       "  1649,\n",
       "  1650,\n",
       "  1652,\n",
       "  1657,\n",
       "  1660,\n",
       "  1661,\n",
       "  1662,\n",
       "  1663,\n",
       "  1664,\n",
       "  1665,\n",
       "  1667,\n",
       "  1669,\n",
       "  1670,\n",
       "  1671,\n",
       "  1673,\n",
       "  1674,\n",
       "  1677,\n",
       "  1683,\n",
       "  1686,\n",
       "  1691,\n",
       "  1692,\n",
       "  1697,\n",
       "  1700,\n",
       "  1701,\n",
       "  1705,\n",
       "  1706,\n",
       "  1707,\n",
       "  1711,\n",
       "  1712,\n",
       "  1714,\n",
       "  1715,\n",
       "  1717,\n",
       "  1719,\n",
       "  1722,\n",
       "  1725,\n",
       "  1728,\n",
       "  1730,\n",
       "  1731,\n",
       "  1734,\n",
       "  1738,\n",
       "  1739,\n",
       "  1740,\n",
       "  1742,\n",
       "  1744,\n",
       "  1745,\n",
       "  1746,\n",
       "  1747,\n",
       "  1748,\n",
       "  1749,\n",
       "  1750,\n",
       "  1752,\n",
       "  1753,\n",
       "  1754,\n",
       "  1760,\n",
       "  1771,\n",
       "  1772,\n",
       "  1773,\n",
       "  1774,\n",
       "  1778,\n",
       "  1780,\n",
       "  1781,\n",
       "  1782,\n",
       "  1784,\n",
       "  1789,\n",
       "  1791,\n",
       "  1794,\n",
       "  1795,\n",
       "  1799,\n",
       "  1802,\n",
       "  1804,\n",
       "  1805,\n",
       "  1806,\n",
       "  1808,\n",
       "  1813,\n",
       "  1816,\n",
       "  1818,\n",
       "  1819,\n",
       "  1822,\n",
       "  1827,\n",
       "  1830,\n",
       "  1831,\n",
       "  1832,\n",
       "  1833,\n",
       "  1838,\n",
       "  1839,\n",
       "  1840,\n",
       "  1841,\n",
       "  1843,\n",
       "  1845,\n",
       "  1849,\n",
       "  1850,\n",
       "  1852,\n",
       "  1853,\n",
       "  1854,\n",
       "  1858,\n",
       "  1859,\n",
       "  1861,\n",
       "  1862,\n",
       "  1865,\n",
       "  1869,\n",
       "  1872,\n",
       "  1873,\n",
       "  1874,\n",
       "  1875,\n",
       "  1878,\n",
       "  1879,\n",
       "  1880,\n",
       "  1881,\n",
       "  1882,\n",
       "  1889,\n",
       "  1892,\n",
       "  1893,\n",
       "  1896,\n",
       "  1899,\n",
       "  1901,\n",
       "  1903,\n",
       "  1905,\n",
       "  1910,\n",
       "  1912,\n",
       "  1913,\n",
       "  1915,\n",
       "  1916,\n",
       "  1919,\n",
       "  1920,\n",
       "  1922,\n",
       "  1925,\n",
       "  1926,\n",
       "  1928,\n",
       "  1934,\n",
       "  1935,\n",
       "  1936,\n",
       "  1937,\n",
       "  1938,\n",
       "  1940,\n",
       "  1942,\n",
       "  1944,\n",
       "  1948,\n",
       "  1951,\n",
       "  1952,\n",
       "  1953,\n",
       "  1954,\n",
       "  1956,\n",
       "  1957,\n",
       "  1959,\n",
       "  1960,\n",
       "  1964,\n",
       "  1965,\n",
       "  1968,\n",
       "  1970,\n",
       "  1973,\n",
       "  1974,\n",
       "  1975,\n",
       "  1977,\n",
       "  1978,\n",
       "  1979,\n",
       "  1983,\n",
       "  1985,\n",
       "  1987,\n",
       "  1988,\n",
       "  1989,\n",
       "  1992,\n",
       "  1994,\n",
       "  1995,\n",
       "  1997,\n",
       "  1998,\n",
       "  ...])"
      ]
     },
     "execution_count": 25,
     "metadata": {},
     "output_type": "execute_result"
    }
   ],
   "source": [
    "df.index[df['is_valid']].to_list, df.index[df['is_valid']].to_list()"
   ]
  },
  {
   "cell_type": "code",
   "execution_count": 26,
   "metadata": {},
   "outputs": [
    {
     "data": {
      "text/plain": [
       "(PILImage mode=RGB size=500x333,\n",
       " TensorMultiCategory([0., 0., 0., 0., 0., 0., 1., 0., 0., 0., 0., 0., 0., 0., 0., 0., 0., 0., 0., 0.]))"
      ]
     },
     "execution_count": 26,
     "metadata": {},
     "output_type": "execute_result"
    }
   ],
   "source": [
    "def splitter(df):\n",
    "    train = df.index[~df['is_valid']].tolist()\n",
    "    valid = df.index[df['is_valid']].tolist()\n",
    "    return train,valid\n",
    "\n",
    "dblock = DataBlock(blocks=(ImageBlock, MultiCategoryBlock),\n",
    "                   splitter=splitter,\n",
    "                   get_x=get_x, \n",
    "                   get_y=get_y)\n",
    "\n",
    "dsets = dblock.datasets(df)\n",
    "dsets.train[0]"
   ]
  },
  {
   "cell_type": "markdown",
   "metadata": {},
   "source": [
    "As we have discussed, a **`DataLoader` collates the items from a `Dataset` into a mini-batch. This is a tuple of tensors, where each tensor simply stacks the items from that location in the `Dataset` item.**\n",
    "\n",
    "Now that we have confirmed that the individual items look okay, there's one more step we need to ensure we can create our `DataLoaders`, which is to **ensure that every item is of the same size.** To do this, we can use `RandomResizedCrop`:"
   ]
  },
  {
   "cell_type": "markdown",
   "metadata": {},
   "source": [
    "### this is some beautiful build up!"
   ]
  },
  {
   "cell_type": "code",
   "execution_count": 27,
   "metadata": {},
   "outputs": [],
   "source": [
    "dblock = DataBlock(blocks=(ImageBlock, MultiCategoryBlock),\n",
    "                   splitter=splitter,\n",
    "                   get_x=get_x, \n",
    "                   get_y=get_y,\n",
    "                   item_tfms = RandomResizedCrop(128, min_scale=0.35))\n",
    "dls = dblock.dataloaders(df)"
   ]
  },
  {
   "cell_type": "markdown",
   "metadata": {},
   "source": [
    "### all famous dls is up!!"
   ]
  },
  {
   "cell_type": "markdown",
   "metadata": {},
   "source": [
    "And now we can display a sample of our data:"
   ]
  },
  {
   "cell_type": "markdown",
   "metadata": {},
   "source": [
    "### yaad rakhe ki multiple categories were taken care of in the tensor!!"
   ]
  },
  {
   "cell_type": "code",
   "execution_count": 28,
   "metadata": {},
   "outputs": [
    {
     "data": {
      "image/png": "[encoded data removed]",
      "text/plain": [
       "<Figure size 648x216 with 3 Axes>"
      ]
     },
     "metadata": {
      "needs_background": "light"
     },
     "output_type": "display_data"
    }
   ],
   "source": [
    "dls.show_batch(nrows=1, ncols=3)"
   ]
  },
  {
   "cell_type": "markdown",
   "metadata": {},
   "source": [
    "Remember that if anything goes wrong when you create your `DataLoaders` from your `DataBlock`, or if you want to view exactly what happens with your `DataBlock`, you can use the `summary` method we presented in the last chapter."
   ]
  },
  {
   "cell_type": "markdown",
   "metadata": {},
   "source": [
    "Our data is now ready for training a model. As we will see, **nothing is going to change when we create our `Learner`, but behind the scenes, the fastai library will pick a new loss function for us: binary cross-entropy.**"
   ]
  },
  {
   "cell_type": "markdown",
   "metadata": {},
   "source": [
    "### Binary Cross-Entropy"
   ]
  },
  {
   "cell_type": "markdown",
   "metadata": {},
   "source": [
    "Now we'll create our `Learner`. We saw in <<chapter_mnist_basics>> that a `Learner` object contains four main things: the model, a `DataLoaders` object, an `Optimizer`, and the loss function to use. We already have our `DataLoaders`, we can leverage fastai's `resnet` models (which we'll learn how to create from scratch later), and we know how to create an `SGD` optimizer. So let's focus on ensuring we have a suitable loss function. To do this, let's use `cnn_learner` to create a `Learner`, so we can look at its activations:"
   ]
  },
  {
   "cell_type": "code",
   "execution_count": 29,
   "metadata": {},
   "outputs": [],
   "source": [
    "learn = cnn_learner(dls, resnet18)"
   ]
  },
  {
   "cell_type": "markdown",
   "metadata": {},
   "source": [
    "We also saw that the **model in a `Learner` is generally an object of a class inheriting from `nn.Module`**, and that **we can call it using parentheses and it will return the activations of a model. You should pass it your independent variable, as a mini-batch. We can try it out by grabbing a mini batch from our `DataLoader` and then passing it to the model:**"
   ]
  },
  {
   "cell_type": "markdown",
   "metadata": {},
   "source": [
    "### since independent variable ko pass kar rahe hai, so activs ka shape should match with shape of y"
   ]
  },
  {
   "cell_type": "code",
   "execution_count": 30,
   "metadata": {},
   "outputs": [
    {
     "data": {
      "text/plain": [
       "torch.Size([64, 20])"
      ]
     },
     "execution_count": 30,
     "metadata": {},
     "output_type": "execute_result"
    }
   ],
   "source": [
    "x,y = to_cpu(dls.train.one_batch())\n",
    "activs = learn.model(x)\n",
    "activs.shape"
   ]
  },
  {
   "cell_type": "markdown",
   "metadata": {},
   "source": [
    "#### (64, 3, 128, 128) shape means 64 items, RGB channel so 3, 128x128 pixel size"
   ]
  },
  {
   "cell_type": "code",
   "execution_count": 31,
   "metadata": {},
   "outputs": [
    {
     "data": {
      "text/plain": [
       "((64, 3, 128, 128),\n",
       " TensorImage([[[[-1.9980, -2.0152, -2.0152,  ..., -1.8439, -1.9980, -1.9124],\n",
       "           [-1.9980, -1.9980, -1.9980,  ..., -1.9467, -1.9124, -1.6042],\n",
       "           [-1.9980, -1.9980, -2.0323,  ..., -1.9295, -1.6384, -0.8678],\n",
       "           ...,\n",
       "           [-1.1247, -1.1247, -1.1075,  ..., -1.4158, -1.4158, -1.4158],\n",
       "           [-1.1589, -1.1418, -1.1075,  ..., -1.4329, -1.4500, -1.4500],\n",
       "           [-1.1760, -1.1418, -1.1418,  ..., -1.4329, -1.4843, -1.4672]],\n",
       " \n",
       "          [[-1.9132, -1.9307, -1.9482,  ..., -1.7556, -1.9132, -1.8606],\n",
       "           [-1.9132, -1.9132, -1.9307,  ..., -1.8782, -1.8431, -1.6155],\n",
       "           [-1.9132, -1.9132, -1.9307,  ..., -1.8606, -1.6681, -1.0553],\n",
       "           ...,\n",
       "           [-1.7556, -1.7556, -1.7381,  ..., -1.8081, -1.8431, -1.8431],\n",
       "           [-1.7731, -1.7556, -1.7381,  ..., -1.8431, -1.8431, -1.8431],\n",
       "           [-1.7731, -1.7556, -1.7556,  ..., -1.8431, -1.8431, -1.8256]],\n",
       " \n",
       "          [[-1.6476, -1.6650, -1.6650,  ..., -1.5256, -1.6999, -1.5779],\n",
       "           [-1.6476, -1.6476, -1.6476,  ..., -1.6127, -1.6127, -1.3339],\n",
       "           [-1.6476, -1.6476, -1.6650,  ..., -1.6302, -1.4210, -0.7238],\n",
       "           ...,\n",
       "           [-1.3687, -1.3513, -1.3687,  ..., -1.5779, -1.5604, -1.5430],\n",
       "           [-1.3687, -1.3861, -1.4210,  ..., -1.5604, -1.5430, -1.5430],\n",
       "           [-1.3687, -1.3687, -1.4036,  ..., -1.5256, -1.5604, -1.5604]]],\n",
       " \n",
       " \n",
       "         [[[-1.8097, -1.5528, -1.0390,  ..., -1.7069, -1.9295, -1.8097],\n",
       "           [-1.8097, -1.6213, -1.2959,  ..., -1.7925, -1.8268, -1.7925],\n",
       "           [-1.9638, -1.8953, -1.6555,  ..., -1.7583, -1.8782, -1.8097],\n",
       "           ...,\n",
       "           [-1.8610, -1.8610, -1.8097,  ..., -0.9363, -1.0048, -1.0562],\n",
       "           [-1.8610, -1.8097, -1.8097,  ..., -1.0390, -1.0733, -1.0733],\n",
       "           [-1.8097, -1.7754, -1.8097,  ..., -1.0048, -0.9877, -0.9877]],\n",
       " \n",
       "          [[-1.8081, -1.6856, -1.3354,  ..., -1.7906, -1.8256, -1.8606],\n",
       "           [-1.8081, -1.6856, -1.5280,  ..., -1.8782, -1.8431, -1.8782],\n",
       "           [-1.8606, -1.8431, -1.7031,  ..., -1.8782, -1.8431, -1.8606],\n",
       "           ...,\n",
       "           [-1.8081, -1.8431, -1.7906,  ..., -1.4930, -1.5105, -1.4930],\n",
       "           [-1.8256, -1.8081, -1.7906,  ..., -1.5280, -1.5280, -1.4930],\n",
       "           [-1.8256, -1.8081, -1.8081,  ..., -1.4580, -1.4755, -1.4755]],\n",
       " \n",
       "          [[-1.6650, -1.6302, -1.4210,  ..., -1.6302, -1.7522, -1.6999],\n",
       "           [-1.6476, -1.5779, -1.5430,  ..., -1.6127, -1.7173, -1.7173],\n",
       "           [-1.6476, -1.6476, -1.5779,  ..., -1.6650, -1.7173, -1.7173],\n",
       "           ...,\n",
       "           [-1.6476, -1.6650, -1.6302,  ..., -1.5081, -1.5604, -1.5779],\n",
       "           [-1.6650, -1.6302, -1.6302,  ..., -1.5604, -1.5604, -1.5430],\n",
       "           [-1.6476, -1.6127, -1.6302,  ..., -1.5604, -1.5430, -1.5256]]],\n",
       " \n",
       " \n",
       "         [[[-0.5767, -0.5082, -0.4911,  ..., -0.2856, -0.3027, -0.3198],\n",
       "           [-0.6281, -0.5767, -0.4911,  ..., -0.2856, -0.2684, -0.2856],\n",
       "           [-0.5938, -0.5767, -0.5424,  ..., -0.2856, -0.2684, -0.2856],\n",
       "           ...,\n",
       "           [-0.0116, -0.1143, -0.0801,  ..., -0.0458, -0.0458, -0.0287],\n",
       "           [ 0.0056,  0.0227, -0.0629,  ..., -0.0629, -0.0287, -0.0458],\n",
       "           [-0.1143, -0.1486, -0.1486,  ...,  0.0227, -0.0116, -0.0458]],\n",
       " \n",
       "          [[ 0.8529,  0.8529,  0.8529,  ...,  0.9580,  0.9580,  0.9755],\n",
       "           [ 0.8704,  0.8880,  0.8704,  ...,  0.9230,  0.9230,  0.9580],\n",
       "           [ 0.8704,  0.9055,  0.9055,  ...,  0.9405,  0.9580,  0.9755],\n",
       "           ...,\n",
       "           [ 0.5553,  0.5903,  0.6078,  ...,  0.5203,  0.5028,  0.4853],\n",
       "           [ 0.5728,  0.6604,  0.6604,  ...,  0.5203,  0.5028,  0.5203],\n",
       "           [ 0.4678,  0.4853,  0.5028,  ...,  0.5553,  0.5378,  0.5378]],\n",
       " \n",
       "          [[ 1.5071,  1.5071,  1.5245,  ...,  1.5768,  1.5768,  1.5594],\n",
       "           [ 1.4897,  1.5071,  1.5420,  ...,  1.5420,  1.5594,  1.5768],\n",
       "           [ 1.5071,  1.5071,  1.5420,  ...,  1.5071,  1.5245,  1.5594],\n",
       "           ...,\n",
       "           [ 0.6531,  0.6879,  0.7925,  ...,  0.6705,  0.6531,  0.6356],\n",
       "           [ 0.7054,  0.7925,  0.7402,  ...,  0.6705,  0.6879,  0.6879],\n",
       "           [ 0.6008,  0.6182,  0.5659,  ...,  0.7054,  0.6879,  0.6879]]],\n",
       " \n",
       " \n",
       "         ...,\n",
       " \n",
       " \n",
       "         [[[-0.4568, -0.7993, -0.9363,  ..., -1.8439, -1.8097, -1.7754],\n",
       "           [-0.1314, -0.5082, -0.6965,  ..., -1.6898, -1.8097, -1.7754],\n",
       "           [-0.4568, -0.6109, -0.5082,  ..., -1.5185, -1.5357, -1.6213],\n",
       "           ...,\n",
       "           [-1.0733, -1.1418, -1.0904,  ...,  1.1187,  1.0331,  0.8276],\n",
       "           [-1.0390, -1.1247, -1.0733,  ...,  1.1015,  0.9988,  0.8276],\n",
       "           [-1.0390, -1.1247, -1.1418,  ...,  1.1015,  1.0159,  0.8789]],\n",
       " \n",
       "          [[-0.8803, -0.9678, -0.9678,  ..., -1.7206, -1.7381, -1.7556],\n",
       "           [-0.6527, -0.8277, -0.9328,  ..., -1.3704, -1.5805, -1.7031],\n",
       "           [-0.7577, -0.8978, -0.8978,  ..., -0.3901, -0.5651, -0.9328],\n",
       "           ...,\n",
       "           [-1.3704, -1.5105, -1.3354,  ..., -1.8081, -1.8256, -1.8782],\n",
       "           [-1.3704, -1.5105, -1.3704,  ..., -1.7906, -1.8081, -1.8606],\n",
       "           [-1.3880, -1.5280, -1.4580,  ..., -1.7906, -1.7906, -1.8256]],\n",
       " \n",
       "          [[-1.0201, -0.8633, -0.8633,  ..., -1.4036, -1.3339, -1.3513],\n",
       "           [-1.0550, -1.0201, -1.1421,  ..., -0.4624, -0.9504, -1.2641],\n",
       "           [-1.1944, -1.2467, -1.2293,  ...,  1.2108,  0.8099,  0.1825],\n",
       "           ...,\n",
       "           [-0.9853, -1.1247, -0.9853,  ..., -1.3164, -1.2641, -1.3339],\n",
       "           [-0.9853, -1.2119, -1.0201,  ..., -1.3164, -1.2816, -1.3513],\n",
       "           [-1.0550, -1.2641, -1.0898,  ..., -1.2990, -1.2990, -1.3339]]],\n",
       " \n",
       " \n",
       "         [[[-0.9192, -0.6623, -0.6623,  ...,  2.1462,  2.1462,  2.1804],\n",
       "           [-0.7822, -0.6452, -0.6452,  ...,  2.1462,  2.1462,  2.1633],\n",
       "           [-0.9705, -0.6623, -0.5596,  ...,  2.1462,  2.1633,  2.1462],\n",
       "           ...,\n",
       "           [ 1.5982,  1.5982,  1.5297,  ..., -1.4158, -1.3987, -1.3987],\n",
       "           [ 1.7180,  1.7180,  1.7523,  ..., -1.3815, -1.3987, -1.4158],\n",
       "           [ 1.8893,  1.8893,  1.9235,  ..., -1.3987, -1.3987, -1.4158]],\n",
       " \n",
       "          [[-0.1450,  0.2402,  0.2577,  ...,  2.3060,  2.3060,  2.3235],\n",
       "           [ 0.0126,  0.2402,  0.2577,  ...,  2.3235,  2.3235,  2.3410],\n",
       "           [-0.1275,  0.2402,  0.2927,  ...,  2.3235,  2.3410,  2.3235],\n",
       "           ...,\n",
       "           [ 0.6954,  0.6779,  0.6254,  ..., -1.2304, -1.2304, -1.2304],\n",
       "           [ 0.8179,  0.8529,  0.9230,  ..., -1.2129, -1.2304, -1.2479],\n",
       "           [ 1.1506,  1.1681,  1.2206,  ..., -1.2129, -1.2304, -1.2304]],\n",
       " \n",
       "          [[-1.0724, -0.6715, -0.7587,  ...,  2.5354,  2.5180,  2.5529],\n",
       "           [-1.0027, -0.7238, -0.7413,  ...,  2.5354,  2.5354,  2.5529],\n",
       "           [-1.2293, -0.7761, -0.7064,  ...,  2.5354,  2.5529,  2.5354],\n",
       "           ...,\n",
       "           [-0.1835, -0.2010, -0.2707,  ..., -0.3753, -0.3578, -0.3578],\n",
       "           [-0.1835, -0.2010, -0.2010,  ..., -0.3753, -0.3753, -0.3927],\n",
       "           [-0.2358, -0.2010, -0.1487,  ..., -0.4101, -0.4275, -0.4450]]],\n",
       " \n",
       " \n",
       "         [[[-1.9467, -1.9124, -1.9638,  ..., -1.0733, -1.1247, -1.1932],\n",
       "           [-1.9638, -1.9638, -2.0152,  ..., -1.2103, -1.2617, -1.3302],\n",
       "           [-1.9124, -1.9638, -1.9467,  ..., -1.3644, -1.3473, -1.3473],\n",
       "           ...,\n",
       "           [ 0.8961,  0.9132,  0.7933,  ...,  2.1975,  2.1975,  2.1633],\n",
       "           [ 1.0159,  0.9474,  0.9132,  ...,  2.1119,  2.1290,  1.7523],\n",
       "           [ 0.9988,  0.9646,  0.9646,  ...,  2.1633,  2.1804,  2.1290]],\n",
       " \n",
       "          [[-1.7031, -1.6681, -1.7556,  ..., -0.8803, -0.9328, -1.0028],\n",
       "           [-1.7206, -1.7206, -1.7906,  ..., -1.1253, -1.2129, -1.2829],\n",
       "           [-1.6856, -1.7381, -1.7381,  ..., -1.3880, -1.4230, -1.3880],\n",
       "           ...,\n",
       "           [ 0.8004,  0.8179,  0.6429,  ...,  2.3761,  2.3761,  2.2535],\n",
       "           [ 0.9755,  0.9230,  0.8179,  ...,  2.2360,  2.2360,  1.7808],\n",
       "           [ 0.9930,  0.9580,  0.9055,  ...,  2.3235,  2.3410,  2.3060]],\n",
       " \n",
       "          [[-1.1944, -1.1770, -1.2467,  ..., -0.5844, -0.5844, -0.6715],\n",
       "           [-1.1770, -1.1770, -1.2119,  ..., -0.7413, -0.7936, -0.8633],\n",
       "           [-1.1421, -1.1596, -1.1421,  ..., -0.9853, -1.0027, -0.9678],\n",
       "           ...,\n",
       "           [ 0.5136,  0.5311,  0.3742,  ...,  2.4483,  2.3786,  2.2043],\n",
       "           [ 0.7054,  0.6531,  0.5659,  ...,  2.1868,  2.1694,  1.6465],\n",
       "           [ 0.7228,  0.7054,  0.6879,  ...,  2.4483,  2.4483,  2.4134]]]]),\n",
       " 64)"
      ]
     },
     "execution_count": 31,
     "metadata": {},
     "output_type": "execute_result"
    }
   ],
   "source": [
    "x.shape, x, len(x)"
   ]
  },
  {
   "cell_type": "code",
   "execution_count": 32,
   "metadata": {},
   "outputs": [
    {
     "data": {
      "text/plain": [
       "((64, 20),\n",
       " 64,\n",
       " TensorMultiCategory([[0., 0., 0.,  ..., 0., 0., 0.],\n",
       "         [0., 0., 0.,  ..., 0., 0., 0.],\n",
       "         [0., 0., 0.,  ..., 0., 0., 0.],\n",
       "         ...,\n",
       "         [0., 0., 0.,  ..., 0., 0., 0.],\n",
       "         [0., 0., 0.,  ..., 0., 0., 0.],\n",
       "         [0., 0., 0.,  ..., 0., 0., 0.]]))"
      ]
     },
     "execution_count": 32,
     "metadata": {},
     "output_type": "execute_result"
    }
   ],
   "source": [
    "y.shape, len(y),y"
   ]
  },
  {
   "cell_type": "code",
   "execution_count": 33,
   "metadata": {},
   "outputs": [
    {
     "data": {
      "text/plain": [
       "(torch.Size([64, 20]),\n",
       " tensor([[ 0.7476, -1.1988,  4.5421,  ...,  0.7063, -1.3358, -0.3715],\n",
       "         [-0.9919, -0.4608, -0.4424,  ..., -1.4165, -2.9962,  0.5873],\n",
       "         [ 2.1179, -0.0294,  0.7001,  ...,  2.2310,  1.1888, -0.0595],\n",
       "         ...,\n",
       "         [-0.3535,  3.0212,  0.4811,  ...,  1.8732,  1.2486, -3.3234],\n",
       "         [-1.4724, -2.8740, -1.2860,  ..., -2.7895, -1.8632, -0.1557],\n",
       "         [-1.6487,  1.5647,  1.0682,  ..., -0.6979, -1.5629, -1.7217]], grad_fn=<MmBackward>))"
      ]
     },
     "execution_count": 33,
     "metadata": {},
     "output_type": "execute_result"
    }
   ],
   "source": [
    "activs.shape, activs"
   ]
  },
  {
   "cell_type": "markdown",
   "metadata": {},
   "source": [
    "**Think about why `activs` has this shape—we have a batch size of 64, and we need to calculate the probability of each of 20 categories. Here’s what one of those activations looks like:**"
   ]
  },
  {
   "cell_type": "code",
   "execution_count": 34,
   "metadata": {},
   "outputs": [
    {
     "data": {
      "text/plain": [
       "tensor([ 0.7476, -1.1988,  4.5421, -1.5915, -0.6749,  0.0343, -2.4930, -0.8330, -0.3817, -1.4876, -0.1683,  2.1547, -3.4151, -1.1743,  0.1530, -1.6801, -2.3067,  0.7063, -1.3358, -0.3715],\n",
       "       grad_fn=<SelectBackward>)"
      ]
     },
     "execution_count": 34,
     "metadata": {},
     "output_type": "execute_result"
    }
   ],
   "source": [
    "activs[0] #same as first item in above"
   ]
  },
  {
   "cell_type": "markdown",
   "metadata": {},
   "source": [
    "> note: **Getting Model Activations: Knowing how to manually get a mini-batch and pass it into a model, and look at the activations and loss, is really important for debugging your model.** It is also very helpful for learning, so that you can see exactly what is going on."
   ]
  },
  {
   "cell_type": "markdown",
   "metadata": {},
   "source": [
    "They aren’t yet scaled to between 0 and 1, but we learned how to do that in <<chapter_mnist_basics>>, using the `sigmoid` function. We also saw how to calculate a loss based on this—this is our loss function from <<chapter_mnist_basics>>, with the addition of `log` as discussed in the last chapter:"
   ]
  },
  {
   "cell_type": "code",
   "execution_count": 36,
   "metadata": {},
   "outputs": [],
   "source": [
    "def binary_cross_entropy(inputs, targets):\n",
    "    inputs = inputs.sigmoid()\n",
    "    return -torch.where(targets==1, 1-inputs, inputs).log().mean()"
   ]
  },
  {
   "cell_type": "markdown",
   "metadata": {},
   "source": [
    "**Note that because we have a one-hot-encoded dependent variable, we can't directly use `nll_loss` or `softmax` (and therefore we can't use `cross_entropy`):**\n",
    "\n",
    "- **`softmax`, as we saw, requires that all predictions sum to 1, and tends to push one activation to be much larger than the others (due to the use of `exp`); however, we may well have multiple objects that we're confident appear in an image, so restricting the maximum sum of activations to 1 is not a good idea. By the same reasoning, we may want the sum to be *less* than 1, if we don't think *any* of the categories appear in an image.**\n",
    "- **`nll_loss`, as we saw, returns the value of just one activation: the single activation corresponding with the single label for an item. This doesn't make sense when we have multiple labels.**\n",
    "\n",
    "On the other hand, the **`binary_cross_entropy` function, which is just `mnist_loss` along with `log`, provides just what we need, thanks to the magic of PyTorch's elementwise operations. Each activation will be compared to each target for each column, so we don't have to do anything to make this function work for multiple columns.**"
   ]
  },
  {
   "cell_type": "markdown",
   "metadata": {},
   "source": [
    "> j: One of the things I really like about working with libraries like PyTorch, with broadcasting and elementwise operations, is that quite frequently I find I can write code that works equally well for a single item or a batch of items, without changes. `binary_cross_entropy` is a great example of this. By using these operations, we don't have to write loops ourselves, and can rely on PyTorch to do the looping we need as appropriate for the rank of the tensors we're working with."
   ]
  },
  {
   "cell_type": "markdown",
   "metadata": {},
   "source": [
    "# okay, this is really imp!\n",
    "PyTorch already provides this function for us. In fact, it provides a number of versions, with rather confusing names!\n",
    "\n",
    "**`F.binary_cross_entropy` and its module equivalent `nn.BCELoss` calculate cross-entropy on a one-hot-encoded target, but do not include the initial `sigmoid`. Normally for one-hot-encoded targets you'll want `F.binary_cross_entropy_with_logits` (or `nn.BCEWithLogitsLoss`), which do both sigmoid and binary cross-entropy in a single function, as in the preceding example.**\n",
    "\n",
    "**The equivalent for single-label datasets (like MNIST or the Pet dataset), where the target is encoded as a single integer, is `F.nll_loss` or `nn.NLLLoss` for the version without the initial softmax, and `F.cross_entropy` or `nn.CrossEntropyLoss` for the version with the initial softmax.**\n",
    "\n",
    "**Since we have a one-hot-encoded target, we will use `BCEWithLogitsLoss`:**"
   ]
  },
  {
   "cell_type": "code",
   "execution_count": 37,
   "metadata": {},
   "outputs": [
    {
     "data": {
      "text/plain": [
       "TensorMultiCategory(1.0342, grad_fn=<AliasBackward>)"
      ]
     },
     "execution_count": 37,
     "metadata": {},
     "output_type": "execute_result"
    }
   ],
   "source": [
    "loss_func = nn.BCEWithLogitsLoss()\n",
    "loss = loss_func(activs, y)\n",
    "loss"
   ]
  },
  {
   "cell_type": "markdown",
   "metadata": {},
   "source": [
    "We don't actually need to tell fastai to use this loss function (although we can if we want) since it will be automatically chosen for us. **fastai knows that the `DataLoaders` has multiple category labels, so it will use `nn.BCEWithLogitsLoss` by default.**\n",
    "### OPOPOP! husssaarr\n",
    "\n",
    "One change compared to the last chapter is the metric we use: **because this is a multilabel problem, we can't use the accuracy function.** Why is that? Well, accuracy was comparing our outputs to our targets like so:\n",
    "\n",
    "```python\n",
    "def accuracy(inp, targ, axis=-1):\n",
    "    \"Compute accuracy with `targ` when `pred` is bs * n_classes\"\n",
    "    pred = inp.argmax(dim=axis)\n",
    "    return (pred == targ).float().mean()\n",
    "```\n",
    "\n",
    "**The class predicted was the one with the highest activation (this is what `argmax` does). Here it doesn't work because we could have more than one prediction on a single image.** \n",
    "\n",
    "**After applying the sigmoid to our activations (to make them between 0 and 1), we need to decide which ones are 0s and which ones are 1s by picking a *threshold*. Each value above the threshold will be considered as a 1, and each value lower than the threshold will be considered a 0:**\n",
    "\n",
    "```python\n",
    "def accuracy_multi(inp, targ, thresh=0.5, sigmoid=True):\n",
    "    \"Compute accuracy when `inp` and `targ` are the same size.\"\n",
    "    if sigmoid: inp = inp.sigmoid()\n",
    "    return ((inp>thresh)==targ.bool()).float().mean()\n",
    "```"
   ]
  },
  {
   "cell_type": "markdown",
   "metadata": {},
   "source": [
    "**If we pass `accuracy_multi` directly as a metric, it will use the default value for `threshold`, which is 0.5. We might want to adjust that default and create a new version of `accuracy_multi` that has a different default. To help with this, there is a function in Python called `partial`.** \n",
    "\n",
    "**It allows us to *bind* a function with some arguments or keyword arguments, making a new version of that function that, whenever it is called, always includes those arguments. For instance, here is a simple function taking two arguments:**"
   ]
  },
  {
   "cell_type": "markdown",
   "metadata": {},
   "source": [
    "### ye to theek hi hai"
   ]
  },
  {
   "cell_type": "code",
   "execution_count": 38,
   "metadata": {},
   "outputs": [
    {
     "data": {
      "text/plain": [
       "('Hello Jeremy.', 'Ahoy! Jeremy.')"
      ]
     },
     "execution_count": 38,
     "metadata": {},
     "output_type": "execute_result"
    }
   ],
   "source": [
    "def say_hello(name, say_what=\"Hello\"): return f\"{say_what} {name}.\"\n",
    "say_hello('Jeremy'),say_hello('Jeremy', 'Ahoy!')"
   ]
  },
  {
   "cell_type": "markdown",
   "metadata": {},
   "source": [
    "We can switch to a French version of that function by using `partial`:"
   ]
  },
  {
   "cell_type": "markdown",
   "metadata": {},
   "source": [
    "### okay, so f has become a new function!!"
   ]
  },
  {
   "cell_type": "code",
   "execution_count": 39,
   "metadata": {},
   "outputs": [
    {
     "data": {
      "text/plain": [
       "('Bonjour Jeremy.', 'Bonjour Sylvain.')"
      ]
     },
     "execution_count": 39,
     "metadata": {},
     "output_type": "execute_result"
    }
   ],
   "source": [
    "f = partial(say_hello, say_what=\"Bonjour\")\n",
    "f(\"Jeremy\"),f(\"Sylvain\")"
   ]
  },
  {
   "cell_type": "markdown",
   "metadata": {},
   "source": [
    "We can now train our model. Let's try setting the accuracy threshold to 0.2 for our metric:"
   ]
  },
  {
   "cell_type": "markdown",
   "metadata": {},
   "source": [
    "### makes perfect sense!"
   ]
  },
  {
   "cell_type": "code",
   "execution_count": 40,
   "metadata": {},
   "outputs": [
    {
     "data": {
      "text/html": [
       "<table border=\"1\" class=\"dataframe\">\n",
       "  <thead>\n",
       "    <tr style=\"text-align: left;\">\n",
       "      <th>epoch</th>\n",
       "      <th>train_loss</th>\n",
       "      <th>valid_loss</th>\n",
       "      <th>accuracy_multi</th>\n",
       "      <th>time</th>\n",
       "    </tr>\n",
       "  </thead>\n",
       "  <tbody>\n",
       "    <tr>\n",
       "      <td>0</td>\n",
       "      <td>0.944744</td>\n",
       "      <td>0.700274</td>\n",
       "      <td>0.236534</td>\n",
       "      <td>00:39</td>\n",
       "    </tr>\n",
       "    <tr>\n",
       "      <td>1</td>\n",
       "      <td>0.823401</td>\n",
       "      <td>0.554526</td>\n",
       "      <td>0.300239</td>\n",
       "      <td>00:32</td>\n",
       "    </tr>\n",
       "    <tr>\n",
       "      <td>2</td>\n",
       "      <td>0.601602</td>\n",
       "      <td>0.199432</td>\n",
       "      <td>0.817510</td>\n",
       "      <td>00:32</td>\n",
       "    </tr>\n",
       "    <tr>\n",
       "      <td>3</td>\n",
       "      <td>0.359271</td>\n",
       "      <td>0.123277</td>\n",
       "      <td>0.945478</td>\n",
       "      <td>00:33</td>\n",
       "    </tr>\n",
       "  </tbody>\n",
       "</table>"
      ],
      "text/plain": [
       "<IPython.core.display.HTML object>"
      ]
     },
     "metadata": {},
     "output_type": "display_data"
    },
    {
     "data": {
      "text/html": [
       "<table border=\"1\" class=\"dataframe\">\n",
       "  <thead>\n",
       "    <tr style=\"text-align: left;\">\n",
       "      <th>epoch</th>\n",
       "      <th>train_loss</th>\n",
       "      <th>valid_loss</th>\n",
       "      <th>accuracy_multi</th>\n",
       "      <th>time</th>\n",
       "    </tr>\n",
       "  </thead>\n",
       "  <tbody>\n",
       "    <tr>\n",
       "      <td>0</td>\n",
       "      <td>0.137921</td>\n",
       "      <td>0.118284</td>\n",
       "      <td>0.945916</td>\n",
       "      <td>00:38</td>\n",
       "    </tr>\n",
       "    <tr>\n",
       "      <td>1</td>\n",
       "      <td>0.118691</td>\n",
       "      <td>0.104569</td>\n",
       "      <td>0.949681</td>\n",
       "      <td>00:37</td>\n",
       "    </tr>\n",
       "    <tr>\n",
       "      <td>2</td>\n",
       "      <td>0.099470</td>\n",
       "      <td>0.103237</td>\n",
       "      <td>0.951016</td>\n",
       "      <td>00:38</td>\n",
       "    </tr>\n",
       "  </tbody>\n",
       "</table>"
      ],
      "text/plain": [
       "<IPython.core.display.HTML object>"
      ]
     },
     "metadata": {},
     "output_type": "display_data"
    }
   ],
   "source": [
    "learn = cnn_learner(dls, resnet50, metrics=partial(accuracy_multi, thresh=0.2))\n",
    "learn.fine_tune(3, base_lr=3e-3, freeze_epochs=4)"
   ]
  },
  {
   "cell_type": "markdown",
   "metadata": {},
   "source": [
    "#### so yaha pehle freeze karke 4 runs kiya, fir lr change hua hoga, and then with new lr 3 runs"
   ]
  },
  {
   "cell_type": "markdown",
   "metadata": {},
   "source": [
    "Picking a threshold is important. If you pick a threshold that's too low, you'll often be failing to select correctly labeled objects. We can see this by **changing our metric, and then calling `validate`, which returns the validation loss and metrics:**"
   ]
  },
  {
   "cell_type": "code",
   "execution_count": 47,
   "metadata": {},
   "outputs": [
    {
     "data": {
      "text/html": [],
      "text/plain": [
       "<IPython.core.display.HTML object>"
      ]
     },
     "metadata": {},
     "output_type": "display_data"
    },
    {
     "data": {
      "text/plain": [
       "(#2) [0.103236623108387,0.9294022917747498]"
      ]
     },
     "execution_count": 47,
     "metadata": {},
     "output_type": "execute_result"
    }
   ],
   "source": [
    "learn.metrics = partial(accuracy_multi, thresh=0.1)\n",
    "learn.validate()"
   ]
  },
  {
   "cell_type": "markdown",
   "metadata": {},
   "source": [
    "If you pick a threshold that's too high, you'll only be selecting the objects for which your model is very confident:"
   ]
  },
  {
   "cell_type": "code",
   "execution_count": 48,
   "metadata": {},
   "outputs": [
    {
     "data": {
      "text/html": [],
      "text/plain": [
       "<IPython.core.display.HTML object>"
      ]
     },
     "metadata": {},
     "output_type": "display_data"
    },
    {
     "data": {
      "text/plain": [
       "(#2) [0.103236623108387,0.9423107504844666]"
      ]
     },
     "execution_count": 48,
     "metadata": {},
     "output_type": "execute_result"
    }
   ],
   "source": [
    "learn.metrics = partial(accuracy_multi, thresh=0.99)\n",
    "learn.validate()"
   ]
  },
  {
   "cell_type": "markdown",
   "metadata": {},
   "source": [
    "#### kis order me return karta hai, wo acche se nahi samjha!"
   ]
  },
  {
   "cell_type": "markdown",
   "metadata": {},
   "source": [
    "We can find the best threshold by trying a few levels and seeing what works best. This is much faster if we just grab the predictions once:"
   ]
  },
  {
   "cell_type": "code",
   "execution_count": 49,
   "metadata": {},
   "outputs": [
    {
     "data": {
      "text/html": [],
      "text/plain": [
       "<IPython.core.display.HTML object>"
      ]
     },
     "metadata": {},
     "output_type": "display_data"
    },
    {
     "data": {
      "text/plain": [
       "(tensor([[9.9590e-04, 5.8973e-03, 4.5649e-03,  ..., 3.3088e-01, 1.3037e-03, 9.8910e-02],\n",
       "         [1.7496e-04, 6.6218e-03, 2.2477e-03,  ..., 6.7865e-03, 8.6532e-04, 1.2644e-04],\n",
       "         [1.3423e-03, 1.5373e-02, 1.3467e-03,  ..., 2.1704e-03, 8.9926e-04, 5.1124e-04],\n",
       "         ...,\n",
       "         [5.9340e-03, 2.2661e-03, 1.4963e-03,  ..., 2.7919e-02, 4.2112e-03, 8.6606e-03],\n",
       "         [4.0720e-03, 3.2984e-03, 5.7557e-03,  ..., 8.4024e-04, 3.5662e-03, 1.2320e-03],\n",
       "         [1.3227e-03, 8.6280e-01, 3.2478e-03,  ..., 8.9373e-03, 1.0071e-03, 6.6208e-03]]),\n",
       " torch.Size([2510, 20]),\n",
       " TensorMultiCategory([[0., 0., 0.,  ..., 0., 0., 0.],\n",
       "         [0., 0., 0.,  ..., 0., 0., 0.],\n",
       "         [0., 0., 0.,  ..., 0., 0., 0.],\n",
       "         ...,\n",
       "         [0., 0., 0.,  ..., 0., 0., 0.],\n",
       "         [0., 0., 0.,  ..., 0., 0., 0.],\n",
       "         [0., 1., 0.,  ..., 0., 0., 0.]]),\n",
       " (2510, 20))"
      ]
     },
     "execution_count": 49,
     "metadata": {},
     "output_type": "execute_result"
    }
   ],
   "source": [
    "preds,targs = learn.get_preds()\n",
    "\n",
    "preds, preds.shape, targs, targs.shape"
   ]
  },
  {
   "cell_type": "markdown",
   "metadata": {},
   "source": [
    "Then we can call the metric directly. Note that by default `get_preds` applies the output activation function (sigmoid, in this case) for us, so we'll need to tell `accuracy_multi` to not apply it:"
   ]
  },
  {
   "cell_type": "code",
   "execution_count": 50,
   "metadata": {},
   "outputs": [
    {
     "data": {
      "text/plain": [
       "TensorBase(0.9569)"
      ]
     },
     "execution_count": 50,
     "metadata": {},
     "output_type": "execute_result"
    }
   ],
   "source": [
    "accuracy_multi(preds, targs, thresh=0.9, sigmoid=False)"
   ]
  },
  {
   "cell_type": "markdown",
   "metadata": {},
   "source": [
    "# something nice happened here!!!\n",
    "#### we are finding the accuracy for our calculated predictions (wrt targets) for each thresholds, then we will choose the best threshold!"
   ]
  },
  {
   "cell_type": "markdown",
   "metadata": {},
   "source": [
    "We can now use **this approach to find the best threshold level:**"
   ]
  },
  {
   "cell_type": "code",
   "execution_count": 51,
   "metadata": {},
   "outputs": [
    {
     "data": {
      "image/png": "[encoded data removed]",
      "text/plain": [
       "<Figure size 432x288 with 1 Axes>"
      ]
     },
     "metadata": {
      "needs_background": "light"
     },
     "output_type": "display_data"
    }
   ],
   "source": [
    "xs = torch.linspace(0.05,0.95,29)\n",
    "accs = [accuracy_multi(preds, targs, thresh=i, sigmoid=False) for i in xs]\n",
    "plt.plot(xs,accs);"
   ]
  },
  {
   "cell_type": "markdown",
   "metadata": {},
   "source": [
    "**In this case, we're using the validation set to pick a hyperparameter (the threshold), which is the purpose of the validation set. Sometimes students have expressed their concern that we might be *overfitting* to the validation set, since we're trying lots of values to see which is the best.**\n",
    "\n",
    "**However, as you see in the plot, changing the threshold in this case results in a smooth curve, so we're clearly not picking some inappropriate outlier. This is a good example of where you have to be careful of the difference between theory (don't try lots of hyperparameter values or you might overfit the validation set) versus practice**\n",
    "\n",
    "***(if the relationship is smooth, then it's fine to do this)***\n",
    "\n",
    "This concludes the part of this chapter dedicated to multi-label classification. Next, we'll take a look at a regression problem."
   ]
  },
  {
   "cell_type": "markdown",
   "metadata": {},
   "source": [
    "# OPOPOPOPP!"
   ]
  },
  {
   "cell_type": "markdown",
   "metadata": {},
   "source": [
    "## Regression -- image regression"
   ]
  },
  {
   "cell_type": "markdown",
   "metadata": {},
   "source": [
    "It's easy to think of deep learning models as being classified into domains, like *computer vision*, *NLP*, and so forth. And indeed, that's how fastai classifies its applications—largely because that's how most people are used to thinking of things.\n",
    "\n",
    "But really, that's hiding a **more interesting and deeper perspective. A model is defined by its independent and dependent variables, along with its loss function. That means that there's really a far wider array of models than just the simple domain-based split. Perhaps we have an independent variable that's an image, and a dependent that's text (e.g., generating a caption from an image); or perhaps we have an independent variable that's text and dependent that's an image (e.g., generating an image from a caption—which is actually possible for deep learning to do!); or perhaps we've got images, texts, and tabular data as independent variables, and we're trying to predict product purchases... the possibilities really are endless.**\n",
    "\n",
    "To be able to move beyond fixed applications, **to crafting your own novel solutions to novel problems, it helps to really understand the data block API (and maybe also the mid-tier API, which we'll see later in the book).** As an example, let's consider the problem of **.*image regression*. This refers to learning from a dataset where the independent variable is an image, and the dependent variable is one or more floats. Often we see people treat image regression as a whole separate application—but as you'll see here, we can treat it as just another CNN on top of the data block API.**\n",
    "### nice works!!\n",
    "\n",
    "We're going to jump straight to a somewhat tricky variant of image regression, because we know you're ready for it! We're going to do a key point model. **A *key point* refers to a specific location represented in an image—in this case, we'll use images of people and we'll be looking for the center of the person's face in each image. That means we'll actually be predicting *two* values for each image: the row and column of the face center.**"
   ]
  },
  {
   "cell_type": "markdown",
   "metadata": {},
   "source": [
    "### Assemble the Data"
   ]
  },
  {
   "cell_type": "markdown",
   "metadata": {},
   "source": [
    "We will use the [Biwi Kinect Head Pose dataset](https://icu.ee.ethz.ch/research/datsets.html) for this section. We'll begin by downloading the dataset as usual:"
   ]
  },
  {
   "cell_type": "code",
   "execution_count": 6,
   "metadata": {},
   "outputs": [
    {
     "data": {
      "text/plain": [
       "Path('/root/.fastai/data/biwi_head_pose')"
      ]
     },
     "execution_count": 6,
     "metadata": {},
     "output_type": "execute_result"
    }
   ],
   "source": [
    "# path = untar_data(URLs.BIWI_HEAD_POSE)\n",
    "# path"
   ]
  },
  {
   "cell_type": "code",
   "execution_count": 7,
   "metadata": {},
   "outputs": [
    {
     "data": {
      "text/plain": [
       "Path('Multicat_Data/Biwi')"
      ]
     },
     "execution_count": 7,
     "metadata": {},
     "output_type": "execute_result"
    }
   ],
   "source": [
    "#hide\n",
    "# Path.BASE_PATH = path\n",
    "path = Path('Multicat_Data/Biwi')\n",
    "path"
   ]
  },
  {
   "cell_type": "markdown",
   "metadata": {},
   "source": [
    "Let's see what we've got!"
   ]
  },
  {
   "cell_type": "code",
   "execution_count": 8,
   "metadata": {},
   "outputs": [
    {
     "data": {
      "text/plain": [
       "(#50) [Path('Multicat_Data/Biwi/01'),Path('Multicat_Data/Biwi/01.obj'),Path('Multicat_Data/Biwi/02'),Path('Multicat_Data/Biwi/02.obj'),Path('Multicat_Data/Biwi/03'),Path('Multicat_Data/Biwi/03.obj'),Path('Multicat_Data/Biwi/04'),Path('Multicat_Data/Biwi/04.obj'),Path('Multicat_Data/Biwi/05'),Path('Multicat_Data/Biwi/05.obj')...]"
      ]
     },
     "execution_count": 8,
     "metadata": {},
     "output_type": "execute_result"
    }
   ],
   "source": [
    "path.ls().sorted()"
   ]
  },
  {
   "cell_type": "markdown",
   "metadata": {},
   "source": [
    "#### should be 25 no, below?"
   ]
  },
  {
   "cell_type": "markdown",
   "metadata": {},
   "source": [
    "There are 24 directories numbered from 01 to 24 (they correspond to the different people photographed), and a corresponding *.obj* file for each (we won't need them here). Let's take a look inside one of these directories:"
   ]
  },
  {
   "cell_type": "code",
   "execution_count": 51,
   "metadata": {},
   "outputs": [
    {
     "data": {
      "text/plain": [
       "(#1000) [Path('01/depth.cal'),Path('01/frame_00003_pose.txt'),Path('01/frame_00003_rgb.jpg'),Path('01/frame_00004_pose.txt'),Path('01/frame_00004_rgb.jpg'),Path('01/frame_00005_pose.txt'),Path('01/frame_00005_rgb.jpg'),Path('01/frame_00006_pose.txt'),Path('01/frame_00006_rgb.jpg'),Path('01/frame_00007_pose.txt')...]"
      ]
     },
     "execution_count": 51,
     "metadata": {},
     "output_type": "execute_result"
    }
   ],
   "source": [
    "(path/'01').ls().sorted()"
   ]
  },
  {
   "cell_type": "markdown",
   "metadata": {},
   "source": [
    "Inside the subdirectories, we have **different frames, each of them come with an image (*\\_rgb.jpg*) and a pose file (*\\_pose.txt*). We can easily get all the image files recursively with `get_image_files`, then write a function that converts an image filename to its associated pose file:**"
   ]
  },
  {
   "cell_type": "markdown",
   "metadata": {},
   "source": [
    "### new new new\n",
    "### regex kaise lagayenge?!"
   ]
  },
  {
   "cell_type": "code",
   "execution_count": 9,
   "metadata": {},
   "outputs": [
    {
     "data": {
      "text/plain": [
       "((#15678) [Path('Multicat_Data/Biwi/06/frame_00554_rgb.jpg'),Path('Multicat_Data/Biwi/06/frame_00069_rgb.jpg'),Path('Multicat_Data/Biwi/06/frame_00262_rgb.jpg'),Path('Multicat_Data/Biwi/06/frame_00324_rgb.jpg'),Path('Multicat_Data/Biwi/06/frame_00093_rgb.jpg'),Path('Multicat_Data/Biwi/06/frame_00313_rgb.jpg'),Path('Multicat_Data/Biwi/06/frame_00129_rgb.jpg'),Path('Multicat_Data/Biwi/06/frame_00187_rgb.jpg'),Path('Multicat_Data/Biwi/06/frame_00278_rgb.jpg'),Path('Multicat_Data/Biwi/06/frame_00117_rgb.jpg')...],\n",
       " Path('Multicat_Data/Biwi/06/frame_00554_rgb.jpg'),\n",
       " Path('Multicat_Data/Biwi/06/frame_00554_rgb.jpg'),\n",
       " Path('Multicat_Data/Biwi/06/frame_00554_pose.txt'))"
      ]
     },
     "execution_count": 9,
     "metadata": {},
     "output_type": "execute_result"
    }
   ],
   "source": [
    "img_files = get_image_files(path)\n",
    "def img2pose(x): return Path(f'{str(x)[:-7]}pose.txt')\n",
    "type(img_files[0]),type(Path(img_files[0]))\n",
    "img_files, img_files[0], Path(img_files[0]) , img2pose(img_files[0])\n",
    "# print(Path(f'{str( Path(img_files[0]))[:-7]}pose.txt') ) #,img2pose(img_files[0])\n",
    "# print(f'{str(Path(img_files[0]))[:-7]}pose.txt') \n",
    "# print(re.where('{str(Path(img_files[0]))[:-7]}pose.txt') )does not work!\n",
    "# print(r'pose.txt') )\n",
    "# print(str(img_files[0]), type(str(img_files[0])))\n",
    "# print(str(img_files[0]){r'.*'}) #not working as well!!"
   ]
  },
  {
   "cell_type": "markdown",
   "metadata": {},
   "source": [
    "Let's take a look at our first image:"
   ]
  },
  {
   "cell_type": "code",
   "execution_count": 10,
   "metadata": {
    "scrolled": true
   },
   "outputs": [
    {
     "data": {
      "text/plain": [
       "((480, 640), PILImage mode=RGB size=640x480)"
      ]
     },
     "execution_count": 10,
     "metadata": {},
     "output_type": "execute_result"
    }
   ],
   "source": [
    "im = PILImage.create(img_files[0])\n",
    "im.shape, im"
   ]
  },
  {
   "cell_type": "code",
   "execution_count": 11,
   "metadata": {},
   "outputs": [
    {
     "data": {
      "image/png": "[encoded data removed]",
      "text/plain": [
       "<PIL.Image.Image image mode=RGB size=160x120 at 0x7F4A2F7ECFA0>"
      ]
     },
     "execution_count": 11,
     "metadata": {},
     "output_type": "execute_result"
    }
   ],
   "source": [
    "im.to_thumb(160)"
   ]
  },
  {
   "cell_type": "markdown",
   "metadata": {},
   "source": [
    "**The Biwi dataset website used to explain the format of the pose text file associated with each image, which shows the location of the center of the head. The details of this aren't important for our purposes, so we'll just show the function we use to extract the head center point:**"
   ]
  },
  {
   "cell_type": "code",
   "execution_count": 12,
   "metadata": {},
   "outputs": [],
   "source": [
    "cal = np.genfromtxt(path/'01'/'rgb.cal', skip_footer=6)\n",
    "def get_ctr(f):\n",
    "    ctr = np.genfromtxt(img2pose(f), skip_header=3)\n",
    "    c1 = ctr[0] * cal[0][0]/ctr[2] + cal[0][2]\n",
    "    c2 = ctr[1] * cal[1][1]/ctr[2] + cal[1][2]\n",
    "    return tensor([c1,c2])"
   ]
  },
  {
   "cell_type": "markdown",
   "metadata": {},
   "source": [
    "This function returns the coordinates as a tensor of two items:"
   ]
  },
  {
   "cell_type": "code",
   "execution_count": 13,
   "metadata": {},
   "outputs": [
    {
     "data": {
      "text/plain": [
       "tensor([330.9554, 308.3703])"
      ]
     },
     "execution_count": 13,
     "metadata": {},
     "output_type": "execute_result"
    }
   ],
   "source": [
    "get_ctr(img_files[0])"
   ]
  },
  {
   "cell_type": "markdown",
   "metadata": {},
   "source": [
    "### direct center ke coordinates hi mil gaye function se!"
   ]
  },
  {
   "cell_type": "markdown",
   "metadata": {},
   "source": [
    "We can pass this function to `DataBlock` as `get_y`, since it is responsible for labeling each item. We'll resize the images to half their input size, just to speed up training a bit.\n",
    "\n",
    "**One important point to note is that we should not just use a random splitter. The reason for this is that the same people appear in multiple images in this dataset, but we want to ensure that our model can generalize to people that it hasn't seen yet. Each folder in the dataset contains the images for one person. Therefore, we can create a splitter function that returns true for just one person, resulting in a validation set containing just that person's images.**\n",
    "\n",
    "### This is nice!\n",
    "**The only other difference from the previous data block examples is that the second block is a `PointBlock`. This is necessary so that fastai knows that the labels represent coordinates; that way, it knows that when doing data augmentation, it should do the same augmentation to these coordinates as it does to the images:**"
   ]
  },
  {
   "cell_type": "markdown",
   "metadata": {},
   "source": [
    "#### so x me aayenge images, y me aayenge centers"
   ]
  },
  {
   "cell_type": "markdown",
   "metadata": {},
   "source": [
    "### REMEMBER KI KAISE THA DLS, DATABLOCK.DATALOADERS KIYA HAI"
   ]
  },
  {
   "cell_type": "code",
   "execution_count": 57,
   "metadata": {},
   "outputs": [],
   "source": [
    "# dblock = DataBlock(blocks=(ImageBlock, MultiCategoryBlock),\n",
    "#                    splitter=splitter,\n",
    "#                    get_x=get_x, \n",
    "#                    get_y=get_y,\n",
    "#                    item_tfms = RandomResizedCrop(128, min_scale=0.35))\n",
    "# dls = dblock.dataloaders(df)"
   ]
  },
  {
   "cell_type": "code",
   "execution_count": 14,
   "metadata": {},
   "outputs": [],
   "source": [
    "biwi = DataBlock(\n",
    "    blocks=(ImageBlock, PointBlock),\n",
    "    get_items=get_image_files,\n",
    "    get_y=get_ctr,\n",
    "    splitter=FuncSplitter(lambda o: o.parent.name=='13'),\n",
    "    batch_tfms=[*aug_transforms(size=(240,320)), \n",
    "                Normalize.from_stats(*imagenet_stats)]\n",
    ")"
   ]
  },
  {
   "cell_type": "markdown",
   "metadata": {},
   "source": [
    "> **important: Points and Data Augmentation: We're not aware of other libraries (except for fastai) that automatically and correctly apply data augmentation to coordinates. So, if you're working with another library, you may need to disable data augmentation for these kinds of problems.**"
   ]
  },
  {
   "cell_type": "markdown",
   "metadata": {},
   "source": [
    "Before doing any modeling, we should look at our data to confirm it seems okay:"
   ]
  },
  {
   "cell_type": "code",
   "execution_count": 15,
   "metadata": {},
   "outputs": [
    {
     "data": {
      "image/png": "[encoded data removed]",
      "text/plain": [
       "<Figure size 576x432 with 9 Axes>"
      ]
     },
     "metadata": {
      "needs_background": "light"
     },
     "output_type": "display_data"
    }
   ],
   "source": [
    "dls = biwi.dataloaders(path)\n",
    "dls.show_batch(max_n=9, figsize=(8,6))"
   ]
  },
  {
   "cell_type": "markdown",
   "metadata": {},
   "source": [
    "That's looking good! As well as looking at the batch visually, it's a good idea to also look at the underlying tensors (especially as a student; it will help clarify your understanding of what your model is really seeing):"
   ]
  },
  {
   "cell_type": "code",
   "execution_count": 16,
   "metadata": {
    "scrolled": true
   },
   "outputs": [
    {
     "data": {
      "text/plain": [
       "((64, 3, 240, 320), (64, 1, 2))"
      ]
     },
     "execution_count": 16,
     "metadata": {},
     "output_type": "execute_result"
    }
   ],
   "source": [
    "xb,yb = dls.one_batch()\n",
    "xb.shape,yb.shape"
   ]
  },
  {
   "cell_type": "markdown",
   "metadata": {},
   "source": [
    "### output me center row and column nikalna hai, isliye 2 hai y me"
   ]
  },
  {
   "cell_type": "markdown",
   "metadata": {},
   "source": [
    "#### upar me aise kiya tha (jo neeche likha hai)\n",
    "#### one_batch ka usage imp hai, bas yaha abhi tak train nahi kiya hai!"
   ]
  },
  {
   "cell_type": "code",
   "execution_count": 61,
   "metadata": {},
   "outputs": [],
   "source": [
    "# learn = cnn_learner(dls, resnet18) #learning step\n",
    "# x,y = to_cpu(dls.train.one_batch())\n",
    "# activs = learn.model(x)  #ye training step ka neeche diya hai\n",
    "# activs.shape"
   ]
  },
  {
   "cell_type": "markdown",
   "metadata": {},
   "source": [
    "Make sure that you understand *why* these are the shapes for our mini-batches."
   ]
  },
  {
   "cell_type": "markdown",
   "metadata": {},
   "source": [
    "Here's an example of one row from the dependent variable:"
   ]
  },
  {
   "cell_type": "code",
   "execution_count": 62,
   "metadata": {},
   "outputs": [
    {
     "data": {
      "text/plain": [
       "(TensorImage([[[ 1.4966,  1.5548,  1.6904,  ..., -1.1902,  0.1950,  0.2266],\n",
       "          [ 2.0974,  2.1009,  2.0530,  ..., -1.2596,  0.1926,  0.2256],\n",
       "          [ 2.1241,  2.1309,  2.1144,  ..., -1.3295,  0.1902,  0.2247],\n",
       "          ...,\n",
       "          [-1.9419, -2.0615, -2.0647,  ..., -1.7733, -0.2239, -0.1750],\n",
       "          [-1.8910, -2.0091, -2.0566,  ..., -1.8327, -0.2372, -0.1648],\n",
       "          [-1.8306, -1.9866, -2.0382,  ..., -1.8829, -0.2515, -0.1503]],\n",
       " \n",
       "         [[ 1.7595,  1.8294,  1.8726,  ..., -1.1949,  0.1933,  0.2363],\n",
       "          [ 2.4286,  2.4286,  2.3821,  ..., -1.2654,  0.1904,  0.2353],\n",
       "          [ 2.3708,  2.3658,  2.4050,  ..., -1.3366,  0.1875,  0.2344],\n",
       "          ...,\n",
       "          [-1.9810, -2.0306, -1.9813,  ..., -1.6142, -0.0240,  0.0081],\n",
       "          [-1.9476, -2.0115, -1.9793,  ..., -1.6731, -0.0376,  0.0208],\n",
       "          [-1.9389, -2.0227, -1.9860,  ..., -1.7224, -0.0523,  0.0379]],\n",
       " \n",
       "         [[ 2.1276,  2.1530,  2.5033,  ..., -0.9622,  0.4174,  0.4267],\n",
       "          [ 2.5551,  2.5714,  2.6400,  ..., -1.0328,  0.4160,  0.4257],\n",
       "          [ 2.6400,  2.6215,  2.4616,  ..., -1.1041,  0.4145,  0.4248],\n",
       "          ...,\n",
       "          [-1.6639, -1.6612, -1.7560,  ..., -0.9523,  0.4399,  0.1309],\n",
       "          [-1.6899, -1.6322, -1.7193,  ..., -1.0049,  0.4345,  0.1445],\n",
       "          [-1.7077, -1.6549, -1.6789,  ..., -1.0482,  0.4280,  0.1625]]], device='cuda:0'),\n",
       " '\\n\\n',\n",
       " TensorPoint([[0.1797, 0.1091]], device='cuda:0'))"
      ]
     },
     "execution_count": 62,
     "metadata": {},
     "output_type": "execute_result"
    }
   ],
   "source": [
    "xb[0],'\\n\\n' ,yb[0]"
   ]
  },
  {
   "cell_type": "markdown",
   "metadata": {},
   "source": [
    "**As you can see, we haven't had to use a separate *image regression* application; all we've had to do is label the data, and tell fastai what kinds of data the independent and dependent variables represent.**"
   ]
  },
  {
   "cell_type": "markdown",
   "metadata": {},
   "source": [
    "**It's the same for creating our `Learner`. We will use the same function as before, with one new parameter, and we will be ready to train our model.**"
   ]
  },
  {
   "cell_type": "markdown",
   "metadata": {},
   "source": [
    "### Training a Model"
   ]
  },
  {
   "cell_type": "markdown",
   "metadata": {},
   "source": [
    "As usual, **we can use `cnn_learner` to create our `Learner`. Remember way back in chapter_intro how we used `y_range` to tell fastai the range of our targets? We'll do the same here (coordinates in fastai and PyTorch are always rescaled between -1 and +1):**"
   ]
  },
  {
   "cell_type": "code",
   "execution_count": 17,
   "metadata": {},
   "outputs": [],
   "source": [
    "learn = cnn_learner(dls, resnet18, y_range=(-1,1))"
   ]
  },
  {
   "cell_type": "markdown",
   "metadata": {},
   "source": [
    "`y_range` is implemented in fastai using `sigmoid_range`, which is defined as:"
   ]
  },
  {
   "cell_type": "code",
   "execution_count": 18,
   "metadata": {},
   "outputs": [],
   "source": [
    "def sigmoid_range(x, lo, hi): return torch.sigmoid(x) * (hi-lo) + lo"
   ]
  },
  {
   "cell_type": "markdown",
   "metadata": {},
   "source": [
    "This is set as the final layer of the model, if `y_range` is defined. Take a moment to think about what this function does, and why it forces the model to output activations in the range `(lo,hi)`.\n",
    "### simple ramanathan sir ke course me tha na\n",
    "\n",
    "Here's what it looks like:"
   ]
  },
  {
   "cell_type": "markdown",
   "metadata": {},
   "source": [
    "#### min=-4 .... ka kya meaning hai --? range of x"
   ]
  },
  {
   "cell_type": "code",
   "execution_count": 65,
   "metadata": {},
   "outputs": [
    {
     "name": "stderr",
     "output_type": "stream",
     "text": [
      "/opt/conda/envs/fastai/lib/python3.8/site-packages/fastbook/__init__.py:73: UserWarning: Not providing a value for linspace's steps is deprecated and will throw a runtime error in a future release. This warning will appear only once per process. (Triggered internally at  /opt/conda/conda-bld/pytorch_1603729096996/work/aten/src/ATen/native/RangeFactories.cpp:23.)\n",
      "  x = torch.linspace(min,max)\n"
     ]
    },
    {
     "data": {
      "image/png": "[encoded data removed]",
      "text/plain": [
       "<Figure size 432x288 with 1 Axes>"
      ]
     },
     "metadata": {
      "needs_background": "light"
     },
     "output_type": "display_data"
    }
   ],
   "source": [
    "plot_function(partial(sigmoid_range,lo=-1,hi=1), min=-4, max=4)"
   ]
  },
  {
   "cell_type": "markdown",
   "metadata": {},
   "source": [
    "We didn't specify a loss function, which means we're getting whatever fastai chooses as the default. \n",
    "## Let's see what it picked for us: OPOPOP!!!"
   ]
  },
  {
   "cell_type": "code",
   "execution_count": 19,
   "metadata": {},
   "outputs": [
    {
     "data": {
      "text/plain": [
       "FlattenedLoss of MSELoss()"
      ]
     },
     "execution_count": 19,
     "metadata": {},
     "output_type": "execute_result"
    }
   ],
   "source": [
    "dls.loss_func"
   ]
  },
  {
   "cell_type": "markdown",
   "metadata": {},
   "source": [
    "**This makes sense, since when coordinates are used as the dependent variable, most of the time we're likely to be trying to predict something as close as possible; that's basically what `MSELoss` (mean squared error loss) does. If you want to use a different loss function, you can pass it to `cnn_learner` using the `loss_func` parameter.**\n",
    "\n",
    "Note also that we didn't specify any metrics. That's because the MSE is already a useful metric for this task (although it's probably more interpretable after we take the square root). \n",
    "\n",
    "We can pick a good learning rate with the learning rate finder:"
   ]
  },
  {
   "cell_type": "code",
   "execution_count": 20,
   "metadata": {
    "scrolled": true
   },
   "outputs": [
    {
     "data": {
      "text/html": [],
      "text/plain": [
       "<IPython.core.display.HTML object>"
      ]
     },
     "metadata": {},
     "output_type": "display_data"
    },
    {
     "data": {
      "text/plain": [
       "SuggestedLRs(minimum=0.006918309628963471, steep=0.03981071710586548, valley=0.0014454397605732083, slide=0.2089296132326126)"
      ]
     },
     "execution_count": 20,
     "metadata": {},
     "output_type": "execute_result"
    },
    {
     "data": {
      "image/png": "[encoded data removed]",
      "text/plain": [
       "<Figure size 432x288 with 1 Axes>"
      ]
     },
     "metadata": {
      "needs_background": "light"
     },
     "output_type": "display_data"
    }
   ],
   "source": [
    "# learn.lr_find()\n",
    "learn.lr_find(suggest_funcs=(minimum, steep, valley, slide))"
   ]
  },
  {
   "cell_type": "markdown",
   "metadata": {},
   "source": [
    "### makes nice sense, one order less than what gives least/"
   ]
  },
  {
   "cell_type": "markdown",
   "metadata": {},
   "source": [
    "We'll try an LR of 1e-2:"
   ]
  },
  {
   "cell_type": "code",
   "execution_count": 21,
   "metadata": {},
   "outputs": [
    {
     "data": {
      "text/html": [
       "<table border=\"1\" class=\"dataframe\">\n",
       "  <thead>\n",
       "    <tr style=\"text-align: left;\">\n",
       "      <th>epoch</th>\n",
       "      <th>train_loss</th>\n",
       "      <th>valid_loss</th>\n",
       "      <th>time</th>\n",
       "    </tr>\n",
       "  </thead>\n",
       "  <tbody>\n",
       "    <tr>\n",
       "      <td>0</td>\n",
       "      <td>0.046844</td>\n",
       "      <td>0.008858</td>\n",
       "      <td>03:35</td>\n",
       "    </tr>\n",
       "  </tbody>\n",
       "</table>"
      ],
      "text/plain": [
       "<IPython.core.display.HTML object>"
      ]
     },
     "metadata": {},
     "output_type": "display_data"
    },
    {
     "data": {
      "text/html": [
       "<table border=\"1\" class=\"dataframe\">\n",
       "  <thead>\n",
       "    <tr style=\"text-align: left;\">\n",
       "      <th>epoch</th>\n",
       "      <th>train_loss</th>\n",
       "      <th>valid_loss</th>\n",
       "      <th>time</th>\n",
       "    </tr>\n",
       "  </thead>\n",
       "  <tbody>\n",
       "    <tr>\n",
       "      <td>0</td>\n",
       "      <td>0.008056</td>\n",
       "      <td>0.000900</td>\n",
       "      <td>04:42</td>\n",
       "    </tr>\n",
       "    <tr>\n",
       "      <td>1</td>\n",
       "      <td>0.002903</td>\n",
       "      <td>0.000152</td>\n",
       "      <td>04:41</td>\n",
       "    </tr>\n",
       "    <tr>\n",
       "      <td>2</td>\n",
       "      <td>0.001456</td>\n",
       "      <td>0.000074</td>\n",
       "      <td>04:42</td>\n",
       "    </tr>\n",
       "  </tbody>\n",
       "</table>"
      ],
      "text/plain": [
       "<IPython.core.display.HTML object>"
      ]
     },
     "metadata": {},
     "output_type": "display_data"
    }
   ],
   "source": [
    "lr = 1e-2\n",
    "learn.fine_tune(3, lr)"
   ]
  },
  {
   "cell_type": "markdown",
   "metadata": {},
   "source": [
    "Generally when we run this we get a loss of around 0.0001, which corresponds to an average coordinate prediction error of:"
   ]
  },
  {
   "cell_type": "code",
   "execution_count": 22,
   "metadata": {},
   "outputs": [
    {
     "data": {
      "text/plain": [
       "0.01"
      ]
     },
     "execution_count": 22,
     "metadata": {},
     "output_type": "execute_result"
    }
   ],
   "source": [
    "math.sqrt(0.0001)"
   ]
  },
  {
   "cell_type": "markdown",
   "metadata": {},
   "source": [
    "This sounds very accurate! But it's important to take a look at our results with `Learner.show_results`. **The left side are the actual (*ground truth*) coordinates and the right side are our model's predictions:**"
   ]
  },
  {
   "cell_type": "code",
   "execution_count": 23,
   "metadata": {},
   "outputs": [
    {
     "data": {
      "text/html": [],
      "text/plain": [
       "<IPython.core.display.HTML object>"
      ]
     },
     "metadata": {},
     "output_type": "display_data"
    },
    {
     "data": {
      "image/png": "[encoded data removed]",
      "text/plain": [
       "<Figure size 432x576 with 6 Axes>"
      ]
     },
     "metadata": {
      "needs_background": "light"
     },
     "output_type": "display_data"
    }
   ],
   "source": [
    "learn.show_results(ds_idx=1, nrows=3, figsize=(6,8))"
   ]
  },
  {
   "cell_type": "markdown",
   "metadata": {},
   "source": [
    "It's quite amazing that with just a few minutes of computation we've created such an accurate key points model, and without any special domain-specific application. This is the power of building on flexible APIs, and using transfer learning! It's particularly striking that we've been able to use transfer learning so effectively even between totally different tasks; our pretrained model was trained to do image classification, and we fine-tuned for image regression."
   ]
  },
  {
   "cell_type": "markdown",
   "metadata": {},
   "source": [
    "## Conclusion"
   ]
  },
  {
   "cell_type": "markdown",
   "metadata": {},
   "source": [
    "In problems that are at first glance completely different (single-label classification, multi-label classification, and regression), we end up using the same model with just different numbers of outputs. The loss function is the one thing that changes, which is why it's important to double-check that you are using the right loss function for your problem.\n",
    "\n",
    "### fastai will automatically try to pick the right one from the data you built, but if you are using pure PyTorch to build your `DataLoader`s, make sure you think hard when you have to decide on your choice of loss function, and remember that you most probably want:\n",
    "\n",
    "#### - `nn.CrossEntropyLoss` for single-label classification\n",
    "#### - `nn.BCEWithLogitsLoss` for multi-label classification\n",
    "#### - `nn.MSELoss` for regression"
   ]
  },
  {
   "cell_type": "markdown",
   "metadata": {},
   "source": [
    "## Questionnaire"
   ]
  },
  {
   "cell_type": "markdown",
   "metadata": {},
   "source": [
    "1. How could multi-label classification improve the usability of the bear classifier?\n",
    "#### no bear at all wala case!\n",
    "1. How do we encode the dependent variable in a multi-label classification problem?\n",
    "#### hot encoding\n",
    "1. How do you access the rows and columns of a DataFrame as if it was a matrix?\n",
    "#### iloc, [:,aa] ya phir [aa,:]\n",
    "1. How do you get a column by name from a DataFrame?\n",
    "#### df['column_name']\n",
    "1. What is the difference between a `Dataset` and `DataLoader`?\n",
    "#### two main classes for representing and accessing a training set or validation set:\n",
    "#### Dataset:: A collection that returns a tuple of your independent and dependent variable for a single item; DataLoader:: An iterator that provides a stream of mini-batches, where each mini-batch is a tuple of a batch of independent variables and a batch of dependent variables.\n",
    "\n",
    "1. What does a `Datasets` object normally contain?\n",
    "#### for bringing your training and validation sets together:\n",
    "#### Datasets:: An object that contains a training Dataset and a validation Dataset\n",
    "\n",
    "1. What does a `DataLoaders` object normally contain?\n",
    "#### DataLoaders:: An object that contains a training DataLoader and a validation DataLoader\n",
    "\n",
    "1. What does `lambda` do in Python?\n",
    "#### one line functions with definition? and return\n",
    "\n",
    "1. What are the methods to customize how the independent and dependent variables are created with the data block API?\n",
    "#### partial waparneka, or?\n",
    "\n",
    "1. Why is softmax not an appropriate output activation function when using a one hot encoded target?\n",
    "#### we don't need sum to be 1, also we don't want to choose the one which is slightly more favoured, we want multiple categories (exp does mkae everything more exploded)\n",
    "####  softmax, as we saw, requires that all predictions sum to 1, and tends to push one activation to be much larger than the others (due to the use of exp); however, we may well have multiple objects that we're confident appear in an image, so restricting the maximum sum of activations to 1 is not a good idea. By the same reasoning, we may want the sum to be less than 1, if we don't think any of the categories appear in an image.\n",
    "\n",
    "1. Why is `nll_loss` not an appropriate loss function when using a one-hot-encoded target?\n",
    "#### nll_loss, as we saw, returns the value of just one activation: the single activation corresponding with the single label for an item. This doesn't make sense when we have multiple labels. ye nahi chalege since we want multiple labels. makes all sense!!\n",
    "\n",
    "1. What is the difference between `nn.BCELoss` and `nn.BCEWithLogitsLoss`?\n",
    "#### `F.binary_cross_entropy` and its module equivalent `nn.BCELoss` calculate cross-entropy on a one-hot-encoded target, but do not include the initial `sigmoid`. Normally for one-hot-encoded targets you'll want `F.binary_cross_entropy_with_logits` (or `nn.BCEWithLogitsLoss`), which do both sigmoid and binary cross-entropy in a single function, as in the preceding example.\n",
    "#### The equivalent for single-label datasets (like MNIST or the Pet dataset), where the target is encoded as a single integer, is `F.nll_loss` or `nn.NLLLoss` for the version without the initial softmax, and `F.cross_entropy` or `nn.CrossEntropyLoss` for the version with the initial softmax.\n",
    "#### Since we have a one-hot-encoded target, we will use `BCEWithLogitsLoss\n",
    "\n",
    "1. Why can't we use regular accuracy in a multi-label problem?\n",
    "#### because this is a multilabel problem, we can't use the accuracy function.\n",
    "```\n",
    "def accuracy(inp, targ, axis=-1):\n",
    "    \"Compute accuracy with `targ` when `pred` is bs * n_classes\"\n",
    "    pred = inp.argmax(dim=axis)\n",
    "    return (pred == targ).float().mean()\n",
    "```\n",
    "#### The class predicted was the one with the highest activation (this is what `argmax` does). Here it doesn't work because we could have more than one prediction on a single image.\n",
    "\n",
    "1. When is it okay to tune a hyperparameter on the validation set?\n",
    "#### when curve is smooth\n",
    "\n",
    "1. How is `y_range` implemented in fastai? (See if you can implement it yourself and test it without peeking!)\n",
    "#### direct y_range likhte hai na!\n",
    "```\n",
    "learn = cnn_learner(dls, resnet18, y_range=(-1,1))\n",
    "def sigmoid_range(x, lo, hi): return torch.sigmoid(x) * (hi-lo) + lo\n",
    "partial(sigmoid_range,lo=-1,hi=1\n",
    "```\n",
    "\n",
    "1. What is a regression problem? What loss function should you use for such a problem?\n",
    "#### fitting the best curve inside. MSE loss no\n",
    "#### two types of computer vision problems: multi-label classification and regression. The first one is when you want to predict more than one label per image (or sometimes none at all), and the second is when your labels are one or several numbers—a quantity instead of a category.\n",
    "#### .image regression. This refers to learning from a dataset where the independent variable is an image, and the dependent variable is one or more floats. Often we see people treat image regression as a whole separate application—but as you'll see here, we can treat it as just another CNN on top of the data block API.\n",
    "#### since when coordinates are used as the dependent variable, most of the time we're likely to be trying to predict something as close as possible; that's basically what MSELoss (mean squared error loss) does. If you want to use a different loss function, you can pass it to cnn_learner using the loss_func parameter.\n",
    "\n",
    "1. What do you need to do to make sure the fastai library applies the same data augmentation to your input images and your target point coordinates?\n",
    "#### second block is a PointBlock. This is necessary so that fastai knows that the labels represent coordinates; that way, it knows that when doing data augmentation, it should do the same augmentation to these coordinates as it does to the images:"
   ]
  },
  {
   "cell_type": "markdown",
   "metadata": {},
   "source": [
    "### Further Research"
   ]
  },
  {
   "cell_type": "markdown",
   "metadata": {},
   "source": [
    "1. Read a tutorial about Pandas DataFrames and experiment with a few methods that look interesting to you. See the book's website for recommended tutorials.\n",
    "1. Retrain the bear classifier using multi-label classification. See if you can make it work effectively with images that don't contain any bears, including showing that information in the web application. Try an image with two different kinds of bears. Check whether the accuracy on the single-label dataset is impacted using multi-label classification.\n",
    "# try while going through through all of this twice!"
   ]
  },
  {
   "cell_type": "code",
   "execution_count": null,
   "metadata": {},
   "outputs": [],
   "source": []
  }
 ],
 "metadata": {
  "jupytext": {
   "split_at_heading": true
  },
  "kernelspec": {
   "display_name": "Python 3",
   "language": "python",
   "name": "python3"
  },
  "language_info": {
   "codemirror_mode": {
    "name": "ipython",
    "version": 3
   },
   "file_extension": ".py",
   "mimetype": "text/x-python",
   "name": "python",
   "nbconvert_exporter": "python",
   "pygments_lexer": "ipython3",
   "version": "3.8.11"
  }
 },
 "nbformat": 4,
 "nbformat_minor": 2
}
