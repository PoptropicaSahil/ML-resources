{
 "cells": [
  {
   "cell_type": "code",
   "execution_count": 1,
   "metadata": {},
   "outputs": [],
   "source": [
    "import fastbook\n",
    "fastbook.setup_book()\n",
    "from fastai.vision.all import *\n",
    "from fastbook import *\n",
    "\n",
    "matplotlib.rc('image', cmap='Greys')"
   ]
  },
  {
   "cell_type": "code",
   "execution_count": 2,
   "metadata": {},
   "outputs": [],
   "source": [
    "path = untar_data(URLs.MNIST_SAMPLE)\n",
    "path.ls()\n",
    "#LS means contents of a list\n",
    "\n",
    "threes = (path/'train'/'3').ls().sorted()\n",
    "sevens = (path/'train'/'7').ls().sorted()\n",
    "im3_path = threes[1]\n",
    "im3 = Image.open(im3_path)"
   ]
  },
  {
   "cell_type": "code",
   "execution_count": 3,
   "metadata": {},
   "outputs": [
    {
     "data": {
      "text/html": [
       "<style  type=\"text/css\" >\n",
       "#T_cea47cfc_e388_11eb_96bd_06a8a5226d32row0_col0,#T_cea47cfc_e388_11eb_96bd_06a8a5226d32row0_col1,#T_cea47cfc_e388_11eb_96bd_06a8a5226d32row0_col2,#T_cea47cfc_e388_11eb_96bd_06a8a5226d32row0_col3,#T_cea47cfc_e388_11eb_96bd_06a8a5226d32row0_col4,#T_cea47cfc_e388_11eb_96bd_06a8a5226d32row0_col5,#T_cea47cfc_e388_11eb_96bd_06a8a5226d32row0_col6,#T_cea47cfc_e388_11eb_96bd_06a8a5226d32row0_col7,#T_cea47cfc_e388_11eb_96bd_06a8a5226d32row0_col8,#T_cea47cfc_e388_11eb_96bd_06a8a5226d32row0_col9,#T_cea47cfc_e388_11eb_96bd_06a8a5226d32row0_col10,#T_cea47cfc_e388_11eb_96bd_06a8a5226d32row0_col11,#T_cea47cfc_e388_11eb_96bd_06a8a5226d32row0_col12,#T_cea47cfc_e388_11eb_96bd_06a8a5226d32row0_col13,#T_cea47cfc_e388_11eb_96bd_06a8a5226d32row0_col14,#T_cea47cfc_e388_11eb_96bd_06a8a5226d32row0_col15,#T_cea47cfc_e388_11eb_96bd_06a8a5226d32row0_col16,#T_cea47cfc_e388_11eb_96bd_06a8a5226d32row0_col17,#T_cea47cfc_e388_11eb_96bd_06a8a5226d32row1_col0,#T_cea47cfc_e388_11eb_96bd_06a8a5226d32row1_col1,#T_cea47cfc_e388_11eb_96bd_06a8a5226d32row1_col2,#T_cea47cfc_e388_11eb_96bd_06a8a5226d32row1_col3,#T_cea47cfc_e388_11eb_96bd_06a8a5226d32row1_col4,#T_cea47cfc_e388_11eb_96bd_06a8a5226d32row1_col5,#T_cea47cfc_e388_11eb_96bd_06a8a5226d32row1_col6,#T_cea47cfc_e388_11eb_96bd_06a8a5226d32row1_col7,#T_cea47cfc_e388_11eb_96bd_06a8a5226d32row1_col8,#T_cea47cfc_e388_11eb_96bd_06a8a5226d32row1_col9,#T_cea47cfc_e388_11eb_96bd_06a8a5226d32row1_col10,#T_cea47cfc_e388_11eb_96bd_06a8a5226d32row1_col11,#T_cea47cfc_e388_11eb_96bd_06a8a5226d32row1_col12,#T_cea47cfc_e388_11eb_96bd_06a8a5226d32row1_col13,#T_cea47cfc_e388_11eb_96bd_06a8a5226d32row1_col14,#T_cea47cfc_e388_11eb_96bd_06a8a5226d32row1_col15,#T_cea47cfc_e388_11eb_96bd_06a8a5226d32row1_col16,#T_cea47cfc_e388_11eb_96bd_06a8a5226d32row1_col17,#T_cea47cfc_e388_11eb_96bd_06a8a5226d32row2_col0,#T_cea47cfc_e388_11eb_96bd_06a8a5226d32row2_col1,#T_cea47cfc_e388_11eb_96bd_06a8a5226d32row2_col2,#T_cea47cfc_e388_11eb_96bd_06a8a5226d32row2_col3,#T_cea47cfc_e388_11eb_96bd_06a8a5226d32row2_col4,#T_cea47cfc_e388_11eb_96bd_06a8a5226d32row2_col5,#T_cea47cfc_e388_11eb_96bd_06a8a5226d32row2_col6,#T_cea47cfc_e388_11eb_96bd_06a8a5226d32row2_col7,#T_cea47cfc_e388_11eb_96bd_06a8a5226d32row2_col8,#T_cea47cfc_e388_11eb_96bd_06a8a5226d32row2_col9,#T_cea47cfc_e388_11eb_96bd_06a8a5226d32row2_col10,#T_cea47cfc_e388_11eb_96bd_06a8a5226d32row2_col11,#T_cea47cfc_e388_11eb_96bd_06a8a5226d32row2_col12,#T_cea47cfc_e388_11eb_96bd_06a8a5226d32row2_col13,#T_cea47cfc_e388_11eb_96bd_06a8a5226d32row2_col14,#T_cea47cfc_e388_11eb_96bd_06a8a5226d32row2_col15,#T_cea47cfc_e388_11eb_96bd_06a8a5226d32row2_col16,#T_cea47cfc_e388_11eb_96bd_06a8a5226d32row2_col17,#T_cea47cfc_e388_11eb_96bd_06a8a5226d32row3_col0,#T_cea47cfc_e388_11eb_96bd_06a8a5226d32row3_col1,#T_cea47cfc_e388_11eb_96bd_06a8a5226d32row3_col2,#T_cea47cfc_e388_11eb_96bd_06a8a5226d32row3_col3,#T_cea47cfc_e388_11eb_96bd_06a8a5226d32row3_col4,#T_cea47cfc_e388_11eb_96bd_06a8a5226d32row3_col5,#T_cea47cfc_e388_11eb_96bd_06a8a5226d32row3_col6,#T_cea47cfc_e388_11eb_96bd_06a8a5226d32row3_col7,#T_cea47cfc_e388_11eb_96bd_06a8a5226d32row3_col8,#T_cea47cfc_e388_11eb_96bd_06a8a5226d32row3_col9,#T_cea47cfc_e388_11eb_96bd_06a8a5226d32row3_col10,#T_cea47cfc_e388_11eb_96bd_06a8a5226d32row3_col11,#T_cea47cfc_e388_11eb_96bd_06a8a5226d32row3_col12,#T_cea47cfc_e388_11eb_96bd_06a8a5226d32row3_col13,#T_cea47cfc_e388_11eb_96bd_06a8a5226d32row3_col14,#T_cea47cfc_e388_11eb_96bd_06a8a5226d32row3_col15,#T_cea47cfc_e388_11eb_96bd_06a8a5226d32row3_col16,#T_cea47cfc_e388_11eb_96bd_06a8a5226d32row3_col17,#T_cea47cfc_e388_11eb_96bd_06a8a5226d32row4_col0,#T_cea47cfc_e388_11eb_96bd_06a8a5226d32row4_col1,#T_cea47cfc_e388_11eb_96bd_06a8a5226d32row4_col2,#T_cea47cfc_e388_11eb_96bd_06a8a5226d32row4_col3,#T_cea47cfc_e388_11eb_96bd_06a8a5226d32row4_col4,#T_cea47cfc_e388_11eb_96bd_06a8a5226d32row4_col15,#T_cea47cfc_e388_11eb_96bd_06a8a5226d32row4_col16,#T_cea47cfc_e388_11eb_96bd_06a8a5226d32row4_col17,#T_cea47cfc_e388_11eb_96bd_06a8a5226d32row5_col0,#T_cea47cfc_e388_11eb_96bd_06a8a5226d32row5_col1,#T_cea47cfc_e388_11eb_96bd_06a8a5226d32row5_col2,#T_cea47cfc_e388_11eb_96bd_06a8a5226d32row5_col15,#T_cea47cfc_e388_11eb_96bd_06a8a5226d32row5_col16,#T_cea47cfc_e388_11eb_96bd_06a8a5226d32row5_col17,#T_cea47cfc_e388_11eb_96bd_06a8a5226d32row6_col0,#T_cea47cfc_e388_11eb_96bd_06a8a5226d32row6_col15,#T_cea47cfc_e388_11eb_96bd_06a8a5226d32row6_col16,#T_cea47cfc_e388_11eb_96bd_06a8a5226d32row6_col17,#T_cea47cfc_e388_11eb_96bd_06a8a5226d32row7_col0,#T_cea47cfc_e388_11eb_96bd_06a8a5226d32row7_col6,#T_cea47cfc_e388_11eb_96bd_06a8a5226d32row7_col7,#T_cea47cfc_e388_11eb_96bd_06a8a5226d32row7_col8,#T_cea47cfc_e388_11eb_96bd_06a8a5226d32row7_col9,#T_cea47cfc_e388_11eb_96bd_06a8a5226d32row7_col10,#T_cea47cfc_e388_11eb_96bd_06a8a5226d32row7_col15,#T_cea47cfc_e388_11eb_96bd_06a8a5226d32row7_col16,#T_cea47cfc_e388_11eb_96bd_06a8a5226d32row7_col17,#T_cea47cfc_e388_11eb_96bd_06a8a5226d32row8_col0,#T_cea47cfc_e388_11eb_96bd_06a8a5226d32row8_col5,#T_cea47cfc_e388_11eb_96bd_06a8a5226d32row8_col6,#T_cea47cfc_e388_11eb_96bd_06a8a5226d32row8_col7,#T_cea47cfc_e388_11eb_96bd_06a8a5226d32row8_col8,#T_cea47cfc_e388_11eb_96bd_06a8a5226d32row8_col9,#T_cea47cfc_e388_11eb_96bd_06a8a5226d32row8_col15,#T_cea47cfc_e388_11eb_96bd_06a8a5226d32row8_col16,#T_cea47cfc_e388_11eb_96bd_06a8a5226d32row8_col17{\n",
       "            font-size:  8pt;\n",
       "            background-color:  #f7fbff;\n",
       "            color:  #000000;\n",
       "        }#T_cea47cfc_e388_11eb_96bd_06a8a5226d32row4_col5{\n",
       "            font-size:  8pt;\n",
       "            background-color:  #ddeaf7;\n",
       "            color:  #000000;\n",
       "        }#T_cea47cfc_e388_11eb_96bd_06a8a5226d32row4_col6,#T_cea47cfc_e388_11eb_96bd_06a8a5226d32row4_col13{\n",
       "            font-size:  8pt;\n",
       "            background-color:  #4d99ca;\n",
       "            color:  #000000;\n",
       "        }#T_cea47cfc_e388_11eb_96bd_06a8a5226d32row4_col7{\n",
       "            font-size:  8pt;\n",
       "            background-color:  #1c6bb0;\n",
       "            color:  #f1f1f1;\n",
       "        }#T_cea47cfc_e388_11eb_96bd_06a8a5226d32row4_col8,#T_cea47cfc_e388_11eb_96bd_06a8a5226d32row4_col9,#T_cea47cfc_e388_11eb_96bd_06a8a5226d32row4_col10,#T_cea47cfc_e388_11eb_96bd_06a8a5226d32row5_col5,#T_cea47cfc_e388_11eb_96bd_06a8a5226d32row5_col6,#T_cea47cfc_e388_11eb_96bd_06a8a5226d32row5_col7,#T_cea47cfc_e388_11eb_96bd_06a8a5226d32row5_col11,#T_cea47cfc_e388_11eb_96bd_06a8a5226d32row5_col12,#T_cea47cfc_e388_11eb_96bd_06a8a5226d32row5_col13,#T_cea47cfc_e388_11eb_96bd_06a8a5226d32row5_col14,#T_cea47cfc_e388_11eb_96bd_06a8a5226d32row6_col4,#T_cea47cfc_e388_11eb_96bd_06a8a5226d32row6_col12,#T_cea47cfc_e388_11eb_96bd_06a8a5226d32row6_col13,#T_cea47cfc_e388_11eb_96bd_06a8a5226d32row6_col14,#T_cea47cfc_e388_11eb_96bd_06a8a5226d32row7_col1,#T_cea47cfc_e388_11eb_96bd_06a8a5226d32row7_col2,#T_cea47cfc_e388_11eb_96bd_06a8a5226d32row7_col3,#T_cea47cfc_e388_11eb_96bd_06a8a5226d32row7_col12,#T_cea47cfc_e388_11eb_96bd_06a8a5226d32row7_col13,#T_cea47cfc_e388_11eb_96bd_06a8a5226d32row8_col12{\n",
       "            font-size:  8pt;\n",
       "            background-color:  #08306b;\n",
       "            color:  #f1f1f1;\n",
       "        }#T_cea47cfc_e388_11eb_96bd_06a8a5226d32row4_col11{\n",
       "            font-size:  8pt;\n",
       "            background-color:  #2f7fbc;\n",
       "            color:  #000000;\n",
       "        }#T_cea47cfc_e388_11eb_96bd_06a8a5226d32row4_col12{\n",
       "            font-size:  8pt;\n",
       "            background-color:  #1e6db2;\n",
       "            color:  #f1f1f1;\n",
       "        }#T_cea47cfc_e388_11eb_96bd_06a8a5226d32row4_col14{\n",
       "            font-size:  8pt;\n",
       "            background-color:  #8fc2de;\n",
       "            color:  #000000;\n",
       "        }#T_cea47cfc_e388_11eb_96bd_06a8a5226d32row5_col3{\n",
       "            font-size:  8pt;\n",
       "            background-color:  #d2e3f3;\n",
       "            color:  #000000;\n",
       "        }#T_cea47cfc_e388_11eb_96bd_06a8a5226d32row5_col4{\n",
       "            font-size:  8pt;\n",
       "            background-color:  #3a8ac2;\n",
       "            color:  #000000;\n",
       "        }#T_cea47cfc_e388_11eb_96bd_06a8a5226d32row5_col8{\n",
       "            font-size:  8pt;\n",
       "            background-color:  #08458a;\n",
       "            color:  #f1f1f1;\n",
       "        }#T_cea47cfc_e388_11eb_96bd_06a8a5226d32row5_col9,#T_cea47cfc_e388_11eb_96bd_06a8a5226d32row6_col11{\n",
       "            font-size:  8pt;\n",
       "            background-color:  #1d6cb1;\n",
       "            color:  #f1f1f1;\n",
       "        }#T_cea47cfc_e388_11eb_96bd_06a8a5226d32row5_col10{\n",
       "            font-size:  8pt;\n",
       "            background-color:  #08316d;\n",
       "            color:  #f1f1f1;\n",
       "        }#T_cea47cfc_e388_11eb_96bd_06a8a5226d32row6_col1{\n",
       "            font-size:  8pt;\n",
       "            background-color:  #09529d;\n",
       "            color:  #f1f1f1;\n",
       "        }#T_cea47cfc_e388_11eb_96bd_06a8a5226d32row6_col2{\n",
       "            font-size:  8pt;\n",
       "            background-color:  #083979;\n",
       "            color:  #f1f1f1;\n",
       "        }#T_cea47cfc_e388_11eb_96bd_06a8a5226d32row6_col3{\n",
       "            font-size:  8pt;\n",
       "            background-color:  #083471;\n",
       "            color:  #f1f1f1;\n",
       "        }#T_cea47cfc_e388_11eb_96bd_06a8a5226d32row6_col5{\n",
       "            font-size:  8pt;\n",
       "            background-color:  #105ba4;\n",
       "            color:  #f1f1f1;\n",
       "        }#T_cea47cfc_e388_11eb_96bd_06a8a5226d32row6_col6{\n",
       "            font-size:  8pt;\n",
       "            background-color:  #d3e4f3;\n",
       "            color:  #000000;\n",
       "        }#T_cea47cfc_e388_11eb_96bd_06a8a5226d32row6_col7,#T_cea47cfc_e388_11eb_96bd_06a8a5226d32row6_col10{\n",
       "            font-size:  8pt;\n",
       "            background-color:  #eff6fc;\n",
       "            color:  #000000;\n",
       "        }#T_cea47cfc_e388_11eb_96bd_06a8a5226d32row6_col8{\n",
       "            font-size:  8pt;\n",
       "            background-color:  #f1f7fd;\n",
       "            color:  #000000;\n",
       "        }#T_cea47cfc_e388_11eb_96bd_06a8a5226d32row6_col9{\n",
       "            font-size:  8pt;\n",
       "            background-color:  #f4f9fe;\n",
       "            color:  #000000;\n",
       "        }#T_cea47cfc_e388_11eb_96bd_06a8a5226d32row7_col4{\n",
       "            font-size:  8pt;\n",
       "            background-color:  #08488e;\n",
       "            color:  #f1f1f1;\n",
       "        }#T_cea47cfc_e388_11eb_96bd_06a8a5226d32row7_col5{\n",
       "            font-size:  8pt;\n",
       "            background-color:  #cde0f1;\n",
       "            color:  #000000;\n",
       "        }#T_cea47cfc_e388_11eb_96bd_06a8a5226d32row7_col11{\n",
       "            font-size:  8pt;\n",
       "            background-color:  #1f6eb3;\n",
       "            color:  #f1f1f1;\n",
       "        }#T_cea47cfc_e388_11eb_96bd_06a8a5226d32row7_col14{\n",
       "            font-size:  8pt;\n",
       "            background-color:  #3686c0;\n",
       "            color:  #000000;\n",
       "        }#T_cea47cfc_e388_11eb_96bd_06a8a5226d32row8_col1{\n",
       "            font-size:  8pt;\n",
       "            background-color:  #f2f7fd;\n",
       "            color:  #000000;\n",
       "        }#T_cea47cfc_e388_11eb_96bd_06a8a5226d32row8_col2,#T_cea47cfc_e388_11eb_96bd_06a8a5226d32row8_col3{\n",
       "            font-size:  8pt;\n",
       "            background-color:  #e7f1fa;\n",
       "            color:  #000000;\n",
       "        }#T_cea47cfc_e388_11eb_96bd_06a8a5226d32row8_col4{\n",
       "            font-size:  8pt;\n",
       "            background-color:  #ebf3fb;\n",
       "            color:  #000000;\n",
       "        }#T_cea47cfc_e388_11eb_96bd_06a8a5226d32row8_col10{\n",
       "            font-size:  8pt;\n",
       "            background-color:  #d6e5f4;\n",
       "            color:  #000000;\n",
       "        }#T_cea47cfc_e388_11eb_96bd_06a8a5226d32row8_col11{\n",
       "            font-size:  8pt;\n",
       "            background-color:  #084e98;\n",
       "            color:  #f1f1f1;\n",
       "        }#T_cea47cfc_e388_11eb_96bd_06a8a5226d32row8_col13{\n",
       "            font-size:  8pt;\n",
       "            background-color:  #083877;\n",
       "            color:  #f1f1f1;\n",
       "        }#T_cea47cfc_e388_11eb_96bd_06a8a5226d32row8_col14{\n",
       "            font-size:  8pt;\n",
       "            background-color:  #b0d2e7;\n",
       "            color:  #000000;\n",
       "        }</style><table id=\"T_cea47cfc_e388_11eb_96bd_06a8a5226d32\" ><thead>    <tr>        <th class=\"blank level0\" ></th>        <th class=\"col_heading level0 col0\" >0</th>        <th class=\"col_heading level0 col1\" >1</th>        <th class=\"col_heading level0 col2\" >2</th>        <th class=\"col_heading level0 col3\" >3</th>        <th class=\"col_heading level0 col4\" >4</th>        <th class=\"col_heading level0 col5\" >5</th>        <th class=\"col_heading level0 col6\" >6</th>        <th class=\"col_heading level0 col7\" >7</th>        <th class=\"col_heading level0 col8\" >8</th>        <th class=\"col_heading level0 col9\" >9</th>        <th class=\"col_heading level0 col10\" >10</th>        <th class=\"col_heading level0 col11\" >11</th>        <th class=\"col_heading level0 col12\" >12</th>        <th class=\"col_heading level0 col13\" >13</th>        <th class=\"col_heading level0 col14\" >14</th>        <th class=\"col_heading level0 col15\" >15</th>        <th class=\"col_heading level0 col16\" >16</th>        <th class=\"col_heading level0 col17\" >17</th>    </tr></thead><tbody>\n",
       "                <tr>\n",
       "                        <th id=\"T_cea47cfc_e388_11eb_96bd_06a8a5226d32level0_row0\" class=\"row_heading level0 row0\" >0</th>\n",
       "                        <td id=\"T_cea47cfc_e388_11eb_96bd_06a8a5226d32row0_col0\" class=\"data row0 col0\" >0</td>\n",
       "                        <td id=\"T_cea47cfc_e388_11eb_96bd_06a8a5226d32row0_col1\" class=\"data row0 col1\" >0</td>\n",
       "                        <td id=\"T_cea47cfc_e388_11eb_96bd_06a8a5226d32row0_col2\" class=\"data row0 col2\" >0</td>\n",
       "                        <td id=\"T_cea47cfc_e388_11eb_96bd_06a8a5226d32row0_col3\" class=\"data row0 col3\" >0</td>\n",
       "                        <td id=\"T_cea47cfc_e388_11eb_96bd_06a8a5226d32row0_col4\" class=\"data row0 col4\" >0</td>\n",
       "                        <td id=\"T_cea47cfc_e388_11eb_96bd_06a8a5226d32row0_col5\" class=\"data row0 col5\" >0</td>\n",
       "                        <td id=\"T_cea47cfc_e388_11eb_96bd_06a8a5226d32row0_col6\" class=\"data row0 col6\" >0</td>\n",
       "                        <td id=\"T_cea47cfc_e388_11eb_96bd_06a8a5226d32row0_col7\" class=\"data row0 col7\" >0</td>\n",
       "                        <td id=\"T_cea47cfc_e388_11eb_96bd_06a8a5226d32row0_col8\" class=\"data row0 col8\" >0</td>\n",
       "                        <td id=\"T_cea47cfc_e388_11eb_96bd_06a8a5226d32row0_col9\" class=\"data row0 col9\" >0</td>\n",
       "                        <td id=\"T_cea47cfc_e388_11eb_96bd_06a8a5226d32row0_col10\" class=\"data row0 col10\" >0</td>\n",
       "                        <td id=\"T_cea47cfc_e388_11eb_96bd_06a8a5226d32row0_col11\" class=\"data row0 col11\" >0</td>\n",
       "                        <td id=\"T_cea47cfc_e388_11eb_96bd_06a8a5226d32row0_col12\" class=\"data row0 col12\" >0</td>\n",
       "                        <td id=\"T_cea47cfc_e388_11eb_96bd_06a8a5226d32row0_col13\" class=\"data row0 col13\" >0</td>\n",
       "                        <td id=\"T_cea47cfc_e388_11eb_96bd_06a8a5226d32row0_col14\" class=\"data row0 col14\" >0</td>\n",
       "                        <td id=\"T_cea47cfc_e388_11eb_96bd_06a8a5226d32row0_col15\" class=\"data row0 col15\" >0</td>\n",
       "                        <td id=\"T_cea47cfc_e388_11eb_96bd_06a8a5226d32row0_col16\" class=\"data row0 col16\" >0</td>\n",
       "                        <td id=\"T_cea47cfc_e388_11eb_96bd_06a8a5226d32row0_col17\" class=\"data row0 col17\" >0</td>\n",
       "            </tr>\n",
       "            <tr>\n",
       "                        <th id=\"T_cea47cfc_e388_11eb_96bd_06a8a5226d32level0_row1\" class=\"row_heading level0 row1\" >1</th>\n",
       "                        <td id=\"T_cea47cfc_e388_11eb_96bd_06a8a5226d32row1_col0\" class=\"data row1 col0\" >0</td>\n",
       "                        <td id=\"T_cea47cfc_e388_11eb_96bd_06a8a5226d32row1_col1\" class=\"data row1 col1\" >0</td>\n",
       "                        <td id=\"T_cea47cfc_e388_11eb_96bd_06a8a5226d32row1_col2\" class=\"data row1 col2\" >0</td>\n",
       "                        <td id=\"T_cea47cfc_e388_11eb_96bd_06a8a5226d32row1_col3\" class=\"data row1 col3\" >0</td>\n",
       "                        <td id=\"T_cea47cfc_e388_11eb_96bd_06a8a5226d32row1_col4\" class=\"data row1 col4\" >0</td>\n",
       "                        <td id=\"T_cea47cfc_e388_11eb_96bd_06a8a5226d32row1_col5\" class=\"data row1 col5\" >0</td>\n",
       "                        <td id=\"T_cea47cfc_e388_11eb_96bd_06a8a5226d32row1_col6\" class=\"data row1 col6\" >0</td>\n",
       "                        <td id=\"T_cea47cfc_e388_11eb_96bd_06a8a5226d32row1_col7\" class=\"data row1 col7\" >0</td>\n",
       "                        <td id=\"T_cea47cfc_e388_11eb_96bd_06a8a5226d32row1_col8\" class=\"data row1 col8\" >0</td>\n",
       "                        <td id=\"T_cea47cfc_e388_11eb_96bd_06a8a5226d32row1_col9\" class=\"data row1 col9\" >0</td>\n",
       "                        <td id=\"T_cea47cfc_e388_11eb_96bd_06a8a5226d32row1_col10\" class=\"data row1 col10\" >0</td>\n",
       "                        <td id=\"T_cea47cfc_e388_11eb_96bd_06a8a5226d32row1_col11\" class=\"data row1 col11\" >0</td>\n",
       "                        <td id=\"T_cea47cfc_e388_11eb_96bd_06a8a5226d32row1_col12\" class=\"data row1 col12\" >0</td>\n",
       "                        <td id=\"T_cea47cfc_e388_11eb_96bd_06a8a5226d32row1_col13\" class=\"data row1 col13\" >0</td>\n",
       "                        <td id=\"T_cea47cfc_e388_11eb_96bd_06a8a5226d32row1_col14\" class=\"data row1 col14\" >0</td>\n",
       "                        <td id=\"T_cea47cfc_e388_11eb_96bd_06a8a5226d32row1_col15\" class=\"data row1 col15\" >0</td>\n",
       "                        <td id=\"T_cea47cfc_e388_11eb_96bd_06a8a5226d32row1_col16\" class=\"data row1 col16\" >0</td>\n",
       "                        <td id=\"T_cea47cfc_e388_11eb_96bd_06a8a5226d32row1_col17\" class=\"data row1 col17\" >0</td>\n",
       "            </tr>\n",
       "            <tr>\n",
       "                        <th id=\"T_cea47cfc_e388_11eb_96bd_06a8a5226d32level0_row2\" class=\"row_heading level0 row2\" >2</th>\n",
       "                        <td id=\"T_cea47cfc_e388_11eb_96bd_06a8a5226d32row2_col0\" class=\"data row2 col0\" >0</td>\n",
       "                        <td id=\"T_cea47cfc_e388_11eb_96bd_06a8a5226d32row2_col1\" class=\"data row2 col1\" >0</td>\n",
       "                        <td id=\"T_cea47cfc_e388_11eb_96bd_06a8a5226d32row2_col2\" class=\"data row2 col2\" >0</td>\n",
       "                        <td id=\"T_cea47cfc_e388_11eb_96bd_06a8a5226d32row2_col3\" class=\"data row2 col3\" >0</td>\n",
       "                        <td id=\"T_cea47cfc_e388_11eb_96bd_06a8a5226d32row2_col4\" class=\"data row2 col4\" >0</td>\n",
       "                        <td id=\"T_cea47cfc_e388_11eb_96bd_06a8a5226d32row2_col5\" class=\"data row2 col5\" >0</td>\n",
       "                        <td id=\"T_cea47cfc_e388_11eb_96bd_06a8a5226d32row2_col6\" class=\"data row2 col6\" >0</td>\n",
       "                        <td id=\"T_cea47cfc_e388_11eb_96bd_06a8a5226d32row2_col7\" class=\"data row2 col7\" >0</td>\n",
       "                        <td id=\"T_cea47cfc_e388_11eb_96bd_06a8a5226d32row2_col8\" class=\"data row2 col8\" >0</td>\n",
       "                        <td id=\"T_cea47cfc_e388_11eb_96bd_06a8a5226d32row2_col9\" class=\"data row2 col9\" >0</td>\n",
       "                        <td id=\"T_cea47cfc_e388_11eb_96bd_06a8a5226d32row2_col10\" class=\"data row2 col10\" >0</td>\n",
       "                        <td id=\"T_cea47cfc_e388_11eb_96bd_06a8a5226d32row2_col11\" class=\"data row2 col11\" >0</td>\n",
       "                        <td id=\"T_cea47cfc_e388_11eb_96bd_06a8a5226d32row2_col12\" class=\"data row2 col12\" >0</td>\n",
       "                        <td id=\"T_cea47cfc_e388_11eb_96bd_06a8a5226d32row2_col13\" class=\"data row2 col13\" >0</td>\n",
       "                        <td id=\"T_cea47cfc_e388_11eb_96bd_06a8a5226d32row2_col14\" class=\"data row2 col14\" >0</td>\n",
       "                        <td id=\"T_cea47cfc_e388_11eb_96bd_06a8a5226d32row2_col15\" class=\"data row2 col15\" >0</td>\n",
       "                        <td id=\"T_cea47cfc_e388_11eb_96bd_06a8a5226d32row2_col16\" class=\"data row2 col16\" >0</td>\n",
       "                        <td id=\"T_cea47cfc_e388_11eb_96bd_06a8a5226d32row2_col17\" class=\"data row2 col17\" >0</td>\n",
       "            </tr>\n",
       "            <tr>\n",
       "                        <th id=\"T_cea47cfc_e388_11eb_96bd_06a8a5226d32level0_row3\" class=\"row_heading level0 row3\" >3</th>\n",
       "                        <td id=\"T_cea47cfc_e388_11eb_96bd_06a8a5226d32row3_col0\" class=\"data row3 col0\" >0</td>\n",
       "                        <td id=\"T_cea47cfc_e388_11eb_96bd_06a8a5226d32row3_col1\" class=\"data row3 col1\" >0</td>\n",
       "                        <td id=\"T_cea47cfc_e388_11eb_96bd_06a8a5226d32row3_col2\" class=\"data row3 col2\" >0</td>\n",
       "                        <td id=\"T_cea47cfc_e388_11eb_96bd_06a8a5226d32row3_col3\" class=\"data row3 col3\" >0</td>\n",
       "                        <td id=\"T_cea47cfc_e388_11eb_96bd_06a8a5226d32row3_col4\" class=\"data row3 col4\" >0</td>\n",
       "                        <td id=\"T_cea47cfc_e388_11eb_96bd_06a8a5226d32row3_col5\" class=\"data row3 col5\" >0</td>\n",
       "                        <td id=\"T_cea47cfc_e388_11eb_96bd_06a8a5226d32row3_col6\" class=\"data row3 col6\" >0</td>\n",
       "                        <td id=\"T_cea47cfc_e388_11eb_96bd_06a8a5226d32row3_col7\" class=\"data row3 col7\" >0</td>\n",
       "                        <td id=\"T_cea47cfc_e388_11eb_96bd_06a8a5226d32row3_col8\" class=\"data row3 col8\" >0</td>\n",
       "                        <td id=\"T_cea47cfc_e388_11eb_96bd_06a8a5226d32row3_col9\" class=\"data row3 col9\" >0</td>\n",
       "                        <td id=\"T_cea47cfc_e388_11eb_96bd_06a8a5226d32row3_col10\" class=\"data row3 col10\" >0</td>\n",
       "                        <td id=\"T_cea47cfc_e388_11eb_96bd_06a8a5226d32row3_col11\" class=\"data row3 col11\" >0</td>\n",
       "                        <td id=\"T_cea47cfc_e388_11eb_96bd_06a8a5226d32row3_col12\" class=\"data row3 col12\" >0</td>\n",
       "                        <td id=\"T_cea47cfc_e388_11eb_96bd_06a8a5226d32row3_col13\" class=\"data row3 col13\" >0</td>\n",
       "                        <td id=\"T_cea47cfc_e388_11eb_96bd_06a8a5226d32row3_col14\" class=\"data row3 col14\" >0</td>\n",
       "                        <td id=\"T_cea47cfc_e388_11eb_96bd_06a8a5226d32row3_col15\" class=\"data row3 col15\" >0</td>\n",
       "                        <td id=\"T_cea47cfc_e388_11eb_96bd_06a8a5226d32row3_col16\" class=\"data row3 col16\" >0</td>\n",
       "                        <td id=\"T_cea47cfc_e388_11eb_96bd_06a8a5226d32row3_col17\" class=\"data row3 col17\" >0</td>\n",
       "            </tr>\n",
       "            <tr>\n",
       "                        <th id=\"T_cea47cfc_e388_11eb_96bd_06a8a5226d32level0_row4\" class=\"row_heading level0 row4\" >4</th>\n",
       "                        <td id=\"T_cea47cfc_e388_11eb_96bd_06a8a5226d32row4_col0\" class=\"data row4 col0\" >0</td>\n",
       "                        <td id=\"T_cea47cfc_e388_11eb_96bd_06a8a5226d32row4_col1\" class=\"data row4 col1\" >0</td>\n",
       "                        <td id=\"T_cea47cfc_e388_11eb_96bd_06a8a5226d32row4_col2\" class=\"data row4 col2\" >0</td>\n",
       "                        <td id=\"T_cea47cfc_e388_11eb_96bd_06a8a5226d32row4_col3\" class=\"data row4 col3\" >0</td>\n",
       "                        <td id=\"T_cea47cfc_e388_11eb_96bd_06a8a5226d32row4_col4\" class=\"data row4 col4\" >0</td>\n",
       "                        <td id=\"T_cea47cfc_e388_11eb_96bd_06a8a5226d32row4_col5\" class=\"data row4 col5\" >29</td>\n",
       "                        <td id=\"T_cea47cfc_e388_11eb_96bd_06a8a5226d32row4_col6\" class=\"data row4 col6\" >150</td>\n",
       "                        <td id=\"T_cea47cfc_e388_11eb_96bd_06a8a5226d32row4_col7\" class=\"data row4 col7\" >195</td>\n",
       "                        <td id=\"T_cea47cfc_e388_11eb_96bd_06a8a5226d32row4_col8\" class=\"data row4 col8\" >254</td>\n",
       "                        <td id=\"T_cea47cfc_e388_11eb_96bd_06a8a5226d32row4_col9\" class=\"data row4 col9\" >255</td>\n",
       "                        <td id=\"T_cea47cfc_e388_11eb_96bd_06a8a5226d32row4_col10\" class=\"data row4 col10\" >254</td>\n",
       "                        <td id=\"T_cea47cfc_e388_11eb_96bd_06a8a5226d32row4_col11\" class=\"data row4 col11\" >176</td>\n",
       "                        <td id=\"T_cea47cfc_e388_11eb_96bd_06a8a5226d32row4_col12\" class=\"data row4 col12\" >193</td>\n",
       "                        <td id=\"T_cea47cfc_e388_11eb_96bd_06a8a5226d32row4_col13\" class=\"data row4 col13\" >150</td>\n",
       "                        <td id=\"T_cea47cfc_e388_11eb_96bd_06a8a5226d32row4_col14\" class=\"data row4 col14\" >96</td>\n",
       "                        <td id=\"T_cea47cfc_e388_11eb_96bd_06a8a5226d32row4_col15\" class=\"data row4 col15\" >0</td>\n",
       "                        <td id=\"T_cea47cfc_e388_11eb_96bd_06a8a5226d32row4_col16\" class=\"data row4 col16\" >0</td>\n",
       "                        <td id=\"T_cea47cfc_e388_11eb_96bd_06a8a5226d32row4_col17\" class=\"data row4 col17\" >0</td>\n",
       "            </tr>\n",
       "            <tr>\n",
       "                        <th id=\"T_cea47cfc_e388_11eb_96bd_06a8a5226d32level0_row5\" class=\"row_heading level0 row5\" >5</th>\n",
       "                        <td id=\"T_cea47cfc_e388_11eb_96bd_06a8a5226d32row5_col0\" class=\"data row5 col0\" >0</td>\n",
       "                        <td id=\"T_cea47cfc_e388_11eb_96bd_06a8a5226d32row5_col1\" class=\"data row5 col1\" >0</td>\n",
       "                        <td id=\"T_cea47cfc_e388_11eb_96bd_06a8a5226d32row5_col2\" class=\"data row5 col2\" >0</td>\n",
       "                        <td id=\"T_cea47cfc_e388_11eb_96bd_06a8a5226d32row5_col3\" class=\"data row5 col3\" >48</td>\n",
       "                        <td id=\"T_cea47cfc_e388_11eb_96bd_06a8a5226d32row5_col4\" class=\"data row5 col4\" >166</td>\n",
       "                        <td id=\"T_cea47cfc_e388_11eb_96bd_06a8a5226d32row5_col5\" class=\"data row5 col5\" >224</td>\n",
       "                        <td id=\"T_cea47cfc_e388_11eb_96bd_06a8a5226d32row5_col6\" class=\"data row5 col6\" >253</td>\n",
       "                        <td id=\"T_cea47cfc_e388_11eb_96bd_06a8a5226d32row5_col7\" class=\"data row5 col7\" >253</td>\n",
       "                        <td id=\"T_cea47cfc_e388_11eb_96bd_06a8a5226d32row5_col8\" class=\"data row5 col8\" >234</td>\n",
       "                        <td id=\"T_cea47cfc_e388_11eb_96bd_06a8a5226d32row5_col9\" class=\"data row5 col9\" >196</td>\n",
       "                        <td id=\"T_cea47cfc_e388_11eb_96bd_06a8a5226d32row5_col10\" class=\"data row5 col10\" >253</td>\n",
       "                        <td id=\"T_cea47cfc_e388_11eb_96bd_06a8a5226d32row5_col11\" class=\"data row5 col11\" >253</td>\n",
       "                        <td id=\"T_cea47cfc_e388_11eb_96bd_06a8a5226d32row5_col12\" class=\"data row5 col12\" >253</td>\n",
       "                        <td id=\"T_cea47cfc_e388_11eb_96bd_06a8a5226d32row5_col13\" class=\"data row5 col13\" >253</td>\n",
       "                        <td id=\"T_cea47cfc_e388_11eb_96bd_06a8a5226d32row5_col14\" class=\"data row5 col14\" >233</td>\n",
       "                        <td id=\"T_cea47cfc_e388_11eb_96bd_06a8a5226d32row5_col15\" class=\"data row5 col15\" >0</td>\n",
       "                        <td id=\"T_cea47cfc_e388_11eb_96bd_06a8a5226d32row5_col16\" class=\"data row5 col16\" >0</td>\n",
       "                        <td id=\"T_cea47cfc_e388_11eb_96bd_06a8a5226d32row5_col17\" class=\"data row5 col17\" >0</td>\n",
       "            </tr>\n",
       "            <tr>\n",
       "                        <th id=\"T_cea47cfc_e388_11eb_96bd_06a8a5226d32level0_row6\" class=\"row_heading level0 row6\" >6</th>\n",
       "                        <td id=\"T_cea47cfc_e388_11eb_96bd_06a8a5226d32row6_col0\" class=\"data row6 col0\" >0</td>\n",
       "                        <td id=\"T_cea47cfc_e388_11eb_96bd_06a8a5226d32row6_col1\" class=\"data row6 col1\" >93</td>\n",
       "                        <td id=\"T_cea47cfc_e388_11eb_96bd_06a8a5226d32row6_col2\" class=\"data row6 col2\" >244</td>\n",
       "                        <td id=\"T_cea47cfc_e388_11eb_96bd_06a8a5226d32row6_col3\" class=\"data row6 col3\" >249</td>\n",
       "                        <td id=\"T_cea47cfc_e388_11eb_96bd_06a8a5226d32row6_col4\" class=\"data row6 col4\" >253</td>\n",
       "                        <td id=\"T_cea47cfc_e388_11eb_96bd_06a8a5226d32row6_col5\" class=\"data row6 col5\" >187</td>\n",
       "                        <td id=\"T_cea47cfc_e388_11eb_96bd_06a8a5226d32row6_col6\" class=\"data row6 col6\" >46</td>\n",
       "                        <td id=\"T_cea47cfc_e388_11eb_96bd_06a8a5226d32row6_col7\" class=\"data row6 col7\" >10</td>\n",
       "                        <td id=\"T_cea47cfc_e388_11eb_96bd_06a8a5226d32row6_col8\" class=\"data row6 col8\" >8</td>\n",
       "                        <td id=\"T_cea47cfc_e388_11eb_96bd_06a8a5226d32row6_col9\" class=\"data row6 col9\" >4</td>\n",
       "                        <td id=\"T_cea47cfc_e388_11eb_96bd_06a8a5226d32row6_col10\" class=\"data row6 col10\" >10</td>\n",
       "                        <td id=\"T_cea47cfc_e388_11eb_96bd_06a8a5226d32row6_col11\" class=\"data row6 col11\" >194</td>\n",
       "                        <td id=\"T_cea47cfc_e388_11eb_96bd_06a8a5226d32row6_col12\" class=\"data row6 col12\" >253</td>\n",
       "                        <td id=\"T_cea47cfc_e388_11eb_96bd_06a8a5226d32row6_col13\" class=\"data row6 col13\" >253</td>\n",
       "                        <td id=\"T_cea47cfc_e388_11eb_96bd_06a8a5226d32row6_col14\" class=\"data row6 col14\" >233</td>\n",
       "                        <td id=\"T_cea47cfc_e388_11eb_96bd_06a8a5226d32row6_col15\" class=\"data row6 col15\" >0</td>\n",
       "                        <td id=\"T_cea47cfc_e388_11eb_96bd_06a8a5226d32row6_col16\" class=\"data row6 col16\" >0</td>\n",
       "                        <td id=\"T_cea47cfc_e388_11eb_96bd_06a8a5226d32row6_col17\" class=\"data row6 col17\" >0</td>\n",
       "            </tr>\n",
       "            <tr>\n",
       "                        <th id=\"T_cea47cfc_e388_11eb_96bd_06a8a5226d32level0_row7\" class=\"row_heading level0 row7\" >7</th>\n",
       "                        <td id=\"T_cea47cfc_e388_11eb_96bd_06a8a5226d32row7_col0\" class=\"data row7 col0\" >0</td>\n",
       "                        <td id=\"T_cea47cfc_e388_11eb_96bd_06a8a5226d32row7_col1\" class=\"data row7 col1\" >107</td>\n",
       "                        <td id=\"T_cea47cfc_e388_11eb_96bd_06a8a5226d32row7_col2\" class=\"data row7 col2\" >253</td>\n",
       "                        <td id=\"T_cea47cfc_e388_11eb_96bd_06a8a5226d32row7_col3\" class=\"data row7 col3\" >253</td>\n",
       "                        <td id=\"T_cea47cfc_e388_11eb_96bd_06a8a5226d32row7_col4\" class=\"data row7 col4\" >230</td>\n",
       "                        <td id=\"T_cea47cfc_e388_11eb_96bd_06a8a5226d32row7_col5\" class=\"data row7 col5\" >48</td>\n",
       "                        <td id=\"T_cea47cfc_e388_11eb_96bd_06a8a5226d32row7_col6\" class=\"data row7 col6\" >0</td>\n",
       "                        <td id=\"T_cea47cfc_e388_11eb_96bd_06a8a5226d32row7_col7\" class=\"data row7 col7\" >0</td>\n",
       "                        <td id=\"T_cea47cfc_e388_11eb_96bd_06a8a5226d32row7_col8\" class=\"data row7 col8\" >0</td>\n",
       "                        <td id=\"T_cea47cfc_e388_11eb_96bd_06a8a5226d32row7_col9\" class=\"data row7 col9\" >0</td>\n",
       "                        <td id=\"T_cea47cfc_e388_11eb_96bd_06a8a5226d32row7_col10\" class=\"data row7 col10\" >0</td>\n",
       "                        <td id=\"T_cea47cfc_e388_11eb_96bd_06a8a5226d32row7_col11\" class=\"data row7 col11\" >192</td>\n",
       "                        <td id=\"T_cea47cfc_e388_11eb_96bd_06a8a5226d32row7_col12\" class=\"data row7 col12\" >253</td>\n",
       "                        <td id=\"T_cea47cfc_e388_11eb_96bd_06a8a5226d32row7_col13\" class=\"data row7 col13\" >253</td>\n",
       "                        <td id=\"T_cea47cfc_e388_11eb_96bd_06a8a5226d32row7_col14\" class=\"data row7 col14\" >156</td>\n",
       "                        <td id=\"T_cea47cfc_e388_11eb_96bd_06a8a5226d32row7_col15\" class=\"data row7 col15\" >0</td>\n",
       "                        <td id=\"T_cea47cfc_e388_11eb_96bd_06a8a5226d32row7_col16\" class=\"data row7 col16\" >0</td>\n",
       "                        <td id=\"T_cea47cfc_e388_11eb_96bd_06a8a5226d32row7_col17\" class=\"data row7 col17\" >0</td>\n",
       "            </tr>\n",
       "            <tr>\n",
       "                        <th id=\"T_cea47cfc_e388_11eb_96bd_06a8a5226d32level0_row8\" class=\"row_heading level0 row8\" >8</th>\n",
       "                        <td id=\"T_cea47cfc_e388_11eb_96bd_06a8a5226d32row8_col0\" class=\"data row8 col0\" >0</td>\n",
       "                        <td id=\"T_cea47cfc_e388_11eb_96bd_06a8a5226d32row8_col1\" class=\"data row8 col1\" >3</td>\n",
       "                        <td id=\"T_cea47cfc_e388_11eb_96bd_06a8a5226d32row8_col2\" class=\"data row8 col2\" >20</td>\n",
       "                        <td id=\"T_cea47cfc_e388_11eb_96bd_06a8a5226d32row8_col3\" class=\"data row8 col3\" >20</td>\n",
       "                        <td id=\"T_cea47cfc_e388_11eb_96bd_06a8a5226d32row8_col4\" class=\"data row8 col4\" >15</td>\n",
       "                        <td id=\"T_cea47cfc_e388_11eb_96bd_06a8a5226d32row8_col5\" class=\"data row8 col5\" >0</td>\n",
       "                        <td id=\"T_cea47cfc_e388_11eb_96bd_06a8a5226d32row8_col6\" class=\"data row8 col6\" >0</td>\n",
       "                        <td id=\"T_cea47cfc_e388_11eb_96bd_06a8a5226d32row8_col7\" class=\"data row8 col7\" >0</td>\n",
       "                        <td id=\"T_cea47cfc_e388_11eb_96bd_06a8a5226d32row8_col8\" class=\"data row8 col8\" >0</td>\n",
       "                        <td id=\"T_cea47cfc_e388_11eb_96bd_06a8a5226d32row8_col9\" class=\"data row8 col9\" >0</td>\n",
       "                        <td id=\"T_cea47cfc_e388_11eb_96bd_06a8a5226d32row8_col10\" class=\"data row8 col10\" >43</td>\n",
       "                        <td id=\"T_cea47cfc_e388_11eb_96bd_06a8a5226d32row8_col11\" class=\"data row8 col11\" >224</td>\n",
       "                        <td id=\"T_cea47cfc_e388_11eb_96bd_06a8a5226d32row8_col12\" class=\"data row8 col12\" >253</td>\n",
       "                        <td id=\"T_cea47cfc_e388_11eb_96bd_06a8a5226d32row8_col13\" class=\"data row8 col13\" >245</td>\n",
       "                        <td id=\"T_cea47cfc_e388_11eb_96bd_06a8a5226d32row8_col14\" class=\"data row8 col14\" >74</td>\n",
       "                        <td id=\"T_cea47cfc_e388_11eb_96bd_06a8a5226d32row8_col15\" class=\"data row8 col15\" >0</td>\n",
       "                        <td id=\"T_cea47cfc_e388_11eb_96bd_06a8a5226d32row8_col16\" class=\"data row8 col16\" >0</td>\n",
       "                        <td id=\"T_cea47cfc_e388_11eb_96bd_06a8a5226d32row8_col17\" class=\"data row8 col17\" >0</td>\n",
       "            </tr>\n",
       "    </tbody></table>"
      ],
      "text/plain": [
       "<pandas.io.formats.style.Styler at 0x7f3fc26dfa60>"
      ]
     },
     "execution_count": 3,
     "metadata": {},
     "output_type": "execute_result"
    }
   ],
   "source": [
    "im3_t = tensor(im3)\n",
    "df = pd.DataFrame(im3_t[1:10,4:22])\n",
    "df.style.set_properties(**{'font-size':'8pt'}).background_gradient('Blues')"
   ]
  },
  {
   "cell_type": "code",
   "execution_count": 4,
   "metadata": {},
   "outputs": [],
   "source": [
    "seven_tensors = [tensor(Image.open(i)) for i in sevens]\n",
    "three_tensors = [tensor(Image.open(g)) for g in sevens]"
   ]
  },
  {
   "cell_type": "code",
   "execution_count": 5,
   "metadata": {},
   "outputs": [],
   "source": [
    "len(seven_tensors), len(three_tensors )\n",
    "stacked_sevens = torch.stack(seven_tensors).float()/255\n",
    "stacked_threes = torch.stack(three_tensors).float()/255\n",
    "\n",
    "mean3 = stacked_threes.mean(0) #along z-axis\n",
    "mean7 = stacked_sevens.mean(0)"
   ]
  },
  {
   "cell_type": "code",
   "execution_count": 6,
   "metadata": {},
   "outputs": [
    {
     "data": {
      "text/plain": [
       "(tensor(0.0899), tensor(0.1771))"
      ]
     },
     "execution_count": 6,
     "metadata": {},
     "output_type": "execute_result"
    }
   ],
   "source": [
    "a_3 = stacked_threes[15]\n",
    "F.l1_loss(a_3.float(), mean7), F.mse_loss(a_3,mean7).sqrt()"
   ]
  },
  {
   "cell_type": "code",
   "execution_count": 7,
   "metadata": {},
   "outputs": [],
   "source": [
    "valid_3_tens = torch.stack([tensor(Image.open(i)) for i in (path/'valid'/'3').ls() ])\n",
    "valid_3_tens = valid_3_tens.float()/255\n",
    "\n",
    "valid_7_tens = torch.stack([tensor(Image.open(i)) for i in (path/'valid'/'7').ls() ])\n",
    "valid_7_tens = valid_7_tens.float()/255"
   ]
  },
  {
   "cell_type": "code",
   "execution_count": 8,
   "metadata": {},
   "outputs": [
    {
     "name": "stderr",
     "output_type": "stream",
     "text": [
      "/opt/conda/envs/fastai/lib/python3.8/site-packages/fastbook/__init__.py:73: UserWarning: Not providing a value for linspace's steps is deprecated and will throw a runtime error in a future release. This warning will appear only once per process. (Triggered internally at  /opt/conda/conda-bld/pytorch_1603729096996/work/aten/src/ATen/native/RangeFactories.cpp:23.)\n",
      "  x = torch.linspace(min,max)\n"
     ]
    },
    {
     "data": {
      "text/plain": [
       "<matplotlib.collections.PathCollection at 0x7f3fc282a7c0>"
      ]
     },
     "execution_count": 8,
     "metadata": {},
     "output_type": "execute_result"
    },
    {
     "data": {
      "image/png": "[encoded data removed]",
      "text/plain": [
       "<Figure size 432x288 with 1 Axes>"
      ]
     },
     "metadata": {
      "needs_background": "light"
     },
     "output_type": "display_data"
    }
   ],
   "source": [
    "def f(x): return x**2\n",
    "plot_function(f,'x','x**2')\n",
    "plt.scatter(-0.5, f(-0.5), color = 'green')"
   ]
  },
  {
   "cell_type": "code",
   "execution_count": 9,
   "metadata": {},
   "outputs": [
    {
     "name": "stdout",
     "output_type": "stream",
     "text": [
      "tensor(16., grad_fn=<PowBackward0>)\n",
      "tensor(16., grad_fn=<PowBackward0>)\n"
     ]
    },
    {
     "data": {
      "text/plain": [
       "tensor(8.)"
      ]
     },
     "execution_count": 9,
     "metadata": {},
     "output_type": "execute_result"
    }
   ],
   "source": [
    "xt = tensor(4.).requires_grad_()\n",
    "yt = f(xt)\n",
    "print(yt)\n",
    "yt.backward()\n",
    "print(yt)\n",
    "xt.grad"
   ]
  },
  {
   "cell_type": "code",
   "execution_count": 10,
   "metadata": {},
   "outputs": [
    {
     "data": {
      "text/plain": [
       "tensor([ 1.,  4., 11.], requires_grad=True)"
      ]
     },
     "execution_count": 10,
     "metadata": {},
     "output_type": "execute_result"
    }
   ],
   "source": [
    "xt = tensor([1., 4, 11,]).requires_grad_()\n",
    "xt"
   ]
  },
  {
   "cell_type": "code",
   "execution_count": 11,
   "metadata": {},
   "outputs": [
    {
     "data": {
      "text/plain": [
       "tensor(138., grad_fn=<SumBackward0>)"
      ]
     },
     "execution_count": 11,
     "metadata": {},
     "output_type": "execute_result"
    }
   ],
   "source": [
    "def f(x): return (x**2).sum()\n",
    "\n",
    "yt = f(xt)\n",
    "yt"
   ]
  },
  {
   "cell_type": "code",
   "execution_count": 12,
   "metadata": {},
   "outputs": [
    {
     "data": {
      "text/plain": [
       "tensor([ 2.,  8., 22.])"
      ]
     },
     "execution_count": 12,
     "metadata": {},
     "output_type": "execute_result"
    }
   ],
   "source": [
    "yt.backward()\n",
    "xt.grad"
   ]
  },
  {
   "cell_type": "code",
   "execution_count": 13,
   "metadata": {},
   "outputs": [
    {
     "data": {
      "text/plain": [
       "tensor([ 0.,  1.,  2.,  3.,  4.,  5.,  6.,  7.,  8.,  9., 10., 11., 12., 13., 14., 15., 16., 17., 18., 19., 20., 21., 22., 23., 24.])"
      ]
     },
     "execution_count": 13,
     "metadata": {},
     "output_type": "execute_result"
    }
   ],
   "source": [
    "time = torch.arange(0,25).float()\n",
    "time"
   ]
  },
  {
   "cell_type": "code",
   "execution_count": 14,
   "metadata": {},
   "outputs": [
    {
     "data": {
      "text/plain": [
       "(tensor([0.8823, 0.9150, 0.3829, 0.9593, 0.3904, 0.6009, 0.2566, 0.7936, 0.9408, 0.1332, 0.9346, 0.5936, 0.8694, 0.5677, 0.7411, 0.4294, 0.8854, 0.5739, 0.2666, 0.6274]),\n",
       " tensor([0.8089, 1.3241, 0.8908, 2.4951, 0.3159, 0.8085, 1.0764, 0.5981, 1.6416, 0.0185, 2.8547, 0.2258, 2.6580, 1.7496, 1.0129, 2.4269, 1.7338, 2.7119, 1.6640, 1.0269]))"
      ]
     },
     "execution_count": 14,
     "metadata": {},
     "output_type": "execute_result"
    }
   ],
   "source": [
    "torch.rand(20), torch.rand(20)*3"
   ]
  },
  {
   "cell_type": "code",
   "execution_count": 15,
   "metadata": {},
   "outputs": [
    {
     "data": {
      "text/plain": [
       "<matplotlib.collections.PathCollection at 0x7f3fc1e987c0>"
      ]
     },
     "execution_count": 15,
     "metadata": {},
     "output_type": "execute_result"
    },
    {
     "data": {
      "image/png": "[encoded data removed]",
      "text/plain": [
       "<Figure size 432x288 with 1 Axes>"
      ]
     },
     "metadata": {
      "needs_background": "light"
     },
     "output_type": "display_data"
    }
   ],
   "source": [
    "speed = torch.rand(25)*30 + 0.75*(time-9.5)**2 + 1\n",
    "plt.scatter(time,speed)"
   ]
  },
  {
   "cell_type": "code",
   "execution_count": 16,
   "metadata": {},
   "outputs": [],
   "source": [
    "def f(t, params):\n",
    "    a,b,c = params\n",
    "    return a*(t**2) + (b*t) + c\n",
    "\n",
    "def mse(preds, targets): \n",
    "    return ((preds-targets)**2).mean().sqrt()"
   ]
  },
  {
   "cell_type": "code",
   "execution_count": 17,
   "metadata": {},
   "outputs": [
    {
     "data": {
      "text/plain": [
       "tensor([ 0.7045,  1.2197, -0.6778], requires_grad=True)"
      ]
     },
     "execution_count": 17,
     "metadata": {},
     "output_type": "execute_result"
    }
   ],
   "source": [
    "params = torch.randn(3).requires_grad_()\n",
    "params #values of a, b, c aa gaye random"
   ]
  },
  {
   "cell_type": "code",
   "execution_count": 18,
   "metadata": {},
   "outputs": [
    {
     "data": {
      "text/plain": [
       "(tensor([ -0.6778,   1.2465,   4.5798,   9.3223,  15.4739,  23.0345,  32.0042,  42.3830,  54.1710,  67.3680,  81.9741,  97.9892, 115.4135, 134.2469, 154.4893, 176.1409, 199.2015, 223.6712, 249.5500,\n",
       "         276.8379, 305.5349, 335.6410, 367.1562, 400.0804, 434.4138], grad_fn=<AddBackward0>),\n",
       " 25)"
      ]
     },
     "execution_count": 18,
     "metadata": {},
     "output_type": "execute_result"
    }
   ],
   "source": [
    "preds = f(time,params)\n",
    "preds, len(preds)"
   ]
  },
  {
   "cell_type": "code",
   "execution_count": 19,
   "metadata": {},
   "outputs": [],
   "source": [
    "def show_preds(preds, ax = None):\n",
    "    if ax is None: ax = plt.subplots()[1]\n",
    "    ax.scatter(time,speed)\n",
    "    ax.scatter(time, to_np(preds), color = 'red')\n",
    "    ax.set_ylim(-50,100)"
   ]
  },
  {
   "cell_type": "code",
   "execution_count": 20,
   "metadata": {},
   "outputs": [
    {
     "data": {
      "image/png": "[encoded data removed]",
      "text/plain": [
       "<Figure size 432x288 with 1 Axes>"
      ]
     },
     "metadata": {
      "needs_background": "light"
     },
     "output_type": "display_data"
    }
   ],
   "source": [
    "show_preds(preds)"
   ]
  },
  {
   "cell_type": "code",
   "execution_count": 21,
   "metadata": {},
   "outputs": [
    {
     "data": {
      "text/plain": [
       "tensor(139.4760, grad_fn=<SqrtBackward>)"
      ]
     },
     "execution_count": 21,
     "metadata": {},
     "output_type": "execute_result"
    }
   ],
   "source": [
    "loss = mse(preds, speed)\n",
    "loss"
   ]
  },
  {
   "cell_type": "code",
   "execution_count": 22,
   "metadata": {},
   "outputs": [
    {
     "data": {
      "text/plain": [
       "tensor([257.7787,  13.2956,   0.6557])"
      ]
     },
     "execution_count": 22,
     "metadata": {},
     "output_type": "execute_result"
    }
   ],
   "source": [
    "loss.backward()\n",
    "params.grad \n",
    "# similar to \n",
    "# yt.backward()\n",
    "# xt.grad    "
   ]
  },
  {
   "cell_type": "code",
   "execution_count": 23,
   "metadata": {},
   "outputs": [
    {
     "data": {
      "text/plain": [
       "tensor([2.5778, 0.1330, 0.0066])"
      ]
     },
     "execution_count": 23,
     "metadata": {},
     "output_type": "execute_result"
    }
   ],
   "source": [
    "params.grad * 1e-2 #no need change"
   ]
  },
  {
   "cell_type": "code",
   "execution_count": 24,
   "metadata": {},
   "outputs": [],
   "source": [
    "lr = 1e-3\n",
    "params.data -= params.grad.data*lr\n",
    "params.grad = None"
   ]
  },
  {
   "cell_type": "code",
   "execution_count": 25,
   "metadata": {},
   "outputs": [
    {
     "data": {
      "text/plain": [
       "(tensor([ 0.4468,  1.2064, -0.6785]), None)"
      ]
     },
     "execution_count": 25,
     "metadata": {},
     "output_type": "execute_result"
    }
   ],
   "source": [
    "params.data, params.grad"
   ]
  },
  {
   "cell_type": "code",
   "execution_count": 26,
   "metadata": {},
   "outputs": [
    {
     "data": {
      "text/plain": [
       "tensor(74.6905, grad_fn=<SqrtBackward>)"
      ]
     },
     "execution_count": 26,
     "metadata": {},
     "output_type": "execute_result"
    }
   ],
   "source": [
    "preds = f(time,params)\n",
    "mse(preds, speed)\n",
    "#increased!!!!!!"
   ]
  },
  {
   "cell_type": "code",
   "execution_count": 27,
   "metadata": {},
   "outputs": [
    {
     "data": {
      "image/png": "[encoded data removed]",
      "text/plain": [
       "<Figure size 432x288 with 1 Axes>"
      ]
     },
     "metadata": {
      "needs_background": "light"
     },
     "output_type": "display_data"
    }
   ],
   "source": [
    "show_preds(preds)"
   ]
  },
  {
   "cell_type": "code",
   "execution_count": 28,
   "metadata": {},
   "outputs": [],
   "source": [
    "def apply_step(params, prn = True):\n",
    "    preds = f(time, params)\n",
    "    loss = mse(preds, speed)\n",
    "    loss.backward()\n",
    "    params.data -= lr * params.grad.data\n",
    "    params.grad = None\n",
    "    if prn: print(loss.item())\n",
    "    return preds    "
   ]
  },
  {
   "cell_type": "code",
   "execution_count": 29,
   "metadata": {},
   "outputs": [
    {
     "name": "stdout",
     "output_type": "stream",
     "text": [
      "74.69051361083984\n",
      "33.685447692871094\n",
      "33.724185943603516\n",
      "33.76979064941406\n",
      "33.82292556762695\n",
      "33.884124755859375\n",
      "33.953643798828125\n",
      "34.03140640258789\n",
      "34.11688232421875\n",
      "34.20906066894531\n",
      "34.30638885498047\n",
      "34.40688705444336\n",
      "34.50825881958008\n",
      "34.60810470581055\n",
      "34.70412826538086\n"
     ]
    }
   ],
   "source": [
    "for i in range(15): apply_step(params)"
   ]
  },
  {
   "cell_type": "code",
   "execution_count": 32,
   "metadata": {},
   "outputs": [
    {
     "data": {
      "image/png": "[encoded data removed]",
      "text/plain": [
       "<Figure size 864x216 with 4 Axes>"
      ]
     },
     "metadata": {
      "needs_background": "light"
     },
     "output_type": "display_data"
    }
   ],
   "source": [
    "_, axs = plt.subplots(1,4,figsize = (12,3))\n",
    "for ax in axs: show_preds(apply_step(params, False), ax)\n",
    "plt.tight_layout()\n",
    "\n",
    "# _,axs = plt.subplots(1,4,figsize=(12,3))\n",
    "# for ax in axs: show_preds(apply_step(params, False), ax)\n",
    "# plt.tight_layout()"
   ]
  },
  {
   "cell_type": "code",
   "execution_count": 36,
   "metadata": {},
   "outputs": [
    {
     "data": {
      "text/plain": [
       "(tensor([[0., 0., 0.,  ..., 0., 0., 0.],\n",
       "         [0., 0., 0.,  ..., 0., 0., 0.],\n",
       "         [0., 0., 0.,  ..., 0., 0., 0.],\n",
       "         ...,\n",
       "         [0., 0., 0.,  ..., 0., 0., 0.],\n",
       "         [0., 0., 0.,  ..., 0., 0., 0.],\n",
       "         [0., 0., 0.,  ..., 0., 0., 0.]]),\n",
       " torch.Size([12530, 784]))"
      ]
     },
     "execution_count": 36,
     "metadata": {},
     "output_type": "execute_result"
    }
   ],
   "source": [
    "train_x = torch.cat([stacked_threes, stacked_sevens]).view(-1, 28*28)\n",
    "train_x, train_x.shape"
   ]
  },
  {
   "cell_type": "code",
   "execution_count": 40,
   "metadata": {},
   "outputs": [
    {
     "data": {
      "text/plain": [
       "(tensor([[1],\n",
       "         [1],\n",
       "         [1],\n",
       "         ...,\n",
       "         [0],\n",
       "         [0],\n",
       "         [0]]),\n",
       " torch.Size([12396, 1]))"
      ]
     },
     "execution_count": 40,
     "metadata": {},
     "output_type": "execute_result"
    }
   ],
   "source": [
    "#train_y = tensor([1]*len(threes) + [0]*len(sevens))\n",
    "train_y = tensor([1]*len(threes) + [0]*len(sevens)).unsqueeze(1)\n",
    "train_y, train_y.shape"
   ]
  },
  {
   "cell_type": "code",
   "execution_count": 39,
   "metadata": {},
   "outputs": [
    {
     "data": {
      "text/plain": [
       "(tensor([[[1]],\n",
       " \n",
       "         [[1]],\n",
       " \n",
       "         [[1]],\n",
       " \n",
       "         ...,\n",
       " \n",
       "         [[0]],\n",
       " \n",
       "         [[0]],\n",
       " \n",
       "         [[0]]]),\n",
       " torch.Size([12396, 1, 1]))"
      ]
     },
     "execution_count": 39,
     "metadata": {},
     "output_type": "execute_result"
    }
   ],
   "source": [
    "# train_y = train_y.unsqueeze(1)\n",
    "# train_y, train_y.shape"
   ]
  },
  {
   "cell_type": "code",
   "execution_count": null,
   "metadata": {},
   "outputs": [],
   "source": []
  }
 ],
 "metadata": {
  "kernelspec": {
   "display_name": "Python 3",
   "language": "python",
   "name": "python3"
  },
  "language_info": {
   "codemirror_mode": {
    "name": "ipython",
    "version": 3
   },
   "file_extension": ".py",
   "mimetype": "text/x-python",
   "name": "python",
   "nbconvert_exporter": "python",
   "pygments_lexer": "ipython3",
   "version": "3.8.6"
  }
 },
 "nbformat": 4,
 "nbformat_minor": 4
}
