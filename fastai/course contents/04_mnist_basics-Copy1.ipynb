{
 "cells": [
  {
   "cell_type": "code",
   "execution_count": 1,
   "metadata": {},
   "outputs": [],
   "source": [
    "#hide\n",
    "#!pip install -Uqq fastbook\n",
    "import fastbook\n",
    "fastbook.setup_book()"
   ]
  },
  {
   "cell_type": "code",
   "execution_count": 2,
   "metadata": {},
   "outputs": [],
   "source": [
    "#hide\n",
    "from fastai.vision.all import *\n",
    "from fastbook import *\n",
    "\n",
    "matplotlib.rc('image', cmap='Greys')"
   ]
  },
  {
   "cell_type": "raw",
   "metadata": {},
   "source": [
    "[[chapter_mnist_basics]]"
   ]
  },
  {
   "cell_type": "markdown",
   "metadata": {},
   "source": [
    "# Under the Hood: Training a Digit Classifier"
   ]
  },
  {
   "cell_type": "markdown",
   "metadata": {},
   "source": [
    "Having seen what it looks like to actually train a variety of models in Chapter 2, let’s now look under the hood and see exactly what is going on. We’ll start by using computer vision to introduce fundamental tools and concepts for deep learning.\n",
    "\n",
    "To be exact, we'll discuss the roles of arrays and tensors and of broadcasting, a powerful technique for using them expressively. **We'll explain stochastic gradient descent (SGD), the mechanism for learning by updating weights automatically. We'll discuss the choice of a loss function for our basic classification task, and the role of mini-batches. We'll also describe the math that a basic neural network is actually doing. Finally, we'll put all these pieces together.**\n",
    "#### yoss!\n",
    "\n",
    "In future chapters we’ll do deep dives into other applications as well, and see how these concepts and tools generalize. But this chapter is about laying foundation stones. To be frank, that also makes this one of the hardest chapters, because of how these concepts all depend on each other. Like an arch, all the stones need to be in place for the structure to stay up. Also like an arch, once that happens, it's a powerful structure that can support other things. But it requires some patience to assemble.\n",
    "\n",
    "Let's begin. The first step is to consider how images are represented in a computer."
   ]
  },
  {
   "cell_type": "markdown",
   "metadata": {},
   "source": [
    "## Pixels: The Foundations of Computer Vision"
   ]
  },
  {
   "cell_type": "markdown",
   "metadata": {},
   "source": [
    "In order to understand what happens in a computer vision model, we first have to understand how computers handle images. We'll use one of the most famous datasets in computer vision, [MNIST](https://en.wikipedia.org/wiki/MNIST_database), for our experiments. MNIST contains images of handwritten digits, collected by the National Institute of Standards and Technology and collated into a machine learning dataset by Yann Lecun and his colleagues. Lecun used MNIST in 1998 in [Lenet-5](http://yann.lecun.com/exdb/lenet/), the first computer system to demonstrate practically useful recognition of handwritten digit sequences. This was one of the most important breakthroughs in the history of AI."
   ]
  },
  {
   "cell_type": "markdown",
   "metadata": {},
   "source": [
    "## Sidebar: Tenacity and Deep Learning"
   ]
  },
  {
   "cell_type": "markdown",
   "metadata": {},
   "source": [
    "The story of deep learning is one of tenacity and grit by a handful of dedicated researchers. After early hopes (and hype!) neural networks went out of favor in the 1990's and 2000's, and just a handful of researchers kept trying to make them work well. Three of them, Yann Lecun, Yoshua Bengio, and Geoffrey Hinton, were awarded the highest honor in computer science, the Turing Award (generally considered the \"Nobel Prize of computer science\"), in 2018 after triumphing despite the deep skepticism and disinterest of the wider machine learning and statistics community.\n",
    "\n",
    "**Geoff Hinton has told of how even academic papers showing dramatically better results than anything previously published would be rejected by top journals and conferences, just because they used a neural network. Yann Lecun's work on convolutional neural networks, which we will study in the next section, showed that these models could read handwritten text—something that had never been achieved before. However, his breakthrough was ignored by most researchers, even as it was used commercially to read 10% of the checks in the US!**\n",
    "\n",
    "In addition to these three Turing Award winners, there are many other researchers who have battled to get us to where we are today. For instance, Jurgen Schmidhuber (who many believe should have shared in the Turing Award) pioneered many important ideas, including working with his student Sepp Hochreiter on the long short-term memory (LSTM) architecture (widely used for speech recognition and other text modeling tasks, and used in the IMDb example in <<chapter_intro>>). Perhaps most important of all, Paul Werbos in 1974 invented back-propagation for neural networks, the technique shown in this chapter and used universally for training neural networks ([Werbos 1994](https://books.google.com/books/about/The_Roots_of_Backpropagation.html?id=WdR3OOM2gBwC)). His development was almost entirely ignored for decades, but today it is considered the most important foundation of modern AI.\n",
    "\n",
    "### **There is a lesson here for all of us! On your deep learning journey you will face many obstacles, both technical, and (even more difficult) posed by people around you who don't believe you'll be successful. There's one *guaranteed* way to fail, and that's to stop trying. We've seen that the only consistent trait amongst every fast.ai student that's gone on to be a world-class practitioner is that they are all very tenacious.**"
   ]
  },
  {
   "cell_type": "markdown",
   "metadata": {},
   "source": [
    "## End sidebar"
   ]
  },
  {
   "cell_type": "markdown",
   "metadata": {},
   "source": [
    "For this initial tutorial we are just going to try to create a model that can classify any image as a 3 or a 7. So let's download a sample of MNIST that contains images of just these digits:"
   ]
  },
  {
   "cell_type": "code",
   "execution_count": 3,
   "metadata": {},
   "outputs": [],
   "source": [
    "# path = untar_data(URLs.MNIST_SAMPLE)\n",
    "# path"
   ]
  },
  {
   "cell_type": "code",
   "execution_count": 4,
   "metadata": {},
   "outputs": [],
   "source": [
    "#hide\n",
    "# Path.BASE_PATH = path"
   ]
  },
  {
   "cell_type": "markdown",
   "metadata": {},
   "source": [
    "We can see what's in this directory by using `ls`, a method added by fastai. This method returns an object of a special fastai class called `L`, which has all the same functionality of Python's built-in `list`, plus a lot more. One of its handy features is that, when printed, it displays the count of items, before listing the items themselves (if there are more than 10 items, it just shows the first few):"
   ]
  },
  {
   "cell_type": "code",
   "execution_count": 5,
   "metadata": {},
   "outputs": [
    {
     "data": {
      "text/plain": [
       "(#3) [Path('MNIST_Basics_Data/mnist_sample/train'),Path('MNIST_Basics_Data/mnist_sample/labels.csv'),Path('MNIST_Basics_Data/mnist_sample/valid')]"
      ]
     },
     "execution_count": 5,
     "metadata": {},
     "output_type": "execute_result"
    }
   ],
   "source": [
    "path = Path('MNIST_Basics_Data/mnist_sample')\n",
    "path.ls()"
   ]
  },
  {
   "cell_type": "markdown",
   "metadata": {},
   "source": [
    "The MNIST dataset follows a common layout for machine learning datasets: separate folders for the training set and the validation set (and/or test set). Let's see what's inside the training set:"
   ]
  },
  {
   "cell_type": "code",
   "execution_count": 6,
   "metadata": {},
   "outputs": [
    {
     "data": {
      "text/plain": [
       "(#2) [Path('MNIST_Basics_Data/mnist_sample/train/3'),Path('MNIST_Basics_Data/mnist_sample/train/7')]"
      ]
     },
     "execution_count": 6,
     "metadata": {},
     "output_type": "execute_result"
    }
   ],
   "source": [
    "(path/'train').ls()"
   ]
  },
  {
   "cell_type": "markdown",
   "metadata": {},
   "source": [
    "There's a folder of 3s, and a folder of 7s. In machine learning parlance, we say that \"3\" and \"7\" are the *labels* (or targets) in this dataset. Let's take a look in one of these folders (using `sorted` to ensure we all get the same order of files):"
   ]
  },
  {
   "cell_type": "code",
   "execution_count": 7,
   "metadata": {},
   "outputs": [
    {
     "data": {
      "text/plain": [
       "(#6131) [Path('MNIST_Basics_Data/mnist_sample/train/3/10.png'),Path('MNIST_Basics_Data/mnist_sample/train/3/10000.png'),Path('MNIST_Basics_Data/mnist_sample/train/3/10011.png'),Path('MNIST_Basics_Data/mnist_sample/train/3/10031.png'),Path('MNIST_Basics_Data/mnist_sample/train/3/10034.png'),Path('MNIST_Basics_Data/mnist_sample/train/3/10042.png'),Path('MNIST_Basics_Data/mnist_sample/train/3/10052.png'),Path('MNIST_Basics_Data/mnist_sample/train/3/1007.png'),Path('MNIST_Basics_Data/mnist_sample/train/3/10074.png'),Path('MNIST_Basics_Data/mnist_sample/train/3/10091.png')...]"
      ]
     },
     "execution_count": 7,
     "metadata": {},
     "output_type": "execute_result"
    }
   ],
   "source": [
    "threes = (path/'train'/'3').ls().sorted()\n",
    "sevens = (path/'train'/'7').ls().sorted()\n",
    "threes"
   ]
  },
  {
   "cell_type": "markdown",
   "metadata": {},
   "source": [
    "As we might expect, it's full of image files. Let’s take a look at one now. Here’s an image of a handwritten number 3, taken from the famous MNIST dataset of handwritten numbers:"
   ]
  },
  {
   "cell_type": "markdown",
   "metadata": {},
   "source": [
    "### stored kaha hai, main folder me to dikh nahi raha hai"
   ]
  },
  {
   "cell_type": "code",
   "execution_count": 8,
   "metadata": {},
   "outputs": [
    {
     "name": "stdout",
     "output_type": "stream",
     "text": [
      "MNIST_Basics_Data/mnist_sample/train/3/10000.png\n"
     ]
    },
    {
     "data": {
      "image/png": "[encoded data removed]",
      "text/plain": [
       "<PIL.PngImagePlugin.PngImageFile image mode=L size=28x28 at 0x7F7FA40417C0>"
      ]
     },
     "execution_count": 8,
     "metadata": {},
     "output_type": "execute_result"
    }
   ],
   "source": [
    "im3_path = threes[1]\n",
    "print(im3_path)\n",
    "im3 = Image.open(im3_path)\n",
    "im3"
   ]
  },
  {
   "cell_type": "markdown",
   "metadata": {},
   "source": [
    "Here we are using the **`Image` class from the *Python Imaging Library* (PIL), which is the most widely used Python package for opening, manipulating, and viewing images. Jupyter knows about PIL images, so it displays the image for us automatically.**\n",
    "\n",
    "**In a computer, everything is represented as a number. To view the numbers that make up this image, we have to convert it to a *NumPy array* or a *PyTorch tensor*.** For instance, here's what a section of the image looks like, converted to a NumPy array:"
   ]
  },
  {
   "cell_type": "code",
   "execution_count": 9,
   "metadata": {},
   "outputs": [
    {
     "data": {
      "text/plain": [
       "((28, 28),\n",
       " array([[  0,   0,   0,   0,   0,   0,   0,   0,   0,   0,   0,   0,   0,   0,   0,   0,   0,   0,   0,   0,   0,   0,   0,   0,   0,   0,   0,   0],\n",
       "        [  0,   0,   0,   0,   0,   0,   0,   0,   0,   0,   0,   0,   0,   0,   0,   0,   0,   0,   0,   0,   0,   0,   0,   0,   0,   0,   0,   0],\n",
       "        [  0,   0,   0,   0,   0,   0,   0,   0,   0,   0,   0,   0,   0,   0,   0,   0,   0,   0,   0,   0,   0,   0,   0,   0,   0,   0,   0,   0],\n",
       "        [  0,   0,   0,   0,   0,   0,   0,   0,   0,   0,   0,   0,   0,   0,   0,   0,   0,   0,   0,   0,   0,   0,   0,   0,   0,   0,   0,   0],\n",
       "        [  0,   0,   0,   0,   0,   0,   0,   0,   0,   0,   0,   0,   0,   0,   0,   0,   0,   0,   0,   0,   0,   0,   0,   0,   0,   0,   0,   0],\n",
       "        [  0,   0,   0,   0,   0,   0,   0,   0,   0,  29, 150, 195, 254, 255, 254, 176, 193, 150,  96,   0,   0,   0,   0,   0,   0,   0,   0,   0],\n",
       "        [  0,   0,   0,   0,   0,   0,   0,  48, 166, 224, 253, 253, 234, 196, 253, 253, 253, 253, 233,   0,   0,   0,   0,   0,   0,   0,   0,   0],\n",
       "        [  0,   0,   0,   0,   0,  93, 244, 249, 253, 187,  46,  10,   8,   4,  10, 194, 253, 253, 233,   0,   0,   0,   0,   0,   0,   0,   0,   0],\n",
       "        [  0,   0,   0,   0,   0, 107, 253, 253, 230,  48,   0,   0,   0,   0,   0, 192, 253, 253, 156,   0,   0,   0,   0,   0,   0,   0,   0,   0],\n",
       "        [  0,   0,   0,   0,   0,   3,  20,  20,  15,   0,   0,   0,   0,   0,  43, 224, 253, 245,  74,   0,   0,   0,   0,   0,   0,   0,   0,   0],\n",
       "        [  0,   0,   0,   0,   0,   0,   0,   0,   0,   0,   0,   0,   0,   0, 249, 253, 245, 126,   0,   0,   0,   0,   0,   0,   0,   0,   0,   0],\n",
       "        [  0,   0,   0,   0,   0,   0,   0,   0,   0,   0,   0,  14, 101, 223, 253, 248, 124,   0,   0,   0,   0,   0,   0,   0,   0,   0,   0,   0],\n",
       "        [  0,   0,   0,   0,   0,   0,   0,   0,   0,  11, 166, 239, 253, 253, 253, 187,  30,   0,   0,   0,   0,   0,   0,   0,   0,   0,   0,   0],\n",
       "        [  0,   0,   0,   0,   0,   0,   0,   0,   0,  16, 248, 250, 253, 253, 253, 253, 232, 213, 111,   2,   0,   0,   0,   0,   0,   0,   0,   0],\n",
       "        [  0,   0,   0,   0,   0,   0,   0,   0,   0,   0,   0,  43,  98,  98, 208, 253, 253, 253, 253, 187,  22,   0,   0,   0,   0,   0,   0,   0],\n",
       "        [  0,   0,   0,   0,   0,   0,   0,   0,   0,   0,   0,   0,   0,   0,   9,  51, 119, 253, 253, 253,  76,   0,   0,   0,   0,   0,   0,   0],\n",
       "        [  0,   0,   0,   0,   0,   0,   0,   0,   0,   0,   0,   0,   0,   0,   0,   0,   1, 183, 253, 253, 139,   0,   0,   0,   0,   0,   0,   0],\n",
       "        [  0,   0,   0,   0,   0,   0,   0,   0,   0,   0,   0,   0,   0,   0,   0,   0,   0, 182, 253, 253, 104,   0,   0,   0,   0,   0,   0,   0],\n",
       "        [  0,   0,   0,   0,   0,   0,   0,   0,   0,   0,   0,   0,   0,   0,   0,   0,  85, 249, 253, 253,  36,   0,   0,   0,   0,   0,   0,   0],\n",
       "        [  0,   0,   0,   0,   0,   0,   0,   0,   0,   0,   0,   0,   0,   0,   0,  60, 214, 253, 253, 173,  11,   0,   0,   0,   0,   0,   0,   0],\n",
       "        [  0,   0,   0,   0,   0,   0,   0,   0,   0,   0,   0,   0,   0,   0,  98, 247, 253, 253, 226,   9,   0,   0,   0,   0,   0,   0,   0,   0],\n",
       "        [  0,   0,   0,   0,   0,   0,   0,   0,   0,   0,   0,   0,  42, 150, 252, 253, 253, 233,  53,   0,   0,   0,   0,   0,   0,   0,   0,   0],\n",
       "        [  0,   0,   0,   0,   0,   0,  42, 115,  42,  60, 115, 159, 240, 253, 253, 250, 175,  25,   0,   0,   0,   0,   0,   0,   0,   0,   0,   0],\n",
       "        [  0,   0,   0,   0,   0,   0, 187, 253, 253, 253, 253, 253, 253, 253, 197,  86,   0,   0,   0,   0,   0,   0,   0,   0,   0,   0,   0,   0],\n",
       "        [  0,   0,   0,   0,   0,   0, 103, 253, 253, 253, 253, 253, 232,  67,   1,   0,   0,   0,   0,   0,   0,   0,   0,   0,   0,   0,   0,   0],\n",
       "        [  0,   0,   0,   0,   0,   0,   0,   0,   0,   0,   0,   0,   0,   0,   0,   0,   0,   0,   0,   0,   0,   0,   0,   0,   0,   0,   0,   0],\n",
       "        [  0,   0,   0,   0,   0,   0,   0,   0,   0,   0,   0,   0,   0,   0,   0,   0,   0,   0,   0,   0,   0,   0,   0,   0,   0,   0,   0,   0],\n",
       "        [  0,   0,   0,   0,   0,   0,   0,   0,   0,   0,   0,   0,   0,   0,   0,   0,   0,   0,   0,   0,   0,   0,   0,   0,   0,   0,   0,   0]], dtype=uint8))"
      ]
     },
     "execution_count": 9,
     "metadata": {},
     "output_type": "execute_result"
    }
   ],
   "source": [
    "array(im3).shape, array(im3)"
   ]
  },
  {
   "cell_type": "code",
   "execution_count": 10,
   "metadata": {},
   "outputs": [
    {
     "data": {
      "text/plain": [
       "array([[  0,   0,   0,   0,   0,   0],\n",
       "       [  0,   0,   0,   0,   0,  29],\n",
       "       [  0,   0,   0,  48, 166, 224],\n",
       "       [  0,  93, 244, 249, 253, 187],\n",
       "       [  0, 107, 253, 253, 230,  48],\n",
       "       [  0,   3,  20,  20,  15,   0]], dtype=uint8)"
      ]
     },
     "execution_count": 10,
     "metadata": {},
     "output_type": "execute_result"
    }
   ],
   "source": [
    "array(im3)[4:10,4:10]"
   ]
  },
  {
   "cell_type": "markdown",
   "metadata": {},
   "source": [
    "The `4:10` indicates we requested the rows from index 4 (included) to 10 (not included) and the same for the columns. NumPy indexes from top to bottom and left to right, so this section is located in the top-left corner of the image. Here's the same thing as a PyTorch tensor:"
   ]
  },
  {
   "cell_type": "code",
   "execution_count": 11,
   "metadata": {},
   "outputs": [
    {
     "data": {
      "text/plain": [
       "tensor([[  0,   0,   0,   0,   0,   0],\n",
       "        [  0,   0,   0,   0,   0,  29],\n",
       "        [  0,   0,   0,  48, 166, 224],\n",
       "        [  0,  93, 244, 249, 253, 187],\n",
       "        [  0, 107, 253, 253, 230,  48],\n",
       "        [  0,   3,  20,  20,  15,   0]], dtype=torch.uint8)"
      ]
     },
     "execution_count": 11,
     "metadata": {},
     "output_type": "execute_result"
    }
   ],
   "source": [
    "tensor(im3)[4:10,4:10]"
   ]
  },
  {
   "cell_type": "markdown",
   "metadata": {},
   "source": [
    "**We can slice the array to pick just the part with the top of the digit in it, and then use a Pandas DataFrame to color-code the values using a gradient, which shows us clearly how the image is created from the pixel values:**"
   ]
  },
  {
   "cell_type": "code",
   "execution_count": 12,
   "metadata": {},
   "outputs": [
    {
     "data": {
      "text/html": [
       "<style  type=\"text/css\" >\n",
       "#T_263993ce_1040_11ec_b725_c6db85e749c4row0_col0,#T_263993ce_1040_11ec_b725_c6db85e749c4row0_col1,#T_263993ce_1040_11ec_b725_c6db85e749c4row0_col2,#T_263993ce_1040_11ec_b725_c6db85e749c4row0_col3,#T_263993ce_1040_11ec_b725_c6db85e749c4row0_col4,#T_263993ce_1040_11ec_b725_c6db85e749c4row0_col5,#T_263993ce_1040_11ec_b725_c6db85e749c4row0_col6,#T_263993ce_1040_11ec_b725_c6db85e749c4row0_col7,#T_263993ce_1040_11ec_b725_c6db85e749c4row0_col8,#T_263993ce_1040_11ec_b725_c6db85e749c4row0_col9,#T_263993ce_1040_11ec_b725_c6db85e749c4row0_col10,#T_263993ce_1040_11ec_b725_c6db85e749c4row0_col11,#T_263993ce_1040_11ec_b725_c6db85e749c4row0_col12,#T_263993ce_1040_11ec_b725_c6db85e749c4row0_col13,#T_263993ce_1040_11ec_b725_c6db85e749c4row0_col14,#T_263993ce_1040_11ec_b725_c6db85e749c4row0_col15,#T_263993ce_1040_11ec_b725_c6db85e749c4row0_col16,#T_263993ce_1040_11ec_b725_c6db85e749c4row0_col17,#T_263993ce_1040_11ec_b725_c6db85e749c4row1_col0,#T_263993ce_1040_11ec_b725_c6db85e749c4row1_col1,#T_263993ce_1040_11ec_b725_c6db85e749c4row1_col2,#T_263993ce_1040_11ec_b725_c6db85e749c4row1_col3,#T_263993ce_1040_11ec_b725_c6db85e749c4row1_col4,#T_263993ce_1040_11ec_b725_c6db85e749c4row1_col15,#T_263993ce_1040_11ec_b725_c6db85e749c4row1_col16,#T_263993ce_1040_11ec_b725_c6db85e749c4row1_col17,#T_263993ce_1040_11ec_b725_c6db85e749c4row2_col0,#T_263993ce_1040_11ec_b725_c6db85e749c4row2_col1,#T_263993ce_1040_11ec_b725_c6db85e749c4row2_col2,#T_263993ce_1040_11ec_b725_c6db85e749c4row2_col15,#T_263993ce_1040_11ec_b725_c6db85e749c4row2_col16,#T_263993ce_1040_11ec_b725_c6db85e749c4row2_col17,#T_263993ce_1040_11ec_b725_c6db85e749c4row3_col0,#T_263993ce_1040_11ec_b725_c6db85e749c4row3_col15,#T_263993ce_1040_11ec_b725_c6db85e749c4row3_col16,#T_263993ce_1040_11ec_b725_c6db85e749c4row3_col17,#T_263993ce_1040_11ec_b725_c6db85e749c4row4_col0,#T_263993ce_1040_11ec_b725_c6db85e749c4row4_col6,#T_263993ce_1040_11ec_b725_c6db85e749c4row4_col7,#T_263993ce_1040_11ec_b725_c6db85e749c4row4_col8,#T_263993ce_1040_11ec_b725_c6db85e749c4row4_col9,#T_263993ce_1040_11ec_b725_c6db85e749c4row4_col10,#T_263993ce_1040_11ec_b725_c6db85e749c4row4_col15,#T_263993ce_1040_11ec_b725_c6db85e749c4row4_col16,#T_263993ce_1040_11ec_b725_c6db85e749c4row4_col17,#T_263993ce_1040_11ec_b725_c6db85e749c4row5_col0,#T_263993ce_1040_11ec_b725_c6db85e749c4row5_col5,#T_263993ce_1040_11ec_b725_c6db85e749c4row5_col6,#T_263993ce_1040_11ec_b725_c6db85e749c4row5_col7,#T_263993ce_1040_11ec_b725_c6db85e749c4row5_col8,#T_263993ce_1040_11ec_b725_c6db85e749c4row5_col9,#T_263993ce_1040_11ec_b725_c6db85e749c4row5_col15,#T_263993ce_1040_11ec_b725_c6db85e749c4row5_col16,#T_263993ce_1040_11ec_b725_c6db85e749c4row5_col17,#T_263993ce_1040_11ec_b725_c6db85e749c4row6_col0,#T_263993ce_1040_11ec_b725_c6db85e749c4row6_col1,#T_263993ce_1040_11ec_b725_c6db85e749c4row6_col2,#T_263993ce_1040_11ec_b725_c6db85e749c4row6_col3,#T_263993ce_1040_11ec_b725_c6db85e749c4row6_col4,#T_263993ce_1040_11ec_b725_c6db85e749c4row6_col5,#T_263993ce_1040_11ec_b725_c6db85e749c4row6_col6,#T_263993ce_1040_11ec_b725_c6db85e749c4row6_col7,#T_263993ce_1040_11ec_b725_c6db85e749c4row6_col8,#T_263993ce_1040_11ec_b725_c6db85e749c4row6_col9,#T_263993ce_1040_11ec_b725_c6db85e749c4row6_col14,#T_263993ce_1040_11ec_b725_c6db85e749c4row6_col15,#T_263993ce_1040_11ec_b725_c6db85e749c4row6_col16,#T_263993ce_1040_11ec_b725_c6db85e749c4row6_col17,#T_263993ce_1040_11ec_b725_c6db85e749c4row7_col0,#T_263993ce_1040_11ec_b725_c6db85e749c4row7_col1,#T_263993ce_1040_11ec_b725_c6db85e749c4row7_col2,#T_263993ce_1040_11ec_b725_c6db85e749c4row7_col3,#T_263993ce_1040_11ec_b725_c6db85e749c4row7_col4,#T_263993ce_1040_11ec_b725_c6db85e749c4row7_col5,#T_263993ce_1040_11ec_b725_c6db85e749c4row7_col6,#T_263993ce_1040_11ec_b725_c6db85e749c4row7_col13,#T_263993ce_1040_11ec_b725_c6db85e749c4row7_col14,#T_263993ce_1040_11ec_b725_c6db85e749c4row7_col15,#T_263993ce_1040_11ec_b725_c6db85e749c4row7_col16,#T_263993ce_1040_11ec_b725_c6db85e749c4row7_col17,#T_263993ce_1040_11ec_b725_c6db85e749c4row8_col0,#T_263993ce_1040_11ec_b725_c6db85e749c4row8_col1,#T_263993ce_1040_11ec_b725_c6db85e749c4row8_col2,#T_263993ce_1040_11ec_b725_c6db85e749c4row8_col3,#T_263993ce_1040_11ec_b725_c6db85e749c4row8_col4,#T_263993ce_1040_11ec_b725_c6db85e749c4row8_col13,#T_263993ce_1040_11ec_b725_c6db85e749c4row8_col14,#T_263993ce_1040_11ec_b725_c6db85e749c4row8_col15,#T_263993ce_1040_11ec_b725_c6db85e749c4row8_col16,#T_263993ce_1040_11ec_b725_c6db85e749c4row8_col17,#T_263993ce_1040_11ec_b725_c6db85e749c4row9_col0,#T_263993ce_1040_11ec_b725_c6db85e749c4row9_col1,#T_263993ce_1040_11ec_b725_c6db85e749c4row9_col2,#T_263993ce_1040_11ec_b725_c6db85e749c4row9_col3,#T_263993ce_1040_11ec_b725_c6db85e749c4row9_col4,#T_263993ce_1040_11ec_b725_c6db85e749c4row9_col16,#T_263993ce_1040_11ec_b725_c6db85e749c4row9_col17,#T_263993ce_1040_11ec_b725_c6db85e749c4row10_col0,#T_263993ce_1040_11ec_b725_c6db85e749c4row10_col1,#T_263993ce_1040_11ec_b725_c6db85e749c4row10_col2,#T_263993ce_1040_11ec_b725_c6db85e749c4row10_col3,#T_263993ce_1040_11ec_b725_c6db85e749c4row10_col4,#T_263993ce_1040_11ec_b725_c6db85e749c4row10_col5,#T_263993ce_1040_11ec_b725_c6db85e749c4row10_col6,#T_263993ce_1040_11ec_b725_c6db85e749c4row10_col17{\n",
       "            font-size:  6pt;\n",
       "            background-color:  #f7fbff;\n",
       "            color:  #000000;\n",
       "        }#T_263993ce_1040_11ec_b725_c6db85e749c4row1_col5{\n",
       "            font-size:  6pt;\n",
       "            background-color:  #ddeaf7;\n",
       "            color:  #000000;\n",
       "        }#T_263993ce_1040_11ec_b725_c6db85e749c4row1_col6,#T_263993ce_1040_11ec_b725_c6db85e749c4row1_col13{\n",
       "            font-size:  6pt;\n",
       "            background-color:  #4d99ca;\n",
       "            color:  #000000;\n",
       "        }#T_263993ce_1040_11ec_b725_c6db85e749c4row1_col7{\n",
       "            font-size:  6pt;\n",
       "            background-color:  #1c6bb0;\n",
       "            color:  #f1f1f1;\n",
       "        }#T_263993ce_1040_11ec_b725_c6db85e749c4row1_col8,#T_263993ce_1040_11ec_b725_c6db85e749c4row1_col9,#T_263993ce_1040_11ec_b725_c6db85e749c4row1_col10,#T_263993ce_1040_11ec_b725_c6db85e749c4row2_col5,#T_263993ce_1040_11ec_b725_c6db85e749c4row2_col6,#T_263993ce_1040_11ec_b725_c6db85e749c4row2_col7,#T_263993ce_1040_11ec_b725_c6db85e749c4row2_col11,#T_263993ce_1040_11ec_b725_c6db85e749c4row2_col12,#T_263993ce_1040_11ec_b725_c6db85e749c4row2_col13,#T_263993ce_1040_11ec_b725_c6db85e749c4row3_col4,#T_263993ce_1040_11ec_b725_c6db85e749c4row3_col12,#T_263993ce_1040_11ec_b725_c6db85e749c4row3_col13,#T_263993ce_1040_11ec_b725_c6db85e749c4row4_col1,#T_263993ce_1040_11ec_b725_c6db85e749c4row4_col2,#T_263993ce_1040_11ec_b725_c6db85e749c4row4_col3,#T_263993ce_1040_11ec_b725_c6db85e749c4row4_col12,#T_263993ce_1040_11ec_b725_c6db85e749c4row4_col13,#T_263993ce_1040_11ec_b725_c6db85e749c4row5_col12,#T_263993ce_1040_11ec_b725_c6db85e749c4row6_col11,#T_263993ce_1040_11ec_b725_c6db85e749c4row9_col11,#T_263993ce_1040_11ec_b725_c6db85e749c4row10_col11,#T_263993ce_1040_11ec_b725_c6db85e749c4row10_col12,#T_263993ce_1040_11ec_b725_c6db85e749c4row10_col13,#T_263993ce_1040_11ec_b725_c6db85e749c4row10_col14,#T_263993ce_1040_11ec_b725_c6db85e749c4row10_col15,#T_263993ce_1040_11ec_b725_c6db85e749c4row10_col16{\n",
       "            font-size:  6pt;\n",
       "            background-color:  #08306b;\n",
       "            color:  #f1f1f1;\n",
       "        }#T_263993ce_1040_11ec_b725_c6db85e749c4row1_col11{\n",
       "            font-size:  6pt;\n",
       "            background-color:  #2f7fbc;\n",
       "            color:  #000000;\n",
       "        }#T_263993ce_1040_11ec_b725_c6db85e749c4row1_col12{\n",
       "            font-size:  6pt;\n",
       "            background-color:  #1e6db2;\n",
       "            color:  #f1f1f1;\n",
       "        }#T_263993ce_1040_11ec_b725_c6db85e749c4row1_col14{\n",
       "            font-size:  6pt;\n",
       "            background-color:  #9cc9e1;\n",
       "            color:  #000000;\n",
       "        }#T_263993ce_1040_11ec_b725_c6db85e749c4row2_col3{\n",
       "            font-size:  6pt;\n",
       "            background-color:  #d2e3f3;\n",
       "            color:  #000000;\n",
       "        }#T_263993ce_1040_11ec_b725_c6db85e749c4row2_col4,#T_263993ce_1040_11ec_b725_c6db85e749c4row8_col6{\n",
       "            font-size:  6pt;\n",
       "            background-color:  #3a8ac2;\n",
       "            color:  #000000;\n",
       "        }#T_263993ce_1040_11ec_b725_c6db85e749c4row2_col8,#T_263993ce_1040_11ec_b725_c6db85e749c4row2_col14,#T_263993ce_1040_11ec_b725_c6db85e749c4row3_col14{\n",
       "            font-size:  6pt;\n",
       "            background-color:  #08458a;\n",
       "            color:  #f1f1f1;\n",
       "        }#T_263993ce_1040_11ec_b725_c6db85e749c4row2_col9,#T_263993ce_1040_11ec_b725_c6db85e749c4row3_col11{\n",
       "            font-size:  6pt;\n",
       "            background-color:  #1d6cb1;\n",
       "            color:  #f1f1f1;\n",
       "        }#T_263993ce_1040_11ec_b725_c6db85e749c4row2_col10,#T_263993ce_1040_11ec_b725_c6db85e749c4row7_col10,#T_263993ce_1040_11ec_b725_c6db85e749c4row8_col8,#T_263993ce_1040_11ec_b725_c6db85e749c4row8_col10,#T_263993ce_1040_11ec_b725_c6db85e749c4row9_col8,#T_263993ce_1040_11ec_b725_c6db85e749c4row9_col10{\n",
       "            font-size:  6pt;\n",
       "            background-color:  #08316d;\n",
       "            color:  #f1f1f1;\n",
       "        }#T_263993ce_1040_11ec_b725_c6db85e749c4row3_col1{\n",
       "            font-size:  6pt;\n",
       "            background-color:  #09529d;\n",
       "            color:  #f1f1f1;\n",
       "        }#T_263993ce_1040_11ec_b725_c6db85e749c4row3_col2{\n",
       "            font-size:  6pt;\n",
       "            background-color:  #083979;\n",
       "            color:  #f1f1f1;\n",
       "        }#T_263993ce_1040_11ec_b725_c6db85e749c4row3_col3{\n",
       "            font-size:  6pt;\n",
       "            background-color:  #083471;\n",
       "            color:  #f1f1f1;\n",
       "        }#T_263993ce_1040_11ec_b725_c6db85e749c4row3_col5{\n",
       "            font-size:  6pt;\n",
       "            background-color:  #105ba4;\n",
       "            color:  #f1f1f1;\n",
       "        }#T_263993ce_1040_11ec_b725_c6db85e749c4row3_col6{\n",
       "            font-size:  6pt;\n",
       "            background-color:  #d3e4f3;\n",
       "            color:  #000000;\n",
       "        }#T_263993ce_1040_11ec_b725_c6db85e749c4row3_col7,#T_263993ce_1040_11ec_b725_c6db85e749c4row3_col10{\n",
       "            font-size:  6pt;\n",
       "            background-color:  #eff6fc;\n",
       "            color:  #000000;\n",
       "        }#T_263993ce_1040_11ec_b725_c6db85e749c4row3_col8{\n",
       "            font-size:  6pt;\n",
       "            background-color:  #f1f7fd;\n",
       "            color:  #000000;\n",
       "        }#T_263993ce_1040_11ec_b725_c6db85e749c4row3_col9{\n",
       "            font-size:  6pt;\n",
       "            background-color:  #f4f9fe;\n",
       "            color:  #000000;\n",
       "        }#T_263993ce_1040_11ec_b725_c6db85e749c4row4_col4{\n",
       "            font-size:  6pt;\n",
       "            background-color:  #08488e;\n",
       "            color:  #f1f1f1;\n",
       "        }#T_263993ce_1040_11ec_b725_c6db85e749c4row4_col5{\n",
       "            font-size:  6pt;\n",
       "            background-color:  #cde0f1;\n",
       "            color:  #000000;\n",
       "        }#T_263993ce_1040_11ec_b725_c6db85e749c4row4_col11{\n",
       "            font-size:  6pt;\n",
       "            background-color:  #1f6eb3;\n",
       "            color:  #f1f1f1;\n",
       "        }#T_263993ce_1040_11ec_b725_c6db85e749c4row4_col14{\n",
       "            font-size:  6pt;\n",
       "            background-color:  #4594c7;\n",
       "            color:  #000000;\n",
       "        }#T_263993ce_1040_11ec_b725_c6db85e749c4row5_col1{\n",
       "            font-size:  6pt;\n",
       "            background-color:  #f2f7fd;\n",
       "            color:  #000000;\n",
       "        }#T_263993ce_1040_11ec_b725_c6db85e749c4row5_col2,#T_263993ce_1040_11ec_b725_c6db85e749c4row5_col3{\n",
       "            font-size:  6pt;\n",
       "            background-color:  #e7f1fa;\n",
       "            color:  #000000;\n",
       "        }#T_263993ce_1040_11ec_b725_c6db85e749c4row5_col4{\n",
       "            font-size:  6pt;\n",
       "            background-color:  #ebf3fb;\n",
       "            color:  #000000;\n",
       "        }#T_263993ce_1040_11ec_b725_c6db85e749c4row5_col10,#T_263993ce_1040_11ec_b725_c6db85e749c4row10_col7{\n",
       "            font-size:  6pt;\n",
       "            background-color:  #d6e5f4;\n",
       "            color:  #000000;\n",
       "        }#T_263993ce_1040_11ec_b725_c6db85e749c4row5_col11{\n",
       "            font-size:  6pt;\n",
       "            background-color:  #084e98;\n",
       "            color:  #f1f1f1;\n",
       "        }#T_263993ce_1040_11ec_b725_c6db85e749c4row5_col13,#T_263993ce_1040_11ec_b725_c6db85e749c4row6_col12{\n",
       "            font-size:  6pt;\n",
       "            background-color:  #083877;\n",
       "            color:  #f1f1f1;\n",
       "        }#T_263993ce_1040_11ec_b725_c6db85e749c4row5_col14{\n",
       "            font-size:  6pt;\n",
       "            background-color:  #b9d6ea;\n",
       "            color:  #000000;\n",
       "        }#T_263993ce_1040_11ec_b725_c6db85e749c4row6_col10,#T_263993ce_1040_11ec_b725_c6db85e749c4row7_col11,#T_263993ce_1040_11ec_b725_c6db85e749c4row9_col6{\n",
       "            font-size:  6pt;\n",
       "            background-color:  #083573;\n",
       "            color:  #f1f1f1;\n",
       "        }#T_263993ce_1040_11ec_b725_c6db85e749c4row6_col13{\n",
       "            font-size:  6pt;\n",
       "            background-color:  #6caed6;\n",
       "            color:  #000000;\n",
       "        }#T_263993ce_1040_11ec_b725_c6db85e749c4row7_col7{\n",
       "            font-size:  6pt;\n",
       "            background-color:  #ecf4fb;\n",
       "            color:  #000000;\n",
       "        }#T_263993ce_1040_11ec_b725_c6db85e749c4row7_col8{\n",
       "            font-size:  6pt;\n",
       "            background-color:  #95c5df;\n",
       "            color:  #000000;\n",
       "        }#T_263993ce_1040_11ec_b725_c6db85e749c4row7_col9{\n",
       "            font-size:  6pt;\n",
       "            background-color:  #08519c;\n",
       "            color:  #f1f1f1;\n",
       "        }#T_263993ce_1040_11ec_b725_c6db85e749c4row7_col12{\n",
       "            font-size:  6pt;\n",
       "            background-color:  #6fb0d7;\n",
       "            color:  #000000;\n",
       "        }#T_263993ce_1040_11ec_b725_c6db85e749c4row8_col5{\n",
       "            font-size:  6pt;\n",
       "            background-color:  #eef5fc;\n",
       "            color:  #000000;\n",
       "        }#T_263993ce_1040_11ec_b725_c6db85e749c4row8_col7{\n",
       "            font-size:  6pt;\n",
       "            background-color:  #083e81;\n",
       "            color:  #f1f1f1;\n",
       "        }#T_263993ce_1040_11ec_b725_c6db85e749c4row8_col9,#T_263993ce_1040_11ec_b725_c6db85e749c4row9_col9{\n",
       "            font-size:  6pt;\n",
       "            background-color:  #08326e;\n",
       "            color:  #f1f1f1;\n",
       "        }#T_263993ce_1040_11ec_b725_c6db85e749c4row8_col11{\n",
       "            font-size:  6pt;\n",
       "            background-color:  #2373b6;\n",
       "            color:  #f1f1f1;\n",
       "        }#T_263993ce_1040_11ec_b725_c6db85e749c4row8_col12{\n",
       "            font-size:  6pt;\n",
       "            background-color:  #dfecf7;\n",
       "            color:  #000000;\n",
       "        }#T_263993ce_1040_11ec_b725_c6db85e749c4row9_col5{\n",
       "            font-size:  6pt;\n",
       "            background-color:  #e9f2fa;\n",
       "            color:  #000000;\n",
       "        }#T_263993ce_1040_11ec_b725_c6db85e749c4row9_col7{\n",
       "            font-size:  6pt;\n",
       "            background-color:  #083370;\n",
       "            color:  #f1f1f1;\n",
       "        }#T_263993ce_1040_11ec_b725_c6db85e749c4row9_col12{\n",
       "            font-size:  6pt;\n",
       "            background-color:  #08468b;\n",
       "            color:  #f1f1f1;\n",
       "        }#T_263993ce_1040_11ec_b725_c6db85e749c4row9_col13{\n",
       "            font-size:  6pt;\n",
       "            background-color:  #0e59a2;\n",
       "            color:  #f1f1f1;\n",
       "        }#T_263993ce_1040_11ec_b725_c6db85e749c4row9_col14{\n",
       "            font-size:  6pt;\n",
       "            background-color:  #84bcdb;\n",
       "            color:  #000000;\n",
       "        }#T_263993ce_1040_11ec_b725_c6db85e749c4row9_col15{\n",
       "            font-size:  6pt;\n",
       "            background-color:  #f5fafe;\n",
       "            color:  #000000;\n",
       "        }#T_263993ce_1040_11ec_b725_c6db85e749c4row10_col8,#T_263993ce_1040_11ec_b725_c6db85e749c4row10_col9{\n",
       "            font-size:  6pt;\n",
       "            background-color:  #9ac8e0;\n",
       "            color:  #000000;\n",
       "        }#T_263993ce_1040_11ec_b725_c6db85e749c4row10_col10{\n",
       "            font-size:  6pt;\n",
       "            background-color:  #135fa7;\n",
       "            color:  #f1f1f1;\n",
       "        }</style><table id=\"T_263993ce_1040_11ec_b725_c6db85e749c4\" ><thead>    <tr>        <th class=\"blank level0\" ></th>        <th class=\"col_heading level0 col0\" >0</th>        <th class=\"col_heading level0 col1\" >1</th>        <th class=\"col_heading level0 col2\" >2</th>        <th class=\"col_heading level0 col3\" >3</th>        <th class=\"col_heading level0 col4\" >4</th>        <th class=\"col_heading level0 col5\" >5</th>        <th class=\"col_heading level0 col6\" >6</th>        <th class=\"col_heading level0 col7\" >7</th>        <th class=\"col_heading level0 col8\" >8</th>        <th class=\"col_heading level0 col9\" >9</th>        <th class=\"col_heading level0 col10\" >10</th>        <th class=\"col_heading level0 col11\" >11</th>        <th class=\"col_heading level0 col12\" >12</th>        <th class=\"col_heading level0 col13\" >13</th>        <th class=\"col_heading level0 col14\" >14</th>        <th class=\"col_heading level0 col15\" >15</th>        <th class=\"col_heading level0 col16\" >16</th>        <th class=\"col_heading level0 col17\" >17</th>    </tr></thead><tbody>\n",
       "                <tr>\n",
       "                        <th id=\"T_263993ce_1040_11ec_b725_c6db85e749c4level0_row0\" class=\"row_heading level0 row0\" >0</th>\n",
       "                        <td id=\"T_263993ce_1040_11ec_b725_c6db85e749c4row0_col0\" class=\"data row0 col0\" >0</td>\n",
       "                        <td id=\"T_263993ce_1040_11ec_b725_c6db85e749c4row0_col1\" class=\"data row0 col1\" >0</td>\n",
       "                        <td id=\"T_263993ce_1040_11ec_b725_c6db85e749c4row0_col2\" class=\"data row0 col2\" >0</td>\n",
       "                        <td id=\"T_263993ce_1040_11ec_b725_c6db85e749c4row0_col3\" class=\"data row0 col3\" >0</td>\n",
       "                        <td id=\"T_263993ce_1040_11ec_b725_c6db85e749c4row0_col4\" class=\"data row0 col4\" >0</td>\n",
       "                        <td id=\"T_263993ce_1040_11ec_b725_c6db85e749c4row0_col5\" class=\"data row0 col5\" >0</td>\n",
       "                        <td id=\"T_263993ce_1040_11ec_b725_c6db85e749c4row0_col6\" class=\"data row0 col6\" >0</td>\n",
       "                        <td id=\"T_263993ce_1040_11ec_b725_c6db85e749c4row0_col7\" class=\"data row0 col7\" >0</td>\n",
       "                        <td id=\"T_263993ce_1040_11ec_b725_c6db85e749c4row0_col8\" class=\"data row0 col8\" >0</td>\n",
       "                        <td id=\"T_263993ce_1040_11ec_b725_c6db85e749c4row0_col9\" class=\"data row0 col9\" >0</td>\n",
       "                        <td id=\"T_263993ce_1040_11ec_b725_c6db85e749c4row0_col10\" class=\"data row0 col10\" >0</td>\n",
       "                        <td id=\"T_263993ce_1040_11ec_b725_c6db85e749c4row0_col11\" class=\"data row0 col11\" >0</td>\n",
       "                        <td id=\"T_263993ce_1040_11ec_b725_c6db85e749c4row0_col12\" class=\"data row0 col12\" >0</td>\n",
       "                        <td id=\"T_263993ce_1040_11ec_b725_c6db85e749c4row0_col13\" class=\"data row0 col13\" >0</td>\n",
       "                        <td id=\"T_263993ce_1040_11ec_b725_c6db85e749c4row0_col14\" class=\"data row0 col14\" >0</td>\n",
       "                        <td id=\"T_263993ce_1040_11ec_b725_c6db85e749c4row0_col15\" class=\"data row0 col15\" >0</td>\n",
       "                        <td id=\"T_263993ce_1040_11ec_b725_c6db85e749c4row0_col16\" class=\"data row0 col16\" >0</td>\n",
       "                        <td id=\"T_263993ce_1040_11ec_b725_c6db85e749c4row0_col17\" class=\"data row0 col17\" >0</td>\n",
       "            </tr>\n",
       "            <tr>\n",
       "                        <th id=\"T_263993ce_1040_11ec_b725_c6db85e749c4level0_row1\" class=\"row_heading level0 row1\" >1</th>\n",
       "                        <td id=\"T_263993ce_1040_11ec_b725_c6db85e749c4row1_col0\" class=\"data row1 col0\" >0</td>\n",
       "                        <td id=\"T_263993ce_1040_11ec_b725_c6db85e749c4row1_col1\" class=\"data row1 col1\" >0</td>\n",
       "                        <td id=\"T_263993ce_1040_11ec_b725_c6db85e749c4row1_col2\" class=\"data row1 col2\" >0</td>\n",
       "                        <td id=\"T_263993ce_1040_11ec_b725_c6db85e749c4row1_col3\" class=\"data row1 col3\" >0</td>\n",
       "                        <td id=\"T_263993ce_1040_11ec_b725_c6db85e749c4row1_col4\" class=\"data row1 col4\" >0</td>\n",
       "                        <td id=\"T_263993ce_1040_11ec_b725_c6db85e749c4row1_col5\" class=\"data row1 col5\" >29</td>\n",
       "                        <td id=\"T_263993ce_1040_11ec_b725_c6db85e749c4row1_col6\" class=\"data row1 col6\" >150</td>\n",
       "                        <td id=\"T_263993ce_1040_11ec_b725_c6db85e749c4row1_col7\" class=\"data row1 col7\" >195</td>\n",
       "                        <td id=\"T_263993ce_1040_11ec_b725_c6db85e749c4row1_col8\" class=\"data row1 col8\" >254</td>\n",
       "                        <td id=\"T_263993ce_1040_11ec_b725_c6db85e749c4row1_col9\" class=\"data row1 col9\" >255</td>\n",
       "                        <td id=\"T_263993ce_1040_11ec_b725_c6db85e749c4row1_col10\" class=\"data row1 col10\" >254</td>\n",
       "                        <td id=\"T_263993ce_1040_11ec_b725_c6db85e749c4row1_col11\" class=\"data row1 col11\" >176</td>\n",
       "                        <td id=\"T_263993ce_1040_11ec_b725_c6db85e749c4row1_col12\" class=\"data row1 col12\" >193</td>\n",
       "                        <td id=\"T_263993ce_1040_11ec_b725_c6db85e749c4row1_col13\" class=\"data row1 col13\" >150</td>\n",
       "                        <td id=\"T_263993ce_1040_11ec_b725_c6db85e749c4row1_col14\" class=\"data row1 col14\" >96</td>\n",
       "                        <td id=\"T_263993ce_1040_11ec_b725_c6db85e749c4row1_col15\" class=\"data row1 col15\" >0</td>\n",
       "                        <td id=\"T_263993ce_1040_11ec_b725_c6db85e749c4row1_col16\" class=\"data row1 col16\" >0</td>\n",
       "                        <td id=\"T_263993ce_1040_11ec_b725_c6db85e749c4row1_col17\" class=\"data row1 col17\" >0</td>\n",
       "            </tr>\n",
       "            <tr>\n",
       "                        <th id=\"T_263993ce_1040_11ec_b725_c6db85e749c4level0_row2\" class=\"row_heading level0 row2\" >2</th>\n",
       "                        <td id=\"T_263993ce_1040_11ec_b725_c6db85e749c4row2_col0\" class=\"data row2 col0\" >0</td>\n",
       "                        <td id=\"T_263993ce_1040_11ec_b725_c6db85e749c4row2_col1\" class=\"data row2 col1\" >0</td>\n",
       "                        <td id=\"T_263993ce_1040_11ec_b725_c6db85e749c4row2_col2\" class=\"data row2 col2\" >0</td>\n",
       "                        <td id=\"T_263993ce_1040_11ec_b725_c6db85e749c4row2_col3\" class=\"data row2 col3\" >48</td>\n",
       "                        <td id=\"T_263993ce_1040_11ec_b725_c6db85e749c4row2_col4\" class=\"data row2 col4\" >166</td>\n",
       "                        <td id=\"T_263993ce_1040_11ec_b725_c6db85e749c4row2_col5\" class=\"data row2 col5\" >224</td>\n",
       "                        <td id=\"T_263993ce_1040_11ec_b725_c6db85e749c4row2_col6\" class=\"data row2 col6\" >253</td>\n",
       "                        <td id=\"T_263993ce_1040_11ec_b725_c6db85e749c4row2_col7\" class=\"data row2 col7\" >253</td>\n",
       "                        <td id=\"T_263993ce_1040_11ec_b725_c6db85e749c4row2_col8\" class=\"data row2 col8\" >234</td>\n",
       "                        <td id=\"T_263993ce_1040_11ec_b725_c6db85e749c4row2_col9\" class=\"data row2 col9\" >196</td>\n",
       "                        <td id=\"T_263993ce_1040_11ec_b725_c6db85e749c4row2_col10\" class=\"data row2 col10\" >253</td>\n",
       "                        <td id=\"T_263993ce_1040_11ec_b725_c6db85e749c4row2_col11\" class=\"data row2 col11\" >253</td>\n",
       "                        <td id=\"T_263993ce_1040_11ec_b725_c6db85e749c4row2_col12\" class=\"data row2 col12\" >253</td>\n",
       "                        <td id=\"T_263993ce_1040_11ec_b725_c6db85e749c4row2_col13\" class=\"data row2 col13\" >253</td>\n",
       "                        <td id=\"T_263993ce_1040_11ec_b725_c6db85e749c4row2_col14\" class=\"data row2 col14\" >233</td>\n",
       "                        <td id=\"T_263993ce_1040_11ec_b725_c6db85e749c4row2_col15\" class=\"data row2 col15\" >0</td>\n",
       "                        <td id=\"T_263993ce_1040_11ec_b725_c6db85e749c4row2_col16\" class=\"data row2 col16\" >0</td>\n",
       "                        <td id=\"T_263993ce_1040_11ec_b725_c6db85e749c4row2_col17\" class=\"data row2 col17\" >0</td>\n",
       "            </tr>\n",
       "            <tr>\n",
       "                        <th id=\"T_263993ce_1040_11ec_b725_c6db85e749c4level0_row3\" class=\"row_heading level0 row3\" >3</th>\n",
       "                        <td id=\"T_263993ce_1040_11ec_b725_c6db85e749c4row3_col0\" class=\"data row3 col0\" >0</td>\n",
       "                        <td id=\"T_263993ce_1040_11ec_b725_c6db85e749c4row3_col1\" class=\"data row3 col1\" >93</td>\n",
       "                        <td id=\"T_263993ce_1040_11ec_b725_c6db85e749c4row3_col2\" class=\"data row3 col2\" >244</td>\n",
       "                        <td id=\"T_263993ce_1040_11ec_b725_c6db85e749c4row3_col3\" class=\"data row3 col3\" >249</td>\n",
       "                        <td id=\"T_263993ce_1040_11ec_b725_c6db85e749c4row3_col4\" class=\"data row3 col4\" >253</td>\n",
       "                        <td id=\"T_263993ce_1040_11ec_b725_c6db85e749c4row3_col5\" class=\"data row3 col5\" >187</td>\n",
       "                        <td id=\"T_263993ce_1040_11ec_b725_c6db85e749c4row3_col6\" class=\"data row3 col6\" >46</td>\n",
       "                        <td id=\"T_263993ce_1040_11ec_b725_c6db85e749c4row3_col7\" class=\"data row3 col7\" >10</td>\n",
       "                        <td id=\"T_263993ce_1040_11ec_b725_c6db85e749c4row3_col8\" class=\"data row3 col8\" >8</td>\n",
       "                        <td id=\"T_263993ce_1040_11ec_b725_c6db85e749c4row3_col9\" class=\"data row3 col9\" >4</td>\n",
       "                        <td id=\"T_263993ce_1040_11ec_b725_c6db85e749c4row3_col10\" class=\"data row3 col10\" >10</td>\n",
       "                        <td id=\"T_263993ce_1040_11ec_b725_c6db85e749c4row3_col11\" class=\"data row3 col11\" >194</td>\n",
       "                        <td id=\"T_263993ce_1040_11ec_b725_c6db85e749c4row3_col12\" class=\"data row3 col12\" >253</td>\n",
       "                        <td id=\"T_263993ce_1040_11ec_b725_c6db85e749c4row3_col13\" class=\"data row3 col13\" >253</td>\n",
       "                        <td id=\"T_263993ce_1040_11ec_b725_c6db85e749c4row3_col14\" class=\"data row3 col14\" >233</td>\n",
       "                        <td id=\"T_263993ce_1040_11ec_b725_c6db85e749c4row3_col15\" class=\"data row3 col15\" >0</td>\n",
       "                        <td id=\"T_263993ce_1040_11ec_b725_c6db85e749c4row3_col16\" class=\"data row3 col16\" >0</td>\n",
       "                        <td id=\"T_263993ce_1040_11ec_b725_c6db85e749c4row3_col17\" class=\"data row3 col17\" >0</td>\n",
       "            </tr>\n",
       "            <tr>\n",
       "                        <th id=\"T_263993ce_1040_11ec_b725_c6db85e749c4level0_row4\" class=\"row_heading level0 row4\" >4</th>\n",
       "                        <td id=\"T_263993ce_1040_11ec_b725_c6db85e749c4row4_col0\" class=\"data row4 col0\" >0</td>\n",
       "                        <td id=\"T_263993ce_1040_11ec_b725_c6db85e749c4row4_col1\" class=\"data row4 col1\" >107</td>\n",
       "                        <td id=\"T_263993ce_1040_11ec_b725_c6db85e749c4row4_col2\" class=\"data row4 col2\" >253</td>\n",
       "                        <td id=\"T_263993ce_1040_11ec_b725_c6db85e749c4row4_col3\" class=\"data row4 col3\" >253</td>\n",
       "                        <td id=\"T_263993ce_1040_11ec_b725_c6db85e749c4row4_col4\" class=\"data row4 col4\" >230</td>\n",
       "                        <td id=\"T_263993ce_1040_11ec_b725_c6db85e749c4row4_col5\" class=\"data row4 col5\" >48</td>\n",
       "                        <td id=\"T_263993ce_1040_11ec_b725_c6db85e749c4row4_col6\" class=\"data row4 col6\" >0</td>\n",
       "                        <td id=\"T_263993ce_1040_11ec_b725_c6db85e749c4row4_col7\" class=\"data row4 col7\" >0</td>\n",
       "                        <td id=\"T_263993ce_1040_11ec_b725_c6db85e749c4row4_col8\" class=\"data row4 col8\" >0</td>\n",
       "                        <td id=\"T_263993ce_1040_11ec_b725_c6db85e749c4row4_col9\" class=\"data row4 col9\" >0</td>\n",
       "                        <td id=\"T_263993ce_1040_11ec_b725_c6db85e749c4row4_col10\" class=\"data row4 col10\" >0</td>\n",
       "                        <td id=\"T_263993ce_1040_11ec_b725_c6db85e749c4row4_col11\" class=\"data row4 col11\" >192</td>\n",
       "                        <td id=\"T_263993ce_1040_11ec_b725_c6db85e749c4row4_col12\" class=\"data row4 col12\" >253</td>\n",
       "                        <td id=\"T_263993ce_1040_11ec_b725_c6db85e749c4row4_col13\" class=\"data row4 col13\" >253</td>\n",
       "                        <td id=\"T_263993ce_1040_11ec_b725_c6db85e749c4row4_col14\" class=\"data row4 col14\" >156</td>\n",
       "                        <td id=\"T_263993ce_1040_11ec_b725_c6db85e749c4row4_col15\" class=\"data row4 col15\" >0</td>\n",
       "                        <td id=\"T_263993ce_1040_11ec_b725_c6db85e749c4row4_col16\" class=\"data row4 col16\" >0</td>\n",
       "                        <td id=\"T_263993ce_1040_11ec_b725_c6db85e749c4row4_col17\" class=\"data row4 col17\" >0</td>\n",
       "            </tr>\n",
       "            <tr>\n",
       "                        <th id=\"T_263993ce_1040_11ec_b725_c6db85e749c4level0_row5\" class=\"row_heading level0 row5\" >5</th>\n",
       "                        <td id=\"T_263993ce_1040_11ec_b725_c6db85e749c4row5_col0\" class=\"data row5 col0\" >0</td>\n",
       "                        <td id=\"T_263993ce_1040_11ec_b725_c6db85e749c4row5_col1\" class=\"data row5 col1\" >3</td>\n",
       "                        <td id=\"T_263993ce_1040_11ec_b725_c6db85e749c4row5_col2\" class=\"data row5 col2\" >20</td>\n",
       "                        <td id=\"T_263993ce_1040_11ec_b725_c6db85e749c4row5_col3\" class=\"data row5 col3\" >20</td>\n",
       "                        <td id=\"T_263993ce_1040_11ec_b725_c6db85e749c4row5_col4\" class=\"data row5 col4\" >15</td>\n",
       "                        <td id=\"T_263993ce_1040_11ec_b725_c6db85e749c4row5_col5\" class=\"data row5 col5\" >0</td>\n",
       "                        <td id=\"T_263993ce_1040_11ec_b725_c6db85e749c4row5_col6\" class=\"data row5 col6\" >0</td>\n",
       "                        <td id=\"T_263993ce_1040_11ec_b725_c6db85e749c4row5_col7\" class=\"data row5 col7\" >0</td>\n",
       "                        <td id=\"T_263993ce_1040_11ec_b725_c6db85e749c4row5_col8\" class=\"data row5 col8\" >0</td>\n",
       "                        <td id=\"T_263993ce_1040_11ec_b725_c6db85e749c4row5_col9\" class=\"data row5 col9\" >0</td>\n",
       "                        <td id=\"T_263993ce_1040_11ec_b725_c6db85e749c4row5_col10\" class=\"data row5 col10\" >43</td>\n",
       "                        <td id=\"T_263993ce_1040_11ec_b725_c6db85e749c4row5_col11\" class=\"data row5 col11\" >224</td>\n",
       "                        <td id=\"T_263993ce_1040_11ec_b725_c6db85e749c4row5_col12\" class=\"data row5 col12\" >253</td>\n",
       "                        <td id=\"T_263993ce_1040_11ec_b725_c6db85e749c4row5_col13\" class=\"data row5 col13\" >245</td>\n",
       "                        <td id=\"T_263993ce_1040_11ec_b725_c6db85e749c4row5_col14\" class=\"data row5 col14\" >74</td>\n",
       "                        <td id=\"T_263993ce_1040_11ec_b725_c6db85e749c4row5_col15\" class=\"data row5 col15\" >0</td>\n",
       "                        <td id=\"T_263993ce_1040_11ec_b725_c6db85e749c4row5_col16\" class=\"data row5 col16\" >0</td>\n",
       "                        <td id=\"T_263993ce_1040_11ec_b725_c6db85e749c4row5_col17\" class=\"data row5 col17\" >0</td>\n",
       "            </tr>\n",
       "            <tr>\n",
       "                        <th id=\"T_263993ce_1040_11ec_b725_c6db85e749c4level0_row6\" class=\"row_heading level0 row6\" >6</th>\n",
       "                        <td id=\"T_263993ce_1040_11ec_b725_c6db85e749c4row6_col0\" class=\"data row6 col0\" >0</td>\n",
       "                        <td id=\"T_263993ce_1040_11ec_b725_c6db85e749c4row6_col1\" class=\"data row6 col1\" >0</td>\n",
       "                        <td id=\"T_263993ce_1040_11ec_b725_c6db85e749c4row6_col2\" class=\"data row6 col2\" >0</td>\n",
       "                        <td id=\"T_263993ce_1040_11ec_b725_c6db85e749c4row6_col3\" class=\"data row6 col3\" >0</td>\n",
       "                        <td id=\"T_263993ce_1040_11ec_b725_c6db85e749c4row6_col4\" class=\"data row6 col4\" >0</td>\n",
       "                        <td id=\"T_263993ce_1040_11ec_b725_c6db85e749c4row6_col5\" class=\"data row6 col5\" >0</td>\n",
       "                        <td id=\"T_263993ce_1040_11ec_b725_c6db85e749c4row6_col6\" class=\"data row6 col6\" >0</td>\n",
       "                        <td id=\"T_263993ce_1040_11ec_b725_c6db85e749c4row6_col7\" class=\"data row6 col7\" >0</td>\n",
       "                        <td id=\"T_263993ce_1040_11ec_b725_c6db85e749c4row6_col8\" class=\"data row6 col8\" >0</td>\n",
       "                        <td id=\"T_263993ce_1040_11ec_b725_c6db85e749c4row6_col9\" class=\"data row6 col9\" >0</td>\n",
       "                        <td id=\"T_263993ce_1040_11ec_b725_c6db85e749c4row6_col10\" class=\"data row6 col10\" >249</td>\n",
       "                        <td id=\"T_263993ce_1040_11ec_b725_c6db85e749c4row6_col11\" class=\"data row6 col11\" >253</td>\n",
       "                        <td id=\"T_263993ce_1040_11ec_b725_c6db85e749c4row6_col12\" class=\"data row6 col12\" >245</td>\n",
       "                        <td id=\"T_263993ce_1040_11ec_b725_c6db85e749c4row6_col13\" class=\"data row6 col13\" >126</td>\n",
       "                        <td id=\"T_263993ce_1040_11ec_b725_c6db85e749c4row6_col14\" class=\"data row6 col14\" >0</td>\n",
       "                        <td id=\"T_263993ce_1040_11ec_b725_c6db85e749c4row6_col15\" class=\"data row6 col15\" >0</td>\n",
       "                        <td id=\"T_263993ce_1040_11ec_b725_c6db85e749c4row6_col16\" class=\"data row6 col16\" >0</td>\n",
       "                        <td id=\"T_263993ce_1040_11ec_b725_c6db85e749c4row6_col17\" class=\"data row6 col17\" >0</td>\n",
       "            </tr>\n",
       "            <tr>\n",
       "                        <th id=\"T_263993ce_1040_11ec_b725_c6db85e749c4level0_row7\" class=\"row_heading level0 row7\" >7</th>\n",
       "                        <td id=\"T_263993ce_1040_11ec_b725_c6db85e749c4row7_col0\" class=\"data row7 col0\" >0</td>\n",
       "                        <td id=\"T_263993ce_1040_11ec_b725_c6db85e749c4row7_col1\" class=\"data row7 col1\" >0</td>\n",
       "                        <td id=\"T_263993ce_1040_11ec_b725_c6db85e749c4row7_col2\" class=\"data row7 col2\" >0</td>\n",
       "                        <td id=\"T_263993ce_1040_11ec_b725_c6db85e749c4row7_col3\" class=\"data row7 col3\" >0</td>\n",
       "                        <td id=\"T_263993ce_1040_11ec_b725_c6db85e749c4row7_col4\" class=\"data row7 col4\" >0</td>\n",
       "                        <td id=\"T_263993ce_1040_11ec_b725_c6db85e749c4row7_col5\" class=\"data row7 col5\" >0</td>\n",
       "                        <td id=\"T_263993ce_1040_11ec_b725_c6db85e749c4row7_col6\" class=\"data row7 col6\" >0</td>\n",
       "                        <td id=\"T_263993ce_1040_11ec_b725_c6db85e749c4row7_col7\" class=\"data row7 col7\" >14</td>\n",
       "                        <td id=\"T_263993ce_1040_11ec_b725_c6db85e749c4row7_col8\" class=\"data row7 col8\" >101</td>\n",
       "                        <td id=\"T_263993ce_1040_11ec_b725_c6db85e749c4row7_col9\" class=\"data row7 col9\" >223</td>\n",
       "                        <td id=\"T_263993ce_1040_11ec_b725_c6db85e749c4row7_col10\" class=\"data row7 col10\" >253</td>\n",
       "                        <td id=\"T_263993ce_1040_11ec_b725_c6db85e749c4row7_col11\" class=\"data row7 col11\" >248</td>\n",
       "                        <td id=\"T_263993ce_1040_11ec_b725_c6db85e749c4row7_col12\" class=\"data row7 col12\" >124</td>\n",
       "                        <td id=\"T_263993ce_1040_11ec_b725_c6db85e749c4row7_col13\" class=\"data row7 col13\" >0</td>\n",
       "                        <td id=\"T_263993ce_1040_11ec_b725_c6db85e749c4row7_col14\" class=\"data row7 col14\" >0</td>\n",
       "                        <td id=\"T_263993ce_1040_11ec_b725_c6db85e749c4row7_col15\" class=\"data row7 col15\" >0</td>\n",
       "                        <td id=\"T_263993ce_1040_11ec_b725_c6db85e749c4row7_col16\" class=\"data row7 col16\" >0</td>\n",
       "                        <td id=\"T_263993ce_1040_11ec_b725_c6db85e749c4row7_col17\" class=\"data row7 col17\" >0</td>\n",
       "            </tr>\n",
       "            <tr>\n",
       "                        <th id=\"T_263993ce_1040_11ec_b725_c6db85e749c4level0_row8\" class=\"row_heading level0 row8\" >8</th>\n",
       "                        <td id=\"T_263993ce_1040_11ec_b725_c6db85e749c4row8_col0\" class=\"data row8 col0\" >0</td>\n",
       "                        <td id=\"T_263993ce_1040_11ec_b725_c6db85e749c4row8_col1\" class=\"data row8 col1\" >0</td>\n",
       "                        <td id=\"T_263993ce_1040_11ec_b725_c6db85e749c4row8_col2\" class=\"data row8 col2\" >0</td>\n",
       "                        <td id=\"T_263993ce_1040_11ec_b725_c6db85e749c4row8_col3\" class=\"data row8 col3\" >0</td>\n",
       "                        <td id=\"T_263993ce_1040_11ec_b725_c6db85e749c4row8_col4\" class=\"data row8 col4\" >0</td>\n",
       "                        <td id=\"T_263993ce_1040_11ec_b725_c6db85e749c4row8_col5\" class=\"data row8 col5\" >11</td>\n",
       "                        <td id=\"T_263993ce_1040_11ec_b725_c6db85e749c4row8_col6\" class=\"data row8 col6\" >166</td>\n",
       "                        <td id=\"T_263993ce_1040_11ec_b725_c6db85e749c4row8_col7\" class=\"data row8 col7\" >239</td>\n",
       "                        <td id=\"T_263993ce_1040_11ec_b725_c6db85e749c4row8_col8\" class=\"data row8 col8\" >253</td>\n",
       "                        <td id=\"T_263993ce_1040_11ec_b725_c6db85e749c4row8_col9\" class=\"data row8 col9\" >253</td>\n",
       "                        <td id=\"T_263993ce_1040_11ec_b725_c6db85e749c4row8_col10\" class=\"data row8 col10\" >253</td>\n",
       "                        <td id=\"T_263993ce_1040_11ec_b725_c6db85e749c4row8_col11\" class=\"data row8 col11\" >187</td>\n",
       "                        <td id=\"T_263993ce_1040_11ec_b725_c6db85e749c4row8_col12\" class=\"data row8 col12\" >30</td>\n",
       "                        <td id=\"T_263993ce_1040_11ec_b725_c6db85e749c4row8_col13\" class=\"data row8 col13\" >0</td>\n",
       "                        <td id=\"T_263993ce_1040_11ec_b725_c6db85e749c4row8_col14\" class=\"data row8 col14\" >0</td>\n",
       "                        <td id=\"T_263993ce_1040_11ec_b725_c6db85e749c4row8_col15\" class=\"data row8 col15\" >0</td>\n",
       "                        <td id=\"T_263993ce_1040_11ec_b725_c6db85e749c4row8_col16\" class=\"data row8 col16\" >0</td>\n",
       "                        <td id=\"T_263993ce_1040_11ec_b725_c6db85e749c4row8_col17\" class=\"data row8 col17\" >0</td>\n",
       "            </tr>\n",
       "            <tr>\n",
       "                        <th id=\"T_263993ce_1040_11ec_b725_c6db85e749c4level0_row9\" class=\"row_heading level0 row9\" >9</th>\n",
       "                        <td id=\"T_263993ce_1040_11ec_b725_c6db85e749c4row9_col0\" class=\"data row9 col0\" >0</td>\n",
       "                        <td id=\"T_263993ce_1040_11ec_b725_c6db85e749c4row9_col1\" class=\"data row9 col1\" >0</td>\n",
       "                        <td id=\"T_263993ce_1040_11ec_b725_c6db85e749c4row9_col2\" class=\"data row9 col2\" >0</td>\n",
       "                        <td id=\"T_263993ce_1040_11ec_b725_c6db85e749c4row9_col3\" class=\"data row9 col3\" >0</td>\n",
       "                        <td id=\"T_263993ce_1040_11ec_b725_c6db85e749c4row9_col4\" class=\"data row9 col4\" >0</td>\n",
       "                        <td id=\"T_263993ce_1040_11ec_b725_c6db85e749c4row9_col5\" class=\"data row9 col5\" >16</td>\n",
       "                        <td id=\"T_263993ce_1040_11ec_b725_c6db85e749c4row9_col6\" class=\"data row9 col6\" >248</td>\n",
       "                        <td id=\"T_263993ce_1040_11ec_b725_c6db85e749c4row9_col7\" class=\"data row9 col7\" >250</td>\n",
       "                        <td id=\"T_263993ce_1040_11ec_b725_c6db85e749c4row9_col8\" class=\"data row9 col8\" >253</td>\n",
       "                        <td id=\"T_263993ce_1040_11ec_b725_c6db85e749c4row9_col9\" class=\"data row9 col9\" >253</td>\n",
       "                        <td id=\"T_263993ce_1040_11ec_b725_c6db85e749c4row9_col10\" class=\"data row9 col10\" >253</td>\n",
       "                        <td id=\"T_263993ce_1040_11ec_b725_c6db85e749c4row9_col11\" class=\"data row9 col11\" >253</td>\n",
       "                        <td id=\"T_263993ce_1040_11ec_b725_c6db85e749c4row9_col12\" class=\"data row9 col12\" >232</td>\n",
       "                        <td id=\"T_263993ce_1040_11ec_b725_c6db85e749c4row9_col13\" class=\"data row9 col13\" >213</td>\n",
       "                        <td id=\"T_263993ce_1040_11ec_b725_c6db85e749c4row9_col14\" class=\"data row9 col14\" >111</td>\n",
       "                        <td id=\"T_263993ce_1040_11ec_b725_c6db85e749c4row9_col15\" class=\"data row9 col15\" >2</td>\n",
       "                        <td id=\"T_263993ce_1040_11ec_b725_c6db85e749c4row9_col16\" class=\"data row9 col16\" >0</td>\n",
       "                        <td id=\"T_263993ce_1040_11ec_b725_c6db85e749c4row9_col17\" class=\"data row9 col17\" >0</td>\n",
       "            </tr>\n",
       "            <tr>\n",
       "                        <th id=\"T_263993ce_1040_11ec_b725_c6db85e749c4level0_row10\" class=\"row_heading level0 row10\" >10</th>\n",
       "                        <td id=\"T_263993ce_1040_11ec_b725_c6db85e749c4row10_col0\" class=\"data row10 col0\" >0</td>\n",
       "                        <td id=\"T_263993ce_1040_11ec_b725_c6db85e749c4row10_col1\" class=\"data row10 col1\" >0</td>\n",
       "                        <td id=\"T_263993ce_1040_11ec_b725_c6db85e749c4row10_col2\" class=\"data row10 col2\" >0</td>\n",
       "                        <td id=\"T_263993ce_1040_11ec_b725_c6db85e749c4row10_col3\" class=\"data row10 col3\" >0</td>\n",
       "                        <td id=\"T_263993ce_1040_11ec_b725_c6db85e749c4row10_col4\" class=\"data row10 col4\" >0</td>\n",
       "                        <td id=\"T_263993ce_1040_11ec_b725_c6db85e749c4row10_col5\" class=\"data row10 col5\" >0</td>\n",
       "                        <td id=\"T_263993ce_1040_11ec_b725_c6db85e749c4row10_col6\" class=\"data row10 col6\" >0</td>\n",
       "                        <td id=\"T_263993ce_1040_11ec_b725_c6db85e749c4row10_col7\" class=\"data row10 col7\" >43</td>\n",
       "                        <td id=\"T_263993ce_1040_11ec_b725_c6db85e749c4row10_col8\" class=\"data row10 col8\" >98</td>\n",
       "                        <td id=\"T_263993ce_1040_11ec_b725_c6db85e749c4row10_col9\" class=\"data row10 col9\" >98</td>\n",
       "                        <td id=\"T_263993ce_1040_11ec_b725_c6db85e749c4row10_col10\" class=\"data row10 col10\" >208</td>\n",
       "                        <td id=\"T_263993ce_1040_11ec_b725_c6db85e749c4row10_col11\" class=\"data row10 col11\" >253</td>\n",
       "                        <td id=\"T_263993ce_1040_11ec_b725_c6db85e749c4row10_col12\" class=\"data row10 col12\" >253</td>\n",
       "                        <td id=\"T_263993ce_1040_11ec_b725_c6db85e749c4row10_col13\" class=\"data row10 col13\" >253</td>\n",
       "                        <td id=\"T_263993ce_1040_11ec_b725_c6db85e749c4row10_col14\" class=\"data row10 col14\" >253</td>\n",
       "                        <td id=\"T_263993ce_1040_11ec_b725_c6db85e749c4row10_col15\" class=\"data row10 col15\" >187</td>\n",
       "                        <td id=\"T_263993ce_1040_11ec_b725_c6db85e749c4row10_col16\" class=\"data row10 col16\" >22</td>\n",
       "                        <td id=\"T_263993ce_1040_11ec_b725_c6db85e749c4row10_col17\" class=\"data row10 col17\" >0</td>\n",
       "            </tr>\n",
       "    </tbody></table>"
      ],
      "text/plain": [
       "<pandas.io.formats.style.Styler at 0x7f7ed9afceb0>"
      ]
     },
     "execution_count": 12,
     "metadata": {},
     "output_type": "execute_result"
    }
   ],
   "source": [
    "#hide_output\n",
    "im3_t = tensor(im3)\n",
    "df = pd.DataFrame(im3_t[4:15,4:22])\n",
    "#df.style.set_properties(**{'font-size':'6pt'}).background_gradient('Greys')\n",
    "df.style.set_properties(**{'font-size':'6pt'}).background_gradient('Blues')"
   ]
  },
  {
   "cell_type": "markdown",
   "metadata": {},
   "source": [
    "<img width=\"453\" id=\"output_pd_pixels\" src=\"images/att_00058.png\">"
   ]
  },
  {
   "cell_type": "markdown",
   "metadata": {},
   "source": [
    "You can see that the background white pixels are stored as the number 0, black is the number 255, and shades of gray are between the two. The entire image contains 28 pixels across and 28 pixels down, for a total of 784 pixels. (This is much smaller than an image that you would get from a phone camera, which has millions of pixels, but is a convenient size for our initial learning and experiments. We will build up to bigger, full-color images soon.)\n",
    "\n",
    "So, now you've seen what an image looks like to a computer, let's recall our goal: create a model that can recognize 3s and 7s. How might you go about getting a computer to do that?\n",
    "\n",
    "> Warning: Stop and Think!: Before you read on, take a moment to think about how a computer might be able to recognize these two different digits. What kinds of features might it be able to look at? How might it be able to identify these features? How could it combine them together? Learning works best when you try to solve problems yourself, rather than just reading somebody else's answers; so step away from this book for a few minutes, grab a piece of paper and pen, and jot some ideas down…"
   ]
  },
  {
   "cell_type": "markdown",
   "metadata": {},
   "source": [
    "### my ideas\n",
    " - count how many pixels are non-zero for each row (or say a band of 3 rows). 7 me top line chhodkar jyada nahi honge, 3 me compariticly jyada honge\n",
    " - mean of all pixels of 3, 7?\n",
    " - "
   ]
  },
  {
   "cell_type": "markdown",
   "metadata": {},
   "source": [
    "## First Try: Pixel Similarity"
   ]
  },
  {
   "cell_type": "markdown",
   "metadata": {},
   "source": [
    "So, here is a first idea: how about we find the average pixel value for every pixel of the 3s, then do the same for the 7s. This will give us two group averages, defining what we might call the \"ideal\" 3 and 7. Then, to classify an image as one digit or the other, we see which of these two ideal digits the image is most similar to. This certainly seems like it should be better than nothing, so it will make a good baseline."
   ]
  },
  {
   "cell_type": "markdown",
   "metadata": {},
   "source": [
    "> **jargon: Baseline: A simple model which you are confident should perform reasonably well. It should be very simple to implement, and very easy to test, so that you can then test each of your improved ideas, and make sure they are always better than your baseline. Without starting with a sensible baseline, it is very difficult to know whether your super-fancy models are actually any good.** One good approach to creating a baseline is doing what we have done here: think of a simple, easy-to-implement model. Another good approach is to search around to find other people that have solved similar problems to yours, and download and run their code on your dataset. Ideally, try both of these!"
   ]
  },
  {
   "cell_type": "markdown",
   "metadata": {},
   "source": [
    "Step one for our simple model is to get the average of pixel values for each of our two groups. In the process of doing this, we will learn a lot of neat Python numeric programming tricks!\n",
    "\n",
    "Let's create a **tensor containing all of our 3s stacked together.** We already know how to create a tensor containing a single image. To create a tensor containing all the images in a directory, we will **first use a Python list comprehension to create a plain list of the single image tensors.**\n",
    "\n",
    "We will use Jupyter to do some little checks of our work along the way—in this case, making sure that the number of returned items seems reasonable:"
   ]
  },
  {
   "cell_type": "code",
   "execution_count": 13,
   "metadata": {},
   "outputs": [],
   "source": [
    "# remember upar aisa kiya tha\n",
    "# threes = (path/'train'/'3').ls().sorted()\n",
    "# sevens = (path/'train'/'7').ls().sorted()\n",
    "# so threes looks like\n",
    "# (#6131) [Path('MNIST_Basics_Data/mnist_sample/train/3/10.png'),\n",
    "# Path('MNIST_Basics_Data/mnist_sample/train/3/10000.png'),\n",
    "# Path('MNIST_Basics_Data/mnist_sample/train/3/10011.png')... aise"
   ]
  },
  {
   "cell_type": "code",
   "execution_count": 14,
   "metadata": {},
   "outputs": [
    {
     "data": {
      "text/plain": [
       "(list,\n",
       " 6131,\n",
       " 6265,\n",
       " tensor([[  0,   0,   0,   0,   0],\n",
       "         [  0,   0,   0,   0,   0],\n",
       "         [ 66,   0,   0,   0,   0],\n",
       "         [ 34,   0,   0,   0,   0],\n",
       "         [  0,   0,   0,   0,  93],\n",
       "         [  0,   0,   0,   0, 234],\n",
       "         [  0,   0,   0,   0,  62]], dtype=torch.uint8),\n",
       " <AxesSubplot:>)"
      ]
     },
     "execution_count": 14,
     "metadata": {},
     "output_type": "execute_result"
    },
    {
     "data": {
      "image/png": "[encoded data removed]",
      "text/plain": [
       "<Figure size 72x72 with 1 Axes>"
      ]
     },
     "metadata": {
      "needs_background": "light"
     },
     "output_type": "display_data"
    }
   ],
   "source": [
    "seven_tensors = [tensor(Image.open(o)) for o in sevens]\n",
    "three_tensors = [tensor(Image.open(o)) for o in threes]\n",
    "type(seven_tensors), len(three_tensors),len(seven_tensors), seven_tensors[28][8:15,5:10],show_image(seven_tensors[28])"
   ]
  },
  {
   "cell_type": "markdown",
   "metadata": {},
   "source": [
    "> note: List Comprehensions: List and dictionary comprehensions are a wonderful feature of Python. Many Python programmers use them every day, including the authors of this book—they are part of \"idiomatic Python.\" But programmers coming from other languages may have never seen them before. There are a lot of great tutorials just a web search away, so we won't spend a long time discussing them now. Here is a quick explanation and example to get you started. A list comprehension looks like this: `new_list = [f(o) for o in a_list if o>0]`. This will return every element of `a_list` that is greater than 0, after passing it to the function `f`. There are three parts here: the collection you are iterating over (`a_list`), an optional filter (`if o>0`), and something to do to each element (`f(o)`). It's not only shorter to write but way faster than the alternative ways of creating the same list with a loop."
   ]
  },
  {
   "cell_type": "markdown",
   "metadata": {},
   "source": [
    "We'll also check that one of the images looks okay. Since we now have tensors (which Jupyter by default will print as values), rather than PIL images (which Jupyter by default will display as images), we need to use fastai's `show_image` function to display it:"
   ]
  },
  {
   "cell_type": "code",
   "execution_count": 15,
   "metadata": {},
   "outputs": [
    {
     "data": {
      "image/png": "[encoded data removed]",
      "text/plain": [
       "<Figure size 72x72 with 1 Axes>"
      ]
     },
     "metadata": {
      "needs_background": "light"
     },
     "output_type": "display_data"
    }
   ],
   "source": [
    "show_image(three_tensors[1]);"
   ]
  },
  {
   "cell_type": "markdown",
   "metadata": {},
   "source": [
    "**For every pixel position, we want to compute the average over all the images of the intensity of that pixel. To do this we first combine all the images in this list into a single three-dimensional tensor.** The most common way to describe such a tensor is to call it a *rank-3 tensor*. We often need to stack up individual tensors in a collection into a single tensor. Unsurprisingly, PyTorch comes with a function called `stack` that we can use for this purpose.\n",
    "\n",
    "Some operations in PyTorch, such as taking a mean, require us to *cast* our integer types to float types. Since we'll be needing this later, we'll also cast our stacked tensor to `float` now. Casting in PyTorch is as simple as typing the name of the type you wish to cast to, and treating it as a method.\n",
    "\n",
    "Generally when images are floats, the pixel values are expected to be between 0 and 1, so we will also divide by 255 here:"
   ]
  },
  {
   "cell_type": "markdown",
   "metadata": {},
   "source": [
    "### observe how the first axis is x-axis"
   ]
  },
  {
   "cell_type": "code",
   "execution_count": 16,
   "metadata": {},
   "outputs": [
    {
     "data": {
      "text/plain": [
       "(torch.Tensor, torch.Size([6131, 28, 28]))"
      ]
     },
     "execution_count": 16,
     "metadata": {},
     "output_type": "execute_result"
    }
   ],
   "source": [
    "stacked_sevens = torch.stack(seven_tensors).float()/255\n",
    "stacked_threes = torch.stack(three_tensors).float()/255\n",
    "type(stacked_threes), stacked_threes.shape"
   ]
  },
  {
   "cell_type": "markdown",
   "metadata": {},
   "source": [
    "Perhaps the most important attribute of a tensor is its *shape*. This tells you the length of each axis. In this case, we can see that we have 6,131 images, each of size 28×28 pixels. There is nothing specifically about this tensor that says that the first axis is the number of images, the second is the height, and the third is the width—the semantics of a tensor are entirely up to us, and how we construct it. As far as PyTorch is concerned, it is just a bunch of numbers in memory.\n",
    "\n",
    "**The *length* of a tensor's shape is its rank:**"
   ]
  },
  {
   "cell_type": "code",
   "execution_count": 17,
   "metadata": {},
   "outputs": [
    {
     "data": {
      "text/plain": [
       "3"
      ]
     },
     "execution_count": 17,
     "metadata": {},
     "output_type": "execute_result"
    }
   ],
   "source": [
    "len(stacked_threes.shape)"
   ]
  },
  {
   "cell_type": "markdown",
   "metadata": {},
   "source": [
    "**It is really important for you to commit to memory and practice these bits of tensor jargon: _rank_ is the number of axes or dimensions in a tensor; _shape_ is the size of each axis of a tensor.**\n",
    "\n",
    "> A: Watch out because the term \"dimension\" is sometimes used in two ways. Consider that we live in \"three-dimensonal space\" where a physical position can be described by a 3-vector `v`. But according to PyTorch, the attribute `v.ndim` (which sure looks like the \"number of dimensions\" of `v`) equals one, not three! Why? Because `v` is a vector, which is a tensor of rank one, meaning that it has only one _axis_ (even if that axis has a length of three). In other words, sometimes dimension is used for the size of an axis (\"space is three-dimensional\"); other times, it is used for the rank, or the number of axes (\"a matrix has two dimensions\"). When confused, I find it helpful to translate all statements into terms of rank, axis, and length, which are unambiguous terms."
   ]
  },
  {
   "cell_type": "markdown",
   "metadata": {},
   "source": [
    "**We can also get a tensor's rank directly with `ndim`:**"
   ]
  },
  {
   "cell_type": "code",
   "execution_count": 18,
   "metadata": {},
   "outputs": [
    {
     "data": {
      "text/plain": [
       "3"
      ]
     },
     "execution_count": 18,
     "metadata": {},
     "output_type": "execute_result"
    }
   ],
   "source": [
    "stacked_threes.ndim"
   ]
  },
  {
   "cell_type": "markdown",
   "metadata": {},
   "source": [
    "Finally, we can compute what the ideal 3 looks like. We calculate the **mean of all the image tensors by taking the mean along dimension 0 of our stacked, rank-3 tensor. This is the dimension that indexes over all the images.**\n",
    "\n",
    "In other words, **for every pixel position, this will compute the average of that pixel over all images. The result will be one value for every pixel position, or a single image.** Here it is:"
   ]
  },
  {
   "cell_type": "markdown",
   "metadata": {},
   "source": [
    "### matlab zeroth dimension me z-axis hai!"
   ]
  },
  {
   "cell_type": "code",
   "execution_count": 19,
   "metadata": {},
   "outputs": [
    {
     "data": {
      "text/plain": [
       "(<AxesSubplot:>, <AxesSubplot:>)"
      ]
     },
     "execution_count": 19,
     "metadata": {},
     "output_type": "execute_result"
    },
    {
     "data": {
      "image/png": "[encoded data removed]",
      "text/plain": [
       "<Figure size 360x72 with 1 Axes>"
      ]
     },
     "metadata": {
      "needs_background": "light"
     },
     "output_type": "display_data"
    },
    {
     "data": {
      "image/png": "[encoded data removed]",
      "text/plain": [
       "<Figure size 360x72 with 1 Axes>"
      ]
     },
     "metadata": {
      "needs_background": "light"
     },
     "output_type": "display_data"
    }
   ],
   "source": [
    "my_mean3_2 = stacked_threes.mean(2)\n",
    "my_mean3_1 = stacked_threes.mean(1) \n",
    "show_image(my_mean3_1), show_image(my_mean3_2)\n",
    "# should see this image from a different view, abhi sab top view hai to kuch fayda nahi"
   ]
  },
  {
   "cell_type": "code",
   "execution_count": 20,
   "metadata": {},
   "outputs": [
    {
     "data": {
      "text/plain": [
       "torch.Tensor"
      ]
     },
     "execution_count": 20,
     "metadata": {},
     "output_type": "execute_result"
    },
    {
     "data": {
      "image/png": "[encoded data removed]",
      "text/plain": [
       "<Figure size 72x72 with 1 Axes>"
      ]
     },
     "metadata": {
      "needs_background": "light"
     },
     "output_type": "display_data"
    },
    {
     "data": {
      "image/png": "[encoded data removed]",
      "text/plain": [
       "<Figure size 72x72 with 1 Axes>"
      ]
     },
     "metadata": {
      "needs_background": "light"
     },
     "output_type": "display_data"
    }
   ],
   "source": [
    "mean3 = stacked_threes.mean(0)\n",
    "mean7 = stacked_sevens.mean(0)\n",
    "show_image(mean3), show_image(mean7);\n",
    "type(mean3)"
   ]
  },
  {
   "cell_type": "markdown",
   "metadata": {},
   "source": [
    "#### sundar to hai!"
   ]
  },
  {
   "cell_type": "markdown",
   "metadata": {},
   "source": [
    "According to this dataset, this is the ideal number 3! (You may not like it, but this is what peak number 3 performance looks like.) You can see how it's very dark where all the images agree it should be dark, but it becomes wispy and blurry where the images disagree. \n",
    "\n",
    "Let's do the same thing for the 7s, but put all the steps together at once to save some time:"
   ]
  },
  {
   "cell_type": "code",
   "execution_count": 21,
   "metadata": {},
   "outputs": [
    {
     "data": {
      "image/png": "[encoded data removed]",
      "text/plain": [
       "<Figure size 72x72 with 1 Axes>"
      ]
     },
     "metadata": {
      "needs_background": "light"
     },
     "output_type": "display_data"
    }
   ],
   "source": [
    "mean7 = stacked_sevens.mean(0)\n",
    "show_image(mean7);"
   ]
  },
  {
   "cell_type": "markdown",
   "metadata": {},
   "source": [
    "Let's now pick an arbitrary 3 and measure its *distance* from our \"ideal digits.\"\n",
    "\n",
    "> stop: Stop and Think!: How would you calculate how similar a particular image is to each of our ideal digits? Remember to step away from this book and jot down some ideas before you move on! Research shows that recall and understanding improves dramatically when you are engaged with the learning process by solving problems, experimenting, and trying new ideas yourself\n",
    "\n",
    "Here's a sample 3:"
   ]
  },
  {
   "cell_type": "markdown",
   "metadata": {},
   "source": [
    "#### my ideas would be\n",
    "- calculate difference between given and ideal digit, pixel by pixel\n",
    "- I see that the method we have used so far will not work when there is a number written nicely but say only at the top right part of the page.\n",
    "- "
   ]
  },
  {
   "cell_type": "code",
   "execution_count": 22,
   "metadata": {},
   "outputs": [
    {
     "data": {
      "text/plain": [
       "torch.Tensor"
      ]
     },
     "execution_count": 22,
     "metadata": {},
     "output_type": "execute_result"
    },
    {
     "data": {
      "image/png": "[encoded data removed]",
      "text/plain": [
       "<Figure size 72x72 with 1 Axes>"
      ]
     },
     "metadata": {
      "needs_background": "light"
     },
     "output_type": "display_data"
    },
    {
     "data": {
      "image/png": "[encoded data removed]",
      "text/plain": [
       "<Figure size 72x72 with 1 Axes>"
      ]
     },
     "metadata": {
      "needs_background": "light"
     },
     "output_type": "display_data"
    },
    {
     "data": {
      "image/png": "[encoded data removed]",
      "text/plain": [
       "<Figure size 72x72 with 1 Axes>"
      ]
     },
     "metadata": {
      "needs_background": "light"
     },
     "output_type": "display_data"
    },
    {
     "data": {
      "image/png": "[encoded data removed]",
      "text/plain": [
       "<Figure size 72x72 with 1 Axes>"
      ]
     },
     "metadata": {
      "needs_background": "light"
     },
     "output_type": "display_data"
    }
   ],
   "source": [
    "a_3 = stacked_threes[10]\n",
    "show_image(a_3);\n",
    "\n",
    "a_3 = stacked_threes[20]\n",
    "show_image(a_3);\n",
    "\n",
    "a_3 = stacked_threes[90]\n",
    "show_image(a_3);\n",
    "\n",
    "a_3 = stacked_threes[1]\n",
    "show_image(a_3);\n",
    "type(a_3)"
   ]
  },
  {
   "cell_type": "markdown",
   "metadata": {},
   "source": [
    "How can we determine its distance from our ideal 3? We can't just add up the differences between the pixels of this image and the ideal digit. Some differences will be positive while others will be negative, and these differences will cancel out, resulting in a situation where an image that is too dark in some places and too light in others might be shown as having zero total differences from the ideal. That would be misleading!\n",
    "\n",
    "To avoid this, there are two main ways data scientists measure distance in this context:\n",
    "\n",
    "- Take the **mean of the *absolute value* of differences (absolute value is the function that replaces negative values with positive values). This is called the *mean absolute difference* or *L1 norm**\n",
    "- Take the **mean of the *square* of differences (which makes everything positive) and then take the *square root* (which undoes the squaring).** This is called the *root mean squared error* (RMSE) or *L2 norm*.\n",
    "\n",
    "> important: It's Okay to Have Forgotten Your Math: In this book we generally assume that you have completed high school math, and remember at least some of it... But everybody forgets some things! It all depends on what you happen to have had reason to practice in the meantime. Perhaps you have forgotten what a _square root_ is, or exactly how they work. No problem! Any time you come across a maths concept that is not explained fully in this book, don't just keep moving on; instead, stop and look it up. Make sure you understand the basic idea, how it works, and why we might be using it. One of the best places to refresh your understanding is Khan Academy. For instance, Khan Academy has a great [introduction to square roots](https://www.khanacademy.org/math/algebra/x2f8bb11595b61c86:rational-exponents-radicals/x2f8bb11595b61c86:radicals/v/understanding-square-roots)."
   ]
  },
  {
   "cell_type": "markdown",
   "metadata": {},
   "source": [
    "Let's try both of these now:"
   ]
  },
  {
   "cell_type": "markdown",
   "metadata": {},
   "source": [
    "#### bhai direct hi image (tensor) daal diya to wo values le liya"
   ]
  },
  {
   "cell_type": "code",
   "execution_count": 23,
   "metadata": {},
   "outputs": [
    {
     "data": {
      "text/plain": [
       "(tensor(0.1114), tensor(0.2021))"
      ]
     },
     "execution_count": 23,
     "metadata": {},
     "output_type": "execute_result"
    }
   ],
   "source": [
    "#%%timeit\n",
    "dist_3_abs = (a_3 - mean3).abs().mean()\n",
    "dist_3_sqr = ((a_3 - mean3)**2).mean().sqrt()\n",
    "# print(dist_3_abs) #YE INDICIDUALLY BAHOT BADA TENSOR LIST DETA HAI!!!!!\n",
    "# print(dist_3_sqr) #SAME HERE!!!!!\n",
    "# a_3, mean3\n",
    "dist_3_abs, dist_3_sqr"
   ]
  },
  {
   "cell_type": "code",
   "execution_count": 24,
   "metadata": {},
   "outputs": [
    {
     "data": {
      "text/plain": [
       "(tensor(0.1586), tensor(0.3021))"
      ]
     },
     "execution_count": 24,
     "metadata": {},
     "output_type": "execute_result"
    }
   ],
   "source": [
    "dist_7_abs = (a_3 - mean7).abs().mean()\n",
    "dist_7_sqr = ((a_3 - mean7)**2).mean().sqrt()\n",
    "dist_7_abs,dist_7_sqr"
   ]
  },
  {
   "cell_type": "markdown",
   "metadata": {},
   "source": [
    "##### In both cases, the distance between our 3 and the \"ideal\" 3 is less than the distance to the ideal 7. So our simple model will give the right prediction in this case. YO "
   ]
  },
  {
   "cell_type": "markdown",
   "metadata": {},
   "source": [
    "**PyTorch already provides both of these as *loss functions*. You'll find these inside `torch.nn.functional`, which the PyTorch team recommends importing as `F` (and is available by default under that name in fastai):**\n",
    "Remember ki mse loss me sqrt nahi karke aata hai, to hame karna padta hai"
   ]
  },
  {
   "cell_type": "markdown",
   "metadata": {},
   "source": [
    "# loss functions under F"
   ]
  },
  {
   "cell_type": "code",
   "execution_count": 25,
   "metadata": {
    "scrolled": true
   },
   "outputs": [
    {
     "name": "stdout",
     "output_type": "stream",
     "text": [
      "tensor(0.1586) tensor(0.3021)\n"
     ]
    }
   ],
   "source": [
    "# print(F.l1_loss(a_3.float(),mean7), F.mse_loss(a_3,mean7).sqrt())\n",
    "print(  F.l1_loss(a_3,mean7),         F.mse_loss(a_3,mean7).sqrt())\n",
    "# print(F.l1_loss(a_3.float(),mean7), F.mse_loss(a_3.float(),mean7).sqrt() )"
   ]
  },
  {
   "cell_type": "markdown",
   "metadata": {},
   "source": [
    "#### float me change karke kuch fark nahi pada!"
   ]
  },
  {
   "cell_type": "markdown",
   "metadata": {},
   "source": [
    "Here `mse` stands for *mean squared error*, and `l1` refers to the standard mathematical jargon for *mean absolute value* (in math it's called the *L1 norm*)."
   ]
  },
  {
   "cell_type": "markdown",
   "metadata": {},
   "source": [
    "> S: **Intuitively, the difference between L1 norm and mean squared error (MSE) is that the latter will penalize bigger mistakes more heavily than the former (and be more lenient with small mistakes).**"
   ]
  },
  {
   "cell_type": "markdown",
   "metadata": {},
   "source": [
    "> J: When I first came across this \"L1\" thingie, I looked it up to see what on earth it meant. I found on Google that it is a _vector norm_ using _absolute value_, so looked up _vector norm_ and started reading: _Given a vector space V over a field F of the real or complex numbers, a norm on V is a nonnegative-valued any function p: V → \\[0,+∞) with the following properties: For all a ∈ F and all u, v ∈ V, p(u + v) ≤ p(u) + p(v)..._ Then I stopped reading. \"Ugh, I'll never understand math!\" I thought, for the thousandth time. Since then I've learned that every time these complex mathy bits of jargon come up in practice, it turns out I can replace them with a tiny bit of code! Like, the _L1 loss_ is just equal to `(a-b).abs().mean()`, where `a` and `b` are tensors. I guess mathy folks just think differently than me... I'll make sure in this book that every time some mathy jargon comes up, I'll give you the little bit of code it's equal to as well, and explain in common-sense terms what's going on."
   ]
  },
  {
   "cell_type": "markdown",
   "metadata": {},
   "source": [
    "We just completed various mathematical operations on PyTorch tensors. If you've done some numeric programming in NumPy before, you may recognize these as being similar to NumPy arrays. Let's have a look at those two very important data structures."
   ]
  },
  {
   "cell_type": "markdown",
   "metadata": {},
   "source": [
    "### NumPy Arrays and PyTorch Tensors"
   ]
  },
  {
   "cell_type": "markdown",
   "metadata": {},
   "source": [
    "[NumPy](https://numpy.org/) is the most widely used library for scientific and numeric programming in Python. It provides very similar functionality and a very similar API to that provided by PyTorch; however, it does not support using the GPU or calculating gradients, which are both critical for deep learning. Therefore, in this book we will generally use PyTorch tensors instead of NumPy arrays, where possible.\n",
    "\n",
    "(Note that fastai adds some features to NumPy and PyTorch to make them a bit more similar to each other. If any code in this book doesn't work on your computer, it's possible that you forgot to include a line like this at the start of your notebook: `from fastai.vision.all import *`.)\n",
    "\n",
    "But what are arrays and tensors, and why should you care?"
   ]
  },
  {
   "cell_type": "markdown",
   "metadata": {},
   "source": [
    "**Python is slow compared to many languages. Anything fast in Python, NumPy, or PyTorch is likely to be a wrapper for a compiled object written (and optimized) in another language—specifically C.** In fact, **NumPy arrays and PyTorch tensors can finish computations many thousands of times faster than using pure Python.**\n",
    "\n",
    "A NumPy array is a multidimensional table of data, with all items of the same type. Since that can be any type at all, they can even be arrays of arrays, with the innermost arrays potentially being different sizes—this is called a \"jagged array.\" By \"multidimensional table\" we mean, for instance, a list (dimension of one), a table or matrix (dimension of two), a \"table of tables\" or \"cube\" (dimension of three), and so forth. **If the items are all of some simple type such as integer or float, then NumPy will store them as a compact C data structure in memory. This is where NumPy shines. NumPy has a wide variety of operators and methods that can run computations on these compact structures at the same speed as optimized C, because they are written in optimized C.**\n",
    "\n",
    "A PyTorch tensor is nearly the same thing as a NumPy array, but with an additional restriction that unlocks some additional capabilities. It's the same in that it, too, is a multidimensional table of data, with all items of the same type. However, the restriction is that a tensor cannot use just any old type—it has to use a single basic numeric type for all components. For example, **a PyTorch tensor cannot be jagged. It is always a regularly shaped multidimensional rectangular structure.**\n",
    "\n",
    "The vast majority of methods and operators supported by NumPy on these structures are also supported by PyTorch, but **PyTorch tensors** have additional capabilities. One major capability is that these structures can **live on the GPU**in which case their computation will be optimized for the GPU and can run much faster (given lots of values to work on). In addition, **Torch can automatically calculate derivatives of these operations, including combinations of operations. As you'll see, it would be impossible to do deep learning in practice without this capability.**\n",
    "\n",
    "> S: If you don't know what C is, don't worry as you won't need it at all. In a nutshell, it's a low-level  (low-level means more similar to the language that computers use internally) language that is very fast compared to Python. **To take advantage of its speed while programming in Python, try to avoid as much as possible writing loops, and replace them by commands that work directly on arrays or tensors.**\n",
    "\n",
    "Perhaps the most important new coding skill for a Python programmer to learn is how to effectively use the array/tensor APIs. We will be showing lots more tricks later in this book, but here's a summary of the key things you need to know for now."
   ]
  },
  {
   "cell_type": "markdown",
   "metadata": {},
   "source": [
    "**To create an array or tensor, pass a list (or list of lists, or list of lists of lists, etc.) to `array()` or `tensor()`:**"
   ]
  },
  {
   "cell_type": "markdown",
   "metadata": {},
   "source": [
    "### this is nice and simple"
   ]
  },
  {
   "cell_type": "code",
   "execution_count": 26,
   "metadata": {},
   "outputs": [],
   "source": [
    "data = [[1,2,3],[4,5,6]]\n",
    "arr = array(data)\n",
    "tns = tensor(data)"
   ]
  },
  {
   "cell_type": "code",
   "execution_count": 27,
   "metadata": {},
   "outputs": [
    {
     "data": {
      "text/plain": [
       "(array([[1, 2, 3],\n",
       "        [4, 5, 6]]),\n",
       " numpy.ndarray,\n",
       " (2, 3))"
      ]
     },
     "execution_count": 27,
     "metadata": {},
     "output_type": "execute_result"
    }
   ],
   "source": [
    "arr, type(arr), arr.shape  # numpy"
   ]
  },
  {
   "cell_type": "code",
   "execution_count": 28,
   "metadata": {},
   "outputs": [
    {
     "data": {
      "text/plain": [
       "(tensor([[1, 2, 3],\n",
       "         [4, 5, 6]]),\n",
       " torch.Tensor,\n",
       " torch.Size([2, 3]))"
      ]
     },
     "execution_count": 28,
     "metadata": {},
     "output_type": "execute_result"
    }
   ],
   "source": [
    "tns, type(tns), tns.shape # pytorch"
   ]
  },
  {
   "cell_type": "markdown",
   "metadata": {},
   "source": [
    "**All the operations that follow are shown on tensors, but the syntax and results for NumPy arrays is identical.**\n",
    "\n",
    "You can select a row (note that, like lists in Python, tensors are 0-indexed so 1 refers to the second row/column):"
   ]
  },
  {
   "cell_type": "code",
   "execution_count": 29,
   "metadata": {},
   "outputs": [
    {
     "data": {
      "text/plain": [
       "(tensor([4, 5, 6]), torch.Size([3]), 1)"
      ]
     },
     "execution_count": 29,
     "metadata": {},
     "output_type": "execute_result"
    }
   ],
   "source": [
    "tns[1], tns[1].shape, tns[1].ndim"
   ]
  },
  {
   "cell_type": "markdown",
   "metadata": {},
   "source": [
    "or a column, by using `:` to indicate *all of the first axis* (we sometimes refer to the dimensions of tensors/arrays as *axes*):"
   ]
  },
  {
   "cell_type": "code",
   "execution_count": 30,
   "metadata": {},
   "outputs": [
    {
     "data": {
      "text/plain": [
       "(tensor([2, 5]), torch.Size([2]), 1)"
      ]
     },
     "execution_count": 30,
     "metadata": {},
     "output_type": "execute_result"
    }
   ],
   "source": [
    "tns[:,1], tns[:,1].shape, tns[:,1].ndim"
   ]
  },
  {
   "cell_type": "markdown",
   "metadata": {},
   "source": [
    "You can combine these with Python slice syntax (`[start:end]` with `end` being excluded) to select part of a row or column:"
   ]
  },
  {
   "cell_type": "code",
   "execution_count": 31,
   "metadata": {},
   "outputs": [
    {
     "data": {
      "text/plain": [
       "tensor([5, 6])"
      ]
     },
     "execution_count": 31,
     "metadata": {},
     "output_type": "execute_result"
    }
   ],
   "source": [
    "tns[1,1:3]"
   ]
  },
  {
   "cell_type": "markdown",
   "metadata": {},
   "source": [
    "And you can use the standard operators such as `+`, `-`, `*`, `/`:"
   ]
  },
  {
   "cell_type": "code",
   "execution_count": 32,
   "metadata": {},
   "outputs": [
    {
     "data": {
      "text/plain": [
       "(tensor([[1, 2, 3],\n",
       "         [4, 5, 6]]),\n",
       " tensor([[2, 3, 4],\n",
       "         [5, 6, 7]]))"
      ]
     },
     "execution_count": 32,
     "metadata": {},
     "output_type": "execute_result"
    }
   ],
   "source": [
    "tns, tns+1"
   ]
  },
  {
   "cell_type": "markdown",
   "metadata": {},
   "source": [
    "#### Tensors have a type :/"
   ]
  },
  {
   "cell_type": "code",
   "execution_count": 33,
   "metadata": {},
   "outputs": [
    {
     "data": {
      "text/plain": [
       "('torch.LongTensor', torch.Tensor)"
      ]
     },
     "execution_count": 33,
     "metadata": {},
     "output_type": "execute_result"
    }
   ],
   "source": [
    "tns.type(), type(tns)"
   ]
  },
  {
   "cell_type": "markdown",
   "metadata": {},
   "source": [
    "And will automatically change type as needed, for example from `int` to `float`:"
   ]
  },
  {
   "cell_type": "code",
   "execution_count": 34,
   "metadata": {},
   "outputs": [
    {
     "data": {
      "text/plain": [
       "(tensor([[1.5000, 3.0000, 4.5000],\n",
       "         [6.0000, 7.5000, 9.0000]]),\n",
       " 'torch.LongTensor')"
      ]
     },
     "execution_count": 34,
     "metadata": {},
     "output_type": "execute_result"
    }
   ],
   "source": [
    "tns*1.5, tns.type()"
   ]
  },
  {
   "cell_type": "markdown",
   "metadata": {},
   "source": [
    "So, is our baseline model any good? To quantify this, we must define a metric."
   ]
  },
  {
   "cell_type": "markdown",
   "metadata": {},
   "source": [
    "## Computing Metrics Using Broadcasting"
   ]
  },
  {
   "cell_type": "markdown",
   "metadata": {},
   "source": [
    "Recall that a metric is a number that is calculated based on the predictions of our model, and the correct labels in our dataset, in order to tell us how good our model is. For instance, we could use either of the functions we saw in the previous section, mean squared error, or mean absolute error, and take the average of them over the whole dataset. However, neither of these are numbers that are very understandable to most people; **in practice, we normally use *accuracy* as the metric for classification models.**\n",
    "\n",
    "As we've discussed, we want to calculate our metric over a *validation set*. This is so that we don't inadvertently overfit—that is, train a model to work well only on our training data. This is not really a risk with the pixel similarity model we're using here as a first try, since it has no trained components, but we'll use a validation set anyway to follow normal practices and to be ready for our second try later.\n",
    "\n",
    "To get a validation set we need to remove some of the data from training entirely, so it is not seen by the model at all. As it turns out, the creators of the MNIST dataset have already done this for us. Do you remember how there was a whole separate directory called *valid*? That's what this directory is for!\n",
    "\n",
    "So **to start with, let's create tensors for our 3s and 7s from that *matlab valid* directory. These are the tensors we will use to calculate a metric measuring the quality of our first-try model, which measures distance from an ideal image:**"
   ]
  },
  {
   "cell_type": "markdown",
   "metadata": {},
   "source": [
    "#### ye path kaha hai, pata nahi bilkul\n",
    "stack kiya, usme list pass kiya, list me sirf open image kiya"
   ]
  },
  {
   "cell_type": "code",
   "execution_count": 35,
   "metadata": {},
   "outputs": [],
   "source": [
    "# ls()"
   ]
  },
  {
   "cell_type": "code",
   "execution_count": 36,
   "metadata": {},
   "outputs": [
    {
     "data": {
      "text/plain": [
       "(torch.Size([1010, 28, 28]), torch.Size([1028, 28, 28]))"
      ]
     },
     "execution_count": 36,
     "metadata": {},
     "output_type": "execute_result"
    }
   ],
   "source": [
    "valid_3_tens = torch.stack([tensor(Image.open(o)) \n",
    "                            for o in (path/'valid'/'3').ls()])\n",
    "valid_3_tens = valid_3_tens.float()/255\n",
    "valid_7_tens = torch.stack([tensor(Image.open(o)) \n",
    "                            for o in (path/'valid'/'7').ls()])\n",
    "valid_7_tens = valid_7_tens.float()/255\n",
    "valid_3_tens.shape,valid_7_tens.shape"
   ]
  },
  {
   "cell_type": "markdown",
   "metadata": {},
   "source": [
    "**It's good to get in the habit of checking shapes as you go. Here we see two tensors, one representing the 3s validation set of 1,010 images of size 28×28, and one representing the 7s validation set of 1,028 images of size 28×28.**\n",
    "\n",
    "**We ultimately want to write a function, `is_3`, that will decide if an arbitrary image is a 3 or a 7. It will do this by deciding which of our two \"ideal digits\" this arbitrary image is closer to. For that we need to define a notion of distance—that is, a function that calculates the distance between two images.**\n",
    "\n",
    "We can write a simple function that calculates the mean absolute error using an expression very similar to the one we wrote in the last section:"
   ]
  },
  {
   "cell_type": "code",
   "execution_count": 37,
   "metadata": {},
   "outputs": [],
   "source": [
    "def mnist_distance_1(a,b): return (a-b).abs().mean()\n",
    "def mnist_distance_2(a,b): return (a-b).abs().mean(-1)\n",
    "# -1 means along a row (sabse lambi axis?)\n",
    "def mnist_distance_3(a,b): return (a-b).abs().mean(-2)\n",
    "# -2 means along a column (second longest axis?)\n",
    "def mnist_distance_4(a,b): return (a-b).abs().mean((-1,-2) )\n",
    "# a = tensor([[1.0,0,0],[0,1,0]])\n",
    "# b = tensor([[0,2,1],[0,0,0]])\n",
    "# print(a-b, a.ndim)\n",
    "# print(mnist_distance_1(a,b))\n",
    "# print(mnist_distance_2(a,b))\n",
    "# print(mnist_distance_3(a,b))\n",
    "# print(mnist_distance_4(a,b))"
   ]
  },
  {
   "cell_type": "code",
   "execution_count": 38,
   "metadata": {},
   "outputs": [
    {
     "name": "stdout",
     "output_type": "stream",
     "text": [
      "tensor([[[ 1., -2., -1.,  1.],\n",
      "         [ 0.,  1.,  0.,  1.]],\n",
      "\n",
      "        [[ 1., -2., -2.,  1.],\n",
      "         [ 0.,  2.,  0.,  1.]],\n",
      "\n",
      "        [[ 1., -2., -3.,  1.],\n",
      "         [ 2.,  2.,  0.,  1.]]]) dimensions  3 shape  torch.Size([3, 2, 4])\n",
      "tensor(1.1667)\n",
      "tensor([[1.2500, 0.5000],\n",
      "        [1.5000, 0.7500],\n",
      "        [1.7500, 1.2500]])\n",
      "tensor([[0.5000, 1.5000, 0.5000, 1.0000],\n",
      "        [0.5000, 2.0000, 1.0000, 1.0000],\n",
      "        [1.5000, 2.0000, 1.5000, 1.0000]])\n",
      "tensor([0.8750, 1.1250, 1.5000])\n"
     ]
    }
   ],
   "source": [
    "a = tensor([[[1.0,0,0,1],[0,1,0,1]], [[1.0,0,-1,1],[0,1,0,1]], [[1.0,0,-2,1],[2,1,0,1]]])\n",
    "b = tensor([[[0,2,1,0],[0,0,0,0]],  [[0,2,1,0],[0,-1,0,0]], [[0,2,1,0],[0,-1,0,0]]])\n",
    "print(a-b, 'dimensions ', a.ndim, 'shape ',a.shape) \n",
    "# gives height-rows-columns\n",
    "print(mnist_distance_1(a,b)) \n",
    "# as expected\n",
    "print(mnist_distance_2(a,b)) \n",
    "# gives along a row for each level of height\n",
    "print(mnist_distance_3(a,b))\n",
    "# along the column for each level of height\n",
    "print(mnist_distance_4(a,b))\n",
    "# for each height level"
   ]
  },
  {
   "cell_type": "code",
   "execution_count": 39,
   "metadata": {},
   "outputs": [
    {
     "name": "stdout",
     "output_type": "stream",
     "text": [
      "tensor(0.1114)\n",
      "torch.Size([28, 28]) torch.Size([28, 28])\n",
      "tensor(0.1114)\n"
     ]
    }
   ],
   "source": [
    "def mnist_distance(a,b): return (a-b).abs().mean((-1,-2))\n",
    "# gives average out of each levels if height(1 only here), so 28*28 shape\n",
    "print(mnist_distance(a_3, mean3))\n",
    "print(a_3.shape, mean3.shape)\n",
    "print((a_3-mean3).abs().mean())\n",
    "# since yaha height 1 hai, to (-1,-2) ki need nahi thi!"
   ]
  },
  {
   "cell_type": "markdown",
   "metadata": {},
   "source": [
    "This is the same value we previously calculated for the distance between these two images, the ideal 3 `mean3` and the arbitrary sample 3 `a_3`, which are both single-image tensors with a shape of `[28,28]`.\n",
    "\n",
    "But in order to calculate a metric for overall accuracy, we will need to calculate the distance to the ideal 3 for _every_ image in the validation set. How do we do that calculation? We could write a loop over all of the single-image tensors that are stacked within our validation set tensor, `valid_3_tens`, which has a shape of `[1010,28,28]` representing 1,010 images. But there is a better way.\n",
    "\n",
    "Something very interesting happens when we take this exact same distance function, designed for comparing two single images, but pass in as an argument `valid_3_tens`, the tensor that represents the 3s validation set:"
   ]
  },
  {
   "cell_type": "code",
   "execution_count": 40,
   "metadata": {},
   "outputs": [
    {
     "data": {
      "text/plain": [
       "(tensor([0.1787, 0.1422, 0.1412,  ..., 0.1358, 0.1301, 0.1110]),\n",
       " torch.Size([1010]))"
      ]
     },
     "execution_count": 40,
     "metadata": {},
     "output_type": "execute_result"
    }
   ],
   "source": [
    "valid_3_dist = mnist_distance(valid_3_tens, mean3)\n",
    "valid_3_dist, valid_3_dist.shape"
   ]
  },
  {
   "cell_type": "markdown",
   "metadata": {},
   "source": [
    "Instead of complaining about shapes not matching, it returned the distance for every single image as a vector (i.e., a rank-1 tensor) of length 1,010 (the number of 3s in our validation set). How did that happen?\n",
    "\n",
    "Take another look at our function `mnist_distance`, and you'll see we have there the subtraction `(a-b)`. **The magic trick is that PyTorch, when it tries to perform a simple subtraction operation between two tensors of different ranks, will use *broadcasting*. That is, it will automatically expand the tensor with the smaller rank to have the same size as the one with the larger rank. Broadcasting is an important capability that makes tensor code much easier to write.**\n",
    "\n",
    "After broadcasting so the two argument tensors have the same rank, PyTorch applies its usual logic for two tensors of the same rank: it performs the operation on each corresponding element of the two tensors, and returns the tensor result. For instance:"
   ]
  },
  {
   "cell_type": "code",
   "execution_count": 41,
   "metadata": {},
   "outputs": [
    {
     "data": {
      "text/plain": [
       "tensor([2, 3, 4])"
      ]
     },
     "execution_count": 41,
     "metadata": {},
     "output_type": "execute_result"
    }
   ],
   "source": [
    "tensor([1,2,3]) + tensor(1)"
   ]
  },
  {
   "cell_type": "markdown",
   "metadata": {},
   "source": [
    "**So in this case, PyTorch treats `mean3`, a rank-2 tensor representing a single image, as if it were 1,010 copies of the same image, and then subtracts each of those copies from each 3 in our validation set.** *nice bro*\n",
    "What shape would you expect this tensor to have? Try to figure it out yourself before you look at the answer below:"
   ]
  },
  {
   "cell_type": "code",
   "execution_count": 42,
   "metadata": {},
   "outputs": [
    {
     "data": {
      "text/plain": [
       "torch.Size([1010, 28, 28])"
      ]
     },
     "execution_count": 42,
     "metadata": {},
     "output_type": "execute_result"
    }
   ],
   "source": [
    "(valid_3_tens-mean3).shape"
   ]
  },
  {
   "cell_type": "markdown",
   "metadata": {},
   "source": [
    "We are calculating the difference between our \"ideal 3\" and each of the 1,010 3s in the validation set, for each of 28×28 images, resulting in the shape `[1010,28,28]`.\n",
    "\n",
    "There are a couple of important points about how broadcasting is implemented, which make it valuable not just for expressivity but also for performance:\n",
    "\n",
    "- **PyTorch doesn't *actually* copy `mean3` 1,010 times. It *pretends* it were a tensor of that shape, but doesn't actually allocate any additional memory**\n",
    "- **It does the whole calculation in C (or, if you're using a GPU, in CUDA, the equivalent of C on the GPU), tens of thousands of times faster than pure Python (up to millions of times faster on a GPU!).**\n",
    "\n",
    "This is true of all broadcasting and elementwise operations and functions done in PyTorch. **It's the most important technique for you to know to create efficient PyTorch code.**\n",
    "\n",
    "Next in `mnist_distance` we see `abs`. You might be able to guess now what this does when applied to a tensor. It applies the method to each individual element in the tensor, and returns a tensor of the results (that is, it applies the method \"elementwise\"). So in this case, we'll get back 1,010 matrices of absolute values.\n",
    "\n",
    "Finally, our function calls **`mean((-1,-2))`. The tuple `(-1,-2)` represents a range of axes.** In Python, `-1` refers to the last element, and `-2` refers to the second-to-last. So in this case, this tells PyTorch that we want to take the **mean ranging over the values indexed by the last two axes of the tensor. The last two axes are the horizontal and vertical dimensions of an image.** \n",
    "### Right, since the first axis is the z-axis\n",
    "#### note that this is not slicing in any way\n",
    "**After taking the mean over the last two axes, we are left with just the first tensor axis, which indexes over our images, which is why our final size was `(1010)`. In other words, for every image, we averaged the intensity of all the pixels in that image.** \n",
    "#### kuch to doubt laga raha hai, because we have like one number (which is the abs mean value) per image, to kya fayda iska\n",
    "\n",
    "We'll be learning lots more about broadcasting throughout this book, especially in <<chapter_foundations>>, and will be practicing it regularly too.\n",
    "\n",
    "We can use `mnist_distance` to figure out whether an image is a 3 or not by using the following logic: if the distance between the digit in question and the ideal 3 is less than the distance to the ideal 7, then it's a 3. This function will automatically do broadcasting and be applied elementwise, just like all PyTorch functions and operators:"
   ]
  },
  {
   "cell_type": "code",
   "execution_count": 43,
   "metadata": {},
   "outputs": [],
   "source": [
    "def is_3(x): return mnist_distance(x,mean3) < mnist_distance(x,mean7)"
   ]
  },
  {
   "cell_type": "markdown",
   "metadata": {},
   "source": [
    "Let's test it on our example case:"
   ]
  },
  {
   "cell_type": "code",
   "execution_count": 44,
   "metadata": {},
   "outputs": [
    {
     "data": {
      "text/plain": [
       "(tensor(True), tensor(1.))"
      ]
     },
     "execution_count": 44,
     "metadata": {},
     "output_type": "execute_result"
    }
   ],
   "source": [
    "is_3(a_3), is_3(a_3).float()"
   ]
  },
  {
   "cell_type": "markdown",
   "metadata": {},
   "source": [
    "**Note that when we convert the Boolean response to a float, we get `1.0` for `True` and `0.0` for `False`.** Thanks to broadcasting, we can also test it on the full validation set of 3s:"
   ]
  },
  {
   "cell_type": "code",
   "execution_count": 45,
   "metadata": {},
   "outputs": [
    {
     "data": {
      "text/plain": [
       "tensor([False,  True,  True,  ...,  True,  True,  True])"
      ]
     },
     "execution_count": 45,
     "metadata": {},
     "output_type": "execute_result"
    }
   ],
   "source": [
    "is_3(valid_3_tens)"
   ]
  },
  {
   "cell_type": "markdown",
   "metadata": {},
   "source": [
    "Now we can calculate the accuracy for each of the 3s and 7s by taking the average of that function for all 3s and its inverse for all 7s:"
   ]
  },
  {
   "cell_type": "markdown",
   "metadata": {},
   "source": [
    "### this accuracy has got nothing to do with pixel values and all. this is just like is the prediction true or not"
   ]
  },
  {
   "cell_type": "code",
   "execution_count": 46,
   "metadata": {},
   "outputs": [
    {
     "data": {
      "text/plain": [
       "(tensor(0.9168), tensor(0.9854), tensor(0.9511))"
      ]
     },
     "execution_count": 46,
     "metadata": {},
     "output_type": "execute_result"
    }
   ],
   "source": [
    "accuracy_3s =      is_3(valid_3_tens).float() .mean()\n",
    "accuracy_7s = (1 - is_3(valid_7_tens).float()).mean()\n",
    "\n",
    "accuracy_3s,accuracy_7s,(accuracy_3s+accuracy_7s)/2"
   ]
  },
  {
   "cell_type": "markdown",
   "metadata": {},
   "source": [
    "This looks like a pretty good start! We're getting over 90% accuracy on both 3s and 7s, and we've seen how to define a metric conveniently using broadcasting.\n",
    "\n",
    "But let's be honest: 3s and 7s are very different-looking digits. And we're only classifying 2 out of the 10 possible digits so far. So we're going to need to do better!\n",
    "\n",
    "To do better, perhaps it is time to try a system that does some real learning—that is, that can automatically modify itself to improve its performance. In other words, it's time to talk about the training process, and SGD."
   ]
  },
  {
   "cell_type": "markdown",
   "metadata": {},
   "source": [
    "## Stochastic Gradient Descent (SGD)"
   ]
  },
  {
   "cell_type": "markdown",
   "metadata": {},
   "source": [
    "Do you remember the way that Arthur Samuel described machine learning, which we quoted in <<chapter_intro>>?\n",
    "\n",
    "> : Suppose we arrange for some automatic means of testing the effectiveness of any current weight assignment in terms of actual performance and provide a mechanism for altering the weight assignment so as to maximize the performance. We need not go into the details of such a procedure to see that it could be made entirely automatic and to see that a machine so programmed would \"learn\" from its experience.\n",
    "\n",
    "As we discussed, this is the key to allowing us to have a model that can get better and better—that can learn. But our pixel similarity approach does not really do this. We do not have any kind of weight assignment, or any way of improving based on testing the effectiveness of a weight assignment. In other words, **we can't really improve our pixel similarity approach by modifying a set of parameters. In order to take advantage of the power of deep learning, we will first have to represent our task in the way that Arthur Samuel described it.**\n",
    "\n",
    "Instead of trying to find the similarity between an image and an \"ideal image,\" **we could instead look at each individual pixel and come up with a set of weights for each one, such that the highest weights are associated with those pixels most likely to be black for a particular category.** **For instance, pixels toward the bottom right are not very likely to be activated for a 7, so they should have a low weight for a 7, but they are likely to be activated for an 8, so they should have a high weight for an 8. This can be represented as a function and set of weight values for each possible category—for instance the probability of being the number 8:**\n",
    "\n",
    "```\n",
    "def pr_eight(x,w): return (x*w).sum()\n",
    "```"
   ]
  },
  {
   "cell_type": "markdown",
   "metadata": {},
   "source": [
    "Here we are assuming that `x` is the image, represented as a vector—in other words, with all of the rows stacked up end to end into a single long line. And we are assuming that the weights are a vector `w`. If we have this function, then we just need some way to update the weights to make them a little bit better. With such an approach, we can repeat that step a number of times, making the weights better and better, until they are as good as we can make them.\n",
    "\n",
    "We want to find the specific values for the vector `w` that causes the result of our function to be high for those images that are actually 8s, and low for those images that are not. Searching for the best vector `w` is a way to search for the best function for recognising 8s. (Because we are not yet using a deep neural network, we are limited by what our function can actually do—we are going to fix that constraint later in this chapter.) \n",
    "\n",
    "To be more specific, here are the steps that we are going to require, to turn this function into a machine learning classifier:\n",
    "\n",
    "1. *Initialize* the weights.\n",
    "1. For each image, use these weights to *predict* whether it appears to be a 3 or a 7.\n",
    "1. Based on these predictions, calculate how good the model is (its *loss*).\n",
    "1. Calculate the *gradient*, which measures for each weight, how changing that weight would change the loss\n",
    "1. *Step* (that is, change) all the weights based on that calculation.\n",
    "1. Go back to the step 2, and *repeat* the process.\n",
    "1. Iterate until you decide to *stop* the training process (for instance, because the model is good enough or you don't want to wait any longer)."
   ]
  },
  {
   "cell_type": "markdown",
   "metadata": {},
   "source": [
    "These seven steps, illustrated in <<gradient_descent>>, are the key to the training of all deep learning models. That deep learning turns out to rely entirely on these steps is extremely surprising and counterintuitive. It's amazing that this process can solve such complex problems. But, as you'll see, it really does!"
   ]
  },
  {
   "cell_type": "code",
   "execution_count": 47,
   "metadata": {
    "hide_input": true
   },
   "outputs": [
    {
     "data": {
      "image/svg+xml": [
       "<?xml version=\"1.0\" encoding=\"UTF-8\" standalone=\"no\"?>\n",
       "<!DOCTYPE svg PUBLIC \"-//W3C//DTD SVG 1.1//EN\"\n",
       " \"http://www.w3.org/Graphics/SVG/1.1/DTD/svg11.dtd\">\n",
       "<!-- Generated by graphviz version 2.42.3 (20191010.1750)\n",
       " -->\n",
       "<!-- Title: G Pages: 1 -->\n",
       "<svg width=\"661pt\" height=\"78pt\"\n",
       " viewBox=\"0.00 0.00 660.87 78.00\" xmlns=\"http://www.w3.org/2000/svg\" xmlns:xlink=\"http://www.w3.org/1999/xlink\">\n",
       "<g id=\"graph0\" class=\"graph\" transform=\"scale(1 1) rotate(0) translate(4 74)\">\n",
       "<title>G</title>\n",
       "<polygon fill=\"white\" stroke=\"transparent\" points=\"-4,4 -4,-74 656.87,-74 656.87,4 -4,4\"/>\n",
       "<!-- init -->\n",
       "<g id=\"node1\" class=\"node\">\n",
       "<title>init</title>\n",
       "<ellipse fill=\"none\" stroke=\"black\" cx=\"27\" cy=\"-18\" rx=\"27\" ry=\"18\"/>\n",
       "<text text-anchor=\"middle\" x=\"27\" y=\"-14.3\" font-family=\"Times,serif\" font-size=\"14.00\">init</text>\n",
       "</g>\n",
       "<!-- predict -->\n",
       "<g id=\"node2\" class=\"node\">\n",
       "<title>predict</title>\n",
       "<ellipse fill=\"none\" stroke=\"black\" cx=\"135.2\" cy=\"-18\" rx=\"44.39\" ry=\"18\"/>\n",
       "<text text-anchor=\"middle\" x=\"135.2\" y=\"-14.3\" font-family=\"Times,serif\" font-size=\"14.00\">predict</text>\n",
       "</g>\n",
       "<!-- init&#45;&gt;predict -->\n",
       "<g id=\"edge1\" class=\"edge\">\n",
       "<title>init&#45;&gt;predict</title>\n",
       "<path fill=\"none\" stroke=\"black\" d=\"M54.25,-18C62.37,-18 71.63,-18 80.89,-18\"/>\n",
       "<polygon fill=\"black\" stroke=\"black\" points=\"80.89,-21.5 90.89,-18 80.89,-14.5 80.89,-21.5\"/>\n",
       "</g>\n",
       "<!-- loss -->\n",
       "<g id=\"node3\" class=\"node\">\n",
       "<title>loss</title>\n",
       "<ellipse fill=\"none\" stroke=\"black\" cx=\"244.99\" cy=\"-52\" rx=\"28.7\" ry=\"18\"/>\n",
       "<text text-anchor=\"middle\" x=\"244.99\" y=\"-48.3\" font-family=\"Times,serif\" font-size=\"14.00\">loss</text>\n",
       "</g>\n",
       "<!-- predict&#45;&gt;loss -->\n",
       "<g id=\"edge2\" class=\"edge\">\n",
       "<title>predict&#45;&gt;loss</title>\n",
       "<path fill=\"none\" stroke=\"black\" d=\"M170.6,-28.85C183.05,-32.78 197.09,-37.21 209.54,-41.14\"/>\n",
       "<polygon fill=\"black\" stroke=\"black\" points=\"208.53,-44.49 219.12,-44.16 210.64,-37.81 208.53,-44.49\"/>\n",
       "</g>\n",
       "<!-- gradient -->\n",
       "<g id=\"node4\" class=\"node\">\n",
       "<title>gradient</title>\n",
       "<ellipse fill=\"none\" stroke=\"black\" cx=\"406.63\" cy=\"-52\" rx=\"50.09\" ry=\"18\"/>\n",
       "<text text-anchor=\"middle\" x=\"406.63\" y=\"-48.3\" font-family=\"Times,serif\" font-size=\"14.00\">gradient</text>\n",
       "</g>\n",
       "<!-- loss&#45;&gt;gradient -->\n",
       "<g id=\"edge3\" class=\"edge\">\n",
       "<title>loss&#45;&gt;gradient</title>\n",
       "<path fill=\"none\" stroke=\"black\" d=\"M273.8,-52C293.82,-52 321.57,-52 346.45,-52\"/>\n",
       "<polygon fill=\"black\" stroke=\"black\" points=\"346.55,-55.5 356.55,-52 346.55,-48.5 346.55,-55.5\"/>\n",
       "</g>\n",
       "<!-- step -->\n",
       "<g id=\"node5\" class=\"node\">\n",
       "<title>step</title>\n",
       "<ellipse fill=\"none\" stroke=\"black\" cx=\"524.23\" cy=\"-18\" rx=\"30.59\" ry=\"18\"/>\n",
       "<text text-anchor=\"middle\" x=\"524.23\" y=\"-14.3\" font-family=\"Times,serif\" font-size=\"14.00\">step</text>\n",
       "</g>\n",
       "<!-- gradient&#45;&gt;step -->\n",
       "<g id=\"edge4\" class=\"edge\">\n",
       "<title>gradient&#45;&gt;step</title>\n",
       "<path fill=\"none\" stroke=\"black\" d=\"M445.8,-40.77C459.01,-36.89 473.76,-32.55 486.82,-28.71\"/>\n",
       "<polygon fill=\"black\" stroke=\"black\" points=\"487.82,-32.06 496.43,-25.88 485.85,-25.35 487.82,-32.06\"/>\n",
       "</g>\n",
       "<!-- step&#45;&gt;predict -->\n",
       "<g id=\"edge6\" class=\"edge\">\n",
       "<title>step&#45;&gt;predict</title>\n",
       "<path fill=\"none\" stroke=\"black\" d=\"M493.68,-18C428.65,-18 272.39,-18 189.67,-18\"/>\n",
       "<polygon fill=\"black\" stroke=\"black\" points=\"189.47,-14.5 179.47,-18 189.47,-21.5 189.47,-14.5\"/>\n",
       "<text text-anchor=\"middle\" x=\"315.09\" y=\"-21.8\" font-family=\"Times,serif\" font-size=\"14.00\">repeat</text>\n",
       "</g>\n",
       "<!-- stop -->\n",
       "<g id=\"node6\" class=\"node\">\n",
       "<title>stop</title>\n",
       "<ellipse fill=\"none\" stroke=\"black\" cx=\"622.32\" cy=\"-18\" rx=\"30.59\" ry=\"18\"/>\n",
       "<text text-anchor=\"middle\" x=\"622.32\" y=\"-14.3\" font-family=\"Times,serif\" font-size=\"14.00\">stop</text>\n",
       "</g>\n",
       "<!-- step&#45;&gt;stop -->\n",
       "<g id=\"edge5\" class=\"edge\">\n",
       "<title>step&#45;&gt;stop</title>\n",
       "<path fill=\"none\" stroke=\"black\" d=\"M554.84,-18C563.24,-18 572.53,-18 581.44,-18\"/>\n",
       "<polygon fill=\"black\" stroke=\"black\" points=\"581.64,-21.5 591.64,-18 581.64,-14.5 581.64,-21.5\"/>\n",
       "</g>\n",
       "</g>\n",
       "</svg>\n"
      ],
      "text/plain": [
       "<graphviz.files.Source at 0x7f7ed93cab80>"
      ]
     },
     "execution_count": 47,
     "metadata": {},
     "output_type": "execute_result"
    }
   ],
   "source": [
    "#id gradient_descent\n",
    "#caption The gradient descent process\n",
    "#alt Graph showing the steps for Gradient Descent\n",
    "gv('''\n",
    "init->predict->loss->gradient->step->stop\n",
    "step->predict[label=repeat]\n",
    "''')"
   ]
  },
  {
   "cell_type": "markdown",
   "metadata": {},
   "source": [
    "There are many different ways to do each of these seven steps, and we will be learning about them throughout the rest of this book. These are the details that make a big difference for deep learning practitioners, but it turns out that the general approach to each one generally follows some basic principles. Here are a few guidelines:\n",
    "\n",
    "- Initialize:: **We initialize the parameters to random values.** This may sound surprising. There are certainly other choices we could make, such as initializing them to the percentage of times that pixel is activated for that category—but since we already know that we have a routine to improve these weights, **it turns out that just starting with random weights works perfectly well.**\n",
    "- Loss:: This is what Samuel referred to when he spoke of *testing the effectiveness of any current weight assignment in terms of actual performance*. We need **some function that will return a number that is small if the performance of the model is good** (the standard approach is to treat a small loss as good, and a large loss as bad, although this is just a convention).\n",
    "- Step:: A simple way to figure out whether a weight should be increased a bit, or decreased a bit, would be just to try it: increase the weight by a small amount, and see if the loss goes up or down. **Once you find the correct direction, you could then change that amount by a bit more, and a bit less, until you find an amount that works well. However, this is slow!** As we will see, the magic of **calculus allows us to directly figure out in which direction, and by roughly how much, to change each weight, without having to try all these small changes. The way to do this is by calculating *gradients*.** This is just a performance optimization, we would get exactly the same results by using the slower manual process as well.\n",
    "- Stop:: Once we've decided how many epochs to train the model for (a few suggestions for this were given in the earlier list), we apply that decision. This is where that decision is applied. For our digit classifier, we would keep training until the accuracy of the model started getting worse, or we ran out of time."
   ]
  },
  {
   "cell_type": "markdown",
   "metadata": {},
   "source": [
    "Before applying these steps to our image classification problem, let's illustrate what they look like in a simpler case. First we will define a very simple function, the quadratic—let's pretend that this is our loss function, and `x` is a weight parameter of the function:"
   ]
  },
  {
   "cell_type": "code",
   "execution_count": 48,
   "metadata": {},
   "outputs": [],
   "source": [
    "def f(x): return x**2"
   ]
  },
  {
   "cell_type": "markdown",
   "metadata": {},
   "source": [
    "Here is a graph of that function:"
   ]
  },
  {
   "cell_type": "markdown",
   "metadata": {},
   "source": [
    "### alag hi maje hai plot ke liye!"
   ]
  },
  {
   "cell_type": "code",
   "execution_count": 49,
   "metadata": {},
   "outputs": [
    {
     "name": "stderr",
     "output_type": "stream",
     "text": [
      "/opt/conda/envs/fastai/lib/python3.8/site-packages/fastbook/__init__.py:74: UserWarning: Not providing a value for linspace's steps is deprecated and will throw a runtime error in a future release. This warning will appear only once per process. (Triggered internally at  /opt/conda/conda-bld/pytorch_1603729096996/work/aten/src/ATen/native/RangeFactories.cpp:23.)\n",
      "  x = torch.linspace(min,max)\n"
     ]
    },
    {
     "data": {
      "image/png": "[encoded data removed]",
      "text/plain": [
       "<Figure size 432x288 with 1 Axes>"
      ]
     },
     "metadata": {
      "needs_background": "light"
     },
     "output_type": "display_data"
    }
   ],
   "source": [
    "plot_function(f, 'x', 'x**2')"
   ]
  },
  {
   "cell_type": "markdown",
   "metadata": {},
   "source": [
    "The sequence of steps we described earlier starts by picking some random value for a parameter, and calculating the value of the loss:"
   ]
  },
  {
   "cell_type": "code",
   "execution_count": 50,
   "metadata": {},
   "outputs": [
    {
     "data": {
      "image/png": "[encoded data removed]",
      "text/plain": [
       "<Figure size 432x288 with 1 Axes>"
      ]
     },
     "metadata": {
      "needs_background": "light"
     },
     "output_type": "display_data"
    }
   ],
   "source": [
    "plot_function(f, 'x', 'x**2')\n",
    "plt.scatter(-1.5, f(-1.5), color='red');"
   ]
  },
  {
   "cell_type": "markdown",
   "metadata": {},
   "source": [
    "Now we look to see what would happen if we increased or decreased our parameter by a little bit—the *adjustment*. This is simply the slope at a particular point:"
   ]
  },
  {
   "cell_type": "markdown",
   "metadata": {},
   "source": [
    "<img alt=\"A graph showing the squared function with the slope at one point\" width=\"400\" src=\"images/grad_illustration.svg\"/>"
   ]
  },
  {
   "cell_type": "markdown",
   "metadata": {},
   "source": [
    "We can change our weight by a little in the direction of the slope, calculate our loss and adjustment again, and repeat this a few times. Eventually, we will get to the lowest point on our curve:"
   ]
  },
  {
   "cell_type": "markdown",
   "metadata": {},
   "source": [
    "<img alt=\"An illustration of gradient descent\" width=\"400\" src=\"images/chapter2_perfect.svg\"/>"
   ]
  },
  {
   "cell_type": "markdown",
   "metadata": {},
   "source": [
    "This basic idea goes all the way back to Isaac Newton, who pointed out that we can optimize arbitrary functions in this way. Regardless of how complicated our functions become, this basic approach of gradient descent will not significantly change. The only minor changes we will see later in this book are some handy ways we can make it faster, by finding better steps."
   ]
  },
  {
   "cell_type": "markdown",
   "metadata": {},
   "source": [
    "### Calculating Gradients"
   ]
  },
  {
   "cell_type": "markdown",
   "metadata": {},
   "source": [
    "The one magic step is the bit where we calculate the gradients. As we mentioned, we use calculus as a performance optimization; it allows us to more quickly calculate whether our loss will go up or down when we adjust our parameters up or down. In other words, the **gradients will tell us how much we have to change each weight to make our model better.**\n",
    "\n",
    "You may remember from your high school calculus class that the *derivative* of a function tells you how much a change in its parameters will change its result. If not, don't worry, lots of us forget calculus once high school is behind us! But you will have to have some intuitive understanding of what a derivative is before you continue, so if this is all very fuzzy in your head, head over to Khan Academy and complete the [lessons on basic derivatives](https://www.khanacademy.org/math/differential-calculus/dc-diff-intro). You won't have to know how to calculate them yourselves, you just have to know what a derivative is.\n",
    "\n",
    "The key point about a derivative is this: for any function, such as the quadratic function we saw in the previous section, we can calculate its derivative. The derivative is another function. It calculates the change, rather than the value. For instance, the derivative of the quadratic function at the value 3 tells us how rapidly the function changes at the value 3. More specifically, you may recall that gradient is defined as *rise/run*, that is, the change in the value of the function, divided by the change in the value of the parameter. When we know how our function will change, then we know what we need to do to make it smaller. This is the **key to machine learning: having a way to change the parameters of a function to make it smaller. Calculus provides us with a computational shortcut, the derivative, which lets us directly calculate the gradients of our functions.**"
   ]
  },
  {
   "cell_type": "markdown",
   "metadata": {},
   "source": [
    "One important thing to be aware of is that our function has lots of weights that we need to adjust, so when we calculate the derivative we won't get back one number, but lots of them—a gradient for every weight. But there is nothing mathematically tricky here; you can calculate the derivative with respect to one weight, and treat all the other ones as constant, then repeat that for each other weight. This is how all of the gradients are calculated, for every weight.\n",
    "\n",
    "We mentioned just now that you won't have to calculate any gradients yourself. How can that be? Amazingly enough, PyTorch is able to automatically compute the derivative of nearly any function! What's more, it does it very fast. Most of the time, it will be at least as fast as any derivative function that you can create by hand. Let's see an example.\n",
    "\n",
    "First, let's pick a tensor value which we want gradients at:"
   ]
  },
  {
   "cell_type": "code",
   "execution_count": 51,
   "metadata": {},
   "outputs": [
    {
     "data": {
      "text/plain": [
       "tensor(3., requires_grad=True)"
      ]
     },
     "execution_count": 51,
     "metadata": {},
     "output_type": "execute_result"
    }
   ],
   "source": [
    "xt = tensor(3.).requires_grad_() #onlty foating point alowed\n",
    "xt"
   ]
  },
  {
   "cell_type": "markdown",
   "metadata": {},
   "source": [
    "Notice the special method **`requires_grad_`? That's the magical incantation we use to tell PyTorch that we want to calculate gradients with respect to that variable at that value. It is essentially tagging the variable, so PyTorch will remember to keep track of how to compute gradients of the other, direct calculations on it that you will ask for.**\n",
    "\n",
    "> a: This API might throw you off if you're coming from math or physics. In those contexts the \"gradient\" of a function is just another function (i.e., its derivative), so you might expect gradient-related APIs to give you a new function. **But in deep learning, \"gradients\" usually means the _value_ of a function's derivative at a particular argument value.** The PyTorch API also puts the focus on the argument, not the function you're actually computing the gradients of. It may feel backwards at first, but it's just a different perspective.\n",
    "\n",
    "Now we calculate our function with that value. Notice how **PyTorch prints not just the value calculated, but also a note that it has a gradient function it'll be using to calculate our gradients when needed:**"
   ]
  },
  {
   "cell_type": "code",
   "execution_count": 52,
   "metadata": {},
   "outputs": [
    {
     "data": {
      "text/plain": [
       "tensor(9., grad_fn=<PowBackward0>)"
      ]
     },
     "execution_count": 52,
     "metadata": {},
     "output_type": "execute_result"
    }
   ],
   "source": [
    "yt = f(xt)\n",
    "yt"
   ]
  },
  {
   "cell_type": "markdown",
   "metadata": {},
   "source": [
    "Finally, we tell PyTorch to calculate the gradients for us:"
   ]
  },
  {
   "cell_type": "code",
   "execution_count": 53,
   "metadata": {},
   "outputs": [],
   "source": [
    "yt.backward()"
   ]
  },
  {
   "cell_type": "markdown",
   "metadata": {},
   "source": [
    "The **\"backward\" here refers to *backpropagation*, which is the name given to the process of calculating the derivative of each layer.** We'll see how this is done exactly in chapter <<chapter_foundations>>, when we calculate the gradients of a deep neural net from scratch. This is called the \"backward pass\" of the network, as opposed to the **\"forward pass,\" which is where the activations are calculated.** \n",
    "#### Life would probably be easier if `backward` was just called `calculate_grad`, but deep learning folks really do like to add jargon everywhere they can!"
   ]
  },
  {
   "cell_type": "markdown",
   "metadata": {},
   "source": [
    "We can now view the gradients by checking the `grad` attribute of our tensor:"
   ]
  },
  {
   "cell_type": "code",
   "execution_count": 54,
   "metadata": {},
   "outputs": [
    {
     "data": {
      "text/plain": [
       "tensor(6.)"
      ]
     },
     "execution_count": 54,
     "metadata": {},
     "output_type": "execute_result"
    }
   ],
   "source": [
    "xt.grad"
   ]
  },
  {
   "cell_type": "markdown",
   "metadata": {},
   "source": [
    "If you remember your high school calculus rules, the derivative of `x**2` is `2*x`, and we have `x=3`, so the gradients should be `2*3=6`, which is what PyTorch calculated for us!\n",
    "\n",
    "Now we'll repeat the preceding steps, but with a vector argument for our function:"
   ]
  },
  {
   "cell_type": "code",
   "execution_count": 55,
   "metadata": {},
   "outputs": [
    {
     "data": {
      "text/plain": [
       "(tensor([ 3.,  4., 10.], requires_grad=True),\n",
       " tensor(3., grad_fn=<AminBackward>),\n",
       " None,\n",
       " None)"
      ]
     },
     "execution_count": 55,
     "metadata": {},
     "output_type": "execute_result"
    }
   ],
   "source": [
    "xt = tensor([3.,4.,10.]).requires_grad_()\n",
    "xt, xt.amin(), xt.grad_fn, xt.grad\n",
    "# aise hi dekh raha"
   ]
  },
  {
   "cell_type": "markdown",
   "metadata": {},
   "source": [
    "And we'll add `sum` to our function so it can take a vector (i.e., a rank-1 tensor), and return a scalar (i.e., a rank-0 tensor):"
   ]
  },
  {
   "cell_type": "markdown",
   "metadata": {},
   "source": [
    "#### the space in between is important it seems, otherwise error!!!"
   ]
  },
  {
   "cell_type": "code",
   "execution_count": 56,
   "metadata": {},
   "outputs": [
    {
     "data": {
      "text/plain": [
       "tensor(125., grad_fn=<SumBackward0>)"
      ]
     },
     "execution_count": 56,
     "metadata": {},
     "output_type": "execute_result"
    }
   ],
   "source": [
    "def f(x): return (x**2).sum()\n",
    "\n",
    "yt = f(xt) \n",
    "yt"
   ]
  },
  {
   "cell_type": "markdown",
   "metadata": {},
   "source": [
    "Our gradients are `2*xt`, as we'd expect!"
   ]
  },
  {
   "cell_type": "code",
   "execution_count": 57,
   "metadata": {},
   "outputs": [
    {
     "data": {
      "text/plain": [
       "(tensor([ 6.,  8., 20.]), tensor(125., grad_fn=<SumBackward0>), None)"
      ]
     },
     "execution_count": 57,
     "metadata": {},
     "output_type": "execute_result"
    }
   ],
   "source": [
    "yt.backward()\n",
    "xt.grad, yt, xt.grad_fn"
   ]
  },
  {
   "cell_type": "markdown",
   "metadata": {},
   "source": [
    "The gradients only tell us the slope of our function, they don't actually tell us exactly how far to adjust the parameters. But it gives us some idea of how far; if the slope is very large, then that may suggest that we have more adjustments to do, whereas if the slope is very small, that may suggest that we are close to the optimal value."
   ]
  },
  {
   "cell_type": "markdown",
   "metadata": {},
   "source": [
    "### Stepping With a Learning Rate"
   ]
  },
  {
   "cell_type": "markdown",
   "metadata": {},
   "source": [
    "Deciding how to change our parameters based on the values of the gradients is an important part of the deep learning process. Nearly all approaches start with the basic idea of multiplying the gradient by some small number, called the *learning rate* (LR). The learning rate is often a number between 0.001 and 0.1, although it could be anything. Often, people select a learning rate just by trying a few, and finding which results in the best model after training (we'll show you a better approach later in this book, called the *learning rate finder*). Once you've picked a learning rate, you can adjust your parameters using this simple function:\n",
    "\n",
    "```\n",
    "w -= gradient(w) * lr\n",
    "```\n",
    "\n",
    "This is known as *stepping* your parameters, using an *optimizer step*.\n",
    "\n",
    "If you pick a learning rate that's too low, it can mean having to do a lot of steps. <<descent_small>> illustrates that."
   ]
  },
  {
   "cell_type": "markdown",
   "metadata": {},
   "source": [
    "<img alt=\"An illustration of gradient descent with a LR too low\" width=\"400\" caption=\"Gradient descent with low LR\" src=\"images/chapter2_small.svg\" id=\"descent_small\"/>"
   ]
  },
  {
   "cell_type": "markdown",
   "metadata": {},
   "source": [
    "But picking a learning rate that's too high is even worse—it can actually result in the loss getting *worse*, as we see in <<descent_div>>!"
   ]
  },
  {
   "cell_type": "markdown",
   "metadata": {},
   "source": [
    "<img alt=\"An illustration of gradient descent with a LR too high\" width=\"400\" caption=\"Gradient descent with high LR\" src=\"images/chapter2_div.svg\" id=\"descent_div\"/>"
   ]
  },
  {
   "cell_type": "markdown",
   "metadata": {},
   "source": [
    "If the learning rate is too high, it may also \"bounce\" around, rather than actually diverging; <<descent_bouncy>> shows how this has the result of taking many steps to train successfully."
   ]
  },
  {
   "cell_type": "markdown",
   "metadata": {},
   "source": [
    "<img alt=\"An illustation of gradient descent with a bouncy LR\" width=\"400\" caption=\"Gradient descent with bouncy LR\" src=\"images/chapter2_bouncy.svg\" id=\"descent_bouncy\"/>"
   ]
  },
  {
   "cell_type": "markdown",
   "metadata": {},
   "source": [
    "Now let's apply all of this in an end-to-end example."
   ]
  },
  {
   "cell_type": "markdown",
   "metadata": {},
   "source": [
    "### An End-to-End SGD Example"
   ]
  },
  {
   "cell_type": "markdown",
   "metadata": {},
   "source": [
    "We've seen how to use gradients to find a minimum. Now it's time to look at an SGD example and see how finding a minimum can be used to train a model to fit data better.\n",
    "\n",
    "Let's start with a simple, synthetic, example model. Imagine you were measuring the speed of a roller coaster as it went over the top of a hump. It would start fast, and then get slower as it went up the hill; it would be slowest at the top, and it would then speed up again as it went downhill. You want to build a model of how the speed changes over time. If you were measuring the speed manually every second for 20 seconds, it might look something like this:"
   ]
  },
  {
   "cell_type": "code",
   "execution_count": 58,
   "metadata": {},
   "outputs": [
    {
     "data": {
      "text/plain": [
       "(tensor([ 1.9269,  1.4873,  0.9007, -2.1055, -0.7581,  1.0783,  0.8008,  1.6806,  0.3559, -0.6866, -0.4934,  0.2415, -0.2316,  0.0418, -0.2516,  0.8599, -0.3097, -0.3957,  0.8034, -0.6216]),\n",
       " tensor([ 0.9566, -1.2736,  0.9172, -2.3238, -2.5114, -2.7672,  5.4340,  0.4817,  1.1017,  0.5262,  4.1555, -1.3376, -3.6073,  2.1234, -3.2277,  1.6070,  3.5261,  1.6835, -1.3582, -2.3153]))"
      ]
     },
     "execution_count": 58,
     "metadata": {},
     "output_type": "execute_result"
    }
   ],
   "source": [
    "torch.randn(20), torch.randn(20)*3\n",
    "# into 3 se stanard deviation change hua"
   ]
  },
  {
   "cell_type": "code",
   "execution_count": 59,
   "metadata": {},
   "outputs": [
    {
     "data": {
      "text/plain": [
       "tensor([ 0.,  1.,  2.,  3.,  4.,  5.,  6.,  7.,  8.,  9., 10., 11., 12., 13., 14., 15., 16., 17., 18., 19.])"
      ]
     },
     "execution_count": 59,
     "metadata": {},
     "output_type": "execute_result"
    }
   ],
   "source": [
    "time = torch.arange(0,20).float(); time"
   ]
  },
  {
   "cell_type": "code",
   "execution_count": 60,
   "metadata": {},
   "outputs": [
    {
     "data": {
      "image/png": "[encoded data removed]",
      "text/plain": [
       "<Figure size 432x288 with 1 Axes>"
      ]
     },
     "metadata": {
      "needs_background": "light"
     },
     "output_type": "display_data"
    }
   ],
   "source": [
    "speed = torch.randn(20)*3 + 0.75*(time-9.5)**2 + 1\n",
    "plt.scatter(time,speed);"
   ]
  },
  {
   "cell_type": "markdown",
   "metadata": {},
   "source": [
    "We've added a bit of random noise, since measuring things manually isn't precise. This means it's not that easy to answer the question: what was the roller coaster's speed? Using SGD we can try to find a function that matches our observations. We can't consider every possible function, so let's use a guess that it will be quadratic; i.e., a function of the form `a*(time**2)+(b*time)+c`.\n",
    "\n",
    "We want to distinguish clearly between the function's input (the time when we are measuring the coaster's speed) and its parameters (the values that define *which* quadratic we're trying). So, let's collect the parameters in one argument and thus separate the input, `t`, and the parameters, `params`, in the function's signature: "
   ]
  },
  {
   "cell_type": "code",
   "execution_count": 61,
   "metadata": {},
   "outputs": [],
   "source": [
    "def f(t, params):\n",
    "    a,b,c = params\n",
    "    return a*(t**2) + (b*t) + c"
   ]
  },
  {
   "cell_type": "markdown",
   "metadata": {},
   "source": [
    "In other words, **we've restricted the problem of finding the best imaginable function that fits the data, to finding the best *quadratic* function. This greatly simplifies the problem, since every quadratic function is fully defined by the three parameters `a`, `b`, and `c`. Thus, to find the best quadratic function, we only need to find the best values for `a`, `b`, and `c`.**\n",
    "\n",
    "If we can solve this problem for the three parameters of a quadratic function, we'll be able to apply the same approach for other, more complex functions with more parameters—such as a neural net. Let's find the parameters for `f` first, and then we'll come back and do the same thing for the MNIST dataset with a neural net.\n",
    "\n",
    "We need to define first what we mean by \"best.\" We define this precisely by choosing a *loss function*, which will return a value based on a prediction and a target, where lower values of the function correspond to \"better\" predictions. For continuous data, it's common to use *mean squared error*:"
   ]
  },
  {
   "cell_type": "code",
   "execution_count": 62,
   "metadata": {},
   "outputs": [],
   "source": [
    "def mse(preds, targets): return ((preds-targets)**2).mean().sqrt()\n",
    "# it should have been rmse technically"
   ]
  },
  {
   "cell_type": "markdown",
   "metadata": {},
   "source": [
    "Now, let's work through our 7 step process."
   ]
  },
  {
   "cell_type": "markdown",
   "metadata": {},
   "source": [
    "#### Step 1: Initialize the parameters"
   ]
  },
  {
   "cell_type": "markdown",
   "metadata": {},
   "source": [
    "First, we initialize the parameters to random values, and tell PyTorch that we want to track their gradients, using `requires_grad_`:"
   ]
  },
  {
   "cell_type": "code",
   "execution_count": 63,
   "metadata": {},
   "outputs": [
    {
     "data": {
      "text/plain": [
       "tensor([-3.5945,  0.0192,  0.1052], requires_grad=True)"
      ]
     },
     "execution_count": 63,
     "metadata": {},
     "output_type": "execute_result"
    }
   ],
   "source": [
    "params = torch.randn(3).requires_grad_()\n",
    "params"
   ]
  },
  {
   "cell_type": "code",
   "execution_count": 64,
   "metadata": {},
   "outputs": [
    {
     "data": {
      "text/plain": [
       "tensor([-3.5945,  0.0192,  0.1052], grad_fn=<CloneBackward>)"
      ]
     },
     "execution_count": 64,
     "metadata": {},
     "output_type": "execute_result"
    }
   ],
   "source": [
    "#hide\n",
    "orig_params = params.clone()\n",
    "orig_params"
   ]
  },
  {
   "cell_type": "markdown",
   "metadata": {},
   "source": [
    "#### Step 2: Calculate the predictions\n",
    "### remember, apna hai preds, we want t make it close as speed"
   ]
  },
  {
   "cell_type": "markdown",
   "metadata": {},
   "source": [
    "Next, we calculate the predictions:\n",
    "**preds matlab at^2 + bt+c** ki values for each time value"
   ]
  },
  {
   "cell_type": "code",
   "execution_count": 65,
   "metadata": {},
   "outputs": [
    {
     "data": {
      "text/plain": [
       "(tensor([ 1.0517e-01, -3.4701e+00, -1.4234e+01, -3.2188e+01, -5.7330e+01, -8.9661e+01, -1.2918e+02, -1.7589e+02, -2.2979e+02, -2.9087e+02, -3.5915e+02, -4.3461e+02, -5.1727e+02, -6.0711e+02,\n",
       "         -7.0414e+02, -8.0836e+02, -9.1977e+02, -1.0384e+03, -1.1642e+03, -1.2971e+03], grad_fn=<AddBackward0>),\n",
       " 20)"
      ]
     },
     "execution_count": 65,
     "metadata": {},
     "output_type": "execute_result"
    }
   ],
   "source": [
    "preds = f(time, params)\n",
    "preds, len(preds)"
   ]
  },
  {
   "cell_type": "markdown",
   "metadata": {},
   "source": [
    "Let's create a little function to see how close our predictions are to our targets, and take a look:"
   ]
  },
  {
   "cell_type": "code",
   "execution_count": 66,
   "metadata": {},
   "outputs": [],
   "source": [
    "def show_preds(preds, ax=None):\n",
    "    if ax is None: ax=plt.subplots()[1]\n",
    "    ax.scatter(time, speed) #which has the noise and all\n",
    "    ax.scatter(time, to_np(preds), color='red') #apna wala, with random a,b,c\n",
    "    ax.set_ylim(-300,100)"
   ]
  },
  {
   "cell_type": "code",
   "execution_count": 67,
   "metadata": {},
   "outputs": [
    {
     "data": {
      "image/png": "[encoded data removed]",
      "text/plain": [
       "<Figure size 432x288 with 1 Axes>"
      ]
     },
     "metadata": {
      "needs_background": "light"
     },
     "output_type": "display_data"
    }
   ],
   "source": [
    "show_preds(preds)"
   ]
  },
  {
   "cell_type": "markdown",
   "metadata": {},
   "source": [
    "This doesn't look very close—our random parameters suggest that the roller coaster will end up going backwards, since we have negative speeds!"
   ]
  },
  {
   "cell_type": "markdown",
   "metadata": {},
   "source": [
    "#### Step 3: Calculate the loss"
   ]
  },
  {
   "cell_type": "markdown",
   "metadata": {},
   "source": [
    "We calculate the loss as follows:\n",
    "#### remember, apna hai preds, we want t make it close as speed"
   ]
  },
  {
   "cell_type": "code",
   "execution_count": 68,
   "metadata": {},
   "outputs": [
    {
     "data": {
      "text/plain": [
       "tensor(626.5933, grad_fn=<SqrtBackward>)"
      ]
     },
     "execution_count": 68,
     "metadata": {},
     "output_type": "execute_result"
    }
   ],
   "source": [
    "loss = mse(preds, speed)\n",
    "loss"
   ]
  },
  {
   "cell_type": "markdown",
   "metadata": {},
   "source": [
    "Our goal is now to improve this. To do that, we'll need to know the gradients."
   ]
  },
  {
   "cell_type": "markdown",
   "metadata": {},
   "source": [
    "#### Step 4: Calculate the gradients\n",
    "# this is vvvvvimp"
   ]
  },
  {
   "cell_type": "markdown",
   "metadata": {},
   "source": [
    "The next step is to calculate **the gradients. In other words, calculate an approximation of how the parameters need to change:**"
   ]
  },
  {
   "cell_type": "code",
   "execution_count": 69,
   "metadata": {},
   "outputs": [
    {
     "data": {
      "text/plain": [
       "tensor([-167.5924,  -10.7477,   -0.7495])"
      ]
     },
     "execution_count": 69,
     "metadata": {},
     "output_type": "execute_result"
    }
   ],
   "source": [
    "loss.backward()\n",
    "params.grad"
   ]
  },
  {
   "cell_type": "code",
   "execution_count": 70,
   "metadata": {},
   "outputs": [
    {
     "data": {
      "text/plain": [
       "tensor([-1.6759e-03, -1.0748e-04, -7.4949e-06])"
      ]
     },
     "execution_count": 70,
     "metadata": {},
     "output_type": "execute_result"
    }
   ],
   "source": [
    "params.grad * 1e-5"
   ]
  },
  {
   "cell_type": "markdown",
   "metadata": {},
   "source": [
    "We can use these gradients to improve our parameters. **We'll need to pick a learning rate (we'll discuss how to do that in practice in the next chapter; for now we'll just use 1e-5, or 0.00001):**\n",
    "*means params.data is same as params (a,b,c)*"
   ]
  },
  {
   "cell_type": "markdown",
   "metadata": {},
   "source": [
    "#### matlab kaam ka ha sirf params (abc) and gradients(differentiation) jo batata hai ki kaise move ho raha hai"
   ]
  },
  {
   "cell_type": "code",
   "execution_count": 71,
   "metadata": {},
   "outputs": [
    {
     "data": {
      "text/plain": [
       "(tensor([-3.5945,  0.0192,  0.1052], requires_grad=True),\n",
       " tensor([-167.5924,  -10.7477,   -0.7495]))"
      ]
     },
     "execution_count": 71,
     "metadata": {},
     "output_type": "execute_result"
    }
   ],
   "source": [
    "params, params.grad\n",
    "# params.data, params.grad.data\n",
    "# ye bhi same hi dete hai"
   ]
  },
  {
   "cell_type": "markdown",
   "metadata": {},
   "source": [
    "#### Step 5: Step the weights. "
   ]
  },
  {
   "cell_type": "markdown",
   "metadata": {},
   "source": [
    "Now we need to update the parameters based on the gradients we just calculated:"
   ]
  },
  {
   "cell_type": "code",
   "execution_count": 72,
   "metadata": {},
   "outputs": [],
   "source": [
    "lr = 1e-5\n",
    "params.data -= lr * params.grad.data \n",
    "#a,b,c are cganged by small amount as gradient tells us to movee\n",
    "params.grad = None #reset the gradient\n",
    "\n"
   ]
  },
  {
   "cell_type": "markdown",
   "metadata": {},
   "source": [
    "> a: Understanding this bit depends on remembering recent history. To calculate the gradients we call `backward` on the `loss`. But this `loss` was itself calculated by `mse`, which in turn took `preds` as an input, which was calculated using `f` taking as an input `params`, which was the object on which we originally called `required_grads_`—which is the original call that now allows us to call `backward` on `loss`. This chain of function calls represents the mathematical composition of functions, which enables PyTorch to use calculus's chain rule under the hood to calculate these gradients."
   ]
  },
  {
   "cell_type": "markdown",
   "metadata": {},
   "source": [
    "Let's see if the loss has improved:"
   ]
  },
  {
   "cell_type": "code",
   "execution_count": 73,
   "metadata": {},
   "outputs": [
    {
     "data": {
      "text/plain": [
       "tensor(626.3113, grad_fn=<SqrtBackward>)"
      ]
     },
     "execution_count": 73,
     "metadata": {},
     "output_type": "execute_result"
    }
   ],
   "source": [
    "preds = f(time,params)\n",
    "mse(preds, speed)"
   ]
  },
  {
   "cell_type": "markdown",
   "metadata": {},
   "source": [
    "And take a look at the plot:"
   ]
  },
  {
   "cell_type": "code",
   "execution_count": 74,
   "metadata": {},
   "outputs": [
    {
     "data": {
      "image/png": "[encoded data removed]",
      "text/plain": [
       "<Figure size 432x288 with 1 Axes>"
      ]
     },
     "metadata": {
      "needs_background": "light"
     },
     "output_type": "display_data"
    }
   ],
   "source": [
    "show_preds(preds)"
   ]
  },
  {
   "cell_type": "markdown",
   "metadata": {},
   "source": [
    "We need to repeat this a few times, so we'll create a function to apply one step:"
   ]
  },
  {
   "cell_type": "code",
   "execution_count": 75,
   "metadata": {},
   "outputs": [],
   "source": [
    "def apply_step(params, prn=True):\n",
    "    preds = f(time, params)\n",
    "    loss = mse(preds, speed)\n",
    "    loss.backward()\n",
    "    params.data -= lr * params.grad.data\n",
    "    params.grad = None\n",
    "    if prn: print(loss.item())\n",
    "    return preds"
   ]
  },
  {
   "cell_type": "markdown",
   "metadata": {},
   "source": [
    "#### Step 6: Repeat the process "
   ]
  },
  {
   "cell_type": "markdown",
   "metadata": {},
   "source": [
    "Now we iterate. By looping and performing many improvements, we hope to reach a good result:"
   ]
  },
  {
   "cell_type": "code",
   "execution_count": 76,
   "metadata": {},
   "outputs": [
    {
     "name": "stdout",
     "output_type": "stream",
     "text": [
      "626.3113403320312\n",
      "626.029296875\n",
      "625.7472534179688\n",
      "625.4652709960938\n",
      "625.1832275390625\n",
      "624.9012451171875\n",
      "624.6192626953125\n",
      "624.337158203125\n",
      "624.05517578125\n",
      "623.7731323242188\n"
     ]
    }
   ],
   "source": [
    "for i in range(10): apply_step(params)"
   ]
  },
  {
   "cell_type": "markdown",
   "metadata": {},
   "source": [
    "# OPOPOPOP!!!!"
   ]
  },
  {
   "cell_type": "code",
   "execution_count": 77,
   "metadata": {},
   "outputs": [],
   "source": [
    "#hide\n",
    "params = orig_params.detach().requires_grad_()"
   ]
  },
  {
   "cell_type": "markdown",
   "metadata": {},
   "source": [
    "**The loss is going down, just as we hoped! But looking only at these loss numbers disguises the fact that each iteration represents an entirely different quadratic function being tried, on the way to finding the best possible quadratic function. We can see this process visually if, instead of printing out the loss function, we plot the function at every step. Then we can see how the shape is approaching the best possible quadratic function for our data:**"
   ]
  },
  {
   "cell_type": "code",
   "execution_count": 78,
   "metadata": {},
   "outputs": [
    {
     "data": {
      "image/png": "[encoded data removed]",
      "text/plain": [
       "<Figure size 864x216 with 4 Axes>"
      ]
     },
     "metadata": {
      "needs_background": "light"
     },
     "output_type": "display_data"
    }
   ],
   "source": [
    "_,axs = plt.subplots(1,4,figsize=(12,3))\n",
    "for ax in axs: show_preds(apply_step(params, False), ax)\n",
    "plt.tight_layout()"
   ]
  },
  {
   "cell_type": "markdown",
   "metadata": {},
   "source": [
    "#### Step 7: stop"
   ]
  },
  {
   "cell_type": "markdown",
   "metadata": {},
   "source": [
    "We just decided to stop after 10 epochs arbitrarily. In practice, we would watch the training and validation losses and our metrics to decide when to stop, as we've discussed."
   ]
  },
  {
   "cell_type": "markdown",
   "metadata": {},
   "source": [
    "### Summarizing Gradient Descent"
   ]
  },
  {
   "cell_type": "code",
   "execution_count": 79,
   "metadata": {
    "hide_input": false
   },
   "outputs": [
    {
     "data": {
      "image/svg+xml": [
       "<?xml version=\"1.0\" encoding=\"UTF-8\" standalone=\"no\"?>\n",
       "<!DOCTYPE svg PUBLIC \"-//W3C//DTD SVG 1.1//EN\"\n",
       " \"http://www.w3.org/Graphics/SVG/1.1/DTD/svg11.dtd\">\n",
       "<!-- Generated by graphviz version 2.42.3 (20191010.1750)\n",
       " -->\n",
       "<!-- Title: G Pages: 1 -->\n",
       "<svg width=\"661pt\" height=\"78pt\"\n",
       " viewBox=\"0.00 0.00 660.87 78.00\" xmlns=\"http://www.w3.org/2000/svg\" xmlns:xlink=\"http://www.w3.org/1999/xlink\">\n",
       "<g id=\"graph0\" class=\"graph\" transform=\"scale(1 1) rotate(0) translate(4 74)\">\n",
       "<title>G</title>\n",
       "<polygon fill=\"white\" stroke=\"transparent\" points=\"-4,4 -4,-74 656.87,-74 656.87,4 -4,4\"/>\n",
       "<!-- init -->\n",
       "<g id=\"node1\" class=\"node\">\n",
       "<title>init</title>\n",
       "<ellipse fill=\"none\" stroke=\"black\" cx=\"27\" cy=\"-18\" rx=\"27\" ry=\"18\"/>\n",
       "<text text-anchor=\"middle\" x=\"27\" y=\"-14.3\" font-family=\"Times,serif\" font-size=\"14.00\">init</text>\n",
       "</g>\n",
       "<!-- predict -->\n",
       "<g id=\"node2\" class=\"node\">\n",
       "<title>predict</title>\n",
       "<ellipse fill=\"none\" stroke=\"black\" cx=\"135.2\" cy=\"-18\" rx=\"44.39\" ry=\"18\"/>\n",
       "<text text-anchor=\"middle\" x=\"135.2\" y=\"-14.3\" font-family=\"Times,serif\" font-size=\"14.00\">predict</text>\n",
       "</g>\n",
       "<!-- init&#45;&gt;predict -->\n",
       "<g id=\"edge1\" class=\"edge\">\n",
       "<title>init&#45;&gt;predict</title>\n",
       "<path fill=\"none\" stroke=\"black\" d=\"M54.25,-18C62.37,-18 71.63,-18 80.89,-18\"/>\n",
       "<polygon fill=\"black\" stroke=\"black\" points=\"80.89,-21.5 90.89,-18 80.89,-14.5 80.89,-21.5\"/>\n",
       "</g>\n",
       "<!-- loss -->\n",
       "<g id=\"node3\" class=\"node\">\n",
       "<title>loss</title>\n",
       "<ellipse fill=\"none\" stroke=\"black\" cx=\"244.99\" cy=\"-52\" rx=\"28.7\" ry=\"18\"/>\n",
       "<text text-anchor=\"middle\" x=\"244.99\" y=\"-48.3\" font-family=\"Times,serif\" font-size=\"14.00\">loss</text>\n",
       "</g>\n",
       "<!-- predict&#45;&gt;loss -->\n",
       "<g id=\"edge2\" class=\"edge\">\n",
       "<title>predict&#45;&gt;loss</title>\n",
       "<path fill=\"none\" stroke=\"black\" d=\"M170.6,-28.85C183.05,-32.78 197.09,-37.21 209.54,-41.14\"/>\n",
       "<polygon fill=\"black\" stroke=\"black\" points=\"208.53,-44.49 219.12,-44.16 210.64,-37.81 208.53,-44.49\"/>\n",
       "</g>\n",
       "<!-- gradient -->\n",
       "<g id=\"node4\" class=\"node\">\n",
       "<title>gradient</title>\n",
       "<ellipse fill=\"none\" stroke=\"black\" cx=\"406.63\" cy=\"-52\" rx=\"50.09\" ry=\"18\"/>\n",
       "<text text-anchor=\"middle\" x=\"406.63\" y=\"-48.3\" font-family=\"Times,serif\" font-size=\"14.00\">gradient</text>\n",
       "</g>\n",
       "<!-- loss&#45;&gt;gradient -->\n",
       "<g id=\"edge3\" class=\"edge\">\n",
       "<title>loss&#45;&gt;gradient</title>\n",
       "<path fill=\"none\" stroke=\"black\" d=\"M273.8,-52C293.82,-52 321.57,-52 346.45,-52\"/>\n",
       "<polygon fill=\"black\" stroke=\"black\" points=\"346.55,-55.5 356.55,-52 346.55,-48.5 346.55,-55.5\"/>\n",
       "</g>\n",
       "<!-- step -->\n",
       "<g id=\"node5\" class=\"node\">\n",
       "<title>step</title>\n",
       "<ellipse fill=\"none\" stroke=\"black\" cx=\"524.23\" cy=\"-18\" rx=\"30.59\" ry=\"18\"/>\n",
       "<text text-anchor=\"middle\" x=\"524.23\" y=\"-14.3\" font-family=\"Times,serif\" font-size=\"14.00\">step</text>\n",
       "</g>\n",
       "<!-- gradient&#45;&gt;step -->\n",
       "<g id=\"edge4\" class=\"edge\">\n",
       "<title>gradient&#45;&gt;step</title>\n",
       "<path fill=\"none\" stroke=\"black\" d=\"M445.8,-40.77C459.01,-36.89 473.76,-32.55 486.82,-28.71\"/>\n",
       "<polygon fill=\"black\" stroke=\"black\" points=\"487.82,-32.06 496.43,-25.88 485.85,-25.35 487.82,-32.06\"/>\n",
       "</g>\n",
       "<!-- step&#45;&gt;predict -->\n",
       "<g id=\"edge6\" class=\"edge\">\n",
       "<title>step&#45;&gt;predict</title>\n",
       "<path fill=\"none\" stroke=\"black\" d=\"M493.68,-18C428.65,-18 272.39,-18 189.67,-18\"/>\n",
       "<polygon fill=\"black\" stroke=\"black\" points=\"189.47,-14.5 179.47,-18 189.47,-21.5 189.47,-14.5\"/>\n",
       "<text text-anchor=\"middle\" x=\"315.09\" y=\"-21.8\" font-family=\"Times,serif\" font-size=\"14.00\">repeat</text>\n",
       "</g>\n",
       "<!-- stop -->\n",
       "<g id=\"node6\" class=\"node\">\n",
       "<title>stop</title>\n",
       "<ellipse fill=\"none\" stroke=\"black\" cx=\"622.32\" cy=\"-18\" rx=\"30.59\" ry=\"18\"/>\n",
       "<text text-anchor=\"middle\" x=\"622.32\" y=\"-14.3\" font-family=\"Times,serif\" font-size=\"14.00\">stop</text>\n",
       "</g>\n",
       "<!-- step&#45;&gt;stop -->\n",
       "<g id=\"edge5\" class=\"edge\">\n",
       "<title>step&#45;&gt;stop</title>\n",
       "<path fill=\"none\" stroke=\"black\" d=\"M554.84,-18C563.24,-18 572.53,-18 581.44,-18\"/>\n",
       "<polygon fill=\"black\" stroke=\"black\" points=\"581.64,-21.5 591.64,-18 581.64,-14.5 581.64,-21.5\"/>\n",
       "</g>\n",
       "</g>\n",
       "</svg>\n"
      ],
      "text/plain": [
       "<graphviz.files.Source at 0x7f7ed8978760>"
      ]
     },
     "execution_count": 79,
     "metadata": {},
     "output_type": "execute_result"
    }
   ],
   "source": [
    "#hide_input\n",
    "#id gradient_descent\n",
    "#caption The gradient descent process\n",
    "#alt Graph showing the steps for Gradient Descent\n",
    "gv('''\n",
    "init->predict->loss->gradient->step->stop\n",
    "step->predict[label=repeat]\n",
    "''')"
   ]
  },
  {
   "cell_type": "markdown",
   "metadata": {},
   "source": [
    "# To summarize, this is literally the summary\n",
    "at the beginning, the weights of our model can be random (training *from scratch*) or come from a pretrained model (*transfer learning*). In the first case, the **output we will get from our inputs won't have anything to do with what we want, and even in the second case, it's very likely the pretrained model won't be very good at the specific task we are targeting. So the model will need to *learn* better weights.**\n",
    "\n",
    "We begin by comparing the outputs the model gives us with our targets (we have labeled data, so we know what result the model should give) using a *loss function*, which returns a number that we want to make as low as possible by improving our weights. To do this, we take a few data items (such as images) from the training set and feed them to our model. We compare the corresponding targets using our loss function, and the score we get tells us how wrong our predictions were. We then change the weights a little bit to make it slightly better.\n",
    "\n",
    "To find how to change the weights to make the loss a bit better, we use calculus to calculate the *gradients*. (Actually, we let PyTorch do it for us!) Let's consider an analogy. Imagine you are lost in the mountains with your car parked at the lowest point. To find your way back to it, you might wander in a random direction, but that probably wouldn't help much. Since you know your vehicle is at the lowest point, you would be better off going downhill. By always taking a step in the direction of the steepest downward slope, you should eventually arrive at your destination. We use the magnitude of the gradient (i.e., the steepness of the slope) to tell us how big a step to take; specifically, we multiply the gradient by a number we choose called the *learning rate* to decide on the step size. We then *iterate* until we have reached the lowest point, which will be our parking lot, then we can *stop*.\n",
    "\n",
    "**All of that we just saw can be transposed directly to the MNIST dataset, except for the loss function. Let's now see how we can define a good training objective.**"
   ]
  },
  {
   "cell_type": "markdown",
   "metadata": {},
   "source": [
    "## The MNIST Loss Function"
   ]
  },
  {
   "cell_type": "markdown",
   "metadata": {},
   "source": [
    "We already have our **independent variables `x`—these are the images themselves.** **We'll concatenate them all into a single tensor, and also change them from a list of matrices (a rank-3 tensor) to a list of vectors (a rank-2 tensor). We can do this using `view`, which is a PyTorch method that changes the shape of a tensor without changing its contents. `-1` is a special parameter to `view` that means \"make this axis as big as necessary to fit all the data\":**"
   ]
  },
  {
   "cell_type": "code",
   "execution_count": 80,
   "metadata": {},
   "outputs": [
    {
     "data": {
      "text/plain": [
       "(torch.Size([6131, 28, 28]), torch.Size([6265, 28, 28]))"
      ]
     },
     "execution_count": 80,
     "metadata": {},
     "output_type": "execute_result"
    }
   ],
   "source": [
    "stacked_threes.shape, stacked_sevens.shape"
   ]
  },
  {
   "cell_type": "code",
   "execution_count": 81,
   "metadata": {},
   "outputs": [
    {
     "data": {
      "text/plain": [
       "torch.Size([12396, 28, 28])"
      ]
     },
     "execution_count": 81,
     "metadata": {},
     "output_type": "execute_result"
    }
   ],
   "source": [
    "torch.cat([stacked_threes, stacked_sevens]).shape"
   ]
  },
  {
   "cell_type": "code",
   "execution_count": 82,
   "metadata": {},
   "outputs": [
    {
     "data": {
      "text/plain": [
       "torch.Size([12396, 784])"
      ]
     },
     "execution_count": 82,
     "metadata": {},
     "output_type": "execute_result"
    }
   ],
   "source": [
    "train_x = torch.cat([stacked_threes, stacked_sevens]).view(-1, 28*28)\n",
    "train_x.shape"
   ]
  },
  {
   "cell_type": "markdown",
   "metadata": {},
   "source": [
    "#### something like making bottom row as col1, then col2...\n",
    "-- and so on... --\n",
    "\n",
    "-- row3 = image3 with 784 pixels --\n",
    "\n",
    "-- row2 = image2 with 784 pixels --\n",
    "\n",
    "-- row1 = image1 with 784 pixels --"
   ]
  },
  {
   "cell_type": "markdown",
   "metadata": {},
   "source": [
    "We need a label for each image. We'll use `1` for 3s and `0` for 7s:"
   ]
  },
  {
   "cell_type": "markdown",
   "metadata": {},
   "source": [
    "#### this train_y is sort of sorted no, since it has 1s (so many times) followed by 0s (so many times).\n",
    "#### same order as train_x, kyuki  waha bhi stacked three and stacked sevens rakhe hai order me"
   ]
  },
  {
   "cell_type": "markdown",
   "metadata": {},
   "source": [
    "### unsqueeze adds the extra dimension 1 to it"
   ]
  },
  {
   "cell_type": "code",
   "execution_count": 83,
   "metadata": {},
   "outputs": [
    {
     "data": {
      "text/plain": [
       "(#5) [Path('MNIST_Basics_Data/mnist_sample/train/7/10002.png'),Path('MNIST_Basics_Data/mnist_sample/train/7/1001.png'),Path('MNIST_Basics_Data/mnist_sample/train/7/10014.png'),Path('MNIST_Basics_Data/mnist_sample/train/7/10019.png'),Path('MNIST_Basics_Data/mnist_sample/train/7/10039.png')]"
      ]
     },
     "execution_count": 83,
     "metadata": {},
     "output_type": "execute_result"
    }
   ],
   "source": [
    "sevens[:5]"
   ]
  },
  {
   "cell_type": "code",
   "execution_count": 84,
   "metadata": {},
   "outputs": [
    {
     "data": {
      "text/plain": [
       "(torch.Size([12396, 784]), torch.Size([12396, 1]))"
      ]
     },
     "execution_count": 84,
     "metadata": {},
     "output_type": "execute_result"
    }
   ],
   "source": [
    "train_y = tensor([1]*len(threes) + [0]*len(sevens)).unsqueeze(1)\n",
    "# train_y = tensor([1]*len(threes) + [0]*len(sevens)) #torch.Size([12396])\n",
    "train_x.shape,train_y.shape"
   ]
  },
  {
   "cell_type": "markdown",
   "metadata": {},
   "source": [
    "A `Dataset` in PyTorch is required to return a tuple of `(x,y)` when indexed. Python provides a `zip` function which, when combined with `list`, provides a simple way to get this functionality:"
   ]
  },
  {
   "cell_type": "markdown",
   "metadata": {},
   "source": [
    "# remember ki dset kaise dikhta hai!!"
   ]
  },
  {
   "cell_type": "code",
   "execution_count": 85,
   "metadata": {},
   "outputs": [
    {
     "data": {
      "text/plain": [
       "(tensor([0.0000, 0.0000, 0.0000, 0.0000, 0.0000, 0.0000, 0.0000, 0.0000, 0.0000, 0.0000, 0.0000, 0.0000, 0.0000, 0.0000, 0.0000, 0.0000, 0.0000, 0.0000, 0.0000, 0.0000, 0.0000, 0.0000, 0.0000, 0.0000,\n",
       "         0.0000, 0.0000, 0.0000, 0.0000, 0.0000, 0.0000, 0.0000, 0.0000, 0.0000, 0.0000, 0.0000, 0.0000, 0.0000, 0.0000, 0.0000, 0.0000, 0.0000, 0.0000, 0.0000, 0.0000, 0.0000, 0.0000, 0.0000, 0.0000,\n",
       "         0.0000, 0.0000, 0.0000, 0.0000, 0.0000, 0.0000, 0.0000, 0.0000, 0.0000, 0.0000, 0.0000, 0.0000, 0.0000, 0.0000, 0.0000, 0.0000, 0.0000, 0.0000, 0.0000, 0.0000, 0.0000, 0.0000, 0.0000, 0.0000,\n",
       "         0.0000, 0.0000, 0.0000, 0.0000, 0.0000, 0.0000, 0.0000, 0.0000, 0.0000, 0.0000, 0.0000, 0.0000, 0.0000, 0.0000, 0.0000, 0.0000, 0.0000, 0.0000, 0.0000, 0.0000, 0.0000, 0.0000, 0.0000, 0.0000,\n",
       "         0.0000, 0.0000, 0.0000, 0.0000, 0.0000, 0.0000, 0.0000, 0.0000, 0.0000, 0.0000, 0.0000, 0.0000, 0.0000, 0.0000, 0.0000, 0.0000, 0.0000, 0.0000, 0.0000, 0.0000, 0.0000, 0.0000, 0.0000, 0.0000,\n",
       "         0.0000, 0.0000, 0.0000, 0.1647, 0.4627, 0.8588, 0.6510, 0.4627, 0.4627, 0.0235, 0.0000, 0.0000, 0.0000, 0.0000, 0.0000, 0.0000, 0.0000, 0.0000, 0.0000, 0.0000, 0.0000, 0.0000, 0.0000, 0.0000,\n",
       "         0.0000, 0.0000, 0.0000, 0.0000, 0.0000, 0.0000, 0.4039, 0.9490, 0.9961, 0.9961, 0.9961, 0.9961, 0.9961, 0.2588, 0.0000, 0.0000, 0.0000, 0.0000, 0.0000, 0.0000, 0.0000, 0.0000, 0.0000, 0.0000,\n",
       "         0.0000, 0.0000, 0.0000, 0.0000, 0.0000, 0.0000, 0.0000, 0.0000, 0.0000, 0.0000, 0.0706, 0.9098, 0.9961, 0.9961, 0.9961, 0.9961, 0.9961, 0.9333, 0.2745, 0.0000, 0.0000, 0.0000, 0.0000, 0.0000,\n",
       "         0.0000, 0.0000, 0.0000, 0.0000, 0.0000, 0.0000, 0.0000, 0.0000, 0.0000, 0.0000, 0.0000, 0.0000, 0.0000, 0.0000, 0.0000, 0.4078, 0.9569, 0.9961, 0.8784, 0.9961, 0.9961, 0.9961, 0.5529, 0.0000,\n",
       "         0.0000, 0.0000, 0.0000, 0.0000, 0.0000, 0.0000, 0.0000, 0.0000, 0.0000, 0.0000, 0.0000, 0.0000, 0.0000, 0.0000, 0.0000, 0.0000, 0.0000, 0.0000, 0.0000, 0.0000, 0.8118, 0.9961, 0.8235, 0.9961,\n",
       "         0.9961, 0.9961, 0.1333, 0.0000, 0.0000, 0.0000, 0.0000, 0.0000, 0.0000, 0.0000, 0.0000, 0.0000, 0.0000, 0.0000, 0.0000, 0.0000, 0.0000, 0.0000, 0.0000, 0.0000, 0.0000, 0.0000, 0.0000, 0.0000,\n",
       "         0.3294, 0.8078, 0.9961, 0.9961, 0.9961, 0.9961, 0.1608, 0.0000, 0.0000, 0.0000, 0.0000, 0.0000, 0.0000, 0.0000, 0.0000, 0.0000, 0.0000, 0.0000, 0.0000, 0.0000, 0.0000, 0.0000, 0.0000, 0.0000,\n",
       "         0.0000, 0.0000, 0.0000, 0.0000, 0.0000, 0.0941, 0.8196, 0.9961, 0.9961, 0.9961, 0.6706, 0.0000, 0.0000, 0.0000, 0.0000, 0.0000, 0.0000, 0.0000, 0.0000, 0.0000, 0.0000, 0.0000, 0.0000, 0.0000,\n",
       "         0.0000, 0.0000, 0.0000, 0.0000, 0.0000, 0.0000, 0.0000, 0.0000, 0.3569, 0.5373, 0.9922, 0.9961, 0.9961, 0.9961, 0.4392, 0.0000, 0.0000, 0.0000, 0.0000, 0.0000, 0.0000, 0.0000, 0.0000, 0.0000,\n",
       "         0.0000, 0.0000, 0.0000, 0.0000, 0.0000, 0.0000, 0.0000, 0.0000, 0.0000, 0.0000, 0.1569, 0.8392, 0.9804, 0.9961, 0.9961, 0.9961, 0.9961, 0.9961, 0.1333, 0.0000, 0.0000, 0.0000, 0.0000, 0.0000,\n",
       "         0.0000, 0.0000, 0.0000, 0.0000, 0.0000, 0.0000, 0.0000, 0.0000, 0.0000, 0.0000, 0.0000, 0.0000, 0.0000, 0.0000, 0.3176, 0.9686, 0.9961, 0.9961, 0.9961, 0.9961, 0.9961, 0.9961, 0.5725, 0.0000,\n",
       "         0.0000, 0.0000, 0.0000, 0.0000, 0.0000, 0.0000, 0.0000, 0.0000, 0.0000, 0.0000, 0.0000, 0.0000, 0.0000, 0.0000, 0.0000, 0.0000, 0.0000, 0.0000, 0.0000, 0.4314, 0.9647, 0.9961, 0.9961, 0.9961,\n",
       "         0.9961, 0.9961, 0.6706, 0.0000, 0.0000, 0.0000, 0.0000, 0.0000, 0.0000, 0.0000, 0.0000, 0.0000, 0.0000, 0.0000, 0.0000, 0.0000, 0.0000, 0.0000, 0.0000, 0.0000, 0.0000, 0.0000, 0.0000, 0.0000,\n",
       "         0.2863, 0.3490, 0.3490, 0.3647, 0.9412, 0.9961, 0.6706, 0.0000, 0.0000, 0.0000, 0.0000, 0.0000, 0.0000, 0.0000, 0.0000, 0.0000, 0.0000, 0.0000, 0.0000, 0.0000, 0.0000, 0.0000, 0.0000, 0.0000,\n",
       "         0.0000, 0.0000, 0.0000, 0.0000, 0.0000, 0.0000, 0.0000, 0.0039, 0.5020, 0.9961, 0.8588, 0.1216, 0.0000, 0.0000, 0.0000, 0.0000, 0.0000, 0.0000, 0.0000, 0.0000, 0.0000, 0.0000, 0.0000, 0.0000,\n",
       "         0.0000, 0.0000, 0.0000, 0.0000, 0.0000, 0.0000, 0.0000, 0.0000, 0.0000, 0.0000, 0.0000, 0.0275, 0.9961, 0.9961, 0.8392, 0.1098, 0.0000, 0.0000, 0.0000, 0.0000, 0.0000, 0.0000, 0.0000, 0.0000,\n",
       "         0.0000, 0.0000, 0.0000, 0.0000, 0.0000, 0.0000, 0.0000, 0.0000, 0.0000, 0.0000, 0.0000, 0.0000, 0.0000, 0.0000, 0.0000, 0.5412, 0.9961, 0.9961, 0.4549, 0.0000, 0.0000, 0.0000, 0.0000, 0.0000,\n",
       "         0.0000, 0.0000, 0.0000, 0.0000, 0.0000, 0.0000, 0.0000, 0.0000, 0.0000, 0.0000, 0.0745, 0.6941, 0.3529, 0.0000, 0.0000, 0.0000, 0.0000, 0.0000, 0.0980, 0.9412, 0.9961, 0.9961, 0.1333, 0.0000,\n",
       "         0.0000, 0.0000, 0.0000, 0.0000, 0.0000, 0.0000, 0.0000, 0.0000, 0.0000, 0.0000, 0.0000, 0.0000, 0.0000, 0.0000, 0.6431, 0.9961, 0.8431, 0.2471, 0.1412, 0.0000, 0.2000, 0.3490, 0.8078, 0.9961,\n",
       "         0.9961, 0.5451, 0.0314, 0.0000, 0.0000, 0.0000, 0.0000, 0.0000, 0.0000, 0.0000, 0.0000, 0.0000, 0.0000, 0.0000, 0.0000, 0.0000, 0.0000, 0.0000, 0.2235, 0.7725, 0.9961, 0.9961, 0.8706, 0.7059,\n",
       "         0.9451, 0.9961, 0.9961, 0.9922, 0.8353, 0.0431, 0.0000, 0.0000, 0.0000, 0.0000, 0.0000, 0.0000, 0.0000, 0.0000, 0.0000, 0.0000, 0.0000, 0.0000, 0.0000, 0.0000, 0.0000, 0.0000, 0.0000, 0.5490,\n",
       "         0.4118, 0.9961, 0.9961, 0.9961, 0.9961, 0.9961, 0.9961, 0.9255, 0.0000, 0.0000, 0.0000, 0.0000, 0.0000, 0.0000, 0.0000, 0.0000, 0.0000, 0.0000, 0.0000, 0.0000, 0.0000, 0.0000, 0.0000, 0.0000,\n",
       "         0.0000, 0.0000, 0.0000, 0.0000, 0.0275, 0.4588, 0.4588, 0.6471, 0.9961, 0.9961, 0.9373, 0.1961, 0.0000, 0.0000, 0.0000, 0.0000, 0.0000, 0.0000, 0.0000, 0.0000, 0.0000, 0.0000, 0.0000, 0.0000,\n",
       "         0.0000, 0.0000, 0.0000, 0.0000, 0.0000, 0.0000, 0.0000, 0.0000, 0.0000, 0.0000, 0.0000, 0.0000, 0.0000, 0.0000, 0.0000, 0.0000, 0.0000, 0.0000, 0.0000, 0.0000, 0.0000, 0.0000, 0.0000, 0.0000,\n",
       "         0.0000, 0.0000, 0.0000, 0.0000, 0.0000, 0.0000, 0.0000, 0.0000, 0.0000, 0.0000, 0.0000, 0.0000, 0.0000, 0.0000, 0.0000, 0.0000, 0.0000, 0.0000, 0.0000, 0.0000, 0.0000, 0.0000, 0.0000, 0.0000,\n",
       "         0.0000, 0.0000, 0.0000, 0.0000, 0.0000, 0.0000, 0.0000, 0.0000, 0.0000, 0.0000, 0.0000, 0.0000, 0.0000, 0.0000, 0.0000, 0.0000, 0.0000, 0.0000, 0.0000, 0.0000, 0.0000, 0.0000, 0.0000, 0.0000,\n",
       "         0.0000, 0.0000, 0.0000, 0.0000, 0.0000, 0.0000, 0.0000, 0.0000, 0.0000, 0.0000, 0.0000, 0.0000, 0.0000, 0.0000, 0.0000, 0.0000, 0.0000, 0.0000, 0.0000, 0.0000, 0.0000, 0.0000, 0.0000, 0.0000,\n",
       "         0.0000, 0.0000, 0.0000, 0.0000, 0.0000, 0.0000, 0.0000, 0.0000, 0.0000, 0.0000, 0.0000, 0.0000, 0.0000, 0.0000, 0.0000, 0.0000]),\n",
       " tensor([1]),\n",
       " torch.Size([784]),\n",
       " torch.Size([1]))"
      ]
     },
     "execution_count": 85,
     "metadata": {},
     "output_type": "execute_result"
    }
   ],
   "source": [
    "dset = list(zip(train_x,train_y))\n",
    "# dset is like \n",
    "# [  (tensor([0.0000, 0.000, .... ]), tensor([1])) , \n",
    "#    (                                           ) , ...]\n",
    "# print(dset[:2])\n",
    "x,y = dset[0]\n",
    "x, y, x.shape, y.shape, "
   ]
  },
  {
   "cell_type": "code",
   "execution_count": 86,
   "metadata": {},
   "outputs": [],
   "source": [
    "valid_x = torch.cat([valid_3_tens, valid_7_tens]).view(-1, 28*28)\n",
    "valid_y = tensor([1]*len(valid_3_tens) + [0]*len(valid_7_tens)).unsqueeze(1)\n",
    "valid_dset = list(zip(valid_x,valid_y))"
   ]
  },
  {
   "cell_type": "markdown",
   "metadata": {},
   "source": [
    "Now we need an (initially random) weight for every pixel (this is the *initialize* step in our seven-step process):"
   ]
  },
  {
   "cell_type": "code",
   "execution_count": 87,
   "metadata": {},
   "outputs": [],
   "source": [
    "def init_params(size, std=1.0): return (torch.randn(size)*std).requires_grad_()"
   ]
  },
  {
   "cell_type": "code",
   "execution_count": 88,
   "metadata": {},
   "outputs": [
    {
     "data": {
      "text/plain": [
       "tensor([[ 7.2618e-01],\n",
       "        [ 9.1152e-02],\n",
       "        [-3.8907e-01],\n",
       "        [ 5.2792e-01],\n",
       "        [ 1.0311e+00],\n",
       "        [-7.0477e-01],\n",
       "        [ 1.0131e+00],\n",
       "        [-3.3082e-01],\n",
       "        [ 1.0950e+00],\n",
       "        [ 3.3989e-01],\n",
       "        [ 7.1997e-01],\n",
       "        [ 4.1141e-01],\n",
       "        [-5.7332e-01],\n",
       "        [ 5.0686e-01],\n",
       "        [-4.7521e-01],\n",
       "        [-4.9203e-01],\n",
       "        [-1.3603e-01],\n",
       "        [ 1.6354e+00],\n",
       "        [ 6.5474e-01],\n",
       "        [ 5.7600e-01],\n",
       "        [-3.6091e-01],\n",
       "        [-6.0590e-02],\n",
       "        [ 7.3255e-02],\n",
       "        [ 8.1865e-01],\n",
       "        [-3.7534e-01],\n",
       "        [ 1.0331e+00],\n",
       "        [-6.8665e-01],\n",
       "        [ 6.3681e-01],\n",
       "        [ 2.1755e-01],\n",
       "        [-4.6655e-02],\n",
       "        [-1.4335e+00],\n",
       "        [-5.6653e-01],\n",
       "        [ 2.6948e-01],\n",
       "        [-2.1038e-01],\n",
       "        [-7.3280e-01],\n",
       "        [ 1.0430e-01],\n",
       "        [ 1.0414e+00],\n",
       "        [-3.9973e-01],\n",
       "        [-2.2933e+00],\n",
       "        [ 4.9756e-01],\n",
       "        [-2.4801e+00],\n",
       "        [-4.1754e-01],\n",
       "        [-1.1955e+00],\n",
       "        [ 8.1234e-01],\n",
       "        [-3.0628e-01],\n",
       "        [-3.3016e-01],\n",
       "        [-9.8080e-01],\n",
       "        [ 1.9473e-01],\n",
       "        [ 2.8683e-01],\n",
       "        [-7.3084e-01],\n",
       "        [ 1.7482e-01],\n",
       "        [-1.0939e+00],\n",
       "        [ 9.6334e-01],\n",
       "        [-3.0953e-01],\n",
       "        [ 5.7120e-01],\n",
       "        [ 1.1179e+00],\n",
       "        [-1.5469e+00],\n",
       "        [ 7.5671e-01],\n",
       "        [ 7.7552e-01],\n",
       "        [ 2.0265e+00],\n",
       "        [ 9.8121e-01],\n",
       "        [-6.4012e-01],\n",
       "        [-4.9084e-01],\n",
       "        [ 2.0801e-01],\n",
       "        [-9.3195e-01],\n",
       "        [-1.5910e+00],\n",
       "        [-1.1360e+00],\n",
       "        [-5.2260e-01],\n",
       "        [ 7.1654e-01],\n",
       "        [ 1.5335e+00],\n",
       "        [-1.4510e+00],\n",
       "        [-7.8614e-01],\n",
       "        [ 1.0229e+00],\n",
       "        [-5.5580e-01],\n",
       "        [ 7.0427e-01],\n",
       "        [ 7.0988e-01],\n",
       "        [-1.5326e+00],\n",
       "        [-7.2513e-01],\n",
       "        [ 4.6640e-01],\n",
       "        [ 6.6672e-01],\n",
       "        [-1.1753e+00],\n",
       "        [ 3.5806e-01],\n",
       "        [ 4.7877e-01],\n",
       "        [ 1.3537e+00],\n",
       "        [-1.5933e-01],\n",
       "        [-4.2494e-01],\n",
       "        [ 9.4423e-01],\n",
       "        [-1.8493e-01],\n",
       "        [ 1.8516e-01],\n",
       "        [ 1.0687e+00],\n",
       "        [ 1.3065e+00],\n",
       "        [ 4.5983e-01],\n",
       "        [ 2.6178e-01],\n",
       "        [-7.5993e-01],\n",
       "        [-2.0461e+00],\n",
       "        [-1.5295e+00],\n",
       "        [ 1.5432e-01],\n",
       "        [ 4.4077e-01],\n",
       "        [-1.4829e-01],\n",
       "        [-2.3184e+00],\n",
       "        [ 1.3032e+00],\n",
       "        [ 4.8787e-01],\n",
       "        [ 1.1340e+00],\n",
       "        [-3.5556e-01],\n",
       "        [ 3.0943e-01],\n",
       "        [-5.0031e-01],\n",
       "        [ 1.0350e+00],\n",
       "        [ 1.6896e+00],\n",
       "        [ 2.1274e-02],\n",
       "        [-8.2927e-01],\n",
       "        [-1.0809e+00],\n",
       "        [-7.8385e-01],\n",
       "        [-5.7266e-01],\n",
       "        [ 8.3568e-02],\n",
       "        [ 3.9991e-01],\n",
       "        [ 1.9892e+00],\n",
       "        [-4.6113e-01],\n",
       "        [-6.3885e-02],\n",
       "        [-1.3667e+00],\n",
       "        [ 3.2982e-01],\n",
       "        [ 1.7623e-02],\n",
       "        [ 7.8226e-02],\n",
       "        [ 1.9316e-01],\n",
       "        [ 4.0967e-01],\n",
       "        [-1.5754e+00],\n",
       "        [ 2.2508e+00],\n",
       "        [ 1.0012e+00],\n",
       "        [ 1.3642e+00],\n",
       "        [-8.7189e-01],\n",
       "        [-2.7118e-02],\n",
       "        [-3.5325e-01],\n",
       "        [ 1.4639e+00],\n",
       "        [ 1.7290e-01],\n",
       "        [ 1.0514e+00],\n",
       "        [ 7.4915e-03],\n",
       "        [-7.7365e-02],\n",
       "        [ 5.3973e-01],\n",
       "        [ 5.6551e-01],\n",
       "        [ 5.0579e-01],\n",
       "        [ 2.2245e-01],\n",
       "        [-9.1432e-01],\n",
       "        [ 1.4840e+00],\n",
       "        [-9.1091e-01],\n",
       "        [-5.2910e-01],\n",
       "        [-1.4790e+00],\n",
       "        [ 4.3227e-01],\n",
       "        [-1.2503e-01],\n",
       "        [ 7.8212e-01],\n",
       "        [ 5.6351e-01],\n",
       "        [ 1.8582e+00],\n",
       "        [ 1.0441e+00],\n",
       "        [-8.6382e-01],\n",
       "        [ 1.3059e+00],\n",
       "        [ 2.4659e-01],\n",
       "        [-1.9776e+00],\n",
       "        [ 1.7896e-02],\n",
       "        [-1.4129e+00],\n",
       "        [-1.8791e+00],\n",
       "        [-1.7983e-01],\n",
       "        [ 7.9039e-01],\n",
       "        [-1.2219e-01],\n",
       "        [-7.4700e-01],\n",
       "        [ 1.7093e+00],\n",
       "        [ 5.7923e-02],\n",
       "        [ 8.6374e-01],\n",
       "        [-5.8900e-01],\n",
       "        [-1.0340e+00],\n",
       "        [-2.1787e-01],\n",
       "        [ 4.1459e-01],\n",
       "        [ 1.1566e+00],\n",
       "        [ 2.6905e-01],\n",
       "        [-3.6629e-02],\n",
       "        [-4.8076e-01],\n",
       "        [ 3.1630e-01],\n",
       "        [ 3.8657e-01],\n",
       "        [ 7.3369e-01],\n",
       "        [-3.1362e-01],\n",
       "        [-1.2925e-01],\n",
       "        [-7.1496e-01],\n",
       "        [-4.7562e-02],\n",
       "        [ 5.2296e-01],\n",
       "        [ 9.7173e-01],\n",
       "        [-2.7785e-01],\n",
       "        [-6.1160e-01],\n",
       "        [-3.1766e-02],\n",
       "        [ 1.0164e-01],\n",
       "        [ 1.3433e+00],\n",
       "        [ 7.1327e-01],\n",
       "        [ 3.4628e-01],\n",
       "        [-5.4016e-01],\n",
       "        [ 8.5686e-01],\n",
       "        [-6.7205e-01],\n",
       "        [ 4.5363e-01],\n",
       "        [ 1.2461e+00],\n",
       "        [-2.3065e+00],\n",
       "        [-1.2869e+00],\n",
       "        [ 2.1368e-01],\n",
       "        [-1.2351e+00],\n",
       "        [ 1.8592e+00],\n",
       "        [ 5.6125e-02],\n",
       "        [-7.6472e-01],\n",
       "        [-5.5283e-02],\n",
       "        [ 1.2049e+00],\n",
       "        [-9.8247e-01],\n",
       "        [ 3.0397e-01],\n",
       "        [ 9.3390e-01],\n",
       "        [-1.9726e+00],\n",
       "        [-1.4120e+00],\n",
       "        [ 4.6515e-01],\n",
       "        [ 3.7139e-01],\n",
       "        [-4.6568e-03],\n",
       "        [ 7.9549e-02],\n",
       "        [-4.5604e-01],\n",
       "        [-6.1913e-02],\n",
       "        [-2.2219e-01],\n",
       "        [-1.2470e+00],\n",
       "        [ 4.3514e-01],\n",
       "        [ 2.6589e-01],\n",
       "        [-5.8710e-01],\n",
       "        [ 8.2689e-02],\n",
       "        [ 1.8576e-01],\n",
       "        [-9.6980e-01],\n",
       "        [ 1.8932e+00],\n",
       "        [ 4.4469e-01],\n",
       "        [ 5.6667e-01],\n",
       "        [-7.0976e-01],\n",
       "        [-4.8751e-01],\n",
       "        [ 5.0096e-02],\n",
       "        [ 3.2731e-01],\n",
       "        [ 1.2922e-01],\n",
       "        [ 2.8520e+00],\n",
       "        [-7.4357e-01],\n",
       "        [ 9.4777e-01],\n",
       "        [-6.7663e-01],\n",
       "        [-5.7302e-01],\n",
       "        [-3.3032e-01],\n",
       "        [-3.0713e-01],\n",
       "        [-7.1550e-01],\n",
       "        [ 7.6167e-02],\n",
       "        [-2.1271e-01],\n",
       "        [-3.2025e-01],\n",
       "        [-8.4438e-01],\n",
       "        [-5.5135e-01],\n",
       "        [ 1.9890e+00],\n",
       "        [ 8.4787e-01],\n",
       "        [-6.9534e-01],\n",
       "        [ 3.0562e-01],\n",
       "        [ 2.9091e-01],\n",
       "        [-1.7735e+00],\n",
       "        [-7.0464e-01],\n",
       "        [-3.9465e-01],\n",
       "        [ 1.8868e+00],\n",
       "        [ 1.7868e-01],\n",
       "        [-3.8506e-02],\n",
       "        [-8.6883e-02],\n",
       "        [-1.1803e+00],\n",
       "        [ 3.4590e-01],\n",
       "        [ 6.4248e-01],\n",
       "        [-2.0395e-01],\n",
       "        [ 6.8537e-01],\n",
       "        [-1.3351e+00],\n",
       "        [ 1.6516e+00],\n",
       "        [ 1.9810e+00],\n",
       "        [-1.0479e-01],\n",
       "        [-5.9074e-01],\n",
       "        [ 8.5406e-01],\n",
       "        [-4.9007e-01],\n",
       "        [-3.5946e-01],\n",
       "        [-5.8936e-02],\n",
       "        [-4.8092e-01],\n",
       "        [ 9.9334e-01],\n",
       "        [ 2.6951e-01],\n",
       "        [ 1.4703e+00],\n",
       "        [-9.3909e-01],\n",
       "        [-6.0132e-01],\n",
       "        [-9.9640e-02],\n",
       "        [-1.2311e+00],\n",
       "        [ 8.6572e-01],\n",
       "        [-1.4236e+00],\n",
       "        [-6.9609e-01],\n",
       "        [ 9.8745e-01],\n",
       "        [-3.3197e-01],\n",
       "        [-8.0762e-01],\n",
       "        [ 8.2436e-01],\n",
       "        [ 1.4862e+00],\n",
       "        [-1.4091e+00],\n",
       "        [-3.6389e-01],\n",
       "        [-9.9332e-02],\n",
       "        [ 9.6236e-01],\n",
       "        [-1.4264e-01],\n",
       "        [ 1.5271e-01],\n",
       "        [-3.8802e-02],\n",
       "        [-2.1305e-01],\n",
       "        [-5.9036e-01],\n",
       "        [ 4.6679e-01],\n",
       "        [ 3.9561e-01],\n",
       "        [-1.4181e-01],\n",
       "        [-2.7634e-01],\n",
       "        [-1.9321e-01],\n",
       "        [ 7.7678e-01],\n",
       "        [ 7.2035e-01],\n",
       "        [-1.3358e+00],\n",
       "        [ 8.1080e-01],\n",
       "        [ 7.5460e-01],\n",
       "        [-4.7022e-01],\n",
       "        [-6.0864e-01],\n",
       "        [-4.6192e-02],\n",
       "        [-1.6457e+00],\n",
       "        [-6.9602e-01],\n",
       "        [ 2.3589e-01],\n",
       "        [ 8.2809e-01],\n",
       "        [ 1.1044e-01],\n",
       "        [ 1.0348e+00],\n",
       "        [-6.2644e-01],\n",
       "        [-5.1509e-01],\n",
       "        [ 6.9029e-01],\n",
       "        [ 2.0403e+00],\n",
       "        [-1.2979e+00],\n",
       "        [ 6.1607e-01],\n",
       "        [-2.5084e-01],\n",
       "        [ 8.4852e-01],\n",
       "        [-4.7891e-02],\n",
       "        [ 6.6856e-01],\n",
       "        [ 1.0430e+00],\n",
       "        [ 7.2045e-01],\n",
       "        [ 1.4701e+00],\n",
       "        [-1.1215e+00],\n",
       "        [ 2.1004e+00],\n",
       "        [-1.0319e-01],\n",
       "        [ 1.1895e+00],\n",
       "        [ 7.6069e-01],\n",
       "        [-7.4630e-01],\n",
       "        [-5.8236e-01],\n",
       "        [ 1.3500e+00],\n",
       "        [ 2.7785e-01],\n",
       "        [ 9.1604e-02],\n",
       "        [-4.2920e-01],\n",
       "        [-9.8180e-01],\n",
       "        [-6.4206e-01],\n",
       "        [ 8.2659e-01],\n",
       "        [-3.6460e-01],\n",
       "        [ 8.7162e-02],\n",
       "        [ 1.1225e+00],\n",
       "        [ 9.7974e-02],\n",
       "        [ 7.7151e-02],\n",
       "        [-9.2281e-01],\n",
       "        [-1.2620e+00],\n",
       "        [ 1.0861e+00],\n",
       "        [-8.7859e-01],\n",
       "        [ 2.5487e+00],\n",
       "        [ 6.5939e-01],\n",
       "        [ 6.7016e-01],\n",
       "        [ 1.6206e-01],\n",
       "        [ 1.1960e+00],\n",
       "        [-1.3062e+00],\n",
       "        [-1.4040e+00],\n",
       "        [ 9.5265e-02],\n",
       "        [-3.6589e-01],\n",
       "        [ 1.9605e-01],\n",
       "        [-1.5174e+00],\n",
       "        [ 2.8340e+00],\n",
       "        [ 1.9535e+00],\n",
       "        [ 2.0487e+00],\n",
       "        [-1.0880e+00],\n",
       "        [-2.0479e+00],\n",
       "        [ 1.0006e+00],\n",
       "        [ 6.8633e-01],\n",
       "        [-6.8454e-01],\n",
       "        [-5.0810e-01],\n",
       "        [-6.1849e-01],\n",
       "        [-1.6470e+00],\n",
       "        [-1.0362e+00],\n",
       "        [-9.7107e-01],\n",
       "        [ 2.8605e+00],\n",
       "        [-9.9410e-01],\n",
       "        [-3.5902e-01],\n",
       "        [-4.4875e-01],\n",
       "        [-3.0454e-02],\n",
       "        [ 3.8303e-01],\n",
       "        [-4.4770e-02],\n",
       "        [-2.3120e+00],\n",
       "        [-6.4156e-01],\n",
       "        [ 1.0530e+00],\n",
       "        [ 1.4495e+00],\n",
       "        [-7.5259e-01],\n",
       "        [-6.4723e-01],\n",
       "        [-1.2823e+00],\n",
       "        [ 1.9653e+00],\n",
       "        [-1.1766e+00],\n",
       "        [ 1.1889e+00],\n",
       "        [ 2.1555e-01],\n",
       "        [ 6.2646e-01],\n",
       "        [ 6.2145e-01],\n",
       "        [ 4.2319e-01],\n",
       "        [-3.3890e-01],\n",
       "        [ 5.1797e-01],\n",
       "        [-1.7459e+00],\n",
       "        [ 1.0964e+00],\n",
       "        [ 4.8656e-01],\n",
       "        [ 3.6682e-01],\n",
       "        [ 1.5102e+00],\n",
       "        [ 2.1230e-01],\n",
       "        [-7.2520e-01],\n",
       "        [-9.5277e-01],\n",
       "        [-8.4279e-01],\n",
       "        [-1.6413e+00],\n",
       "        [-7.1809e-01],\n",
       "        [-1.0896e-01],\n",
       "        [-1.7907e+00],\n",
       "        [ 9.3293e-02],\n",
       "        [-1.9153e+00],\n",
       "        [-6.4218e-01],\n",
       "        [-6.7525e-01],\n",
       "        [-8.1040e-01],\n",
       "        [-8.3296e-01],\n",
       "        [ 1.8296e+00],\n",
       "        [ 3.5332e-01],\n",
       "        [-2.6475e+00],\n",
       "        [-1.4575e+00],\n",
       "        [-9.7124e-01],\n",
       "        [ 2.4150e-01],\n",
       "        [-1.1612e+00],\n",
       "        [ 1.4511e-01],\n",
       "        [ 1.6612e+00],\n",
       "        [ 1.0103e+00],\n",
       "        [ 6.1104e-01],\n",
       "        [ 1.2208e+00],\n",
       "        [-6.0764e-01],\n",
       "        [-4.5261e-02],\n",
       "        [-3.5729e-01],\n",
       "        [-5.7139e-01],\n",
       "        [-1.4078e+00],\n",
       "        [-6.2280e-01],\n",
       "        [-7.8918e-01],\n",
       "        [-1.6782e-01],\n",
       "        [ 1.6433e+00],\n",
       "        [ 5.1626e-01],\n",
       "        [ 1.6060e+00],\n",
       "        [-9.8150e-01],\n",
       "        [ 5.3607e-01],\n",
       "        [-2.0717e+00],\n",
       "        [-4.1253e-01],\n",
       "        [-9.7696e-01],\n",
       "        [-3.3634e-02],\n",
       "        [-7.9826e-01],\n",
       "        [-2.6482e-01],\n",
       "        [-1.6661e-01],\n",
       "        [ 2.5182e-01],\n",
       "        [ 1.9898e-01],\n",
       "        [-2.3609e-01],\n",
       "        [ 3.0341e-01],\n",
       "        [-4.5008e-01],\n",
       "        [-1.7387e-01],\n",
       "        [ 2.9909e-02],\n",
       "        [-1.3959e-02],\n",
       "        [-1.0164e-02],\n",
       "        [ 5.3259e-01],\n",
       "        [-6.0354e-01],\n",
       "        [-1.7426e-01],\n",
       "        [ 6.0921e-01],\n",
       "        [ 2.2544e-01],\n",
       "        [-2.7933e-01],\n",
       "        [ 6.7019e-01],\n",
       "        [ 1.1880e-01],\n",
       "        [-1.7899e+00],\n",
       "        [-2.6157e-01],\n",
       "        [-4.4025e-01],\n",
       "        [ 2.1848e+00],\n",
       "        [ 9.7715e-01],\n",
       "        [-1.4153e+00],\n",
       "        [-7.8205e-04],\n",
       "        [ 9.2348e-01],\n",
       "        [-3.1229e-01],\n",
       "        [-2.5418e-01],\n",
       "        [-1.2055e+00],\n",
       "        [-9.5421e-01],\n",
       "        [ 8.9873e-01],\n",
       "        [-1.3368e-01],\n",
       "        [ 6.8441e-01],\n",
       "        [ 7.1139e-01],\n",
       "        [-9.0856e-01],\n",
       "        [ 3.1300e-01],\n",
       "        [ 8.0505e-01],\n",
       "        [-1.1134e+00],\n",
       "        [ 5.2580e-01],\n",
       "        [ 1.6828e+00],\n",
       "        [ 9.6736e-02],\n",
       "        [ 2.5708e-01],\n",
       "        [ 6.3777e-01],\n",
       "        [ 1.5979e-01],\n",
       "        [ 1.7698e+00],\n",
       "        [ 6.2682e-01],\n",
       "        [-4.9761e-01],\n",
       "        [-1.8228e-01],\n",
       "        [-2.1200e-01],\n",
       "        [ 8.1622e-01],\n",
       "        [-4.4026e-01],\n",
       "        [-2.3180e+00],\n",
       "        [ 1.2946e+00],\n",
       "        [ 2.2267e-01],\n",
       "        [-1.2924e+00],\n",
       "        [ 1.6887e-01],\n",
       "        [-8.3261e-01],\n",
       "        [-8.1295e-01],\n",
       "        [ 4.3105e-01],\n",
       "        [ 3.6835e-01],\n",
       "        [ 7.6380e-01],\n",
       "        [ 1.1792e+00],\n",
       "        [ 8.3019e-02],\n",
       "        [ 4.2202e-01],\n",
       "        [ 3.4185e-01],\n",
       "        [-2.7016e+00],\n",
       "        [ 1.4148e-01],\n",
       "        [ 7.1104e-02],\n",
       "        [ 5.6335e-01],\n",
       "        [-5.7864e-01],\n",
       "        [-1.2299e+00],\n",
       "        [ 2.0929e+00],\n",
       "        [ 8.7579e-01],\n",
       "        [ 3.2558e-01],\n",
       "        [ 4.3896e-02],\n",
       "        [ 1.4443e+00],\n",
       "        [ 2.3203e-01],\n",
       "        [ 5.0650e-01],\n",
       "        [-9.1776e-01],\n",
       "        [ 4.2057e-01],\n",
       "        [-3.6886e-01],\n",
       "        [-7.6961e-01],\n",
       "        [ 1.2506e-01],\n",
       "        [-7.6215e-01],\n",
       "        [-1.1906e+00],\n",
       "        [ 7.7561e-01],\n",
       "        [-9.4374e-01],\n",
       "        [ 1.7305e-01],\n",
       "        [-1.8815e+00],\n",
       "        [ 5.8509e-01],\n",
       "        [-7.4342e-02],\n",
       "        [-1.5664e-01],\n",
       "        [-8.7085e-01],\n",
       "        [-6.4110e-01],\n",
       "        [ 5.3738e-01],\n",
       "        [ 7.8175e-01],\n",
       "        [ 1.0477e+00],\n",
       "        [-3.9481e-01],\n",
       "        [ 8.7683e-02],\n",
       "        [ 1.0938e+00],\n",
       "        [-1.1772e-01],\n",
       "        [-2.9864e-01],\n",
       "        [ 1.5193e+00],\n",
       "        [ 3.5802e-02],\n",
       "        [ 1.0366e+00],\n",
       "        [ 8.8169e-01],\n",
       "        [-5.1822e-01],\n",
       "        [ 8.3954e-01],\n",
       "        [ 5.8523e-02],\n",
       "        [-1.6682e+00],\n",
       "        [-1.9967e-02],\n",
       "        [-1.2131e+00],\n",
       "        [ 1.1971e+00],\n",
       "        [-7.8177e-01],\n",
       "        [-5.2974e-01],\n",
       "        [ 9.6252e-01],\n",
       "        [ 2.7944e-01],\n",
       "        [-5.7182e-01],\n",
       "        [ 1.9491e+00],\n",
       "        [-4.2519e-01],\n",
       "        [-3.7528e-01],\n",
       "        [ 1.4467e+00],\n",
       "        [ 8.3849e-01],\n",
       "        [-2.6985e-01],\n",
       "        [ 1.2306e-01],\n",
       "        [ 8.7575e-01],\n",
       "        [ 2.1163e-01],\n",
       "        [ 1.2271e+00],\n",
       "        [-5.7228e-01],\n",
       "        [-1.7070e-01],\n",
       "        [ 4.3201e-01],\n",
       "        [-3.0918e-01],\n",
       "        [-9.6581e-02],\n",
       "        [ 1.5419e+00],\n",
       "        [-1.5147e+00],\n",
       "        [ 1.8518e+00],\n",
       "        [-1.7016e-01],\n",
       "        [-1.3861e+00],\n",
       "        [-1.2520e+00],\n",
       "        [ 3.0250e+00],\n",
       "        [ 1.3463e+00],\n",
       "        [ 8.5561e-01],\n",
       "        [-1.5256e+00],\n",
       "        [ 1.2538e+00],\n",
       "        [-6.8434e-01],\n",
       "        [-2.1216e+00],\n",
       "        [-1.1616e-01],\n",
       "        [ 1.3705e+00],\n",
       "        [-4.8094e-01],\n",
       "        [-9.9036e-01],\n",
       "        [-1.2157e+00],\n",
       "        [ 1.5274e-02],\n",
       "        [-1.0486e+00],\n",
       "        [ 1.7823e+00],\n",
       "        [-3.4958e-01],\n",
       "        [ 3.7975e-01],\n",
       "        [ 9.9930e-01],\n",
       "        [ 1.2752e+00],\n",
       "        [ 1.2704e+00],\n",
       "        [-7.5035e-02],\n",
       "        [-2.2950e+00],\n",
       "        [-1.3631e+00],\n",
       "        [ 7.9531e-01],\n",
       "        [ 2.7928e-01],\n",
       "        [ 1.8645e-01],\n",
       "        [ 3.5471e-01],\n",
       "        [ 1.2479e-01],\n",
       "        [ 4.9390e-01],\n",
       "        [ 7.8391e-02],\n",
       "        [ 2.2359e-01],\n",
       "        [ 3.4288e-01],\n",
       "        [-1.4591e+00],\n",
       "        [-1.4937e+00],\n",
       "        [-2.2139e-01],\n",
       "        [ 1.2098e-01],\n",
       "        [ 5.5353e-01],\n",
       "        [-1.9203e+00],\n",
       "        [-9.7065e-02],\n",
       "        [ 2.8815e-01],\n",
       "        [ 8.6905e-01],\n",
       "        [-8.0971e-01],\n",
       "        [-1.4299e+00],\n",
       "        [-1.4811e-01],\n",
       "        [-7.9777e-01],\n",
       "        [ 1.8783e+00],\n",
       "        [ 1.8154e-01],\n",
       "        [ 1.7685e+00],\n",
       "        [-9.8580e-01],\n",
       "        [-1.2371e+00],\n",
       "        [-2.3019e+00],\n",
       "        [ 6.0715e-01],\n",
       "        [ 3.4609e-02],\n",
       "        [-5.1238e-01],\n",
       "        [ 5.5741e-01],\n",
       "        [ 1.1820e+00],\n",
       "        [ 3.2603e-01],\n",
       "        [-3.8945e-01],\n",
       "        [ 2.8544e+00],\n",
       "        [ 3.3091e-01],\n",
       "        [ 9.7702e-01],\n",
       "        [-3.4443e-01],\n",
       "        [-1.8887e-01],\n",
       "        [ 6.9654e-02],\n",
       "        [-1.6034e+00],\n",
       "        [-4.2982e-01],\n",
       "        [ 5.7616e-01],\n",
       "        [ 6.8292e-01],\n",
       "        [-3.5719e-02],\n",
       "        [-8.8810e-01],\n",
       "        [-5.8912e-01],\n",
       "        [-6.0713e-01],\n",
       "        [-2.5974e-01],\n",
       "        [-7.1902e-01],\n",
       "        [-3.8583e-01],\n",
       "        [ 4.9101e-02],\n",
       "        [ 1.2479e+00],\n",
       "        [ 9.2914e-02],\n",
       "        [-7.8436e-01],\n",
       "        [-2.8251e-01],\n",
       "        [ 7.6927e-01],\n",
       "        [-7.6689e-01],\n",
       "        [-9.4949e-01],\n",
       "        [ 5.8314e-01],\n",
       "        [ 3.3020e-02],\n",
       "        [-1.2598e+00],\n",
       "        [-7.2981e-01],\n",
       "        [ 1.2682e-01],\n",
       "        [-2.4521e+00],\n",
       "        [ 4.1598e-01],\n",
       "        [ 1.9025e+00],\n",
       "        [-1.3525e+00],\n",
       "        [-1.3029e-01],\n",
       "        [ 1.7551e+00],\n",
       "        [ 6.7511e-02],\n",
       "        [ 7.4018e-01],\n",
       "        [ 1.4162e+00],\n",
       "        [ 6.8340e-01],\n",
       "        [-1.3825e-01],\n",
       "        [ 9.8639e-01],\n",
       "        [-3.8926e-01],\n",
       "        [ 6.1381e-01],\n",
       "        [-2.7863e-01],\n",
       "        [-6.0518e-01],\n",
       "        [-1.7925e-01],\n",
       "        [ 1.9956e-01],\n",
       "        [-1.2462e+00],\n",
       "        [ 4.0352e-01],\n",
       "        [ 4.4627e-01],\n",
       "        [-5.2184e-01],\n",
       "        [ 8.3020e-01],\n",
       "        [-6.9195e-01],\n",
       "        [-4.7199e-01],\n",
       "        [-1.2894e+00],\n",
       "        [ 1.0763e+00],\n",
       "        [-2.2879e+00],\n",
       "        [-4.8341e-01],\n",
       "        [ 5.6000e-01],\n",
       "        [-1.0602e+00],\n",
       "        [ 3.3933e-03],\n",
       "        [-1.0240e+00],\n",
       "        [ 2.2405e-01],\n",
       "        [-7.5548e-01],\n",
       "        [ 8.6708e-01],\n",
       "        [ 1.9191e-01],\n",
       "        [ 1.1600e+00],\n",
       "        [-8.8152e-03],\n",
       "        [-1.6515e+00],\n",
       "        [ 2.1477e+00],\n",
       "        [-6.6041e-01],\n",
       "        [ 1.1353e-01],\n",
       "        [ 3.5569e-01],\n",
       "        [ 1.2056e+00],\n",
       "        [ 1.3690e+00],\n",
       "        [-6.9496e-01],\n",
       "        [-3.4888e-01],\n",
       "        [-4.5792e-01],\n",
       "        [-1.2322e+00],\n",
       "        [-5.9808e-01],\n",
       "        [-1.3493e-01],\n",
       "        [ 1.4877e-01],\n",
       "        [-2.3777e-01],\n",
       "        [-1.0139e-01],\n",
       "        [ 4.8813e-01],\n",
       "        [ 1.0082e+00],\n",
       "        [-5.9500e-01],\n",
       "        [ 3.9263e-01],\n",
       "        [-1.4314e+00],\n",
       "        [-3.9799e-02],\n",
       "        [-5.0034e-01],\n",
       "        [ 2.9304e-01],\n",
       "        [-2.0005e-01],\n",
       "        [ 9.9495e-01],\n",
       "        [ 7.2019e-01],\n",
       "        [-1.3413e-01],\n",
       "        [-1.6446e-01],\n",
       "        [ 1.3389e+00],\n",
       "        [ 2.0047e+00],\n",
       "        [-1.5808e+00],\n",
       "        [-1.5693e-01],\n",
       "        [ 1.1383e+00],\n",
       "        [-2.5052e-01],\n",
       "        [ 1.6705e+00],\n",
       "        [ 1.8888e+00],\n",
       "        [-7.5381e-01],\n",
       "        [-1.7143e+00],\n",
       "        [-2.2070e+00],\n",
       "        [ 3.6579e-01],\n",
       "        [-3.9920e-01],\n",
       "        [ 4.9674e-01],\n",
       "        [-2.3692e+00],\n",
       "        [-2.7667e-01],\n",
       "        [-3.3858e-01],\n",
       "        [-8.8103e-01],\n",
       "        [ 3.4835e-01],\n",
       "        [-1.1756e+00],\n",
       "        [-7.8323e-02],\n",
       "        [-9.7058e-01],\n",
       "        [ 1.4724e+00],\n",
       "        [-1.3775e+00],\n",
       "        [-1.2044e+00],\n",
       "        [-4.8242e-01],\n",
       "        [-8.1642e-01],\n",
       "        [-1.5844e+00],\n",
       "        [-2.5447e+00],\n",
       "        [ 1.3719e+00],\n",
       "        [-5.3795e-01],\n",
       "        [-1.7564e-01],\n",
       "        [-3.6833e-01],\n",
       "        [-8.3345e-01],\n",
       "        [-3.3530e-01],\n",
       "        [ 9.2000e-01],\n",
       "        [-3.7876e-01],\n",
       "        [-1.5598e+00],\n",
       "        [-8.0095e-01],\n",
       "        [ 3.5879e-01],\n",
       "        [ 1.2862e+00],\n",
       "        [ 8.2114e-01],\n",
       "        [ 9.0019e-01]], requires_grad=True)"
      ]
     },
     "execution_count": 88,
     "metadata": {},
     "output_type": "execute_result"
    }
   ],
   "source": [
    "weights = init_params((28*28,1))\n",
    "weights\n",
    "# remember ki images have been converted to long(28*28 = 784) long vectors "
   ]
  },
  {
   "cell_type": "markdown",
   "metadata": {},
   "source": [
    "The function `weights*pixels` won't be flexible enough—it is always equal to 0 when the pixels are equal to 0 (i.e., its *intercept* is 0). You might remember from high school math that the formula for a line is `y=w*x+b`; we still need the `b`. We'll initialize it to a random number too:"
   ]
  },
  {
   "cell_type": "code",
   "execution_count": 89,
   "metadata": {},
   "outputs": [
    {
     "data": {
      "text/plain": [
       "tensor([0.9603], requires_grad=True)"
      ]
     },
     "execution_count": 89,
     "metadata": {},
     "output_type": "execute_result"
    }
   ],
   "source": [
    "bias = init_params(1)\n",
    "bias"
   ]
  },
  {
   "cell_type": "markdown",
   "metadata": {},
   "source": [
    "In neural networks, the `w` in the equation `y=w*x+b` is called the *weights*, and the `b` is called the *bias*. Together, the weights and bias make up the *parameters*."
   ]
  },
  {
   "cell_type": "markdown",
   "metadata": {},
   "source": [
    "> jargon: Parameters: The _weights_ and _biases_ of a model. The weights are the `w` in the equation `w*x+b`, and the biases are the `b` in that equation."
   ]
  },
  {
   "cell_type": "markdown",
   "metadata": {},
   "source": [
    "We can now calculate a prediction for one image:"
   ]
  },
  {
   "cell_type": "code",
   "execution_count": 90,
   "metadata": {},
   "outputs": [
    {
     "name": "stdout",
     "output_type": "stream",
     "text": [
      "torch.Size([784]) torch.Size([784, 1])\n"
     ]
    },
    {
     "data": {
      "text/plain": [
       "tensor([0.2220], grad_fn=<AddBackward0>)"
      ]
     },
     "execution_count": 90,
     "metadata": {},
     "output_type": "execute_result"
    }
   ],
   "source": [
    "print(train_x[0].shape, weights.shape)\n",
    "(train_x[0]*weights.T).sum() + bias"
   ]
  },
  {
   "cell_type": "markdown",
   "metadata": {},
   "source": [
    "While we could use a Python `for` loop to calculate the prediction for each image, that would be very slow. Because Python loops don't run on the GPU, and because Python is a slow language for loops in general, we need to represent as much of the computation in a model as possible using higher-level functions.\n",
    "\n",
    "In this case, there's an extremely convenient mathematical operation that calculates `w*x` for every row of a matrix—it's called *matrix multiplication*. <<matmul>> shows what matrix multiplication looks like."
   ]
  },
  {
   "cell_type": "markdown",
   "metadata": {},
   "source": [
    "<img alt=\"Matrix multiplication\" width=\"400\" caption=\"Matrix multiplication\" src=\"images/matmul2.svg\" id=\"matmul\"/>"
   ]
  },
  {
   "cell_type": "markdown",
   "metadata": {},
   "source": [
    "This image shows two matrices, `A` and `B`, being multiplied together. Each item of the result, which we'll call `AB`, contains each item of its corresponding row of `A` multiplied by each item of its corresponding column of `B`, added together. For instance, row 1, column 2 (the orange dot with a red border) is calculated as $a_{1,1} * b_{1,2} + a_{1,2} * b_{2,2}$. If you need a refresher on matrix multiplication, we suggest you take a look at the [Intro to Matrix Multiplication](https://youtu.be/kT4Mp9EdVqs) on *Khan Academy*, since this is the most important mathematical operation in deep learning.\n",
    "\n",
    "In Python, matrix multiplication is represented with the `@` operator. Let's try it:"
   ]
  },
  {
   "cell_type": "markdown",
   "metadata": {},
   "source": [
    "### remember that (random)weights have been generated for each of the 784 pixels, and each column of train_x has height 784!"
   ]
  },
  {
   "cell_type": "code",
   "execution_count": 91,
   "metadata": {},
   "outputs": [
    {
     "data": {
      "text/plain": [
       "tensor([[ 0.2220],\n",
       "        [10.5095],\n",
       "        [ 8.4926],\n",
       "        ...,\n",
       "        [ 9.6805],\n",
       "        [18.5456],\n",
       "        [10.7224]], grad_fn=<AddBackward0>)"
      ]
     },
     "execution_count": 91,
     "metadata": {},
     "output_type": "execute_result"
    }
   ],
   "source": [
    "def linear1(xb): return xb@weights + bias\n",
    "preds = linear1(train_x)\n",
    "preds"
   ]
  },
  {
   "cell_type": "markdown",
   "metadata": {},
   "source": [
    "**The first element is the same as we calculated before, as we'd expect. This equation, `batch@weights + bias`, is one of the two fundamental equations of any neural network (the other one is the *activation function*, which we'll see in a moment).**"
   ]
  },
  {
   "cell_type": "markdown",
   "metadata": {},
   "source": [
    "Let's check our accuracy. To decide if an output represents a 3 or a 7, we can just check whether it's greater than 0.5, so our accuracy for each item can be calculated (using broadcasting, so no loops!) with:"
   ]
  },
  {
   "cell_type": "code",
   "execution_count": 92,
   "metadata": {},
   "outputs": [
    {
     "data": {
      "text/plain": [
       "tensor([[False],\n",
       "        [ True],\n",
       "        [ True],\n",
       "        ...,\n",
       "        [False],\n",
       "        [False],\n",
       "        [False]])"
      ]
     },
     "execution_count": 92,
     "metadata": {},
     "output_type": "execute_result"
    }
   ],
   "source": [
    "corrects = (preds>0.5).float() == train_y\n",
    "corrects"
   ]
  },
  {
   "cell_type": "code",
   "execution_count": 93,
   "metadata": {},
   "outputs": [
    {
     "data": {
      "text/plain": [
       "(tensor(0.3269), 0.3268796503543854)"
      ]
     },
     "execution_count": 93,
     "metadata": {},
     "output_type": "execute_result"
    }
   ],
   "source": [
    "corrects.float().mean(), corrects.float().mean().item()"
   ]
  },
  {
   "cell_type": "markdown",
   "metadata": {},
   "source": [
    "Now let's see what the change in accuracy is for a **small change in one of the weights:**"
   ]
  },
  {
   "cell_type": "code",
   "execution_count": 94,
   "metadata": {},
   "outputs": [],
   "source": [
    "weights[0] *= 1.0001"
   ]
  },
  {
   "cell_type": "markdown",
   "metadata": {},
   "source": [
    "### check yaha 0.0 kaise aa gaya!?"
   ]
  },
  {
   "cell_type": "code",
   "execution_count": 96,
   "metadata": {},
   "outputs": [
    {
     "data": {
      "text/plain": [
       "0.3346240818500519"
      ]
     },
     "execution_count": 96,
     "metadata": {},
     "output_type": "execute_result"
    }
   ],
   "source": [
    "preds = linear1(train_x)\n",
    "# ((preds>0.5).float() == train_y).float().mean().item()\n",
    "((preds>0.0).float() == train_y).float().mean().item()"
   ]
  },
  {
   "cell_type": "markdown",
   "metadata": {},
   "source": [
    "As we've seen, we need gradients in order to improve our model using SGD, and in order to calculate gradients we need some *loss function* that represents how good our model is. That is because the gradients are a measure of how that loss function changes with small tweaks to the weights.\n",
    "\n",
    "So, we need to choose a loss function. The obvious approach would be to use accuracy, which is our metric, as our loss function as well. In this case, we would calculate our prediction for each image, collect these values to calculate an overall accuracy, and then calculate the gradients of each weight with respect to that overall accuracy.\n",
    "\n",
    "Unfortunately, we have a significant technical problem here. The gradient of a function is its *slope*, or its steepness, which can be defined as *rise over run*—that is, how much the value of the function goes up or down, divided by how much we changed the input. We can write this in mathematically as: `(y_new - y_old) / (x_new - x_old)`. This gives us a good approximation of the gradient when `x_new` is very similar to `x_old`, meaning that their difference is very small. But accuracy only changes at all when a prediction changes from a 3 to a 7, or vice versa. **The problem is that a small change in weights from `x_old` to `x_new` isn't likely to cause any prediction to change, so `(y_new - y_old)` will almost always be 0. In other words, the gradient is 0 almost everywhere.**"
   ]
  },
  {
   "cell_type": "markdown",
   "metadata": {},
   "source": [
    "A very small change in the value of a weight will often not actually change the accuracy at all. This means it is not useful to use accuracy as a loss function—if we do, most of the time our gradients will actually be 0, and the model will not be able to learn from that number.\n",
    "\n",
    "> S: In mathematical terms, accuracy is a function that is constant almost everywhere (except at the threshold, 0.5), so its derivative is nil almost everywhere (and infinity at the threshold). This then gives gradients that are 0 or infinite, which are useless for updating the model.\n",
    "\n",
    "Instead, we need a loss function which, when our weights result in slightly better predictions, gives us a slightly better loss. So what does a \"slightly better prediction\" look like, exactly? Well, in this case, it means that if the correct answer is a 3 the score is a little higher, or if the correct answer is a 7 the score is a little lower.\n",
    "\n",
    "Let's write such a function now. What form does it take?\n",
    "\n",
    "The loss function receives not the images themselves, but the predictions from the model. Let's make one **argument, `prds`, of values between 0 and 1, where each value is the prediction that an image is a 3.** It is a vector (i.e., a rank-1 tensor), indexed over the images.\n",
    "\n",
    "The purpose of the loss function is to measure the difference between predicted values and the true values — that is, the targets (aka labels). Let's make another **argument, `trgts`, with values of 0 or 1 which tells whether an image actually is a 3 or not.** It is also a vector (i.e., another rank-1 tensor), indexed over the images.\n",
    "\n",
    "So, for instance, suppose we had three images which we knew were a 3, a 7, and a 3. And suppose our model predicted with high confidence (`0.9`) that the first was a 3, with slight confidence (`0.4`) that the second was a 7, and with fair confidence (`0.2`), but incorrectly, that the last was a 7. This would mean our loss function would receive these values as its inputs:"
   ]
  },
  {
   "cell_type": "code",
   "execution_count": 97,
   "metadata": {},
   "outputs": [],
   "source": [
    "trgts  = tensor([1,0,1])\n",
    "prds   = tensor([0.9, 0.4, 0.2])"
   ]
  },
  {
   "cell_type": "markdown",
   "metadata": {},
   "source": [
    "Here's a first **try at a loss function that measures the distance between `predictions` and `targets`:**"
   ]
  },
  {
   "cell_type": "code",
   "execution_count": 98,
   "metadata": {},
   "outputs": [],
   "source": [
    "def mnist_loss(predictions, targets):\n",
    "    return torch.where(targets==1, 1-predictions, predictions).mean()"
   ]
  },
  {
   "cell_type": "markdown",
   "metadata": {},
   "source": [
    "We're using a new function, `torch.where(a,b,c)`. This is the same as running the list comprehension `[b[i] if a[i] else c[i] for i in range(len(a))]`, except it works on tensors, at C/CUDA speed. In plain English, this function will measure how distant each prediction is from 1 if it should be 1, and how distant it is from 0 if it should be 0, and then it will take the mean of all those distances.\n",
    "\n",
    "> note: Read the Docs: It's important to learn about PyTorch functions like this, because looping over tensors in Python performs at Python speed, not C/CUDA speed! Try running `help(torch.where)` now to read the docs for this function, or, better still, look it up on the PyTorch documentation site."
   ]
  },
  {
   "cell_type": "markdown",
   "metadata": {},
   "source": [
    "Let's try it on our `prds` and `trgts`:"
   ]
  },
  {
   "cell_type": "code",
   "execution_count": 99,
   "metadata": {},
   "outputs": [
    {
     "data": {
      "text/plain": [
       "tensor([0.1000, 0.4000, 0.8000])"
      ]
     },
     "execution_count": 99,
     "metadata": {},
     "output_type": "execute_result"
    }
   ],
   "source": [
    "torch.where(trgts==1, 1-prds, prds)"
   ]
  },
  {
   "cell_type": "markdown",
   "metadata": {},
   "source": [
    "You can see that this function **returns a lower number when predictions are more accurate, when accurate predictions are more confident (higher absolute values), and when inaccurate predictions are less confident.** ***In PyTorch, we always assume that a lower value of a loss function is better. Since we need a scalar for the final loss, `mnist_loss` takes the mean of the previous tensor:***"
   ]
  },
  {
   "cell_type": "code",
   "execution_count": 100,
   "metadata": {},
   "outputs": [
    {
     "data": {
      "text/plain": [
       "tensor(0.4333)"
      ]
     },
     "execution_count": 100,
     "metadata": {},
     "output_type": "execute_result"
    }
   ],
   "source": [
    "mnist_loss(prds,trgts)"
   ]
  },
  {
   "cell_type": "markdown",
   "metadata": {},
   "source": [
    "For instance, if we change our prediction for the one \"false\" target from `0.2` to `0.8` the loss will go down, indicating that this is a better prediction:"
   ]
  },
  {
   "cell_type": "code",
   "execution_count": 101,
   "metadata": {},
   "outputs": [
    {
     "data": {
      "text/plain": [
       "tensor(0.2333)"
      ]
     },
     "execution_count": 101,
     "metadata": {},
     "output_type": "execute_result"
    }
   ],
   "source": [
    "# def mnist_loss(predictions, targets):\n",
    "#     return torch.where(targets==1, 1-predictions, predictions).mean()\n",
    "# trgts  = tensor([1,0,1])\n",
    "mnist_loss(tensor([0.9, 0.4, 0.8]),trgts)"
   ]
  },
  {
   "cell_type": "markdown",
   "metadata": {},
   "source": [
    "**One problem with `mnist_loss` as currently defined is that it assumes that predictions are always between 0 and 1. We need to ensure, then, that this is actually the case!** As it happens, there is a function that does exactly that—let's take a look."
   ]
  },
  {
   "cell_type": "markdown",
   "metadata": {},
   "source": [
    "### Sigmoid"
   ]
  },
  {
   "cell_type": "markdown",
   "metadata": {},
   "source": [
    "The `sigmoid` function always outputs a number between 0 and 1. It's defined as follows:"
   ]
  },
  {
   "cell_type": "code",
   "execution_count": 102,
   "metadata": {},
   "outputs": [],
   "source": [
    "def sigmoid(x): return 1/(1+torch.exp(-x))"
   ]
  },
  {
   "cell_type": "markdown",
   "metadata": {},
   "source": [
    "Pytorch defines an accelerated version for us, so we don’t really need our own. This is an important function in deep learning, since we often want to ensure values are between 0 and 1. This is what it looks like:"
   ]
  },
  {
   "cell_type": "code",
   "execution_count": 103,
   "metadata": {},
   "outputs": [
    {
     "data": {
      "image/png": "[encoded data removed]",
      "text/plain": [
       "<Figure size 432x288 with 1 Axes>"
      ]
     },
     "metadata": {
      "needs_background": "light"
     },
     "output_type": "display_data"
    }
   ],
   "source": [
    "plot_function(torch.sigmoid, title='Sigmoid', min=-4, max=4)"
   ]
  },
  {
   "cell_type": "markdown",
   "metadata": {},
   "source": [
    "As you can see, it takes any input value, positive or negative, and smooshes it onto an output value between 0 and 1. It's also a smooth curve that only goes up, which makes it easier for SGD to find meaningful gradients. \n",
    "\n",
    "Let's update `mnist_loss` to first apply `sigmoid` to the inputs:"
   ]
  },
  {
   "cell_type": "code",
   "execution_count": 104,
   "metadata": {},
   "outputs": [],
   "source": [
    "def mnist_loss(predictions, targets):\n",
    "    predictions = predictions.sigmoid()\n",
    "    return torch.where(targets==1, 1-predictions, predictions).mean()"
   ]
  },
  {
   "cell_type": "markdown",
   "metadata": {},
   "source": [
    "**Now we can be confident our loss function will work, even if the predictions are not between 0 and 1. All that is required is that a higher prediction corresponds to higher confidence an image is a 3.**\n",
    "\n",
    "Having defined a loss function, now is a good moment to recapitulate why we did this. After all, we already had a metric, which was overall accuracy. So why did we define a loss?\n",
    "\n",
    "The key difference is that the **metric is to drive human understanding and the loss is to drive automated learning. To drive automated learning, the loss must be a function that has a meaningful derivative.**  can't have big flat sections and large jumps, but instead must be reasonably smooth. This is why we designed a loss function that would respond to small changes in confidence level. This requirement means that sometimes it does not really reflect exactly what we are trying to achieve, but is rather a compromise between our real goal, and a function that can be optimized using its gradient. The loss function is calculated for each item in our dataset, and then at the end of an epoch the loss values are all averaged and the overall mean is reported for the epoch.\n",
    "\n",
    "Metrics, on the other hand, are the numbers that we really care about. These are the values that are printed at the end of each epoch that tell us how our model is really doing. It is important that we learn to focus on these metrics, rather than the loss, when judging the performance of a model."
   ]
  },
  {
   "cell_type": "markdown",
   "metadata": {},
   "source": [
    "### SGD and Mini-Batches"
   ]
  },
  {
   "cell_type": "markdown",
   "metadata": {},
   "source": [
    "Now that we have a loss function that is suitable for driving SGD, we can consider some of the details involved in the next phase of the learning process, which is to change or update the weights based on the gradients. This is called an *optimization step*.\n",
    "\n",
    "In order to take an optimization step we need to calculate the loss over one or more data items. How many should we use? We could calculate it for the whole dataset, and take the average, or we could calculate it for a single data item. But neither of these is ideal. **Calculating it for the whole dataset would take a very long time. Calculating it for a single item would not use much information, so it would result in a very imprecise and unstable gradient.** That is, you'd be going to the trouble of updating the weights, but taking into account only how that would improve the model's performance on that single item.\n",
    "\n",
    "So instead we take a compromise between the two: **we calculate the average loss for a few data items at a time. This is called a *mini-batch*. The number of data items in the mini-batch is called the *batch size*. A larger batch size means that you will get a more accurate and stable estimate of your dataset's gradients from the loss function, but it will take longer, and you will process fewer mini-batches per epoch. Choosing a good batch size is one of the decisions you need to make as a deep learning practitioner to train your model quickly and accurately.** We will talk about how to make this choice throughout this book.\n",
    "\n",
    "Another good reason for using mini-batches rather than calculating the gradient on individual data items is that, in practice, we nearly always do our training on an **accelerator such as a GPU. These accelerators only perform well if they have lots of work to do at a time, so it's helpful if we can give them lots of data items to work on. Using mini-batches is one of the best ways to do this.** However, if you give them too much data to work on at once, they run out of memory—making GPUs happy is also tricky!\n",
    "\n",
    "As we saw in our discussion of data augmentation in <<chapter_production>>, we get better generalization if we can vary things during training. One simple and effective thing we can vary is what data items we put in each mini-batch. **Rather than simply enumerating our dataset in order for every epoch, instead what we normally do is randomly shuffle it on every epoch, before we create mini-batches. PyTorch and fastai provide a class that will do the shuffling and mini-batch collation for you, called `DataLoader`.**\n",
    "\n",
    "### **A `DataLoader` can take any Python collection and turn it into an iterator over many batches, like so:**"
   ]
  },
  {
   "cell_type": "markdown",
   "metadata": {},
   "source": [
    "### nice no!"
   ]
  },
  {
   "cell_type": "code",
   "execution_count": 106,
   "metadata": {},
   "outputs": [
    {
     "data": {
      "text/plain": [
       "[tensor([ 8,  9,  5, 11,  4]),\n",
       " tensor([ 7, 13, 14,  2,  3]),\n",
       " tensor([ 6, 12, 10,  1,  0])]"
      ]
     },
     "execution_count": 106,
     "metadata": {},
     "output_type": "execute_result"
    }
   ],
   "source": [
    "coll = range(15)\n",
    "dl = DataLoader(coll, batch_size=5, shuffle=True)\n",
    "list(dl)"
   ]
  },
  {
   "cell_type": "markdown",
   "metadata": {},
   "source": [
    "For training a model, we don't just want any Python collection, but a collection containing independent and dependent variables (that is, the inputs and targets of the model). A collection that contains tuples of independent and dependent variables is known in PyTorch as a `Dataset`. Here's an example of an extremely simple `Dataset`:"
   ]
  },
  {
   "cell_type": "code",
   "execution_count": 107,
   "metadata": {},
   "outputs": [
    {
     "data": {
      "text/plain": [
       "(#26) [(0, 'a'),(1, 'b'),(2, 'c'),(3, 'd'),(4, 'e'),(5, 'f'),(6, 'g'),(7, 'h'),(8, 'i'),(9, 'j')...]"
      ]
     },
     "execution_count": 107,
     "metadata": {},
     "output_type": "execute_result"
    }
   ],
   "source": [
    "ds = L(enumerate(string.ascii_lowercase))\n",
    "# ds = enumerate(string.ascii_lowercase) #<enumerate at 0x7fcc0265dbc0>\n",
    "ds"
   ]
  },
  {
   "cell_type": "markdown",
   "metadata": {},
   "source": [
    "**When we pass a `Dataset` to a `DataLoader` we will get back many batches which are themselves tuples of tensors representing batches of independent and dependent variables:**"
   ]
  },
  {
   "cell_type": "code",
   "execution_count": 108,
   "metadata": {},
   "outputs": [
    {
     "data": {
      "text/plain": [
       "[(tensor([19, 14,  0, 24, 20, 12]), ('t', 'o', 'a', 'y', 'u', 'm')),\n",
       " (tensor([23,  8,  9,  3, 16,  6]), ('x', 'i', 'j', 'd', 'q', 'g')),\n",
       " (tensor([ 4,  7,  1, 13,  2, 22]), ('e', 'h', 'b', 'n', 'c', 'w')),\n",
       " (tensor([ 5, 17, 18, 10, 11, 15]), ('f', 'r', 's', 'k', 'l', 'p')),\n",
       " (tensor([25, 21]), ('z', 'v'))]"
      ]
     },
     "execution_count": 108,
     "metadata": {},
     "output_type": "execute_result"
    }
   ],
   "source": [
    "dl = DataLoader(ds, batch_size=6, shuffle=True)\n",
    "list(dl)"
   ]
  },
  {
   "cell_type": "markdown",
   "metadata": {},
   "source": [
    "**We are now ready to write our first training loop for a model using SGD!**"
   ]
  },
  {
   "cell_type": "markdown",
   "metadata": {},
   "source": [
    "## Putting It All Together"
   ]
  },
  {
   "cell_type": "markdown",
   "metadata": {},
   "source": [
    "It's time to implement the process we saw in <<gradient_descent>>. In code, our process will be implemented something like this for each epoch:\n",
    "\n",
    "parameters were made such that they requires_grad_\n",
    "```python\n",
    "for x,y in dl:\n",
    "    pred = model(x)\n",
    "    loss = loss_func(pred, y)\n",
    "    loss.backward()\n",
    "    parameters -= parameters.grad * lr\n",
    "```"
   ]
  },
  {
   "cell_type": "markdown",
   "metadata": {},
   "source": [
    "First, let's re-initialize our parameters:"
   ]
  },
  {
   "cell_type": "code",
   "execution_count": 109,
   "metadata": {},
   "outputs": [],
   "source": [
    "weights = init_params((28*28,1))\n",
    "bias = init_params(1)"
   ]
  },
  {
   "cell_type": "markdown",
   "metadata": {},
   "source": [
    "A `DataLoader` can be created from a `Dataset`:"
   ]
  },
  {
   "cell_type": "markdown",
   "metadata": {},
   "source": [
    "# remember how dl looks"
   ]
  },
  {
   "cell_type": "code",
   "execution_count": 110,
   "metadata": {},
   "outputs": [],
   "source": [
    "# dset = list(zip(train_x,train_y))"
   ]
  },
  {
   "cell_type": "code",
   "execution_count": 111,
   "metadata": {},
   "outputs": [
    {
     "data": {
      "text/plain": [
       "(torch.Size([256, 784]), torch.Size([256, 1]))"
      ]
     },
     "execution_count": 111,
     "metadata": {},
     "output_type": "execute_result"
    }
   ],
   "source": [
    "dl = DataLoader(dset, batch_size=256)\n",
    "xb,yb = first(dl)\n",
    "# first is literally the first item in the dataloader\n",
    "xb.shape,yb.shape"
   ]
  },
  {
   "cell_type": "markdown",
   "metadata": {},
   "source": [
    "We'll do the same for the validation set:"
   ]
  },
  {
   "cell_type": "code",
   "execution_count": 112,
   "metadata": {},
   "outputs": [],
   "source": [
    "valid_dl = DataLoader(valid_dset, batch_size=256)"
   ]
  },
  {
   "cell_type": "markdown",
   "metadata": {},
   "source": [
    "Let's create a mini-batch of size 4 for testing:"
   ]
  },
  {
   "cell_type": "code",
   "execution_count": 113,
   "metadata": {},
   "outputs": [
    {
     "data": {
      "text/plain": [
       "torch.Size([4, 784])"
      ]
     },
     "execution_count": 113,
     "metadata": {},
     "output_type": "execute_result"
    }
   ],
   "source": [
    "batch = train_x[:4]\n",
    "batch.shape"
   ]
  },
  {
   "cell_type": "code",
   "execution_count": 114,
   "metadata": {},
   "outputs": [
    {
     "data": {
      "text/plain": [
       "tensor([[-1.7038],\n",
       "        [ 4.0416],\n",
       "        [-0.3504],\n",
       "        [-5.8813]], grad_fn=<AddBackward0>)"
      ]
     },
     "execution_count": 114,
     "metadata": {},
     "output_type": "execute_result"
    }
   ],
   "source": [
    "# def linear1(xb): return xb@weights + bias\n",
    "preds = linear1(batch)\n",
    "preds"
   ]
  },
  {
   "cell_type": "code",
   "execution_count": 115,
   "metadata": {},
   "outputs": [
    {
     "data": {
      "text/plain": [
       "tensor(0.6118, grad_fn=<MeanBackward0>)"
      ]
     },
     "execution_count": 115,
     "metadata": {},
     "output_type": "execute_result"
    }
   ],
   "source": [
    "# def mnist_loss(predictions, targets):\n",
    "#     predictions = predictions.sigmoid()\n",
    "#     return torch.where(targets==1, 1-predictions, predictions).mean()\n",
    "loss = mnist_loss(preds, train_y[:4])\n",
    "loss"
   ]
  },
  {
   "cell_type": "markdown",
   "metadata": {},
   "source": [
    "Now we can calculate the gradients:"
   ]
  },
  {
   "cell_type": "code",
   "execution_count": 116,
   "metadata": {},
   "outputs": [
    {
     "data": {
      "text/plain": [
       "(torch.Size([784, 1]), tensor(-0.0141), tensor([-0.0981]))"
      ]
     },
     "execution_count": 116,
     "metadata": {},
     "output_type": "execute_result"
    }
   ],
   "source": [
    "loss.backward()\n",
    "weights.grad.shape,weights.grad.mean(),bias.grad"
   ]
  },
  {
   "cell_type": "markdown",
   "metadata": {},
   "source": [
    "Let's put that all in a function:"
   ]
  },
  {
   "cell_type": "code",
   "execution_count": 117,
   "metadata": {},
   "outputs": [],
   "source": [
    "def calc_grad(xb, yb, model):\n",
    "    preds = model(xb)\n",
    "    loss = mnist_loss(preds, yb)\n",
    "    loss.backward()"
   ]
  },
  {
   "cell_type": "markdown",
   "metadata": {},
   "source": [
    "and test it:"
   ]
  },
  {
   "cell_type": "code",
   "execution_count": 118,
   "metadata": {},
   "outputs": [
    {
     "data": {
      "text/plain": [
       "(tensor(-0.0281), tensor([-0.1962]))"
      ]
     },
     "execution_count": 118,
     "metadata": {},
     "output_type": "execute_result"
    }
   ],
   "source": [
    "calc_grad(batch, train_y[:4], linear1)\n",
    "weights.grad.mean(),bias.grad"
   ]
  },
  {
   "cell_type": "markdown",
   "metadata": {},
   "source": [
    "But look what happens if we call it twice:"
   ]
  },
  {
   "cell_type": "code",
   "execution_count": 119,
   "metadata": {},
   "outputs": [
    {
     "data": {
      "text/plain": [
       "(tensor(-0.0422), tensor([-0.2944]))"
      ]
     },
     "execution_count": 119,
     "metadata": {},
     "output_type": "execute_result"
    }
   ],
   "source": [
    "calc_grad(batch, train_y[:4], linear1)\n",
    "weights.grad.mean(),bias.grad"
   ]
  },
  {
   "cell_type": "markdown",
   "metadata": {},
   "source": [
    "The gradients have changed! The reason for this is that `loss.backward` actually *adds* the gradients of `loss` to any gradients that are currently stored. So, we have to set the current gradients to 0 first:"
   ]
  },
  {
   "cell_type": "code",
   "execution_count": 120,
   "metadata": {},
   "outputs": [],
   "source": [
    "weights.grad.zero_()\n",
    "bias.grad.zero_();"
   ]
  },
  {
   "cell_type": "markdown",
   "metadata": {},
   "source": [
    "> note: Inplace Operations: Methods in PyTorch whose names end in an underscore modify their objects _in place_. For instance, `bias.zero_()` sets all elements of the tensor `bias` to 0."
   ]
  },
  {
   "cell_type": "markdown",
   "metadata": {},
   "source": [
    "Our only remaining step is to update the weights and biases based on the gradient and learning rate. When we do so, we have to tell PyTorch not to take the gradient of this step too—otherwise things will get very confusing when we try to compute the derivative at the next batch! If we assign to the `data` attribute of a tensor then PyTorch will not take the gradient of that step. Here's our basic training loop for an epoch:"
   ]
  },
  {
   "cell_type": "code",
   "execution_count": 121,
   "metadata": {},
   "outputs": [],
   "source": [
    "def train_epoch(model, lr, params):\n",
    "    for xb,yb in dl:\n",
    "        calc_grad(xb, yb, model)\n",
    "        for p in params:\n",
    "            p.data -= p.grad*lr\n",
    "            p.grad.zero_()"
   ]
  },
  {
   "cell_type": "markdown",
   "metadata": {},
   "source": [
    "We also want to check how we're doing, by looking at the accuracy of the validation set. To decide if an output represents a 3 or a 7, we can just check whether it's greater than 0. So our accuracy for each item can be calculated (using broadcasting, so no loops!) with:"
   ]
  },
  {
   "cell_type": "code",
   "execution_count": 122,
   "metadata": {},
   "outputs": [
    {
     "data": {
      "text/plain": [
       "tensor([[False],\n",
       "        [ True],\n",
       "        [False],\n",
       "        [False]])"
      ]
     },
     "execution_count": 122,
     "metadata": {},
     "output_type": "execute_result"
    }
   ],
   "source": [
    "(preds>0.0).float() == train_y[:4]"
   ]
  },
  {
   "cell_type": "markdown",
   "metadata": {},
   "source": [
    "That gives us this function to calculate our validation accuracy:"
   ]
  },
  {
   "cell_type": "code",
   "execution_count": 123,
   "metadata": {},
   "outputs": [],
   "source": [
    "def batch_accuracy(xb, yb):\n",
    "    preds = xb.sigmoid()\n",
    "    correct = (preds>0.5) == yb\n",
    "    return correct.float().mean()"
   ]
  },
  {
   "cell_type": "markdown",
   "metadata": {},
   "source": [
    "We can check it works:"
   ]
  },
  {
   "cell_type": "code",
   "execution_count": 124,
   "metadata": {},
   "outputs": [
    {
     "data": {
      "text/plain": [
       "tensor(0.2500)"
      ]
     },
     "execution_count": 124,
     "metadata": {},
     "output_type": "execute_result"
    }
   ],
   "source": [
    "batch_accuracy(linear1(batch), train_y[:4])"
   ]
  },
  {
   "cell_type": "markdown",
   "metadata": {},
   "source": [
    "and then put the batches together:"
   ]
  },
  {
   "cell_type": "code",
   "execution_count": 125,
   "metadata": {},
   "outputs": [],
   "source": [
    "def validate_epoch(model):\n",
    "    accs = [batch_accuracy(model(xb), yb) for xb,yb in valid_dl]\n",
    "    return round(torch.stack(accs).mean().item(), 4)"
   ]
  },
  {
   "cell_type": "code",
   "execution_count": 126,
   "metadata": {},
   "outputs": [
    {
     "data": {
      "text/plain": [
       "0.6143"
      ]
     },
     "execution_count": 126,
     "metadata": {},
     "output_type": "execute_result"
    }
   ],
   "source": [
    "validate_epoch(linear1)"
   ]
  },
  {
   "cell_type": "markdown",
   "metadata": {},
   "source": [
    "That's our starting point. Let's train for one epoch, and see if the accuracy improves:"
   ]
  },
  {
   "cell_type": "code",
   "execution_count": 127,
   "metadata": {},
   "outputs": [
    {
     "data": {
      "text/plain": [
       "0.7138"
      ]
     },
     "execution_count": 127,
     "metadata": {},
     "output_type": "execute_result"
    }
   ],
   "source": [
    "lr = 1.\n",
    "params = weights,bias\n",
    "train_epoch(linear1, lr, params)\n",
    "validate_epoch(linear1)"
   ]
  },
  {
   "cell_type": "markdown",
   "metadata": {},
   "source": [
    "Then do a few more:"
   ]
  },
  {
   "cell_type": "code",
   "execution_count": 128,
   "metadata": {},
   "outputs": [
    {
     "name": "stdout",
     "output_type": "stream",
     "text": [
      "0.853 0.9145 0.934 0.9443 0.9477 0.9516 0.9555 0.9589 0.9589 0.9618 0.9633 0.9647 0.9652 0.9662 0.9677 0.9687 0.9701 0.9706 0.9711 0.9721 "
     ]
    }
   ],
   "source": [
    "for i in range(20):\n",
    "    train_epoch(linear1, lr, params)\n",
    "    print(validate_epoch(linear1), end=' ')"
   ]
  },
  {
   "cell_type": "markdown",
   "metadata": {},
   "source": [
    "Looking good! We're already about at the same accuracy as our \"pixel similarity\" approach, and we've created a general-purpose foundation we can build on. Our next step will be to create an object that will handle the SGD step for us. In PyTorch, it's called an *optimizer*."
   ]
  },
  {
   "cell_type": "markdown",
   "metadata": {},
   "source": [
    "### Creating an Optimizer"
   ]
  },
  {
   "cell_type": "markdown",
   "metadata": {},
   "source": [
    "Because this is such a general foundation, PyTorch provides some useful classes to make it easier to implement. The first thing we can do is **replace our `linear1` function with PyTorch's `nn.Linear` module. A *module* is an object of a class that inherits from the PyTorch `nn.Module` class. Objects of this class behave identically to standard Python functions, in that you can call them using parentheses and they will return the activations of a model.**\n",
    "\n",
    "#### nn.Linear` does the same thing as our `init_params` and `linear1`   together. It contains both the *weights* and *biases* in a single class. Here's how we replicate our model from the previous section:**"
   ]
  },
  {
   "cell_type": "code",
   "execution_count": 135,
   "metadata": {},
   "outputs": [
    {
     "data": {
      "text/plain": [
       "(Linear(in_features=784, out_features=1, bias=True),\n",
       " <bound method Module.parameters of Linear(in_features=784, out_features=1, bias=True)>,\n",
       " <generator object Module.parameters at 0x7f7ed07db040>)"
      ]
     },
     "execution_count": 135,
     "metadata": {},
     "output_type": "execute_result"
    }
   ],
   "source": [
    "linear_model = nn.Linear(28*28,1)\n",
    "linear_model, linear_model.parameters, linear_model.parameters()\n",
    "# nn.Linear??"
   ]
  },
  {
   "cell_type": "markdown",
   "metadata": {},
   "source": [
    "Every PyTorch module knows what parameters it has that can be trained; they are available through the `parameters` method:"
   ]
  },
  {
   "cell_type": "code",
   "execution_count": 136,
   "metadata": {},
   "outputs": [
    {
     "data": {
      "text/plain": [
       "(torch.Size([1, 784]), torch.Size([1]))"
      ]
     },
     "execution_count": 136,
     "metadata": {},
     "output_type": "execute_result"
    }
   ],
   "source": [
    "w,b = linear_model.parameters()\n",
    "w.shape,b.shape\n",
    "# ye shape accha hai, \n",
    "# lekin nn.Linear ke input parameters ulte order me hone chahiye the na"
   ]
  },
  {
   "cell_type": "markdown",
   "metadata": {},
   "source": [
    "We can use this information to create an optimizer:"
   ]
  },
  {
   "cell_type": "code",
   "execution_count": 137,
   "metadata": {},
   "outputs": [],
   "source": [
    "class BasicOptim:\n",
    "    def __init__(self,params,lr): self.params,self.lr = list(params),lr\n",
    "\n",
    "    def step(self, *args, **kwargs):\n",
    "        for p in self.params: p.data -= p.grad.data * self.lr\n",
    "\n",
    "    def zero_grad(self, *args, **kwargs):\n",
    "        for p in self.params: p.grad = None"
   ]
  },
  {
   "cell_type": "markdown",
   "metadata": {},
   "source": [
    "We can create our optimizer by passing in the model's parameters:"
   ]
  },
  {
   "cell_type": "markdown",
   "metadata": {},
   "source": [
    "#### linear model parameters me weights and biases aate hai"
   ]
  },
  {
   "cell_type": "code",
   "execution_count": 138,
   "metadata": {},
   "outputs": [],
   "source": [
    "opt = BasicOptim(linear_model.parameters(), lr)"
   ]
  },
  {
   "cell_type": "markdown",
   "metadata": {},
   "source": [
    "Our training loop can now be simplified to:"
   ]
  },
  {
   "cell_type": "markdown",
   "metadata": {},
   "source": [
    "### okay ?!"
   ]
  },
  {
   "cell_type": "code",
   "execution_count": 139,
   "metadata": {},
   "outputs": [],
   "source": [
    "def train_epoch(model):\n",
    "    for xb,yb in dl:\n",
    "        calc_grad(xb, yb, model)\n",
    "        opt.step()\n",
    "        opt.zero_grad()"
   ]
  },
  {
   "cell_type": "markdown",
   "metadata": {},
   "source": [
    "Our validation function doesn't need to change at all:"
   ]
  },
  {
   "cell_type": "code",
   "execution_count": 140,
   "metadata": {},
   "outputs": [
    {
     "data": {
      "text/plain": [
       "0.3905"
      ]
     },
     "execution_count": 140,
     "metadata": {},
     "output_type": "execute_result"
    }
   ],
   "source": [
    "validate_epoch(linear_model)"
   ]
  },
  {
   "cell_type": "markdown",
   "metadata": {},
   "source": [
    "Let's put our little training loop in a function, to make things simpler:"
   ]
  },
  {
   "cell_type": "code",
   "execution_count": 141,
   "metadata": {},
   "outputs": [],
   "source": [
    "def train_model(model, epochs):\n",
    "    for i in range(epochs):\n",
    "        train_epoch(model)\n",
    "        print(validate_epoch(model), end=' ')"
   ]
  },
  {
   "cell_type": "markdown",
   "metadata": {},
   "source": [
    "The results are the same as in the previous section:"
   ]
  },
  {
   "cell_type": "code",
   "execution_count": 142,
   "metadata": {},
   "outputs": [
    {
     "name": "stdout",
     "output_type": "stream",
     "text": [
      "0.4932 0.8081 0.8408 0.9116 0.9355 0.9482 0.9561 0.9619 0.9658 0.9673 0.9697 0.9717 0.9736 0.9746 0.9756 0.9771 0.9775 0.978 0.9785 0.9785 "
     ]
    }
   ],
   "source": [
    "train_model(linear_model, 20)"
   ]
  },
  {
   "cell_type": "markdown",
   "metadata": {},
   "source": [
    "fastai provides the **`SGD` class which, by default, does the same thing as our `BasicOptim`:**"
   ]
  },
  {
   "cell_type": "code",
   "execution_count": 143,
   "metadata": {},
   "outputs": [
    {
     "name": "stdout",
     "output_type": "stream",
     "text": [
      "0.4932 0.7905 0.8511 0.9155 0.9336 0.9482 0.9555 0.9629 0.9658 0.9673 0.9697 0.9717 0.9731 0.9746 0.9761 0.9766 0.9775 0.9775 0.978 0.979 "
     ]
    }
   ],
   "source": [
    "linear_model = nn.Linear(28*28,1)\n",
    "opt = SGD(linear_model.parameters(), lr)\n",
    "train_model(linear_model, 20)"
   ]
  },
  {
   "cell_type": "markdown",
   "metadata": {},
   "source": [
    "# ABHI TAK KAHA GAYE THE YE SAB!!!!!!!!"
   ]
  },
  {
   "cell_type": "markdown",
   "metadata": {},
   "source": [
    "### **fastai also provides `Learner.fit`, which we can use instead of `train_model`. To create a `Learner` we first need to create a `DataLoaders`, by passing in our training and validation `DataLoaders`**"
   ]
  },
  {
   "cell_type": "code",
   "execution_count": 144,
   "metadata": {},
   "outputs": [],
   "source": [
    "# as above\n",
    "# dset = list(zip(train_x,train_y))\n",
    "# dl = DataLoader(dset, batch_size=256)\n",
    "# xb,yb = first(dl)\n",
    "# xb.shape,yb.shape"
   ]
  },
  {
   "cell_type": "markdown",
   "metadata": {},
   "source": [
    "# OPOPOPOPOPOPOP!!!!!"
   ]
  },
  {
   "cell_type": "code",
   "execution_count": 145,
   "metadata": {},
   "outputs": [],
   "source": [
    "dls = DataLoaders(dl, valid_dl)"
   ]
  },
  {
   "cell_type": "markdown",
   "metadata": {},
   "source": [
    "To create a `Learner` without using an application (such as `cnn_learner`) we need to pass in all the elements that we've created in this chapter: the `DataLoaders`, the model, the optimization function (which will be passed the parameters), the loss function, and optionally any metrics to print:"
   ]
  },
  {
   "cell_type": "code",
   "execution_count": 146,
   "metadata": {},
   "outputs": [],
   "source": [
    "learn = Learner(dls, nn.Linear(28*28,1), opt_func=SGD,\n",
    "                loss_func=mnist_loss, metrics=batch_accuracy)"
   ]
  },
  {
   "cell_type": "markdown",
   "metadata": {},
   "source": [
    "Now we can call `fit`:"
   ]
  },
  {
   "cell_type": "code",
   "execution_count": 147,
   "metadata": {},
   "outputs": [
    {
     "data": {
      "text/html": [
       "<table border=\"1\" class=\"dataframe\">\n",
       "  <thead>\n",
       "    <tr style=\"text-align: left;\">\n",
       "      <th>epoch</th>\n",
       "      <th>train_loss</th>\n",
       "      <th>valid_loss</th>\n",
       "      <th>batch_accuracy</th>\n",
       "      <th>time</th>\n",
       "    </tr>\n",
       "  </thead>\n",
       "  <tbody>\n",
       "    <tr>\n",
       "      <td>0</td>\n",
       "      <td>0.637194</td>\n",
       "      <td>0.503052</td>\n",
       "      <td>0.495584</td>\n",
       "      <td>00:00</td>\n",
       "    </tr>\n",
       "    <tr>\n",
       "      <td>1</td>\n",
       "      <td>0.417111</td>\n",
       "      <td>0.252991</td>\n",
       "      <td>0.769872</td>\n",
       "      <td>00:00</td>\n",
       "    </tr>\n",
       "    <tr>\n",
       "      <td>2</td>\n",
       "      <td>0.157354</td>\n",
       "      <td>0.162578</td>\n",
       "      <td>0.856232</td>\n",
       "      <td>00:00</td>\n",
       "    </tr>\n",
       "    <tr>\n",
       "      <td>3</td>\n",
       "      <td>0.071460</td>\n",
       "      <td>0.100645</td>\n",
       "      <td>0.915113</td>\n",
       "      <td>00:00</td>\n",
       "    </tr>\n",
       "    <tr>\n",
       "      <td>4</td>\n",
       "      <td>0.039626</td>\n",
       "      <td>0.074953</td>\n",
       "      <td>0.934249</td>\n",
       "      <td>00:00</td>\n",
       "    </tr>\n",
       "    <tr>\n",
       "      <td>5</td>\n",
       "      <td>0.027042</td>\n",
       "      <td>0.060681</td>\n",
       "      <td>0.949951</td>\n",
       "      <td>00:00</td>\n",
       "    </tr>\n",
       "    <tr>\n",
       "      <td>6</td>\n",
       "      <td>0.021779</td>\n",
       "      <td>0.051685</td>\n",
       "      <td>0.955348</td>\n",
       "      <td>00:00</td>\n",
       "    </tr>\n",
       "    <tr>\n",
       "      <td>7</td>\n",
       "      <td>0.019378</td>\n",
       "      <td>0.045652</td>\n",
       "      <td>0.963199</td>\n",
       "      <td>00:00</td>\n",
       "    </tr>\n",
       "    <tr>\n",
       "      <td>8</td>\n",
       "      <td>0.018117</td>\n",
       "      <td>0.041378</td>\n",
       "      <td>0.965653</td>\n",
       "      <td>00:00</td>\n",
       "    </tr>\n",
       "    <tr>\n",
       "      <td>9</td>\n",
       "      <td>0.017333</td>\n",
       "      <td>0.038207</td>\n",
       "      <td>0.968106</td>\n",
       "      <td>00:00</td>\n",
       "    </tr>\n",
       "  </tbody>\n",
       "</table>"
      ],
      "text/plain": [
       "<IPython.core.display.HTML object>"
      ]
     },
     "metadata": {},
     "output_type": "display_data"
    }
   ],
   "source": [
    "learn.fit(10, lr=lr)"
   ]
  },
  {
   "cell_type": "markdown",
   "metadata": {},
   "source": [
    "As you can see, there's nothing magic about the PyTorch and fastai classes. They are just convenient pre-packaged pieces that make your life a bit easier! (They also provide a lot of extra functionality we'll be using in future chapters.)\n",
    "\n",
    "With these classes, we can now replace our linear model with a neural network."
   ]
  },
  {
   "cell_type": "markdown",
   "metadata": {},
   "source": [
    "## Adding a Nonlinearity"
   ]
  },
  {
   "cell_type": "markdown",
   "metadata": {},
   "source": [
    "So far we have a general procedure for optimizing the parameters of a function, and we have tried it out on a **very boring function: a simple linear classifier. A linear classifier is very constrained in terms of what it can do. To make it a bit more complex (and able to handle more tasks), we need to add something nonlinear between two linear classifiers—this is what gives us a neural network.**\n",
    "\n",
    "Here is the entire definition of a basic neural network:"
   ]
  },
  {
   "cell_type": "code",
   "execution_count": 148,
   "metadata": {},
   "outputs": [],
   "source": [
    "def simple_net(xb): \n",
    "    res = xb@w1 + b1\n",
    "    res = res.max(tensor(0.0)) #replace every negative number by a zero! how?!\n",
    "    res = res@w2 + b2\n",
    "    return res"
   ]
  },
  {
   "cell_type": "markdown",
   "metadata": {},
   "source": [
    "That's it! All we have in `simple_net` is two linear classifiers with a `max` function between them.\n",
    "\n",
    "Here, `w1` and `w2` are weight tensors, and `b1` and `b2` are bias tensors; that is, parameters that are initially randomly initialized, just like we did in the previous section:"
   ]
  },
  {
   "cell_type": "code",
   "execution_count": 149,
   "metadata": {},
   "outputs": [],
   "source": [
    "w1 = init_params((28*28,30))\n",
    "b1 = init_params(30)\n",
    "w2 = init_params((30,1))\n",
    "b2 = init_params(1)"
   ]
  },
  {
   "cell_type": "markdown",
   "metadata": {},
   "source": [
    "**The key point about this is that `w1` has 30 output activations (which means that `w2` must have 30 input activations, so they match). That means that the first layer can construct 30 different features, each representing some different mix of pixels. You can change that `30` to anything you like, to make the model more or less complex.**\n",
    "\n",
    "**That little function `res.max(tensor(0.0))` is called a *rectified linear unit*, also known as *ReLU*.** We think we can all agree that *rectified linear unit* sounds pretty fancy and complicated... But actually, there's nothing more to it than **`res.max(tensor(0.0))`—in other words, replace every negative number with a zero.** This tiny function is also available in PyTorch as `F.relu`:"
   ]
  },
  {
   "cell_type": "code",
   "execution_count": 150,
   "metadata": {},
   "outputs": [
    {
     "data": {
      "image/png": "[encoded data removed]",
      "text/plain": [
       "<Figure size 432x288 with 1 Axes>"
      ]
     },
     "metadata": {
      "needs_background": "light"
     },
     "output_type": "display_data"
    }
   ],
   "source": [
    "plot_function(F.relu)"
   ]
  },
  {
   "cell_type": "markdown",
   "metadata": {},
   "source": [
    "> J: There is an enormous amount of jargon in deep learning, including terms like _rectified linear unit_. The vast vast majority of this jargon is no more complicated than can be implemented in a short line of code, as we saw in this example. **The reality is that for academics to get their papers published they need to make them sound as impressive and sophisticated as possible. One of the ways that they do that is to introduce jargon. Unfortunately, this has the result that the field ends up becoming far more intimidating and difficult to get into than it should be.** You do have to learn the jargon, because otherwise papers and tutorials are not going to mean much to you. But that doesn't mean you have to find the jargon intimidating. **Just remember, when you come across a word or phrase that you haven't seen before, it will almost certainly turn out to be referring to a very simple concept.** \n",
    "#### haha niceee"
   ]
  },
  {
   "cell_type": "markdown",
   "metadata": {},
   "source": [
    "**The basic idea is that by using more linear layers, we can have our model do more computation, and therefore model more complex functions. But there's no point just putting one linear layer directly after another one,** because when we multiply things together and then add them up multiple times, that could be replaced by multiplying different things together and adding them up just once! That is to say, **a series of any number of linear layers in a row can be replaced with a single linear layer with a different set of parameters.**\n",
    "\n",
    "But if we put a nonlinear function between them, such as `max`, then this is no longer true. Now each linear layer is actually somewhat decoupled from the other ones, and can do its own useful work. **The `max` function is particularly interesting, because it operates as a simple `if` statement.**"
   ]
  },
  {
   "cell_type": "markdown",
   "metadata": {},
   "source": [
    "#### exactly, this is what it says\n",
    "> S: Mathematically, we say the composition of two linear functions is another linear function. So, we can stack as many linear classifiers as we want on top of each other, and without nonlinear functions between them, it will just be the same as one linear classifier."
   ]
  },
  {
   "cell_type": "markdown",
   "metadata": {},
   "source": [
    "**Amazingly enough, it can be mathematically proven that this little function can solve any computable problem to an arbitrarily high level of accuracy, if you can find the right parameters for `w1` and `w2` and if you make these matrices big enough.** For any arbitrarily wiggly function, we can approximate it as a bunch of lines joined together; to make it closer to the wiggly function, we just have to use shorter lines. This is known as the *universal approximation theorem*. The three lines of code that we have here are known as *layers*. The first and third are known as *linear layers*, and the second line of code is known variously as a *nonlinearity*, or *activation function*.\n",
    "\n",
    "Just like in the previous section, we can replace this code with something a bit simpler, by taking advantage of PyTorch:"
   ]
  },
  {
   "cell_type": "code",
   "execution_count": 151,
   "metadata": {},
   "outputs": [],
   "source": [
    "simple_net = nn.Sequential(\n",
    "    nn.Linear(28*28,30),\n",
    "    nn.ReLU(),\n",
    "    nn.Linear(30,1)\n",
    ")"
   ]
  },
  {
   "cell_type": "markdown",
   "metadata": {},
   "source": [
    "**`nn.Sequential` creates a module that will call each of the listed layers or functions in turn.**\n",
    "\n",
    "**`nn.ReLU` is a PyTorch module that does exactly the same thing as the `F.relu` function.** Most functions that can appear in a model also have identical forms that are modules. **Generally, it's just a case of replacing `F` with `nn` and changing the capitalization.** When using `nn.Sequential`, PyTorch requires us to use the module version. Since modules are classes, we have to instantiate(matlab show by example) them, which is why you see `nn.ReLU()` in this example. \n",
    "\n",
    "Because `nn.Sequential` is a module, we can get its parameters, which will return a list of all the parameters of all the modules it contains. Let's try it out! As this is a deeper model, we'll use a lower learning rate and a few more epochs."
   ]
  },
  {
   "cell_type": "code",
   "execution_count": 152,
   "metadata": {},
   "outputs": [],
   "source": [
    "learn = Learner(dls, simple_net, opt_func=SGD,\n",
    "                loss_func=mnist_loss, metrics=batch_accuracy)"
   ]
  },
  {
   "cell_type": "markdown",
   "metadata": {},
   "source": [
    "## iske liye, just as summary"
   ]
  },
  {
   "cell_type": "markdown",
   "metadata": {},
   "source": [
    "#### FOR dls"
   ]
  },
  {
   "cell_type": "code",
   "execution_count": 153,
   "metadata": {},
   "outputs": [],
   "source": [
    "# dset = list(zip(train_x,train_y))\n",
    "# dl = DataLoader(dset, batch_size=256)\n",
    "# dls = DataLoaders(dl, valid_dl)"
   ]
  },
  {
   "cell_type": "markdown",
   "metadata": {},
   "source": [
    "#### for simple net"
   ]
  },
  {
   "cell_type": "code",
   "execution_count": 154,
   "metadata": {},
   "outputs": [],
   "source": [
    "# simple_net = nn.Sequential(\n",
    "#     nn.Linear(28*28,30),\n",
    "#     nn.ReLU(),\n",
    "#     nn.Linear(30,1)\n",
    "# )"
   ]
  },
  {
   "cell_type": "markdown",
   "metadata": {},
   "source": [
    "#### for SGD"
   ]
  },
  {
   "cell_type": "code",
   "execution_count": 155,
   "metadata": {},
   "outputs": [],
   "source": [
    "# class BasicOptim:\n",
    "#     def __init__(self,params,lr): self.params,self.lr = list(params),lr\n",
    "\n",
    "#     def step(self, *args, **kwargs):\n",
    "#         for p in self.params: p.data -= p.grad.data * self.lr\n",
    "\n",
    "#     def zero_grad(self, *args, **kwargs):\n",
    "#         for p in self.params: p.grad = None\n",
    "\n",
    "# opt = BasicOptim(linear_model.parameters(), lr) \n",
    "# w,b = linear_model.parameters()\n",
    "#linear model to be replaced by simple_net I think\n",
    "#BasicOptim works the same as SGD, it is the same\n",
    "\n",
    "#opt = SGD(linear_model.parameters(), lr)\n",
    "#opt = BasicOptim(linear_model.parameters(), lr)"
   ]
  },
  {
   "cell_type": "markdown",
   "metadata": {},
   "source": [
    "#### for mnist_loss\n",
    "## doubt ki preds kaha se aaye final model me"
   ]
  },
  {
   "cell_type": "code",
   "execution_count": 156,
   "metadata": {},
   "outputs": [],
   "source": [
    "# def mnist_loss(predictions, targets):\n",
    "#     predictions = predictions.sigmoid()\n",
    "#     return torch.where(targets==1, 1-predictions, predictions).mean()\n",
    "\n",
    "# remember ki target=1 is 3 and target=0 is 7\n",
    "# preds = linear1(batch) #how predictions look and are formed\n",
    "# batch = train_x[:4]\n",
    "# def linear1(xb): return xb@weights + bias\n",
    "# preds = linear1(train_x)\n",
    "\n",
    "\n",
    "# yaha sirf linear ka example liya tha, to apne example me simple_net lenge kya? "
   ]
  },
  {
   "cell_type": "markdown",
   "metadata": {},
   "source": [
    "#### for batch accuracy"
   ]
  },
  {
   "cell_type": "code",
   "execution_count": 157,
   "metadata": {},
   "outputs": [],
   "source": [
    "# def batch_accuracy(xb, yb):\n",
    "#     preds = xb.sigmoid()\n",
    "#     correct = (preds>0.5) == yb\n",
    "#     return correct.float().mean()"
   ]
  },
  {
   "cell_type": "code",
   "execution_count": 158,
   "metadata": {
    "scrolled": false
   },
   "outputs": [
    {
     "data": {
      "text/html": [
       "<table border=\"1\" class=\"dataframe\">\n",
       "  <thead>\n",
       "    <tr style=\"text-align: left;\">\n",
       "      <th>epoch</th>\n",
       "      <th>train_loss</th>\n",
       "      <th>valid_loss</th>\n",
       "      <th>batch_accuracy</th>\n",
       "      <th>time</th>\n",
       "    </tr>\n",
       "  </thead>\n",
       "  <tbody>\n",
       "    <tr>\n",
       "      <td>0</td>\n",
       "      <td>0.269239</td>\n",
       "      <td>0.415576</td>\n",
       "      <td>0.504907</td>\n",
       "      <td>00:00</td>\n",
       "    </tr>\n",
       "    <tr>\n",
       "      <td>1</td>\n",
       "      <td>0.132732</td>\n",
       "      <td>0.215948</td>\n",
       "      <td>0.819921</td>\n",
       "      <td>00:00</td>\n",
       "    </tr>\n",
       "    <tr>\n",
       "      <td>2</td>\n",
       "      <td>0.076132</td>\n",
       "      <td>0.112346</td>\n",
       "      <td>0.916585</td>\n",
       "      <td>00:00</td>\n",
       "    </tr>\n",
       "    <tr>\n",
       "      <td>3</td>\n",
       "      <td>0.051601</td>\n",
       "      <td>0.077263</td>\n",
       "      <td>0.940137</td>\n",
       "      <td>00:00</td>\n",
       "    </tr>\n",
       "    <tr>\n",
       "      <td>4</td>\n",
       "      <td>0.039955</td>\n",
       "      <td>0.060884</td>\n",
       "      <td>0.954858</td>\n",
       "      <td>00:00</td>\n",
       "    </tr>\n",
       "    <tr>\n",
       "      <td>5</td>\n",
       "      <td>0.033841</td>\n",
       "      <td>0.051561</td>\n",
       "      <td>0.962709</td>\n",
       "      <td>00:00</td>\n",
       "    </tr>\n",
       "    <tr>\n",
       "      <td>6</td>\n",
       "      <td>0.030229</td>\n",
       "      <td>0.045624</td>\n",
       "      <td>0.965653</td>\n",
       "      <td>00:00</td>\n",
       "    </tr>\n",
       "    <tr>\n",
       "      <td>7</td>\n",
       "      <td>0.027828</td>\n",
       "      <td>0.041541</td>\n",
       "      <td>0.966634</td>\n",
       "      <td>00:00</td>\n",
       "    </tr>\n",
       "    <tr>\n",
       "      <td>8</td>\n",
       "      <td>0.026070</td>\n",
       "      <td>0.038556</td>\n",
       "      <td>0.967125</td>\n",
       "      <td>00:00</td>\n",
       "    </tr>\n",
       "    <tr>\n",
       "      <td>9</td>\n",
       "      <td>0.024696</td>\n",
       "      <td>0.036266</td>\n",
       "      <td>0.968106</td>\n",
       "      <td>00:00</td>\n",
       "    </tr>\n",
       "    <tr>\n",
       "      <td>10</td>\n",
       "      <td>0.023577</td>\n",
       "      <td>0.034440</td>\n",
       "      <td>0.971050</td>\n",
       "      <td>00:00</td>\n",
       "    </tr>\n",
       "    <tr>\n",
       "      <td>11</td>\n",
       "      <td>0.022639</td>\n",
       "      <td>0.032940</td>\n",
       "      <td>0.972031</td>\n",
       "      <td>00:00</td>\n",
       "    </tr>\n",
       "    <tr>\n",
       "      <td>12</td>\n",
       "      <td>0.021839</td>\n",
       "      <td>0.031676</td>\n",
       "      <td>0.973994</td>\n",
       "      <td>00:00</td>\n",
       "    </tr>\n",
       "    <tr>\n",
       "      <td>13</td>\n",
       "      <td>0.021146</td>\n",
       "      <td>0.030591</td>\n",
       "      <td>0.973994</td>\n",
       "      <td>00:00</td>\n",
       "    </tr>\n",
       "    <tr>\n",
       "      <td>14</td>\n",
       "      <td>0.020539</td>\n",
       "      <td>0.029643</td>\n",
       "      <td>0.975466</td>\n",
       "      <td>00:00</td>\n",
       "    </tr>\n",
       "    <tr>\n",
       "      <td>15</td>\n",
       "      <td>0.020000</td>\n",
       "      <td>0.028807</td>\n",
       "      <td>0.975957</td>\n",
       "      <td>00:00</td>\n",
       "    </tr>\n",
       "    <tr>\n",
       "      <td>16</td>\n",
       "      <td>0.019518</td>\n",
       "      <td>0.028063</td>\n",
       "      <td>0.976448</td>\n",
       "      <td>00:00</td>\n",
       "    </tr>\n",
       "    <tr>\n",
       "      <td>17</td>\n",
       "      <td>0.019084</td>\n",
       "      <td>0.027396</td>\n",
       "      <td>0.976938</td>\n",
       "      <td>00:00</td>\n",
       "    </tr>\n",
       "    <tr>\n",
       "      <td>18</td>\n",
       "      <td>0.018688</td>\n",
       "      <td>0.026795</td>\n",
       "      <td>0.977920</td>\n",
       "      <td>00:00</td>\n",
       "    </tr>\n",
       "    <tr>\n",
       "      <td>19</td>\n",
       "      <td>0.018327</td>\n",
       "      <td>0.026249</td>\n",
       "      <td>0.978901</td>\n",
       "      <td>00:00</td>\n",
       "    </tr>\n",
       "    <tr>\n",
       "      <td>20</td>\n",
       "      <td>0.017994</td>\n",
       "      <td>0.025752</td>\n",
       "      <td>0.978901</td>\n",
       "      <td>00:00</td>\n",
       "    </tr>\n",
       "    <tr>\n",
       "      <td>21</td>\n",
       "      <td>0.017687</td>\n",
       "      <td>0.025297</td>\n",
       "      <td>0.979882</td>\n",
       "      <td>00:00</td>\n",
       "    </tr>\n",
       "    <tr>\n",
       "      <td>22</td>\n",
       "      <td>0.017402</td>\n",
       "      <td>0.024879</td>\n",
       "      <td>0.979882</td>\n",
       "      <td>00:00</td>\n",
       "    </tr>\n",
       "    <tr>\n",
       "      <td>23</td>\n",
       "      <td>0.017135</td>\n",
       "      <td>0.024493</td>\n",
       "      <td>0.980373</td>\n",
       "      <td>00:00</td>\n",
       "    </tr>\n",
       "    <tr>\n",
       "      <td>24</td>\n",
       "      <td>0.016886</td>\n",
       "      <td>0.024136</td>\n",
       "      <td>0.980373</td>\n",
       "      <td>00:00</td>\n",
       "    </tr>\n",
       "    <tr>\n",
       "      <td>25</td>\n",
       "      <td>0.016652</td>\n",
       "      <td>0.023804</td>\n",
       "      <td>0.980864</td>\n",
       "      <td>00:00</td>\n",
       "    </tr>\n",
       "    <tr>\n",
       "      <td>26</td>\n",
       "      <td>0.016431</td>\n",
       "      <td>0.023496</td>\n",
       "      <td>0.981354</td>\n",
       "      <td>00:00</td>\n",
       "    </tr>\n",
       "    <tr>\n",
       "      <td>27</td>\n",
       "      <td>0.016222</td>\n",
       "      <td>0.023210</td>\n",
       "      <td>0.981354</td>\n",
       "      <td>00:00</td>\n",
       "    </tr>\n",
       "    <tr>\n",
       "      <td>28</td>\n",
       "      <td>0.016024</td>\n",
       "      <td>0.022943</td>\n",
       "      <td>0.981845</td>\n",
       "      <td>00:00</td>\n",
       "    </tr>\n",
       "    <tr>\n",
       "      <td>29</td>\n",
       "      <td>0.015836</td>\n",
       "      <td>0.022694</td>\n",
       "      <td>0.981845</td>\n",
       "      <td>00:00</td>\n",
       "    </tr>\n",
       "    <tr>\n",
       "      <td>30</td>\n",
       "      <td>0.015657</td>\n",
       "      <td>0.022461</td>\n",
       "      <td>0.981845</td>\n",
       "      <td>00:00</td>\n",
       "    </tr>\n",
       "    <tr>\n",
       "      <td>31</td>\n",
       "      <td>0.015486</td>\n",
       "      <td>0.022243</td>\n",
       "      <td>0.982336</td>\n",
       "      <td>00:00</td>\n",
       "    </tr>\n",
       "    <tr>\n",
       "      <td>32</td>\n",
       "      <td>0.015323</td>\n",
       "      <td>0.022039</td>\n",
       "      <td>0.982826</td>\n",
       "      <td>00:00</td>\n",
       "    </tr>\n",
       "    <tr>\n",
       "      <td>33</td>\n",
       "      <td>0.015167</td>\n",
       "      <td>0.021848</td>\n",
       "      <td>0.982826</td>\n",
       "      <td>00:00</td>\n",
       "    </tr>\n",
       "    <tr>\n",
       "      <td>34</td>\n",
       "      <td>0.015018</td>\n",
       "      <td>0.021668</td>\n",
       "      <td>0.982826</td>\n",
       "      <td>00:00</td>\n",
       "    </tr>\n",
       "    <tr>\n",
       "      <td>35</td>\n",
       "      <td>0.014874</td>\n",
       "      <td>0.021499</td>\n",
       "      <td>0.982826</td>\n",
       "      <td>00:00</td>\n",
       "    </tr>\n",
       "    <tr>\n",
       "      <td>36</td>\n",
       "      <td>0.014736</td>\n",
       "      <td>0.021339</td>\n",
       "      <td>0.982336</td>\n",
       "      <td>00:00</td>\n",
       "    </tr>\n",
       "    <tr>\n",
       "      <td>37</td>\n",
       "      <td>0.014604</td>\n",
       "      <td>0.021188</td>\n",
       "      <td>0.982336</td>\n",
       "      <td>00:00</td>\n",
       "    </tr>\n",
       "    <tr>\n",
       "      <td>38</td>\n",
       "      <td>0.014476</td>\n",
       "      <td>0.021045</td>\n",
       "      <td>0.982336</td>\n",
       "      <td>00:00</td>\n",
       "    </tr>\n",
       "    <tr>\n",
       "      <td>39</td>\n",
       "      <td>0.014352</td>\n",
       "      <td>0.020909</td>\n",
       "      <td>0.982336</td>\n",
       "      <td>00:00</td>\n",
       "    </tr>\n",
       "  </tbody>\n",
       "</table>"
      ],
      "text/plain": [
       "<IPython.core.display.HTML object>"
      ]
     },
     "metadata": {},
     "output_type": "display_data"
    }
   ],
   "source": [
    "#hide_output\n",
    "learn.fit(40, 0.1)"
   ]
  },
  {
   "cell_type": "markdown",
   "metadata": {},
   "source": [
    "We're not showing the 40 lines of output here to save room; the training process is recorded in `learn.recorder`, with the table of output stored in the `values` attribute, so we can plot the accuracy over training as:"
   ]
  },
  {
   "cell_type": "code",
   "execution_count": 159,
   "metadata": {},
   "outputs": [
    {
     "data": {
      "image/png": "[encoded data removed]",
      "text/plain": [
       "<Figure size 432x288 with 1 Axes>"
      ]
     },
     "metadata": {
      "needs_background": "light"
     },
     "output_type": "display_data"
    }
   ],
   "source": [
    "plt.plot(L(learn.recorder.values).itemgot(2));"
   ]
  },
  {
   "cell_type": "markdown",
   "metadata": {},
   "source": [
    "And we can view the final accuracy:"
   ]
  },
  {
   "cell_type": "code",
   "execution_count": 161,
   "metadata": {},
   "outputs": [
    {
     "data": {
      "text/plain": [
       "(0.98233562707901,\n",
       " (#3) [0.01435244083404541,0.020909365266561508,0.98233562707901])"
      ]
     },
     "execution_count": 161,
     "metadata": {},
     "output_type": "execute_result"
    }
   ],
   "source": [
    "learn.recorder.values[-1][2], learn.recorder.values[-1]"
   ]
  },
  {
   "cell_type": "markdown",
   "metadata": {},
   "source": [
    "**At this point we have something that is rather magical:**\n",
    "\n",
    "**1. A function that can solve any problem to any level of accuracy (the neural network) given the correct set of parameters**\n",
    "**1. A way to find the best set of parameters for any function (stochastic gradient descent)**\n",
    "\n",
    "**This is why deep learning can do things which seem rather magical, such fantastic things. Believing that this combination of simple techniques can really solve any problem is one of the biggest steps that we find many students have to take. It seems too good to be true—surely things should be more difficult and complicated than this? Our recommendation: try it out! We just tried it on the MNIST dataset and you have seen the results. And since we are doing everything from scratch ourselves (except for calculating the gradients) you know that there is no special magic hiding behind the scenes.**"
   ]
  },
  {
   "cell_type": "markdown",
   "metadata": {},
   "source": [
    "### Going Deeper"
   ]
  },
  {
   "cell_type": "markdown",
   "metadata": {},
   "source": [
    "There is no need to stop at just two linear layers. We can add as many as we want, as long as we add a nonlinearity between each pair of linear layers. As you will learn, however, the deeper the model gets, the harder it is to optimize the parameters in practice. Later in this book you will learn about some simple but brilliantly effective techniques for training deeper models.\n",
    "\n",
    "**We already know that a single nonlinearity with two linear layers is enough to approximate any function. So why would we use deeper models? The reason is performance. With a deeper model (that is, one with more layers) we do not need to use as many parameters; it turns out that we can use smaller matrices with more layers, and get better results than we would get with larger matrices, and few layers.**\n",
    "\n",
    "That means that we can train the model more quickly, and it will take up less memory. In the 1990s researchers were so focused on the universal approximation theorem that very few were experimenting with more than one nonlinearity. This theoretical but not practical foundation held back the field for years. Some researchers, however, did experiment with deep models, and eventually were able to show that these models could perform much better in practice. Eventually, theoretical results were developed which showed why this happens. **Today, it is extremely unusual to find anybody using a neural network with just one nonlinearity.**\n",
    "\n",
    "Here what happens when we train an 18-layer model using the same approach we saw in <<chapter_intro>>:"
   ]
  },
  {
   "cell_type": "code",
   "execution_count": 163,
   "metadata": {},
   "outputs": [
    {
     "data": {
      "text/plain": [
       "Path('MNIST_Basics_Data/mnist_sample')"
      ]
     },
     "execution_count": 163,
     "metadata": {},
     "output_type": "execute_result"
    }
   ],
   "source": [
    "path"
   ]
  },
  {
   "cell_type": "code",
   "execution_count": 162,
   "metadata": {},
   "outputs": [
    {
     "data": {
      "text/html": [
       "<table border=\"1\" class=\"dataframe\">\n",
       "  <thead>\n",
       "    <tr style=\"text-align: left;\">\n",
       "      <th>epoch</th>\n",
       "      <th>train_loss</th>\n",
       "      <th>valid_loss</th>\n",
       "      <th>accuracy</th>\n",
       "      <th>time</th>\n",
       "    </tr>\n",
       "  </thead>\n",
       "  <tbody>\n",
       "    <tr>\n",
       "      <td>0</td>\n",
       "      <td>0.156485</td>\n",
       "      <td>0.020939</td>\n",
       "      <td>0.996565</td>\n",
       "      <td>00:20</td>\n",
       "    </tr>\n",
       "  </tbody>\n",
       "</table>"
      ],
      "text/plain": [
       "<IPython.core.display.HTML object>"
      ]
     },
     "metadata": {},
     "output_type": "display_data"
    }
   ],
   "source": [
    "dls = ImageDataLoaders.from_folder(path)\n",
    "learn = cnn_learner(dls, resnet18, pretrained=False,\n",
    "                    loss_func=F.cross_entropy, metrics=accuracy)\n",
    "learn.fit_one_cycle(1, 0.1)"
   ]
  },
  {
   "cell_type": "markdown",
   "metadata": {},
   "source": [
    "Nearly 100% accuracy! That's a big difference compared to our simple neural net. But as you'll learn in the remainder of this book, there are just a few little tricks you need to use to get such great results from scratch yourself. You already know the key foundational pieces. (Of course, even once you know all the tricks, you'll nearly always want to work with the pre-built classes provided by PyTorch and fastai, because they save you having to think about all the little details yourself.)"
   ]
  },
  {
   "cell_type": "markdown",
   "metadata": {},
   "source": [
    "## Jargon Recap"
   ]
  },
  {
   "cell_type": "markdown",
   "metadata": {},
   "source": [
    "Congratulations: you now know how to create and train a deep neural network from scratch! We've gone through quite a few steps to get to this point, but you might be surprised at how simple it really is.\n",
    "\n",
    "Now that we are at this point, it is a good opportunity to define, and review, some jargon and key concepts.\n",
    "\n",
    "**A neural network contains a lot of numbers, but they are only of two types: numbers that are calculated, and the parameters that these numbers are calculated from.** This gives us the two most important pieces of jargon to learn:\n",
    "\n",
    "- **Activations:: Numbers that are calculated (both by linear and nonlinear layers)**\n",
    "**Parameters:: Numbers that are randomly initialized, and optimized (that is, the numbers that define the model)**\n",
    "\n",
    "We will often talk in this book about activations and parameters. Remember that they have very specific meanings. They are numbers. They are not abstract concepts, but they are actual specific numbers that are in your model. Part of becoming a good deep learning practitioner is getting used to the idea of actually looking at your activations and parameters, and plotting them and testing whether they are behaving correctly.\n",
    "\n",
    "Our activations and parameters are all contained in *tensors*. These are simply regularly shaped arrays—for example, a matrix. Matrices have rows and columns; we call these the *axes* or *dimensions*. The number of dimensions of a tensor is its *rank*. There are some special tensors:\n",
    "\n",
    "- Rank zero: scalar\n",
    "- Rank one: vector\n",
    "- Rank two: matrix\n",
    "\n",
    "A neural network contains a number of layers. Each layer is either *linear* or *nonlinear*. We generally alternate between these two kinds of layers in a neural network. Sometimes people refer to both a linear layer and its subsequent nonlinearity together as a single layer. Yes, this is confusing. **Sometimes a nonlinearity is referred to as an *activation function*.**\n",
    "\n",
    "<<dljargon1>> summarizes the key concepts related to SGD.\n",
    "\n",
    "```asciidoc\n",
    "[[dljargon1]]\n",
    ".Deep learning vocabulary\n",
    "[options=\"header\"]\n",
    "|=====\n",
    "| Term | Meaning\n",
    "|ReLU | Function that returns 0 for negative numbers and doesn't change positive numbers.\n",
    "|Mini-batch | A small group of inputs and labels gathered together in two arrays. A gradient descent step is updated on this batch (rather than a whole epoch).\n",
    "|Forward pass | Applying the model to some input and computing the predictions.\n",
    "|Loss | A value that represents how well (or badly) our model is doing.\n",
    "|Gradient | The derivative of the loss with respect to some parameter of the model.\n",
    "|Backward pass | Computing the gradients of the loss with respect to all model parameters.\n",
    "|Gradient descent | Taking a step in the directions opposite to the gradients to make the model parameters a little bit better.\n",
    "|Learning rate | The size of the step we take when applying SGD to update the parameters of the model.\n",
    "|=====\n",
    "```"
   ]
  },
  {
   "cell_type": "markdown",
   "metadata": {},
   "source": [
    "> note: _Choose Your Own Adventure_ Reminder: Did you choose to skip over chapters 2 & 3, in your excitement to peek under the hood? Well, here's your reminder to head back to chapter 2 now, because you'll be needing to know that stuff very soon!"
   ]
  },
  {
   "cell_type": "markdown",
   "metadata": {},
   "source": [
    "## Questionnaire"
   ]
  },
  {
   "cell_type": "markdown",
   "metadata": {},
   "source": [
    "1. How is a grayscale image represented on a computer? How about a color image?\n",
    "##### greyscale pata hai, color ka idea nahi hai\n",
    "1. How are the files and folders in the `MNIST_SAMPLE` dataset structured? Why?\n",
    "1. Explain how the \"pixel similarity\" approach to classifying digits works.\n",
    "1. What is a list comprehension? Create one now that selects odd numbers from a list and doubles them.\n",
    "##### done below\n",
    "1. What is a \"rank-3 tensor\"?\n",
    "1. What is the difference between tensor rank and shape? How do you get the rank from the shape?\n",
    "1. What are RMSE and L1 norm?\n",
    "1. How can you apply a calculation on thousands of numbers at once, many thousands of times faster than a Python loop?\n",
    "##### use numpy over python\n",
    "1. Create a 3×3 tensor or array containing the numbers from 1 to 9. Double it. Select the bottom-right four numbers.\n",
    "##### done below\n",
    "1. What is broadcasting?\n",
    "##### automatically expand the tensor with the smaller rank to have the same size as the one with the larger rank\n",
    "1. Are metrics generally calculated using the training set, or the validation set? Why?\n",
    "###### we want to calculate our metric over a validation set. This is so that we don't inadvertently overfit—that is, train a model to work well only on our training data. \n",
    "1. What is SGD?\n",
    "1. Why does SGD use mini-batches?\n",
    "1. What are the seven steps in SGD for machine learning?\n",
    "##### Initialize the weights.\n",
    "##### For each image, use these weights to predict whether it appears to be a 3 or a 7.\n",
    "##### Based on these predictions, calculate how good the model is (its loss).\n",
    "##### Calculate the gradient, which measures for each weight, how changing that weight would change the loss\n",
    "##### Step (that is, change) all the weights based on that calculation.\n",
    "##### Go back to the step 2, and repeat the process.\n",
    "##### Iterate until you decide to stop the training process (for instance, because the model is good enough or you don't want to wait any longer).\n",
    "1. How do we initialize the weights in a model?\n",
    "##### randomly\n",
    "1. What is \"loss\"? \n",
    "##### some function that will return a number that is small if the performance of the model is good\n",
    "1. Why can't we always use a high learning rate?\n",
    "1. What is a \"gradient\"?\n",
    "1. Do you need to know how to calculate gradients yourself?\n",
    "1. Why can't we use accuracy as a loss function?\n",
    "##### But accuracy only changes at all when a prediction changes from a 3 to a 7, or vice versa. The problem is that a small change in weights from x_old to x_new isn't likely to cause any prediction to change, so (y_new - y_old) will almost always be 0. In other words, the gradient is 0 almost everywhere.\n",
    "1. Draw the sigmoid function. What is special about its shape?\n",
    "1. What is the difference between a loss function and a metric?\n",
    "##### automated easyness vs human easyness\n",
    "1. What is the function to calculate new weights using a learning rate?\n",
    "##### p.data  -=  p.grad*lr\n",
    "1. What does the `DataLoader` class do?\n",
    "#####  a class that will do the shuffling and mini-batch collation for you, called DataLoader. can take any Python collection and turn it into an iterator over many batches, like so:\n",
    "1. Write pseudocode showing the basic steps taken in each epoch for SGD.\n",
    "##### done below\n",
    "1. Create a function that, if passed two arguments `[1,2,3,4]` and `'abcd'`, returns `[(1, 'a'), (2, 'b'), (3, 'c'), (4, 'd')]`. What is special about that output data structure?\n",
    "##### list zip, done below\n",
    "1. What does `view` do in PyTorch?\n",
    "##### reshape\n",
    "1. What are the \"bias\" parameters in a neural network? Why do we need them?\n",
    "#####  c in y = mx+ c. otherwise everything starts from  origin?!\n",
    "1. What does the `@` operator do in Python?\n",
    "##### matrix mul\n",
    "1. What does the `backward` method do?\n",
    "##### labels ki baad me derivative lagega\n",
    "1. Why do we have to zero the gradients?\n",
    "##### by default add to original karta hai\n",
    "1. What information do we have to pass to `Learner`?\n",
    "##### all parameters for learning i.e. dataset:dls, nerral network kaunsa: simple_net, how to run: opt_func=SGD;  loss_func=mnist_loss; metrics=batch_accuracy\n",
    "1. Show Python or pseudocode for the basic steps of a training loop.\n",
    "##### done below\n",
    "1. What is \"ReLU\"? Draw a plot of it for values from `-2` to `+2`.\n",
    "1. What is an \"activation function\"?\n",
    "##### jo bhi non linear layer hai\n",
    "1. What's the difference between `F.relu` and `nn.ReLU`?\n",
    "##### haha, none!\n",
    "1. The universal approximation theorem shows that any function can be approximated as closely as needed using just one nonlinearity. So why do we normally use more?\n",
    "#####  performance. With a deeper model (that is, one with more layers) we do not need to use as many parameters; it turns out that we can use smaller matrices with more layers, and get better results than we would get with larger matrices, and few layers."
   ]
  },
  {
   "cell_type": "code",
   "execution_count": 145,
   "metadata": {},
   "outputs": [
    {
     "data": {
      "text/plain": [
       "[2, 6, 10, 14, 18]"
      ]
     },
     "execution_count": 145,
     "metadata": {},
     "output_type": "execute_result"
    }
   ],
   "source": [
    "# for 3rd question\n",
    "a = [1,2,3,4,5,6,7,8,9,0]\n",
    "new = [2*i for i in a if i%2!=0]\n",
    "new"
   ]
  },
  {
   "cell_type": "code",
   "execution_count": 146,
   "metadata": {},
   "outputs": [
    {
     "data": {
      "text/plain": [
       "tensor([[10, 12],\n",
       "        [16, 18]])"
      ]
     },
     "execution_count": 146,
     "metadata": {},
     "output_type": "execute_result"
    }
   ],
   "source": [
    "# for 12th question\n",
    "b = [i for i in range(1,10)]\n",
    "b = tensor(b)\n",
    "b = b.view(3,3)\n",
    "b = b*2\n",
    "b[1:,1:]\n",
    "\n",
    "# all in one line\n",
    "c = (tensor([i for i in range(1,10)]).view(3,3)*2)[1:,1:]\n",
    "c\n"
   ]
  },
  {
   "cell_type": "code",
   "execution_count": 147,
   "metadata": {},
   "outputs": [],
   "source": [
    "##### for 25th question\n",
    "# 1. make simple neural network\n",
    "# 2. make the learner with all the parameters\n",
    "# 3. fit"
   ]
  },
  {
   "cell_type": "code",
   "execution_count": 148,
   "metadata": {},
   "outputs": [
    {
     "data": {
      "text/plain": [
       "[(1, 'a'), (2, 'b'), (3, 'c'), (4, 'd')]"
      ]
     },
     "execution_count": 148,
     "metadata": {},
     "output_type": "execute_result"
    }
   ],
   "source": [
    "# for 26th question\n",
    "list_1 = [1,2,3,4]\n",
    "list_2 = 'abcd' #not technically a list but works!\n",
    "d = list(zip(list_1, list_2))\n",
    "d"
   ]
  },
  {
   "cell_type": "code",
   "execution_count": 149,
   "metadata": {},
   "outputs": [],
   "source": [
    "# for 33rd question\n",
    "# for xb,yb in dl:\n",
    "#         calc_grad(xb, yb, model)\n",
    "#         for p in params:\n",
    "#             p.data -= p.grad*lr\n",
    "#             p.grad.zero_()"
   ]
  },
  {
   "cell_type": "markdown",
   "metadata": {},
   "source": [
    "### Further Research"
   ]
  },
  {
   "cell_type": "markdown",
   "metadata": {},
   "source": [
    "1. Create your own implementation of `Learner` from scratch, based on the training loop shown in this chapter.\n",
    "1. Complete all the steps in this chapter using the full MNIST datasets (that is, for all digits, not just 3s and 7s). This is a significant project and will take you quite a bit of time to complete! You'll need to do some of your own research to figure out how to overcome some obstacles you'll meet on the way."
   ]
  },
  {
   "cell_type": "markdown",
   "metadata": {},
   "source": [
    "# HAHA!"
   ]
  },
  {
   "cell_type": "code",
   "execution_count": null,
   "metadata": {},
   "outputs": [],
   "source": []
  }
 ],
 "metadata": {
  "jupytext": {
   "split_at_heading": true
  },
  "kernelspec": {
   "display_name": "Python 3",
   "language": "python",
   "name": "python3"
  },
  "language_info": {
   "codemirror_mode": {
    "name": "ipython",
    "version": 3
   },
   "file_extension": ".py",
   "mimetype": "text/x-python",
   "name": "python",
   "nbconvert_exporter": "python",
   "pygments_lexer": "ipython3",
   "version": "3.8.11"
  }
 },
 "nbformat": 4,
 "nbformat_minor": 4
}
